{
 "cells": [
  {
   "cell_type": "code",
   "execution_count": 3,
   "metadata": {
    "collapsed": false,
    "run_control": {
     "frozen": false,
     "read_only": false
    }
   },
   "outputs": [],
   "source": [
    "%load_ext autoreload\n",
    "%autoreload 2\n",
    "\n",
    "import pandas as pd\n",
    "\n",
    "from res_ind_lib import *\n",
    "\n",
    "#Imports the function to plot render the policy experiments\n",
    "from policy_assessment import *\n",
    "from apply_policy import apply_policy\n",
    "\n",
    "#ask jupyter to display the plots within this notebook\n",
    "%matplotlib inline"
   ]
  },
  {
   "cell_type": "markdown",
   "metadata": {},
   "source": [
    "# Baseline data and function"
   ]
  },
  {
   "cell_type": "markdown",
   "metadata": {},
   "source": [
    "## parameters"
   ]
  },
  {
   "cell_type": "code",
   "execution_count": 4,
   "metadata": {
    "collapsed": true,
    "run_control": {
     "frozen": false,
     "read_only": false
    }
   },
   "outputs": [],
   "source": [
    "economy = \"country\"\n",
    "event_level = [economy, \"hazard\", \"rp\"]"
   ]
  },
  {
   "cell_type": "markdown",
   "metadata": {},
   "source": [
    "## inputs"
   ]
  },
  {
   "cell_type": "code",
   "execution_count": 5,
   "metadata": {
    "collapsed": false,
    "run_control": {
     "frozen": false,
     "read_only": false
    }
   },
   "outputs": [],
   "source": [
    "#Load the excel data file into a dataframe (table)\n",
    "macro=pd.read_csv(\"intermediate/macro.csv\", \n",
    "                 index_col=economy, #tells Pandas to use the first column (Provinces) as the index of the table\n",
    "                ).dropna() \n",
    "\n",
    "\n",
    "# macro=def_ref_values(macro)\n",
    "\n",
    "#Displays the first rows of that dataframe\n",
    "macro.head()\n",
    "\n",
    "macro[\"gdp_pc_pp_ref\"] =macro[\"gdp_pc_pp\"] \n",
    "\n"
   ]
  },
  {
   "cell_type": "code",
   "execution_count": 6,
   "metadata": {
    "collapsed": false,
    "run_control": {
     "frozen": false,
     "read_only": false
    }
   },
   "outputs": [
    {
     "data": {
      "text/html": [
       "<div>\n",
       "<table border=\"1\" class=\"dataframe\">\n",
       "  <thead>\n",
       "    <tr style=\"text-align: right;\">\n",
       "      <th></th>\n",
       "      <th></th>\n",
       "      <th>n</th>\n",
       "      <th>c</th>\n",
       "      <th>axfin</th>\n",
       "      <th>gamma_SP</th>\n",
       "      <th>k</th>\n",
       "      <th>fa</th>\n",
       "      <th>v</th>\n",
       "      <th>shew</th>\n",
       "    </tr>\n",
       "    <tr>\n",
       "      <th>country</th>\n",
       "      <th>income_cat</th>\n",
       "      <th></th>\n",
       "      <th></th>\n",
       "      <th></th>\n",
       "      <th></th>\n",
       "      <th></th>\n",
       "      <th></th>\n",
       "      <th></th>\n",
       "      <th></th>\n",
       "    </tr>\n",
       "  </thead>\n",
       "  <tbody>\n",
       "    <tr>\n",
       "      <th rowspan=\"2\" valign=\"top\">Albania</th>\n",
       "      <th>nonpoor</th>\n",
       "      <td>0.8</td>\n",
       "      <td>11349.246839</td>\n",
       "      <td>0.092387</td>\n",
       "      <td>1.094243</td>\n",
       "      <td>61811.780436</td>\n",
       "      <td>0.022104</td>\n",
       "      <td>0.351500</td>\n",
       "      <td>0.00</td>\n",
       "    </tr>\n",
       "    <tr>\n",
       "      <th>poor</th>\n",
       "      <td>0.2</td>\n",
       "      <td>4407.716271</td>\n",
       "      <td>0.075853</td>\n",
       "      <td>0.623028</td>\n",
       "      <td>21560.668539</td>\n",
       "      <td>0.021223</td>\n",
       "      <td>0.700000</td>\n",
       "      <td>0.00</td>\n",
       "    </tr>\n",
       "    <tr>\n",
       "      <th rowspan=\"2\" valign=\"top\">Angola</th>\n",
       "      <th>nonpoor</th>\n",
       "      <td>0.8</td>\n",
       "      <td>8854.573906</td>\n",
       "      <td>0.201269</td>\n",
       "      <td>1.160476</td>\n",
       "      <td>20523.147061</td>\n",
       "      <td>0.002814</td>\n",
       "      <td>0.600000</td>\n",
       "      <td>0.00</td>\n",
       "    </tr>\n",
       "    <tr>\n",
       "      <th>poor</th>\n",
       "      <td>0.2</td>\n",
       "      <td>2021.763175</td>\n",
       "      <td>0.091791</td>\n",
       "      <td>0.358097</td>\n",
       "      <td>4494.564269</td>\n",
       "      <td>0.012449</td>\n",
       "      <td>0.700000</td>\n",
       "      <td>0.00</td>\n",
       "    </tr>\n",
       "    <tr>\n",
       "      <th>Argentina</th>\n",
       "      <th>nonpoor</th>\n",
       "      <td>0.8</td>\n",
       "      <td>21573.503341</td>\n",
       "      <td>0.060371</td>\n",
       "      <td>1.171127</td>\n",
       "      <td>80282.025353</td>\n",
       "      <td>0.008573</td>\n",
       "      <td>0.397254</td>\n",
       "      <td>0.64</td>\n",
       "    </tr>\n",
       "  </tbody>\n",
       "</table>\n",
       "</div>"
      ],
      "text/plain": [
       "                        n             c     axfin  gamma_SP             k  \\\n",
       "country   income_cat                                                        \n",
       "Albania   nonpoor     0.8  11349.246839  0.092387  1.094243  61811.780436   \n",
       "          poor        0.2   4407.716271  0.075853  0.623028  21560.668539   \n",
       "Angola    nonpoor     0.8   8854.573906  0.201269  1.160476  20523.147061   \n",
       "          poor        0.2   2021.763175  0.091791  0.358097   4494.564269   \n",
       "Argentina nonpoor     0.8  21573.503341  0.060371  1.171127  80282.025353   \n",
       "\n",
       "                            fa         v  shew  \n",
       "country   income_cat                            \n",
       "Albania   nonpoor     0.022104  0.351500  0.00  \n",
       "          poor        0.021223  0.700000  0.00  \n",
       "Angola    nonpoor     0.002814  0.600000  0.00  \n",
       "          poor        0.012449  0.700000  0.00  \n",
       "Argentina nonpoor     0.008573  0.397254  0.64  "
      ]
     },
     "execution_count": 6,
     "metadata": {},
     "output_type": "execute_result"
    }
   ],
   "source": [
    "cat_info = pd.read_csv(\"intermediate/cat_info.csv\", index_col=[economy,\"income_cat\"])\n",
    "\n",
    "# cat_info.v = cat_info.v.unstack().assign(poor=lambda df:df.nonpoor).stack()\n",
    "\n",
    "\n",
    "cat_info.head()"
   ]
  },
  {
   "cell_type": "code",
   "execution_count": 7,
   "metadata": {
    "collapsed": false,
    "run_control": {
     "frozen": false,
     "read_only": false
    }
   },
   "outputs": [
    {
     "data": {
      "text/html": [
       "<div>\n",
       "<table border=\"1\" class=\"dataframe\">\n",
       "  <thead>\n",
       "    <tr style=\"text-align: right;\">\n",
       "      <th></th>\n",
       "      <th></th>\n",
       "      <th></th>\n",
       "      <th></th>\n",
       "      <th>fa</th>\n",
       "      <th>shew</th>\n",
       "    </tr>\n",
       "    <tr>\n",
       "      <th>country</th>\n",
       "      <th>hazard</th>\n",
       "      <th>rp</th>\n",
       "      <th>income_cat</th>\n",
       "      <th></th>\n",
       "      <th></th>\n",
       "    </tr>\n",
       "  </thead>\n",
       "  <tbody>\n",
       "    <tr>\n",
       "      <th rowspan=\"5\" valign=\"top\">Afghanistan</th>\n",
       "      <th rowspan=\"5\" valign=\"top\">earthquake</th>\n",
       "      <th rowspan=\"2\" valign=\"top\">1.0</th>\n",
       "      <th>nonpoor</th>\n",
       "      <td>0.004196</td>\n",
       "      <td>0.0</td>\n",
       "    </tr>\n",
       "    <tr>\n",
       "      <th>poor</th>\n",
       "      <td>0.004196</td>\n",
       "      <td>0.0</td>\n",
       "    </tr>\n",
       "    <tr>\n",
       "      <th rowspan=\"2\" valign=\"top\">20.0</th>\n",
       "      <th>nonpoor</th>\n",
       "      <td>0.011053</td>\n",
       "      <td>0.0</td>\n",
       "    </tr>\n",
       "    <tr>\n",
       "      <th>poor</th>\n",
       "      <td>0.011053</td>\n",
       "      <td>0.0</td>\n",
       "    </tr>\n",
       "    <tr>\n",
       "      <th>50.0</th>\n",
       "      <th>nonpoor</th>\n",
       "      <td>0.022173</td>\n",
       "      <td>0.0</td>\n",
       "    </tr>\n",
       "  </tbody>\n",
       "</table>\n",
       "</div>"
      ],
      "text/plain": [
       "                                              fa  shew\n",
       "country     hazard     rp   income_cat                \n",
       "Afghanistan earthquake 1.0  nonpoor     0.004196   0.0\n",
       "                            poor        0.004196   0.0\n",
       "                       20.0 nonpoor     0.011053   0.0\n",
       "                            poor        0.011053   0.0\n",
       "                       50.0 nonpoor     0.022173   0.0"
      ]
     },
     "execution_count": 7,
     "metadata": {},
     "output_type": "execute_result"
    }
   ],
   "source": [
    "hazard_ratios = pd.read_csv(\"intermediate/hazard_ratios.csv\", index_col=event_level+[\"income_cat\"])\n",
    "\n",
    "hazard_ratios.head()"
   ]
  },
  {
   "cell_type": "code",
   "execution_count": 8,
   "metadata": {
    "collapsed": false,
    "run_control": {
     "frozen": false,
     "read_only": false
    }
   },
   "outputs": [
    {
     "name": "stdout",
     "output_type": "stream",
     "text": [
      "macro variables are: gdp_pc_pp, pop, urbanization_rate, prepare_scaleup, borrow_abi, avg_prod_k, T_rebuild_K, pi, income_elast, rho, shareable, max_increased_spending, fa_glofris, protection, tau_tax, gdp_pc_pp_ref\n",
      "micro variables are: n, c, axfin, gamma_SP, k, fa, v, shew\n",
      "hazard variables are: fa, shew\n"
     ]
    }
   ],
   "source": [
    "print(\"macro variables are: \"+\", \".join(macro.columns))\n",
    "print(\"micro variables are: \"+\", \".join(cat_info.columns))\n",
    "print(\"hazard variables are: \"+\", \".join(hazard_ratios.columns))"
   ]
  },
  {
   "cell_type": "markdown",
   "metadata": {},
   "source": [
    "## output"
   ]
  },
  {
   "cell_type": "code",
   "execution_count": 9,
   "metadata": {
    "collapsed": false,
    "run_control": {
     "frozen": false,
     "read_only": false
    }
   },
   "outputs": [
    {
     "name": "stdout",
     "output_type": "stream",
     "text": [
      "Replaced in macro: \n",
      "Replaced in cats: fa, shew\n",
      "Replaced in both: \n"
     ]
    }
   ],
   "source": [
    "refout = compute_resilience(macro,cat_info,hazard_ratios=hazard_ratios,verbose_replace=True)\n",
    "# .drop(\"Togo\",axis=0)"
   ]
  },
  {
   "cell_type": "code",
   "execution_count": 10,
   "metadata": {
    "collapsed": false,
    "run_control": {
     "frozen": false,
     "read_only": false
    }
   },
   "outputs": [
    {
     "data": {
      "text/plain": [
       "(327.45825854332935, 517.3058432735279)"
      ]
     },
     "execution_count": 10,
     "metadata": {},
     "output_type": "execute_result"
    }
   ],
   "source": [
    "refout.dKtot.sum()*1e-9 , refout.dWtot_currency.sum()*1e-9"
   ]
  },
  {
   "cell_type": "markdown",
   "metadata": {},
   "source": [
    "## function test_package"
   ]
  },
  {
   "cell_type": "code",
   "execution_count": 11,
   "metadata": {
    "collapsed": false,
    "run_control": {
     "frozen": false,
     "read_only": false
    }
   },
   "outputs": [],
   "source": [
    "def test_package(m,c,h,a,return_rel=False,macro=macro,hazard_ratios=hazard_ratios,cat_info=cat_info,refout=refout, verbose=True):\n",
    "    \"\"\"test a policy package where:\n",
    "    -macro, cat_info and hazard_ratios, which are assumed to yield refout (all 4 optional, defautlt o baseline)\n",
    "    are replaced by:\n",
    "    m,c,and h. \n",
    "    This function states the difference between old and new set of params, runs the model with new set of paramters, \n",
    "    and reports difference in dW and dk\"\"\"\n",
    "        \n",
    "    #State differences\n",
    "    if verbose:\n",
    "        print(\"Changed in macro: \"+changed_lines(m,macro))\n",
    "        print(\"Changed in cat_info: \"+changed_lines(c,cat_info))\n",
    "        print(\"Changed in hazard: \"+changed_lines(h,hazard_ratios))\n",
    "        print(\"args: \"+repr(a))\n",
    "\n",
    "    #New outputs from new inputs\n",
    "    nu = compute_resilience(m,c,h,**a)\n",
    "\n",
    "    #absolute and relative difference\n",
    "    delta =  refout-nu\n",
    "    rel = delta/refout\n",
    "    reltogdp = (delta.T/(m[\"gdp_pc_pp\"]*m[\"pop\"])).T\n",
    "    \n",
    "    #sumarizes difference in outputs\n",
    "    if verbose:\n",
    "        print(\"\\nAsset losses were reduced by {dk:.1f} bn$ ({dkr:.1%} or {g:.3%} of WDP)\".format(\n",
    "                dk=delta.dKtot.sum()*1e-9,\n",
    "                dkr=delta.dKtot.sum()/refout.dKtot.sum(),\n",
    "                g = delta.dKtot.sum()/(m[\"gdp_pc_pp\"]*m[\"pop\"]).sum())\n",
    "             )\n",
    "        print(\"Welfare losses were reduced by {dw:.2f} bn$ ({dwr:.2%}  or {g:.3%} of WDP)\".format(\n",
    "                dw=delta.dWtot_currency.sum()*1e-9,\n",
    "                dwr=delta.dWtot_currency.sum()/refout.dWtot_currency.sum(),\n",
    "                g = delta.dWtot_currency.sum()/(m[\"gdp_pc_pp\"]*m[\"pop\"]).sum())\n",
    "             )\n",
    "    \n",
    "        print(\"Resilience in countries changed by {dr:.2%}, from ({old:.2%} to {new:.2%} )\".format(\n",
    "                dr=delta.resilience.mean(),\n",
    "                old=refout.resilience.mean(),\n",
    "                new =nu.resilience.mean()             )\n",
    "              )\n",
    "        \n",
    "        old=refout.dKtot.sum()/refout.dWtot_currency.sum()\n",
    "        new =nu.dKtot.sum()/nu.dWtot_currency.sum()     \n",
    "        print(\"Resilience GLOBALLY changed {d:.2%}, from ({old:.2%} to {new:.2%} )\".format(\n",
    "                    d=new-old,\n",
    "            old=old,\n",
    "            new=new)\n",
    "              )\n",
    "    \n",
    "    \n",
    "    \n",
    "    #returns rel and abs difference\n",
    "    if return_rel:\n",
    "        return delta,rel,reltogdp,nu[[\"risk_to_assets\",\"resilience\",\"risk\"]]\n",
    "    \n",
    "    return delta\n",
    "    "
   ]
  },
  {
   "cell_type": "code",
   "execution_count": null,
   "metadata": {
    "collapsed": true,
    "run_control": {
     "frozen": false,
     "read_only": false
    }
   },
   "outputs": [],
   "source": []
  },
  {
   "cell_type": "code",
   "execution_count": null,
   "metadata": {
    "collapsed": true,
    "run_control": {
     "frozen": false,
     "read_only": false
    }
   },
   "outputs": [],
   "source": []
  },
  {
   "cell_type": "markdown",
   "metadata": {},
   "source": [
    "# Compute policy card "
   ]
  },
  {
   "cell_type": "code",
   "execution_count": 12,
   "metadata": {
    "collapsed": true,
    "run_control": {
     "frozen": false,
     "read_only": false
    }
   },
   "outputs": [],
   "source": [
    "policy_list = [\"prepare_scaleup\", \"borrow_abi\",  \"T_rebuild_K\", \"social_p\",\"fap\",\"far\", \"vp\",\"kp\",\"vr\", \"shew\", \n",
    "               \"axfin\",\"PDSpackage\",\"ResiliencePackage\",\"ResiliencePlusEW\",\"Asset_losses\",\"Asset_losses_no_EW\", \"prop_nonpoor\", \"prop_nonpoor_lms\"]\n",
    "\n",
    "# policy_list = [\"PDSpackage\",\"ResiliencePackage\",\"ResiliencePlusEW\", \"prop_nonpoor\", \"prop_nonpoor_lms\"]\n",
    "\n",
    "\n",
    "\n",
    "# policy_list = [\"ResiliencePlusEW\"]\n",
    "\n",
    "country_list = macro.dropna().index.tolist()\n",
    "\n",
    "\n",
    "pol_assess_set = [\"dKtot\",\"dWtot_currency\"]"
   ]
  },
  {
   "cell_type": "code",
   "execution_count": 13,
   "metadata": {
    "collapsed": false,
    "run_control": {
     "frozen": false,
     "read_only": false
    }
   },
   "outputs": [
    {
     "name": "stdout",
     "output_type": "stream",
     "text": [
      "\n",
      "===\n",
      "policy: prepare_scaleup\n",
      "Make social protection scalable after a shock\n",
      "Changed in macro: prepare_scaleup (~67.9%).\n",
      "Changed in cat_info: none.\n",
      "Changed in hazard: none.\n",
      "args: {'verbose_replace': True}\n",
      "Replaced in macro: \n",
      "Replaced in cats: fa, shew\n",
      "Replaced in both: \n",
      "\n",
      "Asset losses were reduced by -0.0 bn$ (-0.0% or -0.000% of WDP)\n",
      "Welfare losses were reduced by 4.82 bn$ (0.93%  or 0.005% of WDP)\n",
      "Resilience in countries changed by -0.52%, from (61.06% to 61.58% )\n",
      "Resilience GLOBALLY changed 0.59%, from (63.30% to 63.90% )\n",
      "\n",
      "===\n",
      "policy: borrow_abi\n",
      "Develop contingent finance and reserve funds\n",
      "Changed in macro: borrow_abi (~73.3%).\n",
      "Changed in cat_info: none.\n",
      "Changed in hazard: none.\n",
      "args: {'verbose_replace': True}\n",
      "Replaced in macro: \n",
      "Replaced in cats: fa, shew\n",
      "Replaced in both: \n",
      "\n",
      "Asset losses were reduced by 0.0 bn$ (0.0% or 0.000% of WDP)\n",
      "Welfare losses were reduced by 4.54 bn$ (0.88%  or 0.005% of WDP)\n",
      "Resilience in countries changed by -0.62%, from (61.06% to 61.68% )\n",
      "Resilience GLOBALLY changed 0.56%, from (63.30% to 63.86% )\n",
      "\n",
      "===\n",
      "policy: T_rebuild_K\n",
      "Accelerate reconstruction (one year)\n",
      "Changed in macro: T_rebuild_K (~40.0%).\n",
      "Changed in cat_info: none.\n",
      "Changed in hazard: none.\n",
      "args: {'verbose_replace': True}\n",
      "Replaced in macro: \n",
      "Replaced in cats: fa, shew\n",
      "Replaced in both: \n",
      "\n",
      "Asset losses were reduced by 0.0 bn$ (0.0% or 0.000% of WDP)\n",
      "Welfare losses were reduced by 31.63 bn$ (6.11%  or 0.035% of WDP)\n",
      "Resilience in countries changed by -4.45%, from (61.06% to 65.51% )\n",
      "Resilience GLOBALLY changed 4.12%, from (63.30% to 67.42% )\n",
      "\n",
      "===\n",
      "policy: social_p\n",
      "Increase social transfers to poor people to at least 33%\n",
      "Changed in macro: tau_tax (~12.9%).\n",
      "Changed in cat_info: gamma_SP (~33.1%).\n",
      "Changed in hazard: none.\n",
      "args: {'verbose_replace': True}\n",
      "Replaced in macro: \n",
      "Replaced in cats: fa, shew\n",
      "Replaced in both: \n",
      "\n",
      "Asset losses were reduced by 0.0 bn$ (0.0% or 0.000% of WDP)\n",
      "Welfare losses were reduced by 16.65 bn$ (3.22%  or 0.019% of WDP)\n",
      "Resilience in countries changed by -2.72%, from (61.06% to 63.79% )\n",
      "Resilience GLOBALLY changed 2.11%, from (63.30% to 65.41% )\n",
      "\n",
      "===\n",
      "policy: fap\n",
      "Reduce exposure of the poor by 5% of total exposure\n",
      "Changed in macro: none.\n",
      "Changed in cat_info: none.\n",
      "Changed in hazard: fa (~14.0%).\n",
      "args: {'verbose_replace': True}\n",
      "Replaced in macro: \n",
      "Replaced in cats: fa, shew\n",
      "Replaced in both: \n",
      "\n",
      "Asset losses were reduced by 7.0 bn$ (2.1% or 0.008% of WDP)\n",
      "Welfare losses were reduced by 40.37 bn$ (7.80%  or 0.045% of WDP)\n",
      "Resilience in countries changed by -3.67%, from (61.06% to 64.74% )\n",
      "Resilience GLOBALLY changed 3.89%, from (63.30% to 67.19% )\n",
      "\n",
      "===\n",
      "policy: far\n",
      "Reduce exposure of the nonpoor by 5% of total exposure\n",
      "Changed in macro: none.\n",
      "Changed in cat_info: none.\n",
      "Changed in hazard: fa (~3.3%).\n",
      "args: {'verbose_replace': True}\n",
      "Replaced in macro: \n",
      "Replaced in cats: n, fa, shew\n",
      "Replaced in both: \n",
      "\n",
      "Asset losses were reduced by 18.8 bn$ (5.7% or 0.021% of WDP)\n",
      "Welfare losses were reduced by 22.32 bn$ (4.31%  or 0.025% of WDP)\n",
      "Resilience in countries changed by 0.90%, from (61.06% to 60.17% )\n",
      "Resilience GLOBALLY changed -0.95%, from (63.30% to 62.35% )\n",
      "\n",
      "===\n",
      "policy: vp\n",
      "Reduce asset vulnerability (by 30%) of poor people (5% of the population)\n",
      "Changed in macro: none.\n",
      "Changed in cat_info: v (~3.9%).\n",
      "Changed in hazard: none.\n",
      "args: {'verbose_replace': True}\n",
      "Replaced in macro: \n",
      "Replaced in cats: fa, shew\n",
      "Replaced in both: \n",
      "\n",
      "Asset losses were reduced by 2.2 bn$ (0.7% or 0.002% of WDP)\n",
      "Welfare losses were reduced by 13.83 bn$ (2.67%  or 0.015% of WDP)\n",
      "Resilience in countries changed by -1.21%, from (61.06% to 62.28% )\n",
      "Resilience GLOBALLY changed 1.31%, from (63.30% to 64.61% )\n",
      "\n",
      "===\n",
      "policy: kp\n",
      "Increase income of the poor 10%\n",
      "Changed in macro: none.\n",
      "Changed in cat_info: k (~4.8%).\n",
      "Changed in hazard: none.\n",
      "args: {'verbose_replace': True}\n",
      "Replaced in macro: \n",
      "Replaced in cats: fa, shew\n",
      "Replaced in both: \n",
      "\n",
      "Asset losses were reduced by -2.9 bn$ (-0.9% or -0.003% of WDP)\n",
      "Welfare losses were reduced by 0.47 bn$ (0.09%  or 0.001% of WDP)\n",
      "Resilience in countries changed by -0.63%, from (61.06% to 61.69% )\n",
      "Resilience GLOBALLY changed 0.61%, from (63.30% to 63.91% )\n",
      "\n",
      "===\n",
      "policy: vr\n",
      "Reduce asset vulnerability (by 30%) of nonpoor people (5% of the population)\n",
      "Changed in macro: none.\n",
      "Changed in cat_info: v (~0.9%).\n",
      "Changed in hazard: none.\n",
      "args: {'verbose_replace': True}\n",
      "Replaced in macro: \n",
      "Replaced in cats: fa, shew\n",
      "Replaced in both: \n",
      "\n",
      "Asset losses were reduced by 5.6 bn$ (1.7% or 0.006% of WDP)\n",
      "Welfare losses were reduced by 6.67 bn$ (1.29%  or 0.007% of WDP)\n",
      "Resilience in countries changed by 0.24%, from (61.06% to 60.82% )\n",
      "Resilience GLOBALLY changed -0.27%, from (63.30% to 63.03% )\n",
      "\n",
      "===\n",
      "policy: shew\n",
      "Universal access to early warnings\n",
      "Changed in macro: none.\n",
      "Changed in cat_info: none.\n",
      "Changed in hazard: shew (~65.0%).\n",
      "args: {'verbose_replace': True}\n",
      "Replaced in macro: \n",
      "Replaced in cats: fa, shew\n",
      "Replaced in both: \n",
      "\n",
      "Asset losses were reduced by 13.3 bn$ (4.1% or 0.015% of WDP)\n",
      "Welfare losses were reduced by 21.85 bn$ (4.22%  or 0.024% of WDP)\n",
      "Resilience in countries changed by -0.22%, from (61.06% to 61.28% )\n",
      "Resilience GLOBALLY changed 0.11%, from (63.30% to 63.42% )\n",
      "\n",
      "===\n",
      "policy: axfin\n",
      "Universal access to finance\n",
      "Changed in macro: none.\n",
      "Changed in cat_info: axfin (~151.5%).\n",
      "Changed in hazard: none.\n",
      "args: {'verbose_replace': True}\n",
      "Replaced in macro: \n",
      "Replaced in cats: fa, shew\n",
      "Replaced in both: \n",
      "\n",
      "Asset losses were reduced by 0.0 bn$ (0.0% or 0.000% of WDP)\n",
      "Welfare losses were reduced by 13.58 bn$ (2.63%  or 0.015% of WDP)\n",
      "Resilience in countries changed by -1.64%, from (61.06% to 62.71% )\n",
      "Resilience GLOBALLY changed 1.71%, from (63.30% to 65.01% )\n",
      "\n",
      "===\n",
      "policy: PDSpackage\n",
      "Develop contingent finance and reserve funds\n",
      "Make social protection scalable after a shock\n",
      "Postdisaster support package\n",
      "Changed in macro: prepare_scaleup (~67.9%); borrow_abi (~73.3%).\n",
      "Changed in cat_info: none.\n",
      "Changed in hazard: none.\n",
      "args: {'verbose_replace': True}\n",
      "Replaced in macro: \n",
      "Replaced in cats: fa, shew\n",
      "Replaced in both: \n",
      "\n",
      "Asset losses were reduced by -0.0 bn$ (-0.0% or -0.000% of WDP)\n",
      "Welfare losses were reduced by 12.55 bn$ (2.43%  or 0.014% of WDP)\n",
      "Resilience in countries changed by -1.96%, from (61.06% to 63.02% )\n",
      "Resilience GLOBALLY changed 1.57%, from (63.30% to 64.87% )\n",
      "\n",
      "===\n",
      "policy: ResiliencePackage\n",
      "Develop contingent finance and reserve funds\n",
      "Make social protection scalable after a shock\n",
      "Postdisaster support package\n",
      "Universal access to finance\n",
      "Accelerate reconstruction (one year)\n",
      "Increase social transfers to poor people to at least 33%\n",
      "Develop market insurance (25% of population, only nonpoor)\n",
      "Resilience package\n",
      "Changed in macro: prepare_scaleup (~67.9%); borrow_abi (~73.3%); T_rebuild_K (~40.0%); tau_tax (~12.9%).\n",
      "Changed in cat_info: axfin (~151.5%); gamma_SP (~33.1%).\n",
      "Changed in hazard: none.\n",
      "args: {'share_insured': 0.5, 'optionB': 'unlimited', 'optionFee': 'insurance_premium', 'optionPDS': 'prop_nonpoor_lms', 'verbose_replace': True, 'optionT': 'prop_nonpoor_lms'}\n",
      "Replaced in macro: \n",
      "Replaced in cats: fa, shew\n",
      "Replaced in both: \n",
      "\n",
      "Asset losses were reduced by 0.0 bn$ (0.0% or 0.000% of WDP)\n",
      "Welfare losses were reduced by 77.63 bn$ (15.01%  or 0.086% of WDP)\n",
      "Resilience in countries changed by -12.57%, from (61.06% to 73.63% )\n",
      "Resilience GLOBALLY changed 11.18%, from (63.30% to 74.48% )\n",
      "\n",
      "===\n",
      "policy: ResiliencePlusEW\n",
      "Develop contingent finance and reserve funds\n",
      "Make social protection scalable after a shock\n",
      "Postdisaster support package\n",
      "Universal access to finance\n",
      "Accelerate reconstruction (one year)\n",
      "Increase social transfers to poor people to at least 33%\n",
      "Develop market insurance (25% of population, only nonpoor)\n",
      "Resilience package\n",
      "Universal access to early warnings\n",
      "Resilience Package + Early Warning Package\n",
      "Changed in macro: prepare_scaleup (~67.9%); borrow_abi (~73.3%); T_rebuild_K (~40.0%); tau_tax (~12.9%).\n",
      "Changed in cat_info: axfin (~151.5%); gamma_SP (~33.1%).\n",
      "Changed in hazard: shew (~65.0%).\n",
      "args: {'share_insured': 0.5, 'optionB': 'unlimited', 'optionFee': 'insurance_premium', 'optionPDS': 'prop_nonpoor_lms', 'verbose_replace': True, 'optionT': 'prop_nonpoor_lms'}\n",
      "Replaced in macro: \n",
      "Replaced in cats: fa, shew\n",
      "Replaced in both: \n",
      "\n",
      "Asset losses were reduced by 13.3 bn$ (4.1% or 0.015% of WDP)\n",
      "Welfare losses were reduced by 95.67 bn$ (18.49%  or 0.106% of WDP)\n",
      "Resilience in countries changed by -12.69%, from (61.06% to 73.75% )\n",
      "Resilience GLOBALLY changed 11.22%, from (63.30% to 74.52% )\n",
      "\n",
      "===\n",
      "policy: Asset_losses\n",
      "Reduce exposure of the poor by 5% of total exposure\n",
      "Reduce exposure of the nonpoor by 5% of total exposure\n",
      "Reduce asset vulnerability (by 30%) of poor people (5% of the population)\n",
      "Reduce asset vulnerability (by 30%) of nonpoor people (5% of the population)\n",
      "Universal access to early warnings\n",
      "Asset losses package \n",
      "Changed in macro: none.\n",
      "Changed in cat_info: v (~4.8%).\n",
      "Changed in hazard: fa (~17.2%); shew (~65.0%).\n",
      "args: {'verbose_replace': True}\n",
      "Replaced in macro: \n",
      "Replaced in cats: n, fa, shew\n",
      "Replaced in both: \n",
      "\n",
      "Asset losses were reduced by 43.7 bn$ (13.4% or 0.049% of WDP)\n",
      "Welfare losses were reduced by 96.70 bn$ (18.69%  or 0.108% of WDP)\n",
      "Resilience in countries changed by -4.02%, from (61.06% to 65.09% )\n",
      "Resilience GLOBALLY changed 4.15%, from (63.30% to 67.46% )\n",
      "\n",
      "===\n",
      "policy: Asset_losses_no_EW\n",
      "Reduce exposure of the poor by 5% of total exposure\n",
      "Reduce exposure of the nonpoor by 5% of total exposure\n",
      "Reduce asset vulnerability (by 30%) of poor people (5% of the population)\n",
      "Reduce asset vulnerability (by 30%) of nonpoor people (5% of the population)\n",
      "Asset losses package (excluding early warnings)\n",
      "Changed in macro: none.\n",
      "Changed in cat_info: v (~4.8%).\n",
      "Changed in hazard: fa (~17.2%).\n",
      "args: {'verbose_replace': True}\n",
      "Replaced in macro: \n",
      "Replaced in cats: n, fa, shew\n",
      "Replaced in both: \n",
      "\n",
      "Asset losses were reduced by 31.8 bn$ (9.7% or 0.035% of WDP)\n",
      "Welfare losses were reduced by 78.21 bn$ (15.12%  or 0.087% of WDP)\n",
      "Resilience in countries changed by -3.80%, from (61.06% to 64.87% )\n",
      "Resilience GLOBALLY changed 4.04%, from (63.30% to 67.34% )\n",
      "\n",
      "===\n",
      "policy: prop_nonpoor\n",
      "Develop market insurance (nonpoor people)\n",
      "Changed in macro: none.\n",
      "Changed in cat_info: none.\n",
      "Changed in hazard: none.\n",
      "args: {'share_insured': 0.25, 'optionB': 'unlimited', 'optionFee': 'insurance_premium', 'optionPDS': 'prop_nonpoor', 'verbose_replace': True, 'optionT': 'perfect'}\n",
      "Replaced in macro: \n",
      "Replaced in cats: fa, shew\n",
      "Replaced in both: \n",
      "\n",
      "Asset losses were reduced by 0.0 bn$ (0.0% or 0.000% of WDP)\n",
      "Welfare losses were reduced by 16.96 bn$ (3.28%  or 0.019% of WDP)\n",
      "Resilience in countries changed by -2.11%, from (61.06% to 63.17% )\n",
      "Resilience GLOBALLY changed 2.15%, from (63.30% to 65.45% )\n",
      "\n",
      "===\n",
      "policy: prop_nonpoor_lms\n",
      "Develop market insurance (25% of population, only nonpoor)\n",
      "Changed in macro: none.\n",
      "Changed in cat_info: none.\n",
      "Changed in hazard: none.\n",
      "args: {'share_insured': 0.5, 'optionB': 'unlimited', 'optionFee': 'insurance_premium', 'optionPDS': 'prop_nonpoor_lms', 'verbose_replace': True, 'optionT': 'prop_nonpoor_lms'}\n",
      "Replaced in macro: \n",
      "Replaced in cats: fa, shew\n",
      "Replaced in both: \n",
      "\n",
      "Asset losses were reduced by -0.0 bn$ (-0.0% or -0.000% of WDP)\n",
      "Welfare losses were reduced by 10.05 bn$ (1.94%  or 0.011% of WDP)\n",
      "Resilience in countries changed by -1.22%, from (61.06% to 62.29% )\n",
      "Resilience GLOBALLY changed 1.25%, from (63.30% to 64.55% )\n"
     ]
    }
   ],
   "source": [
    "\n",
    "#initialize input (baseline inputs)\n",
    "m_=macro.copy(deep=True)\n",
    "c_=cat_info.copy(deep=True)\n",
    "hr_ = hazard_ratios.copy(deep=True)\n",
    "a_=dict(verbose_replace=True)\n",
    "\n",
    "#initialize outptus\n",
    "delta = pd.DataFrame(index=pd.MultiIndex.from_product([country_list, pol_assess_set+[\"risk_to_assets\",\"resilience\",\"risk\"]], names=[economy, 'outputs']), \n",
    "                     columns=pd.Index([],name=\"policies\"))\n",
    "rel = delta.copy()\n",
    "reltogdp=  delta.copy()\n",
    "nuvalues=delta.copy()\n",
    "policy_description = pd.Series(index=policy_list)\n",
    "\n",
    "#loop over policies\n",
    "for pol in policy_list:\n",
    "    print(\"\\n===\\npolicy: \"+pol)\n",
    "    m,c,hr,a,desc =apply_policy(m_,c_,hr_,a_ ,policy_name=pol)\n",
    "    \n",
    "    d,r,rto,nv=test_package(m,c,hr,a,return_rel=True)\n",
    "    \n",
    "    delta[pol]= d[pol_assess_set].stack()\n",
    "    rel[pol]  = r[pol_assess_set].stack()\n",
    "    reltogdp[pol] = rto[pol_assess_set].stack()\n",
    "    nuvalues[pol] = nv.stack()\n",
    "    \n",
    "    \n",
    "    policy_description[pol] = desc\n",
    "    \n",
    "#format as renders wants it    \n",
    "delta =delta.dropna().unstack()\n",
    "rel =rel.dropna().unstack()\n",
    "reltogdp =reltogdp.dropna().unstack()"
   ]
  },
  {
   "cell_type": "code",
   "execution_count": 14,
   "metadata": {
    "collapsed": false,
    "run_control": {
     "frozen": false,
     "read_only": false
    }
   },
   "outputs": [
    {
     "name": "stderr",
     "output_type": "stream",
     "text": [
      "C:\\Users\\Admin\\Anaconda3\\lib\\site-packages\\numpy\\lib\\function_base.py:3834: RuntimeWarning: Invalid value encountered in percentile\n",
      "  RuntimeWarning)\n"
     ]
    },
    {
     "data": {
      "text/html": [
       "<div>\n",
       "<table border=\"1\" class=\"dataframe\">\n",
       "  <thead>\n",
       "    <tr style=\"text-align: right;\">\n",
       "      <th></th>\n",
       "      <th>dKtot</th>\n",
       "      <th>dWtot_currency</th>\n",
       "      <th>fa</th>\n",
       "      <th>fa_in_gdp</th>\n",
       "      <th>gdp_pc_pp</th>\n",
       "      <th>pop</th>\n",
       "      <th>resilience</th>\n",
       "      <th>risk</th>\n",
       "      <th>risk_to_assets</th>\n",
       "      <th>v</th>\n",
       "    </tr>\n",
       "  </thead>\n",
       "  <tbody>\n",
       "    <tr>\n",
       "      <th>count</th>\n",
       "      <td>1.170000e+02</td>\n",
       "      <td>1.170000e+02</td>\n",
       "      <td>0.0</td>\n",
       "      <td>0.0</td>\n",
       "      <td>0.0</td>\n",
       "      <td>0.0</td>\n",
       "      <td>0.0</td>\n",
       "      <td>0.0</td>\n",
       "      <td>0.0</td>\n",
       "      <td>0.0</td>\n",
       "    </tr>\n",
       "    <tr>\n",
       "      <th>mean</th>\n",
       "      <td>1.133746e+08</td>\n",
       "      <td>8.176737e+08</td>\n",
       "      <td>NaN</td>\n",
       "      <td>NaN</td>\n",
       "      <td>NaN</td>\n",
       "      <td>NaN</td>\n",
       "      <td>NaN</td>\n",
       "      <td>NaN</td>\n",
       "      <td>NaN</td>\n",
       "      <td>NaN</td>\n",
       "    </tr>\n",
       "    <tr>\n",
       "      <th>std</th>\n",
       "      <td>3.264548e+08</td>\n",
       "      <td>1.765241e+09</td>\n",
       "      <td>NaN</td>\n",
       "      <td>NaN</td>\n",
       "      <td>NaN</td>\n",
       "      <td>NaN</td>\n",
       "      <td>NaN</td>\n",
       "      <td>NaN</td>\n",
       "      <td>NaN</td>\n",
       "      <td>NaN</td>\n",
       "    </tr>\n",
       "    <tr>\n",
       "      <th>min</th>\n",
       "      <td>-1.907349e-06</td>\n",
       "      <td>1.862957e+06</td>\n",
       "      <td>NaN</td>\n",
       "      <td>NaN</td>\n",
       "      <td>NaN</td>\n",
       "      <td>NaN</td>\n",
       "      <td>NaN</td>\n",
       "      <td>NaN</td>\n",
       "      <td>NaN</td>\n",
       "      <td>NaN</td>\n",
       "    </tr>\n",
       "    <tr>\n",
       "      <th>25%</th>\n",
       "      <td>NaN</td>\n",
       "      <td>NaN</td>\n",
       "      <td>NaN</td>\n",
       "      <td>NaN</td>\n",
       "      <td>NaN</td>\n",
       "      <td>NaN</td>\n",
       "      <td>NaN</td>\n",
       "      <td>NaN</td>\n",
       "      <td>NaN</td>\n",
       "      <td>NaN</td>\n",
       "    </tr>\n",
       "    <tr>\n",
       "      <th>50%</th>\n",
       "      <td>NaN</td>\n",
       "      <td>NaN</td>\n",
       "      <td>NaN</td>\n",
       "      <td>NaN</td>\n",
       "      <td>NaN</td>\n",
       "      <td>NaN</td>\n",
       "      <td>NaN</td>\n",
       "      <td>NaN</td>\n",
       "      <td>NaN</td>\n",
       "      <td>NaN</td>\n",
       "    </tr>\n",
       "    <tr>\n",
       "      <th>75%</th>\n",
       "      <td>NaN</td>\n",
       "      <td>NaN</td>\n",
       "      <td>NaN</td>\n",
       "      <td>NaN</td>\n",
       "      <td>NaN</td>\n",
       "      <td>NaN</td>\n",
       "      <td>NaN</td>\n",
       "      <td>NaN</td>\n",
       "      <td>NaN</td>\n",
       "      <td>NaN</td>\n",
       "    </tr>\n",
       "    <tr>\n",
       "      <th>max</th>\n",
       "      <td>2.298860e+09</td>\n",
       "      <td>1.070681e+10</td>\n",
       "      <td>NaN</td>\n",
       "      <td>NaN</td>\n",
       "      <td>NaN</td>\n",
       "      <td>NaN</td>\n",
       "      <td>NaN</td>\n",
       "      <td>NaN</td>\n",
       "      <td>NaN</td>\n",
       "      <td>NaN</td>\n",
       "    </tr>\n",
       "  </tbody>\n",
       "</table>\n",
       "</div>"
      ],
      "text/plain": [
       "              dKtot  dWtot_currency   fa  fa_in_gdp  gdp_pc_pp  pop  \\\n",
       "count  1.170000e+02    1.170000e+02  0.0        0.0        0.0  0.0   \n",
       "mean   1.133746e+08    8.176737e+08  NaN        NaN        NaN  NaN   \n",
       "std    3.264548e+08    1.765241e+09  NaN        NaN        NaN  NaN   \n",
       "min   -1.907349e-06    1.862957e+06  NaN        NaN        NaN  NaN   \n",
       "25%             NaN             NaN  NaN        NaN        NaN  NaN   \n",
       "50%             NaN             NaN  NaN        NaN        NaN  NaN   \n",
       "75%             NaN             NaN  NaN        NaN        NaN  NaN   \n",
       "max    2.298860e+09    1.070681e+10  NaN        NaN        NaN  NaN   \n",
       "\n",
       "       resilience  risk  risk_to_assets    v  \n",
       "count         0.0   0.0             0.0  0.0  \n",
       "mean          NaN   NaN             NaN  NaN  \n",
       "std           NaN   NaN             NaN  NaN  \n",
       "min           NaN   NaN             NaN  NaN  \n",
       "25%           NaN   NaN             NaN  NaN  \n",
       "50%           NaN   NaN             NaN  NaN  \n",
       "75%           NaN   NaN             NaN  NaN  \n",
       "max           NaN   NaN             NaN  NaN  "
      ]
     },
     "execution_count": 14,
     "metadata": {},
     "output_type": "execute_result"
    }
   ],
   "source": [
    "a=pd.read_csv(\"intermediate/main_results.csv\", index_col=\"country\")\n",
    "a.head()\n",
    "\n",
    "big_table=pd.DataFrame(index=pd.MultiIndex.from_product([country_list, a.columns | delta.ResiliencePlusEW.columns ]))\n",
    "big_table[\"Current\"] = a.stack()\n",
    "\n",
    "big_table[\"Difference\"] = delta.ResiliencePlusEW.stack()\n",
    "\n",
    "big_table[\"Differencerel\"] =  rel.ResiliencePlusEW.stack()\n",
    "\n",
    "big_table[\"With_package\"] = nuvalues.ResiliencePlusEW\n",
    "\n",
    "big_table.unstack().to_excel(\"results/big_table.xlsx\")\n",
    "\n",
    "\n",
    "big_table.Difference.unstack().describe()\n"
   ]
  },
  {
   "cell_type": "markdown",
   "metadata": {},
   "source": [
    "# Export excel"
   ]
  },
  {
   "cell_type": "code",
   "execution_count": 15,
   "metadata": {
    "collapsed": false
   },
   "outputs": [
    {
     "ename": "FileNotFoundError",
     "evalue": "[Errno 2] No such file or directory: 'cards/policy_impact.xlsx'",
     "output_type": "error",
     "traceback": [
      "\u001b[1;31m---------------------------------------------------------------------------\u001b[0m",
      "\u001b[1;31mFileNotFoundError\u001b[0m                         Traceback (most recent call last)",
      "\u001b[1;32m<ipython-input-15-09a8727b760f>\u001b[0m in \u001b[0;36m<module>\u001b[1;34m()\u001b[0m\n\u001b[0;32m      4\u001b[0m \u001b[1;33m\u001b[0m\u001b[0m\n\u001b[0;32m      5\u001b[0m        rel.rename(columns=policy_description).rename(columns={\"dKtot\":\"Asset losses\", \"dWtot_currency\":\"Wellbeing losses\"}\n\u001b[1;32m----> 6\u001b[1;33m                                                       ).to_excel(writer, sheet_name=\"relative to current losses\")\n\u001b[0m",
      "\u001b[1;32mC:\\Users\\Admin\\Anaconda3\\lib\\site-packages\\pandas\\io\\excel.py\u001b[0m in \u001b[0;36m__exit__\u001b[1;34m(self, exc_type, exc_value, traceback)\u001b[0m\n\u001b[0;32m    698\u001b[0m \u001b[1;33m\u001b[0m\u001b[0m\n\u001b[0;32m    699\u001b[0m     \u001b[1;32mdef\u001b[0m \u001b[0m__exit__\u001b[0m\u001b[1;33m(\u001b[0m\u001b[0mself\u001b[0m\u001b[1;33m,\u001b[0m \u001b[0mexc_type\u001b[0m\u001b[1;33m,\u001b[0m \u001b[0mexc_value\u001b[0m\u001b[1;33m,\u001b[0m \u001b[0mtraceback\u001b[0m\u001b[1;33m)\u001b[0m\u001b[1;33m:\u001b[0m\u001b[1;33m\u001b[0m\u001b[0m\n\u001b[1;32m--> 700\u001b[1;33m         \u001b[0mself\u001b[0m\u001b[1;33m.\u001b[0m\u001b[0mclose\u001b[0m\u001b[1;33m(\u001b[0m\u001b[1;33m)\u001b[0m\u001b[1;33m\u001b[0m\u001b[0m\n\u001b[0m\u001b[0;32m    701\u001b[0m \u001b[1;33m\u001b[0m\u001b[0m\n\u001b[0;32m    702\u001b[0m     \u001b[1;32mdef\u001b[0m \u001b[0mclose\u001b[0m\u001b[1;33m(\u001b[0m\u001b[0mself\u001b[0m\u001b[1;33m)\u001b[0m\u001b[1;33m:\u001b[0m\u001b[1;33m\u001b[0m\u001b[0m\n",
      "\u001b[1;32mC:\\Users\\Admin\\Anaconda3\\lib\\site-packages\\pandas\\io\\excel.py\u001b[0m in \u001b[0;36mclose\u001b[1;34m(self)\u001b[0m\n\u001b[0;32m    702\u001b[0m     \u001b[1;32mdef\u001b[0m \u001b[0mclose\u001b[0m\u001b[1;33m(\u001b[0m\u001b[0mself\u001b[0m\u001b[1;33m)\u001b[0m\u001b[1;33m:\u001b[0m\u001b[1;33m\u001b[0m\u001b[0m\n\u001b[0;32m    703\u001b[0m         \u001b[1;34m\"\"\"synonym for save, to make it more file-like\"\"\"\u001b[0m\u001b[1;33m\u001b[0m\u001b[0m\n\u001b[1;32m--> 704\u001b[1;33m         \u001b[1;32mreturn\u001b[0m \u001b[0mself\u001b[0m\u001b[1;33m.\u001b[0m\u001b[0msave\u001b[0m\u001b[1;33m(\u001b[0m\u001b[1;33m)\u001b[0m\u001b[1;33m\u001b[0m\u001b[0m\n\u001b[0m\u001b[0;32m    705\u001b[0m \u001b[1;33m\u001b[0m\u001b[0m\n\u001b[0;32m    706\u001b[0m \u001b[1;33m\u001b[0m\u001b[0m\n",
      "\u001b[1;32mC:\\Users\\Admin\\Anaconda3\\lib\\site-packages\\pandas\\io\\excel.py\u001b[0m in \u001b[0;36msave\u001b[1;34m(self)\u001b[0m\n\u001b[0;32m   1442\u001b[0m         \u001b[0mSave\u001b[0m \u001b[0mworkbook\u001b[0m \u001b[0mto\u001b[0m \u001b[0mdisk\u001b[0m\u001b[1;33m.\u001b[0m\u001b[1;33m\u001b[0m\u001b[0m\n\u001b[0;32m   1443\u001b[0m         \"\"\"\n\u001b[1;32m-> 1444\u001b[1;33m         \u001b[1;32mreturn\u001b[0m \u001b[0mself\u001b[0m\u001b[1;33m.\u001b[0m\u001b[0mbook\u001b[0m\u001b[1;33m.\u001b[0m\u001b[0mclose\u001b[0m\u001b[1;33m(\u001b[0m\u001b[1;33m)\u001b[0m\u001b[1;33m\u001b[0m\u001b[0m\n\u001b[0m\u001b[0;32m   1445\u001b[0m \u001b[1;33m\u001b[0m\u001b[0m\n\u001b[0;32m   1446\u001b[0m     \u001b[1;32mdef\u001b[0m \u001b[0mwrite_cells\u001b[0m\u001b[1;33m(\u001b[0m\u001b[0mself\u001b[0m\u001b[1;33m,\u001b[0m \u001b[0mcells\u001b[0m\u001b[1;33m,\u001b[0m \u001b[0msheet_name\u001b[0m\u001b[1;33m=\u001b[0m\u001b[1;32mNone\u001b[0m\u001b[1;33m,\u001b[0m \u001b[0mstartrow\u001b[0m\u001b[1;33m=\u001b[0m\u001b[1;36m0\u001b[0m\u001b[1;33m,\u001b[0m \u001b[0mstartcol\u001b[0m\u001b[1;33m=\u001b[0m\u001b[1;36m0\u001b[0m\u001b[1;33m)\u001b[0m\u001b[1;33m:\u001b[0m\u001b[1;33m\u001b[0m\u001b[0m\n",
      "\u001b[1;32mC:\\Users\\Admin\\Anaconda3\\lib\\site-packages\\xlsxwriter\\workbook.py\u001b[0m in \u001b[0;36mclose\u001b[1;34m(self)\u001b[0m\n\u001b[0;32m    294\u001b[0m         \u001b[1;32mif\u001b[0m \u001b[1;32mnot\u001b[0m \u001b[0mself\u001b[0m\u001b[1;33m.\u001b[0m\u001b[0mfileclosed\u001b[0m\u001b[1;33m:\u001b[0m\u001b[1;33m\u001b[0m\u001b[0m\n\u001b[0;32m    295\u001b[0m             \u001b[0mself\u001b[0m\u001b[1;33m.\u001b[0m\u001b[0mfileclosed\u001b[0m \u001b[1;33m=\u001b[0m \u001b[1;36m1\u001b[0m\u001b[1;33m\u001b[0m\u001b[0m\n\u001b[1;32m--> 296\u001b[1;33m             \u001b[0mself\u001b[0m\u001b[1;33m.\u001b[0m\u001b[0m_store_workbook\u001b[0m\u001b[1;33m(\u001b[0m\u001b[1;33m)\u001b[0m\u001b[1;33m\u001b[0m\u001b[0m\n\u001b[0m\u001b[0;32m    297\u001b[0m \u001b[1;33m\u001b[0m\u001b[0m\n\u001b[0;32m    298\u001b[0m     \u001b[1;32mdef\u001b[0m \u001b[0mset_properties\u001b[0m\u001b[1;33m(\u001b[0m\u001b[0mself\u001b[0m\u001b[1;33m,\u001b[0m \u001b[0mproperties\u001b[0m\u001b[1;33m)\u001b[0m\u001b[1;33m:\u001b[0m\u001b[1;33m\u001b[0m\u001b[0m\n",
      "\u001b[1;32mC:\\Users\\Admin\\Anaconda3\\lib\\site-packages\\xlsxwriter\\workbook.py\u001b[0m in \u001b[0;36m_store_workbook\u001b[1;34m(self)\u001b[0m\n\u001b[0;32m    526\u001b[0m \u001b[1;33m\u001b[0m\u001b[0m\n\u001b[0;32m    527\u001b[0m         xlsx_file = ZipFile(self.filename, \"w\", compression=ZIP_DEFLATED,\n\u001b[1;32m--> 528\u001b[1;33m                             allowZip64=self.allow_zip64)\n\u001b[0m\u001b[0;32m    529\u001b[0m \u001b[1;33m\u001b[0m\u001b[0m\n\u001b[0;32m    530\u001b[0m         \u001b[1;31m# Add XML sub-files to the Zip file with their Excel filename.\u001b[0m\u001b[1;33m\u001b[0m\u001b[1;33m\u001b[0m\u001b[0m\n",
      "\u001b[1;32mC:\\Users\\Admin\\Anaconda3\\lib\\zipfile.py\u001b[0m in \u001b[0;36m__init__\u001b[1;34m(self, file, mode, compression, allowZip64)\u001b[0m\n\u001b[0;32m    921\u001b[0m             \u001b[0mmodeDict\u001b[0m \u001b[1;33m=\u001b[0m \u001b[1;33m{\u001b[0m\u001b[1;34m'r'\u001b[0m \u001b[1;33m:\u001b[0m \u001b[1;34m'rb'\u001b[0m\u001b[1;33m,\u001b[0m \u001b[1;34m'w'\u001b[0m\u001b[1;33m:\u001b[0m \u001b[1;34m'wb'\u001b[0m\u001b[1;33m,\u001b[0m \u001b[1;34m'a'\u001b[0m \u001b[1;33m:\u001b[0m \u001b[1;34m'r+b'\u001b[0m\u001b[1;33m}\u001b[0m\u001b[1;33m\u001b[0m\u001b[0m\n\u001b[0;32m    922\u001b[0m             \u001b[1;32mtry\u001b[0m\u001b[1;33m:\u001b[0m\u001b[1;33m\u001b[0m\u001b[0m\n\u001b[1;32m--> 923\u001b[1;33m                 \u001b[0mself\u001b[0m\u001b[1;33m.\u001b[0m\u001b[0mfp\u001b[0m \u001b[1;33m=\u001b[0m \u001b[0mio\u001b[0m\u001b[1;33m.\u001b[0m\u001b[0mopen\u001b[0m\u001b[1;33m(\u001b[0m\u001b[0mfile\u001b[0m\u001b[1;33m,\u001b[0m \u001b[0mmodeDict\u001b[0m\u001b[1;33m[\u001b[0m\u001b[0mmode\u001b[0m\u001b[1;33m]\u001b[0m\u001b[1;33m)\u001b[0m\u001b[1;33m\u001b[0m\u001b[0m\n\u001b[0m\u001b[0;32m    924\u001b[0m             \u001b[1;32mexcept\u001b[0m \u001b[0mOSError\u001b[0m\u001b[1;33m:\u001b[0m\u001b[1;33m\u001b[0m\u001b[0m\n\u001b[0;32m    925\u001b[0m                 \u001b[1;32mif\u001b[0m \u001b[0mmode\u001b[0m \u001b[1;33m==\u001b[0m \u001b[1;34m'a'\u001b[0m\u001b[1;33m:\u001b[0m\u001b[1;33m\u001b[0m\u001b[0m\n",
      "\u001b[1;31mFileNotFoundError\u001b[0m: [Errno 2] No such file or directory: 'cards/policy_impact.xlsx'"
     ]
    }
   ],
   "source": [
    " with pd.ExcelWriter('cards/policy_impact.xlsx') as writer:\n",
    "        delta.rename(columns=policy_description).rename(columns={\"dKtot\":\"Asset losses\", \"dWtot_currency\":\"Wellbeing losses\"}\n",
    "                                                       ).to_excel(writer, sheet_name=\"absolute (USD PPP)\")\n",
    "\n",
    "        rel.rename(columns=policy_description).rename(columns={\"dKtot\":\"Asset losses\", \"dWtot_currency\":\"Wellbeing losses\"}\n",
    "                                                       ).to_excel(writer, sheet_name=\"relative to current losses\")\n"
   ]
  },
  {
   "cell_type": "markdown",
   "metadata": {},
   "source": [
    "# Render cards\n"
   ]
  },
  {
   "cell_type": "code",
   "execution_count": 13,
   "metadata": {
    "collapsed": false,
    "run_control": {
     "frozen": false,
     "read_only": false
    }
   },
   "outputs": [],
   "source": [
    "results=pd.read_csv(\"results/results.csv\", index_col=\"country\")"
   ]
  },
  {
   "cell_type": "code",
   "execution_count": 14,
   "metadata": {
    "collapsed": false,
    "run_control": {
     "frozen": false,
     "read_only": false
    }
   },
   "outputs": [
    {
     "data": {
      "text/plain": [
       "Index(['Albania', 'Angola', 'Argentina', 'Armenia', 'Australia', 'Austria',\n",
       "       'Azerbaijan', 'Bangladesh', 'Belarus', 'Belgium',\n",
       "       ...\n",
       "       'Uganda', 'Ukraine', 'United Kingdom', 'United States', 'Uruguay',\n",
       "       'Uzbekistan', 'Venezuela, RB', 'Vietnam', 'Yemen, Rep.', 'Zambia'],\n",
       "      dtype='object', name='country', length=117)"
      ]
     },
     "execution_count": 14,
     "metadata": {},
     "output_type": "execute_result"
    }
   ],
   "source": [
    "#list of policy name in apply_policy we want to use here\n",
    "policy_list = [\"prepare_scaleup\", \"borrow_abi\",  \"T_rebuild_K\", \"social_p\",\"fap\",\"far\", \"vp\",\"kp\",\"vr\", \"shew\", \"axfin\",\"PDSpackage\",\"prop_nonpoor\"]\n",
    "# policy_list = [\"fap\"]\n",
    "\n",
    "country_list = results.dropna().index\n",
    "# country_list = [\"Nepal\", \"Honduras\", \"Moldova\", \"Rwanda\"]\n",
    "# \"Finland\" in country_list\n",
    "\n",
    "country_list"
   ]
  },
  {
   "cell_type": "markdown",
   "metadata": {},
   "source": [
    "## colors and units"
   ]
  },
  {
   "cell_type": "code",
   "execution_count": 15,
   "metadata": {
    "collapsed": false,
    "run_control": {
     "frozen": false,
     "read_only": false
    }
   },
   "outputs": [
    {
     "data": {
      "text/html": [
       "<div>\n",
       "<table border=\"1\" class=\"dataframe\">\n",
       "  <thead>\n",
       "    <tr style=\"text-align: right;\">\n",
       "      <th></th>\n",
       "      <th>color</th>\n",
       "      <th>edgecolor</th>\n",
       "      <th>alpha</th>\n",
       "      <th>label</th>\n",
       "    </tr>\n",
       "  </thead>\n",
       "  <tbody>\n",
       "    <tr>\n",
       "      <th>dWtot_currency</th>\n",
       "      <td>#a6cee3</td>\n",
       "      <td>#1f78b4</td>\n",
       "      <td>1</td>\n",
       "      <td>Avoided well-being losses</td>\n",
       "    </tr>\n",
       "    <tr>\n",
       "      <th>dKtot</th>\n",
       "      <td>#cccccc</td>\n",
       "      <td>#969696</td>\n",
       "      <td>1</td>\n",
       "      <td>Avoided asset losses</td>\n",
       "    </tr>\n",
       "  </tbody>\n",
       "</table>\n",
       "</div>"
      ],
      "text/plain": [
       "                  color edgecolor  alpha                      label\n",
       "dWtot_currency  #a6cee3   #1f78b4      1  Avoided well-being losses\n",
       "dKtot           #cccccc   #969696      1       Avoided asset losses"
      ]
     },
     "execution_count": 15,
     "metadata": {},
     "output_type": "execute_result"
    }
   ],
   "source": [
    "#list of outputs to render and color to use\n",
    "colors = pd.read_csv(\"inputs/colors_pol_assess.csv\", index_col=0)\n",
    "colors"
   ]
  },
  {
   "cell_type": "markdown",
   "metadata": {},
   "source": [
    "## Legend"
   ]
  },
  {
   "cell_type": "code",
   "execution_count": 16,
   "metadata": {
    "collapsed": false,
    "run_control": {
     "frozen": false,
     "read_only": false
    }
   },
   "outputs": [
    {
     "data": {
      "image/png": "[encoded data removed]",
      "text/plain": [
       "<matplotlib.figure.Figure at 0xc3fac18>"
      ]
     },
     "metadata": {},
     "output_type": "display_data"
    }
   ],
   "source": [
    "import matplotlib.patches as mpatches\n",
    "from fancy_plots import savefig\n",
    "\n",
    "patches=[]\n",
    "for i in colors.index:\n",
    "    patches+=[mpatches.Patch( \n",
    "                    fc=colors.ix[i,\"color\"],\n",
    "                    ec= colors.ix[i,\"edgecolor\"],\n",
    "                    label=colors.ix[i,\"label\"] ) ]\n",
    "                        \n",
    "fig=plt.figure()\n",
    "ax=plt.gca()\n",
    "\n",
    "l=ax.legend(handles=patches, loc=\"upper left\", prop=font,frameon=False, title=\"\")  \n",
    "plt.setp(l.get_title(), multialignment='center')\n",
    "\n",
    "ax.axis('off')\n",
    "\n",
    "savefig(\"cards/legend_cards\")\n"
   ]
  },
  {
   "cell_type": "markdown",
   "metadata": {},
   "source": [
    "## delta"
   ]
  },
  {
   "cell_type": "markdown",
   "metadata": {},
   "source": [
    "### PER COUNTRY"
   ]
  },
  {
   "cell_type": "code",
   "execution_count": null,
   "metadata": {
    "collapsed": false,
    "run_control": {
     "frozen": false,
     "read_only": false
    }
   },
   "outputs": [],
   "source": []
  },
  {
   "cell_type": "code",
   "execution_count": 17,
   "metadata": {
    "collapsed": false,
    "run_control": {
     "frozen": false,
     "read_only": false
    }
   },
   "outputs": [
    {
     "name": "stdout",
     "output_type": "stream",
     "text": [
      "Currently working on:  done at 2016-09-17 10:54:50.516830\n"
     ]
    },
    {
     "data": {
      "image/png": "[encoded data removed]",
      "text/plain": [
       "<matplotlib.figure.Figure at 0x1be554a8>"
      ]
     },
     "execution_count": 17,
     "metadata": {},
     "output_type": "execute_result"
    }
   ],
   "source": [
    "#unit for changes   (welfare and asset loses change)\n",
    "unit = dict(multiplier = 1e-6, string = \"US$, millions per year\")\n",
    "\n",
    "render_pol_cards(\n",
    "    delta[policy_list],\n",
    "    colors,\n",
    "    policy_description,\n",
    "    unit,\n",
    "    \n",
    "#     [\"China\"],\n",
    "  country_list,\n",
    "    outfolder=\"cards/country/\")"
   ]
  },
  {
   "cell_type": "markdown",
   "metadata": {},
   "source": [
    "### per policy"
   ]
  },
  {
   "cell_type": "code",
   "execution_count": 18,
   "metadata": {
    "collapsed": false,
    "run_control": {
     "frozen": false,
     "read_only": false
    }
   },
   "outputs": [
    {
     "name": "stdout",
     "output_type": "stream",
     "text": [
      "Currently working on:  done at 2016-09-17 10:55:14.983169\n"
     ]
    },
    {
     "data": {
      "image/png": "[encoded data removed]",
      "text/plain": [
       "<matplotlib.figure.Figure at 0x1ed1f668>"
      ]
     },
     "execution_count": 18,
     "metadata": {},
     "output_type": "execute_result"
    }
   ],
   "source": [
    "#unit for changes   (welfare and asset loses change)\n",
    "unit = dict(multiplier = 1e-6, string = \"US$, millions per year\")\n",
    "\n",
    "render_pol_cards(\n",
    "    delta,\n",
    "    colors,\n",
    "    policy_description,\n",
    "    unit,\n",
    "    policy_list,\n",
    "    use_title=True,\n",
    "    max_lines = 15,\n",
    "    outfolder=\"cards/policy/\",\n",
    "    do_by_policy=True)"
   ]
  },
  {
   "cell_type": "markdown",
   "metadata": {},
   "source": [
    "## Relative to losses"
   ]
  },
  {
   "cell_type": "markdown",
   "metadata": {},
   "source": [
    "### per country"
   ]
  },
  {
   "cell_type": "code",
   "execution_count": 19,
   "metadata": {
    "collapsed": false,
    "run_control": {
     "frozen": false,
     "read_only": false
    },
    "scrolled": true
   },
   "outputs": [
    {
     "name": "stdout",
     "output_type": "stream",
     "text": [
      "Currently working on:  done at 2016-09-17 10:58:54.647207\n"
     ]
    },
    {
     "data": {
      "image/png": "[encoded data removed]",
      "text/plain": [
       "<matplotlib.figure.Figure at 0x14c5d2e8>"
      ]
     },
     "execution_count": 19,
     "metadata": {},
     "output_type": "execute_result"
    }
   ],
   "source": [
    "#unit for changes   (welfare and asset loses change)\n",
    "unit = dict(multiplier = 100, string = \"Percent of current losses\")\n",
    "\n",
    "render_pol_cards(\n",
    "    rel[policy_list],\n",
    "    colors,\n",
    "    policy_description,\n",
    "    unit,\n",
    "    country_list, \n",
    "    name_suffix=\"_rel\",\n",
    "outfolder=\"cards/country/\",)"
   ]
  },
  {
   "cell_type": "code",
   "execution_count": null,
   "metadata": {
    "collapsed": true,
    "run_control": {
     "frozen": false,
     "read_only": false
    }
   },
   "outputs": [],
   "source": []
  },
  {
   "cell_type": "markdown",
   "metadata": {
    "collapsed": true,
    "run_control": {
     "frozen": false,
     "read_only": false
    }
   },
   "source": [
    "### per policy"
   ]
  },
  {
   "cell_type": "code",
   "execution_count": 20,
   "metadata": {
    "collapsed": false,
    "run_control": {
     "frozen": false,
     "read_only": false
    }
   },
   "outputs": [
    {
     "name": "stdout",
     "output_type": "stream",
     "text": [
      "Currently working on:  done at 2016-09-17 10:59:16.969163\n"
     ]
    },
    {
     "data": {
      "image/png": "[encoded data removed]",
      "text/plain": [
       "<matplotlib.figure.Figure at 0x16ade4a8>"
      ]
     },
     "execution_count": 20,
     "metadata": {},
     "output_type": "execute_result"
    }
   ],
   "source": [
    "#unit for changes   (welfare and asset loses change)\n",
    "unit = dict(multiplier = 100, string = \"Percent of current losses\")\n",
    "\n",
    "render_pol_cards(\n",
    "    rel,\n",
    "    colors,\n",
    "    policy_description,\n",
    "    unit,\n",
    "    policy_list,\n",
    "    name_suffix=\"_rel\",\n",
    "    outfolder=\"cards/policy/\",\n",
    "    max_lines=15,\n",
    "    use_title=True,\n",
    "    do_by_policy=True)"
   ]
  },
  {
   "cell_type": "markdown",
   "metadata": {
    "collapsed": true
   },
   "source": [
    "## Merge all cards to single pdf"
   ]
  },
  {
   "cell_type": "markdown",
   "metadata": {},
   "source": [
    "Merges the individual province cards into one big multi page pdf. Requires ghostscript."
   ]
  },
  {
   "cell_type": "code",
   "execution_count": 21,
   "metadata": {
    "collapsed": false,
    "run_control": {
     "frozen": false,
     "read_only": false
    }
   },
   "outputs": [
    {
     "name": "stdout",
     "output_type": "stream",
     "text": [
      "Merging cards....\n",
      "Merging cards done\n",
      "Merging cards....\n",
      "Merging cards done\n"
     ]
    }
   ],
   "source": [
    "#Country cards\n",
    "province_list=glob.glob(\"cards/country/*.pdf\")\n",
    "merge_cardfiles(province_list,\"cards/all_country_cards.pdf\")\n",
    "\n",
    "#Policy cards\n",
    "thepollist=glob.glob(\"cards/policy/*.pdf\")\n",
    "merge_cardfiles(thepollist,\"cards/all_policy_cards.pdf\")"
   ]
  },
  {
   "cell_type": "markdown",
   "metadata": {},
   "source": [
    "Converts the pdf files to png images. Requires Imagemagick."
   ]
  },
  {
   "cell_type": "code",
   "execution_count": 22,
   "metadata": {
    "collapsed": false,
    "run_control": {
     "frozen": false,
     "read_only": false
    }
   },
   "outputs": [],
   "source": [
    "# convert_pdf_to_png(\"cards/\")"
   ]
  },
  {
   "cell_type": "markdown",
   "metadata": {
    "collapsed": true,
    "run_control": {
     "frozen": false,
     "read_only": false
    }
   },
   "source": [
    "# Malawi single case"
   ]
  },
  {
   "cell_type": "code",
   "execution_count": 23,
   "metadata": {
    "collapsed": false,
    "run_control": {
     "frozen": false,
     "read_only": false
    }
   },
   "outputs": [],
   "source": [
    "refout_flood = compute_resilience(macro, cat_info, hazard_ratios.query(\"hazard=='flood'\"))"
   ]
  },
  {
   "cell_type": "code",
   "execution_count": 24,
   "metadata": {
    "collapsed": false,
    "run_control": {
     "frozen": false,
     "read_only": false
    }
   },
   "outputs": [
    {
     "name": "stdout",
     "output_type": "stream",
     "text": [
      "Reduce exposure of the poor by 5% of total exposure\n"
     ]
    }
   ],
   "source": [
    "m,c,hr,a,desc =apply_policy(m_,c_,hr_.query(\"hazard=='flood'\"),a_ ,policy_name=\"fap\")"
   ]
  },
  {
   "cell_type": "code",
   "execution_count": 25,
   "metadata": {
    "collapsed": false,
    "run_control": {
     "frozen": false,
     "read_only": false
    }
   },
   "outputs": [
    {
     "name": "stdout",
     "output_type": "stream",
     "text": [
      "Changed in macro: none.\n",
      "Changed in cat_info: none.\n",
      "Changed in hazard: fa (~13.8%).\n",
      "args: {'verbose_replace': True}\n",
      "Replaced in macro: \n",
      "Replaced in cats: fa, shew\n",
      "Replaced in both: \n",
      "\n",
      "Asset losses were reduced by 3.1 bn$ (2.5% or 0.003% of WDP)\n",
      "Welfare losses were reduced by 15.53 bn$ (7.94%  or 0.017% of WDP)\n",
      "Resilience in countries changed by -3.56%, from (60.42% to 63.98% )\n",
      "Resilience GLOBALLY changed 3.71%, from (62.86% to 66.57% )\n"
     ]
    }
   ],
   "source": [
    "d,r,rto,nv=test_package(m,c,hr,a,return_rel=True, refout=refout_flood)"
   ]
  },
  {
   "cell_type": "code",
   "execution_count": 26,
   "metadata": {
    "collapsed": false,
    "run_control": {
     "frozen": false,
     "read_only": false
    }
   },
   "outputs": [
    {
     "data": {
      "text/html": [
       "<div>\n",
       "<table border=\"1\" class=\"dataframe\">\n",
       "  <thead>\n",
       "    <tr style=\"text-align: right;\">\n",
       "      <th></th>\n",
       "      <th>dKtot</th>\n",
       "      <th>dWtot_currency</th>\n",
       "    </tr>\n",
       "    <tr>\n",
       "      <th>country</th>\n",
       "      <th></th>\n",
       "      <th></th>\n",
       "    </tr>\n",
       "  </thead>\n",
       "  <tbody>\n",
       "    <tr>\n",
       "      <th>Malawi</th>\n",
       "      <td>2.150041</td>\n",
       "      <td>18.751595</td>\n",
       "    </tr>\n",
       "    <tr>\n",
       "      <th>Bangladesh</th>\n",
       "      <td>280.209348</td>\n",
       "      <td>1140.820713</td>\n",
       "    </tr>\n",
       "  </tbody>\n",
       "</table>\n",
       "</div>"
      ],
      "text/plain": [
       "                 dKtot  dWtot_currency\n",
       "country                               \n",
       "Malawi        2.150041       18.751595\n",
       "Bangladesh  280.209348     1140.820713"
      ]
     },
     "execution_count": 26,
     "metadata": {},
     "output_type": "execute_result"
    }
   ],
   "source": [
    "x=d.ix[[\"Malawi\",\"Bangladesh\"],[\"dKtot\",\"dWtot_currency\"]]*1e-6 \n",
    "x"
   ]
  },
  {
   "cell_type": "markdown",
   "metadata": {},
   "source": [
    "## per capita"
   ]
  },
  {
   "cell_type": "code",
   "execution_count": 27,
   "metadata": {
    "collapsed": false,
    "run_control": {
     "frozen": false,
     "read_only": false
    }
   },
   "outputs": [
    {
     "data": {
      "text/html": [
       "<div>\n",
       "<table border=\"1\" class=\"dataframe\">\n",
       "  <thead>\n",
       "    <tr style=\"text-align: right;\">\n",
       "      <th></th>\n",
       "      <th>Bangladesh</th>\n",
       "      <th>Malawi</th>\n",
       "    </tr>\n",
       "  </thead>\n",
       "  <tbody>\n",
       "    <tr>\n",
       "      <th>dKtot</th>\n",
       "      <td>93.403116</td>\n",
       "      <td>13.437755</td>\n",
       "    </tr>\n",
       "    <tr>\n",
       "      <th>dWtot_currency</th>\n",
       "      <td>380.273571</td>\n",
       "      <td>117.197471</td>\n",
       "    </tr>\n",
       "  </tbody>\n",
       "</table>\n",
       "</div>"
      ],
      "text/plain": [
       "                Bangladesh      Malawi\n",
       "dKtot            93.403116   13.437755\n",
       "dWtot_currency  380.273571  117.197471"
      ]
     },
     "execution_count": 27,
     "metadata": {},
     "output_type": "execute_result"
    }
   ],
   "source": [
    "x.T/pd.Series(dict(Malawi=.16, Bangladesh=3))"
   ]
  },
  {
   "cell_type": "code",
   "execution_count": 28,
   "metadata": {
    "collapsed": false,
    "run_control": {
     "frozen": false,
     "read_only": false
    }
   },
   "outputs": [
    {
     "data": {
      "text/plain": [
       "country\n",
       "Malawi        1.536713e+06\n",
       "Bangladesh    2.505070e+07\n",
       "dtype: float64"
      ]
     },
     "execution_count": 28,
     "metadata": {},
     "output_type": "execute_result"
    }
   ],
   "source": [
    "#just double checking the number of people\n",
    "(hazard_ratios.query(\"hazard=='flood' & rp==100\").fa*macro[\"pop\"]).ix[[\"Malawi\",\"Bangladesh\"]].mean(level=\"country\")"
   ]
  },
  {
   "cell_type": "markdown",
   "metadata": {},
   "source": [
    "## discounted"
   ]
  },
  {
   "cell_type": "code",
   "execution_count": 29,
   "metadata": {
    "collapsed": false,
    "run_control": {
     "frozen": false,
     "read_only": false
    }
   },
   "outputs": [
    {
     "data": {
      "text/html": [
       "<div>\n",
       "<table border=\"1\" class=\"dataframe\">\n",
       "  <thead>\n",
       "    <tr style=\"text-align: right;\">\n",
       "      <th></th>\n",
       "      <th>Bangladesh</th>\n",
       "      <th>Malawi</th>\n",
       "    </tr>\n",
       "  </thead>\n",
       "  <tbody>\n",
       "    <tr>\n",
       "      <th>dKtot</th>\n",
       "      <td>1556.718600</td>\n",
       "      <td>223.962577</td>\n",
       "    </tr>\n",
       "    <tr>\n",
       "      <th>dWtot_currency</th>\n",
       "      <td>6337.892849</td>\n",
       "      <td>1953.291183</td>\n",
       "    </tr>\n",
       "  </tbody>\n",
       "</table>\n",
       "</div>"
      ],
      "text/plain": [
       "                 Bangladesh       Malawi\n",
       "dKtot           1556.718600   223.962577\n",
       "dWtot_currency  6337.892849  1953.291183"
      ]
     },
     "execution_count": 29,
     "metadata": {},
     "output_type": "execute_result"
    }
   ],
   "source": [
    "x.T/pd.Series(dict(Malawi=.16, Bangladesh=3))/.06"
   ]
  },
  {
   "cell_type": "code",
   "execution_count": null,
   "metadata": {
    "collapsed": true,
    "run_control": {
     "frozen": false,
     "read_only": false
    }
   },
   "outputs": [],
   "source": []
  },
  {
   "cell_type": "code",
   "execution_count": null,
   "metadata": {
    "collapsed": true,
    "run_control": {
     "frozen": false,
     "read_only": false
    }
   },
   "outputs": [],
   "source": []
  },
  {
   "cell_type": "code",
   "execution_count": null,
   "metadata": {
    "collapsed": true,
    "run_control": {
     "frozen": false,
     "read_only": false
    }
   },
   "outputs": [],
   "source": []
  }
 ],
 "metadata": {
  "kernelspec": {
   "display_name": "Python 3",
   "language": "python",
   "name": "python3"
  },
  "language_info": {
   "codemirror_mode": {
    "name": "ipython",
    "version": 3
   },
   "file_extension": ".py",
   "mimetype": "text/x-python",
   "name": "python",
   "nbconvert_exporter": "python",
   "pygments_lexer": "ipython3",
   "version": "3.4.4"
  },
  "nav_menu": {},
  "toc": {
   "navigate_menu": true,
   "number_sections": true,
   "sideBar": true,
   "threshold": 6,
   "toc_cell": false,
   "toc_section_display": "block",
   "toc_window_display": true
  },
  "toc_position": {
   "height": "669px",
   "left": "0px",
   "right": "1388px",
   "top": "106px",
   "width": "273px"
  }
 },
 "nbformat": 4,
 "nbformat_minor": 0
}
