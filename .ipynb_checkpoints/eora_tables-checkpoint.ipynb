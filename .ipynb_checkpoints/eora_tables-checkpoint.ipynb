{
 "cells": [
  {
   "cell_type": "code",
   "execution_count": 114,
   "metadata": {
    "collapsed": true
   },
   "outputs": [],
   "source": [
    "import pandas as pd\n",
    "import numpy as np\n",
    "import glob\n",
    "import re"
   ]
  },
  {
   "cell_type": "code",
   "execution_count": 128,
   "metadata": {
    "collapsed": true
   },
   "outputs": [],
   "source": [
    "#Names to WB names\n",
    "any_to_wb = pd.read_csv(\"inputs/any_name_to_wb_name.csv\",index_col=\"any\",squeeze=True)\n",
    "\n",
    "#GAR names with SIDS spec\n",
    "gar_name_sids = pd.read_csv(\"inputs/gar_name_sids.csv\")\n",
    "\n",
    "#iso3 to wb country name table\n",
    "iso3_to_wb=pd.read_csv(\"inputs/iso3_to_wb_name.csv\").set_index(\"iso3\").squeeze()\n",
    "\n",
    "#iso2 to iso3 table\n",
    "iso2_iso3 = pd.read_csv(\"inputs/names_to_iso.csv\", usecols=[\"iso2\",\"iso3\"]).drop_duplicates().set_index(\"iso2\").squeeze() #the tables has more lines than countries to account for several ways of writing country names"
   ]
  },
  {
   "cell_type": "code",
   "execution_count": 135,
   "metadata": {
    "collapsed": false
   },
   "outputs": [],
   "source": [
    "path ='inputs\\\\IOtables'\n",
    "allFiles = glob.glob(path + \"/*.tab\")"
   ]
  },
  {
   "cell_type": "code",
   "execution_count": 137,
   "metadata": {
    "collapsed": false
   },
   "outputs": [],
   "source": [
    "countries_with_io = [s.split(\"_\")[1] for s in allFiles]"
   ]
  },
  {
   "cell_type": "code",
   "execution_count": 141,
   "metadata": {
    "collapsed": false
   },
   "outputs": [
    {
     "data": {
      "text/plain": [
       "185"
      ]
     },
     "execution_count": 141,
     "metadata": {},
     "output_type": "execute_result"
    }
   ],
   "source": [
    "iso3_to_wb[countries_with_io].drop_duplicates().count()"
   ]
  },
  {
   "cell_type": "code",
   "execution_count": 7,
   "metadata": {
    "collapsed": true
   },
   "outputs": [],
   "source": [
    "df = pd.DataFrame(columns = [\"share_transport\",\"share_water_energy\",\"share_construction\",\"share_ict\"])\n",
    "\n",
    "for file in allFiles:\n",
    "    tt = pd.read_table(file)\n",
    "    iso3 = file.split(\"_\")[1]\n",
    "\n",
    "    d = tt.ix[tt[\"Unnamed: 2\"]==\"Industries\",(tt.loc[1,:]==\"Final Demand\")|(tt.loc[1,:]==\"ExportsTo\")].astype(float).sum(axis=1)\n",
    "    d.index = tt.ix[selectrows,\"Unnamed: 3\"]\n",
    "\n",
    "    X = tt.ix[tt[\"Unnamed: 2\"]==\"Industries\",tt.loc[1,:]==\"Industries\"].astype(float)\n",
    "    X.columns = tt.ix[2,selectcolumns]\n",
    "    X.index = tt.ix[tt[\"Unnamed: 2\"]==\"Industries\",\"Unnamed: 3\"]\n",
    "    \n",
    "    Y = X.sum(axis=1)+d\n",
    "    \n",
    "    df.loc[iso3,\"share_transport\"]    = Y.loc[[\"Transport\",\"Transport Equipment\"]].sum()/Y.sum()\n",
    "    df.loc[iso3,\"share_water_energy\"] = Y.loc[[\"Electricity, Gas and Water\"]].sum()/Y.sum()\n",
    "    df.loc[iso3,\"share_construction\"] = Y.loc[[\"Construction\"]].sum()/Y.sum()\n",
    "    df.loc[iso3,\"share_ict\"]          = Y.loc[[\"Post and Telecommunications\"]].sum()/Y.sum()\n",
    "    "
   ]
  },
  {
   "cell_type": "code",
   "execution_count": 91,
   "metadata": {
    "collapsed": false
   },
   "outputs": [],
   "source": [
    "selectrows = tt[\"Unnamed: 2\"]==\"Industries\"\n",
    "selectcolumns = (tt.loc[1,:]==\"Industries\")\n",
    "\n",
    "X = tt.ix[selectrows,selectcolumns].astype(float)\n",
    "X.columns = tt.ix[2,selectcolumns]\n",
    "X.index = tt.ix[selectrows,\"Unnamed: 3\"]"
   ]
  },
  {
   "cell_type": "code",
   "execution_count": 92,
   "metadata": {
    "collapsed": true
   },
   "outputs": [],
   "source": [
    "Y = X.sum(axis=1)+d"
   ]
  },
  {
   "cell_type": "code",
   "execution_count": 93,
   "metadata": {
    "collapsed": false
   },
   "outputs": [
    {
     "data": {
      "text/plain": [
       "Unnamed: 3\n",
       "Agriculture                                              2.982719e+08\n",
       "Fishing                                                  1.357287e+08\n",
       "Mining and Quarrying                                     1.311953e+08\n",
       "Food & Beverages                                         4.553802e+08\n",
       "Textiles and Wearing Apparel                             1.270341e+08\n",
       "Wood and Paper                                           2.345484e+08\n",
       "Petroleum, Chemical and Non-Metallic Mineral Products    4.523822e+08\n",
       "Metal Products                                           1.900635e+08\n",
       "Electrical and Machinery                                 4.915759e+08\n",
       "Transport Equipment                                      2.300969e+08\n",
       "Other Manufacturing                                      8.467140e+07\n",
       "Recycling                                                3.456625e+07\n",
       "Electricity, Gas and Water                               1.815466e+08\n",
       "Construction                                             5.135346e+08\n",
       "Maintenance and Repair                                   2.946718e+07\n",
       "Wholesale Trade                                          4.473119e+08\n",
       "Retail Trade                                             4.188320e+08\n",
       "Hotels and Restraurants                                  3.422203e+08\n",
       "Transport                                                5.557172e+08\n",
       "Post and Telecommunications                              3.792203e+08\n",
       "Finacial Intermediation and Business Activities          2.170491e+09\n",
       "Public Administration                                    6.448481e+08\n",
       "Education, Health and Other Services                     1.030325e+09\n",
       "Private Households                                       2.242386e+07\n",
       "Others                                                   3.151753e+07\n",
       "Re-export & Re-import                                    1.141766e+07\n",
       "dtype: float64"
      ]
     },
     "execution_count": 93,
     "metadata": {},
     "output_type": "execute_result"
    }
   ],
   "source": [
    "Y"
   ]
  },
  {
   "cell_type": "code",
   "execution_count": 86,
   "metadata": {
    "collapsed": true
   },
   "outputs": [],
   "source": [
    "infra_sectors = [\"Transport\",\"Electricity, Gas and Water\",\"Post and Telecommunications\",\"Construction\",\"Transport Equipment\",\"Recycling\"]"
   ]
  },
  {
   "cell_type": "code",
   "execution_count": 95,
   "metadata": {
    "collapsed": false
   },
   "outputs": [
    {
     "data": {
      "text/plain": [
       "0.19645435230883176"
      ]
     },
     "execution_count": 95,
     "metadata": {},
     "output_type": "execute_result"
    }
   ],
   "source": [
    "Y.loc[infra_sectors].sum()/Y.sum()"
   ]
  },
  {
   "cell_type": "code",
   "execution_count": 87,
   "metadata": {
    "collapsed": false
   },
   "outputs": [
    {
     "data": {
      "text/plain": [
       "Unnamed: 3\n",
       "Transport                      0.543852\n",
       "Electricity, Gas and Water     0.603337\n",
       "Post and Telecommunications    0.557946\n",
       "Construction                   0.176372\n",
       "Transport Equipment            0.388392\n",
       "Recycling                      0.093318\n",
       "dtype: float64"
      ]
     },
     "execution_count": 87,
     "metadata": {},
     "output_type": "execute_result"
    }
   ],
   "source": [
    "X.loc[infra_sectors,:].sum(axis=1)/(X.loc[infra_sectors,:].sum(axis=1)+d[infra_sectors])"
   ]
  },
  {
   "cell_type": "code",
   "execution_count": 88,
   "metadata": {
    "collapsed": false
   },
   "outputs": [
    {
     "data": {
      "text/plain": [
       "0.4256717003356717"
      ]
     },
     "execution_count": 88,
     "metadata": {},
     "output_type": "execute_result"
    }
   ],
   "source": [
    "X.loc[infra_sectors,:].sum(axis=1).sum()/(X.loc[infra_sectors,:].sum(axis=1).sum()+d[infra_sectors].sum())"
   ]
  },
  {
   "cell_type": "code",
   "execution_count": 104,
   "metadata": {
    "collapsed": true
   },
   "outputs": [],
   "source": [
    "share_non_infra = 1-Y.loc[infra_sectors].sum()/Y.sum()\n",
    "share_infra_inter = X.loc[infra_sectors,:].sum(axis=1).sum()/Y.sum()\n",
    "share_infra_final = d[infra_sectors].sum()/Y.sum()\n",
    "share_infra = Y.loc[infra_sectors].sum()/Y.sum()"
   ]
  },
  {
   "cell_type": "code",
   "execution_count": 105,
   "metadata": {
    "collapsed": false
   },
   "outputs": [
    {
     "data": {
      "text/plain": [
       "0.19645435230883176"
      ]
     },
     "execution_count": 105,
     "metadata": {},
     "output_type": "execute_result"
    }
   ],
   "source": [
    "share_infra"
   ]
  },
  {
   "cell_type": "code",
   "execution_count": 102,
   "metadata": {
    "collapsed": false
   },
   "outputs": [
    {
     "data": {
      "text/plain": [
       "0.0836250581856435"
      ]
     },
     "execution_count": 102,
     "metadata": {},
     "output_type": "execute_result"
    }
   ],
   "source": [
    "share_infra_inter"
   ]
  },
  {
   "cell_type": "code",
   "execution_count": 103,
   "metadata": {
    "collapsed": false
   },
   "outputs": [
    {
     "data": {
      "text/plain": [
       "0.11282929412318825"
      ]
     },
     "execution_count": 103,
     "metadata": {},
     "output_type": "execute_result"
    }
   ],
   "source": [
    "share_infra_final"
   ]
  },
  {
   "cell_type": "code",
   "execution_count": null,
   "metadata": {
    "collapsed": true
   },
   "outputs": [],
   "source": []
  }
 ],
 "metadata": {
  "kernelspec": {
   "display_name": "Python [conda root]",
   "language": "python",
   "name": "conda-root-py"
  },
  "language_info": {
   "codemirror_mode": {
    "name": "ipython",
    "version": 3
   },
   "file_extension": ".py",
   "mimetype": "text/x-python",
   "name": "python",
   "nbconvert_exporter": "python",
   "pygments_lexer": "ipython3",
   "version": "3.5.2"
  },
  "toc": {
   "colors": {
    "hover_highlight": "#DAA520",
    "navigate_num": "#000000",
    "navigate_text": "#333333",
    "running_highlight": "#FF0000",
    "selected_highlight": "#FFD700",
    "sidebar_border": "#EEEEEE",
    "wrapper_background": "#FFFFFF"
   },
   "moveMenuLeft": true,
   "nav_menu": {
    "height": "12px",
    "width": "252px"
   },
   "navigate_menu": true,
   "number_sections": true,
   "sideBar": true,
   "threshold": 4,
   "toc_cell": false,
   "toc_section_display": "block",
   "toc_window_display": false,
   "widenNotebook": false
  }
 },
 "nbformat": 4,
 "nbformat_minor": 2
}
