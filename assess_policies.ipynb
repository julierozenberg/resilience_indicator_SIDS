{
 "cells": [
  {
   "cell_type": "code",
   "execution_count": 57,
   "metadata": {
    "collapsed": false,
    "run_control": {
     "frozen": false,
     "read_only": false
    }
   },
   "outputs": [
    {
     "name": "stdout",
     "output_type": "stream",
     "text": [
      "The autoreload extension is already loaded. To reload it, use:\n",
      "  %reload_ext autoreload\n"
     ]
    }
   ],
   "source": [
    "%load_ext autoreload\n",
    "%autoreload 2\n",
    "\n",
    "import pandas as pd\n",
    "\n",
    "from res_ind_lib import *\n",
    "\n",
    "#Imports the function to plot render the policy experiments\n",
    "from policy_assessment import *\n",
    "from apply_policy import apply_policy\n",
    "\n",
    "#ask jupyter to display the plots within this notebook\n",
    "%matplotlib inline"
   ]
  },
  {
   "cell_type": "markdown",
   "metadata": {},
   "source": [
    "# Baseline data and function"
   ]
  },
  {
   "cell_type": "markdown",
   "metadata": {},
   "source": [
    "## parameters"
   ]
  },
  {
   "cell_type": "code",
   "execution_count": 58,
   "metadata": {
    "collapsed": true,
    "run_control": {
     "frozen": false,
     "read_only": false
    }
   },
   "outputs": [],
   "source": [
    "economy = \"country\" #province, deparmtent\n",
    "event_level = [economy, \"hazard\", \"rp\"]\n",
    "infra_cats = ['transport','all_infra_but_transport']\n",
    "sector_cats = ['transport','all_infra_but_transport','other_k']"
   ]
  },
  {
   "cell_type": "markdown",
   "metadata": {},
   "source": [
    "## inputs"
   ]
  },
  {
   "cell_type": "code",
   "execution_count": 59,
   "metadata": {
    "collapsed": false,
    "run_control": {
     "frozen": false,
     "read_only": false
    }
   },
   "outputs": [],
   "source": [
    "#Load the excel data file into a dataframe (table)\n",
    "macro=pd.read_csv(\"intermediate/macro.csv\", \n",
    "                 index_col=economy, #tells Pandas to use the first column (Provinces) as the index of the table\n",
    "                ).dropna() \n",
    "\n",
    "\n",
    "# macro=def_ref_values(macro)\n",
    "\n",
    "#Displays the first rows of that dataframe\n",
    "macro.head()\n",
    "\n",
    "macro[\"gdp_pc_pp_ref\"] =macro[\"gdp_pc_pp\"] \n",
    "\n"
   ]
  },
  {
   "cell_type": "code",
   "execution_count": 60,
   "metadata": {
    "collapsed": false,
    "run_control": {
     "frozen": false,
     "read_only": false
    }
   },
   "outputs": [
    {
     "data": {
      "text/html": [
       "<div>\n",
       "<table border=\"1\" class=\"dataframe\">\n",
       "  <thead>\n",
       "    <tr style=\"text-align: right;\">\n",
       "      <th></th>\n",
       "      <th></th>\n",
       "      <th>n</th>\n",
       "      <th>c</th>\n",
       "      <th>axfin</th>\n",
       "      <th>gamma_SP</th>\n",
       "      <th>k</th>\n",
       "      <th>fa</th>\n",
       "      <th>v</th>\n",
       "      <th>shew</th>\n",
       "    </tr>\n",
       "    <tr>\n",
       "      <th>country</th>\n",
       "      <th>income_cat</th>\n",
       "      <th></th>\n",
       "      <th></th>\n",
       "      <th></th>\n",
       "      <th></th>\n",
       "      <th></th>\n",
       "      <th></th>\n",
       "      <th></th>\n",
       "      <th></th>\n",
       "    </tr>\n",
       "  </thead>\n",
       "  <tbody>\n",
       "    <tr>\n",
       "      <th rowspan=\"2\" valign=\"top\">Albania</th>\n",
       "      <th>nonpoor</th>\n",
       "      <td>0.8</td>\n",
       "      <td>13016.935891</td>\n",
       "      <td>0.096454</td>\n",
       "      <td>1.095582</td>\n",
       "      <td>70827.184540</td>\n",
       "      <td>0.025179</td>\n",
       "      <td>0.351500</td>\n",
       "      <td>0.0</td>\n",
       "    </tr>\n",
       "    <tr>\n",
       "      <th>poor</th>\n",
       "      <td>0.2</td>\n",
       "      <td>5055.398031</td>\n",
       "      <td>0.044618</td>\n",
       "      <td>0.617673</td>\n",
       "      <td>24998.396447</td>\n",
       "      <td>0.024174</td>\n",
       "      <td>0.700000</td>\n",
       "      <td>0.0</td>\n",
       "    </tr>\n",
       "    <tr>\n",
       "      <th rowspan=\"2\" valign=\"top\">Angola</th>\n",
       "      <th>nonpoor</th>\n",
       "      <td>0.8</td>\n",
       "      <td>7121.979386</td>\n",
       "      <td>0.222081</td>\n",
       "      <td>1.159988</td>\n",
       "      <td>16507.539225</td>\n",
       "      <td>0.003203</td>\n",
       "      <td>0.600000</td>\n",
       "      <td>0.0</td>\n",
       "    </tr>\n",
       "    <tr>\n",
       "      <th>poor</th>\n",
       "      <td>0.2</td>\n",
       "      <td>1635.713147</td>\n",
       "      <td>0.040259</td>\n",
       "      <td>0.360049</td>\n",
       "      <td>3636.384458</td>\n",
       "      <td>0.014163</td>\n",
       "      <td>0.700000</td>\n",
       "      <td>0.0</td>\n",
       "    </tr>\n",
       "    <tr>\n",
       "      <th>Antigua and Barbuda</th>\n",
       "      <th>nonpoor</th>\n",
       "      <td>0.8</td>\n",
       "      <td>25704.504585</td>\n",
       "      <td>0.153000</td>\n",
       "      <td>1.223611</td>\n",
       "      <td>64278.309421</td>\n",
       "      <td>0.203447</td>\n",
       "      <td>0.763987</td>\n",
       "      <td>0.3</td>\n",
       "    </tr>\n",
       "  </tbody>\n",
       "</table>\n",
       "</div>"
      ],
      "text/plain": [
       "                                  n             c     axfin  gamma_SP  \\\n",
       "country             income_cat                                          \n",
       "Albania             nonpoor     0.8  13016.935891  0.096454  1.095582   \n",
       "                    poor        0.2   5055.398031  0.044618  0.617673   \n",
       "Angola              nonpoor     0.8   7121.979386  0.222081  1.159988   \n",
       "                    poor        0.2   1635.713147  0.040259  0.360049   \n",
       "Antigua and Barbuda nonpoor     0.8  25704.504585  0.153000  1.223611   \n",
       "\n",
       "                                           k        fa         v  shew  \n",
       "country             income_cat                                          \n",
       "Albania             nonpoor     70827.184540  0.025179  0.351500   0.0  \n",
       "                    poor        24998.396447  0.024174  0.700000   0.0  \n",
       "Angola              nonpoor     16507.539225  0.003203  0.600000   0.0  \n",
       "                    poor         3636.384458  0.014163  0.700000   0.0  \n",
       "Antigua and Barbuda nonpoor     64278.309421  0.203447  0.763987   0.3  "
      ]
     },
     "execution_count": 60,
     "metadata": {},
     "output_type": "execute_result"
    }
   ],
   "source": [
    "cat_info = pd.read_csv(\"intermediate/cat_info.csv\", index_col=[economy,\"income_cat\"])\n",
    "\n",
    "# cat_info.v = cat_info.v.unstack().assign(poor=lambda df:df.nonpoor).stack()\n",
    "\n",
    "\n",
    "cat_info.head()"
   ]
  },
  {
   "cell_type": "code",
   "execution_count": 61,
   "metadata": {
    "collapsed": false
   },
   "outputs": [
    {
     "data": {
      "text/html": [
       "<div>\n",
       "<table border=\"1\" class=\"dataframe\">\n",
       "  <thead>\n",
       "    <tr style=\"text-align: right;\">\n",
       "      <th></th>\n",
       "      <th></th>\n",
       "      <th>share</th>\n",
       "      <th>v</th>\n",
       "      <th>fa</th>\n",
       "    </tr>\n",
       "    <tr>\n",
       "      <th>country</th>\n",
       "      <th>sector</th>\n",
       "      <th></th>\n",
       "      <th></th>\n",
       "      <th></th>\n",
       "    </tr>\n",
       "  </thead>\n",
       "  <tbody>\n",
       "    <tr>\n",
       "      <th>Fiji</th>\n",
       "      <th>transport</th>\n",
       "      <td>0.130303</td>\n",
       "      <td>0.243342</td>\n",
       "      <td>0.186727</td>\n",
       "    </tr>\n",
       "    <tr>\n",
       "      <th>Jamaica</th>\n",
       "      <th>all_infra_but_transport</th>\n",
       "      <td>0.372426</td>\n",
       "      <td>0.407671</td>\n",
       "      <td>0.140410</td>\n",
       "    </tr>\n",
       "  </tbody>\n",
       "</table>\n",
       "</div>"
      ],
      "text/plain": [
       "                                    share         v        fa\n",
       "country sector                                               \n",
       "Fiji    transport                0.130303  0.243342  0.186727\n",
       "Jamaica all_infra_but_transport  0.372426  0.407671  0.140410"
      ]
     },
     "execution_count": 61,
     "metadata": {},
     "output_type": "execute_result"
    }
   ],
   "source": [
    "infra_stocks = pd.read_csv(\"intermediate/infra_stocks_in.csv\", index_col=[economy,\"sector\"]).dropna()\n",
    "infra_stocks.sample(n=2)"
   ]
  },
  {
   "cell_type": "code",
   "execution_count": 62,
   "metadata": {
    "collapsed": false,
    "run_control": {
     "frozen": false,
     "read_only": false
    }
   },
   "outputs": [
    {
     "data": {
      "text/html": [
       "<div>\n",
       "<table border=\"1\" class=\"dataframe\">\n",
       "  <thead>\n",
       "    <tr style=\"text-align: right;\">\n",
       "      <th></th>\n",
       "      <th></th>\n",
       "      <th></th>\n",
       "      <th></th>\n",
       "      <th></th>\n",
       "      <th>fa</th>\n",
       "      <th>shew</th>\n",
       "      <th>share</th>\n",
       "    </tr>\n",
       "    <tr>\n",
       "      <th>country</th>\n",
       "      <th>sector</th>\n",
       "      <th>hazard</th>\n",
       "      <th>rp</th>\n",
       "      <th>income_cat</th>\n",
       "      <th></th>\n",
       "      <th></th>\n",
       "      <th></th>\n",
       "    </tr>\n",
       "  </thead>\n",
       "  <tbody>\n",
       "    <tr>\n",
       "      <th rowspan=\"5\" valign=\"top\">Albania</th>\n",
       "      <th rowspan=\"2\" valign=\"top\">all_infra_but_transport</th>\n",
       "      <th rowspan=\"2\" valign=\"top\">earthquake</th>\n",
       "      <th rowspan=\"2\" valign=\"top\">20.0</th>\n",
       "      <th>nonpoor</th>\n",
       "      <td>0.007294</td>\n",
       "      <td>0.0</td>\n",
       "      <td>NaN</td>\n",
       "    </tr>\n",
       "    <tr>\n",
       "      <th>poor</th>\n",
       "      <td>0.007294</td>\n",
       "      <td>0.0</td>\n",
       "      <td>NaN</td>\n",
       "    </tr>\n",
       "    <tr>\n",
       "      <th rowspan=\"2\" valign=\"top\">other_k</th>\n",
       "      <th rowspan=\"2\" valign=\"top\">earthquake</th>\n",
       "      <th rowspan=\"2\" valign=\"top\">20.0</th>\n",
       "      <th>nonpoor</th>\n",
       "      <td>0.007294</td>\n",
       "      <td>0.0</td>\n",
       "      <td>NaN</td>\n",
       "    </tr>\n",
       "    <tr>\n",
       "      <th>poor</th>\n",
       "      <td>0.007294</td>\n",
       "      <td>0.0</td>\n",
       "      <td>NaN</td>\n",
       "    </tr>\n",
       "    <tr>\n",
       "      <th>transport</th>\n",
       "      <th>earthquake</th>\n",
       "      <th>20.0</th>\n",
       "      <th>nonpoor</th>\n",
       "      <td>0.007294</td>\n",
       "      <td>0.0</td>\n",
       "      <td>NaN</td>\n",
       "    </tr>\n",
       "  </tbody>\n",
       "</table>\n",
       "</div>"
      ],
      "text/plain": [
       "                                                                  fa  shew  \\\n",
       "country sector                  hazard     rp   income_cat                   \n",
       "Albania all_infra_but_transport earthquake 20.0 nonpoor     0.007294   0.0   \n",
       "                                                poor        0.007294   0.0   \n",
       "        other_k                 earthquake 20.0 nonpoor     0.007294   0.0   \n",
       "                                                poor        0.007294   0.0   \n",
       "        transport               earthquake 20.0 nonpoor     0.007294   0.0   \n",
       "\n",
       "                                                            share  \n",
       "country sector                  hazard     rp   income_cat         \n",
       "Albania all_infra_but_transport earthquake 20.0 nonpoor       NaN  \n",
       "                                                poor          NaN  \n",
       "        other_k                 earthquake 20.0 nonpoor       NaN  \n",
       "                                                poor          NaN  \n",
       "        transport               earthquake 20.0 nonpoor       NaN  "
      ]
     },
     "execution_count": 62,
     "metadata": {},
     "output_type": "execute_result"
    }
   ],
   "source": [
    "hazard_ratios = pd.read_csv(\"intermediate/hazard_ratios.csv\", index_col=event_level+[\"income_cat\"])\n",
    "\n",
    "hazard_ratios.head()"
   ]
  },
  {
   "cell_type": "code",
   "execution_count": 63,
   "metadata": {
    "collapsed": false,
    "run_control": {
     "frozen": false,
     "read_only": false
    }
   },
   "outputs": [
    {
     "name": "stdout",
     "output_type": "stream",
     "text": [
      "macro variables are: gdp_pc_pp, pop, urbanization_rate, gdp_pc_cd, prepare_scaleup, borrow_abi, avg_prod_k, T_rebuild_K, pi, income_elast, rho, shareable, max_increased_spending, protection, tau_tax, gdp_pc_pp_ref\n",
      "micro variables are: n, c, axfin, gamma_SP, k, fa, v, shew\n",
      "hazard variables are: fa, shew, share\n"
     ]
    }
   ],
   "source": [
    "print(\"macro variables are: \"+\", \".join(macro.columns))\n",
    "print(\"micro variables are: \"+\", \".join(cat_info.columns))\n",
    "print(\"hazard variables are: \"+\", \".join(hazard_ratios.columns))"
   ]
  },
  {
   "cell_type": "markdown",
   "metadata": {},
   "source": [
    "## output"
   ]
  },
  {
   "cell_type": "code",
   "execution_count": 64,
   "metadata": {
    "collapsed": false,
    "run_control": {
     "frozen": false,
     "read_only": false
    }
   },
   "outputs": [
    {
     "name": "stdout",
     "output_type": "stream",
     "text": [
      "Replaced in macro: \n",
      "Replaced in cats: fa, shew\n",
      "Replaced in both: \n"
     ]
    }
   ],
   "source": [
    "refout = compute_resilience(macro,cat_info,infra_stocks,hazard_ratios=hazard_ratios,verbose_replace=True)\n",
    "# .drop(\"Togo\",axis=0)"
   ]
  },
  {
   "cell_type": "code",
   "execution_count": 65,
   "metadata": {
    "collapsed": false,
    "run_control": {
     "frozen": false,
     "read_only": false
    }
   },
   "outputs": [
    {
     "data": {
      "text/plain": [
       "(2.763069634892683, 9.744398778914439)"
      ]
     },
     "execution_count": 65,
     "metadata": {},
     "output_type": "execute_result"
    }
   ],
   "source": [
    "refout.dKtot.sum()*1e-9 , refout.dWtot_currency.sum()*1e-9"
   ]
  },
  {
   "cell_type": "markdown",
   "metadata": {},
   "source": [
    "## function test_package"
   ]
  },
  {
   "cell_type": "code",
   "execution_count": 66,
   "metadata": {
    "collapsed": false,
    "run_control": {
     "frozen": false,
     "read_only": false
    }
   },
   "outputs": [],
   "source": [
    "def test_package(m,c,i,h,a,return_rel=False,macro=macro,hazard_ratios=hazard_ratios,cat_info=cat_info,infra_stocks=infra_stocks,refout=refout, verbose=True):\n",
    "    \"\"\"test a policy package where:\n",
    "    -macro, cat_info and hazard_ratios, which are assumed to yield refout (all 4 optional, defautlt o baseline)\n",
    "    are replaced by:\n",
    "    m,c,and h. \n",
    "    This function states the difference between old and new set of params, runs the model with new set of paramters, \n",
    "    and reports difference in dW and dk\"\"\"\n",
    "        \n",
    "    #State differences\n",
    "    if verbose:\n",
    "        print(\"Changed in macro: \"+changed_lines(m,macro))\n",
    "        print(\"Changed in cat_info: \"+changed_lines(c,cat_info))\n",
    "        print(\"Changed in hazard: \"+changed_lines(h,hazard_ratios))\n",
    "        print(\"args: \"+repr(a))\n",
    "\n",
    "    #New outputs from new inputs\n",
    "    nu = compute_resilience(m,c,i,h,**a)\n",
    "\n",
    "    #absolute and relative difference\n",
    "    delta =  refout-nu\n",
    "    rel = delta/refout\n",
    "    reltogdp = (delta.T/(m[\"gdp_pc_pp\"]*m[\"pop\"])).T\n",
    "    \n",
    "    #sumarizes difference in outputs\n",
    "    if verbose:\n",
    "        print(\"\\nAsset losses were reduced by {dk:.1f} bn$ ({dkr:.1%} or {g:.3%} of WDP)\".format(\n",
    "                dk=delta.dKtot.sum()*1e-9,\n",
    "                dkr=delta.dKtot.sum()/refout.dKtot.sum(),\n",
    "                g = delta.dKtot.sum()/(m[\"gdp_pc_pp\"]*m[\"pop\"]).sum())\n",
    "             )\n",
    "        print(\"Welfare losses were reduced by {dw:.2f} bn$ ({dwr:.2%}  or {g:.3%} of WDP)\".format(\n",
    "                dw=delta.dWtot_currency.sum()*1e-9,\n",
    "                dwr=delta.dWtot_currency.sum()/refout.dWtot_currency.sum(),\n",
    "                g = delta.dWtot_currency.sum()/(m[\"gdp_pc_pp\"]*m[\"pop\"]).sum())\n",
    "             )\n",
    "    \n",
    "        print(\"Resilience in countries changed by {dr:.2%}, from ({old:.2%} to {new:.2%} )\".format(\n",
    "                dr=delta.resilience.mean(),\n",
    "                old=refout.resilience.mean(),\n",
    "                new =nu.resilience.mean()             )\n",
    "              )\n",
    "        \n",
    "        old=refout.dKtot.sum()/refout.dWtot_currency.sum()\n",
    "        new =nu.dKtot.sum()/nu.dWtot_currency.sum()     \n",
    "        print(\"Resilience GLOBALLY changed {d:.2%}, from ({old:.2%} to {new:.2%} )\".format(\n",
    "                    d=new-old,\n",
    "            old=old,\n",
    "            new=new)\n",
    "              )\n",
    "    \n",
    "    \n",
    "    \n",
    "    #returns rel and abs difference\n",
    "    if return_rel:\n",
    "        return delta,rel,reltogdp,nu[[\"risk_to_assets\",\"resilience\",\"risk\"]]\n",
    "    \n",
    "    return delta\n",
    "    "
   ]
  },
  {
   "cell_type": "code",
   "execution_count": null,
   "metadata": {
    "collapsed": true,
    "run_control": {
     "frozen": false,
     "read_only": false
    }
   },
   "outputs": [],
   "source": []
  },
  {
   "cell_type": "code",
   "execution_count": null,
   "metadata": {
    "collapsed": true,
    "run_control": {
     "frozen": false,
     "read_only": false
    }
   },
   "outputs": [],
   "source": []
  },
  {
   "cell_type": "markdown",
   "metadata": {},
   "source": [
    "# Compute policy card "
   ]
  },
  {
   "cell_type": "code",
   "execution_count": 68,
   "metadata": {
    "collapsed": true,
    "run_control": {
     "frozen": false,
     "read_only": false
    }
   },
   "outputs": [],
   "source": [
    "policy_list = [\"prepare_scaleup\", \"borrow_abi\",  \"T_rebuild_K\", \"social_p\",\"fap\",\"far\", \"vp\",\"kp\",\"vr\", \"shew\", \n",
    "               \"axfin\",\"PDSpackage\",\"ResiliencePackage\",\"ResiliencePlusEW\",\"Asset_losses\",\"Asset_losses_no_EW\", \"prop_nonpoor\", \"prop_nonpoor_lms\"]\n",
    "\n",
    "# policy_list = [\"PDSpackage\",\"ResiliencePackage\",\"ResiliencePlusEW\", \"prop_nonpoor\", \"prop_nonpoor_lms\"]\n",
    "\n",
    "\n",
    "\n",
    "# policy_list = [\"ResiliencePlusEW\"]\n",
    "\n",
    "country_list = macro.dropna().index.tolist()\n",
    "\n",
    "\n",
    "pol_assess_set = [\"dKtot\",\"dWtot_currency\"]"
   ]
  },
  {
   "cell_type": "code",
   "execution_count": 69,
   "metadata": {
    "collapsed": false,
    "run_control": {
     "frozen": false,
     "read_only": false
    }
   },
   "outputs": [
    {
     "name": "stdout",
     "output_type": "stream",
     "text": [
      "\n",
      "===\n",
      "policy: prepare_scaleup\n",
      "Make social protection scalable after a shock\n",
      "Changed in macro: prepare_scaleup (~86.7%).\n",
      "Changed in cat_info: none.\n",
      "Changed in hazard: none.\n",
      "args: {'verbose_replace': True}\n",
      "Replaced in macro: \n",
      "Replaced in cats: fa, shew\n",
      "Replaced in both: \n",
      "\n",
      "Asset losses were reduced by -0.0 bn$ (-0.0% or -0.000% of WDP)\n",
      "Welfare losses were reduced by 0.19 bn$ (1.98%  or 0.250% of WDP)\n",
      "Resilience in countries changed by -0.30%, from (46.21% to 46.51% )\n",
      "Resilience GLOBALLY changed 0.57%, from (28.36% to 28.93% )\n",
      "\n",
      "===\n",
      "policy: borrow_abi\n",
      "Develop contingent finance and reserve funds\n",
      "Changed in macro: borrow_abi (~110.2%).\n",
      "Changed in cat_info: none.\n",
      "Changed in hazard: none.\n",
      "args: {'verbose_replace': True}\n",
      "Replaced in macro: \n",
      "Replaced in cats: fa, shew\n",
      "Replaced in both: \n",
      "\n",
      "Asset losses were reduced by 0.0 bn$ (0.0% or 0.000% of WDP)\n",
      "Welfare losses were reduced by 0.49 bn$ (5.01%  or 0.630% of WDP)\n",
      "Resilience in countries changed by -0.59%, from (46.21% to 46.80% )\n",
      "Resilience GLOBALLY changed 1.50%, from (28.36% to 29.85% )\n",
      "\n",
      "===\n",
      "policy: T_rebuild_K\n",
      "Accelerate\n",
      "reconstruction\n",
      "(by 33%)\n",
      "Changed in macro: T_rebuild_K (~40.0%).\n",
      "Changed in cat_info: none.\n",
      "Changed in hazard: none.\n",
      "args: {'verbose_replace': True}\n",
      "Replaced in macro: \n",
      "Replaced in cats: fa, shew\n",
      "Replaced in both: \n",
      "\n",
      "Asset losses were reduced by 0.0 bn$ (0.0% or 0.000% of WDP)\n",
      "Welfare losses were reduced by 0.63 bn$ (6.43%  or 0.809% of WDP)\n",
      "Resilience in countries changed by -5.35%, from (46.21% to 51.56% )\n",
      "Resilience GLOBALLY changed 1.95%, from (28.36% to 30.31% )\n",
      "\n",
      "===\n",
      "policy: social_p\n",
      "Increase social\n",
      "transfers to poor\n",
      "people to at\n",
      "least 33%\n",
      "Changed in macro: tau_tax (~35.3%).\n",
      "Changed in cat_info: gamma_SP (~67.4%).\n",
      "Changed in hazard: none.\n",
      "args: {'verbose_replace': True}\n",
      "Replaced in macro: \n",
      "Replaced in cats: fa, shew\n",
      "Replaced in both: \n",
      "\n",
      "Asset losses were reduced by 0.0 bn$ (0.0% or 0.000% of WDP)\n",
      "Welfare losses were reduced by 2.97 bn$ (30.45%  or 3.829% of WDP)\n",
      "Resilience in countries changed by -5.08%, from (46.21% to 51.29% )\n",
      "Resilience GLOBALLY changed 12.42%, from (28.36% to 40.77% )\n",
      "\n",
      "===\n",
      "policy: fap\n",
      "Reduce exposure\n",
      "of the poor by 5%\n",
      "of total exposure\n",
      "Changed in macro: none.\n",
      "Changed in cat_info: none.\n",
      "Changed in hazard: fa (~13.7%).\n",
      "args: {'verbose_replace': True}\n",
      "Replaced in macro: \n",
      "Replaced in cats: fa, shew\n",
      "Replaced in both: \n",
      "\n",
      "Asset losses were reduced by 0.1 bn$ (2.0% or 0.071% of WDP)\n",
      "Welfare losses were reduced by 1.63 bn$ (16.68%  or 2.097% of WDP)\n",
      "Resilience in countries changed by -4.21%, from (46.21% to 50.42% )\n",
      "Resilience GLOBALLY changed 5.00%, from (28.36% to 33.36% )\n",
      "\n",
      "===\n",
      "policy: far\n",
      "Reduce\n",
      "exposure of the nonpoor by 5%\n",
      "of total exposure\n",
      "Changed in macro: none.\n",
      "Changed in cat_info: none.\n",
      "Changed in hazard: fa (~3.3%).\n",
      "args: {'verbose_replace': True}\n",
      "Replaced in macro: \n",
      "Replaced in cats: n, fa, shew\n",
      "Replaced in both: \n",
      "\n",
      "Asset losses were reduced by 0.2 bn$ (5.8% or 0.207% of WDP)\n",
      "Welfare losses were reduced by 0.19 bn$ (1.92%  or 0.242% of WDP)\n",
      "Resilience in countries changed by 0.98%, from (46.21% to 45.23% )\n",
      "Resilience GLOBALLY changed -1.12%, from (28.36% to 27.24% )\n",
      "\n",
      "===\n",
      "policy: vp\n",
      "Reduce asset\n",
      "vulnerability\n",
      "(by 30%) of\n",
      "poor people\n",
      "(5% of the population)\n",
      "Changed in macro: none.\n",
      "Changed in cat_info: v (~3.9%).\n",
      "Changed in hazard: none.\n",
      "args: {'verbose_replace': True}\n",
      "Replaced in macro: \n",
      "Replaced in cats: fa, shew\n",
      "Replaced in both: \n",
      "\n",
      "Asset losses were reduced by 0.0 bn$ (0.6% or 0.022% of WDP)\n",
      "Welfare losses were reduced by 0.76 bn$ (7.76%  or 0.976% of WDP)\n",
      "Resilience in countries changed by -1.42%, from (46.21% to 47.63% )\n",
      "Resilience GLOBALLY changed 2.20%, from (28.36% to 30.55% )\n",
      "\n",
      "===\n",
      "policy: kp\n",
      "Increase\n",
      "income of the\n",
      "poor 10%\n",
      "Changed in macro: none.\n",
      "Changed in cat_info: k (~4.8%).\n",
      "Changed in hazard: none.\n",
      "args: {'verbose_replace': True}\n",
      "Replaced in macro: \n",
      "Replaced in cats: fa, shew\n",
      "Replaced in both: \n",
      "\n",
      "Asset losses were reduced by -0.0 bn$ (-0.8% or -0.029% of WDP)\n",
      "Welfare losses were reduced by 0.26 bn$ (2.62%  or 0.330% of WDP)\n",
      "Resilience in countries changed by -0.76%, from (46.21% to 46.97% )\n",
      "Resilience GLOBALLY changed 1.00%, from (28.36% to 29.36% )\n",
      "\n",
      "===\n",
      "policy: vr\n",
      "Reduce asset\n",
      "vulnerability\n",
      "(by 30%) of\n",
      "nonpoor people\n",
      "(5% of the population)\n",
      "Changed in macro: none.\n",
      "Changed in cat_info: v (~0.9%).\n",
      "Changed in hazard: none.\n",
      "args: {'verbose_replace': True}\n",
      "Replaced in macro: \n",
      "Replaced in cats: fa, shew\n",
      "Replaced in both: \n",
      "\n",
      "Asset losses were reduced by 0.0 bn$ (1.7% or 0.061% of WDP)\n",
      "Welfare losses were reduced by 0.06 bn$ (0.58%  or 0.072% of WDP)\n",
      "Resilience in countries changed by 0.27%, from (46.21% to 45.94% )\n",
      "Resilience GLOBALLY changed -0.33%, from (28.36% to 28.03% )\n",
      "\n",
      "===\n",
      "policy: shew\n",
      "Universal\n",
      "access to early\n",
      "warnings\n",
      "Changed in macro: none.\n",
      "Changed in cat_info: none.\n",
      "Changed in hazard: shew (~75.4%).\n",
      "args: {'verbose_replace': True}\n",
      "Replaced in macro: \n",
      "Replaced in cats: fa, shew\n",
      "Replaced in both: \n",
      "\n",
      "Asset losses were reduced by 0.1 bn$ (4.2% or 0.150% of WDP)\n",
      "Welfare losses were reduced by 0.52 bn$ (5.34%  or 0.671% of WDP)\n",
      "Resilience in countries changed by -0.35%, from (46.21% to 46.56% )\n",
      "Resilience GLOBALLY changed 0.34%, from (28.36% to 28.69% )\n",
      "\n",
      "===\n",
      "policy: axfin\n",
      "Universal\n",
      "access to\n",
      "finance\n",
      "Changed in macro: none.\n",
      "Changed in cat_info: axfin (~136.1%).\n",
      "Changed in hazard: none.\n",
      "args: {'verbose_replace': True}\n",
      "Replaced in macro: \n",
      "Replaced in cats: fa, shew\n",
      "Replaced in both: \n",
      "\n",
      "Asset losses were reduced by 0.0 bn$ (0.0% or 0.000% of WDP)\n",
      "Welfare losses were reduced by 0.83 bn$ (8.51%  or 1.070% of WDP)\n",
      "Resilience in countries changed by -1.21%, from (46.21% to 47.42% )\n",
      "Resilience GLOBALLY changed 2.64%, from (28.36% to 30.99% )\n",
      "\n",
      "===\n",
      "policy: PDSpackage\n",
      "Develop contingent finance and reserve funds\n",
      "Make social protection scalable after a shock\n",
      "Postdisaster\n",
      "support\n",
      "package\n",
      "Changed in macro: prepare_scaleup (~86.7%); borrow_abi (~110.2%).\n",
      "Changed in cat_info: none.\n",
      "Changed in hazard: none.\n",
      "args: {'verbose_replace': True}\n",
      "Replaced in macro: \n",
      "Replaced in cats: fa, shew\n",
      "Replaced in both: \n",
      "\n",
      "Asset losses were reduced by -0.0 bn$ (-0.0% or -0.000% of WDP)\n",
      "Welfare losses were reduced by 1.17 bn$ (12.02%  or 1.511% of WDP)\n",
      "Resilience in countries changed by -1.89%, from (46.21% to 48.10% )\n",
      "Resilience GLOBALLY changed 3.87%, from (28.36% to 32.23% )\n",
      "\n",
      "===\n",
      "policy: ResiliencePackage\n",
      "Develop contingent finance and reserve funds\n",
      "Make social protection scalable after a shock\n",
      "Postdisaster\n",
      "support\n",
      "package\n",
      "Universal\n",
      "access to\n",
      "finance\n",
      "Accelerate\n",
      "reconstruction\n",
      "(by 33%)\n",
      "Increase social\n",
      "transfers to poor\n",
      "people to at\n",
      "least 33%\n",
      "Develop market insurance (25% of population, only nonpoor)\n",
      "Resilience package\n",
      "Changed in macro: prepare_scaleup (~86.7%); borrow_abi (~110.2%); T_rebuild_K (~40.0%); tau_tax (~35.3%).\n",
      "Changed in cat_info: axfin (~136.1%); gamma_SP (~67.4%).\n",
      "Changed in hazard: none.\n",
      "args: {'verbose_replace': True, 'optionT': 'prop_nonpoor_lms', 'optionB': 'unlimited', 'share_insured': 0.5, 'optionPDS': 'prop_nonpoor_lms', 'optionFee': 'insurance_premium'}\n",
      "Replaced in macro: \n",
      "Replaced in cats: fa, shew\n",
      "Replaced in both: \n",
      "\n",
      "Asset losses were reduced by -0.0 bn$ (-0.0% or -0.000% of WDP)\n",
      "Welfare losses were reduced by 4.36 bn$ (44.74%  or 5.625% of WDP)\n",
      "Resilience in countries changed by -15.23%, from (46.21% to 61.44% )\n",
      "Resilience GLOBALLY changed 22.96%, from (28.36% to 51.31% )\n",
      "\n",
      "===\n",
      "policy: ResiliencePlusEW\n",
      "Develop contingent finance and reserve funds\n",
      "Make social protection scalable after a shock\n",
      "Postdisaster\n",
      "support\n",
      "package\n",
      "Universal\n",
      "access to\n",
      "finance\n",
      "Accelerate\n",
      "reconstruction\n",
      "(by 33%)\n",
      "Increase social\n",
      "transfers to poor\n",
      "people to at\n",
      "least 33%\n",
      "Develop market insurance (25% of population, only nonpoor)\n",
      "Resilience package\n",
      "Universal\n",
      "access to early\n",
      "warnings\n",
      "Resilience Package + Early Warning Package\n",
      "Changed in macro: prepare_scaleup (~86.7%); borrow_abi (~110.2%); T_rebuild_K (~40.0%); tau_tax (~35.3%).\n",
      "Changed in cat_info: axfin (~136.1%); gamma_SP (~67.4%).\n",
      "Changed in hazard: shew (~75.4%).\n",
      "args: {'verbose_replace': True, 'optionT': 'prop_nonpoor_lms', 'optionB': 'unlimited', 'share_insured': 0.5, 'optionPDS': 'prop_nonpoor_lms', 'optionFee': 'insurance_premium'}\n",
      "Replaced in macro: \n",
      "Replaced in cats: fa, shew\n",
      "Replaced in both: \n",
      "\n",
      "Asset losses were reduced by 0.1 bn$ (4.2% or 0.150% of WDP)\n",
      "Welfare losses were reduced by 4.61 bn$ (47.28%  or 5.945% of WDP)\n",
      "Resilience in countries changed by -15.45%, from (46.21% to 61.66% )\n",
      "Resilience GLOBALLY changed 23.17%, from (28.36% to 51.52% )\n",
      "\n",
      "===\n",
      "policy: Asset_losses\n",
      "Reduce exposure\n",
      "of the poor by 5%\n",
      "of total exposure\n",
      "Reduce\n",
      "exposure of the nonpoor by 5%\n",
      "of total exposure\n",
      "Reduce asset\n",
      "vulnerability\n",
      "(by 30%) of\n",
      "poor people\n",
      "(5% of the population)\n",
      "Reduce asset\n",
      "vulnerability\n",
      "(by 30%) of\n",
      "nonpoor people\n",
      "(5% of the population)\n",
      "Universal\n",
      "access to early\n",
      "warnings\n",
      "Asset losses package \n",
      "Changed in macro: none.\n",
      "Changed in cat_info: v (~4.8%).\n",
      "Changed in hazard: fa (~16.8%); shew (~75.4%).\n",
      "args: {'verbose_replace': True}\n",
      "Replaced in macro: \n",
      "Replaced in cats: n, fa, shew\n",
      "Replaced in both: \n",
      "\n",
      "Asset losses were reduced by 0.4 bn$ (13.4% or 0.477% of WDP)\n",
      "Welfare losses were reduced by 2.82 bn$ (28.91%  or 3.635% of WDP)\n",
      "Resilience in countries changed by -4.80%, from (46.21% to 51.01% )\n",
      "Resilience GLOBALLY changed 6.19%, from (28.36% to 34.55% )\n",
      "\n",
      "===\n",
      "policy: Asset_losses_no_EW\n",
      "Reduce exposure\n",
      "of the poor by 5%\n",
      "of total exposure\n",
      "Reduce\n",
      "exposure of the nonpoor by 5%\n",
      "of total exposure\n",
      "Reduce asset\n",
      "vulnerability\n",
      "(by 30%) of\n",
      "poor people\n",
      "(5% of the population)\n",
      "Reduce asset\n",
      "vulnerability\n",
      "(by 30%) of\n",
      "nonpoor people\n",
      "(5% of the population)\n",
      "Asset losses package (excluding early warnings)\n",
      "Changed in macro: none.\n",
      "Changed in cat_info: v (~4.8%).\n",
      "Changed in hazard: fa (~16.8%).\n",
      "args: {'verbose_replace': True}\n",
      "Replaced in macro: \n",
      "Replaced in cats: n, fa, shew\n",
      "Replaced in both: \n",
      "\n",
      "Asset losses were reduced by 0.3 bn$ (9.6% or 0.341% of WDP)\n",
      "Welfare losses were reduced by 2.43 bn$ (24.95%  or 3.137% of WDP)\n",
      "Resilience in countries changed by -4.44%, from (46.21% to 50.65% )\n",
      "Resilience GLOBALLY changed 5.81%, from (28.36% to 34.17% )\n",
      "\n",
      "===\n",
      "policy: prop_nonpoor\n",
      "Develop market\n",
      "insurance\n",
      "(nonpoor people)\n",
      "Changed in macro: none.\n",
      "Changed in cat_info: none.\n",
      "Changed in hazard: none.\n",
      "args: {'verbose_replace': True, 'optionT': 'perfect', 'optionB': 'unlimited', 'share_insured': 0.25, 'optionPDS': 'prop_nonpoor', 'optionFee': 'insurance_premium'}\n",
      "Replaced in macro: \n",
      "Replaced in cats: fa, shew\n",
      "Replaced in both: \n",
      "\n",
      "Asset losses were reduced by 0.0 bn$ (0.0% or 0.000% of WDP)\n",
      "Welfare losses were reduced by 0.15 bn$ (1.53%  or 0.192% of WDP)\n",
      "Resilience in countries changed by -1.28%, from (46.21% to 47.49% )\n",
      "Resilience GLOBALLY changed 0.44%, from (28.36% to 28.80% )\n",
      "\n",
      "===\n",
      "policy: prop_nonpoor_lms\n",
      "Develop market insurance (25% of population, only nonpoor)\n",
      "Changed in macro: none.\n",
      "Changed in cat_info: none.\n",
      "Changed in hazard: none.\n",
      "args: {'verbose_replace': True, 'optionT': 'prop_nonpoor_lms', 'optionB': 'unlimited', 'share_insured': 0.5, 'optionPDS': 'prop_nonpoor_lms', 'optionFee': 'insurance_premium'}\n",
      "Replaced in macro: \n",
      "Replaced in cats: fa, shew\n",
      "Replaced in both: \n",
      "\n",
      "Asset losses were reduced by -0.0 bn$ (-0.0% or -0.000% of WDP)\n",
      "Welfare losses were reduced by 0.09 bn$ (0.89%  or 0.112% of WDP)\n",
      "Resilience in countries changed by -0.75%, from (46.21% to 46.96% )\n",
      "Resilience GLOBALLY changed 0.26%, from (28.36% to 28.61% )\n"
     ]
    }
   ],
   "source": [
    "common_places = [c for c in macro.index if c in cat_info.index and c in hazard_ratios.index and c in infra_stocks.index]\n",
    "macro = macro.ix[common_places]        \n",
    "cat_info = cat_info.ix[common_places]        \n",
    "hazard_ratios = hazard_ratios.ix[common_places]        \n",
    "infra_stocks = infra_stocks.ix[common_places]\n",
    "\n",
    "#initialize input (baseline inputs)\n",
    "m_=macro.copy(deep=True)\n",
    "c_=cat_info.copy(deep=True)\n",
    "hr_ = hazard_ratios.copy(deep=True)\n",
    "a_=dict(verbose_replace=True)\n",
    "i_=infra_stocks.copy(deep=True)\n",
    "\n",
    " \n",
    "#initialize outptus\n",
    "delta = pd.DataFrame(index=pd.MultiIndex.from_product([country_list, pol_assess_set+[\"risk_to_assets\",\"resilience\",\"risk\"]], names=[economy, 'outputs']), \n",
    "                     columns=pd.Index([],name=\"policies\"))\n",
    "rel = delta.copy()\n",
    "reltogdp=  delta.copy()\n",
    "nuvalues=delta.copy()\n",
    "policy_description = pd.Series(index=policy_list)\n",
    "\n",
    "#loop over policies\n",
    "for pol in policy_list:\n",
    "    print(\"\\n===\\npolicy: \"+pol)\n",
    "    m,c,hr,a,desc =apply_policy(m_,c_,hr_,a_ ,policy_name=pol)\n",
    "    \n",
    "    d,r,rto,nv=test_package(m,c,i_,hr,a,return_rel=True)\n",
    "    \n",
    "    delta[pol]= d[pol_assess_set].stack()\n",
    "    rel[pol]  = r[pol_assess_set].stack()\n",
    "    reltogdp[pol] = rto[pol_assess_set].stack()\n",
    "    nuvalues[pol] = nv.stack()\n",
    "    \n",
    "    \n",
    "    policy_description[pol] = desc\n",
    "    \n",
    "#format as renders wants it    \n",
    "delta =delta.dropna().unstack()\n",
    "rel =rel.dropna().unstack()\n",
    "reltogdp =reltogdp.dropna().unstack()"
   ]
  },
  {
   "cell_type": "code",
   "execution_count": 70,
   "metadata": {
    "collapsed": false
   },
   "outputs": [
    {
     "data": {
      "text/html": [
       "<div>\n",
       "<table border=\"1\" class=\"dataframe\">\n",
       "  <thead>\n",
       "    <tr>\n",
       "      <th>policies</th>\n",
       "      <th colspan=\"2\" halign=\"left\">prepare_scaleup</th>\n",
       "      <th colspan=\"2\" halign=\"left\">borrow_abi</th>\n",
       "      <th colspan=\"2\" halign=\"left\">T_rebuild_K</th>\n",
       "      <th colspan=\"2\" halign=\"left\">social_p</th>\n",
       "      <th colspan=\"2\" halign=\"left\">fap</th>\n",
       "      <th>...</th>\n",
       "      <th colspan=\"2\" halign=\"left\">ResiliencePlusEW</th>\n",
       "      <th colspan=\"2\" halign=\"left\">Asset_losses</th>\n",
       "      <th colspan=\"2\" halign=\"left\">Asset_losses_no_EW</th>\n",
       "      <th colspan=\"2\" halign=\"left\">prop_nonpoor</th>\n",
       "      <th colspan=\"2\" halign=\"left\">prop_nonpoor_lms</th>\n",
       "    </tr>\n",
       "    <tr>\n",
       "      <th>outputs</th>\n",
       "      <th>dKtot</th>\n",
       "      <th>dWtot_currency</th>\n",
       "      <th>dKtot</th>\n",
       "      <th>dWtot_currency</th>\n",
       "      <th>dKtot</th>\n",
       "      <th>dWtot_currency</th>\n",
       "      <th>dKtot</th>\n",
       "      <th>dWtot_currency</th>\n",
       "      <th>dKtot</th>\n",
       "      <th>dWtot_currency</th>\n",
       "      <th>...</th>\n",
       "      <th>dKtot</th>\n",
       "      <th>dWtot_currency</th>\n",
       "      <th>dKtot</th>\n",
       "      <th>dWtot_currency</th>\n",
       "      <th>dKtot</th>\n",
       "      <th>dWtot_currency</th>\n",
       "      <th>dKtot</th>\n",
       "      <th>dWtot_currency</th>\n",
       "      <th>dKtot</th>\n",
       "      <th>dWtot_currency</th>\n",
       "    </tr>\n",
       "    <tr>\n",
       "      <th>country</th>\n",
       "      <th></th>\n",
       "      <th></th>\n",
       "      <th></th>\n",
       "      <th></th>\n",
       "      <th></th>\n",
       "      <th></th>\n",
       "      <th></th>\n",
       "      <th></th>\n",
       "      <th></th>\n",
       "      <th></th>\n",
       "      <th></th>\n",
       "      <th></th>\n",
       "      <th></th>\n",
       "      <th></th>\n",
       "      <th></th>\n",
       "      <th></th>\n",
       "      <th></th>\n",
       "      <th></th>\n",
       "      <th></th>\n",
       "      <th></th>\n",
       "      <th></th>\n",
       "    </tr>\n",
       "  </thead>\n",
       "  <tbody>\n",
       "    <tr>\n",
       "      <th>Belize</th>\n",
       "      <td>0.000000e+00</td>\n",
       "      <td>4.893215e+05</td>\n",
       "      <td>0.0</td>\n",
       "      <td>0.000000e+00</td>\n",
       "      <td>0.0</td>\n",
       "      <td>3.759957e+07</td>\n",
       "      <td>0.0</td>\n",
       "      <td>0.000000e+00</td>\n",
       "      <td>6.202762e+05</td>\n",
       "      <td>1.882431e+07</td>\n",
       "      <td>...</td>\n",
       "      <td>1.318235e+07</td>\n",
       "      <td>8.331843e+07</td>\n",
       "      <td>1.788989e+07</td>\n",
       "      <td>7.030303e+07</td>\n",
       "      <td>5.843398e+06</td>\n",
       "      <td>3.422569e+07</td>\n",
       "      <td>0.0</td>\n",
       "      <td>3.031342e+06</td>\n",
       "      <td>0.000000e+00</td>\n",
       "      <td>1.855617e+06</td>\n",
       "    </tr>\n",
       "    <tr>\n",
       "      <th>Fiji</th>\n",
       "      <td>0.000000e+00</td>\n",
       "      <td>0.000000e+00</td>\n",
       "      <td>0.0</td>\n",
       "      <td>8.360750e+06</td>\n",
       "      <td>0.0</td>\n",
       "      <td>5.443549e+07</td>\n",
       "      <td>0.0</td>\n",
       "      <td>4.490892e+07</td>\n",
       "      <td>9.768053e+06</td>\n",
       "      <td>6.261089e+07</td>\n",
       "      <td>...</td>\n",
       "      <td>5.960464e-08</td>\n",
       "      <td>1.145530e+08</td>\n",
       "      <td>3.375615e+07</td>\n",
       "      <td>1.052163e+08</td>\n",
       "      <td>3.375615e+07</td>\n",
       "      <td>1.052163e+08</td>\n",
       "      <td>0.0</td>\n",
       "      <td>1.337756e+07</td>\n",
       "      <td>5.960464e-08</td>\n",
       "      <td>8.106983e+06</td>\n",
       "    </tr>\n",
       "    <tr>\n",
       "      <th>Haiti</th>\n",
       "      <td>-2.384186e-07</td>\n",
       "      <td>1.746147e+08</td>\n",
       "      <td>0.0</td>\n",
       "      <td>4.525820e+08</td>\n",
       "      <td>0.0</td>\n",
       "      <td>3.304891e+08</td>\n",
       "      <td>0.0</td>\n",
       "      <td>2.793052e+09</td>\n",
       "      <td>2.532723e+07</td>\n",
       "      <td>1.348473e+09</td>\n",
       "      <td>...</td>\n",
       "      <td>4.839466e+07</td>\n",
       "      <td>3.886682e+09</td>\n",
       "      <td>1.710980e+08</td>\n",
       "      <td>2.204806e+09</td>\n",
       "      <td>1.273821e+08</td>\n",
       "      <td>1.950242e+09</td>\n",
       "      <td>0.0</td>\n",
       "      <td>7.741812e+07</td>\n",
       "      <td>0.000000e+00</td>\n",
       "      <td>4.443009e+07</td>\n",
       "    </tr>\n",
       "    <tr>\n",
       "      <th>Jamaica</th>\n",
       "      <td>0.000000e+00</td>\n",
       "      <td>9.381430e+06</td>\n",
       "      <td>0.0</td>\n",
       "      <td>1.794235e+07</td>\n",
       "      <td>0.0</td>\n",
       "      <td>1.216123e+08</td>\n",
       "      <td>0.0</td>\n",
       "      <td>4.253416e+07</td>\n",
       "      <td>1.233593e+07</td>\n",
       "      <td>1.152049e+08</td>\n",
       "      <td>...</td>\n",
       "      <td>2.586080e+07</td>\n",
       "      <td>2.752638e+08</td>\n",
       "      <td>8.282440e+07</td>\n",
       "      <td>2.466118e+08</td>\n",
       "      <td>5.943163e+07</td>\n",
       "      <td>2.024989e+08</td>\n",
       "      <td>0.0</td>\n",
       "      <td>2.990488e+07</td>\n",
       "      <td>0.000000e+00</td>\n",
       "      <td>1.780113e+07</td>\n",
       "    </tr>\n",
       "    <tr>\n",
       "      <th>Kiribati</th>\n",
       "      <td>0.000000e+00</td>\n",
       "      <td>0.000000e+00</td>\n",
       "      <td>0.0</td>\n",
       "      <td>0.000000e+00</td>\n",
       "      <td>0.0</td>\n",
       "      <td>2.012862e+03</td>\n",
       "      <td>0.0</td>\n",
       "      <td>2.584925e+03</td>\n",
       "      <td>3.191447e+02</td>\n",
       "      <td>2.596895e+03</td>\n",
       "      <td>...</td>\n",
       "      <td>2.733643e+03</td>\n",
       "      <td>9.872114e+03</td>\n",
       "      <td>3.809845e+03</td>\n",
       "      <td>8.745490e+03</td>\n",
       "      <td>1.345253e+03</td>\n",
       "      <td>4.378626e+03</td>\n",
       "      <td>0.0</td>\n",
       "      <td>9.020579e+02</td>\n",
       "      <td>0.000000e+00</td>\n",
       "      <td>5.298551e+02</td>\n",
       "    </tr>\n",
       "    <tr>\n",
       "      <th>Papua New Guinea</th>\n",
       "      <td>-5.960464e-08</td>\n",
       "      <td>6.517833e+06</td>\n",
       "      <td>0.0</td>\n",
       "      <td>5.329871e+06</td>\n",
       "      <td>0.0</td>\n",
       "      <td>4.445451e+07</td>\n",
       "      <td>0.0</td>\n",
       "      <td>5.872074e+07</td>\n",
       "      <td>3.829772e+06</td>\n",
       "      <td>4.894086e+07</td>\n",
       "      <td>...</td>\n",
       "      <td>1.586148e+07</td>\n",
       "      <td>1.482672e+08</td>\n",
       "      <td>3.738984e+07</td>\n",
       "      <td>1.116691e+08</td>\n",
       "      <td>2.299255e+07</td>\n",
       "      <td>8.407184e+07</td>\n",
       "      <td>0.0</td>\n",
       "      <td>1.733268e+07</td>\n",
       "      <td>-5.960464e-08</td>\n",
       "      <td>1.019991e+07</td>\n",
       "    </tr>\n",
       "    <tr>\n",
       "      <th>Solomon Islands</th>\n",
       "      <td>0.000000e+00</td>\n",
       "      <td>1.699764e+06</td>\n",
       "      <td>0.0</td>\n",
       "      <td>2.743927e+06</td>\n",
       "      <td>0.0</td>\n",
       "      <td>1.265433e+07</td>\n",
       "      <td>0.0</td>\n",
       "      <td>2.202951e+07</td>\n",
       "      <td>1.702983e+06</td>\n",
       "      <td>1.815881e+07</td>\n",
       "      <td>...</td>\n",
       "      <td>6.389339e+06</td>\n",
       "      <td>5.096083e+07</td>\n",
       "      <td>1.315716e+07</td>\n",
       "      <td>4.024840e+07</td>\n",
       "      <td>7.395131e+06</td>\n",
       "      <td>2.903133e+07</td>\n",
       "      <td>0.0</td>\n",
       "      <td>3.831749e+06</td>\n",
       "      <td>0.000000e+00</td>\n",
       "      <td>2.256292e+06</td>\n",
       "    </tr>\n",
       "    <tr>\n",
       "      <th>St. Lucia</th>\n",
       "      <td>0.000000e+00</td>\n",
       "      <td>4.817278e+05</td>\n",
       "      <td>0.0</td>\n",
       "      <td>7.631380e+05</td>\n",
       "      <td>0.0</td>\n",
       "      <td>2.011723e+07</td>\n",
       "      <td>0.0</td>\n",
       "      <td>3.406870e+06</td>\n",
       "      <td>6.396262e+05</td>\n",
       "      <td>8.613351e+06</td>\n",
       "      <td>...</td>\n",
       "      <td>3.952337e+06</td>\n",
       "      <td>3.434963e+07</td>\n",
       "      <td>7.973409e+06</td>\n",
       "      <td>2.587519e+07</td>\n",
       "      <td>4.375386e+06</td>\n",
       "      <td>1.732659e+07</td>\n",
       "      <td>0.0</td>\n",
       "      <td>2.247605e+06</td>\n",
       "      <td>0.000000e+00</td>\n",
       "      <td>1.370439e+06</td>\n",
       "    </tr>\n",
       "    <tr>\n",
       "      <th>Tonga</th>\n",
       "      <td>0.000000e+00</td>\n",
       "      <td>2.261582e+05</td>\n",
       "      <td>0.0</td>\n",
       "      <td>5.953364e+05</td>\n",
       "      <td>0.0</td>\n",
       "      <td>5.538534e+06</td>\n",
       "      <td>0.0</td>\n",
       "      <td>2.642023e+06</td>\n",
       "      <td>6.401356e+05</td>\n",
       "      <td>4.526857e+06</td>\n",
       "      <td>...</td>\n",
       "      <td>2.763934e+06</td>\n",
       "      <td>1.392492e+07</td>\n",
       "      <td>5.864349e+06</td>\n",
       "      <td>1.281555e+07</td>\n",
       "      <td>3.358353e+06</td>\n",
       "      <td>8.778103e+06</td>\n",
       "      <td>0.0</td>\n",
       "      <td>1.973107e+06</td>\n",
       "      <td>-7.450581e-09</td>\n",
       "      <td>1.147920e+06</td>\n",
       "    </tr>\n",
       "  </tbody>\n",
       "</table>\n",
       "<p>9 rows × 36 columns</p>\n",
       "</div>"
      ],
      "text/plain": [
       "policies         prepare_scaleup                borrow_abi                 \\\n",
       "outputs                    dKtot dWtot_currency      dKtot dWtot_currency   \n",
       "country                                                                     \n",
       "Belize              0.000000e+00   4.893215e+05        0.0   0.000000e+00   \n",
       "Fiji                0.000000e+00   0.000000e+00        0.0   8.360750e+06   \n",
       "Haiti              -2.384186e-07   1.746147e+08        0.0   4.525820e+08   \n",
       "Jamaica             0.000000e+00   9.381430e+06        0.0   1.794235e+07   \n",
       "Kiribati            0.000000e+00   0.000000e+00        0.0   0.000000e+00   \n",
       "Papua New Guinea   -5.960464e-08   6.517833e+06        0.0   5.329871e+06   \n",
       "Solomon Islands     0.000000e+00   1.699764e+06        0.0   2.743927e+06   \n",
       "St. Lucia           0.000000e+00   4.817278e+05        0.0   7.631380e+05   \n",
       "Tonga               0.000000e+00   2.261582e+05        0.0   5.953364e+05   \n",
       "\n",
       "policies         T_rebuild_K                social_p                 \\\n",
       "outputs                dKtot dWtot_currency    dKtot dWtot_currency   \n",
       "country                                                               \n",
       "Belize                   0.0   3.759957e+07      0.0   0.000000e+00   \n",
       "Fiji                     0.0   5.443549e+07      0.0   4.490892e+07   \n",
       "Haiti                    0.0   3.304891e+08      0.0   2.793052e+09   \n",
       "Jamaica                  0.0   1.216123e+08      0.0   4.253416e+07   \n",
       "Kiribati                 0.0   2.012862e+03      0.0   2.584925e+03   \n",
       "Papua New Guinea         0.0   4.445451e+07      0.0   5.872074e+07   \n",
       "Solomon Islands          0.0   1.265433e+07      0.0   2.202951e+07   \n",
       "St. Lucia                0.0   2.011723e+07      0.0   3.406870e+06   \n",
       "Tonga                    0.0   5.538534e+06      0.0   2.642023e+06   \n",
       "\n",
       "policies                   fap                     ...       ResiliencePlusEW  \\\n",
       "outputs                  dKtot dWtot_currency      ...                  dKtot   \n",
       "country                                            ...                          \n",
       "Belize            6.202762e+05   1.882431e+07      ...           1.318235e+07   \n",
       "Fiji              9.768053e+06   6.261089e+07      ...           5.960464e-08   \n",
       "Haiti             2.532723e+07   1.348473e+09      ...           4.839466e+07   \n",
       "Jamaica           1.233593e+07   1.152049e+08      ...           2.586080e+07   \n",
       "Kiribati          3.191447e+02   2.596895e+03      ...           2.733643e+03   \n",
       "Papua New Guinea  3.829772e+06   4.894086e+07      ...           1.586148e+07   \n",
       "Solomon Islands   1.702983e+06   1.815881e+07      ...           6.389339e+06   \n",
       "St. Lucia         6.396262e+05   8.613351e+06      ...           3.952337e+06   \n",
       "Tonga             6.401356e+05   4.526857e+06      ...           2.763934e+06   \n",
       "\n",
       "policies                         Asset_losses                 \\\n",
       "outputs          dWtot_currency         dKtot dWtot_currency   \n",
       "country                                                        \n",
       "Belize             8.331843e+07  1.788989e+07   7.030303e+07   \n",
       "Fiji               1.145530e+08  3.375615e+07   1.052163e+08   \n",
       "Haiti              3.886682e+09  1.710980e+08   2.204806e+09   \n",
       "Jamaica            2.752638e+08  8.282440e+07   2.466118e+08   \n",
       "Kiribati           9.872114e+03  3.809845e+03   8.745490e+03   \n",
       "Papua New Guinea   1.482672e+08  3.738984e+07   1.116691e+08   \n",
       "Solomon Islands    5.096083e+07  1.315716e+07   4.024840e+07   \n",
       "St. Lucia          3.434963e+07  7.973409e+06   2.587519e+07   \n",
       "Tonga              1.392492e+07  5.864349e+06   1.281555e+07   \n",
       "\n",
       "policies         Asset_losses_no_EW                prop_nonpoor  \\\n",
       "outputs                       dKtot dWtot_currency        dKtot   \n",
       "country                                                           \n",
       "Belize                 5.843398e+06   3.422569e+07          0.0   \n",
       "Fiji                   3.375615e+07   1.052163e+08          0.0   \n",
       "Haiti                  1.273821e+08   1.950242e+09          0.0   \n",
       "Jamaica                5.943163e+07   2.024989e+08          0.0   \n",
       "Kiribati               1.345253e+03   4.378626e+03          0.0   \n",
       "Papua New Guinea       2.299255e+07   8.407184e+07          0.0   \n",
       "Solomon Islands        7.395131e+06   2.903133e+07          0.0   \n",
       "St. Lucia              4.375386e+06   1.732659e+07          0.0   \n",
       "Tonga                  3.358353e+06   8.778103e+06          0.0   \n",
       "\n",
       "policies                        prop_nonpoor_lms                 \n",
       "outputs          dWtot_currency            dKtot dWtot_currency  \n",
       "country                                                          \n",
       "Belize             3.031342e+06     0.000000e+00   1.855617e+06  \n",
       "Fiji               1.337756e+07     5.960464e-08   8.106983e+06  \n",
       "Haiti              7.741812e+07     0.000000e+00   4.443009e+07  \n",
       "Jamaica            2.990488e+07     0.000000e+00   1.780113e+07  \n",
       "Kiribati           9.020579e+02     0.000000e+00   5.298551e+02  \n",
       "Papua New Guinea   1.733268e+07    -5.960464e-08   1.019991e+07  \n",
       "Solomon Islands    3.831749e+06     0.000000e+00   2.256292e+06  \n",
       "St. Lucia          2.247605e+06     0.000000e+00   1.370439e+06  \n",
       "Tonga              1.973107e+06    -7.450581e-09   1.147920e+06  \n",
       "\n",
       "[9 rows x 36 columns]"
      ]
     },
     "execution_count": 70,
     "metadata": {},
     "output_type": "execute_result"
    }
   ],
   "source": [
    "delta"
   ]
  },
  {
   "cell_type": "code",
   "execution_count": 71,
   "metadata": {
    "collapsed": false,
    "run_control": {
     "frozen": false,
     "read_only": false
    }
   },
   "outputs": [
    {
     "data": {
      "text/html": [
       "<div>\n",
       "<table border=\"1\" class=\"dataframe\">\n",
       "  <thead>\n",
       "    <tr style=\"text-align: right;\">\n",
       "      <th></th>\n",
       "      <th>dKtot</th>\n",
       "      <th>dWtot_currency</th>\n",
       "      <th>fa</th>\n",
       "      <th>fa_in_gdp</th>\n",
       "      <th>gdp_pc_pp</th>\n",
       "      <th>pop</th>\n",
       "      <th>resilience</th>\n",
       "      <th>risk</th>\n",
       "      <th>risk_to_assets</th>\n",
       "      <th>v</th>\n",
       "    </tr>\n",
       "  </thead>\n",
       "  <tbody>\n",
       "    <tr>\n",
       "      <th>count</th>\n",
       "      <td>9.000000e+00</td>\n",
       "      <td>9.000000e+00</td>\n",
       "      <td>0.0</td>\n",
       "      <td>0.0</td>\n",
       "      <td>0.0</td>\n",
       "      <td>0.0</td>\n",
       "      <td>0.0</td>\n",
       "      <td>0.0</td>\n",
       "      <td>0.0</td>\n",
       "      <td>0.0</td>\n",
       "    </tr>\n",
       "    <tr>\n",
       "      <th>mean</th>\n",
       "      <td>1.293418e+07</td>\n",
       "      <td>5.119255e+08</td>\n",
       "      <td>NaN</td>\n",
       "      <td>NaN</td>\n",
       "      <td>NaN</td>\n",
       "      <td>NaN</td>\n",
       "      <td>NaN</td>\n",
       "      <td>NaN</td>\n",
       "      <td>NaN</td>\n",
       "      <td>NaN</td>\n",
       "    </tr>\n",
       "    <tr>\n",
       "      <th>std</th>\n",
       "      <td>1.579015e+07</td>\n",
       "      <td>1.268339e+09</td>\n",
       "      <td>NaN</td>\n",
       "      <td>NaN</td>\n",
       "      <td>NaN</td>\n",
       "      <td>NaN</td>\n",
       "      <td>NaN</td>\n",
       "      <td>NaN</td>\n",
       "      <td>NaN</td>\n",
       "      <td>NaN</td>\n",
       "    </tr>\n",
       "    <tr>\n",
       "      <th>min</th>\n",
       "      <td>5.960464e-08</td>\n",
       "      <td>9.872114e+03</td>\n",
       "      <td>NaN</td>\n",
       "      <td>NaN</td>\n",
       "      <td>NaN</td>\n",
       "      <td>NaN</td>\n",
       "      <td>NaN</td>\n",
       "      <td>NaN</td>\n",
       "      <td>NaN</td>\n",
       "      <td>NaN</td>\n",
       "    </tr>\n",
       "    <tr>\n",
       "      <th>25%</th>\n",
       "      <td>2.763934e+06</td>\n",
       "      <td>3.434963e+07</td>\n",
       "      <td>NaN</td>\n",
       "      <td>NaN</td>\n",
       "      <td>NaN</td>\n",
       "      <td>NaN</td>\n",
       "      <td>NaN</td>\n",
       "      <td>NaN</td>\n",
       "      <td>NaN</td>\n",
       "      <td>NaN</td>\n",
       "    </tr>\n",
       "    <tr>\n",
       "      <th>50%</th>\n",
       "      <td>6.389339e+06</td>\n",
       "      <td>8.331843e+07</td>\n",
       "      <td>NaN</td>\n",
       "      <td>NaN</td>\n",
       "      <td>NaN</td>\n",
       "      <td>NaN</td>\n",
       "      <td>NaN</td>\n",
       "      <td>NaN</td>\n",
       "      <td>NaN</td>\n",
       "      <td>NaN</td>\n",
       "    </tr>\n",
       "    <tr>\n",
       "      <th>75%</th>\n",
       "      <td>1.586148e+07</td>\n",
       "      <td>1.482672e+08</td>\n",
       "      <td>NaN</td>\n",
       "      <td>NaN</td>\n",
       "      <td>NaN</td>\n",
       "      <td>NaN</td>\n",
       "      <td>NaN</td>\n",
       "      <td>NaN</td>\n",
       "      <td>NaN</td>\n",
       "      <td>NaN</td>\n",
       "    </tr>\n",
       "    <tr>\n",
       "      <th>max</th>\n",
       "      <td>4.839466e+07</td>\n",
       "      <td>3.886682e+09</td>\n",
       "      <td>NaN</td>\n",
       "      <td>NaN</td>\n",
       "      <td>NaN</td>\n",
       "      <td>NaN</td>\n",
       "      <td>NaN</td>\n",
       "      <td>NaN</td>\n",
       "      <td>NaN</td>\n",
       "      <td>NaN</td>\n",
       "    </tr>\n",
       "  </tbody>\n",
       "</table>\n",
       "</div>"
      ],
      "text/plain": [
       "              dKtot  dWtot_currency   fa  fa_in_gdp  gdp_pc_pp  pop  \\\n",
       "count  9.000000e+00    9.000000e+00  0.0        0.0        0.0  0.0   \n",
       "mean   1.293418e+07    5.119255e+08  NaN        NaN        NaN  NaN   \n",
       "std    1.579015e+07    1.268339e+09  NaN        NaN        NaN  NaN   \n",
       "min    5.960464e-08    9.872114e+03  NaN        NaN        NaN  NaN   \n",
       "25%    2.763934e+06    3.434963e+07  NaN        NaN        NaN  NaN   \n",
       "50%    6.389339e+06    8.331843e+07  NaN        NaN        NaN  NaN   \n",
       "75%    1.586148e+07    1.482672e+08  NaN        NaN        NaN  NaN   \n",
       "max    4.839466e+07    3.886682e+09  NaN        NaN        NaN  NaN   \n",
       "\n",
       "       resilience  risk  risk_to_assets    v  \n",
       "count         0.0   0.0             0.0  0.0  \n",
       "mean          NaN   NaN             NaN  NaN  \n",
       "std           NaN   NaN             NaN  NaN  \n",
       "min           NaN   NaN             NaN  NaN  \n",
       "25%           NaN   NaN             NaN  NaN  \n",
       "50%           NaN   NaN             NaN  NaN  \n",
       "75%           NaN   NaN             NaN  NaN  \n",
       "max           NaN   NaN             NaN  NaN  "
      ]
     },
     "execution_count": 71,
     "metadata": {},
     "output_type": "execute_result"
    }
   ],
   "source": [
    "a=pd.read_csv(\"intermediate/main_results.csv\", index_col=\"country\")\n",
    "a.head()\n",
    "\n",
    "big_table=pd.DataFrame(index=pd.MultiIndex.from_product([country_list, a.columns | delta.ResiliencePlusEW.columns ]))\n",
    "big_table[\"Current\"] = a.stack()\n",
    "\n",
    "big_table[\"Difference\"] = delta.ResiliencePlusEW.stack()\n",
    "\n",
    "big_table[\"Differencerel\"] =  rel.ResiliencePlusEW.stack()\n",
    "\n",
    "big_table[\"With_package\"] = nuvalues.ResiliencePlusEW\n",
    "\n",
    "big_table.unstack().to_excel(\"results/big_table.xlsx\")\n",
    "\n",
    "\n",
    "big_table.Difference.unstack().describe()\n"
   ]
  },
  {
   "cell_type": "markdown",
   "metadata": {},
   "source": [
    "# Export excel"
   ]
  },
  {
   "cell_type": "code",
   "execution_count": 72,
   "metadata": {
    "collapsed": true,
    "run_control": {
     "frozen": false,
     "read_only": false
    }
   },
   "outputs": [],
   "source": [
    "from os import makedirs\n",
    "from fancy_round import fancy_round"
   ]
  },
  {
   "cell_type": "code",
   "execution_count": 73,
   "metadata": {
    "collapsed": true,
    "run_control": {
     "frozen": false,
     "read_only": false
    }
   },
   "outputs": [],
   "source": [
    "makedirs(\"cards\", exist_ok=True)"
   ]
  },
  {
   "cell_type": "code",
   "execution_count": 74,
   "metadata": {
    "collapsed": false,
    "run_control": {
     "frozen": false,
     "read_only": false
    }
   },
   "outputs": [],
   "source": [
    "with pd.ExcelWriter('cards/policy_impact.xlsx') as writer:\n",
    "        delta.rename(columns=policy_description).rename(columns={\"dKtot\":\"Asset losses\", \"dWtot_currency\":\"Wellbeing losses\"}\n",
    "                                                       ).to_excel(writer, sheet_name=\"absolute (USD PPP)\")\n",
    "\n",
    "        rel.rename(columns=policy_description).rename(columns={\"dKtot\":\"Asset losses\", \"dWtot_currency\":\"Wellbeing losses\"}\n",
    "                                                       ).to_excel(writer, sheet_name=\"relative to current losses\")\n"
   ]
  },
  {
   "cell_type": "code",
   "execution_count": 75,
   "metadata": {
    "collapsed": false,
    "run_control": {
     "frozen": false,
     "read_only": false
    }
   },
   "outputs": [
    {
     "data": {
      "text/html": [
       "<div>\n",
       "<table border=\"1\" class=\"dataframe\">\n",
       "  <thead>\n",
       "    <tr>\n",
       "      <th>policies</th>\n",
       "      <th colspan=\"2\" halign=\"left\">prepare_scaleup</th>\n",
       "      <th colspan=\"2\" halign=\"left\">borrow_abi</th>\n",
       "      <th colspan=\"2\" halign=\"left\">T_rebuild_K</th>\n",
       "      <th colspan=\"2\" halign=\"left\">social_p</th>\n",
       "      <th colspan=\"2\" halign=\"left\">fap</th>\n",
       "      <th>...</th>\n",
       "      <th colspan=\"2\" halign=\"left\">ResiliencePlusEW</th>\n",
       "      <th colspan=\"2\" halign=\"left\">Asset_losses</th>\n",
       "      <th colspan=\"2\" halign=\"left\">Asset_losses_no_EW</th>\n",
       "      <th colspan=\"2\" halign=\"left\">prop_nonpoor</th>\n",
       "      <th colspan=\"2\" halign=\"left\">prop_nonpoor_lms</th>\n",
       "    </tr>\n",
       "    <tr>\n",
       "      <th>outputs</th>\n",
       "      <th>dKtot</th>\n",
       "      <th>dWtot_currency</th>\n",
       "      <th>dKtot</th>\n",
       "      <th>dWtot_currency</th>\n",
       "      <th>dKtot</th>\n",
       "      <th>dWtot_currency</th>\n",
       "      <th>dKtot</th>\n",
       "      <th>dWtot_currency</th>\n",
       "      <th>dKtot</th>\n",
       "      <th>dWtot_currency</th>\n",
       "      <th>...</th>\n",
       "      <th>dKtot</th>\n",
       "      <th>dWtot_currency</th>\n",
       "      <th>dKtot</th>\n",
       "      <th>dWtot_currency</th>\n",
       "      <th>dKtot</th>\n",
       "      <th>dWtot_currency</th>\n",
       "      <th>dKtot</th>\n",
       "      <th>dWtot_currency</th>\n",
       "      <th>dKtot</th>\n",
       "      <th>dWtot_currency</th>\n",
       "    </tr>\n",
       "    <tr>\n",
       "      <th>country</th>\n",
       "      <th></th>\n",
       "      <th></th>\n",
       "      <th></th>\n",
       "      <th></th>\n",
       "      <th></th>\n",
       "      <th></th>\n",
       "      <th></th>\n",
       "      <th></th>\n",
       "      <th></th>\n",
       "      <th></th>\n",
       "      <th></th>\n",
       "      <th></th>\n",
       "      <th></th>\n",
       "      <th></th>\n",
       "      <th></th>\n",
       "      <th></th>\n",
       "      <th></th>\n",
       "      <th></th>\n",
       "      <th></th>\n",
       "      <th></th>\n",
       "      <th></th>\n",
       "    </tr>\n",
       "  </thead>\n",
       "  <tbody>\n",
       "    <tr>\n",
       "      <th>Belize</th>\n",
       "      <td>0.0</td>\n",
       "      <td>489321.479583</td>\n",
       "      <td>0.0</td>\n",
       "      <td>0.0</td>\n",
       "      <td>0.0</td>\n",
       "      <td>3.759957e+07</td>\n",
       "      <td>0.0</td>\n",
       "      <td>0.0</td>\n",
       "      <td>620276.211549</td>\n",
       "      <td>1.882431e+07</td>\n",
       "      <td>...</td>\n",
       "      <td>1.318235e+07</td>\n",
       "      <td>8.331843e+07</td>\n",
       "      <td>1.788989e+07</td>\n",
       "      <td>7.030303e+07</td>\n",
       "      <td>5.843398e+06</td>\n",
       "      <td>3.422569e+07</td>\n",
       "      <td>0.0</td>\n",
       "      <td>3.031342e+06</td>\n",
       "      <td>0.0</td>\n",
       "      <td>1.855617e+06</td>\n",
       "    </tr>\n",
       "  </tbody>\n",
       "</table>\n",
       "<p>1 rows × 36 columns</p>\n",
       "</div>"
      ],
      "text/plain": [
       "policies prepare_scaleup                borrow_abi                T_rebuild_K  \\\n",
       "outputs            dKtot dWtot_currency      dKtot dWtot_currency       dKtot   \n",
       "country                                                                         \n",
       "Belize               0.0  489321.479583        0.0            0.0         0.0   \n",
       "\n",
       "policies                social_p                           fap                 \\\n",
       "outputs  dWtot_currency    dKtot dWtot_currency          dKtot dWtot_currency   \n",
       "country                                                                         \n",
       "Belize     3.759957e+07      0.0            0.0  620276.211549   1.882431e+07   \n",
       "\n",
       "policies      ...       ResiliencePlusEW                 Asset_losses  \\\n",
       "outputs       ...                  dKtot dWtot_currency         dKtot   \n",
       "country       ...                                                       \n",
       "Belize        ...           1.318235e+07   8.331843e+07  1.788989e+07   \n",
       "\n",
       "policies                Asset_losses_no_EW                prop_nonpoor  \\\n",
       "outputs  dWtot_currency              dKtot dWtot_currency        dKtot   \n",
       "country                                                                  \n",
       "Belize     7.030303e+07       5.843398e+06   3.422569e+07          0.0   \n",
       "\n",
       "policies                prop_nonpoor_lms                 \n",
       "outputs  dWtot_currency            dKtot dWtot_currency  \n",
       "country                                                  \n",
       "Belize     3.031342e+06              0.0   1.855617e+06  \n",
       "\n",
       "[1 rows x 36 columns]"
      ]
     },
     "execution_count": 75,
     "metadata": {},
     "output_type": "execute_result"
    }
   ],
   "source": [
    "delta.head(1)"
   ]
  },
  {
   "cell_type": "code",
   "execution_count": 76,
   "metadata": {
    "collapsed": false,
    "run_control": {
     "frozen": false,
     "read_only": false
    }
   },
   "outputs": [],
   "source": [
    "for c in delta.index:\n",
    "    x=pd.concat([1e-6*delta.ix[c].unstack()[[\"dWtot_currency\",\"dKtot\"]].rename(columns={\"dKtot\":\"Asset losses m$\", \"dWtot_currency\":\"Wellbeing losses m$\"}),\n",
    "           100*rel.ix[c].unstack()[[\"dWtot_currency\",\"dKtot\"]].rename(columns={\"dKtot\":\"Asset losses %\", \"dWtot_currency\":\"Wellbeing losses %\"})],axis=1).sort_values(by=\"Wellbeing losses m$\", \n",
    "           ascending=False).applymap(fancy_round).drop([\"ResiliencePlusEW\", \"Asset_losses\", \"Asset_losses_no_EW\", \"ResiliencePackage\",\"prop_nonpoor_lms\",\"prepare_scaleup\",\"borrow_abi\"]\n",
    "                                                      ).rename(index=policy_description)\n",
    "    x.index.name=c\n",
    "    x.to_csv(\"cards/country_tables/\"+c+\".csv\"\n",
    "            )"
   ]
  },
  {
   "cell_type": "code",
   "execution_count": 77,
   "metadata": {
    "collapsed": false,
    "run_control": {
     "frozen": false,
     "read_only": false
    }
   },
   "outputs": [
    {
     "data": {
      "text/html": [
       "<div>\n",
       "<table border=\"1\" class=\"dataframe\">\n",
       "  <thead>\n",
       "    <tr style=\"text-align: right;\">\n",
       "      <th>outputs</th>\n",
       "      <th>Wellbeing losses m$</th>\n",
       "      <th>Asset losses m$</th>\n",
       "      <th>Wellbeing losses %</th>\n",
       "      <th>Asset losses %</th>\n",
       "    </tr>\n",
       "    <tr>\n",
       "      <th>Tonga</th>\n",
       "      <th></th>\n",
       "      <th></th>\n",
       "      <th></th>\n",
       "      <th></th>\n",
       "    </tr>\n",
       "  </thead>\n",
       "  <tbody>\n",
       "    <tr>\n",
       "      <th>Accelerate\\nreconstruction\\n(by 33%)</th>\n",
       "      <td>5.50</td>\n",
       "      <td>0.00</td>\n",
       "      <td>9.50</td>\n",
       "      <td>0.00</td>\n",
       "    </tr>\n",
       "    <tr>\n",
       "      <th>Universal\\naccess to early\\nwarnings</th>\n",
       "      <td>4.80</td>\n",
       "      <td>2.80</td>\n",
       "      <td>8.20</td>\n",
       "      <td>7.70</td>\n",
       "    </tr>\n",
       "    <tr>\n",
       "      <th>Reduce exposure\\nof the poor by 5%\\nof total exposure</th>\n",
       "      <td>4.50</td>\n",
       "      <td>0.64</td>\n",
       "      <td>7.80</td>\n",
       "      <td>1.80</td>\n",
       "    </tr>\n",
       "    <tr>\n",
       "      <th>Increase social\\ntransfers to poor\\npeople to at\\nleast 33%</th>\n",
       "      <td>2.60</td>\n",
       "      <td>0.00</td>\n",
       "      <td>4.50</td>\n",
       "      <td>0.00</td>\n",
       "    </tr>\n",
       "    <tr>\n",
       "      <th>Reduce\\nexposure of the nonpoor by 5%\\nof total exposure</th>\n",
       "      <td>2.50</td>\n",
       "      <td>2.10</td>\n",
       "      <td>4.30</td>\n",
       "      <td>5.80</td>\n",
       "    </tr>\n",
       "    <tr>\n",
       "      <th>Develop market\\ninsurance\\n(nonpoor people)</th>\n",
       "      <td>2.00</td>\n",
       "      <td>0.00</td>\n",
       "      <td>3.40</td>\n",
       "      <td>0.00</td>\n",
       "    </tr>\n",
       "    <tr>\n",
       "      <th>Reduce asset\\nvulnerability\\n(by 30%) of\\npoor people\\n(5% of the population)</th>\n",
       "      <td>1.50</td>\n",
       "      <td>0.19</td>\n",
       "      <td>2.50</td>\n",
       "      <td>0.53</td>\n",
       "    </tr>\n",
       "    <tr>\n",
       "      <th>Postdisaster\\nsupport\\npackage</th>\n",
       "      <td>1.30</td>\n",
       "      <td>0.00</td>\n",
       "      <td>2.20</td>\n",
       "      <td>0.00</td>\n",
       "    </tr>\n",
       "    <tr>\n",
       "      <th>Reduce asset\\nvulnerability\\n(by 30%) of\\nnonpoor people\\n(5% of the population)</th>\n",
       "      <td>0.80</td>\n",
       "      <td>0.63</td>\n",
       "      <td>1.40</td>\n",
       "      <td>1.70</td>\n",
       "    </tr>\n",
       "    <tr>\n",
       "      <th>Universal\\naccess to\\nfinance</th>\n",
       "      <td>0.43</td>\n",
       "      <td>0.00</td>\n",
       "      <td>0.73</td>\n",
       "      <td>0.00</td>\n",
       "    </tr>\n",
       "    <tr>\n",
       "      <th>Increase\\nincome of the\\npoor 10%</th>\n",
       "      <td>0.22</td>\n",
       "      <td>-0.26</td>\n",
       "      <td>0.38</td>\n",
       "      <td>-0.71</td>\n",
       "    </tr>\n",
       "  </tbody>\n",
       "</table>\n",
       "</div>"
      ],
      "text/plain": [
       "outputs                                             Wellbeing losses m$  \\\n",
       "Tonga                                                                     \n",
       "Accelerate\\nreconstruction\\n(by 33%)                               5.50   \n",
       "Universal\\naccess to early\\nwarnings                               4.80   \n",
       "Reduce exposure\\nof the poor by 5%\\nof total ex...                 4.50   \n",
       "Increase social\\ntransfers to poor\\npeople to a...                 2.60   \n",
       "Reduce\\nexposure of the nonpoor by 5%\\nof total...                 2.50   \n",
       "Develop market\\ninsurance\\n(nonpoor people)                        2.00   \n",
       "Reduce asset\\nvulnerability\\n(by 30%) of\\npoor ...                 1.50   \n",
       "Postdisaster\\nsupport\\npackage                                     1.30   \n",
       "Reduce asset\\nvulnerability\\n(by 30%) of\\nnonpo...                 0.80   \n",
       "Universal\\naccess to\\nfinance                                      0.43   \n",
       "Increase\\nincome of the\\npoor 10%                                  0.22   \n",
       "\n",
       "outputs                                             Asset losses m$  \\\n",
       "Tonga                                                                 \n",
       "Accelerate\\nreconstruction\\n(by 33%)                           0.00   \n",
       "Universal\\naccess to early\\nwarnings                           2.80   \n",
       "Reduce exposure\\nof the poor by 5%\\nof total ex...             0.64   \n",
       "Increase social\\ntransfers to poor\\npeople to a...             0.00   \n",
       "Reduce\\nexposure of the nonpoor by 5%\\nof total...             2.10   \n",
       "Develop market\\ninsurance\\n(nonpoor people)                    0.00   \n",
       "Reduce asset\\nvulnerability\\n(by 30%) of\\npoor ...             0.19   \n",
       "Postdisaster\\nsupport\\npackage                                 0.00   \n",
       "Reduce asset\\nvulnerability\\n(by 30%) of\\nnonpo...             0.63   \n",
       "Universal\\naccess to\\nfinance                                  0.00   \n",
       "Increase\\nincome of the\\npoor 10%                             -0.26   \n",
       "\n",
       "outputs                                             Wellbeing losses %  \\\n",
       "Tonga                                                                    \n",
       "Accelerate\\nreconstruction\\n(by 33%)                              9.50   \n",
       "Universal\\naccess to early\\nwarnings                              8.20   \n",
       "Reduce exposure\\nof the poor by 5%\\nof total ex...                7.80   \n",
       "Increase social\\ntransfers to poor\\npeople to a...                4.50   \n",
       "Reduce\\nexposure of the nonpoor by 5%\\nof total...                4.30   \n",
       "Develop market\\ninsurance\\n(nonpoor people)                       3.40   \n",
       "Reduce asset\\nvulnerability\\n(by 30%) of\\npoor ...                2.50   \n",
       "Postdisaster\\nsupport\\npackage                                    2.20   \n",
       "Reduce asset\\nvulnerability\\n(by 30%) of\\nnonpo...                1.40   \n",
       "Universal\\naccess to\\nfinance                                     0.73   \n",
       "Increase\\nincome of the\\npoor 10%                                 0.38   \n",
       "\n",
       "outputs                                             Asset losses %  \n",
       "Tonga                                                               \n",
       "Accelerate\\nreconstruction\\n(by 33%)                          0.00  \n",
       "Universal\\naccess to early\\nwarnings                          7.70  \n",
       "Reduce exposure\\nof the poor by 5%\\nof total ex...            1.80  \n",
       "Increase social\\ntransfers to poor\\npeople to a...            0.00  \n",
       "Reduce\\nexposure of the nonpoor by 5%\\nof total...            5.80  \n",
       "Develop market\\ninsurance\\n(nonpoor people)                   0.00  \n",
       "Reduce asset\\nvulnerability\\n(by 30%) of\\npoor ...            0.53  \n",
       "Postdisaster\\nsupport\\npackage                                0.00  \n",
       "Reduce asset\\nvulnerability\\n(by 30%) of\\nnonpo...            1.70  \n",
       "Universal\\naccess to\\nfinance                                 0.00  \n",
       "Increase\\nincome of the\\npoor 10%                            -0.71  "
      ]
     },
     "execution_count": 77,
     "metadata": {},
     "output_type": "execute_result"
    }
   ],
   "source": [
    "x"
   ]
  },
  {
   "cell_type": "code",
   "execution_count": 78,
   "metadata": {
    "collapsed": false,
    "run_control": {
     "frozen": false,
     "read_only": false
    }
   },
   "outputs": [],
   "source": [
    "def f(x):\n",
    "    s=\"{s}\".format(s=fancy_round(x,2))\n",
    "    if s.endswith(\".0\"):\n",
    "        s=s[:-2]\n",
    "    if s==\"-0\":\n",
    "        s=\"0\"\n",
    "    return s    "
   ]
  },
  {
   "cell_type": "code",
   "execution_count": 79,
   "metadata": {
    "collapsed": false,
    "run_control": {
     "frozen": false,
     "read_only": false
    }
   },
   "outputs": [],
   "source": [
    "for c in delta.index:\n",
    "\n",
    "    y=1e-6*delta.ix[c].unstack()[[\"dWtot_currency\",\"dKtot\"]]\n",
    "    x=(y.applymap(f).astype(str) \n",
    "     + ' ('+(100*rel.ix[c].unstack()[[\"dWtot_currency\",\"dKtot\"]]).applymap(f).astype(str)+'%)'\n",
    "    )\n",
    "\n",
    "\n",
    "    x=x.rename(columns={\"dKtot\":\"Asset losses label\", \"dWtot_currency\":\"Wellbeing losses  label\"}\n",
    "            )\n",
    "\n",
    "    y=y.rename(columns={\"dKtot\":\"Asset losses value\", \"dWtot_currency\":\"Wellbeing losses value\"}\n",
    "            )\n",
    "\n",
    "    idx = delta.ix[c].unstack().sort_values(by=\"dWtot_currency\", \n",
    "              ascending=False).drop([\"ResiliencePlusEW\", \"Asset_losses\", \"Asset_losses_no_EW\", \"ResiliencePackage\",\"prop_nonpoor_lms\",\"prepare_scaleup\",\"borrow_abi\"]).index\n",
    "\n",
    "\n",
    "    # x=\n",
    "    # x\n",
    "    t = pd.concat([y,x],axis=1).ix[idx].rename(index=policy_description)\n",
    "    t.index.name=c\n",
    "    t.to_csv(\"cards/country_tables/\"+c+\".csv\")"
   ]
  },
  {
   "cell_type": "code",
   "execution_count": 80,
   "metadata": {
    "collapsed": false,
    "run_control": {
     "frozen": false,
     "read_only": false
    }
   },
   "outputs": [
    {
     "data": {
      "text/html": [
       "<div>\n",
       "<table border=\"1\" class=\"dataframe\">\n",
       "  <thead>\n",
       "    <tr style=\"text-align: right;\">\n",
       "      <th>outputs</th>\n",
       "      <th>Wellbeing losses value</th>\n",
       "      <th>Asset losses value</th>\n",
       "      <th>Wellbeing losses  label</th>\n",
       "      <th>Asset losses label</th>\n",
       "    </tr>\n",
       "    <tr>\n",
       "      <th>Tonga</th>\n",
       "      <th></th>\n",
       "      <th></th>\n",
       "      <th></th>\n",
       "      <th></th>\n",
       "    </tr>\n",
       "  </thead>\n",
       "  <tbody>\n",
       "    <tr>\n",
       "      <th>Accelerate\\nreconstruction\\n(by 33%)</th>\n",
       "      <td>5.538534</td>\n",
       "      <td>0.000000</td>\n",
       "      <td>5.5 (9.5%)</td>\n",
       "      <td>0 (0%)</td>\n",
       "    </tr>\n",
       "    <tr>\n",
       "      <th>Universal\\naccess to early\\nwarnings</th>\n",
       "      <td>4.771007</td>\n",
       "      <td>2.763934</td>\n",
       "      <td>4.8 (8.2%)</td>\n",
       "      <td>2.8 (7.7%)</td>\n",
       "    </tr>\n",
       "    <tr>\n",
       "      <th>Reduce exposure\\nof the poor by 5%\\nof total exposure</th>\n",
       "      <td>4.526857</td>\n",
       "      <td>0.640136</td>\n",
       "      <td>4.5 (7.8%)</td>\n",
       "      <td>0.64 (1.8%)</td>\n",
       "    </tr>\n",
       "    <tr>\n",
       "      <th>Increase social\\ntransfers to poor\\npeople to at\\nleast 33%</th>\n",
       "      <td>2.642023</td>\n",
       "      <td>0.000000</td>\n",
       "      <td>2.6 (4.5%)</td>\n",
       "      <td>0 (0%)</td>\n",
       "    </tr>\n",
       "    <tr>\n",
       "      <th>Reduce\\nexposure of the nonpoor by 5%\\nof total exposure</th>\n",
       "      <td>2.524376</td>\n",
       "      <td>2.089119</td>\n",
       "      <td>2.5 (4.3%)</td>\n",
       "      <td>2.1 (5.8%)</td>\n",
       "    </tr>\n",
       "    <tr>\n",
       "      <th>Develop market\\ninsurance\\n(nonpoor people)</th>\n",
       "      <td>1.973107</td>\n",
       "      <td>0.000000</td>\n",
       "      <td>2 (3.4%)</td>\n",
       "      <td>0 (0%)</td>\n",
       "    </tr>\n",
       "    <tr>\n",
       "      <th>Reduce asset\\nvulnerability\\n(by 30%) of\\npoor people\\n(5% of the population)</th>\n",
       "      <td>1.471832</td>\n",
       "      <td>0.192041</td>\n",
       "      <td>1.5 (2.5%)</td>\n",
       "      <td>0.19 (0.53%)</td>\n",
       "    </tr>\n",
       "    <tr>\n",
       "      <th>Postdisaster\\nsupport\\npackage</th>\n",
       "      <td>1.263995</td>\n",
       "      <td>0.000000</td>\n",
       "      <td>1.3 (2.2%)</td>\n",
       "      <td>0 (0%)</td>\n",
       "    </tr>\n",
       "    <tr>\n",
       "      <th>Reduce asset\\nvulnerability\\n(by 30%) of\\nnonpoor people\\n(5% of the population)</th>\n",
       "      <td>0.803318</td>\n",
       "      <td>0.626736</td>\n",
       "      <td>0.8 (1.4%)</td>\n",
       "      <td>0.63 (1.7%)</td>\n",
       "    </tr>\n",
       "    <tr>\n",
       "      <th>Universal\\naccess to\\nfinance</th>\n",
       "      <td>0.426168</td>\n",
       "      <td>0.000000</td>\n",
       "      <td>0.43 (0.73%)</td>\n",
       "      <td>0 (0%)</td>\n",
       "    </tr>\n",
       "    <tr>\n",
       "      <th>Increase\\nincome of the\\npoor 10%</th>\n",
       "      <td>0.222658</td>\n",
       "      <td>-0.256054</td>\n",
       "      <td>0.22 (0.38%)</td>\n",
       "      <td>-0.26 (-0.71%)</td>\n",
       "    </tr>\n",
       "  </tbody>\n",
       "</table>\n",
       "</div>"
      ],
      "text/plain": [
       "outputs                                             Wellbeing losses value  \\\n",
       "Tonga                                                                        \n",
       "Accelerate\\nreconstruction\\n(by 33%)                              5.538534   \n",
       "Universal\\naccess to early\\nwarnings                              4.771007   \n",
       "Reduce exposure\\nof the poor by 5%\\nof total ex...                4.526857   \n",
       "Increase social\\ntransfers to poor\\npeople to a...                2.642023   \n",
       "Reduce\\nexposure of the nonpoor by 5%\\nof total...                2.524376   \n",
       "Develop market\\ninsurance\\n(nonpoor people)                       1.973107   \n",
       "Reduce asset\\nvulnerability\\n(by 30%) of\\npoor ...                1.471832   \n",
       "Postdisaster\\nsupport\\npackage                                    1.263995   \n",
       "Reduce asset\\nvulnerability\\n(by 30%) of\\nnonpo...                0.803318   \n",
       "Universal\\naccess to\\nfinance                                     0.426168   \n",
       "Increase\\nincome of the\\npoor 10%                                 0.222658   \n",
       "\n",
       "outputs                                             Asset losses value  \\\n",
       "Tonga                                                                    \n",
       "Accelerate\\nreconstruction\\n(by 33%)                          0.000000   \n",
       "Universal\\naccess to early\\nwarnings                          2.763934   \n",
       "Reduce exposure\\nof the poor by 5%\\nof total ex...            0.640136   \n",
       "Increase social\\ntransfers to poor\\npeople to a...            0.000000   \n",
       "Reduce\\nexposure of the nonpoor by 5%\\nof total...            2.089119   \n",
       "Develop market\\ninsurance\\n(nonpoor people)                   0.000000   \n",
       "Reduce asset\\nvulnerability\\n(by 30%) of\\npoor ...            0.192041   \n",
       "Postdisaster\\nsupport\\npackage                                0.000000   \n",
       "Reduce asset\\nvulnerability\\n(by 30%) of\\nnonpo...            0.626736   \n",
       "Universal\\naccess to\\nfinance                                 0.000000   \n",
       "Increase\\nincome of the\\npoor 10%                            -0.256054   \n",
       "\n",
       "outputs                                            Wellbeing losses  label  \\\n",
       "Tonga                                                                        \n",
       "Accelerate\\nreconstruction\\n(by 33%)                            5.5 (9.5%)   \n",
       "Universal\\naccess to early\\nwarnings                            4.8 (8.2%)   \n",
       "Reduce exposure\\nof the poor by 5%\\nof total ex...              4.5 (7.8%)   \n",
       "Increase social\\ntransfers to poor\\npeople to a...              2.6 (4.5%)   \n",
       "Reduce\\nexposure of the nonpoor by 5%\\nof total...              2.5 (4.3%)   \n",
       "Develop market\\ninsurance\\n(nonpoor people)                       2 (3.4%)   \n",
       "Reduce asset\\nvulnerability\\n(by 30%) of\\npoor ...              1.5 (2.5%)   \n",
       "Postdisaster\\nsupport\\npackage                                  1.3 (2.2%)   \n",
       "Reduce asset\\nvulnerability\\n(by 30%) of\\nnonpo...              0.8 (1.4%)   \n",
       "Universal\\naccess to\\nfinance                                 0.43 (0.73%)   \n",
       "Increase\\nincome of the\\npoor 10%                             0.22 (0.38%)   \n",
       "\n",
       "outputs                                            Asset losses label  \n",
       "Tonga                                                                  \n",
       "Accelerate\\nreconstruction\\n(by 33%)                           0 (0%)  \n",
       "Universal\\naccess to early\\nwarnings                       2.8 (7.7%)  \n",
       "Reduce exposure\\nof the poor by 5%\\nof total ex...        0.64 (1.8%)  \n",
       "Increase social\\ntransfers to poor\\npeople to a...             0 (0%)  \n",
       "Reduce\\nexposure of the nonpoor by 5%\\nof total...         2.1 (5.8%)  \n",
       "Develop market\\ninsurance\\n(nonpoor people)                    0 (0%)  \n",
       "Reduce asset\\nvulnerability\\n(by 30%) of\\npoor ...       0.19 (0.53%)  \n",
       "Postdisaster\\nsupport\\npackage                                 0 (0%)  \n",
       "Reduce asset\\nvulnerability\\n(by 30%) of\\nnonpo...        0.63 (1.7%)  \n",
       "Universal\\naccess to\\nfinance                                  0 (0%)  \n",
       "Increase\\nincome of the\\npoor 10%                      -0.26 (-0.71%)  "
      ]
     },
     "execution_count": 80,
     "metadata": {},
     "output_type": "execute_result"
    }
   ],
   "source": [
    "t"
   ]
  },
  {
   "cell_type": "markdown",
   "metadata": {},
   "source": [
    "## policy tables for Brad"
   ]
  },
  {
   "cell_type": "code",
   "execution_count": 81,
   "metadata": {
    "collapsed": false
   },
   "outputs": [
    {
     "data": {
      "text/plain": [
       "Index(['prepare_scaleup', 'borrow_abi', 'T_rebuild_K', 'social_p', 'fap',\n",
       "       'far', 'vp', 'kp', 'vr', 'shew', 'axfin', 'PDSpackage',\n",
       "       'ResiliencePackage', 'ResiliencePlusEW', 'Asset_losses',\n",
       "       'Asset_losses_no_EW', 'prop_nonpoor', 'prop_nonpoor_lms'],\n",
       "      dtype='object', name='policies')"
      ]
     },
     "execution_count": 81,
     "metadata": {},
     "output_type": "execute_result"
    }
   ],
   "source": [
    "delta.stack().columns"
   ]
  },
  {
   "cell_type": "code",
   "execution_count": 82,
   "metadata": {
    "collapsed": false,
    "run_control": {
     "frozen": false,
     "read_only": false
    }
   },
   "outputs": [
    {
     "data": {
      "text/html": [
       "<div>\n",
       "<table border=\"1\" class=\"dataframe\">\n",
       "  <thead>\n",
       "    <tr style=\"text-align: right;\">\n",
       "      <th>outputs</th>\n",
       "      <th>Asset losses value</th>\n",
       "      <th>Wellbeing losses value</th>\n",
       "      <th>Asset losses label</th>\n",
       "      <th>Wellbeing losses  label</th>\n",
       "    </tr>\n",
       "    <tr>\n",
       "      <th>Develop market insurance (25% of population, only nonpoor)</th>\n",
       "      <th></th>\n",
       "      <th></th>\n",
       "      <th></th>\n",
       "      <th></th>\n",
       "    </tr>\n",
       "  </thead>\n",
       "  <tbody>\n",
       "    <tr>\n",
       "      <th>Haiti</th>\n",
       "      <td>0.000000e+00</td>\n",
       "      <td>44.430094</td>\n",
       "      <td>0 (0%)</td>\n",
       "      <td>44 (0.64%)</td>\n",
       "    </tr>\n",
       "    <tr>\n",
       "      <th>Jamaica</th>\n",
       "      <td>0.000000e+00</td>\n",
       "      <td>17.801126</td>\n",
       "      <td>0 (0%)</td>\n",
       "      <td>18 (1.5%)</td>\n",
       "    </tr>\n",
       "    <tr>\n",
       "      <th>Papua New Guinea</th>\n",
       "      <td>-5.960464e-14</td>\n",
       "      <td>10.199908</td>\n",
       "      <td>0 (0%)</td>\n",
       "      <td>10 (2.1%)</td>\n",
       "    </tr>\n",
       "    <tr>\n",
       "      <th>Fiji</th>\n",
       "      <td>5.960464e-14</td>\n",
       "      <td>8.106983</td>\n",
       "      <td>0 (0%)</td>\n",
       "      <td>8.1 (1.3%)</td>\n",
       "    </tr>\n",
       "    <tr>\n",
       "      <th>Solomon Islands</th>\n",
       "      <td>0.000000e+00</td>\n",
       "      <td>2.256292</td>\n",
       "      <td>0 (0%)</td>\n",
       "      <td>2.3 (1.5%)</td>\n",
       "    </tr>\n",
       "    <tr>\n",
       "      <th>Belize</th>\n",
       "      <td>0.000000e+00</td>\n",
       "      <td>1.855617</td>\n",
       "      <td>0 (0%)</td>\n",
       "      <td>1.9 (0.86%)</td>\n",
       "    </tr>\n",
       "    <tr>\n",
       "      <th>St. Lucia</th>\n",
       "      <td>0.000000e+00</td>\n",
       "      <td>1.370439</td>\n",
       "      <td>0 (0%)</td>\n",
       "      <td>1.4 (1.1%)</td>\n",
       "    </tr>\n",
       "    <tr>\n",
       "      <th>Tonga</th>\n",
       "      <td>-7.450581e-15</td>\n",
       "      <td>1.147920</td>\n",
       "      <td>0 (0%)</td>\n",
       "      <td>1.1 (2%)</td>\n",
       "    </tr>\n",
       "    <tr>\n",
       "      <th>Kiribati</th>\n",
       "      <td>0.000000e+00</td>\n",
       "      <td>0.000530</td>\n",
       "      <td>0 (0%)</td>\n",
       "      <td>0 (2.2%)</td>\n",
       "    </tr>\n",
       "  </tbody>\n",
       "</table>\n",
       "</div>"
      ],
      "text/plain": [
       "outputs                                             Asset losses value  \\\n",
       "Develop market insurance (25% of population, on...                       \n",
       "Haiti                                                     0.000000e+00   \n",
       "Jamaica                                                   0.000000e+00   \n",
       "Papua New Guinea                                         -5.960464e-14   \n",
       "Fiji                                                      5.960464e-14   \n",
       "Solomon Islands                                           0.000000e+00   \n",
       "Belize                                                    0.000000e+00   \n",
       "St. Lucia                                                 0.000000e+00   \n",
       "Tonga                                                    -7.450581e-15   \n",
       "Kiribati                                                  0.000000e+00   \n",
       "\n",
       "outputs                                             Wellbeing losses value  \\\n",
       "Develop market insurance (25% of population, on...                           \n",
       "Haiti                                                            44.430094   \n",
       "Jamaica                                                          17.801126   \n",
       "Papua New Guinea                                                 10.199908   \n",
       "Fiji                                                              8.106983   \n",
       "Solomon Islands                                                   2.256292   \n",
       "Belize                                                            1.855617   \n",
       "St. Lucia                                                         1.370439   \n",
       "Tonga                                                             1.147920   \n",
       "Kiribati                                                          0.000530   \n",
       "\n",
       "outputs                                            Asset losses label  \\\n",
       "Develop market insurance (25% of population, on...                      \n",
       "Haiti                                                          0 (0%)   \n",
       "Jamaica                                                        0 (0%)   \n",
       "Papua New Guinea                                               0 (0%)   \n",
       "Fiji                                                           0 (0%)   \n",
       "Solomon Islands                                                0 (0%)   \n",
       "Belize                                                         0 (0%)   \n",
       "St. Lucia                                                      0 (0%)   \n",
       "Tonga                                                          0 (0%)   \n",
       "Kiribati                                                       0 (0%)   \n",
       "\n",
       "outputs                                            Wellbeing losses  label  \n",
       "Develop market insurance (25% of population, on...                          \n",
       "Haiti                                                           44 (0.64%)  \n",
       "Jamaica                                                          18 (1.5%)  \n",
       "Papua New Guinea                                                 10 (2.1%)  \n",
       "Fiji                                                            8.1 (1.3%)  \n",
       "Solomon Islands                                                 2.3 (1.5%)  \n",
       "Belize                                                         1.9 (0.86%)  \n",
       "St. Lucia                                                       1.4 (1.1%)  \n",
       "Tonga                                                             1.1 (2%)  \n",
       "Kiribati                                                          0 (2.2%)  "
      ]
     },
     "execution_count": 82,
     "metadata": {},
     "output_type": "execute_result"
    }
   ],
   "source": [
    "makedirs(\"cards/policy_tables/\", exist_ok=True)\n",
    "\n",
    "for col in delta.stack().columns:\n",
    "    y=1e-6*delta[col]\n",
    "    x=(y.applymap(f).astype(str) \n",
    "     + ' ('+(100*rel[col][[\"dWtot_currency\",\"dKtot\"]]).applymap(f).astype(str)+'%)'\n",
    "    )\n",
    "\n",
    "\n",
    "    x=x.rename(columns={\"dKtot\":\"Asset losses label\", \"dWtot_currency\":\"Wellbeing losses  label\"}\n",
    "            )\n",
    "\n",
    "    x\n",
    "\n",
    "\n",
    "    y=y.rename(columns={\"dKtot\":\"Asset losses value\", \"dWtot_currency\":\"Wellbeing losses value\"}\n",
    "                )\n",
    "\n",
    "    idx = delta[col].sort_values(by=\"dWtot_currency\", \n",
    "              ascending=False).index\n",
    "\n",
    "\n",
    "    t = pd.concat([y,x],axis=1).ix[idx]\n",
    "    t.index.name=policy_description[col]\n",
    "\n",
    "    t.to_csv(\"cards/policy_tables/\"+col+\".csv\");\n",
    "t.head(15)"
   ]
  },
  {
   "cell_type": "code",
   "execution_count": 83,
   "metadata": {
    "collapsed": false,
    "run_control": {
     "frozen": false,
     "read_only": false
    }
   },
   "outputs": [
    {
     "data": {
      "text/html": [
       "<div>\n",
       "<table border=\"1\" class=\"dataframe\">\n",
       "  <thead>\n",
       "    <tr style=\"text-align: right;\">\n",
       "      <th>outputs</th>\n",
       "      <th>Asset losses value</th>\n",
       "      <th>Wellbeing losses value</th>\n",
       "      <th>Asset losses label</th>\n",
       "      <th>Wellbeing losses  label</th>\n",
       "    </tr>\n",
       "    <tr>\n",
       "      <th>Develop market insurance (25% of population, only nonpoor)</th>\n",
       "      <th></th>\n",
       "      <th></th>\n",
       "      <th></th>\n",
       "      <th></th>\n",
       "    </tr>\n",
       "  </thead>\n",
       "  <tbody>\n",
       "    <tr>\n",
       "      <th>Kiribati</th>\n",
       "      <td>0.000000e+00</td>\n",
       "      <td>0.000530</td>\n",
       "      <td>0% (0 m$)</td>\n",
       "      <td>2.2% (0 m$)</td>\n",
       "    </tr>\n",
       "    <tr>\n",
       "      <th>Papua New Guinea</th>\n",
       "      <td>-5.960464e-14</td>\n",
       "      <td>10.199908</td>\n",
       "      <td>0% (0 m$)</td>\n",
       "      <td>2.1% (10 m$)</td>\n",
       "    </tr>\n",
       "    <tr>\n",
       "      <th>Tonga</th>\n",
       "      <td>-7.450581e-15</td>\n",
       "      <td>1.147920</td>\n",
       "      <td>0% (0 m$)</td>\n",
       "      <td>2% (1.1 m$)</td>\n",
       "    </tr>\n",
       "    <tr>\n",
       "      <th>Solomon Islands</th>\n",
       "      <td>0.000000e+00</td>\n",
       "      <td>2.256292</td>\n",
       "      <td>0% (0 m$)</td>\n",
       "      <td>1.5% (2.3 m$)</td>\n",
       "    </tr>\n",
       "    <tr>\n",
       "      <th>Jamaica</th>\n",
       "      <td>0.000000e+00</td>\n",
       "      <td>17.801126</td>\n",
       "      <td>0% (0 m$)</td>\n",
       "      <td>1.5% (18 m$)</td>\n",
       "    </tr>\n",
       "    <tr>\n",
       "      <th>Fiji</th>\n",
       "      <td>5.960464e-14</td>\n",
       "      <td>8.106983</td>\n",
       "      <td>0% (0 m$)</td>\n",
       "      <td>1.3% (8.1 m$)</td>\n",
       "    </tr>\n",
       "    <tr>\n",
       "      <th>St. Lucia</th>\n",
       "      <td>0.000000e+00</td>\n",
       "      <td>1.370439</td>\n",
       "      <td>0% (0 m$)</td>\n",
       "      <td>1.1% (1.4 m$)</td>\n",
       "    </tr>\n",
       "    <tr>\n",
       "      <th>Belize</th>\n",
       "      <td>0.000000e+00</td>\n",
       "      <td>1.855617</td>\n",
       "      <td>0% (0 m$)</td>\n",
       "      <td>0.86% (1.9 m$)</td>\n",
       "    </tr>\n",
       "    <tr>\n",
       "      <th>Haiti</th>\n",
       "      <td>0.000000e+00</td>\n",
       "      <td>44.430094</td>\n",
       "      <td>0% (0 m$)</td>\n",
       "      <td>0.64% (44 m$)</td>\n",
       "    </tr>\n",
       "  </tbody>\n",
       "</table>\n",
       "</div>"
      ],
      "text/plain": [
       "outputs                                             Asset losses value  \\\n",
       "Develop market insurance (25% of population, on...                       \n",
       "Kiribati                                                  0.000000e+00   \n",
       "Papua New Guinea                                         -5.960464e-14   \n",
       "Tonga                                                    -7.450581e-15   \n",
       "Solomon Islands                                           0.000000e+00   \n",
       "Jamaica                                                   0.000000e+00   \n",
       "Fiji                                                      5.960464e-14   \n",
       "St. Lucia                                                 0.000000e+00   \n",
       "Belize                                                    0.000000e+00   \n",
       "Haiti                                                     0.000000e+00   \n",
       "\n",
       "outputs                                             Wellbeing losses value  \\\n",
       "Develop market insurance (25% of population, on...                           \n",
       "Kiribati                                                          0.000530   \n",
       "Papua New Guinea                                                 10.199908   \n",
       "Tonga                                                             1.147920   \n",
       "Solomon Islands                                                   2.256292   \n",
       "Jamaica                                                          17.801126   \n",
       "Fiji                                                              8.106983   \n",
       "St. Lucia                                                         1.370439   \n",
       "Belize                                                            1.855617   \n",
       "Haiti                                                            44.430094   \n",
       "\n",
       "outputs                                            Asset losses label  \\\n",
       "Develop market insurance (25% of population, on...                      \n",
       "Kiribati                                                    0% (0 m$)   \n",
       "Papua New Guinea                                            0% (0 m$)   \n",
       "Tonga                                                       0% (0 m$)   \n",
       "Solomon Islands                                             0% (0 m$)   \n",
       "Jamaica                                                     0% (0 m$)   \n",
       "Fiji                                                        0% (0 m$)   \n",
       "St. Lucia                                                   0% (0 m$)   \n",
       "Belize                                                      0% (0 m$)   \n",
       "Haiti                                                       0% (0 m$)   \n",
       "\n",
       "outputs                                            Wellbeing losses  label  \n",
       "Develop market insurance (25% of population, on...                          \n",
       "Kiribati                                                       2.2% (0 m$)  \n",
       "Papua New Guinea                                              2.1% (10 m$)  \n",
       "Tonga                                                          2% (1.1 m$)  \n",
       "Solomon Islands                                              1.5% (2.3 m$)  \n",
       "Jamaica                                                       1.5% (18 m$)  \n",
       "Fiji                                                         1.3% (8.1 m$)  \n",
       "St. Lucia                                                    1.1% (1.4 m$)  \n",
       "Belize                                                      0.86% (1.9 m$)  \n",
       "Haiti                                                        0.64% (44 m$)  "
      ]
     },
     "execution_count": 83,
     "metadata": {},
     "output_type": "execute_result"
    }
   ],
   "source": [
    "makedirs(\"cards/policy_tables_alt/\", exist_ok=True)\n",
    "\n",
    "for col in delta.stack().columns:\n",
    "# for col in [\"vp\",\"vr\"]:\n",
    "    y=1e-6*delta[col]\n",
    "    x=((100*rel[col][[\"dWtot_currency\",\"dKtot\"]]).applymap(f).astype(str)+\"%\"\n",
    "     + ' ('+ y.applymap(f).astype(str) +' m$)'\n",
    "    )\n",
    "\n",
    "\n",
    "    x=x.rename(columns={\"dKtot\":\"Asset losses label\", \"dWtot_currency\":\"Wellbeing losses  label\"}\n",
    "            )\n",
    "\n",
    "    x\n",
    "\n",
    "\n",
    "    y=y.rename(columns={\"dKtot\":\"Asset losses value\", \"dWtot_currency\":\"Wellbeing losses value\"}\n",
    "                )\n",
    "\n",
    "    idx = rel[col].sort_values(by=\"dWtot_currency\", \n",
    "              ascending=False).index\n",
    "\n",
    "\n",
    "    t = pd.concat([y,x],axis=1).ix[idx]\n",
    "    t.index.name=policy_description[col]\n",
    "\n",
    "    t.head(15).to_csv(\"cards/policy_tables_alt/\"+col+\".csv\");\n",
    "t"
   ]
  },
  {
   "cell_type": "code",
   "execution_count": null,
   "metadata": {
    "collapsed": true,
    "run_control": {
     "frozen": false,
     "read_only": false
    }
   },
   "outputs": [],
   "source": []
  },
  {
   "cell_type": "code",
   "execution_count": null,
   "metadata": {
    "collapsed": true,
    "run_control": {
     "frozen": false,
     "read_only": false
    }
   },
   "outputs": [],
   "source": []
  },
  {
   "cell_type": "markdown",
   "metadata": {},
   "source": [
    "# Render cards\n"
   ]
  },
  {
   "cell_type": "code",
   "execution_count": 84,
   "metadata": {
    "collapsed": false,
    "run_control": {
     "frozen": false,
     "read_only": false
    }
   },
   "outputs": [],
   "source": [
    "results=pd.read_csv(\"results/results.csv\", index_col=\"country\")"
   ]
  },
  {
   "cell_type": "code",
   "execution_count": 85,
   "metadata": {
    "collapsed": false,
    "run_control": {
     "frozen": false,
     "read_only": false
    }
   },
   "outputs": [
    {
     "data": {
      "text/plain": [
       "Index(['Belize', 'Fiji', 'Haiti', 'Jamaica', 'Kiribati', 'Papua New Guinea',\n",
       "       'Solomon Islands', 'St. Lucia', 'Tonga'],\n",
       "      dtype='object', name='country')"
      ]
     },
     "execution_count": 85,
     "metadata": {},
     "output_type": "execute_result"
    }
   ],
   "source": [
    "#list of policy name in apply_policy we want to use here\n",
    "policy_list = [\"prepare_scaleup\", \"borrow_abi\",  \"T_rebuild_K\", \"social_p\",\"fap\",\"far\", \"vp\",\"kp\",\"vr\", \"shew\", \"axfin\",\"PDSpackage\",\"prop_nonpoor\"]\n",
    "# policy_list = [\"fap\"]\n",
    "\n",
    "country_list = results.dropna().index\n",
    "# country_list = [\"Nepal\", \"Honduras\", \"Moldova\", \"Rwanda\"]\n",
    "# \"Finland\" in country_list\n",
    "\n",
    "country_list"
   ]
  },
  {
   "cell_type": "markdown",
   "metadata": {},
   "source": [
    "## colors and units"
   ]
  },
  {
   "cell_type": "code",
   "execution_count": 86,
   "metadata": {
    "collapsed": false,
    "run_control": {
     "frozen": false,
     "read_only": false
    }
   },
   "outputs": [
    {
     "data": {
      "text/html": [
       "<div>\n",
       "<table border=\"1\" class=\"dataframe\">\n",
       "  <thead>\n",
       "    <tr style=\"text-align: right;\">\n",
       "      <th></th>\n",
       "      <th>color</th>\n",
       "      <th>edgecolor</th>\n",
       "      <th>alpha</th>\n",
       "      <th>label</th>\n",
       "    </tr>\n",
       "  </thead>\n",
       "  <tbody>\n",
       "    <tr>\n",
       "      <th>dWtot_currency</th>\n",
       "      <td>#a6cee3</td>\n",
       "      <td>#1f78b4</td>\n",
       "      <td>1</td>\n",
       "      <td>Avoided well-being losses</td>\n",
       "    </tr>\n",
       "    <tr>\n",
       "      <th>dKtot</th>\n",
       "      <td>#cccccc</td>\n",
       "      <td>#969696</td>\n",
       "      <td>1</td>\n",
       "      <td>Avoided asset losses</td>\n",
       "    </tr>\n",
       "  </tbody>\n",
       "</table>\n",
       "</div>"
      ],
      "text/plain": [
       "                  color edgecolor  alpha                      label\n",
       "dWtot_currency  #a6cee3   #1f78b4      1  Avoided well-being losses\n",
       "dKtot           #cccccc   #969696      1       Avoided asset losses"
      ]
     },
     "execution_count": 86,
     "metadata": {},
     "output_type": "execute_result"
    }
   ],
   "source": [
    "#list of outputs to render and color to use\n",
    "colors = pd.read_csv(\"inputs/colors_pol_assess.csv\", index_col=0)\n",
    "colors"
   ]
  },
  {
   "cell_type": "markdown",
   "metadata": {},
   "source": [
    "## Legend"
   ]
  },
  {
   "cell_type": "code",
   "execution_count": 87,
   "metadata": {
    "collapsed": false,
    "run_control": {
     "frozen": false,
     "read_only": false
    }
   },
   "outputs": [
    {
     "data": {
      "image/png": "[encoded data removed]",
      "text/plain": [
       "<matplotlib.figure.Figure at 0x21117f72cf8>"
      ]
     },
     "metadata": {},
     "output_type": "display_data"
    }
   ],
   "source": [
    "import matplotlib.patches as mpatches\n",
    "from fancy_plots import savefig\n",
    "\n",
    "patches=[]\n",
    "for i in colors.index:\n",
    "    patches+=[mpatches.Patch( \n",
    "                    fc=colors.ix[i,\"color\"],\n",
    "                    ec= colors.ix[i,\"edgecolor\"],\n",
    "                    label=colors.ix[i,\"label\"] ) ]\n",
    "                        \n",
    "fig=plt.figure()\n",
    "ax=plt.gca()\n",
    "\n",
    "l=ax.legend(handles=patches, loc=\"upper left\", prop=font,frameon=False, title=\"\")  \n",
    "plt.setp(l.get_title(), multialignment='center')\n",
    "\n",
    "ax.axis('off')\n",
    "\n",
    "plt.savefig(\"cards/legend_cards.png\")\n"
   ]
  },
  {
   "cell_type": "markdown",
   "metadata": {},
   "source": [
    "## delta"
   ]
  },
  {
   "cell_type": "markdown",
   "metadata": {},
   "source": [
    "### PER COUNTRY"
   ]
  },
  {
   "cell_type": "code",
   "execution_count": null,
   "metadata": {
    "collapsed": false,
    "run_control": {
     "frozen": false,
     "read_only": false
    }
   },
   "outputs": [],
   "source": []
  },
  {
   "cell_type": "code",
   "execution_count": 88,
   "metadata": {
    "collapsed": false,
    "run_control": {
     "frozen": false,
     "read_only": false
    }
   },
   "outputs": [
    {
     "name": "stdout",
     "output_type": "stream",
     "text": [
      "Currently working on:  done at 2017-07-26 19:25:18.773650\n"
     ]
    },
    {
     "data": {
      "image/png": "[encoded data removed]",
      "text/plain": [
       "<matplotlib.figure.Figure at 0x2111773cd30>"
      ]
     },
     "execution_count": 88,
     "metadata": {},
     "output_type": "execute_result"
    }
   ],
   "source": [
    "#unit for changes   (welfare and asset loses change)\n",
    "unit = dict(multiplier = 1e-6, string = \"US$, millions per year\")\n",
    "\n",
    "render_pol_cards(\n",
    "    delta[policy_list],\n",
    "    colors,\n",
    "    policy_description,\n",
    "    unit,\n",
    "    \n",
    "#     [\"China\"],\n",
    "  country_list,\n",
    "    outfolder=\"cards/country/\")"
   ]
  },
  {
   "cell_type": "markdown",
   "metadata": {},
   "source": [
    "### per policy"
   ]
  },
  {
   "cell_type": "code",
   "execution_count": 90,
   "metadata": {
    "collapsed": false,
    "run_control": {
     "frozen": false,
     "read_only": false
    }
   },
   "outputs": [
    {
     "name": "stdout",
     "output_type": "stream",
     "text": [
      "Currently working on:  done at 2017-07-26 19:30:03.759837\n"
     ]
    },
    {
     "data": {
      "image/png": "[encoded data removed]",
      "text/plain": [
       "<matplotlib.figure.Figure at 0x2111acd6860>"
      ]
     },
     "execution_count": 90,
     "metadata": {},
     "output_type": "execute_result"
    }
   ],
   "source": [
    "#unit for changes   (welfare and asset loses change)\n",
    "unit = dict(multiplier = 1e-6, string = \"US$, millions per year\")\n",
    "\n",
    "render_pol_cards(\n",
    "    delta,\n",
    "    colors,\n",
    "    policy_description,\n",
    "    unit,\n",
    "    policy_list,\n",
    "    use_title=True,\n",
    "    max_lines = 15,\n",
    "    outfolder=\"cards/policy/\",\n",
    "    do_by_policy=True)"
   ]
  },
  {
   "cell_type": "markdown",
   "metadata": {},
   "source": [
    "## Relative to losses"
   ]
  },
  {
   "cell_type": "markdown",
   "metadata": {},
   "source": [
    "### per country"
   ]
  },
  {
   "cell_type": "code",
   "execution_count": 91,
   "metadata": {
    "collapsed": false,
    "run_control": {
     "frozen": false,
     "read_only": false
    },
    "scrolled": true
   },
   "outputs": [
    {
     "name": "stdout",
     "output_type": "stream",
     "text": [
      "Currently working on:  done at 2017-07-26 19:32:19.937584\n"
     ]
    },
    {
     "data": {
      "image/png": "[encoded data removed]",
      "text/plain": [
       "<matplotlib.figure.Figure at 0x21119659898>"
      ]
     },
     "execution_count": 91,
     "metadata": {},
     "output_type": "execute_result"
    }
   ],
   "source": [
    "#unit for changes   (welfare and asset loses change)\n",
    "unit = dict(multiplier = 100, string = \"Percent of current losses\")\n",
    "\n",
    "render_pol_cards(\n",
    "    rel[policy_list],\n",
    "    colors,\n",
    "    policy_description,\n",
    "    unit,\n",
    "    country_list, \n",
    "    name_suffix=\"_rel\",\n",
    "outfolder=\"cards/country/\",)"
   ]
  },
  {
   "cell_type": "code",
   "execution_count": null,
   "metadata": {
    "collapsed": true,
    "run_control": {
     "frozen": false,
     "read_only": false
    }
   },
   "outputs": [],
   "source": []
  },
  {
   "cell_type": "markdown",
   "metadata": {
    "collapsed": true,
    "run_control": {
     "frozen": false,
     "read_only": false
    }
   },
   "source": [
    "### per policy"
   ]
  },
  {
   "cell_type": "code",
   "execution_count": 92,
   "metadata": {
    "collapsed": false,
    "run_control": {
     "frozen": false,
     "read_only": false
    }
   },
   "outputs": [
    {
     "name": "stdout",
     "output_type": "stream",
     "text": [
      "Currently working on:  done at 2017-07-26 19:32:36.118836\n"
     ]
    },
    {
     "data": {
      "image/png": "[encoded data removed]",
      "text/plain": [
       "<matplotlib.figure.Figure at 0x2111ac85978>"
      ]
     },
     "execution_count": 92,
     "metadata": {},
     "output_type": "execute_result"
    }
   ],
   "source": [
    "#unit for changes   (welfare and asset loses change)\n",
    "unit = dict(multiplier = 100, string = \"Percent of current losses\")\n",
    "\n",
    "render_pol_cards(\n",
    "    rel,\n",
    "    colors,\n",
    "    policy_description,\n",
    "    unit,\n",
    "    policy_list,\n",
    "    name_suffix=\"_rel\",\n",
    "    outfolder=\"cards/policy/\",\n",
    "    max_lines=15,\n",
    "    use_title=True,\n",
    "    do_by_policy=True)"
   ]
  },
  {
   "cell_type": "markdown",
   "metadata": {
    "collapsed": true
   },
   "source": [
    "## Merge all cards to single pdf"
   ]
  },
  {
   "cell_type": "markdown",
   "metadata": {},
   "source": [
    "Merges the individual province cards into one big multi page pdf. Requires ghostscript."
   ]
  },
  {
   "cell_type": "code",
   "execution_count": null,
   "metadata": {
    "collapsed": false,
    "run_control": {
     "frozen": false,
     "read_only": false
    }
   },
   "outputs": [],
   "source": [
    "#Country cards\n",
    "province_list=glob.glob(\"cards/country/*.pdf\")\n",
    "merge_cardfiles(province_list,\"cards/all_country_cards.pdf\")\n",
    "\n",
    "#Policy cards\n",
    "thepollist=glob.glob(\"cards/policy/*.pdf\")\n",
    "merge_cardfiles(thepollist,\"cards/all_policy_cards.pdf\")"
   ]
  },
  {
   "cell_type": "markdown",
   "metadata": {},
   "source": [
    "Converts the pdf files to png images. Requires Imagemagick."
   ]
  },
  {
   "cell_type": "code",
   "execution_count": null,
   "metadata": {
    "collapsed": false,
    "run_control": {
     "frozen": false,
     "read_only": false
    }
   },
   "outputs": [],
   "source": [
    "# convert_pdf_to_png(\"cards/\")"
   ]
  },
  {
   "cell_type": "markdown",
   "metadata": {
    "collapsed": true,
    "run_control": {
     "frozen": false,
     "read_only": false
    }
   },
   "source": [
    "# Malawi single case"
   ]
  },
  {
   "cell_type": "code",
   "execution_count": null,
   "metadata": {
    "collapsed": false,
    "run_control": {
     "frozen": false,
     "read_only": false
    }
   },
   "outputs": [],
   "source": [
    "refout_flood = compute_resilience(macro, cat_info, hazard_ratios.query(\"hazard=='flood'\"))"
   ]
  },
  {
   "cell_type": "code",
   "execution_count": null,
   "metadata": {
    "collapsed": false,
    "run_control": {
     "frozen": false,
     "read_only": false
    }
   },
   "outputs": [],
   "source": [
    "m,c,hr,a,desc =apply_policy(m_,c_,hr_.query(\"hazard=='flood'\"),a_ ,policy_name=\"fap\")"
   ]
  },
  {
   "cell_type": "code",
   "execution_count": null,
   "metadata": {
    "collapsed": false,
    "run_control": {
     "frozen": false,
     "read_only": false
    }
   },
   "outputs": [],
   "source": [
    "d,r,rto,nv=test_package(m,c,hr,a,return_rel=True, refout=refout_flood)"
   ]
  },
  {
   "cell_type": "code",
   "execution_count": null,
   "metadata": {
    "collapsed": false,
    "run_control": {
     "frozen": false,
     "read_only": false
    }
   },
   "outputs": [],
   "source": [
    "x=d.ix[[\"Malawi\",\"Bangladesh\"],[\"dKtot\",\"dWtot_currency\"]]*1e-6 \n",
    "x"
   ]
  },
  {
   "cell_type": "markdown",
   "metadata": {},
   "source": [
    "## per capita"
   ]
  },
  {
   "cell_type": "code",
   "execution_count": null,
   "metadata": {
    "collapsed": false,
    "run_control": {
     "frozen": false,
     "read_only": false
    }
   },
   "outputs": [],
   "source": [
    "x.T/pd.Series(dict(Malawi=.16, Bangladesh=3))"
   ]
  },
  {
   "cell_type": "code",
   "execution_count": null,
   "metadata": {
    "collapsed": false,
    "run_control": {
     "frozen": false,
     "read_only": false
    }
   },
   "outputs": [],
   "source": [
    "#just double checking the number of people\n",
    "(hazard_ratios.query(\"hazard=='flood' & rp==100\").fa*macro[\"pop\"]).ix[[\"Malawi\",\"Bangladesh\"]].mean(level=\"country\")"
   ]
  },
  {
   "cell_type": "markdown",
   "metadata": {},
   "source": [
    "## discounted"
   ]
  },
  {
   "cell_type": "code",
   "execution_count": null,
   "metadata": {
    "collapsed": false,
    "run_control": {
     "frozen": false,
     "read_only": false
    }
   },
   "outputs": [],
   "source": [
    "x.T/pd.Series(dict(Malawi=.16, Bangladesh=3))/.06"
   ]
  },
  {
   "cell_type": "code",
   "execution_count": null,
   "metadata": {
    "collapsed": true,
    "run_control": {
     "frozen": false,
     "read_only": false
    }
   },
   "outputs": [],
   "source": []
  },
  {
   "cell_type": "code",
   "execution_count": null,
   "metadata": {
    "collapsed": true,
    "run_control": {
     "frozen": false,
     "read_only": false
    }
   },
   "outputs": [],
   "source": []
  },
  {
   "cell_type": "code",
   "execution_count": null,
   "metadata": {
    "collapsed": true,
    "run_control": {
     "frozen": false,
     "read_only": false
    }
   },
   "outputs": [],
   "source": []
  }
 ],
 "metadata": {
  "kernelspec": {
   "display_name": "Python [default]",
   "language": "python",
   "name": "python3"
  },
  "language_info": {
   "codemirror_mode": {
    "name": "ipython",
    "version": 3
   },
   "file_extension": ".py",
   "mimetype": "text/x-python",
   "name": "python",
   "nbconvert_exporter": "python",
   "pygments_lexer": "ipython3",
   "version": "3.5.2"
  },
  "nav_menu": {},
  "toc": {
   "colors": {
    "hover_highlight": "#DAA520",
    "navigate_num": "#000000",
    "navigate_text": "#333333",
    "running_highlight": "#FF0000",
    "selected_highlight": "#FFD700",
    "sidebar_border": "#EEEEEE",
    "wrapper_background": "#FFFFFF"
   },
   "moveMenuLeft": true,
   "nav_menu": {
    "height": "390px",
    "width": "252px"
   },
   "navigate_menu": true,
   "number_sections": true,
   "sideBar": true,
   "threshold": 4,
   "toc_cell": false,
   "toc_section_display": "block",
   "toc_window_display": true,
   "widenNotebook": false
  },
  "toc_position": {
   "height": "669px",
   "left": "0px",
   "right": "1388px",
   "top": "106px",
   "width": "273px"
  }
 },
 "nbformat": 4,
 "nbformat_minor": 0
}
