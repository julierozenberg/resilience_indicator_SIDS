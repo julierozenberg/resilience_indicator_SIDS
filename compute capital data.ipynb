{
 "cells": [
  {
   "cell_type": "code",
   "execution_count": 1,
   "metadata": {
    "collapsed": true
   },
   "outputs": [],
   "source": [
    "# %reset-f\n",
    "%load_ext autoreload\n",
    "%autoreload 2"
   ]
  },
  {
   "cell_type": "code",
   "execution_count": 28,
   "metadata": {
    "collapsed": true
   },
   "outputs": [],
   "source": [
    "from res_ind_lib import *\n",
    "\n",
    "from sorted_nicely import *\n",
    "from replace_with_warning import *\n",
    "\n",
    "import os, time\n",
    "import warnings\n",
    "warnings.filterwarnings(\"always\",category=UserWarning)\n",
    "from wb_api_wraper import *"
   ]
  },
  {
   "cell_type": "code",
   "execution_count": 3,
   "metadata": {
    "collapsed": true
   },
   "outputs": [],
   "source": [
    "import numpy as np\n",
    "import pandas as pd\n",
    "\n",
    "#Pandas display options\n",
    "# pd.set_option('display.max_colwidth', 200)\n",
    "# pd.set_option('display.width', 200)\n",
    "# pd.set_option('display.precision', 10)\n",
    "# pd.set_option('display.max_rows', 500)\n",
    "\n",
    "#import matplotlib.pylab as plt\n",
    "import matplotlib.pyplot as plt\n",
    "%matplotlib inline\n",
    "font = {'family' : 'serif',\n",
    "    'weight' : 'normal',\n",
    "    'size'   : 15}\n",
    "plt.rc('font', **font)\n",
    "\n",
    "from fancy_plots import *"
   ]
  },
  {
   "cell_type": "code",
   "execution_count": 4,
   "metadata": {
    "collapsed": true
   },
   "outputs": [],
   "source": [
    "#Names to WB names\n",
    "any_to_wb = pd.read_csv(\"inputs/any_name_to_wb_name.csv\",index_col=\"any\",squeeze=True)\n",
    "\n",
    "#GAR names with SIDS spec\n",
    "gar_name_sids = pd.read_csv(\"inputs/gar_name_sids.csv\")\n",
    "\n",
    "#iso3 to wb country name table\n",
    "iso3_to_wb=pd.read_csv(\"inputs/iso3_to_wb_name.csv\").set_index(\"iso3\").squeeze()\n",
    "\n",
    "#iso2 to iso3 table\n",
    "iso2_iso3 = pd.read_csv(\"inputs/names_to_iso.csv\", usecols=[\"iso2\",\"iso3\"]).drop_duplicates().set_index(\"iso2\").squeeze() #the tables has more lines than countries to account for several ways of writing country names"
   ]
  },
  {
   "cell_type": "code",
   "execution_count": 20,
   "metadata": {
    "collapsed": true
   },
   "outputs": [],
   "source": [
    "gar_name_sids['wbcountry'] = gar_name_sids.reset_index().country.replace(any_to_wb)\n",
    "\n",
    "list_of_sids = gar_name_sids[gar_name_sids.isaSID==\"SIDS\"].dropna().reset_index().wbcountry"
   ]
  },
  {
   "cell_type": "code",
   "execution_count": 30,
   "metadata": {
    "collapsed": false
   },
   "outputs": [],
   "source": [
    "penn = pd.read_excel(\"inputs/pwt90.xlsx\",\"Data\")"
   ]
  },
  {
   "cell_type": "code",
   "execution_count": 31,
   "metadata": {
    "collapsed": false
   },
   "outputs": [
    {
     "data": {
      "text/plain": [
       "Index(['countrycode', 'country', 'currency_unit', 'year', 'rgdpe', 'rgdpo',\n",
       "       'pop', 'emp', 'avh', 'hc', 'ccon', 'cda', 'cgdpe', 'cgdpo', 'ck',\n",
       "       'ctfp', 'cwtfp', 'rgdpna', 'rconna', 'rdana', 'rkna', 'rtfpna',\n",
       "       'rwtfpna', 'labsh', 'delta', 'xr', 'pl_con', 'pl_da', 'pl_gdpo',\n",
       "       'i_cig', 'i_xm', 'i_xr', 'i_outlier', 'cor_exp', 'statcap', 'csh_c',\n",
       "       'csh_i', 'csh_g', 'csh_x', 'csh_m', 'csh_r', 'pl_c', 'pl_i', 'pl_g',\n",
       "       'pl_x', 'pl_m', 'pl_k'],\n",
       "      dtype='object')"
      ]
     },
     "execution_count": 31,
     "metadata": {},
     "output_type": "execute_result"
    }
   ],
   "source": [
    "penn.columns"
   ]
  },
  {
   "cell_type": "code",
   "execution_count": 67,
   "metadata": {
    "collapsed": true
   },
   "outputs": [],
   "source": [
    "def mrv_gp_2(x):\n",
    "    \"\"\"this function gets the most recent value from a dataframe grouped by country\"\"\"\n",
    "    out= x.ix[(x[\"year\"])==np.max(x[\"year\"]),:]\n",
    "    return out"
   ]
  },
  {
   "cell_type": "code",
   "execution_count": 68,
   "metadata": {
    "collapsed": false
   },
   "outputs": [],
   "source": [
    "hop=penn.groupby(\"country\").apply(mrv_gp_2)\n",
    "hop = hop.drop(\"country\",axis=1).reset_index().drop(\"level_1\",axis=1)"
   ]
  },
  {
   "cell_type": "code",
   "execution_count": 87,
   "metadata": {
    "collapsed": false
   },
   "outputs": [],
   "source": [
    "clean_penn = hop[['countrycode', 'country', 'year', 'cgdpo', 'ck']].copy()"
   ]
  },
  {
   "cell_type": "code",
   "execution_count": 88,
   "metadata": {
    "collapsed": false
   },
   "outputs": [
    {
     "data": {
      "text/html": [
       "<div>\n",
       "<table border=\"1\" class=\"dataframe\">\n",
       "  <thead>\n",
       "    <tr style=\"text-align: right;\">\n",
       "      <th></th>\n",
       "      <th>countrycode</th>\n",
       "      <th>country</th>\n",
       "      <th>year</th>\n",
       "      <th>cgdpo</th>\n",
       "      <th>ck</th>\n",
       "    </tr>\n",
       "  </thead>\n",
       "  <tbody>\n",
       "    <tr>\n",
       "      <th>0</th>\n",
       "      <td>ALB</td>\n",
       "      <td>Albania</td>\n",
       "      <td>2014</td>\n",
       "      <td>31419.962891</td>\n",
       "      <td>1.127928e+05</td>\n",
       "    </tr>\n",
       "    <tr>\n",
       "      <th>1</th>\n",
       "      <td>DZA</td>\n",
       "      <td>Algeria</td>\n",
       "      <td>2014</td>\n",
       "      <td>497452.875000</td>\n",
       "      <td>1.721824e+06</td>\n",
       "    </tr>\n",
       "    <tr>\n",
       "      <th>2</th>\n",
       "      <td>AGO</td>\n",
       "      <td>Angola</td>\n",
       "      <td>2014</td>\n",
       "      <td>205371.265625</td>\n",
       "      <td>7.960541e+05</td>\n",
       "    </tr>\n",
       "    <tr>\n",
       "      <th>3</th>\n",
       "      <td>AIA</td>\n",
       "      <td>Anguilla</td>\n",
       "      <td>2014</td>\n",
       "      <td>294.655243</td>\n",
       "      <td>3.296041e+03</td>\n",
       "    </tr>\n",
       "    <tr>\n",
       "      <th>4</th>\n",
       "      <td>ATG</td>\n",
       "      <td>Antigua and Barbuda</td>\n",
       "      <td>2014</td>\n",
       "      <td>1363.846924</td>\n",
       "      <td>1.177330e+04</td>\n",
       "    </tr>\n",
       "  </tbody>\n",
       "</table>\n",
       "</div>"
      ],
      "text/plain": [
       "  countrycode              country  year          cgdpo            ck\n",
       "0         ALB              Albania  2014   31419.962891  1.127928e+05\n",
       "1         DZA              Algeria  2014  497452.875000  1.721824e+06\n",
       "2         AGO               Angola  2014  205371.265625  7.960541e+05\n",
       "3         AIA             Anguilla  2014     294.655243  3.296041e+03\n",
       "4         ATG  Antigua and Barbuda  2014    1363.846924  1.177330e+04"
      ]
     },
     "execution_count": 88,
     "metadata": {},
     "output_type": "execute_result"
    }
   ],
   "source": [
    "clean_penn.head()"
   ]
  },
  {
   "cell_type": "code",
   "execution_count": 89,
   "metadata": {
    "collapsed": false
   },
   "outputs": [],
   "source": [
    "clean_penn[\"country\"] = clean_penn.country.replace(any_to_wb)"
   ]
  },
  {
   "cell_type": "code",
   "execution_count": 90,
   "metadata": {
    "collapsed": false
   },
   "outputs": [],
   "source": [
    "K_sids = clean_penn.set_index(\"country\").loc[list_of_sids,:]"
   ]
  },
  {
   "cell_type": "code",
   "execution_count": 141,
   "metadata": {
    "collapsed": false
   },
   "outputs": [],
   "source": [
    "GAR = pd.read_csv(\"inputs/GAR_capital.csv\")"
   ]
  },
  {
   "cell_type": "code",
   "execution_count": 142,
   "metadata": {
    "collapsed": true
   },
   "outputs": [],
   "source": [
    "GAR[\"country\"] = GAR.country.replace(any_to_wb)"
   ]
  },
  {
   "cell_type": "code",
   "execution_count": 143,
   "metadata": {
    "collapsed": false
   },
   "outputs": [],
   "source": [
    "gar_sids = GAR.set_index(\"country\").loc[list_of_sids,:].replace(0, np.nan).dropna()"
   ]
  },
  {
   "cell_type": "code",
   "execution_count": 144,
   "metadata": {
    "collapsed": false
   },
   "outputs": [],
   "source": [
    "all_K_sids = pd.concat([gar_sids,K_sids],axis=1)"
   ]
  },
  {
   "cell_type": "code",
   "execution_count": 145,
   "metadata": {
    "collapsed": false
   },
   "outputs": [],
   "source": [
    "all_K_sids = all_K_sids.loc[(all_K_sids != 0).any(axis=1),:]"
   ]
  },
  {
   "cell_type": "code",
   "execution_count": 146,
   "metadata": {
    "collapsed": false
   },
   "outputs": [
    {
     "data": {
      "text/plain": [
       "Index(['GDP', 'K', 'GFCF', 'countrycode', 'year', 'cgdpo', 'ck'], dtype='object')"
      ]
     },
     "execution_count": 146,
     "metadata": {},
     "output_type": "execute_result"
    }
   ],
   "source": [
    "all_K_sids.columns"
   ]
  },
  {
   "cell_type": "code",
   "execution_count": 147,
   "metadata": {
    "collapsed": false
   },
   "outputs": [],
   "source": [
    "all_K_sids[\"prod_k_1\"] = all_K_sids.GDP/all_K_sids.K\n",
    "all_K_sids[\"prod_k_2\"] = all_K_sids.cgdpo/all_K_sids.ck"
   ]
  },
  {
   "cell_type": "code",
   "execution_count": 151,
   "metadata": {
    "collapsed": false
   },
   "outputs": [
    {
     "data": {
      "text/plain": [
       "[<matplotlib.lines.Line2D at 0x2fa410e41d0>]"
      ]
     },
     "execution_count": 151,
     "metadata": {},
     "output_type": "execute_result"
    },
    {
     "data": {
      "image/png": "[encoded data removed]",
      "text/plain": [
       "<matplotlib.figure.Figure at 0x2fa410e4278>"
      ]
     },
     "metadata": {},
     "output_type": "display_data"
    }
   ],
   "source": [
    "plt.scatter(all_K_sids.prod_k_1,all_K_sids.prod_k_2)\n",
    "plt.plot([0,0.5],[0,0.5])"
   ]
  },
  {
   "cell_type": "code",
   "execution_count": 152,
   "metadata": {
    "collapsed": false
   },
   "outputs": [],
   "source": [
    "all_K_sids[\"avg_prod_k\"] = all_K_sids.prod_k_2\n",
    "all_K_sids.avg_prod_k = all_K_sids.avg_prod_k.fillna(all_K_sids.prod_k_1)"
   ]
  },
  {
   "cell_type": "code",
   "execution_count": 153,
   "metadata": {
    "collapsed": false
   },
   "outputs": [
    {
     "data": {
      "text/plain": [
       "American Samoa                         NaN\n",
       "Anguilla                          0.089397\n",
       "Antigua and Barbuda               0.115842\n",
       "Aruba                             0.114948\n",
       "Bahamas, The                      0.186616\n",
       "Bahrain                           0.231960\n",
       "Barbados                          0.178715\n",
       "Belize                            0.528741\n",
       "Bermuda                           0.186163\n",
       "Cape Verde                        0.219569\n",
       "Cayman Islands                    0.018669\n",
       "Comoros                           0.500564\n",
       "Cuba                              0.390089\n",
       "Dominica                          0.299555\n",
       "Dominican Republic                0.303405\n",
       "Fiji                              0.389214\n",
       "French Polynesia                       NaN\n",
       "Grenada                           0.191777\n",
       "Guinea-Bissau                     0.418666\n",
       "Guyana                            0.380848\n",
       "Haiti                             0.133367\n",
       "Jamaica                           0.147687\n",
       "Kiribati                          0.283950\n",
       "Maldives                          0.444161\n",
       "Marshall Islands                       NaN\n",
       "Mauritius                         0.269013\n",
       "Micronesia, Fed. Sts.                  NaN\n",
       "New Caledonia                     0.156743\n",
       "Palau                                  NaN\n",
       "Papua New Guinea                  0.325181\n",
       "Puerto Rico                       0.391830\n",
       "Sao Tome and Principe             0.155401\n",
       "Seychelles                        0.218548\n",
       "Singapore                         0.226313\n",
       "Solomon Islands                   0.296886\n",
       "St. Kitts and Nevis               0.145566\n",
       "St. Lucia                         0.237689\n",
       "St. Vincent and the Grenadines    0.133293\n",
       "Suriname                          0.200510\n",
       "Timor-Leste                       0.128952\n",
       "Tonga                             0.357836\n",
       "Trinidad and Tobago               0.214852\n",
       "Turks and Caicos Islands          0.036232\n",
       "Tuvalu                                 NaN\n",
       "Vanuatu                           0.297068\n",
       "Virgin Islands (U.S.)                  NaN\n",
       "Virgin Islands, British           0.291212\n",
       "Name: avg_prod_k, dtype: float64"
      ]
     },
     "execution_count": 153,
     "metadata": {},
     "output_type": "execute_result"
    }
   ],
   "source": [
    "all_K_sids.avg_prod_k"
   ]
  },
  {
   "cell_type": "code",
   "execution_count": 154,
   "metadata": {
    "collapsed": true
   },
   "outputs": [],
   "source": [
    "all_K_sids.avg_prod_k.dropna().to_csv(\"intermediate/avg_prod_k_sids.csv\")"
   ]
  },
  {
   "cell_type": "code",
   "execution_count": null,
   "metadata": {
    "collapsed": true
   },
   "outputs": [],
   "source": []
  }
 ],
 "metadata": {
  "kernelspec": {
   "display_name": "Python [conda root]",
   "language": "python",
   "name": "conda-root-py"
  },
  "language_info": {
   "codemirror_mode": {
    "name": "ipython",
    "version": 3
   },
   "file_extension": ".py",
   "mimetype": "text/x-python",
   "name": "python",
   "nbconvert_exporter": "python",
   "pygments_lexer": "ipython3",
   "version": "3.5.2"
  },
  "toc": {
   "colors": {
    "hover_highlight": "#DAA520",
    "navigate_num": "#000000",
    "navigate_text": "#333333",
    "running_highlight": "#FF0000",
    "selected_highlight": "#FFD700",
    "sidebar_border": "#EEEEEE",
    "wrapper_background": "#FFFFFF"
   },
   "moveMenuLeft": true,
   "nav_menu": {
    "height": "12px",
    "width": "252px"
   },
   "navigate_menu": true,
   "number_sections": true,
   "sideBar": true,
   "threshold": 4,
   "toc_cell": false,
   "toc_section_display": "block",
   "toc_window_display": false,
   "widenNotebook": false
  }
 },
 "nbformat": 4,
 "nbformat_minor": 2
}
