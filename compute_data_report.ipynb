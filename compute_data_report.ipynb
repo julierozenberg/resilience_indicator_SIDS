{
 "cells": [
  {
   "cell_type": "code",
   "execution_count": 9,
   "metadata": {
    "collapsed": false,
    "run_control": {
     "frozen": false,
     "read_only": false
    }
   },
   "outputs": [
    {
     "name": "stdout",
     "output_type": "stream",
     "text": [
      "The autoreload extension is already loaded. To reload it, use:\n",
      "  %reload_ext autoreload\n"
     ]
    }
   ],
   "source": [
    "%reset-f\n",
    "%load_ext autoreload\n",
    "%autoreload 2"
   ]
  },
  {
   "cell_type": "code",
   "execution_count": 10,
   "metadata": {
    "collapsed": false,
    "run_control": {
     "frozen": false,
     "read_only": false
    }
   },
   "outputs": [],
   "source": [
    "from res_ind_lib import *\n",
    "\n",
    "from sorted_nicely import *\n",
    "from replace_with_warning import *\n",
    "\n",
    "import os, time\n",
    "import warnings\n",
    "warnings.filterwarnings(\"always\",category=UserWarning)"
   ]
  },
  {
   "cell_type": "code",
   "execution_count": 11,
   "metadata": {
    "collapsed": true,
    "run_control": {
     "frozen": false,
     "read_only": false
    }
   },
   "outputs": [],
   "source": [
    "import numpy as np\n",
    "import pandas as pd\n",
    "\n",
    "#Pandas display options\n",
    "# pd.set_option('display.max_colwidth', 200)\n",
    "# pd.set_option('display.width', 200)\n",
    "# pd.set_option('display.precision', 10)\n",
    "# pd.set_option('display.max_rows', 500)\n",
    "\n",
    "#import matplotlib.pylab as plt\n",
    "import matplotlib.pyplot as plt\n",
    "%matplotlib inline\n",
    "font = {'family' : 'serif',\n",
    "    'weight' : 'normal',\n",
    "    'size'   : 15}\n",
    "plt.rc('font', **font)\n",
    "\n",
    "from fancy_plots import *"
   ]
  },
  {
   "cell_type": "code",
   "execution_count": 12,
   "metadata": {
    "collapsed": true,
    "run_control": {
     "frozen": false,
     "read_only": false
    }
   },
   "outputs": [],
   "source": [
    "economy = \"country\" #province, deparmtent\n",
    "event_level = [economy, \"hazard\", \"rp\"]"
   ]
  },
  {
   "cell_type": "markdown",
   "metadata": {},
   "source": [
    "# Reading data "
   ]
  },
  {
   "cell_type": "code",
   "execution_count": 17,
   "metadata": {
    "collapsed": false,
    "run_control": {
     "frozen": false,
     "read_only": false
    }
   },
   "outputs": [
    {
     "data": {
      "text/html": [
       "<div>\n",
       "<table border=\"1\" class=\"dataframe\">\n",
       "  <thead>\n",
       "    <tr style=\"text-align: right;\">\n",
       "      <th></th>\n",
       "      <th>gdp_pc_pp</th>\n",
       "      <th>pop</th>\n",
       "      <th>urbanization_rate</th>\n",
       "      <th>prepare_scaleup</th>\n",
       "      <th>borrow_abi</th>\n",
       "      <th>avg_prod_k</th>\n",
       "      <th>T_rebuild_K</th>\n",
       "      <th>pi</th>\n",
       "      <th>income_elast</th>\n",
       "      <th>rho</th>\n",
       "      <th>shareable</th>\n",
       "      <th>max_increased_spending</th>\n",
       "      <th>protection</th>\n",
       "      <th>tau_tax</th>\n",
       "    </tr>\n",
       "    <tr>\n",
       "      <th>country</th>\n",
       "      <th></th>\n",
       "      <th></th>\n",
       "      <th></th>\n",
       "      <th></th>\n",
       "      <th></th>\n",
       "      <th></th>\n",
       "      <th></th>\n",
       "      <th></th>\n",
       "      <th></th>\n",
       "      <th></th>\n",
       "      <th></th>\n",
       "      <th></th>\n",
       "      <th></th>\n",
       "      <th></th>\n",
       "    </tr>\n",
       "  </thead>\n",
       "  <tbody>\n",
       "    <tr>\n",
       "      <th>Niger</th>\n",
       "      <td>897.395321</td>\n",
       "      <td>19899120.0</td>\n",
       "      <td>0.18732</td>\n",
       "      <td>0.666667</td>\n",
       "      <td>0.333333</td>\n",
       "      <td>0.233592</td>\n",
       "      <td>3</td>\n",
       "      <td>0.2</td>\n",
       "      <td>1.5</td>\n",
       "      <td>0.06</td>\n",
       "      <td>0.8</td>\n",
       "      <td>0.05</td>\n",
       "      <td>20.0</td>\n",
       "      <td>0.061743</td>\n",
       "    </tr>\n",
       "    <tr>\n",
       "      <th>Slovak Republic</th>\n",
       "      <td>28254.255793</td>\n",
       "      <td>5423801.0</td>\n",
       "      <td>0.53598</td>\n",
       "      <td>0.733333</td>\n",
       "      <td>0.625000</td>\n",
       "      <td>0.305902</td>\n",
       "      <td>3</td>\n",
       "      <td>0.2</td>\n",
       "      <td>1.5</td>\n",
       "      <td>0.06</td>\n",
       "      <td>0.8</td>\n",
       "      <td>0.05</td>\n",
       "      <td>20.0</td>\n",
       "      <td>0.392993</td>\n",
       "    </tr>\n",
       "  </tbody>\n",
       "</table>\n",
       "</div>"
      ],
      "text/plain": [
       "                    gdp_pc_pp         pop  urbanization_rate  prepare_scaleup  \\\n",
       "country                                                                         \n",
       "Niger              897.395321  19899120.0            0.18732         0.666667   \n",
       "Slovak Republic  28254.255793   5423801.0            0.53598         0.733333   \n",
       "\n",
       "                 borrow_abi  avg_prod_k  T_rebuild_K   pi  income_elast   rho  \\\n",
       "country                                                                         \n",
       "Niger              0.333333    0.233592            3  0.2           1.5  0.06   \n",
       "Slovak Republic    0.625000    0.305902            3  0.2           1.5  0.06   \n",
       "\n",
       "                 shareable  max_increased_spending  protection   tau_tax  \n",
       "country                                                                   \n",
       "Niger                  0.8                    0.05        20.0  0.061743  \n",
       "Slovak Republic        0.8                    0.05        20.0  0.392993  "
      ]
     },
     "execution_count": 17,
     "metadata": {},
     "output_type": "execute_result"
    }
   ],
   "source": [
    "macro = pd.read_csv(\"intermediate/macro.csv\", index_col=economy).dropna()\n",
    "macro.sample(n=2)"
   ]
  },
  {
   "cell_type": "code",
   "execution_count": 18,
   "metadata": {
    "collapsed": false,
    "run_control": {
     "frozen": false,
     "read_only": false
    }
   },
   "outputs": [
    {
     "data": {
      "text/html": [
       "<div>\n",
       "<table border=\"1\" class=\"dataframe\">\n",
       "  <thead>\n",
       "    <tr style=\"text-align: right;\">\n",
       "      <th></th>\n",
       "      <th></th>\n",
       "      <th>n</th>\n",
       "      <th>c</th>\n",
       "      <th>axfin</th>\n",
       "      <th>gamma_SP</th>\n",
       "      <th>k</th>\n",
       "      <th>fa</th>\n",
       "      <th>v</th>\n",
       "      <th>shew</th>\n",
       "    </tr>\n",
       "    <tr>\n",
       "      <th>country</th>\n",
       "      <th>income_cat</th>\n",
       "      <th></th>\n",
       "      <th></th>\n",
       "      <th></th>\n",
       "      <th></th>\n",
       "      <th></th>\n",
       "      <th></th>\n",
       "      <th></th>\n",
       "      <th></th>\n",
       "    </tr>\n",
       "  </thead>\n",
       "  <tbody>\n",
       "    <tr>\n",
       "      <th>Iran, Islamic Rep.</th>\n",
       "      <th>poor</th>\n",
       "      <td>0.2</td>\n",
       "      <td>5620.641756</td>\n",
       "      <td>0.151668</td>\n",
       "      <td>0.672016</td>\n",
       "      <td>14898.408431</td>\n",
       "      <td>0.018325</td>\n",
       "      <td>0.7</td>\n",
       "      <td>0.32</td>\n",
       "    </tr>\n",
       "    <tr>\n",
       "      <th>Zambia</th>\n",
       "      <th>poor</th>\n",
       "      <td>0.2</td>\n",
       "      <td>686.243247</td>\n",
       "      <td>0.055189</td>\n",
       "      <td>0.309271</td>\n",
       "      <td>1513.387110</td>\n",
       "      <td>0.015701</td>\n",
       "      <td>0.7</td>\n",
       "      <td>0.64</td>\n",
       "    </tr>\n",
       "  </tbody>\n",
       "</table>\n",
       "</div>"
      ],
      "text/plain": [
       "                                 n            c     axfin  gamma_SP  \\\n",
       "country            income_cat                                         \n",
       "Iran, Islamic Rep. poor        0.2  5620.641756  0.151668  0.672016   \n",
       "Zambia             poor        0.2   686.243247  0.055189  0.309271   \n",
       "\n",
       "                                          k        fa    v  shew  \n",
       "country            income_cat                                     \n",
       "Iran, Islamic Rep. poor        14898.408431  0.018325  0.7  0.32  \n",
       "Zambia             poor         1513.387110  0.015701  0.7  0.64  "
      ]
     },
     "execution_count": 18,
     "metadata": {},
     "output_type": "execute_result"
    }
   ],
   "source": [
    "cat_info = pd.read_csv(\"intermediate/cat_info.csv\",  index_col=[economy, \"income_cat\"]).dropna()\n",
    "cat_info.sample(n=2)"
   ]
  },
  {
   "cell_type": "code",
   "execution_count": 19,
   "metadata": {
    "collapsed": false,
    "run_control": {
     "frozen": false,
     "read_only": false
    }
   },
   "outputs": [
    {
     "data": {
      "text/html": [
       "<div>\n",
       "<table border=\"1\" class=\"dataframe\">\n",
       "  <thead>\n",
       "    <tr style=\"text-align: right;\">\n",
       "      <th></th>\n",
       "      <th></th>\n",
       "      <th></th>\n",
       "      <th></th>\n",
       "      <th>fa</th>\n",
       "      <th>shew</th>\n",
       "    </tr>\n",
       "    <tr>\n",
       "      <th>country</th>\n",
       "      <th>hazard</th>\n",
       "      <th>rp</th>\n",
       "      <th>income_cat</th>\n",
       "      <th></th>\n",
       "      <th></th>\n",
       "    </tr>\n",
       "  </thead>\n",
       "  <tbody>\n",
       "    <tr>\n",
       "      <th>Niger</th>\n",
       "      <th>wind</th>\n",
       "      <th>1500.0</th>\n",
       "      <th>nonpoor</th>\n",
       "      <td>0.000000</td>\n",
       "      <td>0.6</td>\n",
       "    </tr>\n",
       "    <tr>\n",
       "      <th>Estonia</th>\n",
       "      <th>earthquake</th>\n",
       "      <th>250.0</th>\n",
       "      <th>poor</th>\n",
       "      <td>0.004149</td>\n",
       "      <td>0.0</td>\n",
       "    </tr>\n",
       "  </tbody>\n",
       "</table>\n",
       "</div>"
      ],
      "text/plain": [
       "                                            fa  shew\n",
       "country hazard     rp     income_cat                \n",
       "Niger   wind       1500.0 nonpoor     0.000000   0.6\n",
       "Estonia earthquake 250.0  poor        0.004149   0.0"
      ]
     },
     "execution_count": 19,
     "metadata": {},
     "output_type": "execute_result"
    }
   ],
   "source": [
    "hazard_ratios = pd.read_csv(\"intermediate/hazard_ratios.csv\", index_col=event_level+[\"income_cat\"]).dropna()\n",
    "hazard_ratios.sample(n=2)"
   ]
  },
  {
   "cell_type": "markdown",
   "metadata": {},
   "source": [
    "# Computes and saves national resilience"
   ]
  },
  {
   "cell_type": "code",
   "execution_count": 20,
   "metadata": {
    "collapsed": false,
    "run_control": {
     "frozen": false,
     "read_only": false
    }
   },
   "outputs": [
    {
     "name": "stdout",
     "output_type": "stream",
     "text": [
      "stats are axfin,c,dc,dc_npv_post,dc_npv_pre,dk,dw,fa,gamma_SP,help_fee,help_received,k,n,shew,social,v,v_shew\n",
      "nb countries with macro data :126\n",
      "nb countries with cat data :125\n",
      "nb countries with hazard data :262\n",
      "nb countries with results :124\n",
      "Resilience averages 63% across our sample, ranging from 6% to 81%\n",
      "Risk to welfare averages 0.267% across our sample, ranging from 0.000% (Norway) to 2.138% (Bhutan)\n",
      "Risk to assets averages 0.164% across our sample, ranging from 0.001% (Zimbabwe) to 1.519% (Bhutan)\n",
      "At the global scale, we estimate asset losses due to natural disasters to be 109 bn$ per year. But due to lack of socio economic capacity, welfare losses are 1.6 times bigger, at 173 bn$ per year\n"
     ]
    },
    {
     "data": {
      "text/html": [
       "<div>\n",
       "<table border=\"1\" class=\"dataframe\">\n",
       "  <thead>\n",
       "    <tr style=\"text-align: right;\">\n",
       "      <th></th>\n",
       "      <th>protection</th>\n",
       "      <th>risk</th>\n",
       "      <th>v</th>\n",
       "      <th>fa</th>\n",
       "      <th>resilience</th>\n",
       "    </tr>\n",
       "    <tr>\n",
       "      <th>country</th>\n",
       "      <th></th>\n",
       "      <th></th>\n",
       "      <th></th>\n",
       "      <th></th>\n",
       "      <th></th>\n",
       "    </tr>\n",
       "  </thead>\n",
       "  <tbody>\n",
       "    <tr>\n",
       "      <th>Denmark</th>\n",
       "      <td>20.0</td>\n",
       "      <td>0.000042</td>\n",
       "      <td>1.300000</td>\n",
       "      <td>0.000751</td>\n",
       "      <td>0.802349</td>\n",
       "    </tr>\n",
       "    <tr>\n",
       "      <th>Netherlands</th>\n",
       "      <td>20.0</td>\n",
       "      <td>0.000732</td>\n",
       "      <td>1.339029</td>\n",
       "      <td>0.013140</td>\n",
       "      <td>0.784797</td>\n",
       "    </tr>\n",
       "    <tr>\n",
       "      <th>Malawi</th>\n",
       "      <td>20.0</td>\n",
       "      <td>0.009044</td>\n",
       "      <td>2.469789</td>\n",
       "      <td>0.068994</td>\n",
       "      <td>0.593718</td>\n",
       "    </tr>\n",
       "    <tr>\n",
       "      <th>Bangladesh</th>\n",
       "      <td>20.0</td>\n",
       "      <td>0.015398</td>\n",
       "      <td>2.362141</td>\n",
       "      <td>0.156590</td>\n",
       "      <td>0.660293</td>\n",
       "    </tr>\n",
       "    <tr>\n",
       "      <th>Jamaica</th>\n",
       "      <td>20.0</td>\n",
       "      <td>0.015708</td>\n",
       "      <td>2.265503</td>\n",
       "      <td>0.193342</td>\n",
       "      <td>0.560282</td>\n",
       "    </tr>\n",
       "    <tr>\n",
       "      <th>Congo, Dem. Rep.</th>\n",
       "      <td>20.0</td>\n",
       "      <td>0.009832</td>\n",
       "      <td>3.100000</td>\n",
       "      <td>0.048437</td>\n",
       "      <td>0.519640</td>\n",
       "    </tr>\n",
       "    <tr>\n",
       "      <th>Finland</th>\n",
       "      <td>NaN</td>\n",
       "      <td>NaN</td>\n",
       "      <td>NaN</td>\n",
       "      <td>NaN</td>\n",
       "      <td>NaN</td>\n",
       "    </tr>\n",
       "  </tbody>\n",
       "</table>\n",
       "</div>"
      ],
      "text/plain": [
       "                  protection      risk         v        fa  resilience\n",
       "country                                                               \n",
       "Denmark                 20.0  0.000042  1.300000  0.000751    0.802349\n",
       "Netherlands             20.0  0.000732  1.339029  0.013140    0.784797\n",
       "Malawi                  20.0  0.009044  2.469789  0.068994    0.593718\n",
       "Bangladesh              20.0  0.015398  2.362141  0.156590    0.660293\n",
       "Jamaica                 20.0  0.015708  2.265503  0.193342    0.560282\n",
       "Congo, Dem. Rep.        20.0  0.009832  3.100000  0.048437    0.519640\n",
       "Finland                  NaN       NaN       NaN       NaN         NaN"
      ]
     },
     "execution_count": 20,
     "metadata": {},
     "output_type": "execute_result"
    }
   ],
   "source": [
    "#args = dict(hazard_ratios = hazard_ratios.unstack(\"hazard\").swaplevel(0,1,axis=\"columns\").flood, return_stats=True)\n",
    "args = dict(hazard_ratios = hazard_ratios, return_stats=True)  # for final\n",
    "#args = dict(hazard_ratios = None, return_stats=True)  \n",
    "# args = dict(return_stats=True)  # for test\n",
    "#args = dict()\n",
    "\n",
    "results=compute_resilience(macro,cat_info,optionPDS=\"unif_poor\", optionT=\"data\",**args)\n",
    "\n",
    "\n",
    "print(\"nb countries with macro data :\" +str(macro.shape[0]))\n",
    "print(\"nb countries with cat data :\"   +str(cat_info.unstack().dropna().shape[0]))\n",
    "print(\"nb countries with hazard data :\"+str(hazard_ratios.unstack([\"rp\",\"hazard\"]).dropna().shape[0]))\n",
    "\n",
    "nb_countries_all_results = results[\"resilience\"].dropna().shape[0]\n",
    "print(\"nb countries with results :\"+str(nb_countries_all_results))\n",
    "results.to_csv(\"results/results.csv\",float_format=\"%.5f\")\n",
    "\n",
    "#av_res = ((results[\"resilience\"]*macro[\"pop\"]).sum())/macro[\"pop\"].sum()\n",
    "av_res = results.dKtot.sum()/results.dWtot_currency.sum()\n",
    "av_risk_asset = ((results[\"risk_to_assets\"]*macro[\"pop\"]).sum())/macro[\"pop\"].sum()\n",
    "av_risk_welfare = ((results[\"risk\"]*macro[\"pop\"]).sum())/macro[\"pop\"].sum()\n",
    "\n",
    "#Some stats\n",
    "a=results.resilience;\n",
    "print(\"Resilience averages {mean:.0%} across our sample, ranging from {min:.0%} to {max:.0%}\".format(\n",
    "        min=a.min(),mean=av_res,max=a.max()))\n",
    "\n",
    "a=results.risk\n",
    "print(\"Risk to welfare averages {mean:.03%} across our sample, ranging from {min:.03%} ({m}) to {max:.03%} ({M})\".format(\n",
    "    min=a.min(),mean=av_risk_welfare,max=a.max(),m=a.argmin(),M=a.argmax()))\n",
    "\n",
    "\n",
    "a=results.risk_to_assets\n",
    "print(\"Risk to assets averages {mean:.03%} across our sample, ranging from {min:.03%} ({m}) to {max:.03%} ({M})\".format(\n",
    "    min=a.min(),mean=av_risk_asset,max=a.max(),m=a.argmin(),M=a.argmax()))\n",
    "\n",
    "print(\"At the global scale, we estimate asset losses due to natural disasters to be {k:.0f} bn$ per year. But due to lack of socio economic capacity, welfare losses are {r:.1f} times bigger, at {w:.0f} bn$ per year\".format( \n",
    "w= results.dWtot_currency.sum()*1e-9,\n",
    "k= results.dKtot.sum()*1e-9,\n",
    "r=results.dWtot_currency.sum()/results.dKtot.sum()))\n",
    "\n",
    "results.ix[[\"Denmark\", \"Netherlands\",\"Malawi\", \"Bangladesh\", \"Jamaica\", \"Congo, Dem. Rep.\", \"Finland\"],[\"protection\", \"risk\", \"v\",\"fa\",\"resilience\"]]"
   ]
  },
  {
   "cell_type": "code",
   "execution_count": 9,
   "metadata": {
    "collapsed": false,
    "run_control": {
     "frozen": false,
     "read_only": false
    }
   },
   "outputs": [
    {
     "data": {
      "text/html": [
       "<div>\n",
       "<table border=\"1\" class=\"dataframe\">\n",
       "  <thead>\n",
       "    <tr style=\"text-align: right;\">\n",
       "      <th></th>\n",
       "      <th>gdp_pc_pp</th>\n",
       "      <th>risk_to_assets</th>\n",
       "      <th>resilience</th>\n",
       "      <th>risk</th>\n",
       "    </tr>\n",
       "  </thead>\n",
       "  <tbody>\n",
       "    <tr>\n",
       "      <th>gdp_pc_pp</th>\n",
       "      <td>1.000000</td>\n",
       "      <td>-0.287111</td>\n",
       "      <td>0.479294</td>\n",
       "      <td>-0.312895</td>\n",
       "    </tr>\n",
       "    <tr>\n",
       "      <th>risk_to_assets</th>\n",
       "      <td>-0.287111</td>\n",
       "      <td>1.000000</td>\n",
       "      <td>0.000397</td>\n",
       "      <td>0.965500</td>\n",
       "    </tr>\n",
       "    <tr>\n",
       "      <th>resilience</th>\n",
       "      <td>0.479294</td>\n",
       "      <td>0.000397</td>\n",
       "      <td>1.000000</td>\n",
       "      <td>-0.172281</td>\n",
       "    </tr>\n",
       "    <tr>\n",
       "      <th>risk</th>\n",
       "      <td>-0.312895</td>\n",
       "      <td>0.965500</td>\n",
       "      <td>-0.172281</td>\n",
       "      <td>1.000000</td>\n",
       "    </tr>\n",
       "  </tbody>\n",
       "</table>\n",
       "</div>"
      ],
      "text/plain": [
       "                gdp_pc_pp  risk_to_assets  resilience      risk\n",
       "gdp_pc_pp        1.000000       -0.287111    0.479294 -0.312895\n",
       "risk_to_assets  -0.287111        1.000000    0.000397  0.965500\n",
       "resilience       0.479294        0.000397    1.000000 -0.172281\n",
       "risk            -0.312895        0.965500   -0.172281  1.000000"
      ]
     },
     "execution_count": 9,
     "metadata": {},
     "output_type": "execute_result"
    }
   ],
   "source": [
    "cormat = results[[\"gdp_pc_pp\",\"risk_to_assets\",\"resilience\",\"risk\"]]\n",
    "cormat.corr()"
   ]
  },
  {
   "cell_type": "code",
   "execution_count": null,
   "metadata": {
    "collapsed": true,
    "run_control": {
     "frozen": false,
     "read_only": false
    }
   },
   "outputs": [],
   "source": []
  },
  {
   "cell_type": "markdown",
   "metadata": {},
   "source": [
    "# Macro mulitplier"
   ]
  },
  {
   "cell_type": "code",
   "execution_count": 22,
   "metadata": {
    "collapsed": false,
    "run_control": {
     "frozen": false,
     "read_only": false
    }
   },
   "outputs": [
    {
     "name": "stderr",
     "output_type": "stream",
     "text": [
      "C:\\Anaconda3\\lib\\site-packages\\ipykernel\\__main__.py:4: RuntimeWarning: divide by zero encountered in true_divide\n",
      "C:\\Anaconda3\\lib\\site-packages\\ipykernel\\__main__.py:11: RuntimeWarning: invalid value encountered in true_divide\n"
     ]
    },
    {
     "data": {
      "image/png": "[encoded data removed]",
      "text/plain": [
       "<matplotlib.figure.Figure at 0x15e5233f128>"
      ]
     },
     "metadata": {},
     "output_type": "display_data"
    }
   ],
   "source": [
    "t= np.linspace(0,20,200)\n",
    "\n",
    "three = np.log(1/0.05) \n",
    "recons_rate = three/ t\n",
    "\n",
    "plt.figure(figsize=(7,7))\n",
    "\n",
    "for mu in [.25]: \n",
    "    r=6/100\n",
    "\n",
    "    g= (mu+recons_rate)/(r+recons_rate)\n",
    "\n",
    "    plt.plot(t,g)\n",
    "\n",
    "# l=plt.legend([\"30%\",\"20%\",\"15%\"],prop=font,title=\"Average \\nproductivity \\nof capital\", loc=2, frameon=False)    \n",
    "# plt.setp(l.get_title(), multialignment='center')    \n",
    "\n",
    "\n",
    "plt.xlabel(\"Reconstruction duration (years)\")\n",
    "plt.ylabel(\"Scaling factor (${\\Delta C}/{\\Delta K}$)\")\n",
    "\n",
    "\n",
    "spine_and_ticks(plt.gca())\n",
    "\n",
    "plt.savefig(\"img/macro_resilience.png\")\n",
    "\n",
    "plt.ylabel(\"Scaling factor (${\\\\tilde{\\Delta C}}/{\\Delta K}$)\")\n",
    "plt.savefig(\"img/macro_resilience_tilde.png\")\n"
   ]
  },
  {
   "cell_type": "markdown",
   "metadata": {},
   "source": [
    "# Exploring post-disaster support"
   ]
  },
  {
   "cell_type": "markdown",
   "metadata": {
    "collapsed": true,
    "run_control": {
     "frozen": false,
     "read_only": false
    }
   },
   "source": [
    "## Resilience gain thanks to current post-disaster support"
   ]
  },
  {
   "cell_type": "code",
   "execution_count": 11,
   "metadata": {
    "collapsed": false,
    "run_control": {
     "frozen": false,
     "read_only": false
    }
   },
   "outputs": [
    {
     "name": "stdout",
     "output_type": "stream",
     "text": [
      "stats are axfin,c,dc,dc_npv_post,dc_npv_pre,dk,dw,fa,gamma_SP,help_fee,help_received,k,n,shew,social,v,v_shew\n",
      "stats are axfin,c,dc,dc_npv_post,dc_npv_pre,dk,dw,fa,gamma_SP,help_fee,help_received,k,n,shew,social,v,v_shew\n",
      "Average (population weights) ( unif_poor ) 1.2872128810181005\n",
      "Average (no weights) ( unif_poor ) 0.8459535434772937\n",
      "Country where post-disaster support reduces resilience\n",
      "Series([], Name: diff, dtype: float64)\n",
      "Benefits\n",
      "11.755782283693055\n",
      "No PDS\n",
      "At the global scale, we estimate asset losses due to natural disasters to be 327 bn$ per year. But due to lack of socio economic capacity, welfare losses are 1.6 times bigger, at 529 bn$ per year\n",
      "PDS cost: 0.0\n",
      "resilience: 0.61894161799855\n",
      "With PDS\n",
      "PDS cost: 11.049155337233886\n",
      "At the global scale, we estimate asset losses due to natural disasters to be 327 bn$ per year. But due to lack of socio economic capacity, welfare losses are 1.6 times bigger, at 517 bn$ per year\n",
      "resilience: 0.6330070746372456\n",
      "resilience gain: 0.014065456638695628\n"
     ]
    },
    {
     "data": {
      "image/png": "[encoded data removed]",
      "text/plain": [
       "<matplotlib.figure.Figure at 0x952b438>"
      ]
     },
     "metadata": {},
     "output_type": "display_data"
    }
   ],
   "source": [
    "couleur = (\"blue\",\"red\",\"green\",\"yellow\",\"purple\")\n",
    "coul = \"blue\"\n",
    "option = \"unif_poor\"\n",
    "ref = compute_resilience(macro,cat_info,optionPDS=\"no\",**args)\n",
    "plt.figure(figsize=(7,7))\n",
    "#for option,coul in zip(listePDS,couleur):\n",
    "#    print(option\n",
    "dfr = compute_resilience(macro,cat_info,optionPDS=option,optionT=\"data\",optionB=\"data\",**args)\n",
    "diff = 100*(dfr.resilience-ref.resilience)\n",
    "plt.scatter(results.gdp_pc_pp,diff,color=coul,alpha=.7,s=50, clip_on=False)\n",
    "\n",
    "\n",
    "#plt.legend(listePDS)\n",
    "plt.xlabel(\"GDP per capita (US$)\")\n",
    "plt.ylabel(\"Resilience gain from postdisaster support (%)\")\n",
    "#plt.legend([\"Uniform support\", \"Support proportional to losses\"])\n",
    "plt.xlim(xmin=0)\n",
    "plt.ylim(0)\n",
    "\n",
    "\n",
    "spine_and_ticks(plt.gca())\n",
    "x_thousands_sep()\n",
    "\n",
    "savefig(\"img/resilience_gain_post-disaster_support.png\")\n",
    "\n",
    "\n",
    "print('Average (population weights) (',option,')',((diff*dfr[\"pop\"]).sum())/dfr[\"pop\"].sum())\n",
    "print('Average (no weights) (',option,')',((diff.mean())))\n",
    "print('Country where post-disaster support reduces resilience')\n",
    "results[\"diff\"]=diff\n",
    "print(results.query(\"diff<0\")[\"diff\"])\n",
    "print('Benefits')\n",
    "print((ref.dWtot_currency.sum()-dfr.dWtot_currency.sum())/1e9)\n",
    "print('No PDS')\n",
    "a=results.resilience;\n",
    "print(\"At the global scale, we estimate asset losses due to natural disasters to be {k:.0f} bn$ per year. But due to lack of socio economic capacity, welfare losses are {r:.1f} times bigger, at {w:.0f} bn$ per year\".format( \n",
    "w= ref.dWtot_currency.sum()*1e-9,\n",
    "k= ref.dKtot.sum()*1e-9,\n",
    "r=ref.dWtot_currency.sum()/results.dKtot.sum()))\n",
    "print('PDS cost:',((ref[\"average_aid_cost_pc\"]*dfr[\"pop\"]).sum()/1e9))\n",
    "print('resilience:',ref.dKtot.sum()/ref.dWtot_currency.sum())\n",
    "print('With PDS')\n",
    "print('PDS cost:',((dfr[\"average_aid_cost_pc\"]*dfr[\"pop\"]).sum()/1e9))\n",
    "print(\"At the global scale, we estimate asset losses due to natural disasters to be {k:.0f} bn$ per year. But due to lack of socio economic capacity, welfare losses are {r:.1f} times bigger, at {w:.0f} bn$ per year\".format( \n",
    "w= dfr.dWtot_currency.sum()*1e-9,\n",
    "k= dfr.dKtot.sum()*1e-9,\n",
    "r=dfr.dWtot_currency.sum()/results.dKtot.sum()))\n",
    "print('resilience:',dfr.dKtot.sum()/dfr.dWtot_currency.sum())\n",
    "print('resilience gain:',dfr.dKtot.sum()/dfr.dWtot_currency.sum()-ref.dKtot.sum()/ref.dWtot_currency.sum())\n"
   ]
  },
  {
   "cell_type": "markdown",
   "metadata": {},
   "source": [
    "### Why is post-disaster support unable to increase resilience in some countries?"
   ]
  },
  {
   "cell_type": "code",
   "execution_count": 12,
   "metadata": {
    "collapsed": false,
    "run_control": {
     "frozen": false,
     "read_only": false
    }
   },
   "outputs": [
    {
     "data": {
      "text/plain": [
       "(0, 1)"
      ]
     },
     "execution_count": 12,
     "metadata": {},
     "output_type": "execute_result"
    },
    {
     "data": {
      "image/png": "[encoded data removed]",
      "text/plain": [
       "<matplotlib.figure.Figure at 0xb69aa58>"
      ]
     },
     "metadata": {},
     "output_type": "display_data"
    }
   ],
   "source": [
    "plt.figure(figsize=(8,8))\n",
    "ax = plt.gca();\n",
    "#dfr[\"diff\"]=(diff>1)*1 + (diff<=0)*0\n",
    "dfr[\"diff\"]=diff\n",
    "dfr.plot.scatter(x=\"borrow_abi\",y=\"prepare_scaleup\",c=\"diff\",s = 100 ,ax=ax)\n",
    "plt.xlabel(\"Capacity to allocate financial resources\")\n",
    "plt.ylabel(\"Preparation for emergencies & Adaptive social protection\")\n",
    "plt.xlim(xmin=0,xmax=1)\n",
    "plt.ylim(ymin=0,ymax=1)\n",
    "#plt.legend('Increase in resilience')"
   ]
  },
  {
   "cell_type": "markdown",
   "metadata": {},
   "source": [
    "## fixing that wth the PDS package"
   ]
  },
  {
   "cell_type": "code",
   "execution_count": 13,
   "metadata": {
    "collapsed": false,
    "run_control": {
     "frozen": false,
     "read_only": false
    }
   },
   "outputs": [],
   "source": [
    "from apply_policy import apply_policy"
   ]
  },
  {
   "cell_type": "code",
   "execution_count": 14,
   "metadata": {
    "collapsed": false,
    "run_control": {
     "frozen": false,
     "read_only": false
    }
   },
   "outputs": [
    {
     "name": "stdout",
     "output_type": "stream",
     "text": [
      "stats are axfin,c,dc,dc_npv_post,dc_npv_pre,dk,dw,fa,gamma_SP,help_fee,help_received,k,n,shew,social,v,v_shew\n",
      "Develop contingent finance and reserve funds\n",
      "Make social protection scalable after a shock\n",
      "Postdisaster support package\n",
      "stats are axfin,c,dc,dc_npv_post,dc_npv_pre,dk,dw,fa,gamma_SP,help_fee,help_received,k,n,shew,social,v,v_shew\n",
      "Average (population weights) ( unif_poor ) 1.3717549579929207\n",
      "Average (no weights) ( unif_poor ) 1.95525243072577\n",
      "Country where post-disaster support reduces resilience\n",
      "Series([], Name: diff, dtype: float64)\n",
      "Benefits\n",
      "12.550952127061585\n",
      "No PDS\n",
      "At the global scale, we estimate asset losses due to natural disasters to be 327 bn$ per year. But due to lack of socio economic capacity, welfare losses are 1.6 times bigger, at 517 bn$ per year\n",
      "PDS cost: 11.049155337233886\n",
      "resilience: 0.6330070746372456\n",
      "With PDS\n",
      "PDS cost: 23.007982886516807\n",
      "At the global scale, we estimate asset losses due to natural disasters to be 327 bn$ per year. But due to lack of socio economic capacity, welfare losses are 1.5 times bigger, at 505 bn$ per year\n",
      "resilience GLOBALLY: 0.6487470736530412\n",
      "resilience gain GLOBALLY: 0.01573999901579559\n"
     ]
    },
    {
     "data": {
      "text/plain": [
       "country\n",
       "Angola                      9.731354\n",
       "Congo, Dem. Rep.            5.990810\n",
       "Benin                       5.656408\n",
       "Gabon                       4.763448\n",
       "Central African Republic    4.338968\n",
       "Lesotho                     3.847832\n",
       "Nepal                       3.775456\n",
       "Name: resilience, dtype: float64"
      ]
     },
     "execution_count": 14,
     "metadata": {},
     "output_type": "execute_result"
    },
    {
     "data": {
      "image/png": "[encoded data removed]",
      "text/plain": [
       "<matplotlib.figure.Figure at 0xb418eb8>"
      ]
     },
     "metadata": {},
     "output_type": "display_data"
    }
   ],
   "source": [
    "couleur = (\"blue\",\"red\",\"green\",\"yellow\",\"purple\")\n",
    "coul = \"blue\"\n",
    "option = \"unif_poor\"\n",
    "ref = compute_resilience(macro,cat_info,**args)\n",
    "plt.figure(figsize=(7,7))\n",
    "#for option,coul in zip(listePDS,couleur):\n",
    "#    print(option\n",
    "\n",
    "m,c,h,a,desc = apply_policy(macro,cat_info,macro*0, args, policy_name=\"PDSpackage\", verbose=True)\n",
    "\n",
    "dfr = compute_resilience(m,c,optionPDS=option,optionT=\"data\",optionB=\"data\",**a)\n",
    "diff = 100*(dfr.resilience-ref.resilience)\n",
    "plt.scatter(results.gdp_pc_pp,diff,color=coul,alpha=.7,s=50)\n",
    "#plt.legend(listePDS)\n",
    "plt.xlabel(\"GDP per capita (US$)\")\n",
    "plt.ylabel(\"Resilience gain from postdisaster support (%)\")\n",
    "#plt.legend([\"Uniform support\", \"Support proportional to losses\"])\n",
    "plt.xlim(xmin=0)\n",
    "plt.ylim(ymin=-.1)\n",
    "\n",
    "\n",
    "spine_and_ticks(plt.gca())\n",
    "x_thousands_sep()\n",
    "\n",
    "savefig(\"img/resilience_gain_post-disaster_support_PDS_package.png\")\n",
    "\n",
    "\n",
    "print('Average (population weights) (',option,')',((diff*dfr[\"pop\"]).sum())/dfr[\"pop\"].sum())\n",
    "print('Average (no weights) (',option,')',((diff.mean())))\n",
    "print('Country where post-disaster support reduces resilience')\n",
    "results[\"diff\"]=diff\n",
    "print(results.query(\"diff<0\")[\"diff\"])\n",
    "print('Benefits')\n",
    "print((ref.dWtot_currency.sum()-dfr.dWtot_currency.sum())/1e9)\n",
    "print('No PDS')\n",
    "a=results.resilience;\n",
    "print(\"At the global scale, we estimate asset losses due to natural disasters to be {k:.0f} bn$ per year. But due to lack of socio economic capacity, welfare losses are {r:.1f} times bigger, at {w:.0f} bn$ per year\".format( \n",
    "w= ref.dWtot_currency.sum()*1e-9,\n",
    "k= ref.dKtot.sum()*1e-9,\n",
    "r=ref.dWtot_currency.sum()/results.dKtot.sum()))\n",
    "print('PDS cost:',((ref[\"average_aid_cost_pc\"]*dfr[\"pop\"]).sum()/1e9))\n",
    "print('resilience:',ref.dKtot.sum()/ref.dWtot_currency.sum())\n",
    "print('With PDS')\n",
    "print('PDS cost:',((dfr[\"average_aid_cost_pc\"]*dfr[\"pop\"]).sum()/1e9))\n",
    "print(\"At the global scale, we estimate asset losses due to natural disasters to be {k:.0f} bn$ per year. But due to lack of socio economic capacity, welfare losses are {r:.1f} times bigger, at {w:.0f} bn$ per year\".format( \n",
    "w= dfr.dWtot_currency.sum()*1e-9,\n",
    "k= dfr.dKtot.sum()*1e-9,\n",
    "r=dfr.dWtot_currency.sum()/results.dKtot.sum()))\n",
    "print('resilience GLOBALLY:',dfr.dKtot.sum()/dfr.dWtot_currency.sum())\n",
    "print('resilience gain GLOBALLY:',dfr.dKtot.sum()/dfr.dWtot_currency.sum()-ref.dKtot.sum()/ref.dWtot_currency.sum())\n",
    "\n",
    "\n",
    "diff.sort_values(ascending=False).head(7)"
   ]
  },
  {
   "cell_type": "markdown",
   "metadata": {},
   "source": [
    "## What if post-disaster support was an insurance? \n",
    "here insurance modeled as a post-disaster transfer covering 80% of losses, paid through taxes (as a proxy for risk-based premium)"
   ]
  },
  {
   "cell_type": "code",
   "execution_count": 15,
   "metadata": {
    "collapsed": false,
    "run_control": {
     "frozen": false,
     "read_only": false
    }
   },
   "outputs": [],
   "source": [
    "args = dict(return_stats=True, hazard_ratios=hazard_ratios)"
   ]
  },
  {
   "cell_type": "code",
   "execution_count": 16,
   "metadata": {
    "collapsed": false,
    "run_control": {
     "frozen": false,
     "read_only": false
    }
   },
   "outputs": [
    {
     "name": "stdout",
     "output_type": "stream",
     "text": [
      "stats are axfin,c,dc,dc_npv_post,dc_npv_pre,dk,dw,fa,gamma_SP,help_fee,help_received,k,n,shew,social,v,v_shew\n",
      "Develop market insurance (nonpoor people)\n",
      "stats are axfin,c,dc,dc_npv_post,dc_npv_pre,dk,dw,fa,gamma_SP,help_fee,help_received,k,n,need,shew,social,v,v_shew\n",
      "shareable 0.25\n",
      "Average (population weights) ( prop_nonpoor ) 3.8636978515843343\n",
      "Average (no weights) ( prop_nonpoor ) 3.2048874141860417\n",
      "Country where post-disaster support reduces resilience\n",
      "Series([], Name: diff, dtype: float64)\n",
      "Series([], Name: diff2, dtype: float64)\n",
      "Benefits\n",
      "30.560111699043212\n",
      "No PDS\n",
      "At the global scale, we estimate asset losses due to natural disasters to be 327 bn$ per year. But due to lack of socio economic capacity, welfare losses are 1.6 times bigger, at 529 bn$ per year\n",
      "resilience: 0.61894161799855\n",
      "At the global scale, we estimate asset losses due to natural disasters to be 327 bn$ per year. But due to lack of socio economic capacity, welfare losses are 1.5 times bigger, at 499 bn$ per year\n",
      "PDS cost: 92.91371997306614\n",
      "resilience: 0.656885183775972\n",
      "resilience gain: 0.037943565777422084\n",
      "Jordan 5.84490466795\n"
     ]
    },
    {
     "data": {
      "image/png": "[encoded data removed]",
      "text/plain": [
       "<matplotlib.figure.Figure at 0xb3a9908>"
      ]
     },
     "metadata": {},
     "output_type": "display_data"
    }
   ],
   "source": [
    "couleur = (\"blue\",\"red\",\"green\",\"yellow\",\"purple\")\n",
    "coul = \"blue\"\n",
    "\n",
    "\n",
    "shareable = .25\n",
    "\n",
    "\n",
    "ref = compute_resilience(macro,cat_info,optionPDS=\"no\",**args)\n",
    "plt.figure(figsize=(7,7))\n",
    "option = \"prop_nonpoor\"\n",
    "#for option,coul in zip(listePDS,couleur):\n",
    "#    print(option\n",
    "\n",
    "m,c,h,a,desc = apply_policy(macro,cat_info,macro*0, args, policy_name=\"prop_nonpoor\", verbose=True)\n",
    "\n",
    "# dfr, ciah = compute_resilience(m,c,**a)\n",
    "\n",
    "dfr = compute_resilience(m,c,**a)\n",
    "\n",
    "diff = 100*(dfr.resilience - ref.resilience)\n",
    "diff2 = -(dfr.dWpc_currency - ref.dWpc_currency)\n",
    "plt.scatter(results.gdp_pc_pp,diff,color=coul,alpha=.7,s=50)\n",
    "#plt.legend(listePDS)\n",
    "plt.xlabel(\"GDP per capita (US$)\")\n",
    "plt.ylabel(\"Resilience gain thanks to insurance (%)\")\n",
    "#plt.legend([\"Uniform support\", \"Support proportional to losses\"])\n",
    "plt.xlim(xmin=0)\n",
    "plt.ylim(ymin=0)\n",
    "\n",
    "\n",
    "\n",
    "spine_and_ticks(plt.gca())\n",
    "\n",
    "x_thousands_sep()\n",
    "\n",
    "savefig(\"img/gains_of_insurance_shareable{s}.png\".format(s=shareable))\n",
    "\n",
    "\n",
    "# plt.ylim(0,6)\n",
    "\n",
    "# savefig(\"img/gains_of_insurance_shareable{s}_shaved.png\".format(s=shareable))\n",
    "\n",
    "\n",
    "\n",
    "print(\"shareable\", shareable)\n",
    "print('Average (population weights) (',option,')',((diff*dfr[\"pop\"]).sum())/dfr[\"pop\"].sum())\n",
    "print('Average (no weights) (',option,')',((diff.mean())))\n",
    "print('Country where post-disaster support reduces resilience')\n",
    "results[\"diff\"]=diff\n",
    "results[\"diff2\"]=diff2\n",
    "print(results.query(\"diff<0\")[\"diff\"])\n",
    "print(results.query(\"diff2<0\")[\"diff2\"])\n",
    "print('Benefits')\n",
    "print((ref.dWtot_currency.sum()-dfr.dWtot_currency.sum())/1e9)\n",
    "print('No PDS')\n",
    "a=results.resilience;\n",
    "print(\"At the global scale, we estimate asset losses due to natural disasters to be {k:.0f} bn$ per year. But due to lack of socio economic capacity, welfare losses are {r:.1f} times bigger, at {w:.0f} bn$ per year\".format( \n",
    "w= ref.dWtot_currency.sum()*1e-9,\n",
    "k= ref.dKtot.sum()*1e-9,\n",
    "r=ref.dWtot_currency.sum()/results.dKtot.sum()))\n",
    "print('resilience:',ref.dKtot.sum()/ref.dWtot_currency.sum())\n",
    "print(\"At the global scale, we estimate asset losses due to natural disasters to be {k:.0f} bn$ per year. But due to lack of socio economic capacity, welfare losses are {r:.1f} times bigger, at {w:.0f} bn$ per year\".format( \n",
    "w= dfr.dWtot_currency.sum()*1e-9,\n",
    "k= dfr.dKtot.sum()*1e-9,\n",
    "r=dfr.dWtot_currency.sum()/results.dKtot.sum()))\n",
    "print('PDS cost:',((dfr[\"average_aid_cost_pc\"]*dfr[\"pop\"]).sum()/1e9))\n",
    "print('resilience:',dfr.dKtot.sum()/dfr.dWtot_currency.sum())\n",
    "print('resilience gain:',dfr.dKtot.sum()/dfr.dWtot_currency.sum()-ref.dKtot.sum()/ref.dWtot_currency.sum())\n",
    "\n",
    "print(diff.argmax(),diff.max())"
   ]
  },
  {
   "cell_type": "markdown",
   "metadata": {
    "code_folding": [],
    "collapsed": true,
    "run_control": {
     "frozen": false,
     "read_only": false
    }
   },
   "source": [
    "## Resilience gains if budget constraints were released (only 5% of GDP limit) - proportional distribution"
   ]
  },
  {
   "cell_type": "code",
   "execution_count": 17,
   "metadata": {
    "collapsed": false,
    "run_control": {
     "frozen": false,
     "read_only": false
    }
   },
   "outputs": [
    {
     "name": "stdout",
     "output_type": "stream",
     "text": [
      "stats are axfin,c,dc,dc_npv_post,dc_npv_pre,dk,dw,fa,gamma_SP,help_fee,help_received,k,n,shew,social,v,v_shew\n",
      "stats are axfin,c,dc,dc_npv_post,dc_npv_pre,dk,dw,fa,gamma_SP,help_fee,help_received,k,n,shew,social,v,v_shew\n",
      "Average (population weights)  1.2308180826386104\n",
      "Average (no weights)  1.7153979843184681\n",
      "Country where higher budget for post-disaster support reduces resilience\n",
      "Country where more resources would reduce resilience\n",
      "Empty DataFrame\n",
      "Columns: [diff]\n",
      "Index: []\n",
      "Country where more resources would increase resilience the most\n",
      "                              diff\n",
      "country                           \n",
      "Angola                    5.311727\n",
      "Benin                     4.803258\n",
      "Congo, Dem. Rep.          4.460242\n",
      "Gabon                     3.677619\n",
      "Lesotho                   3.412509\n",
      "Central African Republic  3.349224\n",
      "Swaziland                 3.304828\n",
      "Estonia                   3.229025\n",
      "El Salvador               3.225997\n",
      "Nepal                     3.180235\n",
      "Zambia                    2.994930\n",
      "Greece                    2.803784\n",
      "Russian Federation        2.794717\n",
      "Thailand                  2.790878\n",
      "Kenya                     2.705690\n",
      "Congo, Rep.               2.688601\n",
      "Mauritania                2.678799\n",
      "Mongolia                  2.669753\n",
      "Argentina                 2.654168\n",
      "Albania                   2.550784\n",
      "Before\n",
      "PDS cost: 11.049155337233886\n",
      "At the global scale, we estimate asset losses due to natural disasters to be 327 bn$ per year. But due to lack of socio economic capacity, welfare losses are 1.6 times bigger, at 517 bn$ per year\n",
      "resilience: 0.6330070746372456\n",
      "After\n",
      "PDS cost: 23.007982886516807\n",
      "At the global scale, we estimate asset losses due to natural disasters to be 327 bn$ per year. But due to lack of socio economic capacity, welfare losses are 1.5 times bigger, at 506 bn$ per year\n",
      "resilience: 0.647388884405035\n",
      "resilience gain: 0.014381809767789355\n"
     ]
    },
    {
     "data": {
      "image/png": "[encoded data removed]",
      "text/plain": [
       "<matplotlib.figure.Figure at 0xb6f5550>"
      ]
     },
     "metadata": {},
     "output_type": "display_data"
    }
   ],
   "source": [
    "coul = (\"blue\")\n",
    "ref = compute_resilience(macro,cat_info,optionPDS=\"unif_poor\",optionT=\"data\",optionB=\"data\",**args)\n",
    "#ref = 100*compute_resilience(macro,cat_info,**args,optionPDS=\"no\").resilience\n",
    "plt.figure(figsize=(6,6))\n",
    "ax = plt.gca();\n",
    "#for option,coul in zip(listePDS,couleur):\n",
    "#    print(option\n",
    "dfr = compute_resilience(macro,cat_info,optionPDS=\"unif_poor\",optionT=\"data\",optionB=\"max05\",**args) \n",
    "dfr[\"diff\"] = 100*(dfr.resilience - ref.resilience)\n",
    "\n",
    "\n",
    "dfr.plot.scatter(x=\"gdp_pc_pp\",y=\"diff\",color=coul,alpha=.7,s=50,ax=ax)\n",
    "\n",
    "#plt.legend(listePDS)\n",
    "plt.xlabel(\"GDP per capita\")\n",
    "plt.ylabel(\"resilience gain from relaxing\\n budget constraint (%)\")\n",
    "#plt.legend([\"Uniform support\", \"Support proportional to losses\"])\n",
    "plt.xlim(xmin=0)\n",
    "plt.ylim(ymin=0)\n",
    "\n",
    "spine_and_ticks(ax)\n",
    "\n",
    "savefig(\"img/resilience_gain_post-disaster_support_freebudget.png\")\n",
    "\n",
    "\n",
    "print('Average (population weights) ',((dfr[\"diff\"]*ref[\"pop\"]).sum())/ref[\"pop\"].sum())\n",
    "print('Average (no weights) ',((dfr[\"diff\"].mean())))\n",
    "print('Country where higher budget for post-disaster support reduces resilience')\n",
    "print(\"Country where more resources would reduce resilience\")\n",
    "print(dfr.query(\"diff<0\")[[\"diff\"]])\n",
    "print(\"Country where more resources would increase resilience the most\")\n",
    "print(dfr.sort_values(\"diff\",ascending=False).head(20)[[\"diff\"]])\n",
    "print('Before')\n",
    "print('PDS cost:',((ref[\"average_aid_cost_pc\"]*dfr[\"pop\"]).sum()/1e9))\n",
    "a=results.resilience;\n",
    "print(\"At the global scale, we estimate asset losses due to natural disasters to be {k:.0f} bn$ per year. But due to lack of socio economic capacity, welfare losses are {r:.1f} times bigger, at {w:.0f} bn$ per year\".format( \n",
    "w= ref.dWtot_currency.sum()*1e-9,\n",
    "k= ref.dKtot.sum()*1e-9,\n",
    "r=ref.dWtot_currency.sum()/results.dKtot.sum()))\n",
    "print('resilience:',ref.dKtot.sum()/ref.dWtot_currency.sum())\n",
    "print('After')\n",
    "print('PDS cost:',((dfr[\"average_aid_cost_pc\"]*dfr[\"pop\"]).sum()/1e9))\n",
    "print(\"At the global scale, we estimate asset losses due to natural disasters to be {k:.0f} bn$ per year. But due to lack of socio economic capacity, welfare losses are {r:.1f} times bigger, at {w:.0f} bn$ per year\".format( \n",
    "w= dfr.dWtot_currency.sum()*1e-9,\n",
    "k= dfr.dKtot.sum()*1e-9,\n",
    "r=dfr.dWtot_currency.sum()/results.dKtot.sum()))\n",
    "print('resilience:',dfr.dKtot.sum()/dfr.dWtot_currency.sum())\n",
    "print('resilience gain:',dfr.dKtot.sum()/dfr.dWtot_currency.sum()-ref.dKtot.sum()/ref.dWtot_currency.sum())\n"
   ]
  },
  {
   "cell_type": "code",
   "execution_count": 18,
   "metadata": {
    "collapsed": false,
    "run_control": {
     "frozen": false,
     "read_only": false
    }
   },
   "outputs": [
    {
     "data": {
      "text/plain": [
       "<matplotlib.collections.PathCollection at 0xb6f5748>"
      ]
     },
     "execution_count": 18,
     "metadata": {},
     "output_type": "execute_result"
    },
    {
     "data": {
      "image/png": "[encoded data removed]",
      "text/plain": [
       "<matplotlib.figure.Figure at 0xb423080>"
      ]
     },
     "metadata": {},
     "output_type": "display_data"
    }
   ],
   "source": [
    "dfr[\"addfin\"]=dfr[\"average_aid_cost_pc\"]*dfr[\"pop\"]\n",
    "ref[\"addfin\"]=ref[\"average_aid_cost_pc\"]*ref[\"pop\"]\n",
    "plt.figure(figsize=(10,10))\n",
    "ax = plt.gca();\n",
    "plt.scatter(ref[\"addfin\"],dfr[\"addfin\"],color=coul,alpha=.7,s=50)\n",
    "#plt.legend(listePDS)\n",
    "#plt.legend([\"Uniform support\", \"Support proportional to losses\"])\n",
    "#plt.xlim(xmin=0)\n",
    "#plt.ylim(ymin=-1)"
   ]
  },
  {
   "cell_type": "markdown",
   "metadata": {},
   "source": [
    "## Resilience gain if all countries can at least allocate 1% of GDP"
   ]
  },
  {
   "cell_type": "code",
   "execution_count": 19,
   "metadata": {
    "collapsed": false,
    "run_control": {
     "frozen": false,
     "read_only": false
    }
   },
   "outputs": [
    {
     "name": "stdout",
     "output_type": "stream",
     "text": [
      "stats are axfin,c,dc,dc_npv_post,dc_npv_pre,dk,dw,fa,gamma_SP,help_fee,help_received,k,n,need,shew,social,v,v_shew\n",
      "stats are axfin,c,dc,dc_npv_post,dc_npv_pre,dk,dw,fa,gamma_SP,help_fee,help_received,k,n,need,shew,social,v,v_shew\n",
      "Average (population weights)  2.5755874755502264\n",
      "Average (no weights)  3.9595759492107385\n",
      "Country where higher budget for post-disaster support reduces resilience\n",
      "Country where more resources would reduce resilience\n",
      "Empty DataFrame\n",
      "Columns: [diff]\n",
      "Index: []\n",
      "Country where more resources would increase resilience the most\n",
      "                         diff\n",
      "country                      \n",
      "Thailand            29.751717\n",
      "Russian Federation  22.572525\n",
      "Guatemala           22.314321\n",
      "Niger               17.039284\n",
      "Estonia             16.698610\n",
      "Iran, Islamic Rep.  15.389654\n",
      "Macedonia, FYR      13.906694\n",
      "Uzbekistan          13.524875\n",
      "Mauritania          12.323255\n",
      "Tajikistan          11.823692\n",
      "Turkey              11.798152\n",
      "Poland              10.855677\n",
      "Latvia              10.678115\n",
      "Mali                10.626067\n",
      "Kyrgyz Republic     10.361721\n",
      "Zambia              10.271084\n",
      "Argentina            9.939701\n",
      "Mongolia             9.281535\n",
      "Angola               9.140485\n",
      "Kazakhstan           9.076540\n",
      "Before\n",
      "PDS cost: 261.21576797605917\n",
      "At the global scale, we estimate asset losses due to natural disasters to be 327 bn$ per year. But due to lack of socio economic capacity, welfare losses are 1.4 times bigger, at 466 bn$ per year\n",
      "resilience: 0.7023393311952334\n",
      "After\n",
      "PDS cost: 385.37998636140964\n",
      "At the global scale, we estimate asset losses due to natural disasters to be 327 bn$ per year. But due to lack of socio economic capacity, welfare losses are 1.4 times bigger, at 451 bn$ per year\n",
      "resilience: 0.7254843906911391\n",
      "resilience gain: 0.02314505949590573\n"
     ]
    },
    {
     "data": {
      "image/png": "[encoded data removed]",
      "text/plain": [
       "<matplotlib.figure.Figure at 0xb3ea240>"
      ]
     },
     "metadata": {},
     "output_type": "display_data"
    }
   ],
   "source": [
    "coul = (\"blue\")\n",
    "ref = compute_resilience(macro,cat_info,optionPDS=\"prop\",optionT=\"data\",optionB=\"data\",**args)\n",
    "#ref = 100*compute_resilience(macro,cat_info,**args,optionPDS=\"no\").resilience\n",
    "plt.figure(figsize=(6,6))\n",
    "ax = plt.gca();\n",
    "#for option,coul in zip(listePDS,couleur):\n",
    "#    print(option\n",
    "dfr = compute_resilience(macro,cat_info,optionPDS=\"prop\",optionT=\"data\",optionB=\"max01\",**args) \n",
    "dfr[\"diff\"] = 100*(dfr.resilience.dropna().clip(lower=ref.dropna().resilience) - ref.resilience.dropna())\n",
    "dfr.plot.scatter(x=\"gdp_pc_pp\",y=\"diff\",color=coul,alpha=.7,s=50,ax=ax, clip_on=False)\n",
    "#plt.legend(listePDS)\n",
    "plt.xlabel(\"GDP per capita\")\n",
    "plt.ylabel(\"resilience gain from \\nrelaxing budget constraint (%)\")\n",
    "#plt.legend([\"Uniform support\", \"Support proportional to losses\"])\n",
    "plt.xlim(xmin=0)\n",
    "plt.ylim(ymin=0)\n",
    "\n",
    "spine_and_ticks(ax)\n",
    "\n",
    "plt.savefig(\"img/resilience_gain_post-disaster_support_freebudget.png\")\n",
    "\n",
    "\n",
    "\n",
    "\n",
    "print('Average (population weights) ',((dfr[\"diff\"]*ref[\"pop\"]).sum())/ref[\"pop\"].sum())\n",
    "print('Average (no weights) ',((dfr[\"diff\"].mean())))\n",
    "print('Country where higher budget for post-disaster support reduces resilience')\n",
    "print(\"Country where more resources would reduce resilience\")\n",
    "print(dfr.query(\"diff<0\")[[\"diff\"]])\n",
    "print(\"Country where more resources would increase resilience the most\")\n",
    "print(dfr.sort_values(\"diff\",ascending=False).head(20)[[\"diff\"]])\n",
    "print('Before')\n",
    "print('PDS cost:',((ref[\"average_aid_cost_pc\"]*dfr[\"pop\"]).sum()/1e9))\n",
    "a=results.resilience;\n",
    "print(\"At the global scale, we estimate asset losses due to natural disasters to be {k:.0f} bn$ per year. But due to lack of socio economic capacity, welfare losses are {r:.1f} times bigger, at {w:.0f} bn$ per year\".format( \n",
    "w= ref.dWtot_currency.sum()*1e-9,\n",
    "k= ref.dKtot.sum()*1e-9,\n",
    "r=ref.dWtot_currency.sum()/results.dKtot.sum()))\n",
    "print('resilience:',ref.dKtot.sum()/ref.dWtot_currency.sum())\n",
    "print('After')\n",
    "print('PDS cost:',((dfr[\"average_aid_cost_pc\"]*dfr[\"pop\"]).sum()/1e9))\n",
    "print(\"At the global scale, we estimate asset losses due to natural disasters to be {k:.0f} bn$ per year. But due to lack of socio economic capacity, welfare losses are {r:.1f} times bigger, at {w:.0f} bn$ per year\".format( \n",
    "w= dfr.dWtot_currency.sum()*1e-9,\n",
    "k= dfr.dKtot.sum()*1e-9,\n",
    "r=dfr.dWtot_currency.sum()/results.dKtot.sum()))\n",
    "print('resilience:',dfr.dKtot.sum()/dfr.dWtot_currency.sum())\n",
    "print('resilience gain:',dfr.dKtot.sum()/dfr.dWtot_currency.sum()-ref.dKtot.sum()/ref.dWtot_currency.sum())\n"
   ]
  },
  {
   "cell_type": "code",
   "execution_count": 20,
   "metadata": {
    "collapsed": false,
    "run_control": {
     "frozen": false,
     "read_only": false
    }
   },
   "outputs": [],
   "source": [
    "#bad=results.query(\"diff<0\")\n",
    "#bad[\"ebias\"] = (cat_info.unstack(\"income_cat\")[\"fa\"][\"poor\"]/cat_info.unstack(\"income_cat\")[\"fa\"][\"nonpoor\"])\n",
    "#bad[\"vbias\"] = (cat_info.unstack(\"income_cat\")[\"v\"][\"poor\"]/cat_info.unstack(\"income_cat\")[\"v\"][\"nonpoor\"])\n",
    "#bad=bad.query(\"diff<0\")\n",
    "#bad"
   ]
  },
  {
   "cell_type": "markdown",
   "metadata": {
    "collapsed": true,
    "run_control": {
     "frozen": false,
     "read_only": false
    }
   },
   "source": [
    "# Benefit-cost ratio of post-disaster support"
   ]
  },
  {
   "cell_type": "markdown",
   "metadata": {},
   "source": [
    "## BC ratio of one dollar per affected people, with and without cost of public resources"
   ]
  },
  {
   "cell_type": "code",
   "execution_count": 21,
   "metadata": {
    "collapsed": false,
    "run_control": {
     "frozen": false,
     "read_only": false
    }
   },
   "outputs": [
    {
     "name": "stdout",
     "output_type": "stream",
     "text": [
      "stats are axfin,c,dc,dc_npv_post,dc_npv_pre,dk,dw,fa,gamma_SP,help_fee,help_received,k,n,shew,social,v,v_shew\n"
     ]
    },
    {
     "name": "stderr",
     "output_type": "stream",
     "text": [
      "C:\\Users\\Admin\\Box Sync\\PYTHON - RESILIENCE\\resilience_indicator_multihazard\\res_ind_lib.py:322: SettingWithCopyWarning: \n",
      "A value is trying to be set on a copy of a slice from a DataFrame.\n",
      "Try using .loc[row_indexer,col_indexer] = value instead\n",
      "\n",
      "See the caveats in the documentation: http://pandas.pydata.org/pandas-docs/stable/indexing.html#indexing-view-versus-copy\n",
      "  d[\"un\"]=1\n"
     ]
    },
    {
     "name": "stdout",
     "output_type": "stream",
     "text": [
      "stats are axfin,c,dc,dc_npv_post,dc_npv_pre,dk,dw,fa,gamma_SP,help_fee,help_received,k,n,shew,social,v,v_shew\n",
      "Average (population weights) ( prop_nonpoor ) 2.270150253268013\n",
      "Average (no weights) ( prop_nonpoor ) 2.2630176517522305\n",
      "Countries where post-disaster support has BC ratio < 1 ( prop_nonpoor )\n",
      "Series([], Name: bcr025, dtype: float64)\n",
      "Country where more resources would increase resilience the most\n",
      "country\n",
      "South Africa                5.706374\n",
      "Zambia                      5.522412\n",
      "Honduras                    5.516887\n",
      "Lesotho                     5.466671\n",
      "Botswana                    5.343034\n",
      "Panama                      4.988080\n",
      "Brazil                      4.574090\n",
      "Colombia                    4.344863\n",
      "Central African Republic    4.336346\n",
      "Bolivia                     4.053694\n",
      "Kenya                       3.706788\n",
      "Angola                      3.617500\n",
      "Swaziland                   3.540729\n",
      "Paraguay                    3.388076\n",
      "Ecuador                     3.296953\n",
      "Congo, Dem. Rep.            3.245189\n",
      "Guatemala                   3.238000\n",
      "Benin                       3.090601\n",
      "Peru                        3.084950\n",
      "Venezuela, RB               3.075980\n",
      "Name: bcr, dtype: float64\n"
     ]
    },
    {
     "data": {
      "image/png": "[encoded data removed]",
      "text/plain": [
       "<matplotlib.figure.Figure at 0xb410160>"
      ]
     },
     "metadata": {},
     "output_type": "display_data"
    }
   ],
   "source": [
    "# metrics is the benefit-cost ratio of post-disaster support')\n",
    "# always >1 for unif_poor - a few countries with <1 with prop\n",
    "\n",
    "fig=plt.figure(figsize=(8,8));\n",
    "ax = plt.gca();\n",
    "optionPDS = \"unif_poor\"\n",
    "optionB = \"one_per_affected\"\n",
    "no = compute_resilience(macro,cat_info,optionPDS=\"no\",**args)\n",
    "\n",
    "\n",
    "dfr,dfr_iah = compute_resilience(macro,cat_info, return_iah=True, optionPDS=optionPDS, optionT=\"data\",optionB=optionB,fraction_inside=0,**args)\n",
    "dfr[\"benefit-cost ratio\"] = -(dfr.dWpc_currency - no.dWpc_currency)/dfr[\"average_aid_cost_pc\"] \n",
    "dfr[\"bcr\"] = -(dfr.dWpc_currency - no.dWpc_currency)/dfr[\"average_aid_cost_pc\"]\n",
    "dfr[\"bcr025\"] = -(dfr.dWpc_currency - no.dWpc_currency)/(1.25*dfr[\"average_aid_cost_pc\"])\n",
    "\n",
    "dfr.plot.scatter(\n",
    "    x=\"gdp_pc_pp\", y=\"bcr025\", c= 'red', s=80, alpha=.63, ax=ax)\n",
    "dfr.plot.scatter(\n",
    "    x=\"gdp_pc_pp\", y=\"benefit-cost ratio\", c='blue', s=80, alpha=.63, ax=ax)\n",
    "\n",
    "print('Average (population weights) (',option,')',((dfr[\"benefit-cost ratio\"]*dfr[\"pop\"]).sum())/dfr[\"pop\"].sum())\n",
    "print('Average (no weights) (',option,')',((dfr[\"benefit-cost ratio\"].mean())))\n",
    "print('Countries where post-disaster support has BC ratio < 1 (',option,')')\n",
    "print((dfr.query(\"bcr025<1\")).bcr025)\n",
    "    \n",
    "#plt.title(\"Perfect targeting\")\n",
    "plt.legend(['Cost of public resources \\$1.25 per \\$1','Cost of public resources \\$1 per \\$1'])\n",
    "plt.xlim(0)\n",
    "plt.xlabel(\"GDP per capita\")\n",
    "plt.xlabel(\"Benefit-cost of post-disaster support\")\n",
    "plt.savefig(\"benefit-cost-ratio-post-disaster-support.png\")\n",
    "print(\"Country where more resources would increase resilience the most\")\n",
    "print(dfr.sort_values(\"bcr\",ascending=False).head(20)[\"bcr\"])"
   ]
  },
  {
   "cell_type": "markdown",
   "metadata": {
    "collapsed": true,
    "run_control": {
     "frozen": false,
     "read_only": false
    }
   },
   "source": [
    "## Looking at the benefit-cost ratio of $1 in support, given to each affected person (with and without targeting error)"
   ]
  },
  {
   "cell_type": "code",
   "execution_count": 22,
   "metadata": {
    "collapsed": false,
    "run_control": {
     "frozen": false,
     "read_only": false
    }
   },
   "outputs": [
    {
     "name": "stdout",
     "output_type": "stream",
     "text": [
      "stats are axfin,c,dc,dc_npv_post,dc_npv_pre,dk,dw,fa,gamma_SP,help_fee,help_received,k,n,shew,social,v,v_shew\n",
      "stats are axfin,c,dc,dc_npv_post,dc_npv_pre,dk,dw,fa,gamma_SP,help_fee,help_received,k,n,shew,social,v,v_shew\n",
      "stats are axfin,c,dc,dc_npv_post,dc_npv_pre,dk,dw,fa,gamma_SP,help_fee,help_received,k,n,shew,social,v,v_shew\n",
      "Average (population weights) ( x33 ) 2.1982697613749083\n",
      "Average (no weights) ( x33 ) 2.224372828536163\n",
      "Countries where post-disaster support has BC ratio < 1 ( x33 )\n",
      "Series([], Name: bcr, dtype: float64)\n",
      "Country with highest benefit-cost ratio\n",
      "country\n",
      "South Africa                5.596590\n",
      "Honduras                    5.520076\n",
      "Lesotho                     5.420359\n",
      "Botswana                    5.186866\n",
      "Zambia                      4.891067\n",
      "Panama                      4.743673\n",
      "Central African Republic    4.621799\n",
      "Brazil                      4.269653\n",
      "Colombia                    4.182262\n",
      "Angola                      4.151261\n",
      "Bolivia                     3.997023\n",
      "Swaziland                   3.427228\n",
      "Kenya                       3.358337\n",
      "Paraguay                    3.245448\n",
      "Guatemala                   3.215533\n",
      "Venezuela, RB               3.201726\n",
      "Congo, Dem. Rep.            3.191270\n",
      "Ecuador                     3.128697\n",
      "Peru                        3.023694\n",
      "Costa Rica                  2.883400\n",
      "Name: bcr, dtype: float64\n",
      "Country with lowest benefit-cost ratio\n",
      "country\n",
      "Niger              1.308834\n",
      "Sweden             1.333298\n",
      "Mali               1.341756\n",
      "Cambodia           1.349787\n",
      "Kazakhstan         1.352744\n",
      "Slovenia           1.364140\n",
      "Denmark            1.366573\n",
      "Belarus            1.368976\n",
      "Ukraine            1.376470\n",
      "Armenia            1.394961\n",
      "Slovak Republic    1.400166\n",
      "Moldova            1.427237\n",
      "Germany            1.431072\n",
      "Czech Republic     1.439550\n",
      "Pakistan           1.442454\n",
      "Romania            1.445118\n",
      "Azerbaijan         1.446589\n",
      "Tajikistan         1.453241\n",
      "Belgium            1.458142\n",
      "Netherlands        1.469040\n",
      "Name: bcr, dtype: float64\n"
     ]
    },
    {
     "data": {
      "image/png": "[encoded data removed]",
      "text/plain": [
       "<matplotlib.figure.Figure at 0x952bc50>"
      ]
     },
     "metadata": {},
     "output_type": "display_data"
    }
   ],
   "source": [
    "# metrics is the benefit-cost ratio of post-disaster support')\n",
    "# always >1 for unif_poor - a few countries with <1 with prop\n",
    "\n",
    "fig=plt.figure(figsize=(8,8));\n",
    "ax = plt.gca();\n",
    "listeT = (\"perfect\",\"x33\") #,\"excl\",\"incl\") #,\"20\",\"incl\")\n",
    "opt_leg = (\"Perfect targeting\",\"33% error in targeting\") #,\"33% exclusion error\", \"33% inclusion error\")\n",
    "couleur = (\"blue\",\"red\",\"green\",\"yellow\",\"purple\")\n",
    "no = compute_resilience(macro,cat_info,optionPDS=\"no\",**args)\n",
    "\n",
    "for option,coul in zip(listeT,couleur):\n",
    "    dfr,dfr_iah = compute_resilience(macro,cat_info, return_iah=True, optionPDS=\"one\", optionT=option,optionB=\"data\",fraction_inside=0,**args)\n",
    "    dfr[\"benefit-cost ratio\"] = -(dfr.dWpc_currency - no.dWpc_currency)/dfr[\"average_aid_cost_pc\"] \n",
    "    dfr[\"bcr\"] = -(dfr.dWpc_currency - no.dWpc_currency)/dfr[\"average_aid_cost_pc\"]\n",
    "    dfr[\"bcr025\"] = -(dfr.dWpc_currency - no.dWpc_currency)/(1.25*dfr[\"average_aid_cost_pc\"])\n",
    "\n",
    "    dfr.plot.scatter(\n",
    "        x=\"gdp_pc_pp\", y=\"bcr\", c= coul, s=80, alpha=.63, ax=ax)\n",
    "    \n",
    "    \n",
    "    \n",
    "    \n",
    "    \n",
    "#dfr.plot.scatter(\n",
    "#    x=\"gdp_pc_pp\", y=\"benefit-cost ratio\", c='blue', s=80, alpha=.63, ax=ax)\n",
    "\n",
    "print('Average (population weights) (',option,')',((dfr[\"benefit-cost ratio\"]*dfr[\"pop\"]).sum())/dfr[\"pop\"].sum())\n",
    "print('Average (no weights) (',option,')',((dfr[\"benefit-cost ratio\"].mean())))\n",
    "print('Countries where post-disaster support has BC ratio < 1 (',option,')')\n",
    "print((dfr.query(\"bcr<1\")).bcr)\n",
    "    \n",
    "#plt.title(\"Perfect targeting\")\n",
    "#plt.legend(['Cost of public resources \\$1.25 per \\$1','Cost of public resources \\$1 per \\$1'])\n",
    "plt.legend(opt_leg, frameon=False)\n",
    "plt.xlim(0)\n",
    "plt.xlabel(\"GDP per capita (US$)\")\n",
    "plt.ylabel(\"Benefit-cost of postdisaster support\")\n",
    "x_thousands_sep()\n",
    "\n",
    "spine_and_ticks(plt.gca())\n",
    "\n",
    "savefig(\"img/benefit-cost-ratio-post-disaster-support.png\")\n",
    "print(\"Country with highest benefit-cost ratio\")\n",
    "print(dfr.sort_values(\"bcr\",ascending=False).head(20)[\"bcr\"])\n",
    "print(\"Country with lowest benefit-cost ratio\")\n",
    "print(dfr.sort_values(\"bcr\",ascending=True).head(20)[\"bcr\"])"
   ]
  },
  {
   "cell_type": "markdown",
   "metadata": {},
   "source": [
    "## Proportional transfers or uniform transfer? How much gain in BC ratio?"
   ]
  },
  {
   "cell_type": "code",
   "execution_count": 23,
   "metadata": {
    "collapsed": false,
    "run_control": {
     "frozen": false,
     "read_only": false
    }
   },
   "outputs": [
    {
     "name": "stdout",
     "output_type": "stream",
     "text": [
      "A better metrics is the benefit-cost ratio of post-disaster support\n",
      "stats are axfin,c,dc,dc_npv_post,dc_npv_pre,dk,dw,fa,gamma_SP,help_fee,help_received,k,n,shew,social,v,v_shew\n"
     ]
    },
    {
     "name": "stderr",
     "output_type": "stream",
     "text": [
      "C:\\Users\\Admin\\Box Sync\\PYTHON - RESILIENCE\\resilience_indicator_multihazard\\res_ind_lib.py:322: SettingWithCopyWarning: \n",
      "A value is trying to be set on a copy of a slice from a DataFrame.\n",
      "Try using .loc[row_indexer,col_indexer] = value instead\n",
      "\n",
      "See the caveats in the documentation: http://pandas.pydata.org/pandas-docs/stable/indexing.html#indexing-view-versus-copy\n",
      "  d[\"un\"]=1\n"
     ]
    },
    {
     "name": "stdout",
     "output_type": "stream",
     "text": [
      "stats are axfin,c,dc,dc_npv_post,dc_npv_pre,dk,dw,fa,gamma_SP,help_fee,help_received,k,n,shew,social,v,v_shew\n",
      "stats are axfin,c,dc,dc_npv_post,dc_npv_pre,dk,dw,fa,gamma_SP,help_fee,help_received,k,n,need,shew,social,v,v_shew\n"
     ]
    }
   ],
   "source": [
    "print ('A better metrics is the benefit-cost ratio of post-disaster support')\n",
    "# always >1 for unif_poor - a few countries with <1 with prop\n",
    "\n",
    "modalities_and_color = dict(\n",
    "  #             no      =\"#386cb0\",\n",
    "  #              unif_all=\"#f0027f\",\n",
    "                unif_poor   =\"#beaed4\",\n",
    "                prop    =\"#7fc97f\",\n",
    "                            )\n",
    "\n",
    "\n",
    "\n",
    "no = compute_resilience(macro,cat_info,optionPDS=\"no\",**args)\n",
    "\n",
    "dfr1,dfr1_iah = compute_resilience(macro,cat_info,return_iah=True, optionPDS=\"unif_poor\", optionT=\"perfect\",optionB=\"one_per_affected\",fraction_inside=0,**args)\n",
    "dfr2,dfr2_iah = compute_resilience(macro,cat_info,return_iah=True, optionPDS=\"prop\", optionT=\"perfect\",optionB=\"one_per_affected\",fraction_inside=0,**args)\n",
    "dfr1[\"bcr\"] = -(dfr1.dWpc_currency - no.dWpc_currency)/dfr1[\"average_aid_cost_pc\"]\n",
    "dfr2[\"bcr\"] = -(dfr2.dWpc_currency - no.dWpc_currency)/dfr2[\"average_aid_cost_pc\"]\n",
    "\n",
    "\n",
    "diff = dfr1[\"bcr\"] - dfr2[\"bcr\"]\n",
    "dfr2[\"diff\"]=diff\n",
    "\n",
    "#dfr1.plot.scatter(x=\"gdp_pc_pp\", y=\"bcr\", color = 'blue', s=80, alpha=.63, ax=ax)\n",
    "#dfr2.plot.scatter(x=\"gdp_pc_pp\", y=\"bcr\", color = 'red', s=80, alpha=.63, ax=ax)\n",
    "# dfr2.plot.scatter(x=\"gdp_pc_pp\", y=\"diff\", color = 'red', s=80, alpha=.63, ax=ax)\n",
    " \n",
    "\n",
    "\n"
   ]
  },
  {
   "cell_type": "code",
   "execution_count": 24,
   "metadata": {
    "collapsed": false,
    "run_control": {
     "frozen": false,
     "read_only": false
    }
   },
   "outputs": [],
   "source": [
    "\n",
    "one_large = dfr1[dfr1[\"bcr\"]>dfr2[\"bcr\"]].index\n",
    "two_large = dfr1[dfr1[\"bcr\"]<dfr2[\"bcr\"]].index"
   ]
  },
  {
   "cell_type": "code",
   "execution_count": 25,
   "metadata": {
    "collapsed": false,
    "run_control": {
     "frozen": false,
     "read_only": false
    }
   },
   "outputs": [
    {
     "name": "stdout",
     "output_type": "stream",
     "text": [
      "Average (population weights) (unif_poor) 2.3245890114997123\n",
      "Average (no weights) (unif_poor) 2.3580711428167285\n",
      "Countries where post-disaster support has BC ratio < 1 (unif_poor)\n",
      "Series([], Name: bcr, dtype: float64)\n",
      "Average (population weights) (prop) 1.396172297996256\n",
      "Average (no weights) (prop) 1.4827257106977503\n",
      "Countries where post-disaster support has BC ratio < 1 (prop)\n",
      "country\n",
      "Azerbaijan    0.919156\n",
      "Georgia       0.837412\n",
      "Hungary       0.981500\n",
      "Ireland       0.981691\n",
      "Name: bcr, dtype: float64\n",
      "Where proportional is better\n",
      "country\n",
      "Cambodia     -0.138840\n",
      "Greece       -0.052586\n",
      "Mali         -0.449820\n",
      "Mauritania   -0.555578\n",
      "Niger        -0.529934\n",
      "Thailand     -0.898532\n",
      "Name: diff, dtype: float64\n",
      "20 Best countries where to use uniform\n",
      "country\n",
      "South Africa                4.708910\n",
      "Lesotho                     4.140183\n",
      "Botswana                    4.060962\n",
      "Honduras                    4.013124\n",
      "Panama                      3.445439\n",
      "Central African Republic    3.364061\n",
      "Zambia                      3.343799\n",
      "Brazil                      3.048281\n",
      "Bolivia                     2.530561\n",
      "Angola                      2.400593\n",
      "Colombia                    2.310315\n",
      "Kenya                       2.022721\n",
      "Venezuela, RB               1.961897\n",
      "Ecuador                     1.925415\n",
      "Swaziland                   1.898763\n",
      "Congo, Dem. Rep.            1.774744\n",
      "Paraguay                    1.687688\n",
      "China                       1.622332\n",
      "Togo                        1.585744\n",
      "Israel                      1.514316\n",
      "Name: diff, dtype: float64\n",
      "0.8753454321189779\n"
     ]
    },
    {
     "data": {
      "image/png": "[encoded data removed]",
      "text/plain": [
       "<matplotlib.figure.Figure at 0xadc8630>"
      ]
     },
     "metadata": {},
     "output_type": "display_data"
    }
   ],
   "source": [
    "fig=plt.figure(figsize=(7,7));\n",
    "ax = plt.gca();\n",
    "\n",
    "# ax.scatter(y=dfr1[\"bcr\"], x=dfr2[\"bcr\"], s=50, alpha=0.5, clip_on=False)   \n",
    "\n",
    "ax.scatter(y=dfr1.ix[one_large,\"bcr\"], x=dfr2.ix[one_large,\"bcr\"], s=50,  clip_on=False, color=\"#91bfdb\")   \n",
    "ax.scatter(y=dfr1.ix[two_large,\"bcr\"], x=dfr2.ix[two_large,\"bcr\"], s=50, clip_on=False, color = \"#fc8d59\")   \n",
    "\n",
    "plt.legend([\"Lump sum is more efficient\", \"Proportional is more efficient\"], prop=font, frameon=False, loc=2)\n",
    "\n",
    "plt.plot([0,7],[0,7], \"--\", color=\"black\")\n",
    "\n",
    "    \n",
    "print('Average (population weights) (unif_poor)',((dfr1[\"bcr\"]*dfr1[\"pop\"]).sum())/dfr1[\"pop\"].sum())\n",
    "print('Average (no weights) (unif_poor)',((dfr1[\"bcr\"].mean())))\n",
    "print('Countries where post-disaster support has BC ratio < 1 (unif_poor)')\n",
    "print((dfr1.query(\"bcr<1\")).bcr)\n",
    "    \n",
    "print('Average (population weights) (prop)',((dfr2[\"bcr\"]*dfr2[\"pop\"]).sum())/dfr2[\"pop\"].sum())\n",
    "print('Average (no weights) (prop)',((dfr2[\"bcr\"].mean())))\n",
    "print('Countries where post-disaster support has BC ratio < 1 (prop)')\n",
    "print((dfr2.query(\"bcr<1\")).bcr)\n",
    "\n",
    "\n",
    "print(\"Where proportional is better\")\n",
    "print((dfr2.query(\"diff<0\"))[\"diff\"])\n",
    "\n",
    "print(\"20 Best countries where to use uniform\")\n",
    "print(dfr2.sort_values(\"diff\",ascending=False).head(20)[\"diff\"])\n",
    "\n",
    "print(diff.mean())\n",
    "    \n",
    "#plt.legend(['Uniform transfer','Transfer proportional to losses'])\n",
    "plt.ylabel(\"Benefit-cost fatio of lump-sum transfers\")\n",
    "plt.xlabel(\"Benefit-cost fatio of proportional transfers\")\n",
    "plt.xlim(0,7)\n",
    "plt.ylim(0,7)\n",
    "\n",
    "spine_and_ticks(plt.gca())\n",
    "# x_thousands_sep()\n",
    "\n",
    "savefig(\"img/benefit-cost-ratio-post-disaster-support-one-dol.png\")"
   ]
  },
  {
   "cell_type": "code",
   "execution_count": 26,
   "metadata": {
    "collapsed": false,
    "run_control": {
     "frozen": false,
     "read_only": false
    }
   },
   "outputs": [
    {
     "name": "stdout",
     "output_type": "stream",
     "text": [
      "bcr    1.597644\n",
      "Name: Bangladesh, dtype: float64\n",
      "bcr    1.597644\n",
      "Name: Bangladesh, dtype: float64\n",
      "bcr    1.401772\n",
      "Name: Bangladesh, dtype: float64\n"
     ]
    },
    {
     "data": {
      "text/plain": [
       "country\n",
       "Albania                     1.394793e+04\n",
       "Angola                      3.312503e+04\n",
       "Argentina                   1.279456e+05\n",
       "Armenia                     3.366565e+04\n",
       "Australia                   2.984042e+04\n",
       "Austria                     1.992088e+04\n",
       "Azerbaijan                  6.254471e+04\n",
       "Bangladesh                  2.760886e+06\n",
       "Belarus                     4.891118e+04\n",
       "Belgium                     5.743794e+03\n",
       "Benin                       1.678763e+04\n",
       "Bolivia                     6.009191e+04\n",
       "Bosnia and Herzegovina      1.672610e+04\n",
       "Botswana                    2.860916e+03\n",
       "Brazil                      1.628553e+05\n",
       "Bulgaria                    1.436782e+04\n",
       "Burkina Faso                2.543663e+04\n",
       "Burundi                     4.026585e+04\n",
       "Cambodia                    5.391885e+05\n",
       "Cameroon                    9.559905e+04\n",
       "Canada                      4.824191e+04\n",
       "Central African Republic    1.302822e+04\n",
       "Chad                        3.541472e+04\n",
       "Chile                       4.985328e+05\n",
       "China                       2.104771e+06\n",
       "Colombia                    8.248409e+05\n",
       "Congo, Dem. Rep.            2.746760e+05\n",
       "Congo, Rep.                 3.124324e+04\n",
       "Costa Rica                  2.846076e+04\n",
       "Croatia                     1.351019e+04\n",
       "                                ...     \n",
       "Romania                     7.050816e+04\n",
       "Russian Federation          5.806382e+05\n",
       "Rwanda                      4.590930e+04\n",
       "Senegal                     8.677083e+03\n",
       "Serbia                      5.117095e+04\n",
       "Sierra Leone                2.326146e+04\n",
       "Slovak Republic             1.353077e+04\n",
       "Slovenia                    7.359070e+03\n",
       "South Africa                8.785635e+04\n",
       "Spain                       6.102850e+04\n",
       "Sri Lanka                   2.183564e+04\n",
       "Sudan                       1.087260e+05\n",
       "Swaziland                   4.535734e+03\n",
       "Sweden                      1.440747e+03\n",
       "Syrian Arab Republic        5.161351e+04\n",
       "Tajikistan                  2.812898e+05\n",
       "Tanzania                    1.364150e+05\n",
       "Thailand                    7.081326e+05\n",
       "Togo                        1.237092e+04\n",
       "Turkey                      3.759318e+05\n",
       "Uganda                      1.085248e+05\n",
       "Ukraine                     1.553313e+05\n",
       "United Kingdom              4.883418e+04\n",
       "United States               9.935909e+05\n",
       "Uruguay                     1.660691e+03\n",
       "Uzbekistan                  3.866953e+05\n",
       "Venezuela, RB               8.711950e+04\n",
       "Vietnam                     1.924198e+06\n",
       "Yemen, Rep.                 9.452764e+04\n",
       "Zambia                      3.398746e+04\n",
       "dtype: float64"
      ]
     },
     "execution_count": 26,
     "metadata": {},
     "output_type": "execute_result"
    }
   ],
   "source": [
    "print(dfr1.ix[\"Bangladesh\"][[\"bcr\"]])\n",
    "print(dfr1.ix[\"Bangladesh\"][[\"bcr\"]])\n",
    "print(dfr2.ix[\"Bangladesh\"][[\"bcr\"]])\n",
    "dfr[\"average_aid_cost_pc\"]*dfr2[\"pop\"]"
   ]
  },
  {
   "cell_type": "markdown",
   "metadata": {},
   "source": [
    "## BC ratio with proportional and uniform transfers"
   ]
  },
  {
   "cell_type": "code",
   "execution_count": 27,
   "metadata": {
    "collapsed": false,
    "run_control": {
     "frozen": false,
     "read_only": false
    }
   },
   "outputs": [
    {
     "ename": "SyntaxError",
     "evalue": "invalid syntax (<ipython-input-27-6959c70861f5>, line 10)",
     "output_type": "error",
     "traceback": [
      "\u001b[1;36m  File \u001b[1;32m\"<ipython-input-27-6959c70861f5>\"\u001b[1;36m, line \u001b[1;32m10\u001b[0m\n\u001b[1;33m    no = compute_resilience(macro,cat_info,**args,optionPDS=\"no\")\u001b[0m\n\u001b[1;37m                                                 ^\u001b[0m\n\u001b[1;31mSyntaxError\u001b[0m\u001b[1;31m:\u001b[0m invalid syntax\n"
     ]
    }
   ],
   "source": [
    "modalities_and_color = dict(\n",
    "  #             no      =\"#386cb0\",\n",
    "  #              unif_all=\"#f0027f\",\n",
    "                unif_poor   =\"#beaed4\",\n",
    "                prop    =\"#7fc97f\",\n",
    "                            )\n",
    "fig=plt.figure(figsize=(8,8));\n",
    "ax = plt.gca();\n",
    "\n",
    "no = compute_resilience(macro,cat_info,**args,optionPDS=\"no\")\n",
    "dfr1,dfr1_iah = compute_resilience(macro,cat_info,**args,return_iah=True, optionPDS=\"unif_poor\", optionT=\"perfect\",optionB=\"one_per_affected\",fraction_inside=0)\n",
    "dfr2,dfr2_iah = compute_resilience(macro,cat_info,**args,return_iah=True, optionPDS=\"prop\", optionT=\"perfect\",optionB=\"one_per_affected\",fraction_inside=0)\n",
    "dfr1[\"bcr\"] = -(dfr1.dWpc_currency - no.dWpc_currency)/dfr1[\"average_aid_cost_pc\"]\n",
    "dfr2[\"bcr\"] = -(dfr2.dWpc_currency - no.dWpc_currency)/dfr2[\"average_aid_cost_pc\"]\n",
    "\n",
    "diff = dfr1[\"bcr\"] - dfr2[\"bcr\"]\n",
    "dfr2[\"diff\"]=diff\n",
    "\n",
    "dfr1.plot.scatter(x=\"gdp_pc_pp\", y=\"bcr\", color = 'blue', s=80, alpha=.63, ax=ax)\n",
    "dfr2.plot.scatter(x=\"gdp_pc_pp\", y=\"bcr\", color = 'red', s=80, alpha=.63, ax=ax)\n",
    "    \n",
    "print('Average (population weights) (unif_poor)',((dfr1[\"bcr\"]*dfr1[\"pop\"]).sum())/dfr1[\"pop\"].sum())\n",
    "print('Average (no weights) (unif_poor)',((dfr1[\"bcr\"].mean())))\n",
    "print('Countries where post-disaster support has BC ratio < 1 (unif_poor)')\n",
    "print((dfr1.query(\"bcr<1\")).bcr)\n",
    "    \n",
    "print('Average (population weights) (prop)',((dfr2[\"bcr\"]*dfr2[\"pop\"]).sum())/dfr2[\"pop\"].sum())\n",
    "print('Average (no weights) (prop)',((dfr2[\"bcr\"].mean())))\n",
    "print('Countries where post-disaster support has BC ratio < 1 (prop)')\n",
    "print((dfr2.query(\"bcr<1\")).bcr)\n",
    "    \n",
    "plt.legend(['Uniform transfer','Transfer proportional to losses'])\n",
    "plt.xlabel(\"GDP per capita\")\n",
    "plt.ylabel(\"Benefit-cost ratio\")\n",
    "plt.xlim(xmin=0)\n",
    "plt.ylim(ymax=8)\n",
    "plt.savefig(\"benefit-cost-ratio-post-disaster-support-one-dol-prop-and-unif.png\")"
   ]
  },
  {
   "cell_type": "markdown",
   "metadata": {},
   "source": [
    "# Exploring targeting errors further"
   ]
  },
  {
   "cell_type": "code",
   "execution_count": null,
   "metadata": {
    "collapsed": false,
    "run_control": {
     "frozen": false,
     "read_only": false
    }
   },
   "outputs": [],
   "source": [
    "listePDS = (\"no\",\"unif_all\",\"unif_poor\",\"prop\")\n",
    "listeT = (\"data\",\"perfect\",\"excl\",\"incl\") #,\"20\",\"incl\")\n",
    "couleur = (\"blue\",\"red\",\"green\",\"yellow\",\"purple\")\n",
    "plt.figure(figsize=(12,12))\n",
    "optionPDS=\"unif_poor\"\n",
    "ref = 100*compute_resilience(macro,cat_info,**args,optionPDS=\"no\").resilience\n",
    "#ref = 100*compute_resilience(macro,cat_info,**args,optionPDS=\"no\").resilience\n",
    "for option,coul in zip(listeT,couleur):\n",
    "    plt.scatter(results.gdp_pc_pp,100*compute_resilience(macro,cat_info,**args,optionPDS=\"prop\",optionT=option,optionB=\"data\").resilience-ref,color=coul,alpha=.7,s=50)\n",
    "plt.legend(listeT)\n",
    "plt.xlabel(\"GDP per capita\")\n",
    "plt.ylabel(\"resilience (%)\")\n",
    "plt.xlim(xmin=0)\n",
    "#plt.ylim(ymin=-50,ymax=50)"
   ]
  },
  {
   "cell_type": "code",
   "execution_count": null,
   "metadata": {
    "collapsed": false,
    "run_control": {
     "frozen": false,
     "read_only": false
    }
   },
   "outputs": [],
   "source": [
    "listePDS = (\"no\",\"unif_all\",\"unif_poor\",\"prop\")\n",
    "listeT = (\"data\",\"excl\",\"incl\") #,\"20\",\"incl\")\n",
    "couleur = (\"blue\",\"red\",\"green\",\"yellow\",\"purple\")\n",
    "plt.figure(figsize=(12,12))\n",
    "optionPDS=\"unif_poor\"\n",
    "ref = 100*compute_resilience(macro,cat_info,**args,optionPDS=\"unif_poor\",optionT=\"perfect\",optionB=\"unif_poor\").resilience\n",
    "for option,coul in zip(listeT,couleur):\n",
    "    plt.scatter(results.gdp_pc_pp,100*compute_resilience(macro,cat_info,**args,optionPDS=\"unif_poor\",optionT=option,optionB=\"unif_poor\").resilience-ref,color=coul,alpha=.7,s=50)\n",
    "plt.legend(listeT)\n",
    "plt.xlabel(\"GDP per capita\")\n",
    "plt.ylabel(\"resilience (%)\")\n",
    "plt.xlim(xmin=0)\n",
    "#plt.ylim(ymin=-50,ymax=50)"
   ]
  },
  {
   "cell_type": "code",
   "execution_count": null,
   "metadata": {
    "collapsed": false,
    "run_control": {
     "frozen": false,
     "read_only": false
    }
   },
   "outputs": [],
   "source": [
    "print('Resilience gains from $1 per capita of post-disaster support depend on exposure')\n",
    "plt.figure(figsize=(8,8))\n",
    "ax = plt.gca();\n",
    "no = compute_resilience(macro,cat_info,**args,optionPDS=\"no\")\n",
    "dfr = compute_resilience(macro,cat_info,**args,optionPDS=\"unif_poor\",optionT=\"perfect\",optionB=\"one\")\n",
    "dfr[\"Resiliencegains\"]= 100*(dfr.resilience - no.resilience)\n",
    "dfr[\"Exposure\"]=dfr.fa #np.log(dfr.fa)\n",
    "dfr[\"Resilience gains\"]=dfr[\"Resiliencegains\"]\n",
    "dfr.query(\"Resiliencegains>0\").plot.scatter(x=\"Exposure\", y=\"Resilience gains\",  s=80, alpha=.63, ax=ax, logy=True , logx= True)\n",
    "\n",
    "\n",
    "# note that resilience gains non correlated with risk to asset or to welfare\n",
    "\n",
    "import statsmodels.api as sm\n",
    "import statsmodels.formula.api as smf\n",
    "dfr[\"lr\"]=np.log(dfr.Resiliencegains)\n",
    "dfr[\"le\"]=np.log(dfr.Exposure)\n",
    "#lm = smf.ols(formula='Resiliencegains ~ Exposure', data=dfr).fit()\n",
    "lm = smf.ols(formula='lr ~ le', data=dfr).fit()\n",
    "# print the coefficients\n",
    "print(lm.summary())\n",
    "dfr[\"estrg\"]=np.exp(dfr[\"le\"]*lm.params[1] + lm.params[0]).dropna()\n",
    "#X_new = pd.DataFrame({'le':[0, 0.2]})\n",
    "#preds = lm.predict(dfr.le.values)\n",
    "#plt.figure(figsize=(8,8))\n",
    "dfr.plot(x=\"Exposure\", y=\"estrg\", c='red',  ax=ax, logy=True , logx= True)\n",
    "\n",
    "plt.xlim(-0.005,.025)\n",
    "plt.ylim(-0.5,10)"
   ]
  },
  {
   "cell_type": "markdown",
   "metadata": {
    "collapsed": false,
    "run_control": {
     "frozen": false,
     "read_only": false
    }
   },
   "source": [
    "## BC ratio with and without targeting errors - with $1 per inhabitant and proportional transfers"
   ]
  },
  {
   "cell_type": "code",
   "execution_count": null,
   "metadata": {
    "collapsed": false,
    "run_control": {
     "frozen": false,
     "read_only": false
    }
   },
   "outputs": [],
   "source": [
    "listeT = (\"x33\",\"excl\",\"incl\") #,\"20\",\"incl\")\n",
    "opt_leg = (\"33% error in targeting\", \"33% exclusion error\", \"33% inclusion error\")\n",
    "couleur = (\"red\",\"green\",\"yellow\",\"purple\")\n",
    "optionPDS = \"prop\"\n",
    "\n",
    "fig=plt.figure(figsize=(8,8));\n",
    "ax = plt.gca();\n",
    "\n",
    "no = compute_resilience(macro,cat_info,**args,optionPDS=\"no\")\n",
    "\n",
    "for option,coul in zip(listeT,couleur):\n",
    "    dfr1,dfr1_iah = compute_resilience(macro,cat_info,**args,return_iah=True, optionPDS=optionPDS, optionT=\"perfect\",optionB=\"one_per_affected\",fraction_inside=0)\n",
    "    dfr2,dfr2_iah = compute_resilience(macro,cat_info,**args,return_iah=True, optionPDS=optionPDS, optionT=option,optionB=\"one_per_affected\",fraction_inside=0)\n",
    "    dfr1[\"bcr\"] = -(dfr1.dWpc_currency - no.dWpc_currency)/dfr1[\"average_aid_cost_pc\"]\n",
    "    dfr2[\"bcr\"] = -(dfr2.dWpc_currency - no.dWpc_currency)/dfr2[\"average_aid_cost_pc\"]\n",
    "    dfr2[\"diff\"] = - dfr1[\"bcr\"] + dfr2[\"bcr\"]\n",
    "    dfr2.plot.scatter(x=\"gdp_pc_pp\", y=\"diff\", color = coul, s=80, alpha=.63, ax=ax)\n",
    "    print('Countries where cost of poor targeting > 25 cents a dollar')\n",
    "    print(dfr2.query(\"diff < -0.25\")[[\"diff\",\"bcr\"]])\n",
    "    #print(dfr.sort_values(\"bcr\",ascending=False).head(20)[\"bcr\"])\n",
    "    \n",
    "#print('Average (population weights) (unif_poor)',((dfr1[\"bcr\"]*dfr1[\"pop\"]).sum())/dfr1[\"pop\"].sum())\n",
    "#print('Average (no weights) (unif_poor)',((dfr1[\"bcr\"].mean())))\n",
    "#print('Countries where post-disaster support has BC ratio < 1 (unif_poor)')\n",
    "#print((dfr1.query(\"bcr<1\")).bcr)\n",
    "    \n",
    "#print('Average (population weights) (prop)',((dfr2[\"bcr\"]*dfr2[\"pop\"]).sum())/dfr2[\"pop\"].sum())\n",
    "#print('Average (no weights) (prop)',((dfr2[\"bcr\"].mean())))\n",
    "#print('Countries where post-disaster support has BC ratio < 1 (prop)')\n",
    "#print((dfr2.query(\"bcr<1\")).bcr)\n",
    "\n",
    "#print((dfr2.query(\"diff<0\"))[\"diff\"])\n",
    "\n",
    "#print(diff.mean())\n",
    "    \n",
    "plt.legend(opt_leg , loc=3)\n",
    "plt.title(\"Transfers proportional to losses\")\n",
    "plt.xlabel(\"GDP per capita\")\n",
    "plt.ylabel(\"Difference in benefit-cost ratio\")\n",
    "plt.savefig(\"benefit-cost-ratio-targeting-error_prop.png\")"
   ]
  },
  {
   "cell_type": "markdown",
   "metadata": {},
   "source": [
    "## BC ratio with and without targeting errors - with $1 per inhabitant and uniform transfers\n"
   ]
  },
  {
   "cell_type": "code",
   "execution_count": null,
   "metadata": {
    "collapsed": false,
    "run_control": {
     "frozen": false,
     "read_only": false
    }
   },
   "outputs": [],
   "source": [
    "listeT = (\"x33\",\"excl\",\"incl\") #,\"20\",\"incl\")\n",
    "opt_leg = (\"33% error in targeting\", \"33% exclusion error\", \"33% inclusion error\")\n",
    "couleur = (\"red\",\"green\",\"yellow\",\"purple\")\n",
    "optionPDS = \"unif_poor\"\n",
    "\n",
    "fig=plt.figure(figsize=(8,8));\n",
    "ax = plt.gca();\n",
    "\n",
    "no = compute_resilience(macro,cat_info,**args,optionPDS=\"no\")\n",
    "\n",
    "for option,coul in zip(listeT,couleur):\n",
    "    dfr1,dfr1_iah = compute_resilience(macro,cat_info,**args,return_iah=True, optionPDS=optionPDS, optionT=\"perfect\",optionB=\"one_per_affected\",fraction_inside=0)\n",
    "    dfr2,dfr2_iah = compute_resilience(macro,cat_info,**args,return_iah=True, optionPDS=optionPDS, optionT=option,optionB=\"one_per_affected\",fraction_inside=0)\n",
    "    dfr1[\"bcr\"] = -(dfr1.dWpc_currency - no.dWpc_currency)/dfr1[\"average_aid_cost_pc\"]\n",
    "    dfr2[\"bcr\"] = -(dfr2.dWpc_currency - no.dWpc_currency)/dfr2[\"average_aid_cost_pc\"]\n",
    "    dfr2[\"diff\"] = - dfr1[\"bcr\"] + dfr2[\"bcr\"]\n",
    "    dfr2.plot.scatter(x=\"gdp_pc_pp\", y=\"diff\", color = coul, s=80, alpha=.63, ax=ax)\n",
    "    print('Countries where cost of poor targeting > 25 cents a dollar')\n",
    "    print(dfr2.query(\"diff < -0.25\")[[\"diff\",\"bcr\"]])\n",
    "    \n",
    "#print('Average (population weights) (unif_poor)',((dfr1[\"bcr\"]*dfr1[\"pop\"]).sum())/dfr1[\"pop\"].sum())\n",
    "#print('Average (no weights) (unif_poor)',((dfr1[\"bcr\"].mean())))\n",
    "#print('Countries where post-disaster support has BC ratio < 1 (unif_poor)')\n",
    "#print((dfr1.query(\"bcr<1\")).bcr)\n",
    "    \n",
    "#print('Average (population weights) (prop)',((dfr2[\"bcr\"]*dfr2[\"pop\"]).sum())/dfr2[\"pop\"].sum())\n",
    "#print('Average (no weights) (prop)',((dfr2[\"bcr\"].mean())))\n",
    "#print('Countries where post-disaster support has BC ratio < 1 (prop)')\n",
    "#print((dfr2.query(\"bcr<1\")).bcr)\n",
    "\n",
    "#print((dfr2.query(\"diff<0\"))[\"diff\"])\n",
    "\n",
    "#print(diff.mean())\n",
    "    \n",
    "plt.legend(opt_leg , loc=3)\n",
    "plt.xlabel(\"GDP per capita\")\n",
    "plt.ylabel(\"Difference in benefit-cost ratio\")\n",
    "plt.title(\"Uniform transfers\")\n",
    "plt.savefig(\"benefit-cost-ratio-targeting-error_uf.png\")\n"
   ]
  },
  {
   "cell_type": "markdown",
   "metadata": {},
   "source": [
    "## Comparing BC ratio with and without targeting errors with $1 per affect person"
   ]
  },
  {
   "cell_type": "code",
   "execution_count": null,
   "metadata": {
    "collapsed": false,
    "run_control": {
     "frozen": false,
     "read_only": false
    }
   },
   "outputs": [],
   "source": [
    "listeT = (\"x33\",\"excl\",\"incl\") #,\"20\",\"incl\")\n",
    "opt_leg = (\"33% error in targeting\", \"33% exclusion error\", \"33% inclusion error\")\n",
    "couleur = (\"red\",\"green\",\"yellow\",\"purple\")\n",
    "listPDS = (\"prop\",\"unif_poor\")\n",
    "\n",
    "fig=plt.figure(figsize=(8,8));\n",
    "ax = plt.gca();\n",
    "\n",
    "no = compute_resilience(macro,cat_info,**args,optionPDS=\"no\")\n",
    "\n",
    "for optionPDS in listPDS:\n",
    "    for option,coul in zip(listeT,couleur):\n",
    "        dfr1,dfr1_iah = compute_resilience(macro,cat_info,**args,return_iah=True, optionPDS=optionPDS, optionT=\"perfect\",optionB=\"one_per_affected\",fraction_inside=0)\n",
    "        dfr2,dfr2_iah = compute_resilience(macro,cat_info,**args,return_iah=True, optionPDS=optionPDS, optionT=option,optionB=\"one_per_affected\",fraction_inside=0)\n",
    "        dfr1[\"bcr\"] = -(dfr1.dWpc_currency - no.dWpc_currency)/dfr1[\"average_aid_cost_pc\"]\n",
    "        dfr2[\"bcr\"] = -(dfr2.dWpc_currency - no.dWpc_currency)/dfr2[\"average_aid_cost_pc\"]\n",
    "        dfr2[\"diff\"] = - dfr1[\"bcr\"] + dfr2[\"bcr\"]\n",
    "        plt.scatter(dfr1[\"bcr\"], dfr2[\"bcr\"], color = coul, s=80, alpha=.63)\n",
    "#        print('Countries where cost of poor targeting > 25 cents a dollar')\n",
    "#        print(dfr2.query(\"diff < -0.25\")[[\"diff\",\"bcr\"]])\n",
    "    \n",
    "#print('Average (population weights) (unif_poor)',((dfr1[\"bcr\"]*dfr1[\"pop\"]).sum())/dfr1[\"pop\"].sum())\n",
    "#print('Average (no weights) (unif_poor)',((dfr1[\"bcr\"].mean())))\n",
    "#print('Countries where post-disaster support has BC ratio < 1 (unif_poor)')\n",
    "#print((dfr1.query(\"bcr<1\")).bcr)\n",
    "    \n",
    "#print('Average (population weights) (prop)',((dfr2[\"bcr\"]*dfr2[\"pop\"]).sum())/dfr2[\"pop\"].sum())\n",
    "#print('Average (no weights) (prop)',((dfr2[\"bcr\"].mean())))\n",
    "#print('Countries where post-disaster support has BC ratio < 1 (prop)')\n",
    "#print((dfr2.query(\"bcr<1\")).bcr)\n",
    "\n",
    "#print((dfr2.query(\"diff<0\"))[\"diff\"])\n",
    "\n",
    "#print(diff.mean())\n",
    "    \n",
    "plt.legend(opt_leg , loc=1)\n",
    "plt.xlabel(\"Benefit-cost ratio with perfect targeting\")\n",
    "plt.ylabel(\"Benefit-cost ratio with targeting error\")\n",
    "plt.savefig(\"benefit-cost-ratio-targeting-error.png\")\n"
   ]
  },
  {
   "cell_type": "markdown",
   "metadata": {},
   "source": [
    "## Comparing BC ratio with and without targeting errors with current transfers"
   ]
  },
  {
   "cell_type": "code",
   "execution_count": null,
   "metadata": {
    "collapsed": false,
    "run_control": {
     "frozen": false,
     "read_only": false
    }
   },
   "outputs": [],
   "source": [
    "listeT = (\"x33\",\"excl\",\"incl\") #,\"20\",\"incl\")\n",
    "opt_leg = (\"33% error in targeting\", \"33% exclusion error\", \"33% inclusion error\")\n",
    "couleur = (\"red\",\"green\",\"yellow\",\"purple\")\n",
    "listPDS = (\"prop\",\"unif_poor\")\n",
    "\n",
    "fig=plt.figure(figsize=(8,8));\n",
    "ax = plt.gca();\n",
    "\n",
    "no = compute_resilience(macro,cat_info,optionPDS=\"no\",**args)\n",
    "\n",
    "for optionPDS in listPDS:\n",
    "    for option,coul in zip(listeT,couleur):\n",
    "        dfr1,dfr1_iah = compute_resilience(macro,cat_info,return_iah=True, optionPDS=optionPDS, optionT=\"perfect\",optionB=\"data\",fraction_inside=0,**args)\n",
    "        dfr2,dfr2_iah = compute_resilience(macro,cat_info,return_iah=True, optionPDS=optionPDS, optionT=option,optionB=\"data\",fraction_inside=0,**args)\n",
    "        dfr1[\"bcr\"] = -(dfr1.dWpc_currency - no.dWpc_currency)/dfr1[\"average_aid_cost_pc\"]\n",
    "        dfr2[\"bcr\"] = -(dfr2.dWpc_currency - no.dWpc_currency)/dfr2[\"average_aid_cost_pc\"]\n",
    "        dfr2[\"diff\"] = - dfr1[\"bcr\"] + dfr2[\"bcr\"]\n",
    "        plt.scatter(dfr1[\"bcr\"], dfr2[\"bcr\"], color = coul, s=80, alpha=.63)\n",
    "#        print('Countries where cost of poor targeting > 25 cents a dollar')\n",
    "#        print(dfr2.query(\"diff < -0.25\")[[\"diff\",\"bcr\"]])\n",
    "    \n",
    "#print('Average (population weights) (unif_poor)',((dfr1[\"bcr\"]*dfr1[\"pop\"]).sum())/dfr1[\"pop\"].sum())\n",
    "#print('Average (no weights) (unif_poor)',((dfr1[\"bcr\"].mean())))\n",
    "#print('Countries where post-disaster support has BC ratio < 1 (unif_poor)')\n",
    "#print((dfr1.query(\"bcr<1\")).bcr)\n",
    "    \n",
    "#print('Average (population weights) (prop)',((dfr2[\"bcr\"]*dfr2[\"pop\"]).sum())/dfr2[\"pop\"].sum())\n",
    "#print('Average (no weights) (prop)',((dfr2[\"bcr\"].mean())))\n",
    "#print('Countries where post-disaster support has BC ratio < 1 (prop)')\n",
    "#print((dfr2.query(\"bcr<1\")).bcr)\n",
    "\n",
    "#print((dfr2.query(\"diff<0\"))[\"diff\"])\n",
    "\n",
    "#print(diff.mean())\n",
    "    \n",
    "plt.legend(opt_leg , loc=1)\n",
    "plt.xlabel(\"Benefit-cost ratio with perfect targeting\")\n",
    "plt.ylabel(\"Benefit-cost ratio with targeting error\")\n",
    "plt.savefig(\"benefit-cost-ratio-targeting-error.png\")\n"
   ]
  },
  {
   "cell_type": "code",
   "execution_count": null,
   "metadata": {
    "collapsed": true,
    "run_control": {
     "frozen": false,
     "read_only": false
    }
   },
   "outputs": [],
   "source": [
    "## Comparing BC ratio with and without targeting errors with large transfers (5% of GDP)"
   ]
  },
  {
   "cell_type": "code",
   "execution_count": null,
   "metadata": {
    "collapsed": false,
    "run_control": {
     "frozen": false,
     "read_only": false
    }
   },
   "outputs": [],
   "source": [
    "listeT = (\"x33\",\"excl\",\"incl\") #,\"20\",\"incl\")\n",
    "opt_leg = (\"33% error in targeting\", \"33% exclusion error\", \"33% inclusion error\")\n",
    "couleur = (\"red\",\"green\",\"yellow\",\"purple\")\n",
    "listPDS = (\"one\")\n",
    "optionB = \"x05\"\n",
    "fig=plt.figure(figsize=(8,8));\n",
    "ax = plt.gca();\n",
    "\n",
    "no = compute_resilience(macro,cat_info,**args,optionPDS=\"no\")\n",
    "\n",
    "for option,coul in zip(listeT,couleur):\n",
    "    dfr1,dfr1_iah = compute_resilience(macro,cat_info,**args,return_iah=True, optionPDS=\"unif_poor\", optionT=\"perfect\",optionB=optionB,fraction_inside=0)\n",
    "    dfr2,dfr2_iah = compute_resilience(macro,cat_info,**args,return_iah=True, optionPDS=\"unif_poor\", optionT=option,optionB=optionB,fraction_inside=0)\n",
    "    dfr1[\"bcr\"] = -(dfr1.dWpc_currency - no.dWpc_currency)/dfr1[\"average_aid_cost_pc\"]\n",
    "    dfr2[\"bcr\"] = -(dfr2.dWpc_currency - no.dWpc_currency)/dfr2[\"average_aid_cost_pc\"]\n",
    "    dfr2[\"diff\"] = - dfr1[\"bcr\"] + dfr2[\"bcr\"]\n",
    "    plt.scatter(dfr1[\"bcr\"], dfr2[\"bcr\"], color = coul, s=80, alpha=.63)\n",
    "#        print('Countries where cost of poor targeting > 25 cents a dollar')\n",
    "#        print(dfr2.query(\"diff < -0.25\")[[\"diff\",\"bcr\"]])\n",
    "    \n",
    "#print('Average (population weights) (unif_poor)',((dfr1[\"bcr\"]*dfr1[\"pop\"]).sum())/dfr1[\"pop\"].sum())\n",
    "#print('Average (no weights) (unif_poor)',((dfr1[\"bcr\"].mean())))\n",
    "#print('Countries where post-disaster support has BC ratio < 1 (unif_poor)')\n",
    "#print((dfr1.query(\"bcr<1\")).bcr)\n",
    "    \n",
    "#print('Average (population weights) (prop)',((dfr2[\"bcr\"]*dfr2[\"pop\"]).sum())/dfr2[\"pop\"].sum())\n",
    "#print('Average (no weights) (prop)',((dfr2[\"bcr\"].mean())))\n",
    "#print('Countries where post-disaster support has BC ratio < 1 (prop)')\n",
    "#print((dfr2.query(\"bcr<1\")).bcr)\n",
    "\n",
    "#print((dfr2.query(\"diff<0\"))[\"diff\"])\n",
    "\n",
    "#print(diff.mean())\n",
    "    \n",
    "plt.legend(opt_leg , loc=1)\n",
    "plt.xlabel(\"Benefit-cost ratio with perfect targeting\")\n",
    "plt.ylabel(\"Benefit-cost ratio with targeting error\")\n",
    "plt.savefig(\"benefit-cost-ratio-targeting-error-big.png\")\n"
   ]
  },
  {
   "cell_type": "code",
   "execution_count": null,
   "metadata": {
    "collapsed": true,
    "run_control": {
     "frozen": false,
     "read_only": false
    }
   },
   "outputs": [],
   "source": []
  },
  {
   "cell_type": "markdown",
   "metadata": {
    "collapsed": true,
    "run_control": {
     "frozen": false,
     "read_only": false
    }
   },
   "source": [
    "# Double dividend"
   ]
  },
  {
   "cell_type": "code",
   "execution_count": null,
   "metadata": {
    "collapsed": false,
    "run_control": {
     "frozen": false,
     "read_only": false
    }
   },
   "outputs": [],
   "source": [
    "ddiv = pd.read_csv(\"T_all (2).csv\").dropna()\n",
    "ddiv.sample(n=10)"
   ]
  },
  {
   "cell_type": "code",
   "execution_count": null,
   "metadata": {
    "collapsed": false,
    "run_control": {
     "frozen": false,
     "read_only": false
    }
   },
   "outputs": [],
   "source": [
    "from fancy_plots import spine_and_ticks"
   ]
  },
  {
   "cell_type": "code",
   "execution_count": null,
   "metadata": {
    "collapsed": false,
    "run_control": {
     "frozen": false,
     "read_only": false
    },
    "scrolled": true
   },
   "outputs": [],
   "source": [
    "ddiv2 = ddiv.sort_values(\"proba\")\n",
    "\n",
    "#removes crazy point at p==0\n",
    "ddiv2.ix[ddiv2.proba==0,[\"W1_rel\",\"Weq_rel\",\"Wopt_rel\"]]=np.nan\n",
    "\n",
    "ddiv2[\"proba\"]   *=100\n",
    "ddiv2[\"W1_rel\"]  *=100\n",
    "ddiv2[\"Weq_rel\"] *=100\n",
    "ddiv2[\"Wopt_rel\"]*=100\n",
    "\n",
    "fig, axarr = plt.subplots(1,3, figsize=(12,4) , sharey=True)\n",
    "\n",
    "l=0\n",
    "\n",
    "for r_fig in [0.04,0.08,0.12]:\n",
    "        for eta_fig,col in zip([1.5,0.5],[ \"#377eb8\",\"#4daf4a\"] ):#\"#984ea3\"\n",
    "                ddiv2[\"eta_fig\"]=eta_fig\n",
    "                ddiv2[\"r_fig\"]=r_fig\n",
    "                cond = \"(r==r_fig)&(eta==eta_fig)&(insu==0)&(v==0.25)\"\n",
    "                ddiv2.query(cond).plot(x=\"proba\",y=\"Wopt_rel\", ax=axarr[l],color=col, linewidth=2)\n",
    "\n",
    "        ddiv2.query(cond).plot(x=\"proba\",y=\"Weq_rel\", ax=axarr[l] ,color=\"#e41a1c\", linewidth=2)\n",
    "        ddiv2.query(cond).plot(x=\"proba\",y=\"W1_rel\",style=\"--\", ax=axarr[l]  ,color=\"black\",  linewidth=2)\n",
    "        \n",
    "        #cond2 = \"(r==r_fig)&(eta==eta_fig)&(insu==0.5)&(v==0.25)\"\n",
    "        #ddiv2.query(cond2).plot(x=\"proba\",y=\"Wopt_rel\", ax=axarr[k])\n",
    "        #cond3 = \"(r==r_fig)&(eta==eta_fig)&(insu==0)&(v==0.125)\"\n",
    "        #ddiv2.query(cond3).plot(x=\"proba\",y=\"Wopt_rel\", ax=axarr[k])\n",
    "        axarr[l].legend_.remove()\n",
    "        axarr[l].set_ylim(ymin=95,ymax=120)        \n",
    "#         axarr[l].set_title(\"r={r:.0%}\".format(r=r_fig), **font)\n",
    "        axarr[l].set_xlabel(\"Probability (% per year)\")\n",
    "        axarr[l].set_ylabel(\"Expected consumption\")\n",
    "        \n",
    "#         axarr[l].vlines(x=2,\n",
    "#                         ymin=100,linestyles =\"dotted\",\n",
    "#                         ymax=ddiv2.query(\"(r==r_fig)&(eta==1.5)&(insu==0)&(v==0.25)&(proba==2)\").Wopt_rel.mean(),\n",
    "#                         color=\"#cccccc\")\n",
    "                           \n",
    "#         axarr[l].hlines(xmin=2,\n",
    "#                         xmax=10,\n",
    "#                         y=100,linestyles =\"dotted\",\n",
    "#                         color=\"#cccccc\")                   \n",
    "                           \n",
    "        spine_and_ticks(axarr[l])\n",
    "\n",
    "        l += 1\n",
    "\n",
    "        \n",
    "\n",
    "\n",
    "axarr[0].legend([\"Investment response (High risk aversion, $\\eta=1.5$)\", \n",
    "                 \"Investment response (Low risk aversion, $\\eta=0.5$)\",\n",
    "                \"Investment response (No risk aversion, $\\eta=0$)\",\n",
    "                \"No investment response, avoided losses only\",\n",
    "    ],\n",
    "                bbox_to_anchor=(0, -0.7, 1, .102), loc=3,\n",
    "           ncol=1, mode=\"expand\", borderaxespad=0, frameon=False, prop=font)\n",
    "#axarr[0,0:2].legend([\"Expected consumption with avoided losses only\",\"Expected consumption with investment response (no risk aversion)\",\"Expected consumption with investment response (risk aversion)\"],bbox_to_anchor=(0., 1.22, 1., .102), loc=3,ncol=1, mode=\"expand\", borderaxespad=0.)\n",
    "\n",
    "plt.savefig(\"img/benefit_DRM_proba.png\", bbox_inches=\"tight\")\n",
    "plt.savefig(\"img/benefit_DRM_proba.pdf\", bbox_inches=\"tight\")\n",
    "\n"
   ]
  },
  {
   "cell_type": "code",
   "execution_count": null,
   "metadata": {
    "collapsed": false,
    "run_control": {
     "frozen": false,
     "read_only": false
    }
   },
   "outputs": [],
   "source": [
    "r_fig = .08\n",
    "\n",
    "fig, axarr = plt.subplots(1,1, figsize=(7,7) , sharey=True)\n",
    "axarr = [axarr]\n",
    "l=0\n",
    "\n",
    "for eta_fig,col in zip([1.5,0.5],[ \"#377eb8\",\"#4daf4a\"] ):#\"#984ea3\"\n",
    "        ddiv2[\"eta_fig\"]=eta_fig\n",
    "        ddiv2[\"r_fig\"]=r_fig\n",
    "        cond = \"(r==r_fig)&(eta==eta_fig)&(insu==0)&(v==0.25)\"\n",
    "        ddiv2.query(cond).plot(x=\"proba\",y=\"Wopt_rel\", ax=axarr[l],color=col, linewidth=2)\n",
    "\n",
    "ddiv2.query(cond).plot(x=\"proba\",y=\"Weq_rel\", ax=axarr[l] ,color=\"#e41a1c\", linewidth=2)\n",
    "ddiv2.query(cond).plot(x=\"proba\",y=\"W1_rel\",style=\"--\", ax=axarr[l]  ,color=\"black\",  linewidth=2)\n",
    "\n",
    "#cond2 = \"(r==r_fig)&(eta==eta_fig)&(insu==0.5)&(v==0.25)\"\n",
    "#ddiv2.query(cond2).plot(x=\"proba\",y=\"Wopt_rel\", ax=axarr[k])\n",
    "#cond3 = \"(r==r_fig)&(eta==eta_fig)&(insu==0)&(v==0.125)\"\n",
    "#ddiv2.query(cond3).plot(x=\"proba\",y=\"Wopt_rel\", ax=axarr[k])\n",
    "axarr[l].legend_.remove()\n",
    "axarr[l].set_ylim(ymin=95,ymax=120)        \n",
    "#         axarr[l].set_title(\"r={r:.0%}\".format(r=r_fig), **font)\n",
    "axarr[l].set_xlabel(\"Probability (% per year)\")\n",
    "axarr[l].set_ylabel(\"Expected consumption\")\n",
    "\n",
    "\n",
    "axarr[0].legend([\"Investment response (High risk aversion)\", \n",
    "                 \"Investment response (Low risk aversion)\",\n",
    "                \"Investment response (No risk aversion)\",\n",
    "                \"No investment response, avoided losses only\",\n",
    "    ],\n",
    "#                 bbox_to_anchor=(0, -0.7, 1, .102),\n",
    "                loc=1,\n",
    "           ncol=1, mode=\"expand\", borderaxespad=0, frameon=False, prop=font)\n",
    "#axarr[0,0:2].legend([\"Expected consumption with avoided losses only\",\"Expected consumption with investment response (no risk aversion)\",\"Expected consumption with investment response (risk aversion)\"],bbox_to_anchor=(0., 1.22, 1., .102), loc=3,ncol=1, mode=\"expand\", borderaxespad=0.)\n",
    "\n",
    "spine_and_ticks(axarr[l])\n",
    "\n",
    "plt.tight_layout()\n",
    "\n",
    "plt.savefig(\"img/benefit_DRM_proba_08.png\", bbox_inches=\"tight\")\n",
    "plt.savefig(\"img/benefit_DRM_proba_08.pdf\", bbox_inches=\"tight\")\n"
   ]
  },
  {
   "cell_type": "code",
   "execution_count": null,
   "metadata": {
    "collapsed": false,
    "run_control": {
     "frozen": false,
     "read_only": false
    }
   },
   "outputs": [],
   "source": [
    "fig=plt.figure(figsize=(8,8));\n",
    "ax = plt.gca();\n",
    "ddiv2[\"p_before\"] = 0.1*100\n",
    "ddiv2[\"p_after\"] = 0.02*100\n",
    "cond = \"(insu==0)&(v==0.25)&((proba==p_after))\"\n",
    "ddiv3 = ddiv2.query(cond).set_index(\"proba\").rename({0.02: \"after\", 0.10:\"before\"})\n",
    "ddiv3[\"Before\"]=100\n",
    "ddiv3[\"No risk aversion\"] =  (ddiv3[\"Weq_rel\"]-ddiv3[\"Before\"]) / (ddiv3[\"W1_rel\"]-ddiv3[\"Before\"])\n",
    "ddiv3[\"Risk aversion\"] =  (ddiv3[\"Wopt_rel\"]-ddiv3[\"Before\"]) / (ddiv3[\"W1_rel\"]-ddiv3[\"Before\"])\n",
    "ddiv3.boxplot([\"No risk aversion\",\"Risk aversion\"],ax=ax)\n",
    "plt.savefig(\"img/benefit_DRM_10_to_2.png\")\n",
    "ddiv3"
   ]
  },
  {
   "cell_type": "code",
   "execution_count": null,
   "metadata": {
    "collapsed": false,
    "run_control": {
     "frozen": false,
     "read_only": false
    }
   },
   "outputs": [],
   "source": [
    "ddiv3.set_index([\"r\",\"eta\"])"
   ]
  },
  {
   "cell_type": "code",
   "execution_count": null,
   "metadata": {
    "collapsed": true,
    "run_control": {
     "frozen": false,
     "read_only": false
    }
   },
   "outputs": [],
   "source": []
  }
 ],
 "metadata": {
  "kernelspec": {
   "display_name": "Python [default]",
   "language": "python",
   "name": "python3"
  },
  "language_info": {
   "codemirror_mode": {
    "name": "ipython",
    "version": 3
   },
   "file_extension": ".py",
   "mimetype": "text/x-python",
   "name": "python",
   "nbconvert_exporter": "python",
   "pygments_lexer": "ipython3",
   "version": "3.5.2"
  },
  "nav_menu": {},
  "toc": {
   "colors": {
    "hover_highlight": "#DAA520",
    "navigate_num": "#000000",
    "navigate_text": "#333333",
    "running_highlight": "#FF0000",
    "selected_highlight": "#FFD700",
    "sidebar_border": "#EEEEEE",
    "wrapper_background": "#FFFFFF"
   },
   "moveMenuLeft": true,
   "nav_menu": {
    "height": "416px",
    "width": "252px"
   },
   "navigate_menu": true,
   "number_sections": true,
   "sideBar": true,
   "threshold": 4,
   "toc_cell": false,
   "toc_section_display": "block",
   "toc_window_display": true,
   "widenNotebook": false
  },
  "toc_position": {
   "height": "753px",
   "left": "0px",
   "right": "1231px",
   "top": "107px",
   "width": "369px"
  }
 },
 "nbformat": 4,
 "nbformat_minor": 0
}
