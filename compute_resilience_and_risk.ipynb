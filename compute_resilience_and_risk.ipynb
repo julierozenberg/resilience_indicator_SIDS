{
 "cells": [
  {
   "cell_type": "code",
   "execution_count": 1,
   "metadata": {
    "collapsed": false,
    "run_control": {
     "frozen": false,
     "read_only": false
    }
   },
   "outputs": [],
   "source": [
    "%reset-f\n",
    "%load_ext autoreload\n",
    "%autoreload 2"
   ]
  },
  {
   "cell_type": "code",
   "execution_count": 2,
   "metadata": {
    "collapsed": false,
    "run_control": {
     "frozen": false,
     "read_only": false
    }
   },
   "outputs": [],
   "source": [
    "from res_ind_lib import *\n",
    "\n",
    "from sorted_nicely import *\n",
    "from replace_with_warning import *\n",
    "\n",
    "import os, time\n",
    "import warnings\n",
    "warnings.filterwarnings(\"always\",category=UserWarning)"
   ]
  },
  {
   "cell_type": "code",
   "execution_count": 3,
   "metadata": {
    "collapsed": true,
    "run_control": {
     "frozen": false,
     "read_only": false
    }
   },
   "outputs": [],
   "source": [
    "import numpy as np\n",
    "import pandas as pd\n",
    "\n",
    "#Pandas display options\n",
    "# pd.set_option('display.max_colwidth', 200)\n",
    "# pd.set_option('display.width', 200)\n",
    "# pd.set_option('display.precision', 10)\n",
    "# pd.set_option('display.max_rows', 500)\n",
    "\n",
    "import matplotlib.pylab as plt\n",
    "%matplotlib inline\n",
    "font = {'family' : 'serif',\n",
    "    'weight' : 'normal',\n",
    "    'size'   : 15}\n",
    "plt.rc('font', **font)"
   ]
  },
  {
   "cell_type": "code",
   "execution_count": 4,
   "metadata": {
    "collapsed": true,
    "run_control": {
     "frozen": false,
     "read_only": false
    }
   },
   "outputs": [],
   "source": [
    "economy = \"country\" #province, deparmtent\n",
    "event_level = [economy, \"hazard\", \"rp\"]"
   ]
  },
  {
   "cell_type": "markdown",
   "metadata": {},
   "source": [
    "# read "
   ]
  },
  {
   "cell_type": "code",
   "execution_count": 5,
   "metadata": {
    "collapsed": false,
    "run_control": {
     "frozen": false,
     "read_only": false
    }
   },
   "outputs": [
    {
     "data": {
      "text/html": [
       "<div>\n",
       "<table border=\"1\" class=\"dataframe\">\n",
       "  <thead>\n",
       "    <tr style=\"text-align: right;\">\n",
       "      <th></th>\n",
       "      <th>gdp_pc_pp</th>\n",
       "      <th>pop</th>\n",
       "      <th>urbanization_rate</th>\n",
       "      <th>prepare_scaleup</th>\n",
       "      <th>borrow_abi</th>\n",
       "      <th>avg_prod_k</th>\n",
       "      <th>T_rebuild_K</th>\n",
       "      <th>pi</th>\n",
       "      <th>income_elast</th>\n",
       "      <th>rho</th>\n",
       "      <th>shareable</th>\n",
       "      <th>max_increased_spending</th>\n",
       "      <th>fa_glofris</th>\n",
       "      <th>protection</th>\n",
       "      <th>tau_tax</th>\n",
       "    </tr>\n",
       "    <tr>\n",
       "      <th>country</th>\n",
       "      <th></th>\n",
       "      <th></th>\n",
       "      <th></th>\n",
       "      <th></th>\n",
       "      <th></th>\n",
       "      <th></th>\n",
       "      <th></th>\n",
       "      <th></th>\n",
       "      <th></th>\n",
       "      <th></th>\n",
       "      <th></th>\n",
       "      <th></th>\n",
       "      <th></th>\n",
       "      <th></th>\n",
       "      <th></th>\n",
       "    </tr>\n",
       "  </thead>\n",
       "  <tbody>\n",
       "    <tr>\n",
       "      <th>Mongolia</th>\n",
       "      <td>9132.305704</td>\n",
       "      <td>2839073.0</td>\n",
       "      <td>0.72040</td>\n",
       "      <td>0.533333</td>\n",
       "      <td>0.566667</td>\n",
       "      <td>0.207675</td>\n",
       "      <td>3</td>\n",
       "      <td>0.2</td>\n",
       "      <td>1.5</td>\n",
       "      <td>0.06</td>\n",
       "      <td>0.8</td>\n",
       "      <td>0.05</td>\n",
       "      <td>0.047108</td>\n",
       "      <td>1.0</td>\n",
       "      <td>0.196383</td>\n",
       "    </tr>\n",
       "    <tr>\n",
       "      <th>Bangladesh</th>\n",
       "      <td>2853.447740</td>\n",
       "      <td>156594962.0</td>\n",
       "      <td>0.34277</td>\n",
       "      <td>0.733333</td>\n",
       "      <td>0.616667</td>\n",
       "      <td>0.289709</td>\n",
       "      <td>3</td>\n",
       "      <td>0.2</td>\n",
       "      <td>1.5</td>\n",
       "      <td>0.06</td>\n",
       "      <td>0.8</td>\n",
       "      <td>0.05</td>\n",
       "      <td>0.220012</td>\n",
       "      <td>1.0</td>\n",
       "      <td>0.055500</td>\n",
       "    </tr>\n",
       "  </tbody>\n",
       "</table>\n",
       "</div>"
      ],
      "text/plain": [
       "              gdp_pc_pp          pop  urbanization_rate  prepare_scaleup  \\\n",
       "country                                                                    \n",
       "Mongolia    9132.305704    2839073.0            0.72040         0.533333   \n",
       "Bangladesh  2853.447740  156594962.0            0.34277         0.733333   \n",
       "\n",
       "            borrow_abi  avg_prod_k  T_rebuild_K   pi  income_elast   rho  \\\n",
       "country                                                                    \n",
       "Mongolia      0.566667    0.207675            3  0.2           1.5  0.06   \n",
       "Bangladesh    0.616667    0.289709            3  0.2           1.5  0.06   \n",
       "\n",
       "            shareable  max_increased_spending  fa_glofris  protection  \\\n",
       "country                                                                 \n",
       "Mongolia          0.8                    0.05    0.047108         1.0   \n",
       "Bangladesh        0.8                    0.05    0.220012         1.0   \n",
       "\n",
       "             tau_tax  \n",
       "country               \n",
       "Mongolia    0.196383  \n",
       "Bangladesh  0.055500  "
      ]
     },
     "execution_count": 5,
     "metadata": {},
     "output_type": "execute_result"
    }
   ],
   "source": [
    "macro = pd.read_csv(\"intermediate/macro.csv\", index_col=economy).dropna()\n",
    "macro.sample(n=2)"
   ]
  },
  {
   "cell_type": "code",
   "execution_count": 6,
   "metadata": {
    "collapsed": false,
    "run_control": {
     "frozen": false,
     "read_only": false
    }
   },
   "outputs": [
    {
     "data": {
      "text/html": [
       "<div>\n",
       "<table border=\"1\" class=\"dataframe\">\n",
       "  <thead>\n",
       "    <tr style=\"text-align: right;\">\n",
       "      <th></th>\n",
       "      <th></th>\n",
       "      <th>n</th>\n",
       "      <th>c</th>\n",
       "      <th>axfin</th>\n",
       "      <th>gamma_SP</th>\n",
       "      <th>k</th>\n",
       "      <th>fa</th>\n",
       "      <th>v</th>\n",
       "      <th>shew</th>\n",
       "    </tr>\n",
       "    <tr>\n",
       "      <th>country</th>\n",
       "      <th>income_cat</th>\n",
       "      <th></th>\n",
       "      <th></th>\n",
       "      <th></th>\n",
       "      <th></th>\n",
       "      <th></th>\n",
       "      <th></th>\n",
       "      <th></th>\n",
       "      <th></th>\n",
       "    </tr>\n",
       "  </thead>\n",
       "  <tbody>\n",
       "    <tr>\n",
       "      <th>Tajikistan</th>\n",
       "      <th>nonpoor</th>\n",
       "      <td>0.8</td>\n",
       "      <td>2785.76942</td>\n",
       "      <td>0.004779</td>\n",
       "      <td>1.060961</td>\n",
       "      <td>7391.935367</td>\n",
       "      <td>0.103046</td>\n",
       "      <td>0.125978</td>\n",
       "      <td>0.48</td>\n",
       "    </tr>\n",
       "    <tr>\n",
       "      <th>Zambia</th>\n",
       "      <th>nonpoor</th>\n",
       "      <td>0.8</td>\n",
       "      <td>4579.39611</td>\n",
       "      <td>0.176789</td>\n",
       "      <td>1.190069</td>\n",
       "      <td>10772.494495</td>\n",
       "      <td>0.008479</td>\n",
       "      <td>0.442447</td>\n",
       "      <td>0.64</td>\n",
       "    </tr>\n",
       "  </tbody>\n",
       "</table>\n",
       "</div>"
      ],
      "text/plain": [
       "                         n           c     axfin  gamma_SP             k  \\\n",
       "country    income_cat                                                      \n",
       "Tajikistan nonpoor     0.8  2785.76942  0.004779  1.060961   7391.935367   \n",
       "Zambia     nonpoor     0.8  4579.39611  0.176789  1.190069  10772.494495   \n",
       "\n",
       "                             fa         v  shew  \n",
       "country    income_cat                            \n",
       "Tajikistan nonpoor     0.103046  0.125978  0.48  \n",
       "Zambia     nonpoor     0.008479  0.442447  0.64  "
      ]
     },
     "execution_count": 6,
     "metadata": {},
     "output_type": "execute_result"
    }
   ],
   "source": [
    "cat_info = pd.read_csv(\"intermediate/cat_info.csv\",  index_col=[economy, \"income_cat\"]).dropna()\n",
    "cat_info.sample(n=2)"
   ]
  },
  {
   "cell_type": "code",
   "execution_count": 7,
   "metadata": {
    "collapsed": false,
    "run_control": {
     "frozen": false,
     "read_only": false
    }
   },
   "outputs": [
    {
     "data": {
      "text/html": [
       "<div>\n",
       "<table border=\"1\" class=\"dataframe\">\n",
       "  <thead>\n",
       "    <tr style=\"text-align: right;\">\n",
       "      <th></th>\n",
       "      <th></th>\n",
       "      <th></th>\n",
       "      <th></th>\n",
       "      <th>fa</th>\n",
       "      <th>shew</th>\n",
       "    </tr>\n",
       "    <tr>\n",
       "      <th>country</th>\n",
       "      <th>hazard</th>\n",
       "      <th>rp</th>\n",
       "      <th>income_cat</th>\n",
       "      <th></th>\n",
       "      <th></th>\n",
       "    </tr>\n",
       "  </thead>\n",
       "  <tbody>\n",
       "    <tr>\n",
       "      <th>Greece</th>\n",
       "      <th>wind</th>\n",
       "      <th>1500.0</th>\n",
       "      <th>nonpoor</th>\n",
       "      <td>0.000000</td>\n",
       "      <td>1.0</td>\n",
       "    </tr>\n",
       "    <tr>\n",
       "      <th>Jamaica</th>\n",
       "      <th>wind</th>\n",
       "      <th>20.0</th>\n",
       "      <th>nonpoor</th>\n",
       "      <td>0.039078</td>\n",
       "      <td>0.8</td>\n",
       "    </tr>\n",
       "  </tbody>\n",
       "</table>\n",
       "</div>"
      ],
      "text/plain": [
       "                                        fa  shew\n",
       "country hazard rp     income_cat                \n",
       "Greece  wind   1500.0 nonpoor     0.000000   1.0\n",
       "Jamaica wind   20.0   nonpoor     0.039078   0.8"
      ]
     },
     "execution_count": 7,
     "metadata": {},
     "output_type": "execute_result"
    }
   ],
   "source": [
    "hazard_ratios = pd.read_csv(\"intermediate/hazard_ratios.csv\", index_col=event_level+[\"income_cat\"]).dropna()\n",
    "hazard_ratios.sample(n=2)"
   ]
  },
  {
   "cell_type": "markdown",
   "metadata": {},
   "source": [
    "# Computes and saves national resilience"
   ]
  },
  {
   "cell_type": "code",
   "execution_count": 8,
   "metadata": {
    "collapsed": false,
    "run_control": {
     "frozen": false,
     "read_only": false
    }
   },
   "outputs": [],
   "source": [
    "groups =  pd.read_csv(\"inputs/income_groups.csv\",header =4,index_col=2)\n",
    "\n",
    "country_per_gp = groups[\"Income group\"].reset_index().dropna().set_index(\"Income group\").squeeze()\n",
    "country_per_rg = groups[\"Region\"].reset_index().dropna().set_index(\"Region\").squeeze()\n",
    "country_per_rg;\n"
   ]
  },
  {
   "cell_type": "code",
   "execution_count": 9,
   "metadata": {
    "collapsed": false,
    "run_control": {
     "frozen": false,
     "read_only": false
    }
   },
   "outputs": [
    {
     "name": "stdout",
     "output_type": "stream",
     "text": [
      "Replaced in macro: \n",
      "Replaced in cats: fa, shew\n",
      "Replaced in both: \n",
      "stats are axfin,c,dc,dc_npv_post,dc_npv_pre,dk,dw,fa,gamma_SP,help_fee,help_received,k,n,shew,social,v,v_shew\n",
      "nb countries with macro data :118\n",
      "nb countries with cat data :119\n",
      "nb countries with hazard data :131\n",
      "nb countries with results :117\n",
      "Resilience averages 61% across our sample, ranging from 25% (Guatemala) to 81% (Denmark)\n",
      "Risk to welfare averages 1.07% across our sample, ranging from 0.006% (Denmark) to 6.5% (Philippines)\n",
      "Risk to assets averages 0.63% across our sample, ranging from 0.005% (Denmark) to 4.5% (Philippines)\n",
      "At the global scale, we estimate asset losses due to natural disasters to be 327 bn$ per year. But due to lack of socio economic capacity, welfare losses are 1.6 times larger, at 517 bn$ per year\n",
      "\n",
      "=======\n",
      "Low income\n",
      "Resilience averages 57% across our sample, ranging from 40% (Mali) to 70% (Burkina Faso)\n",
      "Risk to welfare averages 1.22% across our sample, ranging from 0.331% (Burkina Faso) to 5.7% (Madagascar)\n",
      "Risk to assets averages 0.70% across our sample, ranging from 0.174% (Uganda) to 3.5% (Madagascar)\n",
      "At the Low income scale, we estimate asset losses due to natural disasters to be 4 bn$ per year. But due to lack of socio economic capacity, welfare losses are 1.7 times larger, at 7 bn$ per year\n",
      "\n",
      "=======\n",
      "Upper middle income\n",
      "Resilience averages 58% across our sample, ranging from 31% (Angola) to 73% (Jordan)\n",
      "Risk to welfare averages 1.08% across our sample, ranging from 0.248% (Mexico) to 5.2% (Peru)\n",
      "Risk to assets averages 0.59% across our sample, ranging from 0.144% (Mexico) to 2.1% (Peru)\n",
      "At the Upper middle income scale, we estimate asset losses due to natural disasters to be 110 bn$ per year. But due to lack of socio economic capacity, welfare losses are 1.7 times larger, at 190 bn$ per year\n",
      "\n",
      "=======\n",
      "High income: nonOECD\n",
      "Resilience averages 63% across our sample, ranging from 52% (Russian Federation) to 74% (Croatia)\n",
      "Risk to welfare averages 0.63% across our sample, ranging from 0.103% (Uruguay) to 1.0% (Venezuela, RB)\n",
      "Risk to assets averages 0.40% across our sample, ranging from 0.060% (Uruguay) to 0.6% (Latvia)\n",
      "At the High income: nonOECD scale, we estimate asset losses due to natural disasters to be 14 bn$ per year. But due to lack of socio economic capacity, welfare losses are 1.8 times larger, at 25 bn$ per year\n",
      "\n",
      "=======\n",
      "Lower middle income\n",
      "Resilience averages 59% across our sample, ranging from 25% (Guatemala) to 77% (Yemen, Rep.)\n",
      "Risk to welfare averages 1.48% across our sample, ranging from 0.148% (Egypt, Arab Rep.) to 6.5% (Philippines)\n",
      "Risk to assets averages 0.88% across our sample, ranging from 0.085% (Egypt, Arab Rep.) to 4.5% (Philippines)\n",
      "At the Lower middle income scale, we estimate asset losses due to natural disasters to be 89 bn$ per year. But due to lack of socio economic capacity, welfare losses are 1.5 times larger, at 137 bn$ per year\n",
      "\n",
      "=======\n",
      "High income: OECD\n",
      "Resilience averages 71% across our sample, ranging from 54% (Chile) to 81% (Denmark)\n",
      "Risk to welfare averages 0.49% across our sample, ranging from 0.006% (Denmark) to 3.1% (Greece)\n",
      "Risk to assets averages 0.33% across our sample, ranging from 0.005% (Denmark) to 1.9% (Greece)\n",
      "At the High income: OECD scale, we estimate asset losses due to natural disasters to be 110 bn$ per year. But due to lack of socio economic capacity, welfare losses are 1.4 times larger, at 158 bn$ per year\n",
      "\n",
      "=======\n",
      "South Asia\n",
      "Resilience averages 66% across our sample, ranging from 63% (India) to 71% (Sri Lanka)\n",
      "Risk to welfare averages 1.34% across our sample, ranging from 0.258% (Sri Lanka) to 3.5% (Bangladesh)\n",
      "Risk to assets averages 0.87% across our sample, ranging from 0.182% (Sri Lanka) to 2.3% (Bangladesh)\n",
      "At the South Asia scale, we estimate asset losses due to natural disasters to be 34 bn$ per year. But due to lack of socio economic capacity, welfare losses are 1.6 times larger, at 53 bn$ per year\n",
      "\n",
      "=======\n",
      "Europe & Central Asia\n",
      "Resilience averages 68% across our sample, ranging from 44% (Uzbekistan) to 81% (Denmark)\n",
      "Risk to welfare averages 0.69% across our sample, ranging from 0.006% (Denmark) to 3.1% (Greece)\n",
      "Risk to assets averages 0.46% across our sample, ranging from 0.005% (Denmark) to 1.9% (Greece)\n",
      "At the Europe & Central Asia scale, we estimate asset losses due to natural disasters to be 54 bn$ per year. But due to lack of socio economic capacity, welfare losses are 1.6 times larger, at 84 bn$ per year\n",
      "\n",
      "=======\n",
      "Middle East & North Africa\n",
      "Resilience averages 62% across our sample, ranging from 52% (Morocco) to 77% (Yemen, Rep.)\n",
      "Risk to welfare averages 0.57% across our sample, ranging from 0.148% (Egypt, Arab Rep.) to 1.3% (Iran, Islamic Rep.)\n",
      "Risk to assets averages 0.35% across our sample, ranging from 0.085% (Egypt, Arab Rep.) to 0.7% (Iran, Islamic Rep.)\n",
      "At the Middle East & North Africa scale, we estimate asset losses due to natural disasters to be 14 bn$ per year. But due to lack of socio economic capacity, welfare losses are 1.8 times larger, at 24 bn$ per year\n",
      "\n",
      "=======\n",
      "East Asia & Pacific\n",
      "Resilience averages 65% across our sample, ranging from 51% (Thailand) to 78% (Japan)\n",
      "Risk to welfare averages 1.96% across our sample, ranging from 0.281% (Australia) to 6.5% (Philippines)\n",
      "Risk to assets averages 1.30% across our sample, ranging from 0.203% (Australia) to 4.5% (Philippines)\n",
      "At the East Asia & Pacific scale, we estimate asset losses due to natural disasters to be 135 bn$ per year. But due to lack of socio economic capacity, welfare losses are 1.5 times larger, at 196 bn$ per year\n",
      "\n",
      "=======\n",
      "Sub-Saharan Africa\n",
      "Resilience averages 54% across our sample, ranging from 31% (Angola) to 76% (Senegal)\n",
      "Risk to welfare averages 0.90% across our sample, ranging from 0.224% (Senegal) to 5.7% (Madagascar)\n",
      "Risk to assets averages 0.49% across our sample, ranging from 0.117% (Nigeria) to 3.5% (Madagascar)\n",
      "At the Sub-Saharan Africa scale, we estimate asset losses due to natural disasters to be 7 bn$ per year. But due to lack of socio economic capacity, welfare losses are 1.9 times larger, at 14 bn$ per year\n",
      "\n",
      "=======\n",
      "Latin America & Caribbean\n",
      "Resilience averages 53% across our sample, ranging from 25% (Guatemala) to 66% (Ecuador)\n",
      "Risk to welfare averages 1.96% across our sample, ranging from 0.103% (Uruguay) to 6.0% (Honduras)\n",
      "Risk to assets averages 0.99% across our sample, ranging from 0.060% (Uruguay) to 2.8% (Honduras)\n",
      "At the Latin America & Caribbean scale, we estimate asset losses due to natural disasters to be 43 bn$ per year. But due to lack of socio economic capacity, welfare losses are 2.0 times larger, at 84 bn$ per year\n",
      "\n",
      "=======\n",
      "North America\n",
      "Resilience averages 68% across our sample, ranging from 66% (United States) to 70% (Canada)\n",
      "Risk to welfare averages 0.25% across our sample, ranging from 0.139% (Canada) to 0.4% (United States)\n",
      "Risk to assets averages 0.17% across our sample, ranging from 0.098% (Canada) to 0.2% (United States)\n",
      "At the North America scale, we estimate asset losses due to natural disasters to be 41 bn$ per year. But due to lack of socio economic capacity, welfare losses are 1.5 times larger, at 62 bn$ per year\n",
      "\n",
      "=======\n",
      "ECA\n",
      "Resilience averages 64% across our sample, ranging from 44% (Uzbekistan) to 75% (Moldova)\n",
      "Risk to welfare averages 0.94% across our sample, ranging from 0.337% (Bulgaria) to 2.2% (Tajikistan)\n",
      "Risk to assets averages 0.61% across our sample, ranging from 0.231% (Bulgaria) to 1.4% (Serbia)\n",
      "At the ECA CLIENTS scale, we estimate asset losses due to natural disasters to be 13 bn$ per year. But due to lack of socio economic capacity, welfare losses are 1.7 times larger, at 23 bn$ per year\n"
     ]
    }
   ],
   "source": [
    "# args = dict(hazard_ratios = None)\n",
    "args = dict(return_stats=True,hazard_ratios = hazard_ratios)\n",
    "# args = dict(hazard_ratios = hazard_ratios.swaplevel(\"country\",\"hazard\").ix[\"earthquake\"])\n",
    "#args = dict()\n",
    "\n",
    "#Computes\n",
    "results, iah=compute_resilience(macro,cat_info,return_iah=True,verbose_replace=True,**args)\n",
    "\n",
    "#Saves\n",
    "results.to_csv(\"results/results.csv\",float_format=\"%.5f\")\n",
    "\n",
    "#Quick statistics\n",
    "print(\"nb countries with macro data :\" +str(macro.shape[0]))\n",
    "print(\"nb countries with cat data :\"   +str(cat_info.unstack().dropna().shape[0]))\n",
    "print(\"nb countries with hazard data :\"+str(hazard_ratios.unstack([\"rp\",\"hazard\", \"income_cat\"]).dropna().shape[0]))\n",
    "\n",
    "nb_countries_all_results = results[\"resilience\"].dropna().shape[0]\n",
    "print(\"nb countries with results :\"+str(nb_countries_all_results))\n",
    "\n",
    "\n",
    "def print_stats(results, region_name=\"global\"):\n",
    "\n",
    "    #Some stats\n",
    "    a=results.resilience;\n",
    "    print(\"Resilience averages {mean:.0%} across our sample, ranging from {min:.0%} ({m}) to {max:.0%} ({M})\".format(\n",
    "            min=a.min(),mean=a.mean(),max=a.max(), m=a.argmin(),M=a.argmax()))\n",
    "\n",
    "    a=results.risk\n",
    "    print(\"Risk to welfare averages {mean:.2%} across our sample, ranging from {min:.03%} ({m}) to {max:.1%} ({M})\".format(\n",
    "        min=a.min(),mean=a.mean(),max=a.max(),m=a.argmin(),M=a.argmax()))\n",
    "\n",
    "    a=results.risk_to_assets\n",
    "    print(\"Risk to assets averages {mean:.2%} across our sample, ranging from {min:.03%} ({m}) to {max:.1%} ({M})\".format(\n",
    "        min=a.min(),mean=a.mean(),max=a.max(),m=a.argmin(),M=a.argmax()))\n",
    "\n",
    "\n",
    "    print(\"At the {region_name} scale, we estimate asset losses due to natural disasters to be {k:.0f} bn$ per year. \"\\\n",
    "          \"But due to lack of socio economic capacity, welfare losses are {r:.1f} times larger, at {w:.0f} bn$ per year\".format( \n",
    "    w= results.dWtot_currency.sum()*1e-9,\n",
    "    k= results.dKtot.sum()*1e-9,\n",
    "    region_name = region_name,\n",
    "    r=results.dWtot_currency.sum()/results.dKtot.sum()))\n",
    "\n",
    "    \n",
    "print_stats(results)    \n",
    "\n",
    "for g in country_per_gp.index.unique():\n",
    "    print(\"\\n=======\\n\"+g)\n",
    "    print_stats(results.ix[country_per_gp.ix[g]],g)\n",
    "\n",
    "for r in country_per_rg.index.unique():\n",
    "    print(\"\\n=======\\n\"+r)\n",
    "    print_stats(results.ix[country_per_rg.ix[r]],r)\n",
    "    \n",
    "\n",
    "eca_clients = groups[(~ groups[\"Income group\"].isin([\"High income: nonOECD\", \"High income: OECD\"])) \n",
    "                         & (groups[\"Region\"]==\"Europe & Central Asia\")].index\n",
    "print(\"\\n=======\\n\"+\"ECA\")    \n",
    "print_stats(results.ix[eca_clients],\"ECA CLIENTS\")    \n",
    "   "
   ]
  },
  {
   "cell_type": "code",
   "execution_count": 40,
   "metadata": {
    "collapsed": false,
    "run_control": {
     "frozen": false,
     "read_only": false
    }
   },
   "outputs": [
    {
     "data": {
      "text/plain": [
       "['Finland']"
      ]
     },
     "execution_count": 40,
     "metadata": {},
     "output_type": "execute_result"
    }
   ],
   "source": [
    "[c for c in macro.dropna().index if c not in results.dropna().index]"
   ]
  },
  {
   "cell_type": "raw",
   "metadata": {
    "collapsed": false,
    "run_control": {
     "frozen": false,
     "read_only": false
    }
   },
   "source": [
    " \n",
    "results.ix[[\"Denmark\", \"Angola\",\"Senegal\", \"Nepal\", \"Netherlands\",\"Malawi\", \"Bangladesh\",\"Japan\", \"Germany\",\"Finland\", \"Mauritius\",\"Congo, Dem. Rep.\", \"Lao PDR\"],[\"protection\", \"risk\", \"v\",\"shew\",\"fa\",\"risk_to_assets\",\"resilience\"]]"
   ]
  },
  {
   "cell_type": "code",
   "execution_count": null,
   "metadata": {
    "collapsed": true,
    "run_control": {
     "frozen": false,
     "read_only": false
    }
   },
   "outputs": [],
   "source": []
  },
  {
   "cell_type": "markdown",
   "metadata": {
    "collapsed": false,
    "run_control": {
     "frozen": false,
     "read_only": false
    }
   },
   "source": [
    "results.query(\".45<resilience<.55\").resilience"
   ]
  },
  {
   "cell_type": "code",
   "execution_count": 41,
   "metadata": {
    "collapsed": false,
    "run_control": {
     "frozen": false,
     "read_only": false
    }
   },
   "outputs": [
    {
     "data": {
      "text/plain": [
       "country\n",
       "Bangladesh     0.022718\n",
       "El Salvador    0.026985\n",
       "Honduras       0.027864\n",
       "Lao PDR        0.035268\n",
       "Madagascar     0.035413\n",
       "Peru           0.020987\n",
       "Philippines    0.045164\n",
       "Name: risk_to_assets, dtype: float64"
      ]
     },
     "execution_count": 41,
     "metadata": {},
     "output_type": "execute_result"
    }
   ],
   "source": [
    "results.query(\"risk_to_assets>.02\").risk_to_assets"
   ]
  },
  {
   "cell_type": "markdown",
   "metadata": {},
   "source": [
    "# compare with GAR"
   ]
  },
  {
   "cell_type": "code",
   "execution_count": 42,
   "metadata": {
    "collapsed": false,
    "run_control": {
     "frozen": false,
     "read_only": false
    }
   },
   "outputs": [],
   "source": [
    "from fancy_plots import savefig\n",
    "from os import makedirs"
   ]
  },
  {
   "cell_type": "code",
   "execution_count": 43,
   "metadata": {
    "collapsed": false,
    "run_control": {
     "frozen": false,
     "read_only": false
    }
   },
   "outputs": [
    {
     "data": {
      "image/png": "[encoded data removed]",
      "text/plain": [
       "<matplotlib.figure.Figure at 0xbe116a0>"
      ]
     },
     "metadata": {},
     "output_type": "display_data"
    }
   ],
   "source": [
    "results[\"fracKdestoyedus\"] =  results.dKtot/(results.gdp_pc_pp*results[\"pop\"]/results.avg_prod_k)\n",
    "\n",
    "results[\"fracKdestoyedgar\"] =average_over_rp(pd.read_csv(\"intermediate/frac_value_destroyed_gar.csv\").set_index([\"country\",\"hazard\",\"rp\"])).sum(level=\"country\").squeeze()\n",
    "\n",
    "results.plot.scatter(x=\"fracKdestoyedgar\", y=\"fracKdestoyedus\", figsize=(7,7))\n",
    "plt.xlim(0,0.005)\n",
    "plt.ylim(0,0.005)\n",
    "makedirs(\"img\",exist_ok=True)\n",
    "savefig(\"img/gar_dkk_vs_us_dkk\")"
   ]
  },
  {
   "cell_type": "markdown",
   "metadata": {},
   "source": [
    "# export table"
   ]
  },
  {
   "cell_type": "code",
   "execution_count": null,
   "metadata": {
    "collapsed": false,
    "run_control": {
     "frozen": false,
     "read_only": false
    }
   },
   "outputs": [],
   "source": []
  },
  {
   "cell_type": "code",
   "execution_count": 21,
   "metadata": {
    "collapsed": false,
    "run_control": {
     "frozen": false,
     "read_only": false
    }
   },
   "outputs": [
    {
     "data": {
      "text/html": [
       "<div>\n",
       "<table border=\"1\" class=\"dataframe\">\n",
       "  <thead>\n",
       "    <tr style=\"text-align: right;\">\n",
       "      <th></th>\n",
       "      <th>GDP per capita</th>\n",
       "      <th>Population</th>\n",
       "      <th>Vulnerability</th>\n",
       "      <th>Exposure (percent of the population)</th>\n",
       "      <th>Resilience</th>\n",
       "      <th>Risk to welfare</th>\n",
       "      <th>Risk to assets</th>\n",
       "      <th>Exposure (percent of GDP)</th>\n",
       "    </tr>\n",
       "    <tr>\n",
       "      <th>country</th>\n",
       "      <th></th>\n",
       "      <th></th>\n",
       "      <th></th>\n",
       "      <th></th>\n",
       "      <th></th>\n",
       "      <th></th>\n",
       "      <th></th>\n",
       "      <th></th>\n",
       "    </tr>\n",
       "  </thead>\n",
       "  <tbody>\n",
       "    <tr>\n",
       "      <th>Albania</th>\n",
       "      <td>9960.940726</td>\n",
       "      <td>2.897366</td>\n",
       "      <td>38.234225</td>\n",
       "      <td>0.481400</td>\n",
       "      <td>69.007030</td>\n",
       "      <td>1.431156</td>\n",
       "      <td>0.987598</td>\n",
       "      <td>2.598232</td>\n",
       "    </tr>\n",
       "    <tr>\n",
       "      <th>Angola</th>\n",
       "      <td>7488.011760</td>\n",
       "      <td>21.471618</td>\n",
       "      <td>60.540000</td>\n",
       "      <td>0.154274</td>\n",
       "      <td>31.208563</td>\n",
       "      <td>0.477733</td>\n",
       "      <td>0.149094</td>\n",
       "      <td>0.356786</td>\n",
       "    </tr>\n",
       "    <tr>\n",
       "      <th>Argentina</th>\n",
       "      <td>18087.196262</td>\n",
       "      <td>41.446246</td>\n",
       "      <td>41.111968</td>\n",
       "      <td>0.308703</td>\n",
       "      <td>56.729170</td>\n",
       "      <td>0.775769</td>\n",
       "      <td>0.440087</td>\n",
       "      <td>1.145254</td>\n",
       "    </tr>\n",
       "    <tr>\n",
       "      <th>Armenia</th>\n",
       "      <td>7526.836419</td>\n",
       "      <td>2.976566</td>\n",
       "      <td>24.298125</td>\n",
       "      <td>1.131023</td>\n",
       "      <td>70.691501</td>\n",
       "      <td>1.029256</td>\n",
       "      <td>0.727596</td>\n",
       "      <td>3.084364</td>\n",
       "    </tr>\n",
       "    <tr>\n",
       "      <th>Australia</th>\n",
       "      <td>42834.016760</td>\n",
       "      <td>23.129300</td>\n",
       "      <td>54.994642</td>\n",
       "      <td>0.129016</td>\n",
       "      <td>72.296851</td>\n",
       "      <td>0.280609</td>\n",
       "      <td>0.202872</td>\n",
       "      <td>0.471544</td>\n",
       "    </tr>\n",
       "  </tbody>\n",
       "</table>\n",
       "</div>"
      ],
      "text/plain": [
       "           GDP per capita  Population  Vulnerability  \\\n",
       "country                                                \n",
       "Albania       9960.940726    2.897366      38.234225   \n",
       "Angola        7488.011760   21.471618      60.540000   \n",
       "Argentina    18087.196262   41.446246      41.111968   \n",
       "Armenia       7526.836419    2.976566      24.298125   \n",
       "Australia    42834.016760   23.129300      54.994642   \n",
       "\n",
       "           Exposure (percent of the population)  Resilience  Risk to welfare  \\\n",
       "country                                                                        \n",
       "Albania                                0.481400   69.007030         1.431156   \n",
       "Angola                                 0.154274   31.208563         0.477733   \n",
       "Argentina                              0.308703   56.729170         0.775769   \n",
       "Armenia                                1.131023   70.691501         1.029256   \n",
       "Australia                              0.129016   72.296851         0.280609   \n",
       "\n",
       "           Risk to assets  Exposure (percent of GDP)  \n",
       "country                                               \n",
       "Albania          0.987598                   2.598232  \n",
       "Angola           0.149094                   0.356786  \n",
       "Argentina        0.440087                   1.145254  \n",
       "Armenia          0.727596                   3.084364  \n",
       "Australia        0.202872                   0.471544  "
      ]
     },
     "execution_count": 21,
     "metadata": {},
     "output_type": "execute_result"
    }
   ],
   "source": [
    "a=results.copy()\n",
    "\n",
    "a[\"v\"] = pd.read_csv(\"inputs/v_pr_fromPAGER_shaved_GAR.csv\", index_col=\"country\").v\n",
    "\n",
    "\n",
    "to_output = ['gdp_pc_pp', 'pop',\"v\",\"fa\",\"resilience\",\"risk\",\"risk_to_assets\"]\n",
    "a=a[to_output]\n",
    "\n",
    "a[\"pop\"] = a[\"pop\"]/1e6\n",
    "\n",
    "a[\"fa_in_gdp\"] =  results[\"fa\"]/ results[\"avg_prod_k\"]\n",
    "\n",
    "a.to_csv(\"intermediate/main_results.csv\")\n",
    "\n",
    "\n",
    "a.loc[:,[\"fa\",\"fa_in_gdp\",\"v\",\"resilience\",\"risk\", \"risk_to_assets\"]]=100*a[[\"fa\",\"fa_in_gdp\",\"v\",\"resilience\",\"risk\",\"risk_to_assets\"]]\n",
    "desc=pd.read_csv(\"inputs/inputs_info.csv\").set_index('key')[\"descriptor\"]\n",
    "a=a.rename(columns=desc).dropna()\n",
    "a.to_excel(\"intermediate/results.xlsx\")\n",
    "a.head()\n"
   ]
  },
  {
   "cell_type": "markdown",
   "metadata": {},
   "source": [
    "## export table for Brad's appendix of results"
   ]
  },
  {
   "cell_type": "code",
   "execution_count": 22,
   "metadata": {
    "collapsed": true,
    "run_control": {
     "frozen": false,
     "read_only": false
    }
   },
   "outputs": [],
   "source": [
    "from fancy_round import fancy_round"
   ]
  },
  {
   "cell_type": "code",
   "execution_count": 23,
   "metadata": {
    "collapsed": true,
    "run_control": {
     "frozen": false,
     "read_only": false
    }
   },
   "outputs": [],
   "source": [
    "export = pd.DataFrame()"
   ]
  },
  {
   "cell_type": "code",
   "execution_count": 24,
   "metadata": {
    "collapsed": false,
    "run_control": {
     "frozen": false,
     "read_only": false
    }
   },
   "outputs": [
    {
     "data": {
      "text/html": [
       "<div>\n",
       "<table border=\"1\" class=\"dataframe\">\n",
       "  <thead>\n",
       "    <tr style=\"text-align: right;\">\n",
       "      <th></th>\n",
       "      <th>Assets</th>\n",
       "      <th>Resilience</th>\n",
       "      <th>Well-being</th>\n",
       "    </tr>\n",
       "    <tr>\n",
       "      <th>country</th>\n",
       "      <th></th>\n",
       "      <th></th>\n",
       "      <th></th>\n",
       "    </tr>\n",
       "  </thead>\n",
       "  <tbody>\n",
       "    <tr>\n",
       "      <th>Indonesia</th>\n",
       "      <td>Risk to assets: $7,700 million (0.33% of GDP)</td>\n",
       "      <td>Socio-economic Resilience: 69%</td>\n",
       "      <td>Risk to well-being: $11,000 million (0.49% of ...</td>\n",
       "    </tr>\n",
       "    <tr>\n",
       "      <th>Egypt, Arab Rep.</th>\n",
       "      <td>Risk to assets: $750 million (0.09% of GDP)</td>\n",
       "      <td>Socio-economic Resilience: 58%</td>\n",
       "      <td>Risk to well-being: $1,300 million (0.15% of GDP)</td>\n",
       "    </tr>\n",
       "    <tr>\n",
       "      <th>Kazakhstan</th>\n",
       "      <td>Risk to assets: $1,000 million (0.27% of GDP)</td>\n",
       "      <td>Socio-economic Resilience: 62%</td>\n",
       "      <td>Risk to well-being: $1,600 million (0.43% of GDP)</td>\n",
       "    </tr>\n",
       "    <tr>\n",
       "      <th>Philippines</th>\n",
       "      <td>Risk to assets: $28,000 million (4.5% of GDP)</td>\n",
       "      <td>Socio-economic Resilience: 69%</td>\n",
       "      <td>Risk to well-being: $41,000 million (6.5% of GDP)</td>\n",
       "    </tr>\n",
       "    <tr>\n",
       "      <th>Moldova</th>\n",
       "      <td>Risk to assets: $150 million (0.9% of GDP)</td>\n",
       "      <td>Socio-economic Resilience: 75%</td>\n",
       "      <td>Risk to well-being: $190 million (1.2% of GDP)</td>\n",
       "    </tr>\n",
       "  </tbody>\n",
       "</table>\n",
       "</div>"
      ],
      "text/plain": [
       "                                                         Assets  \\\n",
       "country                                                           \n",
       "Indonesia         Risk to assets: $7,700 million (0.33% of GDP)   \n",
       "Egypt, Arab Rep.    Risk to assets: $750 million (0.09% of GDP)   \n",
       "Kazakhstan        Risk to assets: $1,000 million (0.27% of GDP)   \n",
       "Philippines       Risk to assets: $28,000 million (4.5% of GDP)   \n",
       "Moldova              Risk to assets: $150 million (0.9% of GDP)   \n",
       "\n",
       "                                      Resilience  \\\n",
       "country                                            \n",
       "Indonesia         Socio-economic Resilience: 69%   \n",
       "Egypt, Arab Rep.  Socio-economic Resilience: 58%   \n",
       "Kazakhstan        Socio-economic Resilience: 62%   \n",
       "Philippines       Socio-economic Resilience: 69%   \n",
       "Moldova           Socio-economic Resilience: 75%   \n",
       "\n",
       "                                                         Well-being  \n",
       "country                                                              \n",
       "Indonesia         Risk to well-being: $11,000 million (0.49% of ...  \n",
       "Egypt, Arab Rep.  Risk to well-being: $1,300 million (0.15% of GDP)  \n",
       "Kazakhstan        Risk to well-being: $1,600 million (0.43% of GDP)  \n",
       "Philippines       Risk to well-being: $41,000 million (6.5% of GDP)  \n",
       "Moldova              Risk to well-being: $190 million (1.2% of GDP)  "
      ]
     },
     "execution_count": 24,
     "metadata": {},
     "output_type": "execute_result"
    }
   ],
   "source": [
    "# a[\"label_asset\"]= \"Risk to assets \"+\n",
    "export[\"Assets\"]=(a[\"Risk to assets\"]/100*a[\"GDP per capita\"]*a[\"Population\"]).map(lambda x:\"Risk to assets: ${:,} million \".format(fancy_round(x)))+(a[\"Risk to assets\"]).map(lambda x:\"({:,}% of GDP)\".format(fancy_round(x)))\n",
    "export[\"Resilience\"] = a[\"Resilience\"].map(lambda x:\"Socio-economic Resilience: {:,}%\".format(fancy_round(x)))\n",
    "export[\"Well-being\"]=(a[\"Risk to welfare\"]/100*a[\"GDP per capita\"]*a[\"Population\"]).map(lambda x:\"Risk to well-being: ${:,} million \".format(fancy_round(x)))+(a[\"Risk to welfare\"]).map(lambda x:\"({:,}% of GDP)\".format(fancy_round(x)))\n",
    "export.to_csv(\"results/export_table_asset_resi_wellfare_labels_for_brad.csv\")\n",
    "export.sample(5)"
   ]
  },
  {
   "cell_type": "code",
   "execution_count": null,
   "metadata": {
    "collapsed": false,
    "run_control": {
     "frozen": false,
     "read_only": false
    }
   },
   "outputs": [],
   "source": []
  },
  {
   "cell_type": "markdown",
   "metadata": {
    "collapsed": false,
    "run_control": {
     "frozen": false,
     "read_only": false
    }
   },
   "source": [
    "# report countries per region and lending group"
   ]
  },
  {
   "cell_type": "code",
   "execution_count": 25,
   "metadata": {
    "collapsed": true,
    "run_control": {
     "frozen": false,
     "read_only": false
    }
   },
   "outputs": [],
   "source": [
    "wb_countries = pd.read_csv(\"inputs/iso3_to_wb_name.csv\")"
   ]
  },
  {
   "cell_type": "code",
   "execution_count": 26,
   "metadata": {
    "collapsed": false,
    "run_control": {
     "frozen": false,
     "read_only": false
    }
   },
   "outputs": [
    {
     "name": "stdout",
     "output_type": "stream",
     "text": [
      "our sample\n",
      " IBRD     50\n",
      "IDA      33\n",
      "         24\n",
      "Blend    10\n",
      "Name: Lending category, dtype: int64\n",
      "\n",
      "total\n",
      "          68\n",
      "IBRD     67\n",
      "IDA      56\n",
      "Blend    17\n",
      "Name: Lending category, dtype: int64\n",
      "\n",
      "Fraction of COUNTRIES covered\n",
      "\n",
      "Lending category\n",
      "         0.352941\n",
      "Blend    0.588235\n",
      "IBRD     0.746269\n",
      "IDA      0.589286\n",
      "Name: has all data, dtype: float64\n",
      " \n",
      "Region\n",
      "East Asia & Pacific           0.305556\n",
      "Europe & Central Asia         0.727273\n",
      "Latin America & Caribbean     0.450000\n",
      "Middle East & North Africa    0.428571\n",
      "North America                 0.666667\n",
      "South Asia                    0.625000\n",
      "Sub-Saharan Africa            0.711111\n",
      "Name: has all data, dtype: float64\n",
      " \n",
      "Income group\n",
      "High income: OECD       0.750000\n",
      "High income: nonOECD    0.155556\n",
      "Low income              0.612903\n",
      "Lower middle income     0.744681\n",
      "Upper middle income     0.603774\n",
      "Name: has all data, dtype: float64\n",
      "global\n",
      "has all data    0.536697\n",
      "dtype: float64\n",
      "\n",
      "===========\n",
      "Fraction of POPULATION covered\n",
      "\n"
     ]
    },
    {
     "ename": "TypeError",
     "evalue": "Series.name must be a hashable type",
     "output_type": "error",
     "traceback": [
      "\u001b[1;31m---------------------------------------------------------------------------\u001b[0m",
      "\u001b[1;31mTypeError\u001b[0m                                 Traceback (most recent call last)",
      "\u001b[1;32m<ipython-input-26-14fb122e60ff>\u001b[0m in \u001b[0;36m<module>\u001b[1;34m()\u001b[0m\n\u001b[0;32m     41\u001b[0m \u001b[0mgroups\u001b[0m\u001b[1;33m[\u001b[0m\u001b[1;34m\"pop\"\u001b[0m\u001b[1;33m]\u001b[0m\u001b[1;33m=\u001b[0m\u001b[0mpd\u001b[0m\u001b[1;33m.\u001b[0m\u001b[0mread_csv\u001b[0m\u001b[1;33m(\u001b[0m\u001b[1;34m\"inputs/wb_data.csv\"\u001b[0m\u001b[1;33m,\u001b[0m\u001b[0mindex_col\u001b[0m\u001b[1;33m=\u001b[0m\u001b[1;34m\"country\"\u001b[0m\u001b[1;33m)\u001b[0m\u001b[1;33m[\u001b[0m\u001b[1;34m\"pop\"\u001b[0m\u001b[1;33m]\u001b[0m\u001b[1;33m\u001b[0m\u001b[0m\n\u001b[0;32m     42\u001b[0m \u001b[0mprint\u001b[0m\u001b[1;33m(\u001b[0m\u001b[1;34m\"\\n===========\\nFraction of POPULATION covered\\n\"\u001b[0m\u001b[1;33m)\u001b[0m\u001b[1;33m\u001b[0m\u001b[0m\n\u001b[1;32m---> 43\u001b[1;33m \u001b[0mprint\u001b[0m\u001b[1;33m(\u001b[0m\u001b[0mgroups\u001b[0m\u001b[1;33m.\u001b[0m\u001b[0mgroupby\u001b[0m\u001b[1;33m(\u001b[0m\u001b[1;34m\"Lending category\"\u001b[0m\u001b[1;33m)\u001b[0m\u001b[1;33m[\u001b[0m\u001b[1;33m[\u001b[0m\u001b[1;34m\"has all data\"\u001b[0m\u001b[1;33m,\u001b[0m\u001b[1;34m\"pop\"\u001b[0m\u001b[1;33m]\u001b[0m\u001b[1;33m]\u001b[0m\u001b[1;33m.\u001b[0m\u001b[0mapply\u001b[0m\u001b[1;33m(\u001b[0m\u001b[1;32mlambda\u001b[0m \u001b[0ms\u001b[0m\u001b[1;33m:\u001b[0m \u001b[0ms\u001b[0m\u001b[1;33m.\u001b[0m\u001b[0mprod\u001b[0m\u001b[1;33m(\u001b[0m\u001b[0maxis\u001b[0m\u001b[1;33m=\u001b[0m\u001b[1;36m1\u001b[0m\u001b[1;33m)\u001b[0m\u001b[1;33m/\u001b[0m\u001b[0ms\u001b[0m\u001b[1;33m[\u001b[0m\u001b[1;34m\"pop\"\u001b[0m\u001b[1;33m]\u001b[0m\u001b[1;33m.\u001b[0m\u001b[0msum\u001b[0m\u001b[1;33m(\u001b[0m\u001b[1;33m)\u001b[0m\u001b[1;33m)\u001b[0m\u001b[1;33m.\u001b[0m\u001b[0msum\u001b[0m\u001b[1;33m(\u001b[0m\u001b[0mlevel\u001b[0m\u001b[1;33m=\u001b[0m\u001b[1;36m0\u001b[0m\u001b[1;33m)\u001b[0m\u001b[1;33m)\u001b[0m\u001b[1;33m\u001b[0m\u001b[0m\n\u001b[0m\u001b[0;32m     44\u001b[0m \u001b[0mprint\u001b[0m\u001b[1;33m(\u001b[0m\u001b[1;34m\" \"\u001b[0m\u001b[1;33m)\u001b[0m\u001b[1;33m\u001b[0m\u001b[0m\n\u001b[0;32m     45\u001b[0m \u001b[0mprint\u001b[0m\u001b[1;33m(\u001b[0m\u001b[0mgroups\u001b[0m\u001b[1;33m.\u001b[0m\u001b[0mgroupby\u001b[0m\u001b[1;33m(\u001b[0m\u001b[1;34m\"Region\"\u001b[0m\u001b[1;33m)\u001b[0m\u001b[1;33m[\u001b[0m\u001b[1;33m[\u001b[0m\u001b[1;34m\"has all data\"\u001b[0m\u001b[1;33m,\u001b[0m\u001b[1;34m\"pop\"\u001b[0m\u001b[1;33m]\u001b[0m\u001b[1;33m]\u001b[0m\u001b[1;33m.\u001b[0m\u001b[0mapply\u001b[0m\u001b[1;33m(\u001b[0m\u001b[1;32mlambda\u001b[0m \u001b[0ms\u001b[0m\u001b[1;33m:\u001b[0m \u001b[0ms\u001b[0m\u001b[1;33m.\u001b[0m\u001b[0mprod\u001b[0m\u001b[1;33m(\u001b[0m\u001b[0maxis\u001b[0m\u001b[1;33m=\u001b[0m\u001b[1;36m1\u001b[0m\u001b[1;33m)\u001b[0m\u001b[1;33m/\u001b[0m\u001b[0ms\u001b[0m\u001b[1;33m[\u001b[0m\u001b[1;34m\"pop\"\u001b[0m\u001b[1;33m]\u001b[0m\u001b[1;33m.\u001b[0m\u001b[0msum\u001b[0m\u001b[1;33m(\u001b[0m\u001b[1;33m)\u001b[0m\u001b[1;33m)\u001b[0m\u001b[1;33m.\u001b[0m\u001b[0msum\u001b[0m\u001b[1;33m(\u001b[0m\u001b[0mlevel\u001b[0m\u001b[1;33m=\u001b[0m\u001b[1;36m0\u001b[0m\u001b[1;33m)\u001b[0m\u001b[1;33m)\u001b[0m\u001b[1;33m\u001b[0m\u001b[0m\n",
      "\u001b[1;32mC:\\Users\\Admin\\Anaconda3\\lib\\site-packages\\pandas\\core\\groupby.py\u001b[0m in \u001b[0;36mapply\u001b[1;34m(self, func, *args, **kwargs)\u001b[0m\n\u001b[0;32m    649\u001b[0m         \u001b[1;31m# ignore SettingWithCopy here in case the user mutates\u001b[0m\u001b[1;33m\u001b[0m\u001b[1;33m\u001b[0m\u001b[0m\n\u001b[0;32m    650\u001b[0m         \u001b[1;32mwith\u001b[0m \u001b[0moption_context\u001b[0m\u001b[1;33m(\u001b[0m\u001b[1;34m'mode.chained_assignment'\u001b[0m\u001b[1;33m,\u001b[0m \u001b[1;32mNone\u001b[0m\u001b[1;33m)\u001b[0m\u001b[1;33m:\u001b[0m\u001b[1;33m\u001b[0m\u001b[0m\n\u001b[1;32m--> 651\u001b[1;33m             \u001b[1;32mreturn\u001b[0m \u001b[0mself\u001b[0m\u001b[1;33m.\u001b[0m\u001b[0m_python_apply_general\u001b[0m\u001b[1;33m(\u001b[0m\u001b[0mf\u001b[0m\u001b[1;33m)\u001b[0m\u001b[1;33m\u001b[0m\u001b[0m\n\u001b[0m\u001b[0;32m    652\u001b[0m \u001b[1;33m\u001b[0m\u001b[0m\n\u001b[0;32m    653\u001b[0m     \u001b[1;32mdef\u001b[0m \u001b[0m_python_apply_general\u001b[0m\u001b[1;33m(\u001b[0m\u001b[0mself\u001b[0m\u001b[1;33m,\u001b[0m \u001b[0mf\u001b[0m\u001b[1;33m)\u001b[0m\u001b[1;33m:\u001b[0m\u001b[1;33m\u001b[0m\u001b[0m\n",
      "\u001b[1;32mC:\\Users\\Admin\\Anaconda3\\lib\\site-packages\\pandas\\core\\groupby.py\u001b[0m in \u001b[0;36m_python_apply_general\u001b[1;34m(self, f)\u001b[0m\n\u001b[0;32m    658\u001b[0m             \u001b[0mkeys\u001b[0m\u001b[1;33m,\u001b[0m\u001b[1;33m\u001b[0m\u001b[0m\n\u001b[0;32m    659\u001b[0m             \u001b[0mvalues\u001b[0m\u001b[1;33m,\u001b[0m\u001b[1;33m\u001b[0m\u001b[0m\n\u001b[1;32m--> 660\u001b[1;33m             not_indexed_same=mutated or self.mutated)\n\u001b[0m\u001b[0;32m    661\u001b[0m \u001b[1;33m\u001b[0m\u001b[0m\n\u001b[0;32m    662\u001b[0m     \u001b[1;32mdef\u001b[0m \u001b[0m_iterate_slices\u001b[0m\u001b[1;33m(\u001b[0m\u001b[0mself\u001b[0m\u001b[1;33m)\u001b[0m\u001b[1;33m:\u001b[0m\u001b[1;33m\u001b[0m\u001b[0m\n",
      "\u001b[1;32mC:\\Users\\Admin\\Anaconda3\\lib\\site-packages\\pandas\\core\\groupby.py\u001b[0m in \u001b[0;36m_wrap_applied_output\u001b[1;34m(self, keys, values, not_indexed_same)\u001b[0m\n\u001b[0;32m   3311\u001b[0m                         \u001b[1;31m# GH 8467\u001b[0m\u001b[1;33m\u001b[0m\u001b[1;33m\u001b[0m\u001b[0m\n\u001b[0;32m   3312\u001b[0m                         return self._concat_objects(\n\u001b[1;32m-> 3313\u001b[1;33m                             \u001b[0mkeys\u001b[0m\u001b[1;33m,\u001b[0m \u001b[0mvalues\u001b[0m\u001b[1;33m,\u001b[0m \u001b[0mnot_indexed_same\u001b[0m\u001b[1;33m=\u001b[0m\u001b[1;32mTrue\u001b[0m\u001b[1;33m,\u001b[0m\u001b[1;33m\u001b[0m\u001b[0m\n\u001b[0m\u001b[0;32m   3314\u001b[0m                         )\n\u001b[0;32m   3315\u001b[0m \u001b[1;33m\u001b[0m\u001b[0m\n",
      "\u001b[1;32mC:\\Users\\Admin\\Anaconda3\\lib\\site-packages\\pandas\\core\\groupby.py\u001b[0m in \u001b[0;36m_concat_objects\u001b[1;34m(self, keys, values, not_indexed_same)\u001b[0m\n\u001b[0;32m    845\u001b[0m                 getattr(self, 'name', None) is not None):\n\u001b[0;32m    846\u001b[0m \u001b[1;33m\u001b[0m\u001b[0m\n\u001b[1;32m--> 847\u001b[1;33m             \u001b[0mresult\u001b[0m\u001b[1;33m.\u001b[0m\u001b[0mname\u001b[0m \u001b[1;33m=\u001b[0m \u001b[0mself\u001b[0m\u001b[1;33m.\u001b[0m\u001b[0mname\u001b[0m\u001b[1;33m\u001b[0m\u001b[0m\n\u001b[0m\u001b[0;32m    848\u001b[0m \u001b[1;33m\u001b[0m\u001b[0m\n\u001b[0;32m    849\u001b[0m         \u001b[1;32mreturn\u001b[0m \u001b[0mresult\u001b[0m\u001b[1;33m\u001b[0m\u001b[0m\n",
      "\u001b[1;32mC:\\Users\\Admin\\Anaconda3\\lib\\site-packages\\pandas\\core\\generic.py\u001b[0m in \u001b[0;36m__setattr__\u001b[1;34m(self, name, value)\u001b[0m\n\u001b[0;32m   2683\u001b[0m         \u001b[1;32mtry\u001b[0m\u001b[1;33m:\u001b[0m\u001b[1;33m\u001b[0m\u001b[0m\n\u001b[0;32m   2684\u001b[0m             \u001b[0mobject\u001b[0m\u001b[1;33m.\u001b[0m\u001b[0m__getattribute__\u001b[0m\u001b[1;33m(\u001b[0m\u001b[0mself\u001b[0m\u001b[1;33m,\u001b[0m \u001b[0mname\u001b[0m\u001b[1;33m)\u001b[0m\u001b[1;33m\u001b[0m\u001b[0m\n\u001b[1;32m-> 2685\u001b[1;33m             \u001b[1;32mreturn\u001b[0m \u001b[0mobject\u001b[0m\u001b[1;33m.\u001b[0m\u001b[0m__setattr__\u001b[0m\u001b[1;33m(\u001b[0m\u001b[0mself\u001b[0m\u001b[1;33m,\u001b[0m \u001b[0mname\u001b[0m\u001b[1;33m,\u001b[0m \u001b[0mvalue\u001b[0m\u001b[1;33m)\u001b[0m\u001b[1;33m\u001b[0m\u001b[0m\n\u001b[0m\u001b[0;32m   2686\u001b[0m         \u001b[1;32mexcept\u001b[0m \u001b[0mAttributeError\u001b[0m\u001b[1;33m:\u001b[0m\u001b[1;33m\u001b[0m\u001b[0m\n\u001b[0;32m   2687\u001b[0m             \u001b[1;32mpass\u001b[0m\u001b[1;33m\u001b[0m\u001b[0m\n",
      "\u001b[1;32mC:\\Users\\Admin\\Anaconda3\\lib\\site-packages\\pandas\\core\\series.py\u001b[0m in \u001b[0;36mname\u001b[1;34m(self, value)\u001b[0m\n\u001b[0;32m    307\u001b[0m     \u001b[1;32mdef\u001b[0m \u001b[0mname\u001b[0m\u001b[1;33m(\u001b[0m\u001b[0mself\u001b[0m\u001b[1;33m,\u001b[0m \u001b[0mvalue\u001b[0m\u001b[1;33m)\u001b[0m\u001b[1;33m:\u001b[0m\u001b[1;33m\u001b[0m\u001b[0m\n\u001b[0;32m    308\u001b[0m         \u001b[1;32mif\u001b[0m \u001b[0mvalue\u001b[0m \u001b[1;32mis\u001b[0m \u001b[1;32mnot\u001b[0m \u001b[1;32mNone\u001b[0m \u001b[1;32mand\u001b[0m \u001b[1;32mnot\u001b[0m \u001b[0mcom\u001b[0m\u001b[1;33m.\u001b[0m\u001b[0mis_hashable\u001b[0m\u001b[1;33m(\u001b[0m\u001b[0mvalue\u001b[0m\u001b[1;33m)\u001b[0m\u001b[1;33m:\u001b[0m\u001b[1;33m\u001b[0m\u001b[0m\n\u001b[1;32m--> 309\u001b[1;33m             \u001b[1;32mraise\u001b[0m \u001b[0mTypeError\u001b[0m\u001b[1;33m(\u001b[0m\u001b[1;34m'Series.name must be a hashable type'\u001b[0m\u001b[1;33m)\u001b[0m\u001b[1;33m\u001b[0m\u001b[0m\n\u001b[0m\u001b[0;32m    310\u001b[0m         \u001b[0mobject\u001b[0m\u001b[1;33m.\u001b[0m\u001b[0m__setattr__\u001b[0m\u001b[1;33m(\u001b[0m\u001b[0mself\u001b[0m\u001b[1;33m,\u001b[0m \u001b[1;34m'_name'\u001b[0m\u001b[1;33m,\u001b[0m \u001b[0mvalue\u001b[0m\u001b[1;33m)\u001b[0m\u001b[1;33m\u001b[0m\u001b[0m\n\u001b[0;32m    311\u001b[0m \u001b[1;33m\u001b[0m\u001b[0m\n",
      "\u001b[1;31mTypeError\u001b[0m: Series.name must be a hashable type"
     ]
    }
   ],
   "source": [
    "\n",
    "groups = pd.read_csv(\"inputs/income_groups.csv\",header =4,index_col=2).replace({\"ROM\":\"ROU\",\"ZAR\":\"COD\"})  #they used old iso3 country for Zair (Congo) and Romania\n",
    "groups= groups[[\"Code\",\"Region\",\"Income group\",\"Lending category\",\"Other\"]]\n",
    "groups.dropna(axis=0,how=\"all\",inplace=True);\n",
    "groups.rename(columns={\"Other\":\"HIPC\"},inplace=True)\n",
    "groups['HIPC'].fillna('',inplace=True)\n",
    "groups[\"Lending category\"].replace(\"..\",\"\",inplace=True)\n",
    "\n",
    "groups =groups.ix[wb_countries.country.values]\n",
    "\n",
    "\n",
    "#counts IDA and non-IDA countries for which we have the data\n",
    "groups.ix[results.dropna().index][[\"Lending category\"]].to_excel(\"lending_categories.xlsx\")\n",
    "print(\"our sample\\n\", groups.ix[results.dropna().index][\"Lending category\"].value_counts())\n",
    "\n",
    "print(\"\\ntotal\\n\", groups[\"Lending category\"].value_counts())\n",
    "\n",
    "#Build excel file reporting countries for which we have or have not data\n",
    "groups[\"has all data\"]=0\n",
    "groups[\"has all data\"]=(np.sign(results.risk))\n",
    "groups[\"has all data\"].fillna(0,inplace=True)\n",
    "\n",
    "#Bigger report including missing data\n",
    "# groups[\"missing_data\"]=report[\"missing_data\"]\n",
    "# groups[\"missing_data\"].fillna(\"\",inplace=True)\n",
    "groups.head()\n",
    "\n",
    "\n",
    "print(\"\\nFraction of COUNTRIES covered\\n\")\n",
    "print(groups.groupby(\"Lending category\")[\"has all data\"].mean())\n",
    "print(\" \")\n",
    "print(groups.groupby(\"Region\")[\"has all data\"].mean())\n",
    "print(\" \")\n",
    "print(groups.groupby(\"Income group\")[\"has all data\"].mean())\n",
    "print(\"global\")\n",
    "print((groups[[\"has all data\"]].mean()))\n",
    "\n",
    "\n",
    "\n",
    "#population\n",
    "groups[\"pop\"]=pd.read_csv(\"inputs/wb_data.csv\",index_col=\"country\")[\"pop\"]\n",
    "print(\"\\n===========\\nFraction of POPULATION covered\\n\")\n",
    "print(groups.groupby(\"Lending category\")[[\"has all data\",\"pop\"]].apply(lambda s: s.prod(axis=1)/s[\"pop\"].sum()).sum(level=0))\n",
    "print(\" \")\n",
    "print(groups.groupby(\"Region\")[[\"has all data\",\"pop\"]].apply(lambda s: s.prod(axis=1)/s[\"pop\"].sum()).sum(level=0))\n",
    "print(\" \")\n",
    "print(groups.groupby(\"Income group\")[[\"has all data\",\"pop\"]].apply(lambda s: s.prod(axis=1)/s[\"pop\"].sum()).sum(level=0))\n",
    "print(\"global\")\n",
    "print((groups[[\"has all data\",\"pop\"]].prod(axis=1)/groups[\"pop\"].sum()).sum())\n",
    "\n",
    "\n",
    "#global\n",
    "\n",
    "\n",
    "\n",
    "groups.to_excel(\"have_and_have_nots.xlsx\", encoding=\"utf-8\")\n",
    "groups.to_csv(\"have_and_have_nots.csv\", encoding=\"utf-8\")"
   ]
  },
  {
   "cell_type": "code",
   "execution_count": 27,
   "metadata": {
    "collapsed": false,
    "run_control": {
     "frozen": false,
     "read_only": false
    }
   },
   "outputs": [
    {
     "data": {
      "text/html": [
       "<div>\n",
       "<table border=\"1\" class=\"dataframe\">\n",
       "  <thead>\n",
       "    <tr style=\"text-align: right;\">\n",
       "      <th></th>\n",
       "      <th>Code</th>\n",
       "      <th>Region</th>\n",
       "      <th>Income group</th>\n",
       "      <th>Lending category</th>\n",
       "      <th>HIPC</th>\n",
       "      <th>has all data</th>\n",
       "      <th>pop</th>\n",
       "    </tr>\n",
       "    <tr>\n",
       "      <th>Economy</th>\n",
       "      <th></th>\n",
       "      <th></th>\n",
       "      <th></th>\n",
       "      <th></th>\n",
       "      <th></th>\n",
       "      <th></th>\n",
       "      <th></th>\n",
       "    </tr>\n",
       "  </thead>\n",
       "  <tbody>\n",
       "    <tr>\n",
       "      <th>Bermuda</th>\n",
       "      <td>BMU</td>\n",
       "      <td>North America</td>\n",
       "      <td>High income: nonOECD</td>\n",
       "      <td></td>\n",
       "      <td></td>\n",
       "      <td>0.0</td>\n",
       "      <td>65235.0</td>\n",
       "    </tr>\n",
       "    <tr>\n",
       "      <th>Canada</th>\n",
       "      <td>CAN</td>\n",
       "      <td>North America</td>\n",
       "      <td>High income: OECD</td>\n",
       "      <td></td>\n",
       "      <td></td>\n",
       "      <td>1.0</td>\n",
       "      <td>35851774.0</td>\n",
       "    </tr>\n",
       "    <tr>\n",
       "      <th>United States</th>\n",
       "      <td>USA</td>\n",
       "      <td>North America</td>\n",
       "      <td>High income: OECD</td>\n",
       "      <td></td>\n",
       "      <td></td>\n",
       "      <td>1.0</td>\n",
       "      <td>321418820.0</td>\n",
       "    </tr>\n",
       "  </tbody>\n",
       "</table>\n",
       "</div>"
      ],
      "text/plain": [
       "              Code         Region          Income group Lending category HIPC  \\\n",
       "Economy                                                                         \n",
       "Bermuda        BMU  North America  High income: nonOECD                         \n",
       "Canada         CAN  North America     High income: OECD                         \n",
       "United States  USA  North America     High income: OECD                         \n",
       "\n",
       "               has all data          pop  \n",
       "Economy                                   \n",
       "Bermuda                 0.0      65235.0  \n",
       "Canada                  1.0   35851774.0  \n",
       "United States           1.0  321418820.0  "
      ]
     },
     "execution_count": 27,
     "metadata": {},
     "output_type": "execute_result"
    }
   ],
   "source": [
    "groups.query(\"Region=='North America'\")"
   ]
  },
  {
   "cell_type": "code",
   "execution_count": 28,
   "metadata": {
    "collapsed": false,
    "run_control": {
     "frozen": false,
     "read_only": false
    }
   },
   "outputs": [
    {
     "data": {
      "text/plain": [
       "Code                                      MEX\n",
       "Region              Latin America & Caribbean\n",
       "Income group              Upper middle income\n",
       "Lending category                         IBRD\n",
       "HIPC                                         \n",
       "has all data                                1\n",
       "pop                               1.27017e+08\n",
       "Name: Mexico, dtype: object"
      ]
     },
     "execution_count": 28,
     "metadata": {},
     "output_type": "execute_result"
    }
   ],
   "source": [
    "groups.ix[\"Mexico\"]"
   ]
  },
  {
   "cell_type": "code",
   "execution_count": null,
   "metadata": {
    "collapsed": true,
    "run_control": {
     "frozen": false,
     "read_only": false
    }
   },
   "outputs": [],
   "source": []
  },
  {
   "cell_type": "code",
   "execution_count": null,
   "metadata": {
    "collapsed": true,
    "run_control": {
     "frozen": false,
     "read_only": false
    }
   },
   "outputs": [],
   "source": []
  },
  {
   "cell_type": "code",
   "execution_count": null,
   "metadata": {
    "collapsed": true,
    "run_control": {
     "frozen": false,
     "read_only": false
    }
   },
   "outputs": [],
   "source": []
  },
  {
   "cell_type": "code",
   "execution_count": null,
   "metadata": {
    "collapsed": false,
    "run_control": {
     "frozen": false,
     "read_only": false
    },
    "scrolled": true
   },
   "outputs": [],
   "source": [
    "(100*results.dK/results.k).replace(0,np.nan).dropna().sort_values().plot.bar(figsize=(20,6))\n",
    "plt.ylabel(\"E[dk]/k (%)\")"
   ]
  },
  {
   "cell_type": "code",
   "execution_count": null,
   "metadata": {
    "collapsed": false,
    "run_control": {
     "frozen": false,
     "read_only": false
    }
   },
   "outputs": [],
   "source": []
  },
  {
   "cell_type": "code",
   "execution_count": null,
   "metadata": {
    "collapsed": false,
    "run_control": {
     "frozen": false,
     "read_only": false
    }
   },
   "outputs": [],
   "source": []
  },
  {
   "cell_type": "code",
   "execution_count": null,
   "metadata": {
    "collapsed": false,
    "run_control": {
     "frozen": false,
     "read_only": false
    }
   },
   "outputs": [],
   "source": [
    "reldk_agv = average_over_rp(pd.read_csv(\"intermediate/frac_value_destroyed_gar.csv\", index_col=[0,1,2]))\n",
    "reldk_agv.columns=[\"gar\"]\n",
    "\n",
    "reldk_agv =reldk_agv.swaplevel(0,1).sort_index().assign(model=np.nan)\n",
    "\n",
    "reldk_agv.head()\n",
    "\n",
    "for h in hazard_ratios.reset_index(\"hazard\").hazard.unique():\n",
    "#     args = dict(hazard_ratios = hazard_ratios)\n",
    "    args = dict(hazard_ratios = hazard_ratios.swaplevel(\"country\",\"hazard\").ix[h])\n",
    "\n",
    "    results =compute_resilience(macro,cat_info,**args)\n",
    "    reldk_agv[\"model\"].update(pd.concat([results.dK/cat_info[[\"k\",\"n\"]].prod(axis=1, skipna=False).sum(level=\"country\")], keys=[h]))\n",
    "\n",
    "    "
   ]
  },
  {
   "cell_type": "code",
   "execution_count": null,
   "metadata": {
    "collapsed": true,
    "run_control": {
     "frozen": false,
     "read_only": false
    }
   },
   "outputs": [],
   "source": []
  },
  {
   "cell_type": "code",
   "execution_count": null,
   "metadata": {
    "collapsed": false,
    "run_control": {
     "frozen": false,
     "read_only": false
    }
   },
   "outputs": [],
   "source": [
    "\n",
    "for out in  [\"resilience\", \"risk_to_assets\"]:\n",
    "    a = compute_resilience(macro,cat_info,)[out]\n",
    "    b= compute_resilience(macro,cat_info, hazard_ratios=hazard_ratios)[out]\n",
    "    c= compute_resilience(macro,cat_info, hazard_ratios=hazard_ratios.unstack(\"hazard\").swaplevel(0,1,axis=1)[\"flood\"])[out]\n",
    "    d= compute_resilience(macro,cat_info, hazard_ratios=hazard_ratios.unstack(\"rp\").swaplevel(0,1,axis=1)[20])[out]\n",
    "\n",
    "    plt.figure(figsize=(6,6))\n",
    "    plt.scatter(x=a,y=b,  s=50,clip_on=False, c=\"blue\",alpha=0.5, )\n",
    "    plt.scatter(x=a,y=c, alpha=0.5, s=50,clip_on=False, color=\"green\")\n",
    "    plt.scatter(x=a,y=d, alpha=0.5, s=50,clip_on=False, c=\"red\")\n",
    "\n",
    "    plt.legend([\"All hazard data\", \"Only river\", \"only rp=20\"], loc=\"best\")\n",
    "    plt.xlabel(\"no hazard\")\n",
    "    plt.ylabel(\"\")\n",
    "    plt.xlim(0,)\n",
    "    plt.ylim(0,)\n",
    "\n",
    "\n"
   ]
  },
  {
   "cell_type": "code",
   "execution_count": null,
   "metadata": {
    "collapsed": true,
    "run_control": {
     "frozen": false,
     "read_only": false
    }
   },
   "outputs": [],
   "source": [
    "\n",
    "\n"
   ]
  },
  {
   "cell_type": "code",
   "execution_count": null,
   "metadata": {
    "collapsed": true,
    "run_control": {
     "frozen": false,
     "read_only": false
    }
   },
   "outputs": [],
   "source": []
  },
  {
   "cell_type": "code",
   "execution_count": null,
   "metadata": {
    "collapsed": true,
    "run_control": {
     "frozen": false,
     "read_only": false
    }
   },
   "outputs": [],
   "source": []
  },
  {
   "cell_type": "code",
   "execution_count": null,
   "metadata": {
    "collapsed": true,
    "run_control": {
     "frozen": false,
     "read_only": false
    }
   },
   "outputs": [],
   "source": []
  },
  {
   "cell_type": "code",
   "execution_count": null,
   "metadata": {
    "collapsed": true,
    "run_control": {
     "frozen": false,
     "read_only": false
    }
   },
   "outputs": [],
   "source": []
  }
 ],
 "metadata": {
  "kernelspec": {
   "display_name": "Python [default]",
   "language": "python",
   "name": "python3"
  },
  "language_info": {
   "codemirror_mode": {
    "name": "ipython",
    "version": 3
   },
   "file_extension": ".py",
   "mimetype": "text/x-python",
   "name": "python",
   "nbconvert_exporter": "python",
   "pygments_lexer": "ipython3",
   "version": "3.5.2"
  },
  "nav_menu": {},
  "toc": {
   "navigate_menu": true,
   "number_sections": true,
   "sideBar": true,
   "threshold": 6,
   "toc_cell": false,
   "toc_section_display": "block",
   "toc_window_display": true
  },
  "toc_position": {
   "height": "664px",
   "left": "0px",
   "right": "1388px",
   "top": "106px",
   "width": "212px"
  }
 },
 "nbformat": 4,
 "nbformat_minor": 0
}
