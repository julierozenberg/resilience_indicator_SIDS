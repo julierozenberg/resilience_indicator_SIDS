{
 "cells": [
  {
   "cell_type": "code",
   "execution_count": 17,
   "metadata": {
    "collapsed": false,
    "run_control": {
     "frozen": false,
     "read_only": false
    }
   },
   "outputs": [
    {
     "name": "stdout",
     "output_type": "stream",
     "text": [
      "The autoreload extension is already loaded. To reload it, use:\n",
      "  %reload_ext autoreload\n"
     ]
    }
   ],
   "source": [
    "%reset-f\n",
    "%load_ext autoreload\n",
    "%autoreload 2"
   ]
  },
  {
   "cell_type": "code",
   "execution_count": 18,
   "metadata": {
    "collapsed": false,
    "run_control": {
     "frozen": false,
     "read_only": false
    }
   },
   "outputs": [],
   "source": [
    "from res_ind_lib import *\n",
    "\n",
    "from sorted_nicely import *\n",
    "from replace_with_warning import *\n",
    "\n",
    "import os, time\n",
    "import warnings\n",
    "warnings.filterwarnings(\"always\",category=UserWarning)"
   ]
  },
  {
   "cell_type": "code",
   "execution_count": 19,
   "metadata": {
    "collapsed": true,
    "run_control": {
     "frozen": false,
     "read_only": false
    }
   },
   "outputs": [],
   "source": [
    "import numpy as np\n",
    "import pandas as pd\n",
    "\n",
    "#Pandas display options\n",
    "# pd.set_option('display.max_colwidth', 200)\n",
    "# pd.set_option('display.width', 200)\n",
    "# pd.set_option('display.precision', 10)\n",
    "# pd.set_option('display.max_rows', 500)\n",
    "\n",
    "import matplotlib.pylab as plt\n",
    "%matplotlib inline\n",
    "font = {'family' : 'serif',\n",
    "    'weight' : 'normal',\n",
    "    'size'   : 15}\n",
    "plt.rc('font', **font)"
   ]
  },
  {
   "cell_type": "code",
   "execution_count": 25,
   "metadata": {
    "collapsed": true,
    "run_control": {
     "frozen": false,
     "read_only": false
    }
   },
   "outputs": [],
   "source": [
    "economy = \"country\" #province, deparmtent\n",
    "event_level = [economy, \"hazard\", \"rp\"]\n",
    "infra_cats = ['transport','all_infra_but_transport']\n",
    "sector_cats = ['transport','all_infra_but_transport','other_k']\n"
   ]
  },
  {
   "cell_type": "markdown",
   "metadata": {},
   "source": [
    "# read "
   ]
  },
  {
   "cell_type": "code",
   "execution_count": 26,
   "metadata": {
    "collapsed": false,
    "run_control": {
     "frozen": false,
     "read_only": false
    }
   },
   "outputs": [
    {
     "data": {
      "text/html": [
       "<div>\n",
       "<table border=\"1\" class=\"dataframe\">\n",
       "  <thead>\n",
       "    <tr style=\"text-align: right;\">\n",
       "      <th></th>\n",
       "      <th>gdp_pc_pp</th>\n",
       "      <th>pop</th>\n",
       "      <th>urbanization_rate</th>\n",
       "      <th>gdp_pc_cd</th>\n",
       "      <th>prepare_scaleup</th>\n",
       "      <th>borrow_abi</th>\n",
       "      <th>avg_prod_k</th>\n",
       "      <th>T_rebuild_K</th>\n",
       "      <th>pi</th>\n",
       "      <th>income_elast</th>\n",
       "      <th>rho</th>\n",
       "      <th>shareable</th>\n",
       "      <th>max_increased_spending</th>\n",
       "      <th>protection</th>\n",
       "      <th>tau_tax</th>\n",
       "    </tr>\n",
       "    <tr>\n",
       "      <th>country</th>\n",
       "      <th></th>\n",
       "      <th></th>\n",
       "      <th></th>\n",
       "      <th></th>\n",
       "      <th></th>\n",
       "      <th></th>\n",
       "      <th></th>\n",
       "      <th></th>\n",
       "      <th></th>\n",
       "      <th></th>\n",
       "      <th></th>\n",
       "      <th></th>\n",
       "      <th></th>\n",
       "      <th></th>\n",
       "      <th></th>\n",
       "    </tr>\n",
       "  </thead>\n",
       "  <tbody>\n",
       "    <tr>\n",
       "      <th>Comoros</th>\n",
       "      <td>1411.152339</td>\n",
       "      <td>795601.0</td>\n",
       "      <td>0.28412</td>\n",
       "      <td>775.080085</td>\n",
       "      <td>0.266667</td>\n",
       "      <td>0.166667</td>\n",
       "      <td>0.197959</td>\n",
       "      <td>3</td>\n",
       "      <td>0.2</td>\n",
       "      <td>1.5</td>\n",
       "      <td>0.06</td>\n",
       "      <td>0.8</td>\n",
       "      <td>0.05</td>\n",
       "      <td>20.0</td>\n",
       "      <td>0.027326</td>\n",
       "    </tr>\n",
       "    <tr>\n",
       "      <th>Uzbekistan</th>\n",
       "      <td>6038.871414</td>\n",
       "      <td>31848200.0</td>\n",
       "      <td>0.36479</td>\n",
       "      <td>2110.647872</td>\n",
       "      <td>0.000000</td>\n",
       "      <td>0.000000</td>\n",
       "      <td>0.730184</td>\n",
       "      <td>3</td>\n",
       "      <td>0.2</td>\n",
       "      <td>1.5</td>\n",
       "      <td>0.06</td>\n",
       "      <td>0.8</td>\n",
       "      <td>0.05</td>\n",
       "      <td>20.0</td>\n",
       "      <td>0.243779</td>\n",
       "    </tr>\n",
       "  </tbody>\n",
       "</table>\n",
       "</div>"
      ],
      "text/plain": [
       "              gdp_pc_pp         pop  urbanization_rate    gdp_pc_cd  \\\n",
       "country                                                               \n",
       "Comoros     1411.152339    795601.0            0.28412   775.080085   \n",
       "Uzbekistan  6038.871414  31848200.0            0.36479  2110.647872   \n",
       "\n",
       "            prepare_scaleup  borrow_abi  avg_prod_k  T_rebuild_K   pi  \\\n",
       "country                                                                 \n",
       "Comoros            0.266667    0.166667    0.197959            3  0.2   \n",
       "Uzbekistan         0.000000    0.000000    0.730184            3  0.2   \n",
       "\n",
       "            income_elast   rho  shareable  max_increased_spending  protection  \\\n",
       "country                                                                         \n",
       "Comoros              1.5  0.06        0.8                    0.05        20.0   \n",
       "Uzbekistan           1.5  0.06        0.8                    0.05        20.0   \n",
       "\n",
       "             tau_tax  \n",
       "country               \n",
       "Comoros     0.027326  \n",
       "Uzbekistan  0.243779  "
      ]
     },
     "execution_count": 26,
     "metadata": {},
     "output_type": "execute_result"
    }
   ],
   "source": [
    "macro = pd.read_csv(\"intermediate/macro.csv\", index_col=economy).dropna()\n",
    "macro.sample(n=2)"
   ]
  },
  {
   "cell_type": "code",
   "execution_count": 27,
   "metadata": {
    "collapsed": false,
    "run_control": {
     "frozen": false,
     "read_only": false
    }
   },
   "outputs": [
    {
     "data": {
      "text/html": [
       "<div>\n",
       "<table border=\"1\" class=\"dataframe\">\n",
       "  <thead>\n",
       "    <tr style=\"text-align: right;\">\n",
       "      <th></th>\n",
       "      <th></th>\n",
       "      <th>n</th>\n",
       "      <th>c</th>\n",
       "      <th>axfin</th>\n",
       "      <th>gamma_SP</th>\n",
       "      <th>k</th>\n",
       "      <th>fa</th>\n",
       "      <th>v</th>\n",
       "      <th>shew</th>\n",
       "    </tr>\n",
       "    <tr>\n",
       "      <th>country</th>\n",
       "      <th>income_cat</th>\n",
       "      <th></th>\n",
       "      <th></th>\n",
       "      <th></th>\n",
       "      <th></th>\n",
       "      <th></th>\n",
       "      <th></th>\n",
       "      <th></th>\n",
       "      <th></th>\n",
       "    </tr>\n",
       "  </thead>\n",
       "  <tbody>\n",
       "    <tr>\n",
       "      <th>Ghana</th>\n",
       "      <th>nonpoor</th>\n",
       "      <td>0.8</td>\n",
       "      <td>4714.549395</td>\n",
       "      <td>0.232120</td>\n",
       "      <td>1.012340</td>\n",
       "      <td>11907.137871</td>\n",
       "      <td>0.004836</td>\n",
       "      <td>0.697399</td>\n",
       "      <td>0.64</td>\n",
       "    </tr>\n",
       "    <tr>\n",
       "      <th>Niger</th>\n",
       "      <th>poor</th>\n",
       "      <td>0.2</td>\n",
       "      <td>355.994564</td>\n",
       "      <td>0.017846</td>\n",
       "      <td>0.376445</td>\n",
       "      <td>1528.101648</td>\n",
       "      <td>0.021139</td>\n",
       "      <td>0.700000</td>\n",
       "      <td>0.48</td>\n",
       "    </tr>\n",
       "  </tbody>\n",
       "</table>\n",
       "</div>"
      ],
      "text/plain": [
       "                      n            c     axfin  gamma_SP             k  \\\n",
       "country income_cat                                                       \n",
       "Ghana   nonpoor     0.8  4714.549395  0.232120  1.012340  11907.137871   \n",
       "Niger   poor        0.2   355.994564  0.017846  0.376445   1528.101648   \n",
       "\n",
       "                          fa         v  shew  \n",
       "country income_cat                            \n",
       "Ghana   nonpoor     0.004836  0.697399  0.64  \n",
       "Niger   poor        0.021139  0.700000  0.48  "
      ]
     },
     "execution_count": 27,
     "metadata": {},
     "output_type": "execute_result"
    }
   ],
   "source": [
    "cat_info = pd.read_csv(\"intermediate/cat_info.csv\",  index_col=[economy, \"income_cat\"]).dropna()\n",
    "cat_info.sample(n=2)"
   ]
  },
  {
   "cell_type": "code",
   "execution_count": 28,
   "metadata": {
    "collapsed": false
   },
   "outputs": [
    {
     "data": {
      "text/html": [
       "<div>\n",
       "<table border=\"1\" class=\"dataframe\">\n",
       "  <thead>\n",
       "    <tr style=\"text-align: right;\">\n",
       "      <th></th>\n",
       "      <th></th>\n",
       "      <th>share</th>\n",
       "      <th>v</th>\n",
       "      <th>fa</th>\n",
       "    </tr>\n",
       "    <tr>\n",
       "      <th>country</th>\n",
       "      <th>sector</th>\n",
       "      <th></th>\n",
       "      <th></th>\n",
       "      <th></th>\n",
       "    </tr>\n",
       "  </thead>\n",
       "  <tbody>\n",
       "    <tr>\n",
       "      <th>Solomon Islands</th>\n",
       "      <th>other_k</th>\n",
       "      <td>0.596668</td>\n",
       "      <td>0.390280</td>\n",
       "      <td>0.195265</td>\n",
       "    </tr>\n",
       "    <tr>\n",
       "      <th>Jamaica</th>\n",
       "      <th>transport</th>\n",
       "      <td>0.044061</td>\n",
       "      <td>0.407671</td>\n",
       "      <td>0.140410</td>\n",
       "    </tr>\n",
       "  </tbody>\n",
       "</table>\n",
       "</div>"
      ],
      "text/plain": [
       "                              share         v        fa\n",
       "country         sector                                 \n",
       "Solomon Islands other_k    0.596668  0.390280  0.195265\n",
       "Jamaica         transport  0.044061  0.407671  0.140410"
      ]
     },
     "execution_count": 28,
     "metadata": {},
     "output_type": "execute_result"
    }
   ],
   "source": [
    "infra_stocks = pd.read_csv(\"intermediate/infra_stocks_in.csv\", index_col=[economy,\"sector\"]).dropna()\n",
    "infra_stocks.sample(n=2)"
   ]
  },
  {
   "cell_type": "code",
   "execution_count": 29,
   "metadata": {
    "collapsed": false,
    "run_control": {
     "frozen": false,
     "read_only": false
    }
   },
   "outputs": [
    {
     "data": {
      "text/plain": [
       "count    10388.000000\n",
       "mean         0.441779\n",
       "std          0.366293\n",
       "min          0.000000\n",
       "25%          0.000000\n",
       "50%          0.600000\n",
       "75%          0.800000\n",
       "max          1.000000\n",
       "Name: shew, dtype: float64"
      ]
     },
     "execution_count": 29,
     "metadata": {},
     "output_type": "execute_result"
    }
   ],
   "source": [
    "hazard_ratios = pd.read_csv(\"intermediate/hazard_ratios.csv\", index_col=event_level+[\"income_cat\"]).dropna()\n",
    "hazard_ratios.shew.describe()"
   ]
  },
  {
   "cell_type": "markdown",
   "metadata": {},
   "source": [
    "# Computes and saves national resilience"
   ]
  },
  {
   "cell_type": "code",
   "execution_count": 30,
   "metadata": {
    "collapsed": false,
    "run_control": {
     "frozen": false,
     "read_only": false
    }
   },
   "outputs": [],
   "source": [
    "groups =  pd.read_csv(\"inputs/income_groups.csv\",header =4,index_col=2)\n",
    "\n",
    "country_per_gp = groups[\"Income group\"].reset_index().dropna().set_index(\"Income group\").squeeze()\n",
    "country_per_rg = groups[\"Region\"].reset_index().dropna().set_index(\"Region\").squeeze()\n",
    "country_per_rg;\n"
   ]
  },
  {
   "cell_type": "code",
   "execution_count": 31,
   "metadata": {
    "collapsed": false
   },
   "outputs": [
    {
     "name": "stdout",
     "output_type": "stream",
     "text": [
      "Replaced in macro: \n",
      "Replaced in cats: fa, shew\n",
      "Replaced in both: \n",
      "stats are axfin,c,dc,dc_npv_post,dc_npv_pre,dk,dw,fa,gamma_SP,help_fee,help_received,k,n,shew,social,v,v_shew\n",
      "nb countries with macro data :146\n",
      "nb countries with cat data :145\n",
      "nb countries with hazard data :134\n",
      "nb countries with results :9\n"
     ]
    }
   ],
   "source": [
    "# args = dict(hazard_ratios = None)\n",
    "args = dict(return_stats=True,hazard_ratios = hazard_ratios)\n",
    "# args = dict(hazard_ratios = hazard_ratios.swaplevel(\"country\",\"hazard\").ix[\"earthquake\"])\n",
    "#args = dict()\n",
    "\n",
    "#Computes\n",
    "results, iah=compute_resilience(macro,cat_info,infra_stocks,return_iah=True,verbose_replace=True,**args)\n",
    "\n",
    "#Saves\n",
    "results.to_csv(\"results/results.csv\",float_format=\"%.5f\")\n",
    "\n",
    "#Quick statistics\n",
    "print(\"nb countries with macro data :\" +str(macro.shape[0]))\n",
    "print(\"nb countries with cat data :\"   +str(cat_info.unstack().dropna().shape[0]))\n",
    "print(\"nb countries with hazard data :\"+str(hazard_ratios.unstack([\"rp\",\"hazard\", \"income_cat\"]).dropna().shape[0]))\n",
    "\n",
    "nb_countries_all_results = results[\"resilience\"].dropna().shape[0]\n",
    "print(\"nb countries with results :\"+str(nb_countries_all_results))"
   ]
  },
  {
   "cell_type": "code",
   "execution_count": 32,
   "metadata": {
    "collapsed": false
   },
   "outputs": [
    {
     "data": {
      "text/html": [
       "<div>\n",
       "<table border=\"1\" class=\"dataframe\">\n",
       "  <thead>\n",
       "    <tr style=\"text-align: right;\">\n",
       "      <th></th>\n",
       "      <th>risk</th>\n",
       "      <th>resilience</th>\n",
       "      <th>risk_to_assets</th>\n",
       "      <th>shew</th>\n",
       "      <th>dKtot</th>\n",
       "    </tr>\n",
       "    <tr>\n",
       "      <th>country</th>\n",
       "      <th></th>\n",
       "      <th></th>\n",
       "      <th></th>\n",
       "      <th></th>\n",
       "      <th></th>\n",
       "    </tr>\n",
       "  </thead>\n",
       "  <tbody>\n",
       "    <tr>\n",
       "      <th>Belize</th>\n",
       "      <td>0.025007</td>\n",
       "      <td>0.314647</td>\n",
       "      <td>0.007868</td>\n",
       "      <td>0.0</td>\n",
       "      <td>2.261179e+07</td>\n",
       "    </tr>\n",
       "    <tr>\n",
       "      <th>Fiji</th>\n",
       "      <td>0.025186</td>\n",
       "      <td>0.537610</td>\n",
       "      <td>0.013540</td>\n",
       "      <td>3.0</td>\n",
       "      <td>1.078543e+08</td>\n",
       "    </tr>\n",
       "    <tr>\n",
       "      <th>Haiti</th>\n",
       "      <td>0.128238</td>\n",
       "      <td>0.193885</td>\n",
       "      <td>0.024863</td>\n",
       "      <td>2.4</td>\n",
       "      <td>4.460760e+08</td>\n",
       "    </tr>\n",
       "    <tr>\n",
       "      <th>Jamaica</th>\n",
       "      <td>0.017166</td>\n",
       "      <td>0.512646</td>\n",
       "      <td>0.008800</td>\n",
       "      <td>3.2</td>\n",
       "      <td>2.076684e+08</td>\n",
       "    </tr>\n",
       "    <tr>\n",
       "      <th>Kiribati</th>\n",
       "      <td>0.000038</td>\n",
       "      <td>0.555560</td>\n",
       "      <td>0.000021</td>\n",
       "      <td>0.0</td>\n",
       "      <td>4.556071e+03</td>\n",
       "    </tr>\n",
       "    <tr>\n",
       "      <th>Papua New Guinea</th>\n",
       "      <td>0.007543</td>\n",
       "      <td>0.521837</td>\n",
       "      <td>0.003936</td>\n",
       "      <td>2.4</td>\n",
       "      <td>8.341291e+07</td>\n",
       "    </tr>\n",
       "    <tr>\n",
       "      <th>Solomon Islands</th>\n",
       "      <td>0.040748</td>\n",
       "      <td>0.496118</td>\n",
       "      <td>0.020216</td>\n",
       "      <td>1.8</td>\n",
       "      <td>2.511649e+07</td>\n",
       "    </tr>\n",
       "    <tr>\n",
       "      <th>St. Lucia</th>\n",
       "      <td>0.020989</td>\n",
       "      <td>0.407170</td>\n",
       "      <td>0.008546</td>\n",
       "      <td>1.8</td>\n",
       "      <td>1.628331e+07</td>\n",
       "    </tr>\n",
       "    <tr>\n",
       "      <th>Tonga</th>\n",
       "      <td>0.033903</td>\n",
       "      <td>0.619407</td>\n",
       "      <td>0.021000</td>\n",
       "      <td>1.8</td>\n",
       "      <td>1.199548e+07</td>\n",
       "    </tr>\n",
       "  </tbody>\n",
       "</table>\n",
       "</div>"
      ],
      "text/plain": [
       "                      risk  resilience  risk_to_assets  shew         dKtot\n",
       "country                                                                   \n",
       "Belize            0.025007    0.314647        0.007868   0.0  2.261179e+07\n",
       "Fiji              0.025186    0.537610        0.013540   3.0  1.078543e+08\n",
       "Haiti             0.128238    0.193885        0.024863   2.4  4.460760e+08\n",
       "Jamaica           0.017166    0.512646        0.008800   3.2  2.076684e+08\n",
       "Kiribati          0.000038    0.555560        0.000021   0.0  4.556071e+03\n",
       "Papua New Guinea  0.007543    0.521837        0.003936   2.4  8.341291e+07\n",
       "Solomon Islands   0.040748    0.496118        0.020216   1.8  2.511649e+07\n",
       "St. Lucia         0.020989    0.407170        0.008546   1.8  1.628331e+07\n",
       "Tonga             0.033903    0.619407        0.021000   1.8  1.199548e+07"
      ]
     },
     "execution_count": 32,
     "metadata": {},
     "output_type": "execute_result"
    }
   ],
   "source": [
    "results[[\"risk\",\"resilience\",\"risk_to_assets\",\"shew\",\"dKtot\",\"\"]]"
   ]
  },
  {
   "cell_type": "code",
   "execution_count": 33,
   "metadata": {
    "collapsed": false
   },
   "outputs": [
    {
     "data": {
      "text/html": [
       "<div>\n",
       "<table border=\"1\" class=\"dataframe\">\n",
       "  <thead>\n",
       "    <tr style=\"text-align: right;\">\n",
       "      <th></th>\n",
       "      <th></th>\n",
       "      <th></th>\n",
       "      <th></th>\n",
       "      <th>fa</th>\n",
       "      <th>shew</th>\n",
       "    </tr>\n",
       "    <tr>\n",
       "      <th>country</th>\n",
       "      <th>hazard</th>\n",
       "      <th>rp</th>\n",
       "      <th>income_cat</th>\n",
       "      <th></th>\n",
       "      <th></th>\n",
       "    </tr>\n",
       "  </thead>\n",
       "  <tbody>\n",
       "    <tr>\n",
       "      <th rowspan=\"30\" valign=\"top\">Albania</th>\n",
       "      <th rowspan=\"14\" valign=\"top\">earthquake</th>\n",
       "      <th rowspan=\"2\" valign=\"top\">20.0</th>\n",
       "      <th>nonpoor</th>\n",
       "      <td>0.007294</td>\n",
       "      <td>0.0</td>\n",
       "    </tr>\n",
       "    <tr>\n",
       "      <th>poor</th>\n",
       "      <td>0.007294</td>\n",
       "      <td>0.0</td>\n",
       "    </tr>\n",
       "    <tr>\n",
       "      <th rowspan=\"2\" valign=\"top\">50.0</th>\n",
       "      <th>nonpoor</th>\n",
       "      <td>0.015454</td>\n",
       "      <td>0.0</td>\n",
       "    </tr>\n",
       "    <tr>\n",
       "      <th>poor</th>\n",
       "      <td>0.015454</td>\n",
       "      <td>0.0</td>\n",
       "    </tr>\n",
       "    <tr>\n",
       "      <th rowspan=\"2\" valign=\"top\">100.0</th>\n",
       "      <th>nonpoor</th>\n",
       "      <td>0.026673</td>\n",
       "      <td>0.0</td>\n",
       "    </tr>\n",
       "    <tr>\n",
       "      <th>poor</th>\n",
       "      <td>0.026673</td>\n",
       "      <td>0.0</td>\n",
       "    </tr>\n",
       "    <tr>\n",
       "      <th rowspan=\"2\" valign=\"top\">250.0</th>\n",
       "      <th>nonpoor</th>\n",
       "      <td>0.052863</td>\n",
       "      <td>0.0</td>\n",
       "    </tr>\n",
       "    <tr>\n",
       "      <th>poor</th>\n",
       "      <td>0.052863</td>\n",
       "      <td>0.0</td>\n",
       "    </tr>\n",
       "    <tr>\n",
       "      <th rowspan=\"2\" valign=\"top\">500.0</th>\n",
       "      <th>nonpoor</th>\n",
       "      <td>0.084578</td>\n",
       "      <td>0.0</td>\n",
       "    </tr>\n",
       "    <tr>\n",
       "      <th>poor</th>\n",
       "      <td>0.084578</td>\n",
       "      <td>0.0</td>\n",
       "    </tr>\n",
       "    <tr>\n",
       "      <th rowspan=\"2\" valign=\"top\">1000.0</th>\n",
       "      <th>nonpoor</th>\n",
       "      <td>0.128833</td>\n",
       "      <td>0.0</td>\n",
       "    </tr>\n",
       "    <tr>\n",
       "      <th>poor</th>\n",
       "      <td>0.128833</td>\n",
       "      <td>0.0</td>\n",
       "    </tr>\n",
       "    <tr>\n",
       "      <th rowspan=\"2\" valign=\"top\">1500.0</th>\n",
       "      <th>nonpoor</th>\n",
       "      <td>0.161317</td>\n",
       "      <td>0.0</td>\n",
       "    </tr>\n",
       "    <tr>\n",
       "      <th>poor</th>\n",
       "      <td>0.161317</td>\n",
       "      <td>0.0</td>\n",
       "    </tr>\n",
       "    <tr>\n",
       "      <th rowspan=\"14\" valign=\"top\">flood</th>\n",
       "      <th rowspan=\"2\" valign=\"top\">20.0</th>\n",
       "      <th>nonpoor</th>\n",
       "      <td>0.013625</td>\n",
       "      <td>0.0</td>\n",
       "    </tr>\n",
       "    <tr>\n",
       "      <th>poor</th>\n",
       "      <td>0.012439</td>\n",
       "      <td>0.0</td>\n",
       "    </tr>\n",
       "    <tr>\n",
       "      <th rowspan=\"2\" valign=\"top\">50.0</th>\n",
       "      <th>nonpoor</th>\n",
       "      <td>0.030463</td>\n",
       "      <td>0.0</td>\n",
       "    </tr>\n",
       "    <tr>\n",
       "      <th>poor</th>\n",
       "      <td>0.027813</td>\n",
       "      <td>0.0</td>\n",
       "    </tr>\n",
       "    <tr>\n",
       "      <th rowspan=\"2\" valign=\"top\">100.0</th>\n",
       "      <th>nonpoor</th>\n",
       "      <td>0.036806</td>\n",
       "      <td>0.0</td>\n",
       "    </tr>\n",
       "    <tr>\n",
       "      <th>poor</th>\n",
       "      <td>0.033603</td>\n",
       "      <td>0.0</td>\n",
       "    </tr>\n",
       "    <tr>\n",
       "      <th rowspan=\"2\" valign=\"top\">250.0</th>\n",
       "      <th>nonpoor</th>\n",
       "      <td>0.064867</td>\n",
       "      <td>0.0</td>\n",
       "    </tr>\n",
       "    <tr>\n",
       "      <th>poor</th>\n",
       "      <td>0.059223</td>\n",
       "      <td>0.0</td>\n",
       "    </tr>\n",
       "    <tr>\n",
       "      <th rowspan=\"2\" valign=\"top\">500.0</th>\n",
       "      <th>nonpoor</th>\n",
       "      <td>0.075788</td>\n",
       "      <td>0.0</td>\n",
       "    </tr>\n",
       "    <tr>\n",
       "      <th>poor</th>\n",
       "      <td>0.069194</td>\n",
       "      <td>0.0</td>\n",
       "    </tr>\n",
       "    <tr>\n",
       "      <th rowspan=\"2\" valign=\"top\">1000.0</th>\n",
       "      <th>nonpoor</th>\n",
       "      <td>0.088330</td>\n",
       "      <td>0.0</td>\n",
       "    </tr>\n",
       "    <tr>\n",
       "      <th>poor</th>\n",
       "      <td>0.080645</td>\n",
       "      <td>0.0</td>\n",
       "    </tr>\n",
       "    <tr>\n",
       "      <th rowspan=\"2\" valign=\"top\">1500.0</th>\n",
       "      <th>nonpoor</th>\n",
       "      <td>0.094378</td>\n",
       "      <td>0.0</td>\n",
       "    </tr>\n",
       "    <tr>\n",
       "      <th>poor</th>\n",
       "      <td>0.086167</td>\n",
       "      <td>0.0</td>\n",
       "    </tr>\n",
       "    <tr>\n",
       "      <th rowspan=\"2\" valign=\"top\">surge</th>\n",
       "      <th rowspan=\"2\" valign=\"top\">20.0</th>\n",
       "      <th>nonpoor</th>\n",
       "      <td>0.000000</td>\n",
       "      <td>0.0</td>\n",
       "    </tr>\n",
       "    <tr>\n",
       "      <th>poor</th>\n",
       "      <td>0.000000</td>\n",
       "      <td>0.0</td>\n",
       "    </tr>\n",
       "    <tr>\n",
       "      <th>...</th>\n",
       "      <th>...</th>\n",
       "      <th>...</th>\n",
       "      <th>...</th>\n",
       "      <td>...</td>\n",
       "      <td>...</td>\n",
       "    </tr>\n",
       "    <tr>\n",
       "      <th rowspan=\"30\" valign=\"top\">Zimbabwe</th>\n",
       "      <th rowspan=\"2\" valign=\"top\">surge</th>\n",
       "      <th rowspan=\"2\" valign=\"top\">1500.0</th>\n",
       "      <th>nonpoor</th>\n",
       "      <td>0.000000</td>\n",
       "      <td>0.8</td>\n",
       "    </tr>\n",
       "    <tr>\n",
       "      <th>poor</th>\n",
       "      <td>0.000000</td>\n",
       "      <td>0.8</td>\n",
       "    </tr>\n",
       "    <tr>\n",
       "      <th rowspan=\"14\" valign=\"top\">tsunami</th>\n",
       "      <th rowspan=\"2\" valign=\"top\">20.0</th>\n",
       "      <th>nonpoor</th>\n",
       "      <td>0.000000</td>\n",
       "      <td>0.8</td>\n",
       "    </tr>\n",
       "    <tr>\n",
       "      <th>poor</th>\n",
       "      <td>0.000000</td>\n",
       "      <td>0.8</td>\n",
       "    </tr>\n",
       "    <tr>\n",
       "      <th rowspan=\"2\" valign=\"top\">50.0</th>\n",
       "      <th>nonpoor</th>\n",
       "      <td>0.000000</td>\n",
       "      <td>0.8</td>\n",
       "    </tr>\n",
       "    <tr>\n",
       "      <th>poor</th>\n",
       "      <td>0.000000</td>\n",
       "      <td>0.8</td>\n",
       "    </tr>\n",
       "    <tr>\n",
       "      <th rowspan=\"2\" valign=\"top\">100.0</th>\n",
       "      <th>nonpoor</th>\n",
       "      <td>0.000000</td>\n",
       "      <td>0.8</td>\n",
       "    </tr>\n",
       "    <tr>\n",
       "      <th>poor</th>\n",
       "      <td>0.000000</td>\n",
       "      <td>0.8</td>\n",
       "    </tr>\n",
       "    <tr>\n",
       "      <th rowspan=\"2\" valign=\"top\">250.0</th>\n",
       "      <th>nonpoor</th>\n",
       "      <td>0.000000</td>\n",
       "      <td>0.8</td>\n",
       "    </tr>\n",
       "    <tr>\n",
       "      <th>poor</th>\n",
       "      <td>0.000000</td>\n",
       "      <td>0.8</td>\n",
       "    </tr>\n",
       "    <tr>\n",
       "      <th rowspan=\"2\" valign=\"top\">500.0</th>\n",
       "      <th>nonpoor</th>\n",
       "      <td>0.000000</td>\n",
       "      <td>0.8</td>\n",
       "    </tr>\n",
       "    <tr>\n",
       "      <th>poor</th>\n",
       "      <td>0.000000</td>\n",
       "      <td>0.8</td>\n",
       "    </tr>\n",
       "    <tr>\n",
       "      <th rowspan=\"2\" valign=\"top\">1000.0</th>\n",
       "      <th>nonpoor</th>\n",
       "      <td>0.000000</td>\n",
       "      <td>0.8</td>\n",
       "    </tr>\n",
       "    <tr>\n",
       "      <th>poor</th>\n",
       "      <td>0.000000</td>\n",
       "      <td>0.8</td>\n",
       "    </tr>\n",
       "    <tr>\n",
       "      <th rowspan=\"2\" valign=\"top\">1500.0</th>\n",
       "      <th>nonpoor</th>\n",
       "      <td>0.000000</td>\n",
       "      <td>0.8</td>\n",
       "    </tr>\n",
       "    <tr>\n",
       "      <th>poor</th>\n",
       "      <td>0.000000</td>\n",
       "      <td>0.8</td>\n",
       "    </tr>\n",
       "    <tr>\n",
       "      <th rowspan=\"14\" valign=\"top\">wind</th>\n",
       "      <th rowspan=\"2\" valign=\"top\">20.0</th>\n",
       "      <th>nonpoor</th>\n",
       "      <td>0.000000</td>\n",
       "      <td>0.8</td>\n",
       "    </tr>\n",
       "    <tr>\n",
       "      <th>poor</th>\n",
       "      <td>0.000000</td>\n",
       "      <td>0.8</td>\n",
       "    </tr>\n",
       "    <tr>\n",
       "      <th rowspan=\"2\" valign=\"top\">50.0</th>\n",
       "      <th>nonpoor</th>\n",
       "      <td>0.000000</td>\n",
       "      <td>0.8</td>\n",
       "    </tr>\n",
       "    <tr>\n",
       "      <th>poor</th>\n",
       "      <td>0.000000</td>\n",
       "      <td>0.8</td>\n",
       "    </tr>\n",
       "    <tr>\n",
       "      <th rowspan=\"2\" valign=\"top\">100.0</th>\n",
       "      <th>nonpoor</th>\n",
       "      <td>0.000000</td>\n",
       "      <td>0.8</td>\n",
       "    </tr>\n",
       "    <tr>\n",
       "      <th>poor</th>\n",
       "      <td>0.000000</td>\n",
       "      <td>0.8</td>\n",
       "    </tr>\n",
       "    <tr>\n",
       "      <th rowspan=\"2\" valign=\"top\">250.0</th>\n",
       "      <th>nonpoor</th>\n",
       "      <td>0.000000</td>\n",
       "      <td>0.8</td>\n",
       "    </tr>\n",
       "    <tr>\n",
       "      <th>poor</th>\n",
       "      <td>0.000000</td>\n",
       "      <td>0.8</td>\n",
       "    </tr>\n",
       "    <tr>\n",
       "      <th rowspan=\"2\" valign=\"top\">500.0</th>\n",
       "      <th>nonpoor</th>\n",
       "      <td>0.000000</td>\n",
       "      <td>0.8</td>\n",
       "    </tr>\n",
       "    <tr>\n",
       "      <th>poor</th>\n",
       "      <td>0.000000</td>\n",
       "      <td>0.8</td>\n",
       "    </tr>\n",
       "    <tr>\n",
       "      <th rowspan=\"2\" valign=\"top\">1000.0</th>\n",
       "      <th>nonpoor</th>\n",
       "      <td>0.000000</td>\n",
       "      <td>0.8</td>\n",
       "    </tr>\n",
       "    <tr>\n",
       "      <th>poor</th>\n",
       "      <td>0.000000</td>\n",
       "      <td>0.8</td>\n",
       "    </tr>\n",
       "    <tr>\n",
       "      <th rowspan=\"2\" valign=\"top\">1500.0</th>\n",
       "      <th>nonpoor</th>\n",
       "      <td>0.000000</td>\n",
       "      <td>0.8</td>\n",
       "    </tr>\n",
       "    <tr>\n",
       "      <th>poor</th>\n",
       "      <td>0.000000</td>\n",
       "      <td>0.8</td>\n",
       "    </tr>\n",
       "  </tbody>\n",
       "</table>\n",
       "<p>10388 rows × 2 columns</p>\n",
       "</div>"
      ],
      "text/plain": [
       "                                             fa  shew\n",
       "country  hazard     rp     income_cat                \n",
       "Albania  earthquake 20.0   nonpoor     0.007294   0.0\n",
       "                           poor        0.007294   0.0\n",
       "                    50.0   nonpoor     0.015454   0.0\n",
       "                           poor        0.015454   0.0\n",
       "                    100.0  nonpoor     0.026673   0.0\n",
       "                           poor        0.026673   0.0\n",
       "                    250.0  nonpoor     0.052863   0.0\n",
       "                           poor        0.052863   0.0\n",
       "                    500.0  nonpoor     0.084578   0.0\n",
       "                           poor        0.084578   0.0\n",
       "                    1000.0 nonpoor     0.128833   0.0\n",
       "                           poor        0.128833   0.0\n",
       "                    1500.0 nonpoor     0.161317   0.0\n",
       "                           poor        0.161317   0.0\n",
       "         flood      20.0   nonpoor     0.013625   0.0\n",
       "                           poor        0.012439   0.0\n",
       "                    50.0   nonpoor     0.030463   0.0\n",
       "                           poor        0.027813   0.0\n",
       "                    100.0  nonpoor     0.036806   0.0\n",
       "                           poor        0.033603   0.0\n",
       "                    250.0  nonpoor     0.064867   0.0\n",
       "                           poor        0.059223   0.0\n",
       "                    500.0  nonpoor     0.075788   0.0\n",
       "                           poor        0.069194   0.0\n",
       "                    1000.0 nonpoor     0.088330   0.0\n",
       "                           poor        0.080645   0.0\n",
       "                    1500.0 nonpoor     0.094378   0.0\n",
       "                           poor        0.086167   0.0\n",
       "         surge      20.0   nonpoor     0.000000   0.0\n",
       "                           poor        0.000000   0.0\n",
       "...                                         ...   ...\n",
       "Zimbabwe surge      1500.0 nonpoor     0.000000   0.8\n",
       "                           poor        0.000000   0.8\n",
       "         tsunami    20.0   nonpoor     0.000000   0.8\n",
       "                           poor        0.000000   0.8\n",
       "                    50.0   nonpoor     0.000000   0.8\n",
       "                           poor        0.000000   0.8\n",
       "                    100.0  nonpoor     0.000000   0.8\n",
       "                           poor        0.000000   0.8\n",
       "                    250.0  nonpoor     0.000000   0.8\n",
       "                           poor        0.000000   0.8\n",
       "                    500.0  nonpoor     0.000000   0.8\n",
       "                           poor        0.000000   0.8\n",
       "                    1000.0 nonpoor     0.000000   0.8\n",
       "                           poor        0.000000   0.8\n",
       "                    1500.0 nonpoor     0.000000   0.8\n",
       "                           poor        0.000000   0.8\n",
       "         wind       20.0   nonpoor     0.000000   0.8\n",
       "                           poor        0.000000   0.8\n",
       "                    50.0   nonpoor     0.000000   0.8\n",
       "                           poor        0.000000   0.8\n",
       "                    100.0  nonpoor     0.000000   0.8\n",
       "                           poor        0.000000   0.8\n",
       "                    250.0  nonpoor     0.000000   0.8\n",
       "                           poor        0.000000   0.8\n",
       "                    500.0  nonpoor     0.000000   0.8\n",
       "                           poor        0.000000   0.8\n",
       "                    1000.0 nonpoor     0.000000   0.8\n",
       "                           poor        0.000000   0.8\n",
       "                    1500.0 nonpoor     0.000000   0.8\n",
       "                           poor        0.000000   0.8\n",
       "\n",
       "[10388 rows x 2 columns]"
      ]
     },
     "execution_count": 33,
     "metadata": {},
     "output_type": "execute_result"
    }
   ],
   "source": [
    "hazard_ratios"
   ]
  },
  {
   "cell_type": "code",
   "execution_count": 11,
   "metadata": {
    "collapsed": false,
    "run_control": {
     "frozen": false,
     "read_only": false
    }
   },
   "outputs": [
    {
     "name": "stdout",
     "output_type": "stream",
     "text": [
      "Replaced in macro: \n",
      "Replaced in cats: fa, shew\n",
      "Replaced in both: \n",
      "stats are axfin,c,dc,dc_npv_post,dc_npv_pre,dk,dw,fa,gamma_SP,help_fee,help_received,k,n,shew,social,v,v_shew\n",
      "nb countries with macro data :146\n",
      "nb countries with cat data :145\n",
      "nb countries with hazard data :12\n",
      "nb countries with results :9\n",
      "Resilience averages 38% across our sample, ranging from 13% (Haiti) to 60% (Tonga)\n",
      "Risk to welfare averages 13.61% across our sample, ranging from 0.011% (Kiribati) to 59.4% (Haiti)\n",
      "Risk to assets averages 3.63% across our sample, ranging from 0.006% (Kiribati) to 7.5% (Haiti)\n",
      "At the global scale, we estimate asset losses due to natural disasters to be 3 bn$ per year. But due to lack of socio economic capacity, welfare losses are 5.3 times larger, at 15 bn$ per year\n",
      "\n",
      "=======\n",
      "Low income\n",
      "Resilience averages 13% across our sample, ranging from 13% (Haiti) to 13% (Haiti)\n",
      "Risk to welfare averages 59.40% across our sample, ranging from 59.397% (Haiti) to 59.4% (Haiti)\n",
      "Risk to assets averages 7.46% across our sample, ranging from 7.459% (Haiti) to 7.5% (Haiti)\n",
      "At the Low income scale, we estimate asset losses due to natural disasters to be 1 bn$ per year. But due to lack of socio economic capacity, welfare losses are 8.0 times larger, at 11 bn$ per year\n",
      "\n",
      "=======\n",
      "Upper middle income\n",
      "Resilience averages 41% across our sample, ranging from 27% (Belize) to 60% (Tonga)\n",
      "Risk to welfare averages 8.60% across our sample, ranging from 6.848% (St. Lucia) to 10.4% (Tonga)\n",
      "Risk to assets averages 3.59% across our sample, ranging from 2.360% (Belize) to 6.3% (Tonga)\n",
      "At the Upper middle income scale, we estimate asset losses due to natural disasters to be 1 bn$ per year. But due to lack of socio economic capacity, welfare losses are 2.6 times larger, at 3 bn$ per year\n",
      "\n",
      "=======\n",
      "High income: nonOECD\n",
      "Resilience averages nan% across our sample, ranging from nan% (nan) to nan% (nan)\n",
      "Risk to welfare averages nan% across our sample, ranging from nan% (nan) to nan% (nan)\n",
      "Risk to assets averages nan% across our sample, ranging from nan% (nan) to nan% (nan)\n"
     ]
    },
    {
     "ename": "ZeroDivisionError",
     "evalue": "float division by zero",
     "output_type": "error",
     "traceback": [
      "\u001b[0;31m---------------------------------------------------------------------------\u001b[0m",
      "\u001b[0;31mZeroDivisionError\u001b[0m                         Traceback (most recent call last)",
      "\u001b[0;32m<ipython-input-11-e8ce4f462a2b>\u001b[0m in \u001b[0;36m<module>\u001b[0;34m()\u001b[0m\n\u001b[1;32m     46\u001b[0m \u001b[1;32mfor\u001b[0m \u001b[0mg\u001b[0m \u001b[1;32min\u001b[0m \u001b[0mcountry_per_gp\u001b[0m\u001b[1;33m.\u001b[0m\u001b[0mindex\u001b[0m\u001b[1;33m.\u001b[0m\u001b[0munique\u001b[0m\u001b[1;33m(\u001b[0m\u001b[1;33m)\u001b[0m\u001b[1;33m:\u001b[0m\u001b[1;33m\u001b[0m\u001b[0m\n\u001b[1;32m     47\u001b[0m     \u001b[0mprint\u001b[0m\u001b[1;33m(\u001b[0m\u001b[1;34m\"\\n=======\\n\"\u001b[0m\u001b[1;33m+\u001b[0m\u001b[0mg\u001b[0m\u001b[1;33m)\u001b[0m\u001b[1;33m\u001b[0m\u001b[0m\n\u001b[0;32m---> 48\u001b[0;31m     \u001b[0mprint_stats\u001b[0m\u001b[1;33m(\u001b[0m\u001b[0mresults\u001b[0m\u001b[1;33m.\u001b[0m\u001b[0mix\u001b[0m\u001b[1;33m[\u001b[0m\u001b[0mcountry_per_gp\u001b[0m\u001b[1;33m.\u001b[0m\u001b[0mix\u001b[0m\u001b[1;33m[\u001b[0m\u001b[0mg\u001b[0m\u001b[1;33m]\u001b[0m\u001b[1;33m]\u001b[0m\u001b[1;33m,\u001b[0m\u001b[0mg\u001b[0m\u001b[1;33m)\u001b[0m\u001b[1;33m\u001b[0m\u001b[0m\n\u001b[0m\u001b[1;32m     49\u001b[0m \u001b[1;33m\u001b[0m\u001b[0m\n\u001b[1;32m     50\u001b[0m \u001b[1;32mfor\u001b[0m \u001b[0mr\u001b[0m \u001b[1;32min\u001b[0m \u001b[0mcountry_per_rg\u001b[0m\u001b[1;33m.\u001b[0m\u001b[0mindex\u001b[0m\u001b[1;33m.\u001b[0m\u001b[0munique\u001b[0m\u001b[1;33m(\u001b[0m\u001b[1;33m)\u001b[0m\u001b[1;33m:\u001b[0m\u001b[1;33m\u001b[0m\u001b[0m\n",
      "\u001b[0;32m<ipython-input-11-e8ce4f462a2b>\u001b[0m in \u001b[0;36mprint_stats\u001b[0;34m(results, region_name)\u001b[0m\n\u001b[1;32m     39\u001b[0m     \u001b[0mk\u001b[0m\u001b[1;33m=\u001b[0m \u001b[0mresults\u001b[0m\u001b[1;33m.\u001b[0m\u001b[0mdKtot\u001b[0m\u001b[1;33m.\u001b[0m\u001b[0msum\u001b[0m\u001b[1;33m(\u001b[0m\u001b[1;33m)\u001b[0m\u001b[1;33m*\u001b[0m\u001b[1;36m1e-9\u001b[0m\u001b[1;33m,\u001b[0m\u001b[1;33m\u001b[0m\u001b[0m\n\u001b[1;32m     40\u001b[0m     \u001b[0mregion_name\u001b[0m \u001b[1;33m=\u001b[0m \u001b[0mregion_name\u001b[0m\u001b[1;33m,\u001b[0m\u001b[1;33m\u001b[0m\u001b[0m\n\u001b[0;32m---> 41\u001b[0;31m     r=results.dWtot_currency.sum()/results.dKtot.sum()))\n\u001b[0m\u001b[1;32m     42\u001b[0m \u001b[1;33m\u001b[0m\u001b[0m\n\u001b[1;32m     43\u001b[0m \u001b[1;33m\u001b[0m\u001b[0m\n",
      "\u001b[0;31mZeroDivisionError\u001b[0m: float division by zero"
     ]
    }
   ],
   "source": [
    "\n",
    "def print_stats(results, region_name=\"global\"):\n",
    "\n",
    "    #Some stats\n",
    "    a=results.resilience;\n",
    "    print(\"Resilience averages {mean:.0%} across our sample, ranging from {min:.0%} ({m}) to {max:.0%} ({M})\".format(\n",
    "            min=a.min(),mean=a.mean(),max=a.max(), m=a.argmin(),M=a.argmax()))\n",
    "\n",
    "    a=results.risk\n",
    "    print(\"Risk to welfare averages {mean:.2%} across our sample, ranging from {min:.03%} ({m}) to {max:.1%} ({M})\".format(\n",
    "        min=a.min(),mean=a.mean(),max=a.max(),m=a.argmin(),M=a.argmax()))\n",
    "\n",
    "    a=results.risk_to_assets\n",
    "    print(\"Risk to assets averages {mean:.2%} across our sample, ranging from {min:.03%} ({m}) to {max:.1%} ({M})\".format(\n",
    "        min=a.min(),mean=a.mean(),max=a.max(),m=a.argmin(),M=a.argmax()))\n",
    "\n",
    "\n",
    "    print(\"At the {region_name} scale, we estimate asset losses due to natural disasters to be {k:.0f} bn$ per year. \"\\\n",
    "          \"But due to lack of socio economic capacity, welfare losses are {r:.1f} times larger, at {w:.0f} bn$ per year\".format( \n",
    "    w= results.dWtot_currency.sum()*1e-9,\n",
    "    k= results.dKtot.sum()*1e-9,\n",
    "    region_name = region_name,\n",
    "    r=results.dWtot_currency.sum()/results.dKtot.sum()))\n",
    "\n",
    "    \n",
    "print_stats(results)    \n",
    "\n",
    "for g in country_per_gp.index.unique():\n",
    "    print(\"\\n=======\\n\"+g)\n",
    "    print_stats(results.ix[country_per_gp.ix[g]],g)\n",
    "\n",
    "for r in country_per_rg.index.unique():\n",
    "    if results.ix[country_per_rg.ix[r]] \n",
    "    print(\"\\n=======\\n\"+r)\n",
    "    print_stats(results.ix[country_per_rg.ix[r]],r)\n",
    "    \n",
    "\n",
    "#eca_clients = groups[(~ groups[\"Income group\"].isin([\"High income: nonOECD\", \"High income: OECD\"])) \n",
    "                        # & (groups[\"Region\"]==\"Europe & Central Asia\")].index\n",
    "#print(\"\\n=======\\n\"+\"ECA\")    \n",
    "#print_stats(results.ix[eca_clients],\"ECA CLIENTS\")    \n",
    "   "
   ]
  },
  {
   "cell_type": "code",
   "execution_count": 40,
   "metadata": {
    "collapsed": false,
    "run_control": {
     "frozen": false,
     "read_only": false
    }
   },
   "outputs": [
    {
     "data": {
      "text/plain": [
       "['Finland']"
      ]
     },
     "execution_count": 40,
     "metadata": {},
     "output_type": "execute_result"
    }
   ],
   "source": [
    "[c for c in macro.dropna().index if c not in results.dropna().index]"
   ]
  },
  {
   "cell_type": "raw",
   "metadata": {
    "collapsed": false,
    "run_control": {
     "frozen": false,
     "read_only": false
    }
   },
   "source": [
    " \n",
    "results.ix[[\"Denmark\", \"Angola\",\"Senegal\", \"Nepal\", \"Netherlands\",\"Malawi\", \"Bangladesh\",\"Japan\", \"Germany\",\"Finland\", \"Mauritius\",\"Congo, Dem. Rep.\", \"Lao PDR\"],[\"protection\", \"risk\", \"v\",\"shew\",\"fa\",\"risk_to_assets\",\"resilience\"]]"
   ]
  },
  {
   "cell_type": "code",
   "execution_count": null,
   "metadata": {
    "collapsed": true,
    "run_control": {
     "frozen": false,
     "read_only": false
    }
   },
   "outputs": [],
   "source": []
  },
  {
   "cell_type": "markdown",
   "metadata": {
    "collapsed": false,
    "run_control": {
     "frozen": false,
     "read_only": false
    }
   },
   "source": [
    "results.query(\".45<resilience<.55\").resilience"
   ]
  },
  {
   "cell_type": "code",
   "execution_count": 41,
   "metadata": {
    "collapsed": false,
    "run_control": {
     "frozen": false,
     "read_only": false
    }
   },
   "outputs": [
    {
     "data": {
      "text/plain": [
       "country\n",
       "Bangladesh     0.022718\n",
       "El Salvador    0.026985\n",
       "Honduras       0.027864\n",
       "Lao PDR        0.035268\n",
       "Madagascar     0.035413\n",
       "Peru           0.020987\n",
       "Philippines    0.045164\n",
       "Name: risk_to_assets, dtype: float64"
      ]
     },
     "execution_count": 41,
     "metadata": {},
     "output_type": "execute_result"
    }
   ],
   "source": [
    "results.query(\"risk_to_assets>.02\").risk_to_assets"
   ]
  },
  {
   "cell_type": "markdown",
   "metadata": {},
   "source": [
    "# compare with GAR"
   ]
  },
  {
   "cell_type": "code",
   "execution_count": 42,
   "metadata": {
    "collapsed": false,
    "run_control": {
     "frozen": false,
     "read_only": false
    }
   },
   "outputs": [],
   "source": [
    "from fancy_plots import savefig\n",
    "from os import makedirs"
   ]
  },
  {
   "cell_type": "code",
   "execution_count": 43,
   "metadata": {
    "collapsed": false,
    "run_control": {
     "frozen": false,
     "read_only": false
    }
   },
   "outputs": [
    {
     "data": {
      "image/png": "[encoded data removed]",
      "text/plain": [
       "<matplotlib.figure.Figure at 0xbe116a0>"
      ]
     },
     "metadata": {},
     "output_type": "display_data"
    }
   ],
   "source": [
    "results[\"fracKdestoyedus\"] =  results.dKtot/(results.gdp_pc_pp*results[\"pop\"]/results.avg_prod_k)\n",
    "\n",
    "results[\"fracKdestoyedgar\"] =average_over_rp(pd.read_csv(\"intermediate/frac_value_destroyed_gar.csv\").set_index([\"country\",\"hazard\",\"rp\"])).sum(level=\"country\").squeeze()\n",
    "\n",
    "results.plot.scatter(x=\"fracKdestoyedgar\", y=\"fracKdestoyedus\", figsize=(7,7))\n",
    "plt.xlim(0,0.005)\n",
    "plt.ylim(0,0.005)\n",
    "makedirs(\"img\",exist_ok=True)\n",
    "savefig(\"img/gar_dkk_vs_us_dkk\")"
   ]
  },
  {
   "cell_type": "markdown",
   "metadata": {},
   "source": [
    "# export table"
   ]
  },
  {
   "cell_type": "code",
   "execution_count": null,
   "metadata": {
    "collapsed": false,
    "run_control": {
     "frozen": false,
     "read_only": false
    }
   },
   "outputs": [],
   "source": []
  },
  {
   "cell_type": "code",
   "execution_count": 21,
   "metadata": {
    "collapsed": false,
    "run_control": {
     "frozen": false,
     "read_only": false
    }
   },
   "outputs": [
    {
     "data": {
      "text/html": [
       "<div>\n",
       "<table border=\"1\" class=\"dataframe\">\n",
       "  <thead>\n",
       "    <tr style=\"text-align: right;\">\n",
       "      <th></th>\n",
       "      <th>GDP per capita</th>\n",
       "      <th>Population</th>\n",
       "      <th>Vulnerability</th>\n",
       "      <th>Exposure (percent of the population)</th>\n",
       "      <th>Resilience</th>\n",
       "      <th>Risk to welfare</th>\n",
       "      <th>Risk to assets</th>\n",
       "      <th>Exposure (percent of GDP)</th>\n",
       "    </tr>\n",
       "    <tr>\n",
       "      <th>country</th>\n",
       "      <th></th>\n",
       "      <th></th>\n",
       "      <th></th>\n",
       "      <th></th>\n",
       "      <th></th>\n",
       "      <th></th>\n",
       "      <th></th>\n",
       "      <th></th>\n",
       "    </tr>\n",
       "  </thead>\n",
       "  <tbody>\n",
       "    <tr>\n",
       "      <th>Albania</th>\n",
       "      <td>9960.940726</td>\n",
       "      <td>2.897366</td>\n",
       "      <td>38.234225</td>\n",
       "      <td>0.481400</td>\n",
       "      <td>69.007030</td>\n",
       "      <td>1.431156</td>\n",
       "      <td>0.987598</td>\n",
       "      <td>2.598232</td>\n",
       "    </tr>\n",
       "    <tr>\n",
       "      <th>Angola</th>\n",
       "      <td>7488.011760</td>\n",
       "      <td>21.471618</td>\n",
       "      <td>60.540000</td>\n",
       "      <td>0.154274</td>\n",
       "      <td>31.208563</td>\n",
       "      <td>0.477733</td>\n",
       "      <td>0.149094</td>\n",
       "      <td>0.356786</td>\n",
       "    </tr>\n",
       "    <tr>\n",
       "      <th>Argentina</th>\n",
       "      <td>18087.196262</td>\n",
       "      <td>41.446246</td>\n",
       "      <td>41.111968</td>\n",
       "      <td>0.308703</td>\n",
       "      <td>56.729170</td>\n",
       "      <td>0.775769</td>\n",
       "      <td>0.440087</td>\n",
       "      <td>1.145254</td>\n",
       "    </tr>\n",
       "    <tr>\n",
       "      <th>Armenia</th>\n",
       "      <td>7526.836419</td>\n",
       "      <td>2.976566</td>\n",
       "      <td>24.298125</td>\n",
       "      <td>1.131023</td>\n",
       "      <td>70.691501</td>\n",
       "      <td>1.029256</td>\n",
       "      <td>0.727596</td>\n",
       "      <td>3.084364</td>\n",
       "    </tr>\n",
       "    <tr>\n",
       "      <th>Australia</th>\n",
       "      <td>42834.016760</td>\n",
       "      <td>23.129300</td>\n",
       "      <td>54.994642</td>\n",
       "      <td>0.129016</td>\n",
       "      <td>72.296851</td>\n",
       "      <td>0.280609</td>\n",
       "      <td>0.202872</td>\n",
       "      <td>0.471544</td>\n",
       "    </tr>\n",
       "  </tbody>\n",
       "</table>\n",
       "</div>"
      ],
      "text/plain": [
       "           GDP per capita  Population  Vulnerability  \\\n",
       "country                                                \n",
       "Albania       9960.940726    2.897366      38.234225   \n",
       "Angola        7488.011760   21.471618      60.540000   \n",
       "Argentina    18087.196262   41.446246      41.111968   \n",
       "Armenia       7526.836419    2.976566      24.298125   \n",
       "Australia    42834.016760   23.129300      54.994642   \n",
       "\n",
       "           Exposure (percent of the population)  Resilience  Risk to welfare  \\\n",
       "country                                                                        \n",
       "Albania                                0.481400   69.007030         1.431156   \n",
       "Angola                                 0.154274   31.208563         0.477733   \n",
       "Argentina                              0.308703   56.729170         0.775769   \n",
       "Armenia                                1.131023   70.691501         1.029256   \n",
       "Australia                              0.129016   72.296851         0.280609   \n",
       "\n",
       "           Risk to assets  Exposure (percent of GDP)  \n",
       "country                                               \n",
       "Albania          0.987598                   2.598232  \n",
       "Angola           0.149094                   0.356786  \n",
       "Argentina        0.440087                   1.145254  \n",
       "Armenia          0.727596                   3.084364  \n",
       "Australia        0.202872                   0.471544  "
      ]
     },
     "execution_count": 21,
     "metadata": {},
     "output_type": "execute_result"
    }
   ],
   "source": [
    "a=results.copy()\n",
    "\n",
    "a[\"v\"] = pd.read_csv(\"inputs/v_pr_fromPAGER_shaved_GAR.csv\", index_col=\"country\").v\n",
    "\n",
    "\n",
    "to_output = ['gdp_pc_pp', 'pop',\"v\",\"fa\",\"resilience\",\"risk\",\"risk_to_assets\"]\n",
    "a=a[to_output]\n",
    "\n",
    "a[\"pop\"] = a[\"pop\"]/1e6\n",
    "\n",
    "a[\"fa_in_gdp\"] =  results[\"fa\"]/ results[\"avg_prod_k\"]\n",
    "\n",
    "a.to_csv(\"intermediate/main_results.csv\")\n",
    "\n",
    "\n",
    "a.loc[:,[\"fa\",\"fa_in_gdp\",\"v\",\"resilience\",\"risk\", \"risk_to_assets\"]]=100*a[[\"fa\",\"fa_in_gdp\",\"v\",\"resilience\",\"risk\",\"risk_to_assets\"]]\n",
    "desc=pd.read_csv(\"inputs/inputs_info.csv\").set_index('key')[\"descriptor\"]\n",
    "a=a.rename(columns=desc).dropna()\n",
    "a.to_excel(\"intermediate/results.xlsx\")\n",
    "a.head()\n"
   ]
  },
  {
   "cell_type": "markdown",
   "metadata": {},
   "source": [
    "## export table for Brad's appendix of results"
   ]
  },
  {
   "cell_type": "code",
   "execution_count": 22,
   "metadata": {
    "collapsed": true,
    "run_control": {
     "frozen": false,
     "read_only": false
    }
   },
   "outputs": [],
   "source": [
    "from fancy_round import fancy_round"
   ]
  },
  {
   "cell_type": "code",
   "execution_count": 23,
   "metadata": {
    "collapsed": true,
    "run_control": {
     "frozen": false,
     "read_only": false
    }
   },
   "outputs": [],
   "source": [
    "export = pd.DataFrame()"
   ]
  },
  {
   "cell_type": "code",
   "execution_count": 24,
   "metadata": {
    "collapsed": false,
    "run_control": {
     "frozen": false,
     "read_only": false
    }
   },
   "outputs": [
    {
     "data": {
      "text/html": [
       "<div>\n",
       "<table border=\"1\" class=\"dataframe\">\n",
       "  <thead>\n",
       "    <tr style=\"text-align: right;\">\n",
       "      <th></th>\n",
       "      <th>Assets</th>\n",
       "      <th>Resilience</th>\n",
       "      <th>Well-being</th>\n",
       "    </tr>\n",
       "    <tr>\n",
       "      <th>country</th>\n",
       "      <th></th>\n",
       "      <th></th>\n",
       "      <th></th>\n",
       "    </tr>\n",
       "  </thead>\n",
       "  <tbody>\n",
       "    <tr>\n",
       "      <th>Indonesia</th>\n",
       "      <td>Risk to assets: $7,700 million (0.33% of GDP)</td>\n",
       "      <td>Socio-economic Resilience: 69%</td>\n",
       "      <td>Risk to well-being: $11,000 million (0.49% of ...</td>\n",
       "    </tr>\n",
       "    <tr>\n",
       "      <th>Egypt, Arab Rep.</th>\n",
       "      <td>Risk to assets: $750 million (0.09% of GDP)</td>\n",
       "      <td>Socio-economic Resilience: 58%</td>\n",
       "      <td>Risk to well-being: $1,300 million (0.15% of GDP)</td>\n",
       "    </tr>\n",
       "    <tr>\n",
       "      <th>Kazakhstan</th>\n",
       "      <td>Risk to assets: $1,000 million (0.27% of GDP)</td>\n",
       "      <td>Socio-economic Resilience: 62%</td>\n",
       "      <td>Risk to well-being: $1,600 million (0.43% of GDP)</td>\n",
       "    </tr>\n",
       "    <tr>\n",
       "      <th>Philippines</th>\n",
       "      <td>Risk to assets: $28,000 million (4.5% of GDP)</td>\n",
       "      <td>Socio-economic Resilience: 69%</td>\n",
       "      <td>Risk to well-being: $41,000 million (6.5% of GDP)</td>\n",
       "    </tr>\n",
       "    <tr>\n",
       "      <th>Moldova</th>\n",
       "      <td>Risk to assets: $150 million (0.9% of GDP)</td>\n",
       "      <td>Socio-economic Resilience: 75%</td>\n",
       "      <td>Risk to well-being: $190 million (1.2% of GDP)</td>\n",
       "    </tr>\n",
       "  </tbody>\n",
       "</table>\n",
       "</div>"
      ],
      "text/plain": [
       "                                                         Assets  \\\n",
       "country                                                           \n",
       "Indonesia         Risk to assets: $7,700 million (0.33% of GDP)   \n",
       "Egypt, Arab Rep.    Risk to assets: $750 million (0.09% of GDP)   \n",
       "Kazakhstan        Risk to assets: $1,000 million (0.27% of GDP)   \n",
       "Philippines       Risk to assets: $28,000 million (4.5% of GDP)   \n",
       "Moldova              Risk to assets: $150 million (0.9% of GDP)   \n",
       "\n",
       "                                      Resilience  \\\n",
       "country                                            \n",
       "Indonesia         Socio-economic Resilience: 69%   \n",
       "Egypt, Arab Rep.  Socio-economic Resilience: 58%   \n",
       "Kazakhstan        Socio-economic Resilience: 62%   \n",
       "Philippines       Socio-economic Resilience: 69%   \n",
       "Moldova           Socio-economic Resilience: 75%   \n",
       "\n",
       "                                                         Well-being  \n",
       "country                                                              \n",
       "Indonesia         Risk to well-being: $11,000 million (0.49% of ...  \n",
       "Egypt, Arab Rep.  Risk to well-being: $1,300 million (0.15% of GDP)  \n",
       "Kazakhstan        Risk to well-being: $1,600 million (0.43% of GDP)  \n",
       "Philippines       Risk to well-being: $41,000 million (6.5% of GDP)  \n",
       "Moldova              Risk to well-being: $190 million (1.2% of GDP)  "
      ]
     },
     "execution_count": 24,
     "metadata": {},
     "output_type": "execute_result"
    }
   ],
   "source": [
    "# a[\"label_asset\"]= \"Risk to assets \"+\n",
    "export[\"Assets\"]=(a[\"Risk to assets\"]/100*a[\"GDP per capita\"]*a[\"Population\"]).map(lambda x:\"Risk to assets: ${:,} million \".format(fancy_round(x)))+(a[\"Risk to assets\"]).map(lambda x:\"({:,}% of GDP)\".format(fancy_round(x)))\n",
    "export[\"Resilience\"] = a[\"Resilience\"].map(lambda x:\"Socio-economic Resilience: {:,}%\".format(fancy_round(x)))\n",
    "export[\"Well-being\"]=(a[\"Risk to welfare\"]/100*a[\"GDP per capita\"]*a[\"Population\"]).map(lambda x:\"Risk to well-being: ${:,} million \".format(fancy_round(x)))+(a[\"Risk to welfare\"]).map(lambda x:\"({:,}% of GDP)\".format(fancy_round(x)))\n",
    "export.to_csv(\"results/export_table_asset_resi_wellfare_labels_for_brad.csv\")\n",
    "export.sample(5)"
   ]
  },
  {
   "cell_type": "code",
   "execution_count": null,
   "metadata": {
    "collapsed": false,
    "run_control": {
     "frozen": false,
     "read_only": false
    }
   },
   "outputs": [],
   "source": []
  },
  {
   "cell_type": "markdown",
   "metadata": {
    "collapsed": false,
    "run_control": {
     "frozen": false,
     "read_only": false
    }
   },
   "source": [
    "# report countries per region and lending group"
   ]
  },
  {
   "cell_type": "code",
   "execution_count": 25,
   "metadata": {
    "collapsed": true,
    "run_control": {
     "frozen": false,
     "read_only": false
    }
   },
   "outputs": [],
   "source": [
    "wb_countries = pd.read_csv(\"inputs/iso3_to_wb_name.csv\")"
   ]
  },
  {
   "cell_type": "code",
   "execution_count": 26,
   "metadata": {
    "collapsed": false,
    "run_control": {
     "frozen": false,
     "read_only": false
    }
   },
   "outputs": [
    {
     "name": "stdout",
     "output_type": "stream",
     "text": [
      "our sample\n",
      " IBRD     50\n",
      "IDA      33\n",
      "         24\n",
      "Blend    10\n",
      "Name: Lending category, dtype: int64\n",
      "\n",
      "total\n",
      "          68\n",
      "IBRD     67\n",
      "IDA      56\n",
      "Blend    17\n",
      "Name: Lending category, dtype: int64\n",
      "\n",
      "Fraction of COUNTRIES covered\n",
      "\n",
      "Lending category\n",
      "         0.352941\n",
      "Blend    0.588235\n",
      "IBRD     0.746269\n",
      "IDA      0.589286\n",
      "Name: has all data, dtype: float64\n",
      " \n",
      "Region\n",
      "East Asia & Pacific           0.305556\n",
      "Europe & Central Asia         0.727273\n",
      "Latin America & Caribbean     0.450000\n",
      "Middle East & North Africa    0.428571\n",
      "North America                 0.666667\n",
      "South Asia                    0.625000\n",
      "Sub-Saharan Africa            0.711111\n",
      "Name: has all data, dtype: float64\n",
      " \n",
      "Income group\n",
      "High income: OECD       0.750000\n",
      "High income: nonOECD    0.155556\n",
      "Low income              0.612903\n",
      "Lower middle income     0.744681\n",
      "Upper middle income     0.603774\n",
      "Name: has all data, dtype: float64\n",
      "global\n",
      "has all data    0.536697\n",
      "dtype: float64\n",
      "\n",
      "===========\n",
      "Fraction of POPULATION covered\n",
      "\n"
     ]
    },
    {
     "ename": "TypeError",
     "evalue": "Series.name must be a hashable type",
     "output_type": "error",
     "traceback": [
      "\u001b[1;31m---------------------------------------------------------------------------\u001b[0m",
      "\u001b[1;31mTypeError\u001b[0m                                 Traceback (most recent call last)",
      "\u001b[1;32m<ipython-input-26-14fb122e60ff>\u001b[0m in \u001b[0;36m<module>\u001b[1;34m()\u001b[0m\n\u001b[0;32m     41\u001b[0m \u001b[0mgroups\u001b[0m\u001b[1;33m[\u001b[0m\u001b[1;34m\"pop\"\u001b[0m\u001b[1;33m]\u001b[0m\u001b[1;33m=\u001b[0m\u001b[0mpd\u001b[0m\u001b[1;33m.\u001b[0m\u001b[0mread_csv\u001b[0m\u001b[1;33m(\u001b[0m\u001b[1;34m\"inputs/wb_data.csv\"\u001b[0m\u001b[1;33m,\u001b[0m\u001b[0mindex_col\u001b[0m\u001b[1;33m=\u001b[0m\u001b[1;34m\"country\"\u001b[0m\u001b[1;33m)\u001b[0m\u001b[1;33m[\u001b[0m\u001b[1;34m\"pop\"\u001b[0m\u001b[1;33m]\u001b[0m\u001b[1;33m\u001b[0m\u001b[0m\n\u001b[0;32m     42\u001b[0m \u001b[0mprint\u001b[0m\u001b[1;33m(\u001b[0m\u001b[1;34m\"\\n===========\\nFraction of POPULATION covered\\n\"\u001b[0m\u001b[1;33m)\u001b[0m\u001b[1;33m\u001b[0m\u001b[0m\n\u001b[1;32m---> 43\u001b[1;33m \u001b[0mprint\u001b[0m\u001b[1;33m(\u001b[0m\u001b[0mgroups\u001b[0m\u001b[1;33m.\u001b[0m\u001b[0mgroupby\u001b[0m\u001b[1;33m(\u001b[0m\u001b[1;34m\"Lending category\"\u001b[0m\u001b[1;33m)\u001b[0m\u001b[1;33m[\u001b[0m\u001b[1;33m[\u001b[0m\u001b[1;34m\"has all data\"\u001b[0m\u001b[1;33m,\u001b[0m\u001b[1;34m\"pop\"\u001b[0m\u001b[1;33m]\u001b[0m\u001b[1;33m]\u001b[0m\u001b[1;33m.\u001b[0m\u001b[0mapply\u001b[0m\u001b[1;33m(\u001b[0m\u001b[1;32mlambda\u001b[0m \u001b[0ms\u001b[0m\u001b[1;33m:\u001b[0m \u001b[0ms\u001b[0m\u001b[1;33m.\u001b[0m\u001b[0mprod\u001b[0m\u001b[1;33m(\u001b[0m\u001b[0maxis\u001b[0m\u001b[1;33m=\u001b[0m\u001b[1;36m1\u001b[0m\u001b[1;33m)\u001b[0m\u001b[1;33m/\u001b[0m\u001b[0ms\u001b[0m\u001b[1;33m[\u001b[0m\u001b[1;34m\"pop\"\u001b[0m\u001b[1;33m]\u001b[0m\u001b[1;33m.\u001b[0m\u001b[0msum\u001b[0m\u001b[1;33m(\u001b[0m\u001b[1;33m)\u001b[0m\u001b[1;33m)\u001b[0m\u001b[1;33m.\u001b[0m\u001b[0msum\u001b[0m\u001b[1;33m(\u001b[0m\u001b[0mlevel\u001b[0m\u001b[1;33m=\u001b[0m\u001b[1;36m0\u001b[0m\u001b[1;33m)\u001b[0m\u001b[1;33m)\u001b[0m\u001b[1;33m\u001b[0m\u001b[0m\n\u001b[0m\u001b[0;32m     44\u001b[0m \u001b[0mprint\u001b[0m\u001b[1;33m(\u001b[0m\u001b[1;34m\" \"\u001b[0m\u001b[1;33m)\u001b[0m\u001b[1;33m\u001b[0m\u001b[0m\n\u001b[0;32m     45\u001b[0m \u001b[0mprint\u001b[0m\u001b[1;33m(\u001b[0m\u001b[0mgroups\u001b[0m\u001b[1;33m.\u001b[0m\u001b[0mgroupby\u001b[0m\u001b[1;33m(\u001b[0m\u001b[1;34m\"Region\"\u001b[0m\u001b[1;33m)\u001b[0m\u001b[1;33m[\u001b[0m\u001b[1;33m[\u001b[0m\u001b[1;34m\"has all data\"\u001b[0m\u001b[1;33m,\u001b[0m\u001b[1;34m\"pop\"\u001b[0m\u001b[1;33m]\u001b[0m\u001b[1;33m]\u001b[0m\u001b[1;33m.\u001b[0m\u001b[0mapply\u001b[0m\u001b[1;33m(\u001b[0m\u001b[1;32mlambda\u001b[0m \u001b[0ms\u001b[0m\u001b[1;33m:\u001b[0m \u001b[0ms\u001b[0m\u001b[1;33m.\u001b[0m\u001b[0mprod\u001b[0m\u001b[1;33m(\u001b[0m\u001b[0maxis\u001b[0m\u001b[1;33m=\u001b[0m\u001b[1;36m1\u001b[0m\u001b[1;33m)\u001b[0m\u001b[1;33m/\u001b[0m\u001b[0ms\u001b[0m\u001b[1;33m[\u001b[0m\u001b[1;34m\"pop\"\u001b[0m\u001b[1;33m]\u001b[0m\u001b[1;33m.\u001b[0m\u001b[0msum\u001b[0m\u001b[1;33m(\u001b[0m\u001b[1;33m)\u001b[0m\u001b[1;33m)\u001b[0m\u001b[1;33m.\u001b[0m\u001b[0msum\u001b[0m\u001b[1;33m(\u001b[0m\u001b[0mlevel\u001b[0m\u001b[1;33m=\u001b[0m\u001b[1;36m0\u001b[0m\u001b[1;33m)\u001b[0m\u001b[1;33m)\u001b[0m\u001b[1;33m\u001b[0m\u001b[0m\n",
      "\u001b[1;32mC:\\Users\\Admin\\Anaconda3\\lib\\site-packages\\pandas\\core\\groupby.py\u001b[0m in \u001b[0;36mapply\u001b[1;34m(self, func, *args, **kwargs)\u001b[0m\n\u001b[0;32m    649\u001b[0m         \u001b[1;31m# ignore SettingWithCopy here in case the user mutates\u001b[0m\u001b[1;33m\u001b[0m\u001b[1;33m\u001b[0m\u001b[0m\n\u001b[0;32m    650\u001b[0m         \u001b[1;32mwith\u001b[0m \u001b[0moption_context\u001b[0m\u001b[1;33m(\u001b[0m\u001b[1;34m'mode.chained_assignment'\u001b[0m\u001b[1;33m,\u001b[0m \u001b[1;32mNone\u001b[0m\u001b[1;33m)\u001b[0m\u001b[1;33m:\u001b[0m\u001b[1;33m\u001b[0m\u001b[0m\n\u001b[1;32m--> 651\u001b[1;33m             \u001b[1;32mreturn\u001b[0m \u001b[0mself\u001b[0m\u001b[1;33m.\u001b[0m\u001b[0m_python_apply_general\u001b[0m\u001b[1;33m(\u001b[0m\u001b[0mf\u001b[0m\u001b[1;33m)\u001b[0m\u001b[1;33m\u001b[0m\u001b[0m\n\u001b[0m\u001b[0;32m    652\u001b[0m \u001b[1;33m\u001b[0m\u001b[0m\n\u001b[0;32m    653\u001b[0m     \u001b[1;32mdef\u001b[0m \u001b[0m_python_apply_general\u001b[0m\u001b[1;33m(\u001b[0m\u001b[0mself\u001b[0m\u001b[1;33m,\u001b[0m \u001b[0mf\u001b[0m\u001b[1;33m)\u001b[0m\u001b[1;33m:\u001b[0m\u001b[1;33m\u001b[0m\u001b[0m\n",
      "\u001b[1;32mC:\\Users\\Admin\\Anaconda3\\lib\\site-packages\\pandas\\core\\groupby.py\u001b[0m in \u001b[0;36m_python_apply_general\u001b[1;34m(self, f)\u001b[0m\n\u001b[0;32m    658\u001b[0m             \u001b[0mkeys\u001b[0m\u001b[1;33m,\u001b[0m\u001b[1;33m\u001b[0m\u001b[0m\n\u001b[0;32m    659\u001b[0m             \u001b[0mvalues\u001b[0m\u001b[1;33m,\u001b[0m\u001b[1;33m\u001b[0m\u001b[0m\n\u001b[1;32m--> 660\u001b[1;33m             not_indexed_same=mutated or self.mutated)\n\u001b[0m\u001b[0;32m    661\u001b[0m \u001b[1;33m\u001b[0m\u001b[0m\n\u001b[0;32m    662\u001b[0m     \u001b[1;32mdef\u001b[0m \u001b[0m_iterate_slices\u001b[0m\u001b[1;33m(\u001b[0m\u001b[0mself\u001b[0m\u001b[1;33m)\u001b[0m\u001b[1;33m:\u001b[0m\u001b[1;33m\u001b[0m\u001b[0m\n",
      "\u001b[1;32mC:\\Users\\Admin\\Anaconda3\\lib\\site-packages\\pandas\\core\\groupby.py\u001b[0m in \u001b[0;36m_wrap_applied_output\u001b[1;34m(self, keys, values, not_indexed_same)\u001b[0m\n\u001b[0;32m   3311\u001b[0m                         \u001b[1;31m# GH 8467\u001b[0m\u001b[1;33m\u001b[0m\u001b[1;33m\u001b[0m\u001b[0m\n\u001b[0;32m   3312\u001b[0m                         return self._concat_objects(\n\u001b[1;32m-> 3313\u001b[1;33m                             \u001b[0mkeys\u001b[0m\u001b[1;33m,\u001b[0m \u001b[0mvalues\u001b[0m\u001b[1;33m,\u001b[0m \u001b[0mnot_indexed_same\u001b[0m\u001b[1;33m=\u001b[0m\u001b[1;32mTrue\u001b[0m\u001b[1;33m,\u001b[0m\u001b[1;33m\u001b[0m\u001b[0m\n\u001b[0m\u001b[0;32m   3314\u001b[0m                         )\n\u001b[0;32m   3315\u001b[0m \u001b[1;33m\u001b[0m\u001b[0m\n",
      "\u001b[1;32mC:\\Users\\Admin\\Anaconda3\\lib\\site-packages\\pandas\\core\\groupby.py\u001b[0m in \u001b[0;36m_concat_objects\u001b[1;34m(self, keys, values, not_indexed_same)\u001b[0m\n\u001b[0;32m    845\u001b[0m                 getattr(self, 'name', None) is not None):\n\u001b[0;32m    846\u001b[0m \u001b[1;33m\u001b[0m\u001b[0m\n\u001b[1;32m--> 847\u001b[1;33m             \u001b[0mresult\u001b[0m\u001b[1;33m.\u001b[0m\u001b[0mname\u001b[0m \u001b[1;33m=\u001b[0m \u001b[0mself\u001b[0m\u001b[1;33m.\u001b[0m\u001b[0mname\u001b[0m\u001b[1;33m\u001b[0m\u001b[0m\n\u001b[0m\u001b[0;32m    848\u001b[0m \u001b[1;33m\u001b[0m\u001b[0m\n\u001b[0;32m    849\u001b[0m         \u001b[1;32mreturn\u001b[0m \u001b[0mresult\u001b[0m\u001b[1;33m\u001b[0m\u001b[0m\n",
      "\u001b[1;32mC:\\Users\\Admin\\Anaconda3\\lib\\site-packages\\pandas\\core\\generic.py\u001b[0m in \u001b[0;36m__setattr__\u001b[1;34m(self, name, value)\u001b[0m\n\u001b[0;32m   2683\u001b[0m         \u001b[1;32mtry\u001b[0m\u001b[1;33m:\u001b[0m\u001b[1;33m\u001b[0m\u001b[0m\n\u001b[0;32m   2684\u001b[0m             \u001b[0mobject\u001b[0m\u001b[1;33m.\u001b[0m\u001b[0m__getattribute__\u001b[0m\u001b[1;33m(\u001b[0m\u001b[0mself\u001b[0m\u001b[1;33m,\u001b[0m \u001b[0mname\u001b[0m\u001b[1;33m)\u001b[0m\u001b[1;33m\u001b[0m\u001b[0m\n\u001b[1;32m-> 2685\u001b[1;33m             \u001b[1;32mreturn\u001b[0m \u001b[0mobject\u001b[0m\u001b[1;33m.\u001b[0m\u001b[0m__setattr__\u001b[0m\u001b[1;33m(\u001b[0m\u001b[0mself\u001b[0m\u001b[1;33m,\u001b[0m \u001b[0mname\u001b[0m\u001b[1;33m,\u001b[0m \u001b[0mvalue\u001b[0m\u001b[1;33m)\u001b[0m\u001b[1;33m\u001b[0m\u001b[0m\n\u001b[0m\u001b[0;32m   2686\u001b[0m         \u001b[1;32mexcept\u001b[0m \u001b[0mAttributeError\u001b[0m\u001b[1;33m:\u001b[0m\u001b[1;33m\u001b[0m\u001b[0m\n\u001b[0;32m   2687\u001b[0m             \u001b[1;32mpass\u001b[0m\u001b[1;33m\u001b[0m\u001b[0m\n",
      "\u001b[1;32mC:\\Users\\Admin\\Anaconda3\\lib\\site-packages\\pandas\\core\\series.py\u001b[0m in \u001b[0;36mname\u001b[1;34m(self, value)\u001b[0m\n\u001b[0;32m    307\u001b[0m     \u001b[1;32mdef\u001b[0m \u001b[0mname\u001b[0m\u001b[1;33m(\u001b[0m\u001b[0mself\u001b[0m\u001b[1;33m,\u001b[0m \u001b[0mvalue\u001b[0m\u001b[1;33m)\u001b[0m\u001b[1;33m:\u001b[0m\u001b[1;33m\u001b[0m\u001b[0m\n\u001b[0;32m    308\u001b[0m         \u001b[1;32mif\u001b[0m \u001b[0mvalue\u001b[0m \u001b[1;32mis\u001b[0m \u001b[1;32mnot\u001b[0m \u001b[1;32mNone\u001b[0m \u001b[1;32mand\u001b[0m \u001b[1;32mnot\u001b[0m \u001b[0mcom\u001b[0m\u001b[1;33m.\u001b[0m\u001b[0mis_hashable\u001b[0m\u001b[1;33m(\u001b[0m\u001b[0mvalue\u001b[0m\u001b[1;33m)\u001b[0m\u001b[1;33m:\u001b[0m\u001b[1;33m\u001b[0m\u001b[0m\n\u001b[1;32m--> 309\u001b[1;33m             \u001b[1;32mraise\u001b[0m \u001b[0mTypeError\u001b[0m\u001b[1;33m(\u001b[0m\u001b[1;34m'Series.name must be a hashable type'\u001b[0m\u001b[1;33m)\u001b[0m\u001b[1;33m\u001b[0m\u001b[0m\n\u001b[0m\u001b[0;32m    310\u001b[0m         \u001b[0mobject\u001b[0m\u001b[1;33m.\u001b[0m\u001b[0m__setattr__\u001b[0m\u001b[1;33m(\u001b[0m\u001b[0mself\u001b[0m\u001b[1;33m,\u001b[0m \u001b[1;34m'_name'\u001b[0m\u001b[1;33m,\u001b[0m \u001b[0mvalue\u001b[0m\u001b[1;33m)\u001b[0m\u001b[1;33m\u001b[0m\u001b[0m\n\u001b[0;32m    311\u001b[0m \u001b[1;33m\u001b[0m\u001b[0m\n",
      "\u001b[1;31mTypeError\u001b[0m: Series.name must be a hashable type"
     ]
    }
   ],
   "source": [
    "\n",
    "groups = pd.read_csv(\"inputs/income_groups.csv\",header =4,index_col=2).replace({\"ROM\":\"ROU\",\"ZAR\":\"COD\"})  #they used old iso3 country for Zair (Congo) and Romania\n",
    "groups= groups[[\"Code\",\"Region\",\"Income group\",\"Lending category\",\"Other\"]]\n",
    "groups.dropna(axis=0,how=\"all\",inplace=True);\n",
    "groups.rename(columns={\"Other\":\"HIPC\"},inplace=True)\n",
    "groups['HIPC'].fillna('',inplace=True)\n",
    "groups[\"Lending category\"].replace(\"..\",\"\",inplace=True)\n",
    "\n",
    "groups =groups.ix[wb_countries.country.values]\n",
    "\n",
    "\n",
    "#counts IDA and non-IDA countries for which we have the data\n",
    "groups.ix[results.dropna().index][[\"Lending category\"]].to_excel(\"lending_categories.xlsx\")\n",
    "print(\"our sample\\n\", groups.ix[results.dropna().index][\"Lending category\"].value_counts())\n",
    "\n",
    "print(\"\\ntotal\\n\", groups[\"Lending category\"].value_counts())\n",
    "\n",
    "#Build excel file reporting countries for which we have or have not data\n",
    "groups[\"has all data\"]=0\n",
    "groups[\"has all data\"]=(np.sign(results.risk))\n",
    "groups[\"has all data\"].fillna(0,inplace=True)\n",
    "\n",
    "#Bigger report including missing data\n",
    "# groups[\"missing_data\"]=report[\"missing_data\"]\n",
    "# groups[\"missing_data\"].fillna(\"\",inplace=True)\n",
    "groups.head()\n",
    "\n",
    "\n",
    "print(\"\\nFraction of COUNTRIES covered\\n\")\n",
    "print(groups.groupby(\"Lending category\")[\"has all data\"].mean())\n",
    "print(\" \")\n",
    "print(groups.groupby(\"Region\")[\"has all data\"].mean())\n",
    "print(\" \")\n",
    "print(groups.groupby(\"Income group\")[\"has all data\"].mean())\n",
    "print(\"global\")\n",
    "print((groups[[\"has all data\"]].mean()))\n",
    "\n",
    "\n",
    "\n",
    "#population\n",
    "groups[\"pop\"]=pd.read_csv(\"inputs/wb_data.csv\",index_col=\"country\")[\"pop\"]\n",
    "print(\"\\n===========\\nFraction of POPULATION covered\\n\")\n",
    "print(groups.groupby(\"Lending category\")[[\"has all data\",\"pop\"]].apply(lambda s: s.prod(axis=1)/s[\"pop\"].sum()).sum(level=0))\n",
    "print(\" \")\n",
    "print(groups.groupby(\"Region\")[[\"has all data\",\"pop\"]].apply(lambda s: s.prod(axis=1)/s[\"pop\"].sum()).sum(level=0))\n",
    "print(\" \")\n",
    "print(groups.groupby(\"Income group\")[[\"has all data\",\"pop\"]].apply(lambda s: s.prod(axis=1)/s[\"pop\"].sum()).sum(level=0))\n",
    "print(\"global\")\n",
    "print((groups[[\"has all data\",\"pop\"]].prod(axis=1)/groups[\"pop\"].sum()).sum())\n",
    "\n",
    "\n",
    "#global\n",
    "\n",
    "\n",
    "\n",
    "groups.to_excel(\"have_and_have_nots.xlsx\", encoding=\"utf-8\")\n",
    "groups.to_csv(\"have_and_have_nots.csv\", encoding=\"utf-8\")"
   ]
  },
  {
   "cell_type": "code",
   "execution_count": 27,
   "metadata": {
    "collapsed": false,
    "run_control": {
     "frozen": false,
     "read_only": false
    }
   },
   "outputs": [
    {
     "data": {
      "text/html": [
       "<div>\n",
       "<table border=\"1\" class=\"dataframe\">\n",
       "  <thead>\n",
       "    <tr style=\"text-align: right;\">\n",
       "      <th></th>\n",
       "      <th>Code</th>\n",
       "      <th>Region</th>\n",
       "      <th>Income group</th>\n",
       "      <th>Lending category</th>\n",
       "      <th>HIPC</th>\n",
       "      <th>has all data</th>\n",
       "      <th>pop</th>\n",
       "    </tr>\n",
       "    <tr>\n",
       "      <th>Economy</th>\n",
       "      <th></th>\n",
       "      <th></th>\n",
       "      <th></th>\n",
       "      <th></th>\n",
       "      <th></th>\n",
       "      <th></th>\n",
       "      <th></th>\n",
       "    </tr>\n",
       "  </thead>\n",
       "  <tbody>\n",
       "    <tr>\n",
       "      <th>Bermuda</th>\n",
       "      <td>BMU</td>\n",
       "      <td>North America</td>\n",
       "      <td>High income: nonOECD</td>\n",
       "      <td></td>\n",
       "      <td></td>\n",
       "      <td>0.0</td>\n",
       "      <td>65235.0</td>\n",
       "    </tr>\n",
       "    <tr>\n",
       "      <th>Canada</th>\n",
       "      <td>CAN</td>\n",
       "      <td>North America</td>\n",
       "      <td>High income: OECD</td>\n",
       "      <td></td>\n",
       "      <td></td>\n",
       "      <td>1.0</td>\n",
       "      <td>35851774.0</td>\n",
       "    </tr>\n",
       "    <tr>\n",
       "      <th>United States</th>\n",
       "      <td>USA</td>\n",
       "      <td>North America</td>\n",
       "      <td>High income: OECD</td>\n",
       "      <td></td>\n",
       "      <td></td>\n",
       "      <td>1.0</td>\n",
       "      <td>321418820.0</td>\n",
       "    </tr>\n",
       "  </tbody>\n",
       "</table>\n",
       "</div>"
      ],
      "text/plain": [
       "              Code         Region          Income group Lending category HIPC  \\\n",
       "Economy                                                                         \n",
       "Bermuda        BMU  North America  High income: nonOECD                         \n",
       "Canada         CAN  North America     High income: OECD                         \n",
       "United States  USA  North America     High income: OECD                         \n",
       "\n",
       "               has all data          pop  \n",
       "Economy                                   \n",
       "Bermuda                 0.0      65235.0  \n",
       "Canada                  1.0   35851774.0  \n",
       "United States           1.0  321418820.0  "
      ]
     },
     "execution_count": 27,
     "metadata": {},
     "output_type": "execute_result"
    }
   ],
   "source": [
    "groups.query(\"Region=='North America'\")"
   ]
  },
  {
   "cell_type": "code",
   "execution_count": 28,
   "metadata": {
    "collapsed": false,
    "run_control": {
     "frozen": false,
     "read_only": false
    }
   },
   "outputs": [
    {
     "data": {
      "text/plain": [
       "Code                                      MEX\n",
       "Region              Latin America & Caribbean\n",
       "Income group              Upper middle income\n",
       "Lending category                         IBRD\n",
       "HIPC                                         \n",
       "has all data                                1\n",
       "pop                               1.27017e+08\n",
       "Name: Mexico, dtype: object"
      ]
     },
     "execution_count": 28,
     "metadata": {},
     "output_type": "execute_result"
    }
   ],
   "source": [
    "groups.ix[\"Mexico\"]"
   ]
  },
  {
   "cell_type": "code",
   "execution_count": null,
   "metadata": {
    "collapsed": true,
    "run_control": {
     "frozen": false,
     "read_only": false
    }
   },
   "outputs": [],
   "source": []
  },
  {
   "cell_type": "code",
   "execution_count": null,
   "metadata": {
    "collapsed": true,
    "run_control": {
     "frozen": false,
     "read_only": false
    }
   },
   "outputs": [],
   "source": []
  },
  {
   "cell_type": "code",
   "execution_count": null,
   "metadata": {
    "collapsed": true,
    "run_control": {
     "frozen": false,
     "read_only": false
    }
   },
   "outputs": [],
   "source": []
  },
  {
   "cell_type": "code",
   "execution_count": null,
   "metadata": {
    "collapsed": false,
    "run_control": {
     "frozen": false,
     "read_only": false
    },
    "scrolled": true
   },
   "outputs": [],
   "source": [
    "(100*results.dK/results.k).replace(0,np.nan).dropna().sort_values().plot.bar(figsize=(20,6))\n",
    "plt.ylabel(\"E[dk]/k (%)\")"
   ]
  },
  {
   "cell_type": "code",
   "execution_count": null,
   "metadata": {
    "collapsed": false,
    "run_control": {
     "frozen": false,
     "read_only": false
    }
   },
   "outputs": [],
   "source": []
  },
  {
   "cell_type": "code",
   "execution_count": null,
   "metadata": {
    "collapsed": false,
    "run_control": {
     "frozen": false,
     "read_only": false
    }
   },
   "outputs": [],
   "source": []
  },
  {
   "cell_type": "code",
   "execution_count": null,
   "metadata": {
    "collapsed": false,
    "run_control": {
     "frozen": false,
     "read_only": false
    }
   },
   "outputs": [],
   "source": [
    "reldk_agv = average_over_rp(pd.read_csv(\"intermediate/frac_value_destroyed_gar.csv\", index_col=[0,1,2]))\n",
    "reldk_agv.columns=[\"gar\"]\n",
    "\n",
    "reldk_agv =reldk_agv.swaplevel(0,1).sort_index().assign(model=np.nan)\n",
    "\n",
    "reldk_agv.head()\n",
    "\n",
    "for h in hazard_ratios.reset_index(\"hazard\").hazard.unique():\n",
    "#     args = dict(hazard_ratios = hazard_ratios)\n",
    "    args = dict(hazard_ratios = hazard_ratios.swaplevel(\"country\",\"hazard\").ix[h])\n",
    "\n",
    "    results =compute_resilience(macro,cat_info,**args)\n",
    "    reldk_agv[\"model\"].update(pd.concat([results.dK/cat_info[[\"k\",\"n\"]].prod(axis=1, skipna=False).sum(level=\"country\")], keys=[h]))\n",
    "\n",
    "    "
   ]
  },
  {
   "cell_type": "code",
   "execution_count": null,
   "metadata": {
    "collapsed": true,
    "run_control": {
     "frozen": false,
     "read_only": false
    }
   },
   "outputs": [],
   "source": []
  },
  {
   "cell_type": "code",
   "execution_count": null,
   "metadata": {
    "collapsed": false,
    "run_control": {
     "frozen": false,
     "read_only": false
    }
   },
   "outputs": [],
   "source": [
    "\n",
    "for out in  [\"resilience\", \"risk_to_assets\"]:\n",
    "    a = compute_resilience(macro,cat_info,)[out]\n",
    "    b= compute_resilience(macro,cat_info, hazard_ratios=hazard_ratios)[out]\n",
    "    c= compute_resilience(macro,cat_info, hazard_ratios=hazard_ratios.unstack(\"hazard\").swaplevel(0,1,axis=1)[\"flood\"])[out]\n",
    "    d= compute_resilience(macro,cat_info, hazard_ratios=hazard_ratios.unstack(\"rp\").swaplevel(0,1,axis=1)[20])[out]\n",
    "\n",
    "    plt.figure(figsize=(6,6))\n",
    "    plt.scatter(x=a,y=b,  s=50,clip_on=False, c=\"blue\",alpha=0.5, )\n",
    "    plt.scatter(x=a,y=c, alpha=0.5, s=50,clip_on=False, color=\"green\")\n",
    "    plt.scatter(x=a,y=d, alpha=0.5, s=50,clip_on=False, c=\"red\")\n",
    "\n",
    "    plt.legend([\"All hazard data\", \"Only river\", \"only rp=20\"], loc=\"best\")\n",
    "    plt.xlabel(\"no hazard\")\n",
    "    plt.ylabel(\"\")\n",
    "    plt.xlim(0,)\n",
    "    plt.ylim(0,)\n",
    "\n",
    "\n"
   ]
  },
  {
   "cell_type": "code",
   "execution_count": null,
   "metadata": {
    "collapsed": true,
    "run_control": {
     "frozen": false,
     "read_only": false
    }
   },
   "outputs": [],
   "source": [
    "\n",
    "\n"
   ]
  },
  {
   "cell_type": "code",
   "execution_count": null,
   "metadata": {
    "collapsed": true,
    "run_control": {
     "frozen": false,
     "read_only": false
    }
   },
   "outputs": [],
   "source": []
  },
  {
   "cell_type": "code",
   "execution_count": null,
   "metadata": {
    "collapsed": true,
    "run_control": {
     "frozen": false,
     "read_only": false
    }
   },
   "outputs": [],
   "source": []
  },
  {
   "cell_type": "code",
   "execution_count": null,
   "metadata": {
    "collapsed": true,
    "run_control": {
     "frozen": false,
     "read_only": false
    }
   },
   "outputs": [],
   "source": []
  },
  {
   "cell_type": "code",
   "execution_count": null,
   "metadata": {
    "collapsed": true,
    "run_control": {
     "frozen": false,
     "read_only": false
    }
   },
   "outputs": [],
   "source": []
  }
 ],
 "metadata": {
  "kernelspec": {
   "display_name": "Python [default]",
   "language": "python",
   "name": "python3"
  },
  "language_info": {
   "codemirror_mode": {
    "name": "ipython",
    "version": 3
   },
   "file_extension": ".py",
   "mimetype": "text/x-python",
   "name": "python",
   "nbconvert_exporter": "python",
   "pygments_lexer": "ipython3",
   "version": "3.5.2"
  },
  "nav_menu": {},
  "toc": {
   "colors": {
    "hover_highlight": "#DAA520",
    "navigate_num": "#000000",
    "navigate_text": "#333333",
    "running_highlight": "#FF0000",
    "selected_highlight": "#FFD700",
    "sidebar_border": "#EEEEEE",
    "wrapper_background": "#FFFFFF"
   },
   "moveMenuLeft": true,
   "nav_menu": {
    "height": "137px",
    "width": "252px"
   },
   "navigate_menu": true,
   "number_sections": true,
   "sideBar": true,
   "threshold": 4,
   "toc_cell": false,
   "toc_section_display": "block",
   "toc_window_display": true,
   "widenNotebook": false
  },
  "toc_position": {
   "height": "664px",
   "left": "0px",
   "right": "1388px",
   "top": "106px",
   "width": "212px"
  }
 },
 "nbformat": 4,
 "nbformat_minor": 0
}
