{
 "cells": [
  {
   "cell_type": "code",
   "execution_count": 28,
   "metadata": {
    "collapsed": true,
    "run_control": {
     "frozen": false,
     "read_only": false
    }
   },
   "outputs": [],
   "source": [
    "# Downloads wb data"
   ]
  },
  {
   "cell_type": "markdown",
   "metadata": {},
   "source": [
    "#### The new approach is to <u> divide percents by 100</u> in this notebook, at download time"
   ]
  },
  {
   "cell_type": "code",
   "execution_count": 29,
   "metadata": {
    "collapsed": false,
    "run_control": {
     "frozen": false,
     "read_only": false
    }
   },
   "outputs": [
    {
     "name": "stdout",
     "output_type": "stream",
     "text": [
      "The autoreload extension is already loaded. To reload it, use:\n",
      "  %reload_ext autoreload\n"
     ]
    }
   ],
   "source": [
    "%load_ext autoreload\n",
    "%autoreload\n",
    "%matplotlib inline"
   ]
  },
  {
   "cell_type": "code",
   "execution_count": 30,
   "metadata": {
    "collapsed": false,
    "run_control": {
     "frozen": false,
     "read_only": false
    }
   },
   "outputs": [],
   "source": [
    "from pandas_datareader import wb\n",
    "import pandas as pd\n",
    "import numpy as np\n",
    "import matplotlib.pyplot as plt\n",
    "from res_ind_lib import *\n",
    "\n",
    "import os, time\n",
    "from wb_api_wraper import *"
   ]
  },
  {
   "cell_type": "markdown",
   "metadata": {},
   "source": [
    "# Options"
   ]
  },
  {
   "cell_type": "code",
   "execution_count": 31,
   "metadata": {
    "collapsed": true,
    "run_control": {
     "frozen": false,
     "read_only": false
    }
   },
   "outputs": [],
   "source": [
    "include_remitances = True"
   ]
  },
  {
   "cell_type": "code",
   "execution_count": 32,
   "metadata": {
    "collapsed": true,
    "run_control": {
     "frozen": false,
     "read_only": false
    }
   },
   "outputs": [],
   "source": [
    "#Pandas display optionsa\n",
    "\n",
    "pd.set_option('display.max_colwidth', 200)\n",
    "pd.set_option('display.width', 200)\n",
    "pd.set_option('display.precision', 10)\n",
    "pd.set_option('display.max_rows', 500)\n"
   ]
  },
  {
   "cell_type": "markdown",
   "metadata": {},
   "source": [
    "# GDP and share of income per Q"
   ]
  },
  {
   "cell_type": "code",
   "execution_count": 33,
   "metadata": {
    "collapsed": false,
    "run_control": {
     "frozen": false,
     "read_only": false
    }
   },
   "outputs": [],
   "source": [
    "#World Development Indicators\n",
    "gdp_pc_pp    = get_wb_mrv('NY.GDP.PCAP.pp.kd',\"gdp_pc_pp\")#Gdp per capita ppp\n",
    "pop          = get_wb_mrv('SP.POP.TOTL'      ,\"pop\")#population\n",
    "#ppp_over_mer = get_wb_mrv('PA.NUS.PPPC.RF',\"ppp_over_mer\")#conversion factor PPP over MER\n",
    "gdp_pc_cd=get_wb_mrv('ny.gdp.pcap.cd'   ,\"gdp_pc_cd\")#gdp per capita mer\n",
    "# gap2     =get_wb_mrv('1.0.PGap.2.5usd'  ,\"gap2\")#poverty gap at 2$\n",
    "# head2    =get_wb_mrv('SI.POV.2DAY'      ,\"head2\")# povety count at 2$\n",
    "\n",
    "share1   =get_wb_mrv('SI.DST.FRST.20'   ,\"share1\")/100#share of income bottom 20%\n",
    "share2   =get_wb_mrv('SI.DST.02nd.20'   ,\"share2\")/100#share of income second \n",
    "share3   =get_wb_mrv('SI.DST.03rd.20'   ,\"share3\")/100#share of income 3rd\n",
    "share4   =get_wb_mrv('SI.DST.04th.20'   ,\"share4\")/100#share of income 4th\n",
    "share5   =get_wb_mrv('SI.DST.05th.20'   ,\"share5\")/100#share of income 5th\n",
    "\n",
    "#pahc = get_wb_mrv('SH.ACS.PROB.Q2.ZS','pahc')/100   #“problems in accessing health care (all concerns) (% of women)”\n",
    "# bashs = get_wb_mrv('SH.STA.BRTC.ZS','bashs') /100# Births attended by skilled health staff (% of total)\n",
    "# ophe = get_wb_mrv('SH.XPD.OOPC.TO.ZS','ophe')/100   # Out-of-pocket health expenditure (% of total expenditure on health)\n",
    "\n",
    "# plgp = get_wb_mrv('SE.PRM.PRSL.ZS','plgp')/100   #'Persistence to last grade of primary, total (% of cohort)'\n",
    "\n",
    "\n",
    "#pseudo_employ = 1-get_wb_mrv(\"SL.UEM.TOTL.ZS\",\"pseudo_employ\")/100 # 'Unemployment, total (% of total labor force) (modeled ILO estimate)'\n",
    "# unemp = get_wb_mrv(\"SL.UEM.TOTL.ZS\",\"unemp\")/100 # 'Unemployment, total (% of total labor force) (modeled ILO estimate)'"
   ]
  },
  {
   "cell_type": "markdown",
   "metadata": {},
   "source": [
    "# Social protection and remitances"
   ]
  },
  {
   "cell_type": "code",
   "execution_count": 34,
   "metadata": {
    "collapsed": false,
    "run_control": {
     "frozen": false,
     "read_only": false
    }
   },
   "outputs": [
    {
     "data": {
      "text/html": [
       "<div>\n",
       "<table border=\"1\" class=\"dataframe\">\n",
       "  <thead>\n",
       "    <tr style=\"text-align: right;\">\n",
       "      <th></th>\n",
       "      <th>id</th>\n",
       "      <th>name</th>\n",
       "      <th>source</th>\n",
       "    </tr>\n",
       "  </thead>\n",
       "  <tbody>\n",
       "  </tbody>\n",
       "</table>\n",
       "</div>"
      ],
      "text/plain": [
       "Empty DataFrame\n",
       "Columns: [id, name, source]\n",
       "Index: []"
      ]
     },
     "execution_count": 34,
     "metadata": {},
     "output_type": "execute_result"
    }
   ],
   "source": [
    "search_wb(\"coverage.*poor.*all.*ass.*\").query(\"name=='Coverage in poorest quintile (%) - All Social Assistance '\")"
   ]
  },
  {
   "cell_type": "code",
   "execution_count": 35,
   "metadata": {
    "collapsed": false,
    "run_control": {
     "frozen": false,
     "read_only": false
    }
   },
   "outputs": [],
   "source": [
    "poor_cov_assistance = mrv(get_wb(\"per_sa_allsa.cov_q1_tot\"))\n",
    "poor_cov_assistance\n",
    "\n",
    "other_cov_assistance =( mrv(get_wb(\"per_sa_allsa.cov_q2_tot\")) + mrv(get_wb(\"per_sa_allsa.cov_q3_tot\"))+ mrv(get_wb(\"per_sa_allsa.cov_q4_tot\")) + mrv(get_wb(\"per_sa_allsa.cov_q5_tot\")))/4\n",
    "\n"
   ]
  },
  {
   "cell_type": "code",
   "execution_count": 36,
   "metadata": {
    "collapsed": false,
    "run_control": {
     "frozen": false,
     "read_only": false
    }
   },
   "outputs": [
    {
     "data": {
      "image/png": "[encoded data removed]",
      "text/plain": [
       "<matplotlib.figure.Figure at 0x1fb7eeecda0>"
      ]
     },
     "metadata": {},
     "output_type": "display_data"
    }
   ],
   "source": [
    "from fancy_plots import *\n",
    "\n",
    "font = {'family' : 'serif',\n",
    "    'weight' : 'normal',\n",
    "    'size'   : 15}\n",
    "\n",
    "plt.rc('font', **font)\n",
    "\n",
    "pd.DataFrame([poor_cov_assistance, other_cov_assistance], index=[\"Poor\",\"Nonpoor\"]).T.plot.scatter(\n",
    "    x=\"Poor\", \n",
    "    y=\"Nonpoor\", \n",
    "    s=60, \n",
    "    alpha=0.5,\n",
    "    figsize=(7,7),\n",
    "    clip_on=False)\n",
    "plt.xlim(0,100)\n",
    "plt.ylim(0,100)\n",
    "\n",
    "plt.plot([0,100],[0,100], \"--\", color=\"black\")\n",
    "\n",
    "spine_and_ticks(plt.gca())\n",
    "\n",
    "#savefig(\"img/cov_assist_p_np\")"
   ]
  },
  {
   "cell_type": "code",
   "execution_count": 37,
   "metadata": {
    "collapsed": false,
    "run_control": {
     "frozen": false,
     "read_only": false
    }
   },
   "outputs": [],
   "source": [
    "#Aspire\n",
    "\n",
    "#Averages\n",
    "rem1  =get_wb_series('per_pr_allpr.avt_q1_tot','rem1') #Average per capita transfer held by poorest quintile - Private Transfers   \n",
    "rem2  =get_wb_series('per_pr_allpr.avt_q2_tot','rem2') # - Private Transfers \n",
    "rem3  =get_wb_series('per_pr_allpr.avt_q3_tot','rem3') # - Private Transfers \n",
    "rem4  =get_wb_series('per_pr_allpr.avt_q4_tot','rem4') # - Private Transfers \n",
    "rem5  =get_wb_series('per_pr_allpr.avt_q5_tot','rem5') # - Private Transfers \n",
    "\n",
    "tra1_  =get_wb_series('per_allsp.avt_q1_tot','tra1') #Average per capita transfer held by poorest quintile -All  dolars PPP per day\n",
    "tra2_  =get_wb_series('per_allsp.avt_q2_tot','tra2') #Average per capita transfer held by -All \n",
    "tra3_  =get_wb_series('per_allsp.avt_q3_tot','tra3') #Average per capita transfer held by  -All \n",
    "tra4_  =get_wb_series('per_allsp.avt_q4_tot','tra4') #Average per capita transfer held by  -All \n",
    "tra5_  =get_wb_series('per_allsp.avt_q5_tot','tra5') #Average per capita transfer held by  -All \n",
    "\n",
    "# per_pr_allpr.adq_q1_tot\n",
    "\n",
    "\n",
    "#Adequacies\n",
    "ade1_remit  = get_wb_series('per_pr_allpr.adq_q1_tot', 'ade1_remit')/100 #Adequacy of benefits for Q1, Remittances\n",
    "ade2_remit  = get_wb_series('per_pr_allpr.adq_q2_tot', 'ade2_remit')/100 #Adequacy of benefits for Q2, Remittances\n",
    "ade3_remit  = get_wb_series('per_pr_allpr.adq_q3_tot', 'ade3_remit')/100 #Adequacy of benefits for Q3, Remittances\n",
    "ade4_remit  = get_wb_series('per_pr_allpr.adq_q4_tot', 'ade4_remit')/100 #Adequacy of benefits for Q4, Remittances\n",
    "ade5_remit  = get_wb_series('per_pr_allpr.adq_q5_tot', 'ade5_remit')/100 #Adequacy of benefits for Q5, Remittances\n",
    "\n",
    "ade1_allspl = get_wb_series('per_allsp.adq_q1_tot', 'ade1_allspl')/100 #Adequacy of benefits for Q1, All Social Protection and Labor\n",
    "ade2_allspl = get_wb_series('per_allsp.adq_q2_tot', 'ade2_allspl')/100 #Adequacy of benefits for Q2, All Social Protection and Labor\n",
    "ade3_allspl = get_wb_series('per_allsp.adq_q3_tot', 'ade3_allspl')/100 #Adequacy of benefits for Q3, All Social Protection and Labor\n",
    "ade4_allspl = get_wb_series('per_allsp.adq_q4_tot', 'ade4_allspl')/100 #Adequacy of benefits for Q4, All Social Protection and Labor\n",
    "ade5_allspl = get_wb_series('per_allsp.adq_q5_tot', 'ade5_allspl')/100 #Adequacy of benefits for Q5, All Social Protection and Labor\n",
    "\n",
    "#Coverage            \n",
    "cov1_remit  = get_wb_series('per_pr_allpr.cov_q1_tot','cov1_remit')/100 # Coverage for Q1, Remittances \n",
    "cov2_remit  = get_wb_series('per_pr_allpr.cov_q2_tot','cov2_remit')/100 # Coverage for Q2, Remittances \n",
    "cov3_remit  = get_wb_series('per_pr_allpr.cov_q3_tot','cov3_remit')/100 # Coverage for Q3, Remittances \n",
    "cov4_remit  = get_wb_series('per_pr_allpr.cov_q4_tot','cov4_remit')/100 # Coverage for Q4, Remittances \n",
    "cov5_remit  = get_wb_series('per_pr_allpr.cov_q5_tot','cov5_remit')/100 # Coverage for Q5, Remittances \n",
    "\n",
    "cov1_allspl = get_wb_series('per_allsp.cov_q1_tot','cov1')/100 #Coverage in poorest quintile (%) -All Social Protection and Labor \n",
    "cov2_allspl = get_wb_series('per_allsp.cov_q2_tot','cov2')/100 # Coverage in 2nd quintile (%) -All Social Protection and Labor \n",
    "cov3_allspl = get_wb_series('per_allsp.cov_q3_tot','cov3')/100 # Coverage in 3rd quintile (%) -All Social Protection and Labor \n",
    "cov4_allspl = get_wb_series('per_allsp.cov_q4_tot','cov4')/100 # Coverage in 4th quintile (%) -All Social Protection and Labor \n",
    "cov5_allspl = get_wb_series('per_allsp.cov_q5_tot','cov5')/100 # Coverage in 5th quintile (%) -All Social Protection and Labor\n"
   ]
  },
  {
   "cell_type": "code",
   "execution_count": 38,
   "metadata": {
    "collapsed": false,
    "run_control": {
     "frozen": false,
     "read_only": false
    }
   },
   "outputs": [],
   "source": [
    "if include_remitances:\n",
    "    t_1 = mrv(rem1 + tra1_)\n",
    "    t_2 = mrv(rem2 + tra2_)\n",
    "    t_3 = mrv(rem3 + tra3_)\n",
    "    t_4 = mrv(rem4 + tra4_)\n",
    "    t_5 = mrv(rem5 + tra5_)\n",
    "\n",
    "    la_1 =mrv(( cov1_allspl * ade1_allspl + cov1_remit *ade1_remit))\n",
    "    la_2 =mrv(( cov2_allspl * ade2_allspl + cov2_remit *ade2_remit))\n",
    "    la_3 =mrv(( cov3_allspl * ade3_allspl + cov3_remit *ade3_remit))\n",
    "    la_4 =mrv(( cov4_allspl * ade4_allspl + cov4_remit *ade4_remit))\n",
    "    la_5 =mrv(( cov5_allspl * ade5_allspl + cov5_remit *ade5_remit))\n",
    "\n",
    "else:  \n",
    "    t_1 = mrv( tra1_)\n",
    "    t_2 = mrv( tra2_)\n",
    "    t_3 = mrv( tra3_)\n",
    "    t_4 = mrv( tra4_)\n",
    "    t_5 = mrv( tra5_)\n",
    "\n",
    "    la_1 =mrv(( cov1_allspl * ade1_allspl))\n",
    "    la_2 =mrv(( cov2_allspl * ade2_allspl))\n",
    "    la_3 =mrv(( cov3_allspl * ade3_allspl))\n",
    "    la_4 =mrv(( cov4_allspl * ade4_allspl))\n",
    "    la_5 =mrv(( cov5_allspl * ade5_allspl))\n",
    "    \n",
    "y_1= mrv(rem1 + tra1_)/la_1\n",
    "y_2= mrv(rem2 + tra2_)/la_2\n",
    "y_3= mrv(rem3 + tra3_)/la_3\n",
    "y_4= mrv(rem4 + tra4_)/la_4\n",
    "y_5= mrv(rem5 + tra5_)/la_5\n"
   ]
  },
  {
   "cell_type": "code",
   "execution_count": 39,
   "metadata": {
    "collapsed": true,
    "run_control": {
     "frozen": false,
     "read_only": false
    }
   },
   "outputs": [],
   "source": [
    "import numpy as np"
   ]
  },
  {
   "cell_type": "code",
   "execution_count": 40,
   "metadata": {
    "collapsed": false,
    "run_control": {
     "frozen": false,
     "read_only": false
    }
   },
   "outputs": [
    {
     "data": {
      "text/plain": [
       "country\n",
       "Afghanistan                                             3.2526562000e+07\n",
       "Albania                                                 2.8891670000e+06\n",
       "Algeria                                                 3.9666519000e+07\n",
       "American Samoa                                          5.5538000000e+04\n",
       "Andorra                                                 7.0473000000e+04\n",
       "Angola                                                  2.5021974000e+07\n",
       "Antigua and Barbuda                                     9.1818000000e+04\n",
       "Arab World                                              3.9216803000e+08\n",
       "Argentina                                               4.3416755000e+07\n",
       "Armenia                                                 3.0177120000e+06\n",
       "Aruba                                                   1.0388900000e+05\n",
       "Australia                                               2.3789752000e+07\n",
       "Austria                                                 8.6383660000e+06\n",
       "Azerbaijan                                              9.6493410000e+06\n",
       "Bahamas, The                                            3.8801900000e+05\n",
       "Bahrain                                                 1.3772370000e+06\n",
       "Bangladesh                                              1.6099564200e+08\n",
       "Barbados                                                2.8421500000e+05\n",
       "Belarus                                                 9.4896160000e+06\n",
       "Belgium                                                 1.1249420000e+07\n",
       "Belize                                                  3.5928700000e+05\n",
       "Benin                                                   1.0879829000e+07\n",
       "Bermuda                                                 6.5235000000e+04\n",
       "Bhutan                                                  7.7483000000e+05\n",
       "Bolivia                                                 1.0724705000e+07\n",
       "Bosnia and Herzegovina                                  3.8104160000e+06\n",
       "Botswana                                                2.2624850000e+06\n",
       "Brazil                                                  2.0784752800e+08\n",
       "British Virgin Islands                                  3.0117000000e+04\n",
       "Brunei Darussalam                                       4.2318800000e+05\n",
       "Bulgaria                                                7.1779910000e+06\n",
       "Burkina Faso                                            1.8105570000e+07\n",
       "Burundi                                                 1.1178921000e+07\n",
       "Cabo Verde                                              5.2050200000e+05\n",
       "Cambodia                                                1.5577899000e+07\n",
       "Cameroon                                                2.3344179000e+07\n",
       "Canada                                                  3.5848610000e+07\n",
       "Caribbean small states                                  7.1163600000e+06\n",
       "Cayman Islands                                          5.9967000000e+04\n",
       "Central African Republic                                4.9002740000e+06\n",
       "Central Europe and the Baltics                          1.0325677900e+08\n",
       "Chad                                                    1.4037472000e+07\n",
       "Channel Islands                                         1.6369200000e+05\n",
       "Chile                                                   1.7948141000e+07\n",
       "China                                                   1.3712200000e+09\n",
       "Colombia                                                4.8228704000e+07\n",
       "Comoros                                                 7.8847400000e+05\n",
       "Congo, Dem. Rep.                                        7.7266814000e+07\n",
       "Congo, Rep.                                             4.6203300000e+06\n",
       "Costa Rica                                              4.8078500000e+06\n",
       "Cote d'Ivoire                                           2.2701556000e+07\n",
       "Croatia                                                 4.2036040000e+06\n",
       "Cuba                                                    1.1389562000e+07\n",
       "Curacao                                                 1.5797900000e+05\n",
       "Cyprus                                                  1.1653000000e+06\n",
       "Czech Republic                                          1.0546059000e+07\n",
       "Denmark                                                 5.6834830000e+06\n",
       "Djibouti                                                8.8786100000e+05\n",
       "Dominica                                                7.2680000000e+04\n",
       "Dominican Republic                                      1.0528391000e+07\n",
       "Early-demographic dividend                              3.1227574737e+09\n",
       "East Asia & Pacific                                     2.2791465550e+09\n",
       "East Asia & Pacific (IDA & IBRD countries)              2.0098805160e+09\n",
       "East Asia & Pacific (excluding high income)             2.0350788960e+09\n",
       "Ecuador                                                 1.6144363000e+07\n",
       "Egypt, Arab Rep.                                        9.1508084000e+07\n",
       "El Salvador                                             6.1265830000e+06\n",
       "Equatorial Guinea                                       8.4506000000e+05\n",
       "Eritrea                                                 4.7895680000e+06\n",
       "Estonia                                                 1.3146080000e+06\n",
       "Ethiopia                                                9.9390750000e+07\n",
       "Euro area                                               3.3937383000e+08\n",
       "Europe & Central Asia                                   9.0779115700e+08\n",
       "Europe & Central Asia (IDA & IBRD countries)            4.5348058200e+08\n",
       "Europe & Central Asia (excluding high income)           4.1129056600e+08\n",
       "European Union                                          5.0955776200e+08\n",
       "Faroe Islands                                           4.8199000000e+04\n",
       "Fiji                                                    8.9214500000e+05\n",
       "Finland                                                 5.4795310000e+06\n",
       "Fragile and conflict affected situations                4.8561387900e+08\n",
       "France                                                  6.6538391000e+07\n",
       "French Polynesia                                        2.8276400000e+05\n",
       "Gabon                                                   1.7252920000e+06\n",
       "Gambia, The                                             1.9909240000e+06\n",
       "Georgia                                                 3.7171000000e+06\n",
       "Germany                                                 8.1679769000e+07\n",
       "Ghana                                                   2.7409893000e+07\n",
       "Gibraltar                                               3.2217000000e+04\n",
       "Greece                                                  1.0820883000e+07\n",
       "Greenland                                               5.6114000000e+04\n",
       "Grenada                                                 1.0682500000e+05\n",
       "Guam                                                    1.6988500000e+05\n",
       "Guatemala                                               1.6342897000e+07\n",
       "Guinea                                                  1.2608590000e+07\n",
       "Guinea-Bissau                                           1.8443250000e+06\n",
       "Guyana                                                  7.6708500000e+05\n",
       "Haiti                                                   1.0711067000e+07\n",
       "Heavily indebted poor countries (HIPC)                  7.2110410500e+08\n",
       "High income                                             1.1870929240e+09\n",
       "Honduras                                                8.0750600000e+06\n",
       "Hong Kong SAR, China                                    7.3057000000e+06\n",
       "Hungary                                                 9.8430280000e+06\n",
       "IBRD only                                               4.5242637907e+09\n",
       "IDA & IBRD total                                        6.1837735027e+09\n",
       "IDA blend                                               5.8570879700e+08\n",
       "IDA only                                                1.0738009150e+09\n",
       "IDA total                                               1.6595097120e+09\n",
       "Iceland                                                 3.3081500000e+05\n",
       "India                                                   1.3110505270e+09\n",
       "Indonesia                                               2.5756381500e+08\n",
       "Iran, Islamic Rep.                                      7.9109272000e+07\n",
       "Iraq                                                    3.6423395000e+07\n",
       "Ireland                                                 4.6437400000e+06\n",
       "Isle of Man                                             8.7780000000e+04\n",
       "Israel                                                  8.3801000000e+06\n",
       "Italy                                                   6.0730582000e+07\n",
       "Jamaica                                                 2.7933350000e+06\n",
       "Japan                                                   1.2695847200e+08\n",
       "Jordan                                                  7.5945470000e+06\n",
       "Kazakhstan                                              1.7544126000e+07\n",
       "Kenya                                                   4.6050302000e+07\n",
       "Kiribati                                                1.1242300000e+05\n",
       "Korea, Dem. People’s Rep.                               2.5155317000e+07\n",
       "Korea, Rep.                                             5.0617045000e+07\n",
       "Kosovo                                                  1.8018000000e+06\n",
       "Kuwait                                                  3.8921150000e+06\n",
       "Kyrgyz Republic                                         5.9569000000e+06\n",
       "Lao PDR                                                 6.8020230000e+06\n",
       "Late-demographic dividend                               2.2493851460e+09\n",
       "Latin America & Caribbean                               6.3302641900e+08\n",
       "Latin America & Caribbean (excluding high income)       6.0543238600e+08\n",
       "Latin America & the Caribbean (IDA & IBRD countries)    6.1692999800e+08\n",
       "Latvia                                                  1.9775270000e+06\n",
       "Least developed countries: UN classification            9.5415780400e+08\n",
       "Lebanon                                                 5.8507430000e+06\n",
       "Lesotho                                                 2.1350220000e+06\n",
       "Liberia                                                 4.5034380000e+06\n",
       "Libya                                                   6.2784380000e+06\n",
       "Liechtenstein                                           3.7531000000e+04\n",
       "Lithuania                                               2.9049100000e+06\n",
       "Low & middle income                                     6.1596129787e+09\n",
       "Low income                                              6.3828628800e+08\n",
       "Lower middle income                                     2.9274688380e+09\n",
       "Luxembourg                                              5.6960400000e+05\n",
       "Macao SAR, China                                        5.8760600000e+05\n",
       "Macedonia, FYR                                          2.0784530000e+06\n",
       "Madagascar                                              2.4235390000e+07\n",
       "Malawi                                                  1.7215232000e+07\n",
       "Malaysia                                                3.0331007000e+07\n",
       "Maldives                                                4.0916300000e+05\n",
       "Mali                                                    1.7599694000e+07\n",
       "Malta                                                   4.3187400000e+05\n",
       "Marshall Islands                                        5.2993000000e+04\n",
       "Mauritania                                              4.0675640000e+06\n",
       "Mauritius                                               1.2626050000e+06\n",
       "Mexico                                                  1.2701722400e+08\n",
       "Micronesia, Fed. Sts.                                   1.0446000000e+05\n",
       "Middle East & North Africa                              4.2421125200e+08\n",
       "Middle East & North Africa (IDA & IBRD countries)       3.5828455200e+08\n",
       "Middle East & North Africa (excluding high income)      3.6270669500e+08\n",
       "Middle income                                           5.5213266907e+09\n",
       "Moldova                                                 3.5541080000e+06\n",
       "Monaco                                                  3.7731000000e+04\n",
       "Mongolia                                                2.9591340000e+06\n",
       "Montenegro                                              6.2215900000e+05\n",
       "Morocco                                                 3.4377511000e+07\n",
       "Mozambique                                              2.7977863000e+07\n",
       "Myanmar                                                 5.3897154000e+07\n",
       "Namibia                                                 2.4588300000e+06\n",
       "Nauru                                                   1.2475000000e+04\n",
       "Nepal                                                   2.8513700000e+07\n",
       "Netherlands                                             1.6939923000e+07\n",
       "New Caledonia                                           2.7300000000e+05\n",
       "New Zealand                                             4.5957000000e+06\n",
       "Nicaragua                                               6.0820320000e+06\n",
       "Niger                                                   1.9899120000e+07\n",
       "Nigeria                                                 1.8220196200e+08\n",
       "North America                                           3.5733266500e+08\n",
       "Northern Mariana Islands                                5.5070000000e+04\n",
       "Norway                                                  5.1902390000e+06\n",
       "OECD members                                            1.2829009530e+09\n",
       "Oman                                                    4.4905410000e+06\n",
       "Other small states                                      2.8593188000e+07\n",
       "Pacific island small states                             2.3533440000e+06\n",
       "Pakistan                                                1.8892487400e+08\n",
       "Palau                                                   2.1291000000e+04\n",
       "Panama                                                  3.9291410000e+06\n",
       "Papua New Guinea                                        7.6193210000e+06\n",
       "Paraguay                                                6.6391230000e+06\n",
       "Peru                                                    3.1376670000e+07\n",
       "Philippines                                             1.0069939500e+08\n",
       "Poland                                                  3.7986412000e+07\n",
       "Portugal                                                1.0358076000e+07\n",
       "Post-demographic dividend                               1.0975790980e+09\n",
       "Pre-demographic dividend                                8.5021077300e+08\n",
       "Puerto Rico                                             3.4741820000e+06\n",
       "Qatar                                                   2.2353550000e+06\n",
       "Romania                                                 1.9815308000e+07\n",
       "Russian Federation                                      1.4409687000e+08\n",
       "Rwanda                                                  1.1609666000e+07\n",
       "Samoa                                                   1.9322800000e+05\n",
       "San Marino                                              3.1781000000e+04\n",
       "Sao Tome and Principe                                   1.9034400000e+05\n",
       "Saudi Arabia                                            3.1540372000e+07\n",
       "Senegal                                                 1.5129273000e+07\n",
       "Serbia                                                  7.0953830000e+06\n",
       "Seychelles                                              9.3419000000e+04\n",
       "Sierra Leone                                            6.4531840000e+06\n",
       "Singapore                                               5.5350020000e+06\n",
       "Sint Maarten (Dutch part)                               3.8824000000e+04\n",
       "Slovak Republic                                         5.4238010000e+06\n",
       "Slovenia                                                2.0635310000e+06\n",
       "Small states                                            3.8062892000e+07\n",
       "Solomon Islands                                         5.8359100000e+05\n",
       "Somalia                                                 1.0787104000e+07\n",
       "South Africa                                            5.5011976682e+07\n",
       "South Asia                                              1.7441612980e+09\n",
       "South Asia (IDA & IBRD)                                 1.7441612980e+09\n",
       "South Sudan                                             1.2339812000e+07\n",
       "Spain                                                   4.6443994000e+07\n",
       "Sri Lanka                                               2.0966000000e+07\n",
       "St. Kitts and Nevis                                     5.5572000000e+04\n",
       "St. Lucia                                               1.8499900000e+05\n",
       "St. Martin (French part)                                3.1754000000e+04\n",
       "St. Vincent and the Grenadines                          1.0946200000e+05\n",
       "Sub-Saharan Africa                                      1.0010365567e+09\n",
       "Sub-Saharan Africa (IDA & IBRD countries)               1.0010365567e+09\n",
       "Sub-Saharan Africa (excluding high income)              1.0009431377e+09\n",
       "Sudan                                                   4.0234882000e+07\n",
       "Suriname                                                5.4297500000e+05\n",
       "Swaziland                                               1.2869700000e+06\n",
       "Sweden                                                  9.7991860000e+06\n",
       "Switzerland                                             8.2814300000e+06\n",
       "Syrian Arab Republic                                    1.8502413000e+07\n",
       "Tajikistan                                              8.4818550000e+06\n",
       "Tanzania                                                5.3470420000e+07\n",
       "Thailand                                                6.7959359000e+07\n",
       "Timor-Leste                                             1.1847650000e+06\n",
       "Togo                                                    7.3045780000e+06\n",
       "Tonga                                                   1.0617000000e+05\n",
       "Trinidad and Tobago                                     1.3600880000e+06\n",
       "Tunisia                                                 1.1253554000e+07\n",
       "Turkey                                                  7.8665830000e+07\n",
       "Turkmenistan                                            5.3735020000e+06\n",
       "Turks and Caicos Islands                                3.4339000000e+04\n",
       "Tuvalu                                                  9.9160000000e+03\n",
       "Uganda                                                  3.9032383000e+07\n",
       "Ukraine                                                 4.5154029000e+07\n",
       "United Arab Emirates                                    9.1569630000e+06\n",
       "United Kingdom                                          6.5128861000e+07\n",
       "United States                                           3.2141882000e+08\n",
       "Upper middle income                                     2.5938578527e+09\n",
       "Uruguay                                                 3.4315550000e+06\n",
       "Uzbekistan                                              3.1298900000e+07\n",
       "Vanuatu                                                 2.6465200000e+05\n",
       "Venezuela, RB                                           3.1108083000e+07\n",
       "Vietnam                                                 9.1713300000e+07\n",
       "Virgin Islands (U.S.)                                   1.0357400000e+05\n",
       "West Bank and Gaza                                      4.4221430000e+06\n",
       "World                                                   7.3467059027e+09\n",
       "Yemen, Rep.                                             2.6832215000e+07\n",
       "Zambia                                                  1.6211767000e+07\n",
       "Zimbabwe                                                1.5602751000e+07\n",
       "Name: pop, dtype: float64"
      ]
     },
     "execution_count": 40,
     "metadata": {},
     "output_type": "execute_result"
    }
   ],
   "source": [
    "pop"
   ]
  },
  {
   "cell_type": "code",
   "execution_count": 41,
   "metadata": {
    "collapsed": false,
    "run_control": {
     "frozen": false,
     "read_only": false
    }
   },
   "outputs": [
    {
     "data": {
      "text/plain": [
       "0.3243548867205606"
      ]
     },
     "execution_count": 41,
     "metadata": {},
     "output_type": "execute_result"
    }
   ],
   "source": [
    "(4*t_1*pop).sum()/((t_2+t_3+t_4+t_5)*pop).sum()"
   ]
  },
  {
   "cell_type": "code",
   "execution_count": 42,
   "metadata": {
    "collapsed": false,
    "run_control": {
     "frozen": false,
     "read_only": false
    }
   },
   "outputs": [
    {
     "name": "stdout",
     "output_type": "stream",
     "text": [
      "in the  106 countries where ASPIRE reports data, poor people receive only 32.459908209870704 percent of what nonpoor people receive from public and private transfers\n"
     ]
    }
   ],
   "source": [
    "x   =  (pd.DataFrame([t_1, t_2, t_3, t_4, t_5,pop], index=[\"q1\",\"q2\",\"q3\",\"q4\",\"q5\", \"popu\"]).T).dropna()\n",
    "\n",
    "\n",
    "\n",
    "print(\"in the \", x.shape[0], \"countries where ASPIRE reports data, poor people receive only\", 100* (4*x.q1*x.popu).sum()/((x.q2+x.q3+x.q4+x.q5)*x.popu).sum(), \"percent of what nonpoor people receive from public and private transfers\")"
   ]
  },
  {
   "cell_type": "code",
   "execution_count": 43,
   "metadata": {
    "collapsed": false,
    "run_control": {
     "frozen": false,
     "read_only": false
    }
   },
   "outputs": [
    {
     "data": {
      "text/plain": [
       "country       year\n",
       "Armenia       2014    1.1220440728\n",
       "              2012    1.1801605907\n",
       "              2011    0.9808063494\n",
       "Burkina Faso  2003    1.3056654506\n",
       "Cameroon      2007    2.6710968894\n",
       "Georgia       2011    3.8265705594\n",
       "Lesotho       2010    3.0217168121\n",
       "Mauritania    2014    1.1267036533\n",
       "Name: ade1_remit, dtype: float64"
      ]
     },
     "execution_count": 43,
     "metadata": {},
     "output_type": "execute_result"
    }
   ],
   "source": [
    "#These countries seem to get more than 100% income from transfers acording to ASPIRE\n",
    "ade1_remit[ade1_remit>.95]"
   ]
  },
  {
   "cell_type": "markdown",
   "metadata": {},
   "source": [
    "# financial inclusion"
   ]
  },
  {
   "cell_type": "code",
   "execution_count": 44,
   "metadata": {
    "collapsed": false,
    "run_control": {
     "frozen": false,
     "read_only": false
    }
   },
   "outputs": [],
   "source": [
    "search_wb(\"Saved at a financial institution\");"
   ]
  },
  {
   "cell_type": "code",
   "execution_count": 45,
   "metadata": {
    "collapsed": false,
    "run_control": {
     "frozen": false,
     "read_only": false
    }
   },
   "outputs": [],
   "source": [
    "#Findex                                 \n",
    "loan40   =get_wb_mrv('WP11651_5.8'      ,\"loan40\")/100 #Loan in the past year                                  \n",
    "loan60   =get_wb_mrv('WP11651_5.9'      ,\"loan60\")/100 #Loaan in the past year                                  \n",
    "saved40  =get_wb_mrv('WP_time_04.8'        ,\"saved40\")/100 #Saved at a financial institution in the past year, bottom 40%      \n",
    "saved60  =get_wb_mrv('WP_time_04.9'        ,\"saved60\")/100 #Saved this year, income, top 60% (% age 15+)\n"
   ]
  },
  {
   "cell_type": "code",
   "execution_count": 46,
   "metadata": {
    "collapsed": false,
    "run_control": {
     "frozen": false,
     "read_only": false
    }
   },
   "outputs": [
    {
     "data": {
      "text/plain": [
       "country\n",
       "Afghanistan    0.04460866\n",
       "Albania        0.09645449\n",
       "Algeria        0.16478050\n",
       "Angola         0.22208070\n",
       "Argentina      0.06069045\n",
       "Name: saved60, dtype: float64"
      ]
     },
     "execution_count": 46,
     "metadata": {},
     "output_type": "execute_result"
    }
   ],
   "source": [
    "saved60.head()"
   ]
  },
  {
   "cell_type": "markdown",
   "metadata": {},
   "source": [
    "# urbanization rate"
   ]
  },
  {
   "cell_type": "code",
   "execution_count": 47,
   "metadata": {
    "collapsed": false,
    "run_control": {
     "frozen": false,
     "read_only": false
    }
   },
   "outputs": [
    {
     "data": {
      "text/html": [
       "<div>\n",
       "<table border=\"1\" class=\"dataframe\">\n",
       "  <thead>\n",
       "    <tr style=\"text-align: right;\">\n",
       "      <th></th>\n",
       "      <th>id</th>\n",
       "      <th>name</th>\n",
       "      <th>source</th>\n",
       "    </tr>\n",
       "  </thead>\n",
       "  <tbody>\n",
       "    <tr>\n",
       "      <th>4792</th>\n",
       "      <td>EN.POP.EL5M.UR.ZS</td>\n",
       "      <td>Urban population living in areas where elevation is below 5 meters (% of total population)</td>\n",
       "      <td>World Development Indicators</td>\n",
       "    </tr>\n",
       "    <tr>\n",
       "      <th>8989</th>\n",
       "      <td>SH.H2O.SAFE.UR.ZS</td>\n",
       "      <td>Improved water source, urban (% of urban population with access)</td>\n",
       "      <td>World Development Indicators</td>\n",
       "    </tr>\n",
       "    <tr>\n",
       "      <th>9149</th>\n",
       "      <td>SH.STA.ACSN.UR</td>\n",
       "      <td>Improved sanitation facilities, urban (% of urban population with access)</td>\n",
       "      <td>World Development Indicators</td>\n",
       "    </tr>\n",
       "    <tr>\n",
       "      <th>10015</th>\n",
       "      <td>SP.URB.GROW</td>\n",
       "      <td>Urban population growth (annual %)</td>\n",
       "      <td>World Development Indicators</td>\n",
       "    </tr>\n",
       "    <tr>\n",
       "      <th>10018</th>\n",
       "      <td>SP.URB.TOTL.IN.ZS</td>\n",
       "      <td>Urban population (% of total)</td>\n",
       "      <td>World Development Indicators</td>\n",
       "    </tr>\n",
       "  </tbody>\n",
       "</table>\n",
       "</div>"
      ],
      "text/plain": [
       "                      id                                                                                        name                        source\n",
       "4792   EN.POP.EL5M.UR.ZS  Urban population living in areas where elevation is below 5 meters (% of total population)  World Development Indicators\n",
       "8989   SH.H2O.SAFE.UR.ZS                            Improved water source, urban (% of urban population with access)  World Development Indicators\n",
       "9149      SH.STA.ACSN.UR                   Improved sanitation facilities, urban (% of urban population with access)  World Development Indicators\n",
       "10015        SP.URB.GROW                                                          Urban population growth (annual %)  World Development Indicators\n",
       "10018  SP.URB.TOTL.IN.ZS                                                               Urban population (% of total)  World Development Indicators"
      ]
     },
     "execution_count": 47,
     "metadata": {},
     "output_type": "execute_result"
    }
   ],
   "source": [
    "search_wb(\"Urban population \")"
   ]
  },
  {
   "cell_type": "code",
   "execution_count": 48,
   "metadata": {
    "collapsed": false,
    "run_control": {
     "frozen": false,
     "read_only": false
    }
   },
   "outputs": [],
   "source": [
    "urbanization_rate = get_wb_mrv(\"SP.URB.TOTL.IN.ZS\",\"urbanization_rate\")/100"
   ]
  },
  {
   "cell_type": "markdown",
   "metadata": {},
   "source": [
    "# New dataframe"
   ]
  },
  {
   "cell_type": "code",
   "execution_count": 49,
   "metadata": {
    "collapsed": false,
    "run_control": {
     "frozen": false,
     "read_only": false
    }
   },
   "outputs": [],
   "source": [
    "df = pd.concat([gdp_pc_pp,pop,share1,urbanization_rate,gdp_pc_cd],axis=1)\n",
    "df.index.names = ['country']"
   ]
  },
  {
   "cell_type": "code",
   "execution_count": 50,
   "metadata": {
    "collapsed": false,
    "run_control": {
     "frozen": false,
     "read_only": false
    }
   },
   "outputs": [],
   "source": [
    "#We take only savings as an insurance against destitution\n",
    "df[\"axfin_p\"] = saved40\n",
    "df[\"axfin_r\"] = saved60"
   ]
  },
  {
   "cell_type": "code",
   "execution_count": 51,
   "metadata": {
    "collapsed": false,
    "run_control": {
     "frozen": false,
     "read_only": false
    }
   },
   "outputs": [],
   "source": [
    "#Comptues share of income from transfers\n",
    "\n",
    "df[\"social_p\"]=la_1\n",
    "df[\"social_r\"]=(t_2+t_3+t_4+t_5)/(y_2+y_3+y_4+y_5)\n"
   ]
  },
  {
   "cell_type": "code",
   "execution_count": 52,
   "metadata": {
    "collapsed": false,
    "run_control": {
     "frozen": false,
     "read_only": false
    }
   },
   "outputs": [
    {
     "data": {
      "text/plain": [
       "country\n",
       "Armenia         0.7336326637\n",
       "Azerbaijan      0.8571289621\n",
       "Belarus         0.7131045570\n",
       "Georgia         0.9832011784\n",
       "Ghana           0.6257034541\n",
       "Hungary         0.8014838871\n",
       "Lithuania       0.7601398504\n",
       "South Africa    0.7327359556\n",
       "Uruguay         0.6301863446\n",
       "Name: social_p, dtype: float64"
      ]
     },
     "execution_count": 52,
     "metadata": {},
     "output_type": "execute_result"
    }
   ],
   "source": [
    "df[df.social_p>0.6].social_p"
   ]
  },
  {
   "cell_type": "code",
   "execution_count": 53,
   "metadata": {
    "collapsed": false,
    "run_control": {
     "frozen": false,
     "read_only": false
    }
   },
   "outputs": [
    {
     "data": {
      "text/plain": [
       "country\n",
       "Armenia       0.3171795510\n",
       "Azerbaijan    0.3860532955\n",
       "Belarus       0.3857459292\n",
       "Georgia       0.5428108927\n",
       "Hungary       0.3974498381\n",
       "Mauritius     0.3280153838\n",
       "Moldova       0.3577664586\n",
       "Montenegro    0.3342241905\n",
       "Poland        0.3946498977\n",
       "Romania       0.4061917770\n",
       "Serbia        0.3624857510\n",
       "Ukraine       0.3852444834\n",
       "Uruguay       0.3778652067\n",
       "Name: social_r, dtype: float64"
      ]
     },
     "execution_count": 53,
     "metadata": {},
     "output_type": "execute_result"
    }
   ],
   "source": [
    "df[df.social_r>0.3].social_r"
   ]
  },
  {
   "cell_type": "code",
   "execution_count": 54,
   "metadata": {
    "collapsed": false,
    "run_control": {
     "frozen": false,
     "read_only": false
    }
   },
   "outputs": [
    {
     "data": {
      "text/plain": [
       "gdp_pc_pp            9.0158877669e+03\n",
       "pop                  3.7171000000e+06\n",
       "share1               5.5900000000e-02\n",
       "urbanization_rate    5.3641000000e-01\n",
       "gdp_pc_cd            3.7570648629e+03\n",
       "axfin_p              1.1648850000e-02\n",
       "axfin_r              8.0633930000e-03\n",
       "social_p             9.8320117844e-01\n",
       "social_r             5.4281089274e-01\n",
       "Name: Georgia, dtype: float64"
      ]
     },
     "execution_count": 54,
     "metadata": {},
     "output_type": "execute_result"
    }
   ],
   "source": [
    "df.ix[\"Georgia\"]"
   ]
  },
  {
   "cell_type": "markdown",
   "metadata": {},
   "source": [
    "# Manual additions"
   ]
  },
  {
   "cell_type": "code",
   "execution_count": 55,
   "metadata": {
    "collapsed": false,
    "run_control": {
     "frozen": false,
     "read_only": false
    }
   },
   "outputs": [],
   "source": [
    "#GDP per capita from google (GDP per capita plays no role in the indicator. only usefull to plot the data)\n",
    "df.ix[\"Argentina\",\"gdp_pc_pp\"]=18600/10700 * 10405.\n",
    "df.ix[\"Syrian Arab Republic\",\"gdp_pc_pp\"]=5100/10700 * 10405.\n",
    "\n",
    "#assume these countries with recent conflicts have bad access to basic education\n",
    "#df.ix[\"Iraq\"][\"plgp\"] = df.plgp.min()\n",
    "\n",
    "#assumes these wealthy countries have good access to basic education and basic health care\n",
    "# countries = ['Austria',  'Belgium',  'Denmark',  'France',  'Greece',  'Spain',  'Sweden',  'United Kingdom'] \n",
    "# df.ix[countries,\"bashs\"]=df.bashs.max()\n",
    "# df[\"axhealth\"]=(df.bashs+(1-df.ophe))/2\n",
    "\n",
    "\n",
    "# countries = ['Australia', 'Canada', 'France', 'Ireland', 'United Kingdom', 'United States']\n",
    "# df.ix[countries,\"plgp\"]=df.plgp.max()\n"
   ]
  },
  {
   "cell_type": "markdown",
   "metadata": {},
   "source": [
    "# output"
   ]
  },
  {
   "cell_type": "code",
   "execution_count": 56,
   "metadata": {
    "collapsed": false,
    "run_control": {
     "frozen": false,
     "read_only": false
    }
   },
   "outputs": [
    {
     "name": "stdout",
     "output_type": "stream",
     "text": [
      "(82, 9)\n"
     ]
    }
   ],
   "source": [
    "print(df.dropna().shape)\n",
    "df.dropna(how=\"all\",inplace=True)\n",
    "df.to_csv(\"inputs/wb_data.csv\", encoding=\"utf8\")"
   ]
  },
  {
   "cell_type": "code",
   "execution_count": null,
   "metadata": {
    "collapsed": true,
    "run_control": {
     "frozen": false,
     "read_only": false
    }
   },
   "outputs": [],
   "source": [
    "#"
   ]
  },
  {
   "cell_type": "code",
   "execution_count": null,
   "metadata": {
    "collapsed": true,
    "run_control": {
     "frozen": false,
     "read_only": false
    }
   },
   "outputs": [],
   "source": []
  },
  {
   "cell_type": "code",
   "execution_count": null,
   "metadata": {
    "collapsed": true,
    "run_control": {
     "frozen": false,
     "read_only": false
    }
   },
   "outputs": [],
   "source": []
  },
  {
   "cell_type": "code",
   "execution_count": null,
   "metadata": {
    "collapsed": true,
    "run_control": {
     "frozen": false,
     "read_only": false
    }
   },
   "outputs": [],
   "source": []
  }
 ],
 "metadata": {
  "kernelspec": {
   "display_name": "Python [default]",
   "language": "python",
   "name": "python3"
  },
  "language_info": {
   "codemirror_mode": {
    "name": "ipython",
    "version": 3
   },
   "file_extension": ".py",
   "mimetype": "text/x-python",
   "name": "python",
   "nbconvert_exporter": "python",
   "pygments_lexer": "ipython3",
   "version": "3.5.2"
  },
  "nav_menu": {},
  "toc": {
   "colors": {
    "hover_highlight": "#DAA520",
    "navigate_num": "#000000",
    "navigate_text": "#333333",
    "running_highlight": "#FF0000",
    "selected_highlight": "#FFD700",
    "sidebar_border": "#EEEEEE",
    "wrapper_background": "#FFFFFF"
   },
   "moveMenuLeft": true,
   "nav_menu": {
    "height": "191px",
    "width": "252px"
   },
   "navigate_menu": true,
   "number_sections": true,
   "sideBar": true,
   "threshold": 4,
   "toc_cell": false,
   "toc_position": {
    "height": "509px",
    "left": "0px",
    "right": "1134px",
    "top": "106px",
    "width": "146px"
   },
   "toc_section_display": "block",
   "toc_window_display": true,
   "widenNotebook": false
  }
 },
 "nbformat": 4,
 "nbformat_minor": 0
}
