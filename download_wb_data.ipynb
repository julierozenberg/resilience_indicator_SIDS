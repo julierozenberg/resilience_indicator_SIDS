{
 "cells": [
  {
   "cell_type": "code",
   "execution_count": 1,
   "metadata": {
    "collapsed": true,
    "run_control": {
     "frozen": false,
     "read_only": false
    }
   },
   "outputs": [],
   "source": [
    "# Downloads wb data"
   ]
  },
  {
   "cell_type": "markdown",
   "metadata": {},
   "source": [
    "#### The new approach is to <u> divide percents by 100</u> in this notebook, at download time"
   ]
  },
  {
   "cell_type": "code",
   "execution_count": 2,
   "metadata": {
    "collapsed": false,
    "run_control": {
     "frozen": false,
     "read_only": false
    }
   },
   "outputs": [],
   "source": [
    "%load_ext autoreload\n",
    "%autoreload\n",
    "%matplotlib inline"
   ]
  },
  {
   "cell_type": "code",
   "execution_count": 3,
   "metadata": {
    "collapsed": false,
    "run_control": {
     "frozen": false,
     "read_only": false
    }
   },
   "outputs": [],
   "source": [
    "from pandas_datareader import wb\n",
    "import pandas as pd\n",
    "import numpy as np\n",
    "import matplotlib.pyplot as plt\n",
    "from res_ind_lib import *\n",
    "\n",
    "import os, time\n",
    "from wb_api_wraper import *"
   ]
  },
  {
   "cell_type": "markdown",
   "metadata": {},
   "source": [
    "# Options"
   ]
  },
  {
   "cell_type": "code",
   "execution_count": 4,
   "metadata": {
    "collapsed": true,
    "run_control": {
     "frozen": false,
     "read_only": false
    }
   },
   "outputs": [],
   "source": [
    "include_remitances = True"
   ]
  },
  {
   "cell_type": "code",
   "execution_count": 5,
   "metadata": {
    "collapsed": true,
    "run_control": {
     "frozen": false,
     "read_only": false
    }
   },
   "outputs": [],
   "source": [
    "#Pandas display optionsa\n",
    "\n",
    "pd.set_option('display.max_colwidth', 200)\n",
    "pd.set_option('display.width', 200)\n",
    "pd.set_option('display.precision', 10)\n",
    "pd.set_option('display.max_rows', 500)\n"
   ]
  },
  {
   "cell_type": "markdown",
   "metadata": {},
   "source": [
    "# GDP and share of income per Q"
   ]
  },
  {
   "cell_type": "code",
   "execution_count": 6,
   "metadata": {
    "collapsed": false,
    "run_control": {
     "frozen": false,
     "read_only": false
    }
   },
   "outputs": [],
   "source": [
    "#World Development Indicators\n",
    "gdp_pc_pp    = get_wb_mrv('NY.GDP.PCAP.pp.kd',\"gdp_pc_pp\")#Gdp per capita ppp\n",
    "pop          = get_wb_mrv('SP.POP.TOTL'      ,\"pop\")#population\n",
    "#ppp_over_mer = get_wb_mrv('PA.NUS.PPPC.RF',\"ppp_over_mer\")#conversion factor PPP over MER\n",
    "gdp_pc_cd=get_wb_mrv('ny.gdp.pcap.cd'   ,\"gdp_pc_cd\")#gdp per capita mer\n",
    "# gap2     =get_wb_mrv('1.0.PGap.2.5usd'  ,\"gap2\")#poverty gap at 2$\n",
    "# head2    =get_wb_mrv('SI.POV.2DAY'      ,\"head2\")# povety count at 2$\n",
    "\n",
    "share1   =get_wb_mrv('SI.DST.FRST.20'   ,\"share1\")/100#share of income bottom 20%\n",
    "share2   =get_wb_mrv('SI.DST.02nd.20'   ,\"share2\")/100#share of income second \n",
    "share3   =get_wb_mrv('SI.DST.03rd.20'   ,\"share3\")/100#share of income 3rd\n",
    "share4   =get_wb_mrv('SI.DST.04th.20'   ,\"share4\")/100#share of income 4th\n",
    "share5   =get_wb_mrv('SI.DST.05th.20'   ,\"share5\")/100#share of income 5th\n",
    "\n",
    "#pahc = get_wb_mrv('SH.ACS.PROB.Q2.ZS','pahc')/100   #“problems in accessing health care (all concerns) (% of women)”\n",
    "# bashs = get_wb_mrv('SH.STA.BRTC.ZS','bashs') /100# Births attended by skilled health staff (% of total)\n",
    "# ophe = get_wb_mrv('SH.XPD.OOPC.TO.ZS','ophe')/100   # Out-of-pocket health expenditure (% of total expenditure on health)\n",
    "\n",
    "# plgp = get_wb_mrv('SE.PRM.PRSL.ZS','plgp')/100   #'Persistence to last grade of primary, total (% of cohort)'\n",
    "\n",
    "\n",
    "#pseudo_employ = 1-get_wb_mrv(\"SL.UEM.TOTL.ZS\",\"pseudo_employ\")/100 # 'Unemployment, total (% of total labor force) (modeled ILO estimate)'\n",
    "# unemp = get_wb_mrv(\"SL.UEM.TOTL.ZS\",\"unemp\")/100 # 'Unemployment, total (% of total labor force) (modeled ILO estimate)'"
   ]
  },
  {
   "cell_type": "markdown",
   "metadata": {},
   "source": [
    "# Social protection and remitances"
   ]
  },
  {
   "cell_type": "code",
   "execution_count": 7,
   "metadata": {
    "collapsed": false,
    "run_control": {
     "frozen": false,
     "read_only": false
    }
   },
   "outputs": [
    {
     "data": {
      "text/html": [
       "<div>\n",
       "<table border=\"1\" class=\"dataframe\">\n",
       "  <thead>\n",
       "    <tr style=\"text-align: right;\">\n",
       "      <th></th>\n",
       "      <th>id</th>\n",
       "      <th>name</th>\n",
       "      <th>source</th>\n",
       "    </tr>\n",
       "  </thead>\n",
       "  <tbody>\n",
       "  </tbody>\n",
       "</table>\n",
       "</div>"
      ],
      "text/plain": [
       "Empty DataFrame\n",
       "Columns: [id, name, source]\n",
       "Index: []"
      ]
     },
     "execution_count": 7,
     "metadata": {},
     "output_type": "execute_result"
    }
   ],
   "source": [
    "search_wb(\"coverage.*poor.*all.*ass.*\").query(\"name=='Coverage in poorest quintile (%) - All Social Assistance '\")"
   ]
  },
  {
   "cell_type": "code",
   "execution_count": 8,
   "metadata": {
    "collapsed": false,
    "run_control": {
     "frozen": false,
     "read_only": false
    }
   },
   "outputs": [],
   "source": [
    "poor_cov_assistance = mrv(get_wb(\"per_sa_allsa.cov_q1_tot\"))\n",
    "poor_cov_assistance\n",
    "\n",
    "other_cov_assistance =( mrv(get_wb(\"per_sa_allsa.cov_q2_tot\")) + mrv(get_wb(\"per_sa_allsa.cov_q3_tot\"))+ mrv(get_wb(\"per_sa_allsa.cov_q4_tot\")) + mrv(get_wb(\"per_sa_allsa.cov_q5_tot\")))/4\n",
    "\n"
   ]
  },
  {
   "cell_type": "code",
   "execution_count": 9,
   "metadata": {
    "collapsed": false,
    "run_control": {
     "frozen": false,
     "read_only": false
    }
   },
   "outputs": [
    {
     "data": {
      "image/png": "[encoded data removed]",
      "text/plain": [
       "<matplotlib.figure.Figure at 0x1d6ad345d68>"
      ]
     },
     "metadata": {},
     "output_type": "display_data"
    }
   ],
   "source": [
    "from fancy_plots import *\n",
    "\n",
    "font = {'family' : 'serif',\n",
    "    'weight' : 'normal',\n",
    "    'size'   : 15}\n",
    "\n",
    "plt.rc('font', **font)\n",
    "\n",
    "pd.DataFrame([poor_cov_assistance, other_cov_assistance], index=[\"Poor\",\"Nonpoor\"]).T.plot.scatter(\n",
    "    x=\"Poor\", \n",
    "    y=\"Nonpoor\", \n",
    "    s=60, \n",
    "    alpha=0.5,\n",
    "    figsize=(7,7),\n",
    "    clip_on=False)\n",
    "plt.xlim(0,100)\n",
    "plt.ylim(0,100)\n",
    "\n",
    "plt.plot([0,100],[0,100], \"--\", color=\"black\")\n",
    "\n",
    "spine_and_ticks(plt.gca())\n",
    "\n",
    "#savefig(\"img/cov_assist_p_np\")"
   ]
  },
  {
   "cell_type": "code",
   "execution_count": 10,
   "metadata": {
    "collapsed": false,
    "run_control": {
     "frozen": false,
     "read_only": false
    }
   },
   "outputs": [],
   "source": [
    "#Aspire\n",
    "\n",
    "#Averages\n",
    "rem1  =get_wb_series('per_pr_allpr.avt_q1_tot','rem1') #Average per capita transfer held by poorest quintile - Private Transfers   \n",
    "rem2  =get_wb_series('per_pr_allpr.avt_q2_tot','rem2') # - Private Transfers \n",
    "rem3  =get_wb_series('per_pr_allpr.avt_q3_tot','rem3') # - Private Transfers \n",
    "rem4  =get_wb_series('per_pr_allpr.avt_q4_tot','rem4') # - Private Transfers \n",
    "rem5  =get_wb_series('per_pr_allpr.avt_q5_tot','rem5') # - Private Transfers \n",
    "\n",
    "tra1_  =get_wb_series('per_allsp.avt_q1_tot','tra1') #Average per capita transfer held by poorest quintile -All  dolars PPP per day\n",
    "tra2_  =get_wb_series('per_allsp.avt_q2_tot','tra2') #Average per capita transfer held by -All \n",
    "tra3_  =get_wb_series('per_allsp.avt_q3_tot','tra3') #Average per capita transfer held by  -All \n",
    "tra4_  =get_wb_series('per_allsp.avt_q4_tot','tra4') #Average per capita transfer held by  -All \n",
    "tra5_  =get_wb_series('per_allsp.avt_q5_tot','tra5') #Average per capita transfer held by  -All \n",
    "\n",
    "# per_pr_allpr.adq_q1_tot\n",
    "\n",
    "\n",
    "#Adequacies\n",
    "ade1_remit  = get_wb_series('per_pr_allpr.adq_q1_tot', 'ade1_remit')/100 #Adequacy of benefits for Q1, Remittances\n",
    "ade2_remit  = get_wb_series('per_pr_allpr.adq_q2_tot', 'ade2_remit')/100 #Adequacy of benefits for Q2, Remittances\n",
    "ade3_remit  = get_wb_series('per_pr_allpr.adq_q3_tot', 'ade3_remit')/100 #Adequacy of benefits for Q3, Remittances\n",
    "ade4_remit  = get_wb_series('per_pr_allpr.adq_q4_tot', 'ade4_remit')/100 #Adequacy of benefits for Q4, Remittances\n",
    "ade5_remit  = get_wb_series('per_pr_allpr.adq_q5_tot', 'ade5_remit')/100 #Adequacy of benefits for Q5, Remittances\n",
    "\n",
    "ade1_allspl = get_wb_series('per_allsp.adq_q1_tot', 'ade1_allspl')/100 #Adequacy of benefits for Q1, All Social Protection and Labor\n",
    "ade2_allspl = get_wb_series('per_allsp.adq_q2_tot', 'ade2_allspl')/100 #Adequacy of benefits for Q2, All Social Protection and Labor\n",
    "ade3_allspl = get_wb_series('per_allsp.adq_q3_tot', 'ade3_allspl')/100 #Adequacy of benefits for Q3, All Social Protection and Labor\n",
    "ade4_allspl = get_wb_series('per_allsp.adq_q4_tot', 'ade4_allspl')/100 #Adequacy of benefits for Q4, All Social Protection and Labor\n",
    "ade5_allspl = get_wb_series('per_allsp.adq_q5_tot', 'ade5_allspl')/100 #Adequacy of benefits for Q5, All Social Protection and Labor\n",
    "\n",
    "#Coverage            \n",
    "cov1_remit  = get_wb_series('per_pr_allpr.cov_q1_tot','cov1_remit')/100 # Coverage for Q1, Remittances \n",
    "cov2_remit  = get_wb_series('per_pr_allpr.cov_q2_tot','cov2_remit')/100 # Coverage for Q2, Remittances \n",
    "cov3_remit  = get_wb_series('per_pr_allpr.cov_q3_tot','cov3_remit')/100 # Coverage for Q3, Remittances \n",
    "cov4_remit  = get_wb_series('per_pr_allpr.cov_q4_tot','cov4_remit')/100 # Coverage for Q4, Remittances \n",
    "cov5_remit  = get_wb_series('per_pr_allpr.cov_q5_tot','cov5_remit')/100 # Coverage for Q5, Remittances \n",
    "\n",
    "cov1_allspl = get_wb_series('per_allsp.cov_q1_tot','cov1')/100 #Coverage in poorest quintile (%) -All Social Protection and Labor \n",
    "cov2_allspl = get_wb_series('per_allsp.cov_q2_tot','cov2')/100 # Coverage in 2nd quintile (%) -All Social Protection and Labor \n",
    "cov3_allspl = get_wb_series('per_allsp.cov_q3_tot','cov3')/100 # Coverage in 3rd quintile (%) -All Social Protection and Labor \n",
    "cov4_allspl = get_wb_series('per_allsp.cov_q4_tot','cov4')/100 # Coverage in 4th quintile (%) -All Social Protection and Labor \n",
    "cov5_allspl = get_wb_series('per_allsp.cov_q5_tot','cov5')/100 # Coverage in 5th quintile (%) -All Social Protection and Labor\n"
   ]
  },
  {
   "cell_type": "code",
   "execution_count": 11,
   "metadata": {
    "collapsed": false,
    "run_control": {
     "frozen": false,
     "read_only": false
    }
   },
   "outputs": [],
   "source": [
    "if include_remitances:\n",
    "    t_1 = mrv(rem1 + tra1_)\n",
    "    t_2 = mrv(rem2 + tra2_)\n",
    "    t_3 = mrv(rem3 + tra3_)\n",
    "    t_4 = mrv(rem4 + tra4_)\n",
    "    t_5 = mrv(rem5 + tra5_)\n",
    "\n",
    "    la_1 =mrv(( cov1_allspl * ade1_allspl + cov1_remit *ade1_remit))\n",
    "    la_2 =mrv(( cov2_allspl * ade2_allspl + cov2_remit *ade2_remit))\n",
    "    la_3 =mrv(( cov3_allspl * ade3_allspl + cov3_remit *ade3_remit))\n",
    "    la_4 =mrv(( cov4_allspl * ade4_allspl + cov4_remit *ade4_remit))\n",
    "    la_5 =mrv(( cov5_allspl * ade5_allspl + cov5_remit *ade5_remit))\n",
    "\n",
    "else:  \n",
    "    t_1 = mrv( tra1_)\n",
    "    t_2 = mrv( tra2_)\n",
    "    t_3 = mrv( tra3_)\n",
    "    t_4 = mrv( tra4_)\n",
    "    t_5 = mrv( tra5_)\n",
    "\n",
    "    la_1 =mrv(( cov1_allspl * ade1_allspl))\n",
    "    la_2 =mrv(( cov2_allspl * ade2_allspl))\n",
    "    la_3 =mrv(( cov3_allspl * ade3_allspl))\n",
    "    la_4 =mrv(( cov4_allspl * ade4_allspl))\n",
    "    la_5 =mrv(( cov5_allspl * ade5_allspl))\n",
    "    \n",
    "y_1= mrv(rem1 + tra1_)/la_1\n",
    "y_2= mrv(rem2 + tra2_)/la_2\n",
    "y_3= mrv(rem3 + tra3_)/la_3\n",
    "y_4= mrv(rem4 + tra4_)/la_4\n",
    "y_5= mrv(rem5 + tra5_)/la_5\n"
   ]
  },
  {
   "cell_type": "code",
   "execution_count": 12,
   "metadata": {
    "collapsed": true,
    "run_control": {
     "frozen": false,
     "read_only": false
    }
   },
   "outputs": [],
   "source": [
    "import numpy as np"
   ]
  },
  {
   "cell_type": "code",
   "execution_count": 13,
   "metadata": {
    "collapsed": false,
    "run_control": {
     "frozen": false,
     "read_only": false
    }
   },
   "outputs": [
    {
     "data": {
      "text/plain": [
       "country\n",
       "Afghanistan                                               34656032.0\n",
       "Albania                                                    2876101.0\n",
       "Algeria                                                   40606052.0\n",
       "American Samoa                                               55599.0\n",
       "Andorra                                                      77281.0\n",
       "Angola                                                    28813463.0\n",
       "Antigua and Barbuda                                         100963.0\n",
       "Arab World                                               406452690.0\n",
       "Argentina                                                 43847430.0\n",
       "Armenia                                                    2924816.0\n",
       "Aruba                                                       104822.0\n",
       "Australia                                                 24127159.0\n",
       "Austria                                                    8747358.0\n",
       "Azerbaijan                                                 9762274.0\n",
       "Bahamas, The                                                391232.0\n",
       "Bahrain                                                    1425171.0\n",
       "Bangladesh                                               162951560.0\n",
       "Barbados                                                    284996.0\n",
       "Belarus                                                    9507120.0\n",
       "Belgium                                                   11348159.0\n",
       "Belize                                                      366954.0\n",
       "Benin                                                     10872298.0\n",
       "Bermuda                                                      65331.0\n",
       "Bhutan                                                      797765.0\n",
       "Bolivia                                                   10887882.0\n",
       "Bosnia and Herzegovina                                     3516816.0\n",
       "Botswana                                                   2250260.0\n",
       "Brazil                                                   207652865.0\n",
       "British Virgin Islands                                       30661.0\n",
       "Brunei Darussalam                                           423196.0\n",
       "Bulgaria                                                   7127822.0\n",
       "Burkina Faso                                              18646433.0\n",
       "Burundi                                                   10524117.0\n",
       "Cabo Verde                                                  539560.0\n",
       "Cambodia                                                  15762370.0\n",
       "Cameroon                                                  23439189.0\n",
       "Canada                                                    36286425.0\n",
       "Caribbean small states                                     7245472.0\n",
       "Cayman Islands                                               60765.0\n",
       "Central African Republic                                   4594621.0\n",
       "Central Europe and the Baltics                           102974082.0\n",
       "Chad                                                      14452543.0\n",
       "Channel Islands                                             164541.0\n",
       "Chile                                                     17909754.0\n",
       "China                                                   1378665000.0\n",
       "Colombia                                                  48653419.0\n",
       "Comoros                                                     795601.0\n",
       "Congo, Dem. Rep.                                          78736153.0\n",
       "Congo, Rep.                                                5125821.0\n",
       "Costa Rica                                                 4857274.0\n",
       "Cote d'Ivoire                                             23695919.0\n",
       "Croatia                                                    4170600.0\n",
       "Cuba                                                      11475982.0\n",
       "Curacao                                                     159999.0\n",
       "Cyprus                                                     1170125.0\n",
       "Czech Republic                                            10561633.0\n",
       "Denmark                                                    5731118.0\n",
       "Djibouti                                                    942333.0\n",
       "Dominica                                                     73543.0\n",
       "Dominican Republic                                        10648791.0\n",
       "Early-demographic dividend                              3170542188.0\n",
       "East Asia & Pacific                                     2296786207.0\n",
       "East Asia & Pacific (IDA & IBRD countries)              2026028438.0\n",
       "East Asia & Pacific (excluding high income)             2051431154.0\n",
       "Ecuador                                                   16385068.0\n",
       "Egypt, Arab Rep.                                          95688681.0\n",
       "El Salvador                                                6344722.0\n",
       "Equatorial Guinea                                          1221490.0\n",
       "Eritrea                                                    4474690.0\n",
       "Estonia                                                    1316481.0\n",
       "Ethiopia                                                 102403196.0\n",
       "Euro area                                                340894606.0\n",
       "Europe & Central Asia                                    911995305.0\n",
       "Europe & Central Asia (IDA & IBRD countries)             455372659.0\n",
       "Europe & Central Asia (excluding high income)            417424643.0\n",
       "European Union                                           511497415.0\n",
       "Faroe Islands                                                49117.0\n",
       "Fiji                                                        898760.0\n",
       "Finland                                                    5495096.0\n",
       "Fragile and conflict affected situations                 505635987.0\n",
       "France                                                    66896109.0\n",
       "French Polynesia                                            280208.0\n",
       "Gabon                                                      1979786.0\n",
       "Gambia, The                                                2038501.0\n",
       "Georgia                                                    3719300.0\n",
       "Germany                                                   82667685.0\n",
       "Ghana                                                     28206728.0\n",
       "Gibraltar                                                    34408.0\n",
       "Greece                                                    10746740.0\n",
       "Greenland                                                    56186.0\n",
       "Grenada                                                     107317.0\n",
       "Guam                                                        162896.0\n",
       "Guatemala                                                 16582469.0\n",
       "Guinea                                                    12395924.0\n",
       "Guinea-Bissau                                              1815698.0\n",
       "Guyana                                                      773303.0\n",
       "Haiti                                                     10847334.0\n",
       "Heavily indebted poor countries (HIPC)                   744602976.0\n",
       "High income                                             1190029421.0\n",
       "Honduras                                                   9112867.0\n",
       "Hong Kong SAR, China                                       7346700.0\n",
       "Hungary                                                    9817958.0\n",
       "IBRD only                                               4697247117.0\n",
       "IDA & IBRD total                                        6271593092.0\n",
       "IDA blend                                                521159393.0\n",
       "IDA only                                                1053186582.0\n",
       "IDA total                                               1574345975.0\n",
       "Iceland                                                     334252.0\n",
       "India                                                   1324171354.0\n",
       "Indonesia                                                261115456.0\n",
       "Iran, Islamic Rep.                                        80277428.0\n",
       "Iraq                                                      37202572.0\n",
       "Ireland                                                    4773095.0\n",
       "Isle of Man                                                  83737.0\n",
       "Israel                                                     8547100.0\n",
       "Italy                                                     60600590.0\n",
       "Jamaica                                                    2881355.0\n",
       "Japan                                                    126994511.0\n",
       "Jordan                                                     9455802.0\n",
       "Kazakhstan                                                17797032.0\n",
       "Kenya                                                     48461567.0\n",
       "Kiribati                                                    114395.0\n",
       "Korea, Dem. People’s Rep.                                 25368620.0\n",
       "Korea, Rep.                                               51245707.0\n",
       "Kosovo                                                     1816200.0\n",
       "Kuwait                                                     4052584.0\n",
       "Kyrgyz Republic                                            6082700.0\n",
       "Lao PDR                                                    6758353.0\n",
       "Late-demographic dividend                               2262709895.0\n",
       "Latin America & Caribbean                                637664490.0\n",
       "Latin America & Caribbean (excluding high income)        610136397.0\n",
       "Latin America & the Caribbean (IDA & IBRD countries)     621534921.0\n",
       "Latvia                                                     1960424.0\n",
       "Least developed countries: UN classification             979387925.0\n",
       "Lebanon                                                    6006668.0\n",
       "Lesotho                                                    2203821.0\n",
       "Liberia                                                    4613823.0\n",
       "Libya                                                      6293253.0\n",
       "Liechtenstein                                                37666.0\n",
       "Lithuania                                                  2872298.0\n",
       "Low & middle income                                     6247922508.0\n",
       "Low income                                               659272676.0\n",
       "Lower middle income                                     3012923806.0\n",
       "Luxembourg                                                  582972.0\n",
       "Macao SAR, China                                            612167.0\n",
       "Macedonia, FYR                                             2081206.0\n",
       "Madagascar                                                24894551.0\n",
       "Malawi                                                    18091575.0\n",
       "Malaysia                                                  31187265.0\n",
       "Maldives                                                    417492.0\n",
       "Mali                                                      17994837.0\n",
       "Malta                                                       436947.0\n",
       "Marshall Islands                                             53066.0\n",
       "Mauritania                                                 4301018.0\n",
       "Mauritius                                                  1263473.0\n",
       "Mexico                                                   127540423.0\n",
       "Micronesia, Fed. Sts.                                       104937.0\n",
       "Middle East & North Africa                               436720722.0\n",
       "Middle East & North Africa (IDA & IBRD countries)        369167489.0\n",
       "Middle East & North Africa (excluding high income)       373719055.0\n",
       "Middle income                                           5592833481.0\n",
       "Moldova                                                    3552000.0\n",
       "Monaco                                                       38499.0\n",
       "Mongolia                                                   3027398.0\n",
       "Montenegro                                                  622781.0\n",
       "Morocco                                                   35276786.0\n",
       "Mozambique                                                28829476.0\n",
       "Myanmar                                                   52885223.0\n",
       "Namibia                                                    2479713.0\n",
       "Nauru                                                        13049.0\n",
       "Nepal                                                     28982771.0\n",
       "Netherlands                                               17018408.0\n",
       "New Caledonia                                               278000.0\n",
       "New Zealand                                                4692700.0\n",
       "Nicaragua                                                  6149928.0\n",
       "Niger                                                     20672987.0\n",
       "Nigeria                                                  185989640.0\n",
       "North America                                            359479269.0\n",
       "Northern Mariana Islands                                     55023.0\n",
       "Norway                                                     5232929.0\n",
       "OECD members                                            1289937319.0\n",
       "Oman                                                       4424762.0\n",
       "Other small states                                        29983809.0\n",
       "Pacific island small states                                2388875.0\n",
       "Pakistan                                                 193203476.0\n",
       "Palau                                                        21503.0\n",
       "Panama                                                     4034119.0\n",
       "Papua New Guinea                                           8084991.0\n",
       "Paraguay                                                   6725308.0\n",
       "Peru                                                      31773839.0\n",
       "Philippines                                              103320222.0\n",
       "Poland                                                    37948016.0\n",
       "Portugal                                                  10324611.0\n",
       "Post-demographic dividend                               1102730983.0\n",
       "Pre-demographic dividend                                 879292453.0\n",
       "Puerto Rico                                                3411307.0\n",
       "Qatar                                                      2569804.0\n",
       "Romania                                                   19705301.0\n",
       "Russian Federation                                       144342396.0\n",
       "Rwanda                                                    11917508.0\n",
       "Samoa                                                       195125.0\n",
       "San Marino                                                   33203.0\n",
       "Sao Tome and Principe                                       199910.0\n",
       "Saudi Arabia                                              32275687.0\n",
       "Senegal                                                   15411614.0\n",
       "Serbia                                                     7057412.0\n",
       "Seychelles                                                   94677.0\n",
       "Sierra Leone                                               7396190.0\n",
       "Singapore                                                  5607283.0\n",
       "Sint Maarten (Dutch part)                                    40005.0\n",
       "Slovak Republic                                            5428704.0\n",
       "Slovenia                                                   2064845.0\n",
       "Small states                                              39618156.0\n",
       "Solomon Islands                                             599419.0\n",
       "Somalia                                                   14317996.0\n",
       "South Africa                                              55908865.0\n",
       "South Asia                                              1766383450.0\n",
       "South Asia (IDA & IBRD)                                 1766383450.0\n",
       "South Sudan                                               12230730.0\n",
       "Spain                                                     46443959.0\n",
       "Sri Lanka                                                 21203000.0\n",
       "St. Kitts and Nevis                                          54821.0\n",
       "St. Lucia                                                   178015.0\n",
       "St. Martin (French part)                                     31949.0\n",
       "St. Vincent and the Grenadines                              109643.0\n",
       "Sub-Saharan Africa                                      1033106135.0\n",
       "Sub-Saharan Africa (IDA & IBRD countries)               1033106135.0\n",
       "Sub-Saharan Africa (excluding high income)              1033011458.0\n",
       "Sudan                                                     39578828.0\n",
       "Suriname                                                    558368.0\n",
       "Swaziland                                                  1343098.0\n",
       "Sweden                                                     9903122.0\n",
       "Switzerland                                                8372098.0\n",
       "Syrian Arab Republic                                      18430453.0\n",
       "Tajikistan                                                 8734951.0\n",
       "Tanzania                                                  55572201.0\n",
       "Thailand                                                  68863514.0\n",
       "Timor-Leste                                                1268671.0\n",
       "Togo                                                       7606374.0\n",
       "Tonga                                                       107122.0\n",
       "Trinidad and Tobago                                        1364962.0\n",
       "Tunisia                                                   11403248.0\n",
       "Turkey                                                    79512426.0\n",
       "Turkmenistan                                               5662544.0\n",
       "Turks and Caicos Islands                                     34900.0\n",
       "Tuvalu                                                       11097.0\n",
       "Uganda                                                    41487965.0\n",
       "Ukraine                                                   45004645.0\n",
       "United Arab Emirates                                       9269612.0\n",
       "United Kingdom                                            65637239.0\n",
       "United States                                            323127513.0\n",
       "Upper middle income                                     2579909675.0\n",
       "Uruguay                                                    3444006.0\n",
       "Uzbekistan                                                31848200.0\n",
       "Vanuatu                                                     270402.0\n",
       "Venezuela, RB                                             31568179.0\n",
       "Vietnam                                                   92701100.0\n",
       "Virgin Islands (U.S.)                                       102951.0\n",
       "West Bank and Gaza                                         4551566.0\n",
       "World                                                   7442135578.0\n",
       "Yemen, Rep.                                               27584213.0\n",
       "Zambia                                                    16591390.0\n",
       "Zimbabwe                                                  16150362.0\n",
       "Name: pop, dtype: float64"
      ]
     },
     "execution_count": 13,
     "metadata": {},
     "output_type": "execute_result"
    }
   ],
   "source": [
    "pop"
   ]
  },
  {
   "cell_type": "code",
   "execution_count": 14,
   "metadata": {
    "collapsed": false,
    "run_control": {
     "frozen": false,
     "read_only": false
    }
   },
   "outputs": [
    {
     "data": {
      "text/plain": [
       "0.3237961539324345"
      ]
     },
     "execution_count": 14,
     "metadata": {},
     "output_type": "execute_result"
    }
   ],
   "source": [
    "(4*t_1*pop).sum()/((t_2+t_3+t_4+t_5)*pop).sum()"
   ]
  },
  {
   "cell_type": "code",
   "execution_count": 15,
   "metadata": {
    "collapsed": false,
    "run_control": {
     "frozen": false,
     "read_only": false
    }
   },
   "outputs": [
    {
     "name": "stdout",
     "output_type": "stream",
     "text": [
      "in the  106 countries where ASPIRE reports data, poor people receive only 32.404752166231575 percent of what nonpoor people receive from public and private transfers\n"
     ]
    }
   ],
   "source": [
    "x   =  (pd.DataFrame([t_1, t_2, t_3, t_4, t_5,pop], index=[\"q1\",\"q2\",\"q3\",\"q4\",\"q5\", \"popu\"]).T).dropna()\n",
    "\n",
    "\n",
    "\n",
    "print(\"in the \", x.shape[0], \"countries where ASPIRE reports data, poor people receive only\", 100* (4*x.q1*x.popu).sum()/((x.q2+x.q3+x.q4+x.q5)*x.popu).sum(), \"percent of what nonpoor people receive from public and private transfers\")"
   ]
  },
  {
   "cell_type": "code",
   "execution_count": 16,
   "metadata": {
    "collapsed": false,
    "run_control": {
     "frozen": false,
     "read_only": false
    }
   },
   "outputs": [
    {
     "data": {
      "text/plain": [
       "country       year\n",
       "Armenia       2014    1.1220440728\n",
       "              2012    1.1801605907\n",
       "              2011    0.9808063494\n",
       "Burkina Faso  2003    1.3056654506\n",
       "Cameroon      2007    2.6710968894\n",
       "Georgia       2011    3.8265705594\n",
       "Lesotho       2010    3.0217168121\n",
       "Mauritania    2014    1.1267036533\n",
       "Name: ade1_remit, dtype: float64"
      ]
     },
     "execution_count": 16,
     "metadata": {},
     "output_type": "execute_result"
    }
   ],
   "source": [
    "#These countries seem to get more than 100% income from transfers acording to ASPIRE\n",
    "ade1_remit[ade1_remit>.95]"
   ]
  },
  {
   "cell_type": "markdown",
   "metadata": {},
   "source": [
    "# financial inclusion"
   ]
  },
  {
   "cell_type": "code",
   "execution_count": 17,
   "metadata": {
    "collapsed": false,
    "run_control": {
     "frozen": false,
     "read_only": false
    }
   },
   "outputs": [],
   "source": [
    "search_wb(\"Saved at a financial institution\");"
   ]
  },
  {
   "cell_type": "code",
   "execution_count": 18,
   "metadata": {
    "collapsed": false,
    "run_control": {
     "frozen": false,
     "read_only": false
    }
   },
   "outputs": [],
   "source": [
    "#Findex                                 \n",
    "loan40   =get_wb_mrv('WP11651_5.8'      ,\"loan40\")/100 #Loan in the past year                                  \n",
    "loan60   =get_wb_mrv('WP11651_5.9'      ,\"loan60\")/100 #Loaan in the past year                                  \n",
    "saved40  =get_wb_mrv('WP_time_04.8'        ,\"saved40\")/100 #Saved at a financial institution in the past year, bottom 40%      \n",
    "saved60  =get_wb_mrv('WP_time_04.9'        ,\"saved60\")/100 #Saved this year, income, top 60% (% age 15+)\n"
   ]
  },
  {
   "cell_type": "code",
   "execution_count": 19,
   "metadata": {
    "collapsed": false,
    "run_control": {
     "frozen": false,
     "read_only": false
    }
   },
   "outputs": [
    {
     "data": {
      "text/plain": [
       "country\n",
       "Afghanistan    0.04460866\n",
       "Albania        0.09645449\n",
       "Algeria        0.16478050\n",
       "Angola         0.22208070\n",
       "Argentina      0.06069045\n",
       "Name: saved60, dtype: float64"
      ]
     },
     "execution_count": 19,
     "metadata": {},
     "output_type": "execute_result"
    }
   ],
   "source": [
    "saved60.head()"
   ]
  },
  {
   "cell_type": "markdown",
   "metadata": {},
   "source": [
    "# urbanization rate"
   ]
  },
  {
   "cell_type": "code",
   "execution_count": 20,
   "metadata": {
    "collapsed": false,
    "run_control": {
     "frozen": false,
     "read_only": false
    }
   },
   "outputs": [
    {
     "data": {
      "text/html": [
       "<div>\n",
       "<table border=\"1\" class=\"dataframe\">\n",
       "  <thead>\n",
       "    <tr style=\"text-align: right;\">\n",
       "      <th></th>\n",
       "      <th>id</th>\n",
       "      <th>name</th>\n",
       "      <th>source</th>\n",
       "    </tr>\n",
       "  </thead>\n",
       "  <tbody>\n",
       "    <tr>\n",
       "      <th>4961</th>\n",
       "      <td>EN.POP.EL5M.UR.ZS</td>\n",
       "      <td>Urban population living in areas where elevation is below 5 meters (% of total population)</td>\n",
       "      <td>World Development Indicators</td>\n",
       "    </tr>\n",
       "    <tr>\n",
       "      <th>9587</th>\n",
       "      <td>SH.H2O.SAFE.UR.ZS</td>\n",
       "      <td>Improved water source, urban (% of urban population with access)</td>\n",
       "      <td>World Development Indicators</td>\n",
       "    </tr>\n",
       "    <tr>\n",
       "      <th>9749</th>\n",
       "      <td>SH.STA.ACSN.UR</td>\n",
       "      <td>Improved sanitation facilities, urban (% of urban population with access)</td>\n",
       "      <td>World Development Indicators</td>\n",
       "    </tr>\n",
       "    <tr>\n",
       "      <th>10652</th>\n",
       "      <td>SP.URB.GROW</td>\n",
       "      <td>Urban population growth (annual %)</td>\n",
       "      <td>World Development Indicators</td>\n",
       "    </tr>\n",
       "    <tr>\n",
       "      <th>10659</th>\n",
       "      <td>SP.URB.TOTL.IN.ZS</td>\n",
       "      <td>Urban population (% of total)</td>\n",
       "      <td>World Development Indicators</td>\n",
       "    </tr>\n",
       "  </tbody>\n",
       "</table>\n",
       "</div>"
      ],
      "text/plain": [
       "                      id                                                                                        name                        source\n",
       "4961   EN.POP.EL5M.UR.ZS  Urban population living in areas where elevation is below 5 meters (% of total population)  World Development Indicators\n",
       "9587   SH.H2O.SAFE.UR.ZS                            Improved water source, urban (% of urban population with access)  World Development Indicators\n",
       "9749      SH.STA.ACSN.UR                   Improved sanitation facilities, urban (% of urban population with access)  World Development Indicators\n",
       "10652        SP.URB.GROW                                                          Urban population growth (annual %)  World Development Indicators\n",
       "10659  SP.URB.TOTL.IN.ZS                                                               Urban population (% of total)  World Development Indicators"
      ]
     },
     "execution_count": 20,
     "metadata": {},
     "output_type": "execute_result"
    }
   ],
   "source": [
    "search_wb(\"Urban population \")"
   ]
  },
  {
   "cell_type": "code",
   "execution_count": 21,
   "metadata": {
    "collapsed": false,
    "run_control": {
     "frozen": false,
     "read_only": false
    }
   },
   "outputs": [],
   "source": [
    "urbanization_rate = get_wb_mrv(\"SP.URB.TOTL.IN.ZS\",\"urbanization_rate\")/100"
   ]
  },
  {
   "cell_type": "markdown",
   "metadata": {},
   "source": [
    "# New dataframe"
   ]
  },
  {
   "cell_type": "code",
   "execution_count": 22,
   "metadata": {
    "collapsed": false,
    "run_control": {
     "frozen": false,
     "read_only": false
    }
   },
   "outputs": [],
   "source": [
    "df = pd.concat([gdp_pc_pp,pop,share1,urbanization_rate,gdp_pc_cd],axis=1)\n",
    "df.index.names = ['country']"
   ]
  },
  {
   "cell_type": "code",
   "execution_count": 23,
   "metadata": {
    "collapsed": false,
    "run_control": {
     "frozen": false,
     "read_only": false
    }
   },
   "outputs": [],
   "source": [
    "#We take only savings as an insurance against destitution\n",
    "df[\"axfin_p\"] = saved40\n",
    "df[\"axfin_r\"] = saved60"
   ]
  },
  {
   "cell_type": "code",
   "execution_count": 24,
   "metadata": {
    "collapsed": false,
    "run_control": {
     "frozen": false,
     "read_only": false
    }
   },
   "outputs": [],
   "source": [
    "#Comptues share of income from transfers\n",
    "\n",
    "df[\"social_p\"]=la_1\n",
    "df[\"social_r\"]=(t_2+t_3+t_4+t_5)/(y_2+y_3+y_4+y_5)\n"
   ]
  },
  {
   "cell_type": "code",
   "execution_count": 25,
   "metadata": {
    "collapsed": false,
    "run_control": {
     "frozen": false,
     "read_only": false
    }
   },
   "outputs": [
    {
     "data": {
      "text/plain": [
       "country\n",
       "Armenia         0.7336326637\n",
       "Azerbaijan      0.8571289621\n",
       "Belarus         0.7131045570\n",
       "Georgia         0.9832011784\n",
       "Ghana           0.6257034541\n",
       "Hungary         0.8014838871\n",
       "Lithuania       0.7601398504\n",
       "South Africa    0.7327359556\n",
       "Uruguay         0.6301863446\n",
       "Name: social_p, dtype: float64"
      ]
     },
     "execution_count": 25,
     "metadata": {},
     "output_type": "execute_result"
    }
   ],
   "source": [
    "df[df.social_p>0.6].social_p"
   ]
  },
  {
   "cell_type": "code",
   "execution_count": 26,
   "metadata": {
    "collapsed": false,
    "run_control": {
     "frozen": false,
     "read_only": false
    }
   },
   "outputs": [
    {
     "data": {
      "text/plain": [
       "country\n",
       "Armenia       0.3171795510\n",
       "Azerbaijan    0.3860532955\n",
       "Belarus       0.3857459292\n",
       "Georgia       0.5428108927\n",
       "Hungary       0.3974498381\n",
       "Mauritius     0.3280153838\n",
       "Moldova       0.3577664586\n",
       "Montenegro    0.3342241905\n",
       "Poland        0.3946498977\n",
       "Romania       0.4061917770\n",
       "Serbia        0.3624857510\n",
       "Ukraine       0.3852444834\n",
       "Uruguay       0.3778652067\n",
       "Name: social_r, dtype: float64"
      ]
     },
     "execution_count": 26,
     "metadata": {},
     "output_type": "execute_result"
    }
   ],
   "source": [
    "df[df.social_r>0.3].social_r"
   ]
  },
  {
   "cell_type": "code",
   "execution_count": 27,
   "metadata": {
    "collapsed": false,
    "run_control": {
     "frozen": false,
     "read_only": false
    }
   },
   "outputs": [
    {
     "data": {
      "text/plain": [
       "gdp_pc_pp            9.2672990037e+03\n",
       "pop                  3.7193000000e+06\n",
       "share1               5.5900000000e-02\n",
       "urbanization_rate    5.3826000000e-01\n",
       "gdp_pc_cd            3.8536499035e+03\n",
       "axfin_p              1.1648850000e-02\n",
       "axfin_r              8.0633930000e-03\n",
       "social_p             9.8320117844e-01\n",
       "social_r             5.4281089274e-01\n",
       "Name: Georgia, dtype: float64"
      ]
     },
     "execution_count": 27,
     "metadata": {},
     "output_type": "execute_result"
    }
   ],
   "source": [
    "df.ix[\"Georgia\"]"
   ]
  },
  {
   "cell_type": "markdown",
   "metadata": {},
   "source": [
    "# Manual additions"
   ]
  },
  {
   "cell_type": "code",
   "execution_count": 29,
   "metadata": {
    "collapsed": false,
    "run_control": {
     "frozen": false,
     "read_only": false
    }
   },
   "outputs": [],
   "source": [
    "#GDP per capita from google (GDP per capita plays no role in the indicator. only usefull to plot the data)\n",
    "df.ix[\"Argentina\",\"gdp_pc_pp\"]=18600/10700 * 10405.\n",
    "df.ix[\"Syrian Arab Republic\",\"gdp_pc_pp\"]=5100/10700 * 10405.\n",
    "\n",
    "#assume these countries with recent conflicts have bad access to basic education\n",
    "#df.ix[\"Iraq\"][\"plgp\"] = df.plgp.min()\n",
    "\n",
    "#assumes these wealthy countries have good access to basic education and basic health care\n",
    "# countries = ['Austria',  'Belgium',  'Denmark',  'France',  'Greece',  'Spain',  'Sweden',  'United Kingdom'] \n",
    "# df.ix[countries,\"bashs\"]=df.bashs.max()\n",
    "# df[\"axhealth\"]=(df.bashs+(1-df.ophe))/2\n",
    "\n",
    "\n",
    "# countries = ['Australia', 'Canada', 'France', 'Ireland', 'United Kingdom', 'United States']\n",
    "# df.ix[countries,\"plgp\"]=df.plgp.max()\n"
   ]
  },
  {
   "cell_type": "code",
   "execution_count": 30,
   "metadata": {
    "collapsed": true
   },
   "outputs": [],
   "source": [
    "#for SIDS, manual addition from online research"
   ]
  },
  {
   "cell_type": "code",
   "execution_count": 34,
   "metadata": {
    "collapsed": false
   },
   "outputs": [],
   "source": [
    "manual_additions_sids = pd.read_csv(\"sids data/sids_missing_data_manual_input.csv\",index_col=\"country\")"
   ]
  },
  {
   "cell_type": "code",
   "execution_count": 37,
   "metadata": {
    "collapsed": false
   },
   "outputs": [],
   "source": [
    "df = df.fillna(manual_additions_sids)"
   ]
  },
  {
   "cell_type": "code",
   "execution_count": 38,
   "metadata": {
    "collapsed": false
   },
   "outputs": [
    {
     "name": "stdout",
     "output_type": "stream",
     "text": [
      "(91, 9)\n"
     ]
    }
   ],
   "source": [
    "print(df.dropna().shape)"
   ]
  },
  {
   "cell_type": "markdown",
   "metadata": {},
   "source": [
    "# output"
   ]
  },
  {
   "cell_type": "code",
   "execution_count": 39,
   "metadata": {
    "collapsed": false,
    "run_control": {
     "frozen": false,
     "read_only": false
    }
   },
   "outputs": [
    {
     "name": "stdout",
     "output_type": "stream",
     "text": [
      "(91, 9)\n"
     ]
    }
   ],
   "source": [
    "print(df.dropna().shape)\n",
    "df.dropna(how=\"all\",inplace=True)\n",
    "df.to_csv(\"inputs/wb_data.csv\", encoding=\"utf8\")"
   ]
  },
  {
   "cell_type": "code",
   "execution_count": null,
   "metadata": {
    "collapsed": true,
    "run_control": {
     "frozen": false,
     "read_only": false
    }
   },
   "outputs": [],
   "source": [
    "#"
   ]
  },
  {
   "cell_type": "code",
   "execution_count": null,
   "metadata": {
    "collapsed": true,
    "run_control": {
     "frozen": false,
     "read_only": false
    }
   },
   "outputs": [],
   "source": []
  },
  {
   "cell_type": "code",
   "execution_count": null,
   "metadata": {
    "collapsed": true,
    "run_control": {
     "frozen": false,
     "read_only": false
    }
   },
   "outputs": [],
   "source": []
  },
  {
   "cell_type": "code",
   "execution_count": null,
   "metadata": {
    "collapsed": true,
    "run_control": {
     "frozen": false,
     "read_only": false
    }
   },
   "outputs": [],
   "source": []
  }
 ],
 "metadata": {
  "kernelspec": {
   "display_name": "Python [default]",
   "language": "python",
   "name": "python3"
  },
  "language_info": {
   "codemirror_mode": {
    "name": "ipython",
    "version": 3
   },
   "file_extension": ".py",
   "mimetype": "text/x-python",
   "name": "python",
   "nbconvert_exporter": "python",
   "pygments_lexer": "ipython3",
   "version": "3.5.2"
  },
  "nav_menu": {},
  "toc": {
   "colors": {
    "hover_highlight": "#DAA520",
    "navigate_num": "#000000",
    "navigate_text": "#333333",
    "running_highlight": "#FF0000",
    "selected_highlight": "#FFD700",
    "sidebar_border": "#EEEEEE",
    "wrapper_background": "#FFFFFF"
   },
   "moveMenuLeft": true,
   "nav_menu": {
    "height": "191px",
    "width": "252px"
   },
   "navigate_menu": true,
   "number_sections": true,
   "sideBar": true,
   "threshold": 4,
   "toc_cell": false,
   "toc_position": {
    "height": "509px",
    "left": "0px",
    "right": "1134px",
    "top": "106px",
    "width": "146px"
   },
   "toc_section_display": "block",
   "toc_window_display": true,
   "widenNotebook": false
  }
 },
 "nbformat": 4,
 "nbformat_minor": 0
}
