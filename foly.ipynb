{
 "cells": [
  {
   "cell_type": "code",
   "execution_count": 32,
   "metadata": {
    "collapsed": false,
    "run_control": {
     "frozen": false,
     "read_only": false
    }
   },
   "outputs": [
    {
     "name": "stdout",
     "output_type": "stream",
     "text": [
      "The autoreload extension is already loaded. To reload it, use:\n",
      "  %reload_ext autoreload\n"
     ]
    }
   ],
   "source": [
    "import pandas as pd\n",
    "import numpy as np\n",
    "from scipy.interpolate import interp1d\n",
    "\n",
    "from res_ind_lib import average_over_rp\n",
    "\n",
    "import glob\n",
    "\n",
    "from progress_reporter import progress_reporter\n",
    "\n",
    "%matplotlib inline\n",
    "%load_ext autoreload\n",
    "\n",
    "%autoreload 2"
   ]
  },
  {
   "cell_type": "code",
   "execution_count": 2,
   "metadata": {
    "collapsed": true,
    "run_control": {
     "frozen": false,
     "read_only": false
    }
   },
   "outputs": [],
   "source": [
    "import numpy\n",
    "def wp(data, wt, percentiles,cum=False): \n",
    "\t\"\"\"Compute weighted percentiles. \n",
    "\tIf the weights are equal, this is the same as normal percentiles. \n",
    "\tElements of the C{data} and C{wt} arrays correspond to \n",
    "\teach other and must have equal length (unless C{wt} is C{None}). \n",
    "\n",
    "\t@param data: The data. \n",
    "\t@type data: A L{numpy.ndarray} array or a C{list} of numbers. \n",
    "\t@param wt: How important is a given piece of data. \n",
    "\t@type wt: C{None} or a L{numpy.ndarray} array or a C{list} of numbers. \n",
    "\t\t All the weights must be non-negative and the sum must be \n",
    "\t\t greater than zero. \n",
    "\t@param percentiles: what percentiles to use.  (Not really percentiles, \n",
    "\t\t as the range is 0-1 rather than 0-100.) \n",
    "\t@type percentiles: a C{list} of numbers between 0 and 1. \n",
    "\t@rtype: [ C{float}, ... ] \n",
    "\t@return: the weighted percentiles of the data. \n",
    "\t\"\"\"\n",
    "\tassert numpy.greater_equal(percentiles, 0.0).all(), \"Percentiles less than zero\" \n",
    "\tassert numpy.less_equal(percentiles, 1.0).all(), \"Percentiles greater than one\" \n",
    "\tdata = numpy.asarray(data) \n",
    "\t# data = numpy.reshape(data,(len(data)))\n",
    "\tassert len(data.shape) == 1 \n",
    "\tif wt is None: \n",
    "\t\t wt = numpy.ones(data.shape, numpy.float) \n",
    "\telse: \n",
    "\t\t wt = numpy.asarray(wt, numpy.float) \n",
    "\t\t # wt = numpy.reshape(wt,(len(wt)))\n",
    "\t\t assert wt.shape == data.shape \n",
    "\t\t assert numpy.greater_equal(wt, 0.0).all(), \"Not all weights are non-negative.\" \n",
    "\ti = numpy.argsort(data) \n",
    "\tsd = numpy.take(data, i, axis=0)\n",
    "\tsw = numpy.take(wt, i, axis=0) \n",
    "\taw = numpy.add.accumulate(sw) \n",
    "\tif not aw[-1] > 0: \n",
    "\t\t raise ValueError(\"Nonpositive weight sum\" )\n",
    "\tw = (aw)/aw[-1] \n",
    "\tspots = numpy.searchsorted(w, percentiles) \n",
    "\tif cum:\n",
    "\t\tsd = numpy.add.accumulate(numpy.multiply(sd,sw))\n",
    "\tf = interp1d(w,sd)\n",
    "\treturn f(percentiles)\n",
    "\t"
   ]
  },
  {
   "cell_type": "code",
   "execution_count": 81,
   "metadata": {
    "collapsed": false,
    "run_control": {
     "frozen": false,
     "read_only": false
    }
   },
   "outputs": [],
   "source": [
    "from tempfile import mkstemp, SpooledTemporaryFile\n",
    "from shutil import move\n",
    "from os import remove, close\n",
    "from  io import StringIO\n",
    "\n",
    "def res_to_csv(file_path, new_path=None):\n",
    "    #Create temp file\n",
    "    new_file =StringIO()\n",
    "    \n",
    "    #actually replaces text line by line\n",
    "    \n",
    "    data = False\n",
    "    \n",
    "\n",
    "    with open(file_path) as old_file:\n",
    "        for line in old_file:\n",
    "            if line.startswith(\"Temporalidad\"): #begining of data\n",
    "                data=True\n",
    "                colindex = line.find(\"Frecuencia\")\n",
    "\n",
    "            if line.startswith(\"Curva\"):\n",
    "                break\n",
    "\n",
    "            if data:   \n",
    "                try:\n",
    "                    new_file.write(line[colindex:].replace(\"NeuN\",\" 0 \"))\n",
    "                except IndexError:\n",
    "                    print(\"one line omited\")    \n",
    "    \n",
    "\n",
    "    \n",
    "    #closes the temporary file\n",
    "    return new_file\n"
   ]
  },
  {
   "cell_type": "code",
   "execution_count": 4,
   "metadata": {
    "collapsed": false,
    "run_control": {
     "frozen": false,
     "read_only": false
    }
   },
   "outputs": [],
   "source": [
    "return_periods = np.array( [ 0.1,.5,1,1.5, 2,3, 5, 10, 20, 50, 100, 250, 500, 1000, 1500, 2000, 4000, 5000, 30e3])\n",
    "\n"
   ]
  },
  {
   "cell_type": "code",
   "execution_count": 21,
   "metadata": {
    "collapsed": false
   },
   "outputs": [],
   "source": [
    "iso2bank = pd.read_csv(\"inputs/iso3_to_wb_name.csv\",index_col=\"iso3\", squeeze=True)"
   ]
  },
  {
   "cell_type": "code",
   "execution_count": 5,
   "metadata": {
    "collapsed": true,
    "run_control": {
     "frozen": false,
     "read_only": false
    }
   },
   "outputs": [],
   "source": []
  },
  {
   "cell_type": "code",
   "execution_count": 23,
   "metadata": {
    "collapsed": false,
    "run_control": {
     "frozen": false,
     "read_only": false
    }
   },
   "outputs": [],
   "source": [
    "\n",
    "res_file_list = glob.glob(\"D:/events/*/*.res\")\n",
    "\n",
    "\n",
    "\n"
   ]
  },
  {
   "cell_type": "code",
   "execution_count": 43,
   "metadata": {
    "collapsed": true,
    "run_control": {
     "frozen": false,
     "read_only": false
    }
   },
   "outputs": [],
   "source": [
    "PML_guessed = pd.DataFrame()"
   ]
  },
  {
   "cell_type": "code",
   "execution_count": 31,
   "metadata": {
    "collapsed": true
   },
   "outputs": [],
   "source": [
    "myfile = res_file_list[0]"
   ]
  },
  {
   "cell_type": "code",
   "execution_count": 24,
   "metadata": {
    "collapsed": false,
    "run_control": {
     "frozen": false,
     "read_only": false
    }
   },
   "outputs": [],
   "source": []
  },
  {
   "cell_type": "code",
   "execution_count": 84,
   "metadata": {
    "collapsed": false,
    "run_control": {
     "frozen": false,
     "read_only": false
    }
   },
   "outputs": [
    {
     "name": "stdout",
     "output_type": "stream",
     "text": [
      "Currently working on:  ('tsunami', 'Saudi Arabia')\n",
      "ignored D:/events\\wind\\africa_MYT_Wd_Total.res\n",
      "ignored D:/events\\wind\\africa_REU_Wd_Total.res\n",
      "ignored D:/events\\wind\\lac_GLP_Wd_Total.res\n",
      "ignored D:/events\\wind\\lac_MSR_Wd_Total.res\n",
      "ignored D:/events\\wind\\lac_MTQ_Wd_Total.res\n"
     ]
    }
   ],
   "source": [
    "\n",
    "for myfile in res_file_list:\n",
    "\n",
    "    #parse filename\n",
    "    path, name = glob.os.path.split(myfile)\n",
    "    hazard = path.split(\"\\\\\")[-1]\n",
    "    try:\n",
    "        country_name = iso2bank[name.split(\"_\")[1]]\n",
    "    except KeyError:\n",
    "        print(\"ignored \" +myfile)\n",
    "        continue\n",
    "    \n",
    "    \n",
    "    if ((hazard,country_name) in PML_guessed):\n",
    "        continue\n",
    "    \n",
    "    progress_reporter((hazard,country_name))\n",
    "\n",
    "    try:\n",
    "        #open file and parse it to memory file\n",
    "        memory_file = res_to_csv(myfile)\n",
    "        #gets back to begining or IO\n",
    "        memory_file.seek(0)\n",
    "\n",
    "        #read data\n",
    "        data = pd.read_csv(memory_file,sep=\" *\", engine=\"python\",usecols=[\"Frecuencia\",\"EP\"])\n",
    "        data= data.sort_values(by=\"EP\", ascending=False)[[\"EP\",\"Frecuencia\"]]\n",
    "\n",
    "        data[\"rp\"]=1/data.Frecuencia.cumsum()\n",
    "        data.head()\n",
    "\n",
    "        #interpolates RP\n",
    "        series = pd.DataFrame(interp1d(data.rp,data.EP, bounds_error=False)(return_periods), \n",
    "                              index=pd.Index(return_periods,name=\"rp\"))\n",
    "\n",
    "        #scales fore same average capital losses\n",
    "        series *= (data.EP*data.Frecuencia).sum()/ average_over_rp(series.stack()).squeeze()\n",
    "\n",
    "        PML_guessed[(hazard,country_name)]=series.squeeze()\n",
    "    except:\n",
    "        pass\n"
   ]
  },
  {
   "cell_type": "code",
   "execution_count": 45,
   "metadata": {
    "collapsed": false,
    "run_control": {
     "frozen": false,
     "read_only": false
    }
   },
   "outputs": [
    {
     "data": {
      "text/html": [
       "<div>\n",
       "<table border=\"1\" class=\"dataframe\">\n",
       "  <thead>\n",
       "    <tr style=\"text-align: right;\">\n",
       "      <th></th>\n",
       "      <th>(earthquake, Angola)</th>\n",
       "      <th>(earthquake, Burundi)</th>\n",
       "      <th>(earthquake, Benin)</th>\n",
       "      <th>(earthquake, Botswana)</th>\n",
       "      <th>(earthquake, Central African Republic)</th>\n",
       "      <th>(earthquake, Cameroon)</th>\n",
       "      <th>(earthquake, Congo, Dem. Rep.)</th>\n",
       "      <th>(earthquake, Congo, Rep.)</th>\n",
       "      <th>(earthquake, Comoros)</th>\n",
       "      <th>(earthquake, Djibouti)</th>\n",
       "      <th>...</th>\n",
       "      <th>(wind, Puerto Rico)</th>\n",
       "      <th>(wind, Turks and Caicos Islands)</th>\n",
       "      <th>(wind, Trinidad and Tobago)</th>\n",
       "      <th>(wind, St. Vincent and the Grenadines)</th>\n",
       "      <th>(wind, Venezuela, RB)</th>\n",
       "      <th>(wind, Virgin Islands, British)</th>\n",
       "      <th>(wind, Virgin Islands (U.S.))</th>\n",
       "      <th>(wind, Canada)</th>\n",
       "      <th>(wind, United States)</th>\n",
       "      <th>(wind, Oman)</th>\n",
       "    </tr>\n",
       "    <tr>\n",
       "      <th>rp</th>\n",
       "      <th></th>\n",
       "      <th></th>\n",
       "      <th></th>\n",
       "      <th></th>\n",
       "      <th></th>\n",
       "      <th></th>\n",
       "      <th></th>\n",
       "      <th></th>\n",
       "      <th></th>\n",
       "      <th></th>\n",
       "      <th></th>\n",
       "      <th></th>\n",
       "      <th></th>\n",
       "      <th></th>\n",
       "      <th></th>\n",
       "      <th></th>\n",
       "      <th></th>\n",
       "      <th></th>\n",
       "      <th></th>\n",
       "      <th></th>\n",
       "      <th></th>\n",
       "    </tr>\n",
       "  </thead>\n",
       "  <tbody>\n",
       "    <tr>\n",
       "      <th>0.1</th>\n",
       "      <td>NaN</td>\n",
       "      <td>NaN</td>\n",
       "      <td>NaN</td>\n",
       "      <td>NaN</td>\n",
       "      <td>NaN</td>\n",
       "      <td>NaN</td>\n",
       "      <td>NaN</td>\n",
       "      <td>NaN</td>\n",
       "      <td>NaN</td>\n",
       "      <td>NaN</td>\n",
       "      <td>...</td>\n",
       "      <td>NaN</td>\n",
       "      <td>NaN</td>\n",
       "      <td>NaN</td>\n",
       "      <td>NaN</td>\n",
       "      <td>NaN</td>\n",
       "      <td>NaN</td>\n",
       "      <td>NaN</td>\n",
       "      <td>0.000000</td>\n",
       "      <td>0.000000</td>\n",
       "      <td>NaN</td>\n",
       "    </tr>\n",
       "    <tr>\n",
       "      <th>0.5</th>\n",
       "      <td>NaN</td>\n",
       "      <td>0.117194</td>\n",
       "      <td>NaN</td>\n",
       "      <td>NaN</td>\n",
       "      <td>NaN</td>\n",
       "      <td>NaN</td>\n",
       "      <td>0.263547</td>\n",
       "      <td>NaN</td>\n",
       "      <td>NaN</td>\n",
       "      <td>0.041216</td>\n",
       "      <td>...</td>\n",
       "      <td>0.000000</td>\n",
       "      <td>0.000000</td>\n",
       "      <td>0.0</td>\n",
       "      <td>0.0</td>\n",
       "      <td>0.0</td>\n",
       "      <td>0.000000</td>\n",
       "      <td>0.000000</td>\n",
       "      <td>0.000000</td>\n",
       "      <td>8.791047</td>\n",
       "      <td>NaN</td>\n",
       "    </tr>\n",
       "    <tr>\n",
       "      <th>1.0</th>\n",
       "      <td>NaN</td>\n",
       "      <td>0.512858</td>\n",
       "      <td>NaN</td>\n",
       "      <td>10.605309</td>\n",
       "      <td>NaN</td>\n",
       "      <td>NaN</td>\n",
       "      <td>0.706891</td>\n",
       "      <td>NaN</td>\n",
       "      <td>NaN</td>\n",
       "      <td>0.147379</td>\n",
       "      <td>...</td>\n",
       "      <td>0.000000</td>\n",
       "      <td>0.000000</td>\n",
       "      <td>0.0</td>\n",
       "      <td>0.0</td>\n",
       "      <td>0.0</td>\n",
       "      <td>0.000000</td>\n",
       "      <td>0.000000</td>\n",
       "      <td>0.000000</td>\n",
       "      <td>1398.196269</td>\n",
       "      <td>0.0</td>\n",
       "    </tr>\n",
       "    <tr>\n",
       "      <th>1.5</th>\n",
       "      <td>0.007520</td>\n",
       "      <td>0.833187</td>\n",
       "      <td>NaN</td>\n",
       "      <td>15.715881</td>\n",
       "      <td>0.000449</td>\n",
       "      <td>NaN</td>\n",
       "      <td>1.173001</td>\n",
       "      <td>NaN</td>\n",
       "      <td>0.005841</td>\n",
       "      <td>0.258941</td>\n",
       "      <td>...</td>\n",
       "      <td>0.001545</td>\n",
       "      <td>0.000000</td>\n",
       "      <td>0.0</td>\n",
       "      <td>0.0</td>\n",
       "      <td>0.0</td>\n",
       "      <td>0.000000</td>\n",
       "      <td>0.000000</td>\n",
       "      <td>0.133757</td>\n",
       "      <td>4983.512957</td>\n",
       "      <td>0.0</td>\n",
       "    </tr>\n",
       "    <tr>\n",
       "      <th>2.0</th>\n",
       "      <td>0.027204</td>\n",
       "      <td>1.167576</td>\n",
       "      <td>NaN</td>\n",
       "      <td>18.866049</td>\n",
       "      <td>0.000848</td>\n",
       "      <td>NaN</td>\n",
       "      <td>1.495127</td>\n",
       "      <td>NaN</td>\n",
       "      <td>0.036452</td>\n",
       "      <td>0.379879</td>\n",
       "      <td>...</td>\n",
       "      <td>4.144791</td>\n",
       "      <td>0.010392</td>\n",
       "      <td>0.0</td>\n",
       "      <td>0.0</td>\n",
       "      <td>0.0</td>\n",
       "      <td>0.003585</td>\n",
       "      <td>0.054135</td>\n",
       "      <td>1.205804</td>\n",
       "      <td>8821.118707</td>\n",
       "      <td>0.0</td>\n",
       "    </tr>\n",
       "  </tbody>\n",
       "</table>\n",
       "<p>5 rows × 532 columns</p>\n",
       "</div>"
      ],
      "text/plain": [
       "     (earthquake, Angola)  (earthquake, Burundi)  (earthquake, Benin)  \\\n",
       "rp                                                                      \n",
       "0.1                   NaN                    NaN                  NaN   \n",
       "0.5                   NaN               0.117194                  NaN   \n",
       "1.0                   NaN               0.512858                  NaN   \n",
       "1.5              0.007520               0.833187                  NaN   \n",
       "2.0              0.027204               1.167576                  NaN   \n",
       "\n",
       "     (earthquake, Botswana)  (earthquake, Central African Republic)  \\\n",
       "rp                                                                    \n",
       "0.1                     NaN                                     NaN   \n",
       "0.5                     NaN                                     NaN   \n",
       "1.0               10.605309                                     NaN   \n",
       "1.5               15.715881                                0.000449   \n",
       "2.0               18.866049                                0.000848   \n",
       "\n",
       "     (earthquake, Cameroon)  (earthquake, Congo, Dem. Rep.)  \\\n",
       "rp                                                            \n",
       "0.1                     NaN                             NaN   \n",
       "0.5                     NaN                        0.263547   \n",
       "1.0                     NaN                        0.706891   \n",
       "1.5                     NaN                        1.173001   \n",
       "2.0                     NaN                        1.495127   \n",
       "\n",
       "     (earthquake, Congo, Rep.)  (earthquake, Comoros)  (earthquake, Djibouti)  \\\n",
       "rp                                                                              \n",
       "0.1                        NaN                    NaN                     NaN   \n",
       "0.5                        NaN                    NaN                0.041216   \n",
       "1.0                        NaN                    NaN                0.147379   \n",
       "1.5                        NaN               0.005841                0.258941   \n",
       "2.0                        NaN               0.036452                0.379879   \n",
       "\n",
       "         ...       (wind, Puerto Rico)  (wind, Turks and Caicos Islands)  \\\n",
       "rp       ...                                                               \n",
       "0.1      ...                       NaN                               NaN   \n",
       "0.5      ...                  0.000000                          0.000000   \n",
       "1.0      ...                  0.000000                          0.000000   \n",
       "1.5      ...                  0.001545                          0.000000   \n",
       "2.0      ...                  4.144791                          0.010392   \n",
       "\n",
       "     (wind, Trinidad and Tobago)  (wind, St. Vincent and the Grenadines)  \\\n",
       "rp                                                                         \n",
       "0.1                          NaN                                     NaN   \n",
       "0.5                          0.0                                     0.0   \n",
       "1.0                          0.0                                     0.0   \n",
       "1.5                          0.0                                     0.0   \n",
       "2.0                          0.0                                     0.0   \n",
       "\n",
       "     (wind, Venezuela, RB)  (wind, Virgin Islands, British)  \\\n",
       "rp                                                            \n",
       "0.1                    NaN                              NaN   \n",
       "0.5                    0.0                         0.000000   \n",
       "1.0                    0.0                         0.000000   \n",
       "1.5                    0.0                         0.000000   \n",
       "2.0                    0.0                         0.003585   \n",
       "\n",
       "     (wind, Virgin Islands (U.S.))  (wind, Canada)  (wind, United States)  \\\n",
       "rp                                                                          \n",
       "0.1                            NaN        0.000000               0.000000   \n",
       "0.5                       0.000000        0.000000               8.791047   \n",
       "1.0                       0.000000        0.000000            1398.196269   \n",
       "1.5                       0.000000        0.133757            4983.512957   \n",
       "2.0                       0.054135        1.205804            8821.118707   \n",
       "\n",
       "     (wind, Oman)  \n",
       "rp                 \n",
       "0.1           NaN  \n",
       "0.5           NaN  \n",
       "1.0           0.0  \n",
       "1.5           0.0  \n",
       "2.0           0.0  \n",
       "\n",
       "[5 rows x 532 columns]"
      ]
     },
     "execution_count": 45,
     "metadata": {},
     "output_type": "execute_result"
    }
   ],
   "source": [
    "PML_guessed.head()"
   ]
  },
  {
   "cell_type": "code",
   "execution_count": 85,
   "metadata": {
    "collapsed": false
   },
   "outputs": [],
   "source": [
    "df=PML_guessed.copy()\n",
    "df.columns=pd.MultiIndex.from_tuples(PML_guessed.columns)\n",
    "df=df.stack().stack()\n",
    "df.index.names=[\"rp\",\"country\",\"hazard\"]\n",
    "df.swaplevel(0,1).swaplevel(1,2).sort_index().to_csv(\"intermediate/capital_losses_from_GAR_events.csv\", header=True)"
   ]
  },
  {
   "cell_type": "code",
   "execution_count": 92,
   "metadata": {
    "collapsed": false
   },
   "outputs": [
    {
     "data": {
      "text/plain": [
       "0    284144.269285\n",
       "dtype: float64"
      ]
     },
     "execution_count": 92,
     "metadata": {},
     "output_type": "execute_result"
    }
   ],
   "source": [
    "average_over_rp(df).sum()"
   ]
  },
  {
   "cell_type": "code",
   "execution_count": 66,
   "metadata": {
    "collapsed": false
   },
   "outputs": [],
   "source": []
  },
  {
   "cell_type": "code",
   "execution_count": 82,
   "metadata": {
    "collapsed": false
   },
   "outputs": [],
   "source": [
    "sum=0\n",
    "\n",
    "for myfile in res_file_list:\n",
    "\n",
    "    #parse filename\n",
    "    path, name = glob.os.path.split(myfile)\n",
    "    hazard = path.split(\"\\\\\")[-1]\n",
    "    \n",
    "    if hazard !=\"surge\":\n",
    "        continue\n",
    "\n",
    "    try:\n",
    "        #open file and parse it to memory file\n",
    "        memory_file = res_to_csv(myfile)\n",
    "        #gets back to begining or IO\n",
    "        memory_file.seek(0)\n",
    "\n",
    "        #read data\n",
    "        data = pd.read_csv(memory_file,sep=\" *\", engine=\"python\",usecols=[\"Frecuencia\",\"EP\"])\n",
    "        data= data.sort_values(by=\"EP\", ascending=False)[[\"EP\",\"Frecuencia\"]]   \n",
    "\n",
    "        #scales fore same average capital losses\n",
    "        sum+= (data.EP*data.Frecuencia).sum()\n",
    "    except:\n",
    "        print(\"passing \"+myfile)\n",
    "\n",
    "\n"
   ]
  },
  {
   "cell_type": "code",
   "execution_count": 90,
   "metadata": {
    "collapsed": false
   },
   "outputs": [
    {
     "data": {
      "text/plain": [
       "297396"
      ]
     },
     "execution_count": 90,
     "metadata": {},
     "output_type": "execute_result"
    }
   ],
   "source": [
    "49788 + 247608"
   ]
  },
  {
   "cell_type": "code",
   "execution_count": 83,
   "metadata": {
    "collapsed": false
   },
   "outputs": [
    {
     "data": {
      "text/plain": [
       "49788.27928993283"
      ]
     },
     "execution_count": 83,
     "metadata": {},
     "output_type": "execute_result"
    }
   ],
   "source": [
    "suma"
   ]
  },
  {
   "cell_type": "code",
   "execution_count": 73,
   "metadata": {
    "collapsed": false
   },
   "outputs": [
    {
     "data": {
      "text/plain": [
       "247608.99403434165"
      ]
     },
     "execution_count": 73,
     "metadata": {},
     "output_type": "execute_result"
    }
   ],
   "source": [
    "sum"
   ]
  },
  {
   "cell_type": "code",
   "execution_count": 87,
   "metadata": {
    "collapsed": true
   },
   "outputs": [],
   "source": [
    "myfile = \"D:/events\\wind\\africa_REU_Wd_Total.res\""
   ]
  },
  {
   "cell_type": "code",
   "execution_count": 88,
   "metadata": {
    "collapsed": false
   },
   "outputs": [
    {
     "name": "stdout",
     "output_type": "stream",
     "text": [
      "ignored D:/events\\wind\u0007frica_REU_Wd_Total.res\n"
     ]
    }
   ],
   "source": [
    "path, name = glob.os.path.split(myfile)\n",
    "hazard = path.split(\"\\\\\")[-1]\n",
    "try:\n",
    "    country_name = iso2bank[name.split(\"_\")[1]]\n",
    "except KeyError:\n",
    "    print(\"ignored \" +myfile)\n"
   ]
  },
  {
   "cell_type": "code",
   "execution_count": 91,
   "metadata": {
    "collapsed": false
   },
   "outputs": [
    {
     "ename": "OSError",
     "evalue": "[Errno 22] Invalid argument: 'D:/events\\\\wind\\x07frica_REU_Wd_Total.res'",
     "output_type": "error",
     "traceback": [
      "\u001b[1;31m---------------------------------------------------------------------------\u001b[0m",
      "\u001b[1;31mOSError\u001b[0m                                   Traceback (most recent call last)",
      "\u001b[1;32m<ipython-input-91-cc9616551f0c>\u001b[0m in \u001b[0;36m<module>\u001b[1;34m()\u001b[0m\n\u001b[1;32m----> 1\u001b[1;33m \u001b[0mmemory_file\u001b[0m \u001b[1;33m=\u001b[0m \u001b[0mres_to_csv\u001b[0m\u001b[1;33m(\u001b[0m\u001b[0mmyfile\u001b[0m\u001b[1;33m)\u001b[0m\u001b[1;33m\u001b[0m\u001b[0m\n\u001b[0m\u001b[0;32m      2\u001b[0m \u001b[1;31m#gets back to begining or IO\u001b[0m\u001b[1;33m\u001b[0m\u001b[1;33m\u001b[0m\u001b[0m\n\u001b[0;32m      3\u001b[0m \u001b[0mmemory_file\u001b[0m\u001b[1;33m.\u001b[0m\u001b[0mseek\u001b[0m\u001b[1;33m(\u001b[0m\u001b[1;36m0\u001b[0m\u001b[1;33m)\u001b[0m\u001b[1;33m\u001b[0m\u001b[0m\n\u001b[0;32m      4\u001b[0m \u001b[1;33m\u001b[0m\u001b[0m\n\u001b[0;32m      5\u001b[0m \u001b[1;31m#read data\u001b[0m\u001b[1;33m\u001b[0m\u001b[1;33m\u001b[0m\u001b[0m\n",
      "\u001b[1;32m<ipython-input-81-825d0f4bd42e>\u001b[0m in \u001b[0;36mres_to_csv\u001b[1;34m(file_path, new_path)\u001b[0m\n\u001b[0;32m     13\u001b[0m \u001b[1;33m\u001b[0m\u001b[0m\n\u001b[0;32m     14\u001b[0m \u001b[1;33m\u001b[0m\u001b[0m\n\u001b[1;32m---> 15\u001b[1;33m     \u001b[1;32mwith\u001b[0m \u001b[0mopen\u001b[0m\u001b[1;33m(\u001b[0m\u001b[0mfile_path\u001b[0m\u001b[1;33m)\u001b[0m \u001b[1;32mas\u001b[0m \u001b[0mold_file\u001b[0m\u001b[1;33m:\u001b[0m\u001b[1;33m\u001b[0m\u001b[0m\n\u001b[0m\u001b[0;32m     16\u001b[0m         \u001b[1;32mfor\u001b[0m \u001b[0mline\u001b[0m \u001b[1;32min\u001b[0m \u001b[0mold_file\u001b[0m\u001b[1;33m:\u001b[0m\u001b[1;33m\u001b[0m\u001b[0m\n\u001b[0;32m     17\u001b[0m             \u001b[1;32mif\u001b[0m \u001b[0mline\u001b[0m\u001b[1;33m.\u001b[0m\u001b[0mstartswith\u001b[0m\u001b[1;33m(\u001b[0m\u001b[1;34m\"Temporalidad\"\u001b[0m\u001b[1;33m)\u001b[0m\u001b[1;33m:\u001b[0m \u001b[1;31m#begining of data\u001b[0m\u001b[1;33m\u001b[0m\u001b[0m\n",
      "\u001b[1;31mOSError\u001b[0m: [Errno 22] Invalid argument: 'D:/events\\\\wind\\x07frica_REU_Wd_Total.res'"
     ]
    }
   ],
   "source": [
    "memory_file = res_to_csv(myfile)\n",
    "#gets back to begining or IO\n",
    "memory_file.seek(0)\n",
    "\n",
    "#read data\n",
    "data = pd.read_csv(memory_file,sep=\" *\", engine=\"python\",usecols=[\"Frecuencia\",\"EP\"])\n",
    "data= data.sort_values(by=\"EP\", ascending=False)[[\"EP\",\"Frecuencia\"]]\n",
    "\n",
    "data[\"rp\"]=1/data.Frecuencia.cumsum()\n",
    "data.head()\n",
    "\n",
    "#interpolates RP\n",
    "series = pd.DataFrame(interp1d(data.rp,data.EP, bounds_error=False)(return_periods), \n",
    "                      index=pd.Index(return_periods,name=\"rp\"))\n",
    "\n",
    "#scales fore same average capital losses\n",
    "series *= (data.EP*data.Frecuencia).sum()/ average_over_rp(series.stack()).squeeze()\n",
    "\n",
    "PML_guessed[(hazard,country_name)]=series.squeeze()"
   ]
  },
  {
   "cell_type": "code",
   "execution_count": null,
   "metadata": {
    "collapsed": true
   },
   "outputs": [],
   "source": []
  }
 ],
 "metadata": {
  "kernelspec": {
   "display_name": "Python 3",
   "language": "python",
   "name": "python3"
  },
  "language_info": {
   "codemirror_mode": {
    "name": "ipython",
    "version": 3
   },
   "file_extension": ".py",
   "mimetype": "text/x-python",
   "name": "python",
   "nbconvert_exporter": "python",
   "pygments_lexer": "ipython3",
   "version": "3.4.4"
  },
  "nav_menu": {},
  "toc": {
   "navigate_menu": true,
   "number_sections": true,
   "sideBar": true,
   "threshold": 6,
   "toc_cell": false,
   "toc_section_display": "block",
   "toc_window_display": false
  }
 },
 "nbformat": 4,
 "nbformat_minor": 0
}
