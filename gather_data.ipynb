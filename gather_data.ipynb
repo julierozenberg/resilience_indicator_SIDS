{
 "cells": [
  {
   "cell_type": "code",
   "execution_count": 1,
   "metadata": {
    "collapsed": false,
    "run_control": {
     "frozen": false,
     "read_only": false
    }
   },
   "outputs": [],
   "source": [
    "# %reset-f\n",
    "%load_ext autoreload\n",
    "%autoreload 2"
   ]
  },
  {
   "cell_type": "code",
   "execution_count": 2,
   "metadata": {
    "collapsed": false,
    "run_control": {
     "frozen": false,
     "read_only": false
    }
   },
   "outputs": [],
   "source": [
    "from res_ind_lib import *\n",
    "\n",
    "from sorted_nicely import *\n",
    "from replace_with_warning import *\n",
    "\n",
    "import os, time\n",
    "import warnings\n",
    "warnings.filterwarnings(\"always\",category=UserWarning)"
   ]
  },
  {
   "cell_type": "code",
   "execution_count": 3,
   "metadata": {
    "collapsed": true,
    "run_control": {
     "frozen": false,
     "read_only": false
    }
   },
   "outputs": [],
   "source": [
    "import numpy as np\n",
    "import pandas as pd\n",
    "\n",
    "#Pandas display options\n",
    "# pd.set_option('display.max_colwidth', 200)\n",
    "# pd.set_option('display.width', 200)\n",
    "# pd.set_option('display.precision', 10)\n",
    "# pd.set_option('display.max_rows', 500)\n",
    "\n",
    "import matplotlib.pylab as plt\n",
    "%matplotlib inline\n",
    "font = {'family' : 'serif',\n",
    "    'weight' : 'normal',\n",
    "    'size'   : 15}\n",
    "plt.rc('font', **font)\n",
    "\n",
    "from fancy_plots import *"
   ]
  },
  {
   "cell_type": "markdown",
   "metadata": {},
   "source": [
    "# Options and parameters"
   ]
  },
  {
   "cell_type": "code",
   "execution_count": 4,
   "metadata": {
    "collapsed": true,
    "run_control": {
     "frozen": false,
     "read_only": false
    }
   },
   "outputs": [],
   "source": [
    "protection_from_flopros = True #else assumes number per WB income group\n",
    "no_protection=True #overiides previous option. protection=1 everywhere\n",
    "\n",
    "\n",
    "less_ratios = False #reduce the number of rp (for clarity when debugging)\n",
    "\n",
    "use_GLOFRIS_flood = False  #else uses GAR (True does not work i think)\n",
    "\n",
    "use_guessed_social= True #else keeps nans\n",
    "\n",
    "use_avg_pe = True #otherwise 0 when no data\n",
    "\n",
    "\n",
    "use_newest_wdi_findex_aspire = True  #too late to include new data just before report release\n",
    "\n",
    "drop_unused_data=True #if true removes from df and cat_info the intermediate variables"
   ]
  },
  {
   "cell_type": "code",
   "execution_count": 5,
   "metadata": {
    "collapsed": true,
    "run_control": {
     "frozen": false,
     "read_only": false
    }
   },
   "outputs": [],
   "source": [
    "economy = \"country\" #province, deparmtent"
   ]
  },
  {
   "cell_type": "markdown",
   "metadata": {},
   "source": [
    "# Country dictionaries"
   ]
  },
  {
   "cell_type": "code",
   "execution_count": 6,
   "metadata": {
    "collapsed": false,
    "run_control": {
     "frozen": false,
     "read_only": false
    }
   },
   "outputs": [],
   "source": [
    "#Names to WB names\n",
    "any_to_wb = pd.read_csv(\"inputs/any_name_to_wb_name.csv\",index_col=\"any\",squeeze=True)\n",
    "\n",
    "#GAR names with SIDS spec\n",
    "gar_name_sids = pd.read_csv(\"inputs/gar_name_sids.csv\")\n",
    "\n",
    "#iso3 to wb country name table\n",
    "iso3_to_wb=pd.read_csv(\"inputs/iso3_to_wb_name.csv\").set_index(\"iso3\").squeeze()\n",
    "\n",
    "#iso2 to iso3 table\n",
    "iso2_iso3 = pd.read_csv(\"inputs/names_to_iso.csv\", usecols=[\"iso2\",\"iso3\"]).drop_duplicates().set_index(\"iso2\").squeeze() #the tables has more lines than countries to account for several ways of writing country names"
   ]
  },
  {
   "cell_type": "code",
   "execution_count": 7,
   "metadata": {
    "collapsed": false
   },
   "outputs": [],
   "source": [
    "gar_name_sids['wbcountry'] = gar_name_sids.reset_index().country.replace(any_to_wb)\n",
    "\n",
    "list_of_sids = gar_name_sids[gar_name_sids.isaSID==\"SIDS\"].dropna().reset_index().wbcountry"
   ]
  },
  {
   "cell_type": "code",
   "execution_count": null,
   "metadata": {
    "collapsed": false
   },
   "outputs": [],
   "source": []
  },
  {
   "cell_type": "code",
   "execution_count": 8,
   "metadata": {
    "collapsed": false
   },
   "outputs": [],
   "source": [
    "list_of_sids;"
   ]
  },
  {
   "cell_type": "markdown",
   "metadata": {},
   "source": [
    "# Macro Data"
   ]
  },
  {
   "cell_type": "markdown",
   "metadata": {},
   "source": [
    "##  Economic data from the world bank"
   ]
  },
  {
   "cell_type": "code",
   "execution_count": 9,
   "metadata": {
    "collapsed": false,
    "run_control": {
     "frozen": false,
     "read_only": false
    }
   },
   "outputs": [
    {
     "data": {
      "text/plain": [
       "(91, 9)"
      ]
     },
     "execution_count": 9,
     "metadata": {},
     "output_type": "execute_result"
    }
   ],
   "source": [
    "the_file = \"inputs/wb_data.csv\" if use_newest_wdi_findex_aspire else \"inputs/wb_data_backup.csv\"\n",
    "\n",
    "nb_weeks = (time.time()-os.stat(the_file).st_mtime )/(3600*24*7)\n",
    "if nb_weeks>20: \n",
    "    warnings.warn(\"World bank data are \"+str(int(nb_weeks))+\" weeks old. You may want to download them again.\")\n",
    "df=pd.read_csv(the_file).set_index(economy)\n",
    "\n",
    "\n",
    "if not use_newest_wdi_findex_aspire:\n",
    "    df[\"urbanization_rate\"]=pd.read_csv(\"inputs/wb_data.csv\").set_index(economy)[\"urbanization_rate\"]\n",
    "    ## Drops here the data not used, to avoid it counting as missing data\n",
    "    df = df.drop([\"plgp\",\"unemp\",\"bashs\",\"ophe\", \"axhealth\"],axis=1)\n",
    "\n",
    "\n",
    "\n",
    "df.dropna().shape"
   ]
  },
  {
   "cell_type": "code",
   "execution_count": null,
   "metadata": {
    "collapsed": true,
    "run_control": {
     "frozen": false,
     "read_only": false
    }
   },
   "outputs": [],
   "source": []
  },
  {
   "cell_type": "markdown",
   "metadata": {},
   "source": [
    "## Definitions"
   ]
  },
  {
   "cell_type": "code",
   "execution_count": 10,
   "metadata": {
    "collapsed": false,
    "run_control": {
     "frozen": false,
     "read_only": false
    }
   },
   "outputs": [
    {
     "data": {
      "text/html": [
       "<div>\n",
       "<table border=\"1\" class=\"dataframe\">\n",
       "  <thead>\n",
       "    <tr style=\"text-align: right;\">\n",
       "      <th></th>\n",
       "      <th>gdp_pc_pp</th>\n",
       "      <th>pop</th>\n",
       "      <th>share1</th>\n",
       "      <th>urbanization_rate</th>\n",
       "      <th>gdp_pc_cd</th>\n",
       "      <th>axfin_p</th>\n",
       "      <th>axfin_r</th>\n",
       "      <th>social_p</th>\n",
       "      <th>social_r</th>\n",
       "      <th>pov_head</th>\n",
       "    </tr>\n",
       "    <tr>\n",
       "      <th>country</th>\n",
       "      <th></th>\n",
       "      <th></th>\n",
       "      <th></th>\n",
       "      <th></th>\n",
       "      <th></th>\n",
       "      <th></th>\n",
       "      <th></th>\n",
       "      <th></th>\n",
       "      <th></th>\n",
       "      <th></th>\n",
       "    </tr>\n",
       "  </thead>\n",
       "  <tbody>\n",
       "    <tr>\n",
       "      <th>Afghanistan</th>\n",
       "      <td>1739.583177</td>\n",
       "      <td>34656032.0</td>\n",
       "      <td>NaN</td>\n",
       "      <td>0.27132</td>\n",
       "      <td>561.778746</td>\n",
       "      <td>0.022336</td>\n",
       "      <td>0.044609</td>\n",
       "      <td>0.111074</td>\n",
       "      <td>0.043163</td>\n",
       "      <td>0.2</td>\n",
       "    </tr>\n",
       "    <tr>\n",
       "      <th>Albania</th>\n",
       "      <td>11424.628319</td>\n",
       "      <td>2876101.0</td>\n",
       "      <td>0.0885</td>\n",
       "      <td>0.58376</td>\n",
       "      <td>4146.896250</td>\n",
       "      <td>0.044618</td>\n",
       "      <td>0.096454</td>\n",
       "      <td>0.243888</td>\n",
       "      <td>0.168006</td>\n",
       "      <td>0.2</td>\n",
       "    </tr>\n",
       "    <tr>\n",
       "      <th>Algeria</th>\n",
       "      <td>13974.666225</td>\n",
       "      <td>40606052.0</td>\n",
       "      <td>NaN</td>\n",
       "      <td>0.71304</td>\n",
       "      <td>3843.752322</td>\n",
       "      <td>0.101800</td>\n",
       "      <td>0.164780</td>\n",
       "      <td>NaN</td>\n",
       "      <td>NaN</td>\n",
       "      <td>0.2</td>\n",
       "    </tr>\n",
       "    <tr>\n",
       "      <th>American Samoa</th>\n",
       "      <td>NaN</td>\n",
       "      <td>55599.0</td>\n",
       "      <td>NaN</td>\n",
       "      <td>0.87148</td>\n",
       "      <td>11541.854980</td>\n",
       "      <td>NaN</td>\n",
       "      <td>NaN</td>\n",
       "      <td>NaN</td>\n",
       "      <td>NaN</td>\n",
       "      <td>0.2</td>\n",
       "    </tr>\n",
       "    <tr>\n",
       "      <th>Andorra</th>\n",
       "      <td>NaN</td>\n",
       "      <td>77281.0</td>\n",
       "      <td>NaN</td>\n",
       "      <td>0.84612</td>\n",
       "      <td>40215.435317</td>\n",
       "      <td>NaN</td>\n",
       "      <td>NaN</td>\n",
       "      <td>NaN</td>\n",
       "      <td>NaN</td>\n",
       "      <td>0.2</td>\n",
       "    </tr>\n",
       "  </tbody>\n",
       "</table>\n",
       "</div>"
      ],
      "text/plain": [
       "                   gdp_pc_pp         pop  share1  urbanization_rate  \\\n",
       "country                                                               \n",
       "Afghanistan      1739.583177  34656032.0     NaN            0.27132   \n",
       "Albania         11424.628319   2876101.0  0.0885            0.58376   \n",
       "Algeria         13974.666225  40606052.0     NaN            0.71304   \n",
       "American Samoa           NaN     55599.0     NaN            0.87148   \n",
       "Andorra                  NaN     77281.0     NaN            0.84612   \n",
       "\n",
       "                   gdp_pc_cd   axfin_p   axfin_r  social_p  social_r  pov_head  \n",
       "country                                                                         \n",
       "Afghanistan       561.778746  0.022336  0.044609  0.111074  0.043163       0.2  \n",
       "Albania          4146.896250  0.044618  0.096454  0.243888  0.168006       0.2  \n",
       "Algeria          3843.752322  0.101800  0.164780       NaN       NaN       0.2  \n",
       "American Samoa  11541.854980       NaN       NaN       NaN       NaN       0.2  \n",
       "Andorra         40215.435317       NaN       NaN       NaN       NaN       0.2  "
      ]
     },
     "execution_count": 10,
     "metadata": {},
     "output_type": "execute_result"
    }
   ],
   "source": [
    "# share of poor individuals, we chose the bottom 20\n",
    "df[\"pov_head\"]=0.2 \n",
    "ph=df[\"pov_head\"]\n",
    "\n",
    "df.head()"
   ]
  },
  {
   "cell_type": "markdown",
   "metadata": {},
   "source": [
    "## EUsilc and other countries"
   ]
  },
  {
   "cell_type": "code",
   "execution_count": 11,
   "metadata": {
    "collapsed": false,
    "run_control": {
     "frozen": false,
     "read_only": false
    }
   },
   "outputs": [
    {
     "data": {
      "text/html": [
       "<div>\n",
       "<table border=\"1\" class=\"dataframe\">\n",
       "  <thead>\n",
       "    <tr style=\"text-align: right;\">\n",
       "      <th></th>\n",
       "      <th>cc</th>\n",
       "      <th>social_p</th>\n",
       "      <th>social_r</th>\n",
       "      <th>eusilc</th>\n",
       "      <th>aspire</th>\n",
       "    </tr>\n",
       "    <tr>\n",
       "      <th>cc</th>\n",
       "      <th></th>\n",
       "      <th></th>\n",
       "      <th></th>\n",
       "      <th></th>\n",
       "      <th></th>\n",
       "    </tr>\n",
       "  </thead>\n",
       "  <tbody>\n",
       "    <tr>\n",
       "      <th>Austria</th>\n",
       "      <td>AT</td>\n",
       "      <td>0.517166</td>\n",
       "      <td>0.408164</td>\n",
       "      <td>1</td>\n",
       "      <td>0</td>\n",
       "    </tr>\n",
       "    <tr>\n",
       "      <th>Belgium</th>\n",
       "      <td>BE</td>\n",
       "      <td>0.651173</td>\n",
       "      <td>0.402523</td>\n",
       "      <td>1</td>\n",
       "      <td>0</td>\n",
       "    </tr>\n",
       "    <tr>\n",
       "      <th>Bulgaria</th>\n",
       "      <td>BG</td>\n",
       "      <td>0.663095</td>\n",
       "      <td>0.404463</td>\n",
       "      <td>1</td>\n",
       "      <td>0</td>\n",
       "    </tr>\n",
       "    <tr>\n",
       "      <th>Switzerland</th>\n",
       "      <td>CH</td>\n",
       "      <td>0.479703</td>\n",
       "      <td>0.305042</td>\n",
       "      <td>1</td>\n",
       "      <td>0</td>\n",
       "    </tr>\n",
       "    <tr>\n",
       "      <th>Cyprus</th>\n",
       "      <td>CY</td>\n",
       "      <td>0.479651</td>\n",
       "      <td>0.333553</td>\n",
       "      <td>1</td>\n",
       "      <td>0</td>\n",
       "    </tr>\n",
       "  </tbody>\n",
       "</table>\n",
       "</div>"
      ],
      "text/plain": [
       "             cc  social_p  social_r  eusilc  aspire\n",
       "cc                                                 \n",
       "Austria      AT  0.517166  0.408164       1       0\n",
       "Belgium      BE  0.651173  0.402523       1       0\n",
       "Bulgaria     BG  0.663095  0.404463       1       0\n",
       "Switzerland  CH  0.479703  0.305042       1       0\n",
       "Cyprus       CY  0.479651  0.333553       1       0"
      ]
     },
     "execution_count": 11,
     "metadata": {},
     "output_type": "execute_result"
    }
   ],
   "source": [
    "silc = pd.read_csv(\"inputs/social_ratios.csv\") #XXX: there is data from ASPIRE in social_ratios. Use fillna instead to update df.\n",
    "#indexes with wold bank names\n",
    "silc = silc.set_index(silc.cc.replace({\"EL\":\"GR\",\"UK\":\"GB\"}).replace(iso2_iso3).replace(iso3_to_wb)) #UK and greece have differnt codes in Europe than ISO2. \n",
    "silc.head()\n",
    "\n"
   ]
  },
  {
   "cell_type": "code",
   "execution_count": 12,
   "metadata": {
    "collapsed": false,
    "run_control": {
     "frozen": false,
     "read_only": false
    }
   },
   "outputs": [],
   "source": [
    "#Monitoring differences between SILC and ASPIRE\n",
    "(df[[\"social_p\",\"social_r\"]] - silc[[\"social_p\",\"social_r\"]] ).dropna()\n",
    "\n",
    "\n",
    "#updates socials with SILC when no data from WB\n",
    "df.ix[silc.index,[\"social_p\",\"social_r\"]]  = silc[[\"social_p\",\"social_r\"]] \n",
    "\n",
    "\n",
    "df.dropna().shape\n",
    "\n",
    "df.ix[\"Togo\",\"social_r\"]=np.nan"
   ]
  },
  {
   "cell_type": "markdown",
   "metadata": {},
   "source": [
    "## Guessed transfers"
   ]
  },
  {
   "cell_type": "code",
   "execution_count": 13,
   "metadata": {
    "collapsed": false,
    "run_control": {
     "frozen": false,
     "read_only": false
    }
   },
   "outputs": [
    {
     "data": {
      "text/plain": [
       "social_p    0.092560\n",
       "social_r    0.094162\n",
       "Name: Togo, dtype: float64"
      ]
     },
     "execution_count": 13,
     "metadata": {},
     "output_type": "execute_result"
    }
   ],
   "source": [
    "guessed_social = pd.read_csv(\"inputs/df_social_transfers_statistics.csv\", index_col=0)[[\"social_p_est\",\"social_r_est\"]]\n",
    "guessed_social.columns = [\"social_p\", \"social_r\"]\n",
    "guessed_social.head()\n",
    "\n",
    "\n",
    "guessed_social.ix[\"Togo\"]"
   ]
  },
  {
   "cell_type": "code",
   "execution_count": 14,
   "metadata": {
    "collapsed": false,
    "run_control": {
     "frozen": false,
     "read_only": false
    }
   },
   "outputs": [
    {
     "data": {
      "text/plain": [
       "(148, 10)"
      ]
     },
     "execution_count": 14,
     "metadata": {},
     "output_type": "execute_result"
    }
   ],
   "source": [
    "if use_guessed_social:\n",
    "    df = df.fillna(guessed_social.clip(lower=0, upper=1))\n",
    "    \n",
    "\n",
    "df.dropna().shape    "
   ]
  },
  {
   "cell_type": "markdown",
   "metadata": {},
   "source": [
    "## plot social"
   ]
  },
  {
   "cell_type": "code",
   "execution_count": 15,
   "metadata": {
    "collapsed": false,
    "run_control": {
     "frozen": false,
     "read_only": false
    }
   },
   "outputs": [
    {
     "name": "stdout",
     "output_type": "stream",
     "text": [
      "0.29250457146177283\n",
      "0.1742343041893773\n",
      "0.20153682293234426\n",
      "0.13664688082965504\n",
      "0.10923195081477387\n"
     ]
    },
    {
     "data": {
      "image/png": "[encoded data removed]",
      "text/plain": [
       "<matplotlib.figure.Figure at 0x27194c29e80>"
      ]
     },
     "metadata": {},
     "output_type": "display_data"
    }
   ],
   "source": [
    "plt.figure(figsize=(7,7))\n",
    "from scipy import interpolate\n",
    "\n",
    "\n",
    "print(df.social_p.mean())\n",
    "print(df.social_r.mean())\n",
    "\n",
    "df2=df.query(\"gdp_pc_pp<30000 & social_p<.6 \")\n",
    "print(df2.social_p.mean())\n",
    "print(df2.social_r.mean())\n",
    "\n",
    "plt.scatter(df2.gdp_pc_pp,100*df2.social_p, c=\"blue\", s=60, alpha=.5 , clip_on=False)\n",
    "plt.scatter(df2.gdp_pc_pp,100*df2.social_r, c=\"red\", s =60,  alpha=.5, clip_on=False)\n",
    "\n",
    "plt.legend([\"Poor\",\"Nonpoor\"], loc=2, prop=font, )\n",
    "\n",
    "x=df.dropna()[\"gdp_pc_pp\"].values\n",
    "yp=df.dropna()[\"social_p\"].values\n",
    "yr=df.dropna()[\"social_r\"].values\n",
    "\n",
    "\n",
    "#x = np.arange(0, 2*np.pi+np.pi/4, 2*np.pi/8)\n",
    "#y = np.sin(x)\n",
    "f_p = interpolate.UnivariateSpline(x,yp,k=4)\n",
    "f_r = interpolate.UnivariateSpline(x,yr,k=4)\n",
    "#tck = interpolate.splrep(x,y, s=0)\n",
    "\n",
    "\n",
    "x=np.linspace(500.0, 30000, num=1000)\n",
    "plt.plot(x,100*f_p(x), c=\"blue\")\n",
    "plt.plot(x,100*f_r(x), c=\"red\")\n",
    "print(f_p(2000))\n",
    "\n",
    "plt.xlim(xmin=0,xmax=30000)\n",
    "plt.ylim(0,ymax=60)\n",
    "\n",
    "\n",
    "plt.ylabel(\"Share of income from transfers (%)\")\n",
    "plt.xlabel(\"GDP per capita (US$)\")\n",
    "\n",
    "x_thousands_sep()\n",
    "spine_and_ticks(plt.gca())\n",
    "\n",
    "plt.savefig('img/Diversification.png')\n"
   ]
  },
  {
   "cell_type": "markdown",
   "metadata": {},
   "source": [
    "## HFA"
   ]
  },
  {
   "cell_type": "code",
   "execution_count": 16,
   "metadata": {
    "collapsed": false,
    "run_control": {
     "frozen": false,
     "read_only": false
    }
   },
   "outputs": [
    {
     "data": {
      "text/plain": [
       "(148, 13)"
      ]
     },
     "execution_count": 16,
     "metadata": {},
     "output_type": "execute_result"
    }
   ],
   "source": [
    "\n",
    "#2015 hfa\n",
    "hfa15 =  pd.read_csv(\"inputs/HFA_all_2013_2015.csv\")\n",
    "hfa15 =  hfa15.set_index(replace_with_warning(hfa15[\"Country name\"],any_to_wb))\n",
    "\n",
    "# READ THE LAST HFA DATA\n",
    "hfa_newest = pd.read_csv(\"inputs/HFA_all_2011_2013.csv\")\n",
    "hfa_newest = hfa_newest.set_index(replace_with_warning(hfa_newest[\"Country name\"],any_to_wb))\n",
    "\n",
    "# READ THE PREVIOUS HFA DATA\n",
    "hfa_previous = pd.read_csv(\"inputs/HFA_all_2009_2011.csv\")\n",
    "hfa_previous = hfa_previous.set_index(replace_with_warning(hfa_previous[\"Country name\"],any_to_wb))\n",
    "\n",
    "#most recent values... if no 2011-2013 reporting, we use 2009-2011\n",
    "hfa_oldnew=pd.concat([hfa_newest, hfa_previous, hfa15], axis=1,keys=['new', 'old', \"15\"]) #this is important to  join the list of all countries\n",
    "hfa = hfa_oldnew[\"new\"].fillna(hfa_oldnew[\"old\"]);\n",
    "hfa = hfa_oldnew[\"15\"].fillna(hfa_oldnew[\"new\"].fillna(hfa_oldnew[\"old\"]));\n",
    "\n",
    "# access to early warning = priority for action 2, indicator 3 of the HFA\n",
    "hfa[\"shew\"]=1/5*hfa[\"P2-C3\"] # between zero and 1. \n",
    "\n",
    "# ability to scale up = average of priority for action 5 of the HFA\n",
    "hfa[\"prepare_scaleup\"]=(hfa[\"P4-C2\"]+hfa[\"P5-C2\"]+hfa[\"P4-C5\"])/3/5 # between zero and 1\n",
    "hfa[\"finance_pre\"] = (1+hfa[\"P5-C3\"])/6 #betwenn 0 and 1\n",
    "\n",
    "\n",
    "df[[\"shew\",\"prepare_scaleup\",\"finance_pre\"]]=hfa[[\"shew\",\"prepare_scaleup\",\"finance_pre\"]]\n",
    "\n",
    "#assumes no reporting is bad situation (caution! do the fillna after inputing to df to get the largest set of index)\n",
    "df[[\"shew\",\"prepare_scaleup\",\"finance_pre\"]]=df[[\"shew\",\"prepare_scaleup\",\"finance_pre\"]].fillna(0)\n",
    "\n",
    "df.ix[\"Finland\"];\n",
    "#df.head()\n",
    "df.dropna().shape "
   ]
  },
  {
   "cell_type": "markdown",
   "metadata": {},
   "source": [
    "## plot HAF"
   ]
  },
  {
   "cell_type": "code",
   "execution_count": 17,
   "metadata": {
    "collapsed": false,
    "run_control": {
     "frozen": false,
     "read_only": false
    }
   },
   "outputs": [
    {
     "data": {
      "image/png": "[encoded data removed]",
      "text/plain": [
       "<matplotlib.figure.Figure at 0x27195177ef0>"
      ]
     },
     "metadata": {},
     "output_type": "display_data"
    }
   ],
   "source": [
    "\n",
    "df_ = df.copy()\n",
    "df_[\"income_group\"]=pd.read_csv(\"inputs/income_groups.csv\",header =4,index_col=2)[\"Income group\"].dropna()\n",
    "df_ = df_.replace(0,np.nan).dropna()\n",
    "\n",
    "hi = [c for c in df_.index if \"High income\" in df_.ix[c,\"income_group\"]]\n",
    "dev= [c for c in df_.index if \"High income\" not in df_.ix[c,\"income_group\"]]\n",
    "df_.income_group;\n",
    "\n",
    "fig = plt.figure(figsize=(6,5))\n",
    "\n",
    "plt.hist(df_.ix[hi ,\"shew\"]*5,bins=[-.5,.5,1.5,2.5,3.5,4.5,5.5], align=\"mid\", alpha=0.5)\n",
    "plt.hist(df_.ix[dev,\"shew\"]*5,bins=[-.5,.5,1.5,2.5,3.5,4.5,5.5], align=\"mid\", alpha=0.5)\n",
    "\n",
    "ax=plt.gca()\n",
    "\n",
    "spine_and_ticks(ax)\n",
    "\n",
    "plt.xlabel(\"Score on access to early warnings\")\n",
    "plt.ylabel(\"Number of countries\")\n",
    "\n",
    "ax.set_xticks([0,1,2,3,4,5]);\n",
    "\n",
    "plt.legend([\"High income\", \"Developing\"], prop=font, loc=\"best\", frameon=False);\n",
    "\n",
    "plt.savefig(\"img/EarlyWarning_socres.png\")\n",
    "plt.savefig(\"img/EarlyWarning_socres.pdf\")\n",
    "\n",
    "\n"
   ]
  },
  {
   "cell_type": "code",
   "execution_count": 18,
   "metadata": {
    "collapsed": false,
    "run_control": {
     "frozen": false,
     "read_only": false
    }
   },
   "outputs": [
    {
     "data": {
      "image/png": "[encoded data removed]",
      "text/plain": [
       "<matplotlib.figure.Figure at 0x2719518c3c8>"
      ]
     },
     "metadata": {},
     "output_type": "display_data"
    }
   ],
   "source": [
    "\n",
    "x1 = df_.ix[hi ,\"shew\"].value_counts()\n",
    "x2 = df_.ix[dev,\"shew\"].value_counts()\n",
    "y = list(set(x1.index.tolist()+ x2.index.tolist()))\n",
    "y.sort()\n",
    "\n",
    "x1 = x1.reindex(y).fillna(0).sort_index()\n",
    "x2 = x2.reindex(y).fillna(0).sort_index()\n",
    "\n",
    "\n",
    "fig, (ax1,ax2) = plt.subplots(ncols=2, sharey=True, figsize=(6,5))\n",
    "ax1.barh(y, x1, align='center', height=.2, color=\"blue\", alpha=0.5)\n",
    "ax2.barh(y, x2, align='center', height=.2, color=\"green\", alpha=0.5)\n",
    "\n",
    "\n",
    "\n",
    "ax1.set_xlim(0,30)\n",
    "ax2.set_ylim(0.1,1.1)\n",
    "\n",
    "ax1.invert_xaxis()\n",
    "#removes ticks \n",
    "# ax.xaxis.set_ticks_position('bottom')\n",
    "# ax.yaxis.set_ticks_position('left')\n",
    "\n",
    "\n",
    "ax2.set_xlabel(\"Number of\\n developing countries\")\n",
    "ax1.set_xlabel(\"Number of \\nhigh income countries\")\n",
    "\n",
    "\n",
    "# ax2.set_ylabel(\"Score on access to early warnings\")\n",
    "\n",
    "\n",
    "ax1.set_yticks([0.2,.4,.6,.8,1])\n",
    "ax1.set_yticklabels([\"   1\",\"   2\",\"   3\",\"   4\",\"   5\"]);\n",
    "\n",
    "spine_and_ticks(ax2)\n",
    "spine_and_ticks(ax1,reverted=True)\n",
    "\n",
    "\n",
    "plt.savefig(\"img/EarlyWarning_socres_pyramid.png\")\n",
    "plt.savefig(\"img/EarlyWarning_socres_pyramid.pdf\")"
   ]
  },
  {
   "cell_type": "markdown",
   "metadata": {},
   "source": [
    "## Country Ratings"
   ]
  },
  {
   "cell_type": "code",
   "execution_count": 19,
   "metadata": {
    "collapsed": false,
    "run_control": {
     "frozen": false,
     "read_only": false
    }
   },
   "outputs": [
    {
     "name": "stderr",
     "output_type": "stream",
     "text": [
      "C:\\Users\\WB451855\\OneDrive - WBG\\resilience_indicator_SIDS_git\\replace_with_warning.py:21: UserWarning: These entries were not found in the dictionary:\n",
      "European Union\n",
      "  warnings.warn(\"These entries were not found in the dictionary:\\n\"+joiner.join(series_in[are_missing].unique()))\n"
     ]
    },
    {
     "data": {
      "text/plain": [
       "(148, 14)"
      ]
     },
     "execution_count": 19,
     "metadata": {},
     "output_type": "execute_result"
    }
   ],
   "source": [
    "#Reads the data and check its not too old\n",
    "the_credit_rating_file =\"inputs/cred_rat.csv\"\n",
    "nb_weeks = (time.time()-os.stat(the_credit_rating_file).st_mtime )/(3600*24*7)\n",
    "if nb_weeks>3: \n",
    "    warnings.warn(\"Credit ratings are \"+str(int(nb_weeks))+\" weeks old. Get new ones at http://www.tradingeconomics.com/country-list/rating\")\n",
    "ratings_raw  =pd.read_csv(the_credit_rating_file,dtype=\"str\").dropna(how=\"all\")\n",
    "ratings_raw=ratings_raw.rename(columns={\"Unnamed: 0\": \"country_in_ratings\"})[[\"country_in_ratings\",\"S&P\",\"Moody's\",\"Fitch\"]]\n",
    "\n",
    "#The creidt rating sources calls DR Congo just Congo\n",
    "ratings_raw.country_in_ratings= ratings_raw.country_in_ratings.str.strip().replace([\"Congo\"],[\"Congo, Dem. Rep.\"])\n",
    "\n",
    "ratings_raw[\"country\"]= replace_with_warning(ratings_raw.country_in_ratings.apply(str.strip),any_to_wb)\n",
    "\n",
    "ratings_raw=ratings_raw.set_index(\"country\")\n",
    "\n",
    "def mystriper(string):\n",
    "    \"\"\"strip blanks and converts everythng to lower case\"\"\"\n",
    "    if type(string)==str:\n",
    "        return str.strip(string).lower()\n",
    "    else:\n",
    "        return string\n",
    "        \n",
    "#to lower case and strips blanks\n",
    "ratings_raw=ratings_raw.applymap(mystriper)    \n",
    "\n",
    "#Transforms ratings letters into 1-100 numbers\n",
    "rat_disc = pd.read_csv(\"inputs/cred_rat_dict.csv\")\n",
    "ratings=ratings_raw\n",
    "ratings[\"S&P\"].replace(rat_disc[\"s&p\"].values,rat_disc[\"s&p_score\"].values,inplace=True)\n",
    "ratings[\"Moody's\"].replace(rat_disc[\"moodys\"].values,rat_disc[\"moodys_score\"].values,inplace=True)\n",
    "ratings[\"Fitch\"].replace(rat_disc[\"fitch\"].values,rat_disc[\"fitch_score\"].values,inplace=True)\n",
    "ratings[\"rating\"]=ratings.mean(axis=1)/100\n",
    "\n",
    "df[\"rating\"] = ratings[\"rating\"]\n",
    "df[\"rating\"].fillna(0,inplace=True)  #assumes no rating is bad rating\n",
    "\n",
    "df.dropna().shape "
   ]
  },
  {
   "cell_type": "markdown",
   "metadata": {},
   "source": [
    "## ratings + HFA"
   ]
  },
  {
   "cell_type": "code",
   "execution_count": 20,
   "metadata": {
    "collapsed": true,
    "run_control": {
     "frozen": false,
     "read_only": false
    }
   },
   "outputs": [],
   "source": [
    "# Ability and willingness to improve transfers after the disaster\n",
    "df[\"borrow_abi\"]=(df[\"rating\"]+df[\"finance_pre\"])/2 "
   ]
  },
  {
   "cell_type": "markdown",
   "metadata": {},
   "source": [
    "## Capital data"
   ]
  },
  {
   "cell_type": "code",
   "execution_count": 22,
   "metadata": {
    "collapsed": false,
    "run_control": {
     "frozen": false,
     "read_only": false
    }
   },
   "outputs": [
    {
     "data": {
      "text/plain": [
       "(134, 16)"
      ]
     },
     "execution_count": 22,
     "metadata": {},
     "output_type": "execute_result"
    }
   ],
   "source": [
    "#data arranged from Penn tables\n",
    "k_data=pd.read_csv(\"inputs/capital_data.csv\", usecols=[\"code\",\"cgdpo\",\"ck\"]).replace({\"ROM\":\"ROU\",\"ZAR\":\"COD\"}).rename(columns={\"cgdpo\":\"prod_from_k\",\"ck\":\"k\"})#Zair is congo\n",
    "\n",
    "#matches names in the dataset with world bank country names\n",
    "iso_country = pd.read_csv(\"inputs/iso3_to_wb_name.csv\", index_col=\"iso3\")\n",
    "k_data.set_index(\"code\",inplace=True)\n",
    "k_data[\"country\"]=iso_country[\"country\"]\n",
    "cond = k_data[\"country\"].isnull()\n",
    "if cond.sum()>0:\n",
    "     warnings.warn(\"this countries appear to be missing from iso3_to_wb_name.csv: \"+\" , \".join(k_data.index[cond].values))\n",
    "k_data=k_data.reset_index().set_index(\"country\")\n",
    "\n",
    "# average productivity of capital\n",
    "df[\"avg_prod_k\"]=k_data[\"prod_from_k\"]/k_data[\"k\"]\n",
    "\n",
    "#capital held per person on average\n",
    "# df[\"k\"] = df[\"gdp_pc_pp\"]/df[\"avg_prod_k\"]\n",
    "\n",
    "#df.head()\n",
    "df.dropna().shape "
   ]
  },
  {
   "cell_type": "code",
   "execution_count": 23,
   "metadata": {
    "collapsed": false
   },
   "outputs": [
    {
     "data": {
      "text/plain": [
       "(146, 16)"
      ]
     },
     "execution_count": 23,
     "metadata": {},
     "output_type": "execute_result"
    }
   ],
   "source": [
    "#for SIDS, adding capital data from GAR\n",
    "sids_k = pd.read_csv(\"intermediate/avg_prod_k_with_gar_for_sids.csv\").rename(columns={\"Unnamed: 0\":\"country\"}).set_index(\"country\")\n",
    "df = df.fillna(sids_k)\n",
    "df.dropna().shape "
   ]
  },
  {
   "cell_type": "markdown",
   "metadata": {},
   "source": [
    "## Infrastructure stocks data (for SIDS only) "
   ]
  },
  {
   "cell_type": "code",
   "execution_count": 28,
   "metadata": {
    "collapsed": true
   },
   "outputs": [],
   "source": [
    "infra_stocks = pd.read_csv(\"inputs/sids_infra_stocks.csv\").rename(columns={\"Unnamed: 0\":\"country\"}).set_index(\"country\")"
   ]
  },
  {
   "cell_type": "code",
   "execution_count": 29,
   "metadata": {
    "collapsed": false
   },
   "outputs": [
    {
     "data": {
      "text/html": [
       "<div>\n",
       "<table border=\"1\" class=\"dataframe\">\n",
       "  <thead>\n",
       "    <tr style=\"text-align: right;\">\n",
       "      <th></th>\n",
       "      <th>transport_share</th>\n",
       "      <th>energy_share</th>\n",
       "      <th>building_share</th>\n",
       "      <th>water_share</th>\n",
       "      <th>building_residential_share</th>\n",
       "    </tr>\n",
       "    <tr>\n",
       "      <th>country</th>\n",
       "      <th></th>\n",
       "      <th></th>\n",
       "      <th></th>\n",
       "      <th></th>\n",
       "      <th></th>\n",
       "    </tr>\n",
       "  </thead>\n",
       "  <tbody>\n",
       "    <tr>\n",
       "      <th>Belize</th>\n",
       "      <td>0.234088</td>\n",
       "      <td>0.022987</td>\n",
       "      <td>0.430413</td>\n",
       "      <td>0.040543</td>\n",
       "      <td>0.500000</td>\n",
       "    </tr>\n",
       "    <tr>\n",
       "      <th>Fiji</th>\n",
       "      <td>0.130303</td>\n",
       "      <td>0.021108</td>\n",
       "      <td>0.284270</td>\n",
       "      <td>0.018071</td>\n",
       "      <td>0.629309</td>\n",
       "    </tr>\n",
       "    <tr>\n",
       "      <th>Haiti</th>\n",
       "      <td>0.072423</td>\n",
       "      <td>0.001663</td>\n",
       "      <td>0.197469</td>\n",
       "      <td>0.009452</td>\n",
       "      <td>0.500000</td>\n",
       "    </tr>\n",
       "    <tr>\n",
       "      <th>Jamaica</th>\n",
       "      <td>0.044061</td>\n",
       "      <td>0.006777</td>\n",
       "      <td>0.328970</td>\n",
       "      <td>0.036678</td>\n",
       "      <td>0.500000</td>\n",
       "    </tr>\n",
       "    <tr>\n",
       "      <th>Kiribati</th>\n",
       "      <td>0.502686</td>\n",
       "      <td>0.006517</td>\n",
       "      <td>0.438633</td>\n",
       "      <td>0.014161</td>\n",
       "      <td>0.500000</td>\n",
       "    </tr>\n",
       "    <tr>\n",
       "      <th>Papua New Guinea</th>\n",
       "      <td>0.107056</td>\n",
       "      <td>0.013646</td>\n",
       "      <td>0.202103</td>\n",
       "      <td>0.013100</td>\n",
       "      <td>0.500000</td>\n",
       "    </tr>\n",
       "    <tr>\n",
       "      <th>Solomon Islands</th>\n",
       "      <td>0.000000</td>\n",
       "      <td>0.006583</td>\n",
       "      <td>0.243633</td>\n",
       "      <td>0.011991</td>\n",
       "      <td>0.500000</td>\n",
       "    </tr>\n",
       "    <tr>\n",
       "      <th>Tonga</th>\n",
       "      <td>0.000000</td>\n",
       "      <td>0.009787</td>\n",
       "      <td>0.527292</td>\n",
       "      <td>0.020589</td>\n",
       "      <td>0.500000</td>\n",
       "    </tr>\n",
       "  </tbody>\n",
       "</table>\n",
       "</div>"
      ],
      "text/plain": [
       "                  transport_share  energy_share  building_share  water_share  \\\n",
       "country                                                                        \n",
       "Belize                   0.234088      0.022987        0.430413     0.040543   \n",
       "Fiji                     0.130303      0.021108        0.284270     0.018071   \n",
       "Haiti                    0.072423      0.001663        0.197469     0.009452   \n",
       "Jamaica                  0.044061      0.006777        0.328970     0.036678   \n",
       "Kiribati                 0.502686      0.006517        0.438633     0.014161   \n",
       "Papua New Guinea         0.107056      0.013646        0.202103     0.013100   \n",
       "Solomon Islands          0.000000      0.006583        0.243633     0.011991   \n",
       "Tonga                    0.000000      0.009787        0.527292     0.020589   \n",
       "\n",
       "                  building_residential_share  \n",
       "country                                       \n",
       "Belize                              0.500000  \n",
       "Fiji                                0.629309  \n",
       "Haiti                               0.500000  \n",
       "Jamaica                             0.500000  \n",
       "Kiribati                            0.500000  \n",
       "Papua New Guinea                    0.500000  \n",
       "Solomon Islands                     0.500000  \n",
       "Tonga                               0.500000  "
      ]
     },
     "execution_count": 29,
     "metadata": {},
     "output_type": "execute_result"
    }
   ],
   "source": [
    "infra_stocks"
   ]
  },
  {
   "cell_type": "code",
   "execution_count": 30,
   "metadata": {
    "collapsed": true
   },
   "outputs": [],
   "source": [
    "df[['transport_share', 'energy_share','building_share', 'water_share', 'building_residential_share']] = infra_stocks"
   ]
  },
  {
   "cell_type": "code",
   "execution_count": 32,
   "metadata": {
    "collapsed": false
   },
   "outputs": [
    {
     "data": {
      "text/plain": [
       "(8, 21)"
      ]
     },
     "execution_count": 32,
     "metadata": {},
     "output_type": "execute_result"
    }
   ],
   "source": [
    "df.dropna().shape "
   ]
  },
  {
   "cell_type": "markdown",
   "metadata": {},
   "source": [
    "## Report missing data for the national studies"
   ]
  },
  {
   "cell_type": "code",
   "execution_count": 731,
   "metadata": {
    "collapsed": false,
    "run_control": {
     "frozen": false,
     "read_only": false
    }
   },
   "outputs": [
    {
     "data": {
      "text/html": [
       "<div>\n",
       "<table border=\"1\" class=\"dataframe\">\n",
       "  <thead>\n",
       "    <tr style=\"text-align: right;\">\n",
       "      <th></th>\n",
       "      <th>nb_missing</th>\n",
       "      <th>missing_data</th>\n",
       "    </tr>\n",
       "    <tr>\n",
       "      <th>country</th>\n",
       "      <th></th>\n",
       "      <th></th>\n",
       "    </tr>\n",
       "  </thead>\n",
       "  <tbody>\n",
       "    <tr>\n",
       "      <th>Lebanon</th>\n",
       "      <td>1</td>\n",
       "      <td>share1</td>\n",
       "    </tr>\n",
       "    <tr>\n",
       "      <th>Hong Kong SAR, China</th>\n",
       "      <td>1</td>\n",
       "      <td>share1</td>\n",
       "    </tr>\n",
       "    <tr>\n",
       "      <th>Iraq</th>\n",
       "      <td>1</td>\n",
       "      <td>share1</td>\n",
       "    </tr>\n",
       "    <tr>\n",
       "      <th>Jordan</th>\n",
       "      <td>1</td>\n",
       "      <td>share1</td>\n",
       "    </tr>\n",
       "    <tr>\n",
       "      <th>Korea, Rep.</th>\n",
       "      <td>1</td>\n",
       "      <td>share1</td>\n",
       "    </tr>\n",
       "    <tr>\n",
       "      <th>Kuwait</th>\n",
       "      <td>1</td>\n",
       "      <td>share1</td>\n",
       "    </tr>\n",
       "    <tr>\n",
       "      <th>Malta</th>\n",
       "      <td>1</td>\n",
       "      <td>share1</td>\n",
       "    </tr>\n",
       "    <tr>\n",
       "      <th>New Zealand</th>\n",
       "      <td>1</td>\n",
       "      <td>share1</td>\n",
       "    </tr>\n",
       "    <tr>\n",
       "      <th>Nicaragua</th>\n",
       "      <td>1</td>\n",
       "      <td>avg_prod_k</td>\n",
       "    </tr>\n",
       "    <tr>\n",
       "      <th>Oman</th>\n",
       "      <td>1</td>\n",
       "      <td>share1</td>\n",
       "    </tr>\n",
       "    <tr>\n",
       "      <th>Qatar</th>\n",
       "      <td>1</td>\n",
       "      <td>share1</td>\n",
       "    </tr>\n",
       "    <tr>\n",
       "      <th>Saudi Arabia</th>\n",
       "      <td>1</td>\n",
       "      <td>share1</td>\n",
       "    </tr>\n",
       "    <tr>\n",
       "      <th>Singapore</th>\n",
       "      <td>1</td>\n",
       "      <td>share1</td>\n",
       "    </tr>\n",
       "    <tr>\n",
       "      <th>Syrian Arab Republic</th>\n",
       "      <td>1</td>\n",
       "      <td>share1</td>\n",
       "    </tr>\n",
       "    <tr>\n",
       "      <th>Trinidad and Tobago</th>\n",
       "      <td>1</td>\n",
       "      <td>share1</td>\n",
       "    </tr>\n",
       "  </tbody>\n",
       "</table>\n",
       "</div>"
      ],
      "text/plain": [
       "                      nb_missing missing_data\n",
       "country                                      \n",
       "Lebanon                        1       share1\n",
       "Hong Kong SAR, China           1       share1\n",
       "Iraq                           1       share1\n",
       "Jordan                         1       share1\n",
       "Korea, Rep.                    1       share1\n",
       "Kuwait                         1       share1\n",
       "Malta                          1       share1\n",
       "New Zealand                    1       share1\n",
       "Nicaragua                      1   avg_prod_k\n",
       "Oman                           1       share1\n",
       "Qatar                          1       share1\n",
       "Saudi Arabia                   1       share1\n",
       "Singapore                      1       share1\n",
       "Syrian Arab Republic           1       share1\n",
       "Trinidad and Tobago            1       share1"
      ]
     },
     "execution_count": 731,
     "metadata": {},
     "output_type": "execute_result"
    }
   ],
   "source": [
    "from report_tables import report_missing_data\n",
    "\n",
    "report = report_missing_data(df)\n",
    "report.to_csv(\"results/missing_data_report.csv\")\n",
    "\n",
    "report.head(n=15)"
   ]
  },
  {
   "cell_type": "code",
   "execution_count": 732,
   "metadata": {
    "collapsed": false
   },
   "outputs": [
    {
     "name": "stdout",
     "output_type": "stream",
     "text": [
      "It seems that we have macro data for 126 countries including 7 SIDS\n"
     ]
    }
   ],
   "source": [
    "print(\"It seems that we have macro data for {} countries including {} SIDS\".format(len(df)-len(report),len(df.loc[list(list_of_sids),:])-len(report.loc[list(list_of_sids),:].dropna())))"
   ]
  },
  {
   "cell_type": "code",
   "execution_count": 733,
   "metadata": {
    "collapsed": false
   },
   "outputs": [
    {
     "data": {
      "text/plain": [
       "['Anguilla',\n",
       " 'Virgin Islands, British',\n",
       " 'Cape Verde',\n",
       " 'Comoros',\n",
       " 'Dominican Republic',\n",
       " 'Jamaica',\n",
       " 'Mauritius']"
      ]
     },
     "execution_count": 733,
     "metadata": {},
     "output_type": "execute_result"
    }
   ],
   "source": [
    "[sids for sids in list_of_sids if sids not in list(report.loc[list(list_of_sids),:].dropna().reset_index().country)]"
   ]
  },
  {
   "cell_type": "code",
   "execution_count": 734,
   "metadata": {
    "collapsed": false
   },
   "outputs": [],
   "source": [
    "mdsids = report.loc[list(list_of_sids),:].dropna()"
   ]
  },
  {
   "cell_type": "code",
   "execution_count": 735,
   "metadata": {
    "collapsed": false
   },
   "outputs": [],
   "source": [
    "for missingdata in df.columns:\n",
    "    mdsids[missingdata] = [missingdata in [y.strip(' ') for y in x.split(\",\")] for x in mdsids.missing_data]"
   ]
  },
  {
   "cell_type": "code",
   "execution_count": 736,
   "metadata": {
    "collapsed": false
   },
   "outputs": [],
   "source": [
    "mdsids = mdsids.loc[:,(mdsids != 0).any(axis=0)]"
   ]
  },
  {
   "cell_type": "code",
   "execution_count": 737,
   "metadata": {
    "collapsed": true
   },
   "outputs": [],
   "source": [
    "mdsids.to_csv(\"results/missing_data_RI_SIDS.csv\")"
   ]
  },
  {
   "cell_type": "markdown",
   "metadata": {},
   "source": [
    "## manual parametrization"
   ]
  },
  {
   "cell_type": "code",
   "execution_count": 33,
   "metadata": {
    "collapsed": false,
    "run_control": {
     "frozen": false,
     "read_only": false
    }
   },
   "outputs": [],
   "source": [
    "\n",
    "#Reconstruction time\n",
    "df[\"T_rebuild_K\"] = 3\n",
    "\n",
    "# how much early warning reduces vulnerability\n",
    "df[\"pi\"] = 0.2\n",
    "\n",
    "#income elasticity\n",
    "df[\"income_elast\"] = 1.5\n",
    "\n",
    "#discount rate\n",
    "df[\"rho\"] = 6/100\n",
    "\n",
    "\n",
    "df[\"shareable\"]=0.8  #target of asset losses to be covered by scale up\n",
    "df[\"max_increased_spending\"] = 0.05 # 5% of GDP in post-disaster support maximum, if everything is ready      \n"
   ]
  },
  {
   "cell_type": "code",
   "execution_count": 34,
   "metadata": {
    "collapsed": false,
    "run_control": {
     "frozen": false,
     "read_only": false
    }
   },
   "outputs": [
    {
     "data": {
      "text/plain": [
       "(8, 27)"
      ]
     },
     "execution_count": 34,
     "metadata": {},
     "output_type": "execute_result"
    }
   ],
   "source": [
    "df.dropna().shape "
   ]
  },
  {
   "cell_type": "code",
   "execution_count": 35,
   "metadata": {
    "collapsed": false
   },
   "outputs": [],
   "source": [
    "macro_data_sids = df.loc[list(list_of_sids),:].dropna().reset_index().country.unique()"
   ]
  },
  {
   "cell_type": "code",
   "execution_count": 36,
   "metadata": {
    "collapsed": false
   },
   "outputs": [
    {
     "data": {
      "text/plain": [
       "array(['Belize', 'Fiji', 'Haiti', 'Jamaica', 'Kiribati',\n",
       "       'Papua New Guinea', 'Solomon Islands', 'Tonga'], dtype=object)"
      ]
     },
     "execution_count": 36,
     "metadata": {},
     "output_type": "execute_result"
    }
   ],
   "source": [
    "#SIDS with macro data\n",
    "macro_data_sids"
   ]
  },
  {
   "cell_type": "markdown",
   "metadata": {},
   "source": [
    "# Hazard data"
   ]
  },
  {
   "cell_type": "markdown",
   "metadata": {},
   "source": [
    "## Exposure from Glofris"
   ]
  },
  {
   "cell_type": "code",
   "execution_count": 37,
   "metadata": {
    "collapsed": false,
    "run_control": {
     "frozen": false,
     "read_only": false
    }
   },
   "outputs": [],
   "source": [
    "#Esposure data, by return peridd \n",
    "expo = pd.read_csv(\"inputs/exposure_econ_return_period.csv\",index_col=\"country\");\n",
    "\n",
    "df[\"fa_glofris\"]=fa=expo[\"100\"].replace(0, np.nan)\n",
    "\n",
    "##RETURN PERIOD INFORMATION\n",
    "\n",
    "fa_ratios = expo.div(fa,axis=0).dropna()\n",
    "\n",
    "fa_ratios.columns=fa_ratios.columns.map(float)\n",
    "fa_ratios.columns\n",
    "\n",
    "fa_ratios=fa_ratios.sort_index(axis=1)\n",
    "fa_ratios.to_csv(\"inputs/fa_ratios.csv\")\n",
    "\n",
    "fa_ratios.columns.name = \"rp\"\n",
    "\n",
    "fa_ratios.head()\n",
    "\n",
    "##MULTIHAZARD FA RATIOS\n",
    "fa_ratios =pd.concat((fa_ratios, fa_ratios/fa_ratios),\n",
    "     keys=[\"river\",\"bigriver\"], names=[\"hazard\",]).reset_index(\"hazard\").set_index(\"hazard\", append=True).sort_index()\n",
    "\n",
    "if less_ratios:\n",
    "    fa_ratios = fa_ratios[[5,10]]\n",
    "\n",
    "fa_ratios = fa_ratios.stack()\n",
    "\n",
    "fa_ratios.head()\n",
    "\n",
    "\n",
    "if use_GLOFRIS_flood:\n",
    "    df.fa  = df.fa_glofris"
   ]
  },
  {
   "cell_type": "code",
   "execution_count": 38,
   "metadata": {
    "collapsed": false
   },
   "outputs": [
    {
     "data": {
      "text/plain": [
       "array(['Belize', 'Fiji', 'Haiti', 'Jamaica', 'Papua New Guinea'], dtype=object)"
      ]
     },
     "execution_count": 38,
     "metadata": {},
     "output_type": "execute_result"
    }
   ],
   "source": [
    "#SIDS with Glofris data\n",
    "df.loc[list(list_of_sids),:].dropna().reset_index().country.unique()"
   ]
  },
  {
   "cell_type": "markdown",
   "metadata": {},
   "source": [
    "### exposure bias "
   ]
  },
  {
   "cell_type": "code",
   "execution_count": 39,
   "metadata": {
    "collapsed": false,
    "run_control": {
     "frozen": false,
     "read_only": false
    }
   },
   "outputs": [
    {
     "data": {
      "text/plain": [
       "country\n",
       "Zimbabwe             -1.000000\n",
       "Rwanda               -0.712465\n",
       "Mali                 -0.390000\n",
       "Niger                -0.390000\n",
       "Ethiopia             -0.330000\n",
       "Burkina Faso         -0.300000\n",
       "Sudan                -0.250094\n",
       "Cambodia             -0.250000\n",
       "Senegal              -0.250000\n",
       "Moldova              -0.198387\n",
       "Slovak Republic      -0.194074\n",
       "Madagascar           -0.160000\n",
       "Latvia               -0.159573\n",
       "Bulgaria             -0.156645\n",
       "Peru                 -0.147132\n",
       "Lao PDR              -0.131407\n",
       "Sri Lanka            -0.125768\n",
       "Mexico               -0.119635\n",
       "Lesotho              -0.110000\n",
       "Tanzania             -0.100000\n",
       "Bhutan               -0.095130\n",
       "Albania              -0.070835\n",
       "Vietnam              -0.068339\n",
       "Poland               -0.052037\n",
       "Fiji                 -0.051986\n",
       "Afghanistan          -0.047908\n",
       "Dominican Republic   -0.033771\n",
       "Nigeria              -0.031768\n",
       "Indonesia            -0.026308\n",
       "Cote d'Ivoire        -0.020000\n",
       "                        ...   \n",
       "Jordan                0.184274\n",
       "Kazakhstan            0.185753\n",
       "Hungary               0.191184\n",
       "Guinea                0.204417\n",
       "Mozambique            0.216924\n",
       "Venezuela, RB         0.218391\n",
       "Ecuador               0.231746\n",
       "Morocco               0.235590\n",
       "Iraq                  0.247183\n",
       "Nepal                 0.256567\n",
       "Colombia              0.279189\n",
       "Tunisia               0.281345\n",
       "Montenegro            0.304729\n",
       "El Salvador           0.319928\n",
       "Haiti                 0.331812\n",
       "Namibia               0.350000\n",
       "Cameroon              0.400956\n",
       "Guyana                0.420000\n",
       "Guatemala             0.490838\n",
       "West Bank and Gaza    0.610697\n",
       "Kenya                 0.645120\n",
       "Uganda                0.650000\n",
       "Congo, Dem. Rep.      0.661113\n",
       "Gambia, The           0.714031\n",
       "Gabon                 0.720000\n",
       "Benin                 0.840000\n",
       "Egypt, Arab Rep.      0.886586\n",
       "Zambia                0.940888\n",
       "Angola                1.820000\n",
       "Panama                1.913501\n",
       "Name: pe, dtype: float64"
      ]
     },
     "execution_count": 39,
     "metadata": {},
     "output_type": "execute_result"
    }
   ],
   "source": [
    "\n",
    "def wavg(data,weights):\n",
    "    #nan aware weighted average\n",
    "    df_matched =pd.DataFrame({\"data\":data,\"weights\":weights}).dropna()\n",
    "    return (df_matched.data*df_matched.weights).sum()/df_matched.weights.sum()\n",
    "\n",
    "#Exposure bias from WB povmaps study\n",
    "data = pd.read_excel(\"inputs/PEB_flood_povmaps.xlsx\")[[\"iso\",\"peb\"]].dropna()\n",
    "df[\"pe\"] = data.set_index(data.iso.replace(iso3_to_wb)).peb-1\n",
    "\n",
    "\n",
    "#Exposure bias from older WB DELTARES study\n",
    "PEB_wb_deltares_older = pd.read_csv(\"inputs/PEB_wb_deltares.csv\",skiprows=[0,1,2],usecols=[\"Country\",\"Nation-wide\"])\n",
    "PEB_wb_deltares_older[\"country\"] = replace_with_warning(PEB_wb_deltares_older[\"Country\"],any_to_wb)\n",
    "\n",
    "df[\"peb1\"]=df[\"pe\"]\n",
    "df[\"peb2\"]=PEB_wb_deltares_older.set_index(\"country\").drop([\"Country\"],axis=1)\n",
    "\n",
    "#Completes with bias from previous study when pov maps not available\n",
    "df[\"pe\"]=df[\"pe\"].fillna(PEB_wb_deltares_older.set_index(\"country\").drop([\"Country\"],axis=1).squeeze())\n",
    "\n",
    "if use_avg_pe:\n",
    "    df[\"pe\"]=df[\"pe\"].fillna(wavg(df[\"pe\"],df[\"pop\"]))\n",
    "else:\n",
    "    df[\"pe\"].fillna(0)\n",
    "    \n",
    "#pops pe out of df\n",
    "pe = df.pop(\"pe\")\n",
    "\n",
    "pe.ix[\"Finland\"];\n",
    "pe.head()\n",
    "\n",
    "pe.sort_values(ascending=False)\n",
    "\n",
    "# (100*pe).hist(bins=50)\n",
    "pe.sort_values()"
   ]
  },
  {
   "cell_type": "code",
   "execution_count": 40,
   "metadata": {
    "collapsed": false
   },
   "outputs": [
    {
     "data": {
      "text/plain": [
       "Index(['gdp_pc_pp', 'pop', 'share1', 'urbanization_rate', 'gdp_pc_cd',\n",
       "       'axfin_p', 'axfin_r', 'social_p', 'social_r', 'pov_head', 'shew',\n",
       "       'prepare_scaleup', 'finance_pre', 'rating', 'borrow_abi', 'avg_prod_k',\n",
       "       'transport_share', 'energy_share', 'building_share', 'water_share',\n",
       "       'building_residential_share', 'T_rebuild_K', 'pi', 'income_elast',\n",
       "       'rho', 'shareable', 'max_increased_spending', 'fa_glofris', 'peb1',\n",
       "       'peb2'],\n",
       "      dtype='object')"
      ]
     },
     "execution_count": 40,
     "metadata": {},
     "output_type": "execute_result"
    }
   ],
   "source": [
    "df.columns"
   ]
  },
  {
   "cell_type": "code",
   "execution_count": 41,
   "metadata": {
    "collapsed": false
   },
   "outputs": [
    {
     "data": {
      "text/plain": [
       "(5, 28)"
      ]
     },
     "execution_count": 41,
     "metadata": {},
     "output_type": "execute_result"
    }
   ],
   "source": [
    "df.drop(['peb1', 'peb2'],axis=1).dropna().shape "
   ]
  },
  {
   "cell_type": "code",
   "execution_count": 42,
   "metadata": {
    "collapsed": false
   },
   "outputs": [
    {
     "data": {
      "text/plain": [
       "array(['Belize', 'Fiji', 'Haiti', 'Jamaica', 'Papua New Guinea'], dtype=object)"
      ]
     },
     "execution_count": 42,
     "metadata": {},
     "output_type": "execute_result"
    }
   ],
   "source": [
    "#SIDS with Glofris data and pe data\n",
    "df.loc[list(list_of_sids),:].drop(['peb1', 'peb2'],axis=1).dropna().reset_index().country.unique()"
   ]
  },
  {
   "cell_type": "code",
   "execution_count": 43,
   "metadata": {
    "collapsed": false,
    "run_control": {
     "frozen": false,
     "read_only": false
    }
   },
   "outputs": [
    {
     "data": {
      "text/html": [
       "<div>\n",
       "<table border=\"1\" class=\"dataframe\">\n",
       "  <thead>\n",
       "    <tr style=\"text-align: right;\">\n",
       "      <th></th>\n",
       "      <th>peb1</th>\n",
       "      <th>peb2</th>\n",
       "    </tr>\n",
       "  </thead>\n",
       "  <tbody>\n",
       "    <tr>\n",
       "      <th>peb1</th>\n",
       "      <td>1.000000</td>\n",
       "      <td>0.419643</td>\n",
       "    </tr>\n",
       "    <tr>\n",
       "      <th>peb2</th>\n",
       "      <td>0.419643</td>\n",
       "      <td>1.000000</td>\n",
       "    </tr>\n",
       "  </tbody>\n",
       "</table>\n",
       "</div>"
      ],
      "text/plain": [
       "          peb1      peb2\n",
       "peb1  1.000000  0.419643\n",
       "peb2  0.419643  1.000000"
      ]
     },
     "execution_count": 43,
     "metadata": {},
     "output_type": "execute_result"
    }
   ],
   "source": [
    "df[[\"peb1\",\"peb2\"]].dropna().corr()"
   ]
  },
  {
   "cell_type": "code",
   "execution_count": 44,
   "metadata": {
    "collapsed": false,
    "run_control": {
     "frozen": false,
     "read_only": false
    }
   },
   "outputs": [
    {
     "data": {
      "text/plain": [
       "<matplotlib.collections.PathCollection at 0x27196393470>"
      ]
     },
     "execution_count": 44,
     "metadata": {},
     "output_type": "execute_result"
    },
    {
     "data": {
      "image/png": "[encoded data removed]",
      "text/plain": [
       "<matplotlib.figure.Figure at 0x271952d0e10>"
      ]
     },
     "metadata": {},
     "output_type": "display_data"
    }
   ],
   "source": [
    "todraw = df[[\"peb1\",\"peb2\"]].dropna()\n",
    "plt.scatter(todraw.peb1,todraw.peb2)"
   ]
  },
  {
   "cell_type": "code",
   "execution_count": 45,
   "metadata": {
    "collapsed": false,
    "run_control": {
     "frozen": false,
     "read_only": false
    }
   },
   "outputs": [
    {
     "data": {
      "text/plain": [
       "0.56666666666666665"
      ]
     },
     "execution_count": 45,
     "metadata": {},
     "output_type": "execute_result"
    }
   ],
   "source": [
    "((todraw.peb1*todraw.peb2>0)).sum()/((todraw.peb1*todraw.peb2>0)).count()\n"
   ]
  },
  {
   "cell_type": "markdown",
   "metadata": {},
   "source": [
    "## Old PAGER method"
   ]
  },
  {
   "cell_type": "code",
   "execution_count": 46,
   "metadata": {
    "collapsed": false,
    "run_control": {
     "frozen": false,
     "read_only": false
    }
   },
   "outputs": [
    {
     "name": "stderr",
     "output_type": "stream",
     "text": [
      "C:\\Users\\WB451855\\OneDrive - WBG\\resilience_indicator_SIDS_git\\replace_with_warning.py:21: UserWarning: These entries were not found in the dictionary:\n",
      "ALA, ATA, BES, BVT, IOT, CXR, CCK, FLK, GUF, ATF, GIB, GLP, GGY, HMD, VAT, JEY, MTQ, MYT, MSR, NFK, PCN, REU, BLM, SHN, SPM, SGS, SJM, TKL, UMI, WLF, ESH\n",
      "  warnings.warn(\"These entries were not found in the dictionary:\\n\"+joiner.join(series_in[are_missing].unique()))\n"
     ]
    },
    {
     "data": {
      "text/plain": [
       "0.25500000000000006"
      ]
     },
     "execution_count": 46,
     "metadata": {},
     "output_type": "execute_result"
    }
   ],
   "source": [
    "pager=pd.read_csv(\"inputs/pager_vulnerabilities.csv\",\n",
    "                  usecols=[\"ISO-3digit\",\"R_1\",\"R_2\",\"R_3\",\"VV_1\",\"VV_2\",\"VV_3\"],\n",
    "                  )\n",
    "pager= pager.set_index(replace_with_warning(pager[\"ISO-3digit\"], iso3_to_wb))\n",
    "\n",
    "#keeps only the lines for which we have a WB country\n",
    "pager = pager[pager.index.isin(iso3_to_wb)]\n",
    "\n",
    "#sorts vulnerabilites according to income\n",
    "share =pager[[\"R_1\",\"R_2\",\"R_3\"]]\n",
    "damrat=pager[[\"VV_1\",\"VV_2\",\"VV_3\"]]\n",
    "\n",
    "damrat.columns=[\"R_1\",\"R_2\",\"R_3\"]\n",
    "p=(share.cumsum(axis=1).T.add(-df[\"pov_head\"]).T).clip(lower=0)\n",
    "poor=(share-p).clip(lower=0)\n",
    "\n",
    "vp_old=(poor*damrat).sum(axis=1)/poor.sum(axis=1)\n",
    "rich=share-poor\n",
    "\n",
    "# df[\"vr\"]\n",
    "vr_old=(rich*damrat).sum(axis=1)/rich.sum(axis=1)\n",
    "\n",
    "vp_old.ix[\"Lao PDR\"]\n"
   ]
  },
  {
   "cell_type": "markdown",
   "metadata": {},
   "source": [
    "## Vulnerability from USGS PAGER"
   ]
  },
  {
   "cell_type": "markdown",
   "metadata": {},
   "source": [
    "### Pager data"
   ]
  },
  {
   "cell_type": "code",
   "execution_count": 47,
   "metadata": {
    "collapsed": false,
    "run_control": {
     "frozen": false,
     "read_only": false
    }
   },
   "outputs": [
    {
     "data": {
      "text/plain": [
       "pager_description\n",
       "Adobe blocks (unbaked sundried mud block) walls                              fragile\n",
       "Adobe block, mud mortar, wood roof and floors                                fragile\n",
       "Adobe block, mud mortar, bamboo, straw, and thatch roof                      fragile\n",
       "Adobe block, straw, and thatch roof cement-sand mortar                       fragile\n",
       "Adobe block, mud mortar, reinforced concrete bond beam, cane and mud roof    fragile\n",
       "Name: aggregate_category, dtype: object"
      ]
     },
     "execution_count": 47,
     "metadata": {},
     "output_type": "execute_result"
    }
   ],
   "source": [
    "pager_description_to_aggregate_category = pd.read_csv(\"inputs/pager_description_to_aggregate_category.csv\", index_col=\"pager_description\", squeeze=True)\n",
    "pager_description_to_aggregate_category.head()"
   ]
  },
  {
   "cell_type": "code",
   "execution_count": 48,
   "metadata": {
    "collapsed": false,
    "run_control": {
     "frozen": false,
     "read_only": false
    }
   },
   "outputs": [
    {
     "data": {
      "text/plain": [
       "['Release_Notes', 'Rural_Non_Res', 'Urban_Non_Res', 'Rural_Res', 'Urban_Res']"
      ]
     },
     "execution_count": 48,
     "metadata": {},
     "output_type": "execute_result"
    }
   ],
   "source": [
    "PAGER_XL = pd.ExcelFile(\"inputs/PAGER_Inventory_database_v2.0.xls\")\n",
    "PAGER_XL.sheet_names"
   ]
  },
  {
   "cell_type": "code",
   "execution_count": 49,
   "metadata": {
    "collapsed": false,
    "run_control": {
     "frozen": false,
     "read_only": false
    }
   },
   "outputs": [
    {
     "data": {
      "text/html": [
       "<div>\n",
       "<table border=\"1\" class=\"dataframe\">\n",
       "  <thead>\n",
       "    <tr style=\"text-align: right;\">\n",
       "      <th></th>\n",
       "      <th>Description</th>\n",
       "    </tr>\n",
       "    <tr>\n",
       "      <th>PAGER-STR</th>\n",
       "      <th></th>\n",
       "    </tr>\n",
       "  </thead>\n",
       "  <tbody>\n",
       "    <tr>\n",
       "      <th>W</th>\n",
       "      <td>Wood</td>\n",
       "    </tr>\n",
       "    <tr>\n",
       "      <th>W1</th>\n",
       "      <td>Wood stud-wall frame with plywood/gypsum board...</td>\n",
       "    </tr>\n",
       "    <tr>\n",
       "      <th>W2</th>\n",
       "      <td>Wood frame, heavy members (with area &gt; 5000 sq...</td>\n",
       "    </tr>\n",
       "    <tr>\n",
       "      <th>W3</th>\n",
       "      <td>Wood light unbraced post and beam frame</td>\n",
       "    </tr>\n",
       "    <tr>\n",
       "      <th>W4</th>\n",
       "      <td>Wood panel or log construction</td>\n",
       "    </tr>\n",
       "  </tbody>\n",
       "</table>\n",
       "</div>"
      ],
      "text/plain": [
       "                                                 Description\n",
       "PAGER-STR                                                   \n",
       "W                                                       Wood\n",
       "W1         Wood stud-wall frame with plywood/gypsum board...\n",
       "W2         Wood frame, heavy members (with area > 5000 sq...\n",
       "W3                   Wood light unbraced post and beam frame\n",
       "W4                            Wood panel or log construction"
      ]
     },
     "execution_count": 49,
     "metadata": {},
     "output_type": "execute_result"
    }
   ],
   "source": [
    "pager_desc_to_code = pd.read_excel(PAGER_XL,sheetname=\"Release_Notes\", parse_cols=\"B:C\", skiprows=56).dropna().squeeze()\n",
    "pager_desc_to_code.head()\n",
    "\n",
    "#removes spaces and dots from PAGER description\n",
    "pager_desc_to_code.Description = pager_desc_to_code.Description.str.strip(\". \")\n",
    "\n",
    "#replace double spaces with single spaces\n",
    "pager_desc_to_code.Description = pager_desc_to_code.Description.str.replace(\"  \",\" \")\n",
    "\n",
    "pager_desc_to_code = pager_desc_to_code.set_index(\"PAGER-STR\")\n",
    "pager_desc_to_code.head()"
   ]
  },
  {
   "cell_type": "code",
   "execution_count": 50,
   "metadata": {
    "collapsed": false,
    "run_control": {
     "frozen": false,
     "read_only": false
    }
   },
   "outputs": [
    {
     "data": {
      "text/plain": [
       "PAGER-STR\n",
       "W      median\n",
       "W1     median\n",
       "W2     median\n",
       "W3    fragile\n",
       "W4    fragile\n",
       "Name: Description, dtype: object"
      ]
     },
     "execution_count": 50,
     "metadata": {},
     "output_type": "execute_result"
    }
   ],
   "source": [
    "pager_code_to_aggcat = replace_with_warning( pager_desc_to_code.Description, pager_description_to_aggregate_category, joiner=\"\\n\")\n",
    "pager_code_to_aggcat.head()"
   ]
  },
  {
   "cell_type": "markdown",
   "metadata": {},
   "source": [
    "#### total share of each category of building per country"
   ]
  },
  {
   "cell_type": "code",
   "execution_count": 51,
   "metadata": {
    "collapsed": false,
    "run_control": {
     "frozen": false,
     "read_only": false
    }
   },
   "outputs": [
    {
     "data": {
      "text/html": [
       "<div>\n",
       "<table border=\"1\" class=\"dataframe\">\n",
       "  <thead>\n",
       "    <tr style=\"text-align: right;\">\n",
       "      <th></th>\n",
       "      <th>fragile</th>\n",
       "      <th>median</th>\n",
       "      <th>robust</th>\n",
       "    </tr>\n",
       "    <tr>\n",
       "      <th>country</th>\n",
       "      <th></th>\n",
       "      <th></th>\n",
       "      <th></th>\n",
       "    </tr>\n",
       "  </thead>\n",
       "  <tbody>\n",
       "    <tr>\n",
       "      <th>Tunisia</th>\n",
       "      <td>0.154601</td>\n",
       "      <td>0.000000</td>\n",
       "      <td>0.845399</td>\n",
       "    </tr>\n",
       "    <tr>\n",
       "      <th>Austria</th>\n",
       "      <td>0.135000</td>\n",
       "      <td>0.623000</td>\n",
       "      <td>0.242000</td>\n",
       "    </tr>\n",
       "    <tr>\n",
       "      <th>Guinea</th>\n",
       "      <td>0.980000</td>\n",
       "      <td>0.000000</td>\n",
       "      <td>0.020000</td>\n",
       "    </tr>\n",
       "    <tr>\n",
       "      <th>Nepal</th>\n",
       "      <td>0.407010</td>\n",
       "      <td>0.572095</td>\n",
       "      <td>0.020894</td>\n",
       "    </tr>\n",
       "    <tr>\n",
       "      <th>Iran, Islamic Rep.</th>\n",
       "      <td>0.201968</td>\n",
       "      <td>0.681422</td>\n",
       "      <td>0.116610</td>\n",
       "    </tr>\n",
       "  </tbody>\n",
       "</table>\n",
       "</div>"
      ],
      "text/plain": [
       "                     fragile    median    robust\n",
       "country                                         \n",
       "Tunisia             0.154601  0.000000  0.845399\n",
       "Austria             0.135000  0.623000  0.242000\n",
       "Guinea              0.980000  0.000000  0.020000\n",
       "Nepal               0.407010  0.572095  0.020894\n",
       "Iran, Islamic Rep.  0.201968  0.681422  0.116610"
      ]
     },
     "execution_count": 51,
     "metadata": {},
     "output_type": "execute_result"
    }
   ],
   "source": [
    "\n",
    "#gets share per agg category from the data in one of the sheets in PAGER_XL\n",
    "def get_share_from_sheet(sheetname='Rural_Non_Res'):\n",
    "    data = pd.read_excel(PAGER_XL,sheetname=sheetname).set_index(\"ISO-3digit\") #data as provided in PAGER\n",
    "    #rename column to aggregate category\n",
    "    data_agg =    data[pager_code_to_aggcat.index].rename(columns = pager_code_to_aggcat)\n",
    "    data_agg.head()\n",
    "    #group by category and sum\n",
    "    data_agg= data_agg.sum(level=0,axis=1)\n",
    "\n",
    "    #PAGER ISO3 to WB name\n",
    "    \n",
    "    # return data_agg.set_index(replace_with_warning(data_agg.reset_index()[\"ISO-3digit\"],iso3_to_wb, joiner=\"','\")); \n",
    "    # print(\"data ignored from USPAGER for this places: \"+\", \".join(data.ix[['ALA','ATA','BES','BVT','IOT','CXR','CCK','FLK','GUF','ATF','GIB','GLP','GGY','HMD','VAT','JEY','MTQ','MYT','MSR','NFK','PCN','REU','BLM','SHN','SPM','SGS','SJM','TKL','UMI','WLF','ESH','XFF'], \"Country Name\"]))\n",
    "\n",
    "    data_agg = data_agg.set_index(data_agg.reset_index()[\"ISO-3digit\"].replace(iso3_to_wb));\n",
    "    \n",
    "    data_agg.index.name=\"country\"\n",
    "    return data_agg[data_agg.index.isin(iso3_to_wb)] #keeps only countries\n",
    "    \n",
    "\n",
    "rural_share= .5* get_share_from_sheet(sheetname='Rural_Non_Res')+.5*get_share_from_sheet(sheetname='Rural_Res')\n",
    "urban_sare = .5* get_share_from_sheet(sheetname='Urban_Non_Res')+.5*get_share_from_sheet(sheetname='Urban_Res')\n",
    "\n",
    "\n",
    "share = (rural_share.stack()*(1-df.urbanization_rate) + urban_sare.stack()*df.urbanization_rate).unstack().dropna()\n",
    "\n",
    "share=  share[share.index.isin(iso3_to_wb)] \n",
    "\n",
    "share.sample(n=5)\n"
   ]
  },
  {
   "cell_type": "markdown",
   "metadata": {},
   "source": [
    "#### sorts people in buildings according to income"
   ]
  },
  {
   "cell_type": "code",
   "execution_count": 52,
   "metadata": {
    "collapsed": false,
    "run_control": {
     "frozen": false,
     "read_only": false
    },
    "scrolled": true
   },
   "outputs": [
    {
     "data": {
      "text/plain": [
       "aggregate_category\n",
       "fragile    0.7\n",
       "median     0.3\n",
       "robust     0.1\n",
       "Name: vulnerability, dtype: float64"
      ]
     },
     "execution_count": 52,
     "metadata": {},
     "output_type": "execute_result"
    }
   ],
   "source": [
    "agg_cat_to_v = pd.read_csv(\"inputs/aggregate_category_to_vulnerability.csv\", sep=\";\", index_col=\"aggregate_category\", squeeze=True)\n",
    "agg_cat_to_v.head()"
   ]
  },
  {
   "cell_type": "code",
   "execution_count": 53,
   "metadata": {
    "collapsed": false,
    "run_control": {
     "frozen": false,
     "read_only": false
    }
   },
   "outputs": [],
   "source": [
    "#sorts roof types according to income\n",
    "p=(share.cumsum(axis=1).add(-df[\"pov_head\"],axis=0)).clip(lower=0)\n",
    "poor=(share-p).clip(lower=0)\n",
    "poor.head()\n",
    "\n",
    "rich=share-poor\n",
    "rich.head()\n",
    "\n",
    "#averages vulnerability accross roof type\n",
    "vp_unshaved=((poor*agg_cat_to_v).sum(axis=1, skipna=False)/df[\"pov_head\"] )\n",
    "vr_unshaved=(rich*agg_cat_to_v).sum(axis=1, skipna=False)/(1-df[\"pov_head\"])"
   ]
  },
  {
   "cell_type": "markdown",
   "metadata": {},
   "source": [
    "## Comparing methods"
   ]
  },
  {
   "cell_type": "code",
   "execution_count": 54,
   "metadata": {
    "collapsed": false,
    "run_control": {
     "frozen": false,
     "read_only": false
    }
   },
   "outputs": [
    {
     "data": {
      "text/plain": [
       "(0, 0.72726880294999108)"
      ]
     },
     "execution_count": 54,
     "metadata": {},
     "output_type": "execute_result"
    },
    {
     "data": {
      "image/png": "[encoded data removed]",
      "text/plain": [
       "<matplotlib.figure.Figure at 0x271964e1550>"
      ]
     },
     "metadata": {},
     "output_type": "display_data"
    },
    {
     "data": {
      "image/png": "[encoded data removed]",
      "text/plain": [
       "<matplotlib.figure.Figure at 0x271964e13c8>"
      ]
     },
     "metadata": {},
     "output_type": "display_data"
    }
   ],
   "source": [
    "vp_old.hist(alpha=.5)\n",
    "vp_unshaved.hist(alpha=.5)\n",
    "plt.legend([\"old vp\", \"new_vp\"])\n",
    "plt.savefig(\"img/old_new_vp\")\n",
    "plt.xlim(0)\n",
    "\n",
    "plt.figure()\n",
    "vr_old.hist(alpha=.5)\n",
    "vr_unshaved.hist(alpha=.5)\n",
    "plt.legend([\"old vr\", \"new_vr\"])\n",
    "plt.savefig(\"img/old_new_vp\")\n",
    "plt.xlim(0)"
   ]
  },
  {
   "cell_type": "code",
   "execution_count": 55,
   "metadata": {
    "collapsed": false,
    "run_control": {
     "frozen": false,
     "read_only": false
    }
   },
   "outputs": [
    {
     "data": {
      "image/png": "[encoded data removed]",
      "text/plain": [
       "<matplotlib.figure.Figure at 0x271967fe588>"
      ]
     },
     "metadata": {},
     "output_type": "display_data"
    }
   ],
   "source": [
    "plt.figure(figsize=(6,5))\n",
    "p = (poor.T*df[\"pop\"]).T.sum()/1e9\n",
    "p= p.rename(index=lambda s:s.capitalize())\n",
    "\n",
    "r=(rich.T*df[\"pop\"]).T.sum()/1e9\n",
    "r=r.rename(index={\"R_1\":\"Fragile\", \"R_2\":\"Median\", \"R_3\":\"Robust\"})\n",
    "\n",
    "\n",
    "r.plot.bar(color=\"blue\", alpha=0.5, bottom=p  )\n",
    "ax=p.plot.bar(color=\"green\", alpha=0.5)\n",
    "\n",
    "plt.legend([\"Nonpoor\",\"Poor\"], prop=font, frameon=False)\n",
    "\n",
    "plt.ylabel(\"Number of people (billions)\")\n",
    "\n",
    "spine_and_ticks(ax, thousands=False)\n",
    "ax.set_yticks([0,1,2,3,4]);\n",
    "\n",
    "\n",
    "plt.savefig(\"img/building_robustness\")\n"
   ]
  },
  {
   "cell_type": "code",
   "execution_count": 56,
   "metadata": {
    "collapsed": false,
    "run_control": {
     "frozen": false,
     "read_only": false
    },
    "scrolled": true
   },
   "outputs": [
    {
     "name": "stdout",
     "output_type": "stream",
     "text": [
      "Over the 207 countries for which we have data, poor people are 1.8 times more likely than nonpoor people to use the fragile category of assets\n"
     ]
    }
   ],
   "source": [
    "x=(rich.T*df[\"pop\"]).T.sum()\n",
    "rs=(x.fragile/x.sum())\n",
    "\n",
    "\n",
    "x=(poor.T*df[\"pop\"]).T.sum()\n",
    "ps=x.fragile/x.sum()\n",
    "\n",
    "print('Over the {n} countries for which we have data, poor people are {x:.1f} times more likely than nonpoor people to use the fragile category of assets'.format(\n",
    "        x=ps/rs, n=(rich.T*df[\"pop\"]).T.dropna().shape[0]))"
   ]
  },
  {
   "cell_type": "markdown",
   "metadata": {},
   "source": [
    "## Exposure from GAR data and v"
   ]
  },
  {
   "cell_type": "markdown",
   "metadata": {
    "collapsed": false,
    "run_control": {
     "frozen": false,
     "read_only": false
    }
   },
   "source": [
    "\n",
    "#Fraction of value destroyed\n",
    "frac_value_destroyed_gar = pd.read_csv(\"intermediate/frac_value_destroyed_gar_completed.csv\", index_col=[\"country\", \"hazard\", \"rp\"]\n",
    "                                       , squeeze=True);#Generated by pre_process\\ GAR.ipynb\n",
    "\n",
    "frac_value_destroyed_gar.dropna().unstack(\"country\").shape\n",
    "\n",
    "frac_value_destroyed_gar.to_csv(\"intermediate/frac_value_destroyed_gar.csv\", encoding=\"utf-8\", header=True)\n",
    "\n",
    "frac_value_destroyed_gar.head()"
   ]
  },
  {
   "cell_type": "code",
   "execution_count": 57,
   "metadata": {
    "collapsed": false
   },
   "outputs": [
    {
     "data": {
      "text/plain": [
       "country      hazard      rp   \n",
       "Afghanistan  earthquake  20.0     0.005281\n",
       "                         50.0     0.010593\n",
       "                         100.0    0.017190\n",
       "                         250.0    0.029919\n",
       "                         500.0    0.042953\n",
       "Name: 0, dtype: float64"
      ]
     },
     "execution_count": 57,
     "metadata": {},
     "output_type": "execute_result"
    }
   ],
   "source": [
    "#Fraction of value destroyed\n",
    "frac_value_destroyed_gar = pd.read_csv(\"intermediate/frac_value_destroyed_gar.csv\", index_col=[\"country\", \"hazard\", \"rp\"], squeeze=True)\n",
    "frac_value_destroyed_gar.dropna().unstack(\"country\").shape\n",
    "\n",
    "frac_value_destroyed_gar.head()"
   ]
  },
  {
   "cell_type": "code",
   "execution_count": 58,
   "metadata": {
    "collapsed": false,
    "run_control": {
     "frozen": false,
     "read_only": false
    }
   },
   "outputs": [],
   "source": [
    "if False:\n",
    "    df[\"Kus\"] = df.gdp_pc_pp * df[\"pop\"]/ df.avg_prod_k\n",
    "    df[\"Kgar\"]=ev_gar.median(level=\"country\")*1e6\n",
    "\n",
    "    df.plot.scatter(x=\"Kgar\",y=\"Kus\", figsize=(6,6))\n",
    "    plt.xlim(0,8e13)\n",
    "    plt.ylim(0,8e13)"
   ]
  },
  {
   "cell_type": "code",
   "execution_count": 59,
   "metadata": {
    "collapsed": false,
    "run_control": {
     "frozen": false,
     "read_only": false
    }
   },
   "outputs": [
    {
     "name": "stdout",
     "output_type": "stream",
     "text": [
      "(35, 153)\n",
      "Antigua and Barbuda 3.51258506338 hazard      rp    \n",
      "earthquake  1500.0    0.929965\n",
      "surge       250.0     1.210815\n",
      "            500.0     1.376455\n",
      "            1000.0    1.601739\n",
      "            1500.0    1.639110\n",
      "wind        50.0      2.236851\n",
      "            100.0     2.791841\n",
      "            250.0     3.161327\n",
      "Name: fa, dtype: float64\n",
      "Belize 1.3195789106 hazard  rp    \n",
      "wind    500.0     0.937362\n",
      "        1000.0    1.062846\n",
      "        1500.0    1.187621\n",
      "Name: fa, dtype: float64\n",
      "Dominica 2.34405600077 hazard      rp    \n",
      "earthquake  500.0     0.918086\n",
      "            1000.0    1.130460\n",
      "            1500.0    1.239643\n",
      "surge       100.0     0.915783\n",
      "            250.0     1.321368\n",
      "            500.0     1.366585\n",
      "            1000.0    1.457001\n",
      "            1500.0    1.547398\n",
      "wind        100.0     0.950096\n",
      "            250.0     1.812600\n",
      "            500.0     2.074888\n",
      "            1000.0    2.092269\n",
      "            1500.0    2.109650\n",
      "Name: fa, dtype: float64\n",
      "Haiti 2.33230362639 hazard      rp    \n",
      "earthquake  250.0     1.075739\n",
      "            500.0     1.449058\n",
      "            1000.0    1.833106\n",
      "            1500.0    2.099073\n",
      "wind        1000.0    0.999421\n",
      "            1500.0    1.077653\n",
      "Name: fa, dtype: float64\n",
      "St. Lucia 1.61516868664 hazard  rp    \n",
      "surge   500.0     0.906250\n",
      "        1000.0    1.077036\n",
      "        1500.0    1.099688\n",
      "wind    250.0     0.994156\n",
      "        500.0     1.242896\n",
      "        1000.0    1.348274\n",
      "        1500.0    1.453652\n",
      "Name: fa, dtype: float64\n",
      "St. Vincent and the Grenadines 1.02698684324 hazard  rp    \n",
      "surge   1500.0    0.924288\n",
      "Name: fa, dtype: float64\n",
      "Tonga 1.69052596162 hazard  rp    \n",
      "wind    100.0     1.042901\n",
      "        250.0     1.260038\n",
      "        500.0     1.464312\n",
      "        1000.0    1.492880\n",
      "        1500.0    1.521473\n",
      "Name: fa, dtype: float64\n",
      "Trinidad and Tobago 1.45270192163 hazard      rp    \n",
      "earthquake  500.0     0.989938\n",
      "            1000.0    1.227120\n",
      "            1500.0    1.307432\n",
      "Name: fa, dtype: float64\n",
      "Vanuatu 1.0925278172 hazard  rp    \n",
      "wind    1000.0    0.920456\n",
      "        1500.0    0.983275\n",
      "Name: fa, dtype: float64\n",
      "check\n"
     ]
    },
    {
     "data": {
      "text/plain": [
       "(country\n",
       " Antigua and Barbuda               0.990000\n",
       " Belize                            0.614924\n",
       " Dominica                          0.942311\n",
       " Haiti                             0.990000\n",
       " St. Lucia                         0.497472\n",
       " St. Vincent and the Grenadines    0.573059\n",
       " Tonga                             0.507158\n",
       " Trinidad and Tobago               0.647905\n",
       " Vanuatu                           0.327758\n",
       " dtype: float64, country\n",
       " Antigua and Barbuda               0.763987\n",
       " Belize                            0.354967\n",
       " Dominica                          0.630551\n",
       " Haiti                             0.247719\n",
       " St. Lucia                         0.434480\n",
       " St. Vincent and the Grenadines    0.231072\n",
       " Tonga                             0.507158\n",
       " Trinidad and Tobago               0.390777\n",
       " Vanuatu                           0.290612\n",
       " dtype: float64)"
      ]
     },
     "execution_count": 59,
     "metadata": {},
     "output_type": "execute_result"
    },
    {
     "data": {
      "image/png": "[encoded data removed]",
      "text/plain": [
       "<matplotlib.figure.Figure at 0x271952b9be0>"
      ]
     },
     "metadata": {},
     "output_type": "display_data"
    }
   ],
   "source": [
    "\n",
    "#National vulnerabilityb\n",
    "v_unshaved =  vp_unshaved*df.share1 + vr_unshaved*(1-df.share1)\n",
    "v_unshaved.name=\"v\"\n",
    "v_unshaved.index.name = \"country\"\n",
    "v_unshaved.hist()\n",
    "\n",
    "#Exposure guessed from dK and v\n",
    "fa_guessed_gar = (frac_value_destroyed_gar/ broadcast_simple(v_unshaved,frac_value_destroyed_gar.index)).dropna()\n",
    "fa_guessed_gar.name  = \"fa\"\n",
    "# .dropna()\n",
    "\n",
    "\n",
    "# fa_guessed_gar.to_csv(\"inputs/fa_guessed_from_GAR_and_PAGER.csv\")\n",
    "\n",
    "print(fa_guessed_gar.dropna().unstack(\"country\").shape)\n",
    "\n",
    "\n",
    "#Shaves exposure above 90% and increases vulnerability\n",
    "fa_threshold =  0.9\n",
    "\n",
    "excess=  fa_guessed_gar[fa_guessed_gar>fa_threshold].max(level=\"country\")\n",
    "\n",
    "vp = vp_unshaved.copy()\n",
    "vr = vr_unshaved.copy()\n",
    "v = v_unshaved.copy()\n",
    "\n",
    "for c in excess.index:\n",
    "    r = (excess/fa_threshold)[c]\n",
    "    print(c,r, fa_guessed_gar[fa_guessed_gar>fa_threshold].ix[c])\n",
    "    fa_guessed_gar.update(fa_guessed_gar.ix[[c]]/r)  # i don't care.\n",
    "    vp.ix[c] *= r\n",
    "    vr.ix[c] *= r\n",
    "    v.ix[c] *=r\n",
    "    \n",
    "vp = vp.clip(upper=.99)\n",
    "vr = vr.clip(upper=.99)\n",
    "\n",
    "fa_guessed_gar.to_csv(\"inputs/fa_guessed_from_GAR_and_PAGER_shaved.csv\")\n",
    "# vp.to_csv(\"inputs/\")\n",
    "\n",
    "pd.DataFrame([vp,vr,v], index=[\"vp\",\"vr\",\"v\"]).T.to_csv(\"inputs/v_pr_fromPAGER_shaved_GAR.csv\")\n",
    "\n",
    "print(\"check\")\n",
    "vp[excess.index], vr.ix[excess.index]"
   ]
  },
  {
   "cell_type": "code",
   "execution_count": 60,
   "metadata": {
    "collapsed": false,
    "run_control": {
     "frozen": false,
     "read_only": false
    }
   },
   "outputs": [
    {
     "data": {
      "text/plain": [
       "(country\n",
       " Senegal    0.7\n",
       " Nepal      0.7\n",
       " dtype: float64, country\n",
       " Senegal    0.685000\n",
       " Nepal      0.398281\n",
       " dtype: float64)"
      ]
     },
     "execution_count": 60,
     "metadata": {},
     "output_type": "execute_result"
    },
    {
     "data": {
      "image/png": "[encoded data removed]",
      "text/plain": [
       "<matplotlib.figure.Figure at 0x27194db2390>"
      ]
     },
     "metadata": {},
     "output_type": "display_data"
    }
   ],
   "source": [
    "\n",
    "vp.hist(alpha=1/2)\n",
    "vr.hist(alpha=1/2)\n",
    "v_unshaved.hist(alpha=1/2)\n",
    "\n",
    "\n",
    "vp[[\"Senegal\",\"Nepal\"]], vr[[\"Senegal\",\"Nepal\"]]"
   ]
  },
  {
   "cell_type": "code",
   "execution_count": 61,
   "metadata": {
    "collapsed": false
   },
   "outputs": [
    {
     "data": {
      "text/plain": [
       "(5, 28)"
      ]
     },
     "execution_count": 61,
     "metadata": {},
     "output_type": "execute_result"
    }
   ],
   "source": [
    "df.drop(['peb1', 'peb2'],axis=1).dropna().shape "
   ]
  },
  {
   "cell_type": "code",
   "execution_count": 62,
   "metadata": {
    "collapsed": false
   },
   "outputs": [
    {
     "data": {
      "text/plain": [
       "Index(['gdp_pc_pp', 'pop', 'share1', 'urbanization_rate', 'gdp_pc_cd',\n",
       "       'axfin_p', 'axfin_r', 'social_p', 'social_r', 'pov_head', 'shew',\n",
       "       'prepare_scaleup', 'finance_pre', 'rating', 'borrow_abi', 'avg_prod_k',\n",
       "       'transport_share', 'energy_share', 'building_share', 'water_share',\n",
       "       'building_residential_share', 'T_rebuild_K', 'pi', 'income_elast',\n",
       "       'rho', 'shareable', 'max_increased_spending', 'fa_glofris', 'peb1',\n",
       "       'peb2'],\n",
       "      dtype='object')"
      ]
     },
     "execution_count": 62,
     "metadata": {},
     "output_type": "execute_result"
    }
   ],
   "source": [
    "df.columns"
   ]
  },
  {
   "cell_type": "code",
   "execution_count": 63,
   "metadata": {
    "collapsed": false
   },
   "outputs": [
    {
     "data": {
      "text/plain": [
       "array(['Belize', 'Fiji', 'Haiti', 'Jamaica', 'Papua New Guinea'], dtype=object)"
      ]
     },
     "execution_count": 63,
     "metadata": {},
     "output_type": "execute_result"
    }
   ],
   "source": [
    "#SIDS with macro and Glofris data and pe data and GAR data\n",
    "df.loc[list(list_of_sids),:].drop(['peb1', 'peb2'],axis=1).dropna().reset_index().country.unique()"
   ]
  },
  {
   "cell_type": "code",
   "execution_count": 64,
   "metadata": {
    "collapsed": false
   },
   "outputs": [
    {
     "data": {
      "text/plain": [
       "array(['Belize', 'Fiji', 'Haiti', 'Jamaica', 'Kiribati',\n",
       "       'Papua New Guinea', 'Solomon Islands', 'Tonga'], dtype=object)"
      ]
     },
     "execution_count": 64,
     "metadata": {},
     "output_type": "execute_result"
    }
   ],
   "source": [
    "#SIDS with macro and pe data and GAR data\n",
    "df.loc[list(list_of_sids),:].drop(['peb1', 'peb2','fa_glofris'],axis=1).dropna().reset_index().country.unique()"
   ]
  },
  {
   "cell_type": "code",
   "execution_count": 65,
   "metadata": {
    "collapsed": false
   },
   "outputs": [
    {
     "data": {
      "text/plain": [
       "array(['Antigua and Barbuda', 'Belize', 'Comoros', 'Dominica',\n",
       "       'Dominican Republic', 'Fiji', 'Guinea-Bissau', 'Guyana', 'Haiti',\n",
       "       'Jamaica', 'Kiribati', 'Maldives', 'Marshall Islands', 'Mauritius',\n",
       "       'Micronesia, Fed. Sts.', 'Papua New Guinea', 'Seychelles',\n",
       "       'Solomon Islands', 'St. Lucia', 'St. Vincent and the Grenadines',\n",
       "       'Timor-Leste', 'Tonga', 'Trinidad and Tobago', 'Tuvalu', 'Vanuatu'], dtype=object)"
      ]
     },
     "execution_count": 65,
     "metadata": {},
     "output_type": "execute_result"
    }
   ],
   "source": [
    "#SIDS with GAR fa data\n",
    "fa_guessed_gar.loc[list(list_of_sids)].dropna().reset_index().country.unique()"
   ]
  },
  {
   "cell_type": "code",
   "execution_count": 66,
   "metadata": {
    "collapsed": false
   },
   "outputs": [
    {
     "data": {
      "text/plain": [
       "array(['American Samoa', 'Antigua and Barbuda', 'Aruba', 'Bahamas, The',\n",
       "       'Bahrain', 'Barbados', 'Belize', 'Bermuda', 'Cayman Islands',\n",
       "       'Comoros', 'Cuba', 'Dominica', 'Dominican Republic', 'Fiji',\n",
       "       'French Polynesia', 'Grenada', 'Guinea-Bissau', 'Guyana', 'Haiti',\n",
       "       'Jamaica', 'Kiribati', 'Maldives', 'Marshall Islands', 'Mauritius',\n",
       "       'Micronesia, Fed. Sts.', 'New Caledonia', 'Palau',\n",
       "       'Papua New Guinea', 'Puerto Rico', 'St. Kitts and Nevis',\n",
       "       'St. Lucia', 'St. Vincent and the Grenadines', 'Seychelles',\n",
       "       'Singapore', 'Solomon Islands', 'Suriname', 'Timor-Leste', 'Tonga',\n",
       "       'Trinidad and Tobago', 'Turks and Caicos Islands', 'Tuvalu',\n",
       "       'Virgin Islands (U.S.)', 'Vanuatu'], dtype=object)"
      ]
     },
     "execution_count": 66,
     "metadata": {},
     "output_type": "execute_result"
    }
   ],
   "source": [
    "#SIDS with PAGER and GAR v data\n",
    "vr.loc[list(list_of_sids)].dropna().reset_index().country.unique()"
   ]
  },
  {
   "cell_type": "markdown",
   "metadata": {},
   "source": [
    "## incorporates exposure bias, but only for (riverine) flood and surge\n"
   ]
  },
  {
   "cell_type": "code",
   "execution_count": 67,
   "metadata": {
    "collapsed": false,
    "run_control": {
     "frozen": false,
     "read_only": false
    }
   },
   "outputs": [
    {
     "data": {
      "text/html": [
       "<div>\n",
       "<table border=\"1\" class=\"dataframe\">\n",
       "  <thead>\n",
       "    <tr style=\"text-align: right;\">\n",
       "      <th></th>\n",
       "      <th>hazard</th>\n",
       "      <th>earthquake</th>\n",
       "      <th>flood</th>\n",
       "      <th>surge</th>\n",
       "      <th>tsunami</th>\n",
       "      <th>wind</th>\n",
       "    </tr>\n",
       "    <tr>\n",
       "      <th>rp</th>\n",
       "      <th>income_cat</th>\n",
       "      <th></th>\n",
       "      <th></th>\n",
       "      <th></th>\n",
       "      <th></th>\n",
       "      <th></th>\n",
       "    </tr>\n",
       "  </thead>\n",
       "  <tbody>\n",
       "    <tr>\n",
       "      <th rowspan=\"2\" valign=\"top\">20.0</th>\n",
       "      <th>nonpoor</th>\n",
       "      <td>0.019169</td>\n",
       "      <td>0.013200</td>\n",
       "      <td>0.019324</td>\n",
       "      <td>0.000363</td>\n",
       "      <td>0.104312</td>\n",
       "    </tr>\n",
       "    <tr>\n",
       "      <th>poor</th>\n",
       "      <td>0.019169</td>\n",
       "      <td>0.013017</td>\n",
       "      <td>0.019055</td>\n",
       "      <td>0.000363</td>\n",
       "      <td>0.104312</td>\n",
       "    </tr>\n",
       "    <tr>\n",
       "      <th rowspan=\"2\" valign=\"top\">50.0</th>\n",
       "      <th>nonpoor</th>\n",
       "      <td>0.038192</td>\n",
       "      <td>0.028777</td>\n",
       "      <td>0.024242</td>\n",
       "      <td>0.000869</td>\n",
       "      <td>0.142251</td>\n",
       "    </tr>\n",
       "    <tr>\n",
       "      <th>poor</th>\n",
       "      <td>0.038192</td>\n",
       "      <td>0.028377</td>\n",
       "      <td>0.023905</td>\n",
       "      <td>0.000869</td>\n",
       "      <td>0.142251</td>\n",
       "    </tr>\n",
       "    <tr>\n",
       "      <th rowspan=\"2\" valign=\"top\">100.0</th>\n",
       "      <th>nonpoor</th>\n",
       "      <td>0.059465</td>\n",
       "      <td>0.048798</td>\n",
       "      <td>0.029756</td>\n",
       "      <td>0.002357</td>\n",
       "      <td>0.169690</td>\n",
       "    </tr>\n",
       "    <tr>\n",
       "      <th>poor</th>\n",
       "      <td>0.059465</td>\n",
       "      <td>0.048120</td>\n",
       "      <td>0.029342</td>\n",
       "      <td>0.002357</td>\n",
       "      <td>0.169690</td>\n",
       "    </tr>\n",
       "    <tr>\n",
       "      <th rowspan=\"2\" valign=\"top\">250.0</th>\n",
       "      <th>nonpoor</th>\n",
       "      <td>0.100200</td>\n",
       "      <td>0.213656</td>\n",
       "      <td>0.031157</td>\n",
       "      <td>0.011524</td>\n",
       "      <td>0.208010</td>\n",
       "    </tr>\n",
       "    <tr>\n",
       "      <th>poor</th>\n",
       "      <td>0.100200</td>\n",
       "      <td>0.210684</td>\n",
       "      <td>0.030724</td>\n",
       "      <td>0.011524</td>\n",
       "      <td>0.208010</td>\n",
       "    </tr>\n",
       "    <tr>\n",
       "      <th rowspan=\"2\" valign=\"top\">500.0</th>\n",
       "      <th>nonpoor</th>\n",
       "      <td>0.147767</td>\n",
       "      <td>0.238280</td>\n",
       "      <td>0.033493</td>\n",
       "      <td>0.023708</td>\n",
       "      <td>0.226411</td>\n",
       "    </tr>\n",
       "    <tr>\n",
       "      <th>poor</th>\n",
       "      <td>0.147767</td>\n",
       "      <td>0.234964</td>\n",
       "      <td>0.033027</td>\n",
       "      <td>0.023708</td>\n",
       "      <td>0.226411</td>\n",
       "    </tr>\n",
       "    <tr>\n",
       "      <th rowspan=\"2\" valign=\"top\">1000.0</th>\n",
       "      <th>nonpoor</th>\n",
       "      <td>0.215005</td>\n",
       "      <td>0.280180</td>\n",
       "      <td>0.038164</td>\n",
       "      <td>0.043801</td>\n",
       "      <td>0.251127</td>\n",
       "    </tr>\n",
       "    <tr>\n",
       "      <th>poor</th>\n",
       "      <td>0.215005</td>\n",
       "      <td>0.276282</td>\n",
       "      <td>0.037633</td>\n",
       "      <td>0.043801</td>\n",
       "      <td>0.251127</td>\n",
       "    </tr>\n",
       "    <tr>\n",
       "      <th rowspan=\"2\" valign=\"top\">1500.0</th>\n",
       "      <th>nonpoor</th>\n",
       "      <td>0.261187</td>\n",
       "      <td>0.296833</td>\n",
       "      <td>0.039183</td>\n",
       "      <td>0.069123</td>\n",
       "      <td>0.275843</td>\n",
       "    </tr>\n",
       "    <tr>\n",
       "      <th>poor</th>\n",
       "      <td>0.261187</td>\n",
       "      <td>0.292703</td>\n",
       "      <td>0.038638</td>\n",
       "      <td>0.069123</td>\n",
       "      <td>0.275843</td>\n",
       "    </tr>\n",
       "  </tbody>\n",
       "</table>\n",
       "</div>"
      ],
      "text/plain": [
       "hazard             earthquake     flood     surge   tsunami      wind\n",
       "rp     income_cat                                                    \n",
       "20.0   nonpoor       0.019169  0.013200  0.019324  0.000363  0.104312\n",
       "       poor          0.019169  0.013017  0.019055  0.000363  0.104312\n",
       "50.0   nonpoor       0.038192  0.028777  0.024242  0.000869  0.142251\n",
       "       poor          0.038192  0.028377  0.023905  0.000869  0.142251\n",
       "100.0  nonpoor       0.059465  0.048798  0.029756  0.002357  0.169690\n",
       "       poor          0.059465  0.048120  0.029342  0.002357  0.169690\n",
       "250.0  nonpoor       0.100200  0.213656  0.031157  0.011524  0.208010\n",
       "       poor          0.100200  0.210684  0.030724  0.011524  0.208010\n",
       "500.0  nonpoor       0.147767  0.238280  0.033493  0.023708  0.226411\n",
       "       poor          0.147767  0.234964  0.033027  0.023708  0.226411\n",
       "1000.0 nonpoor       0.215005  0.280180  0.038164  0.043801  0.251127\n",
       "       poor          0.215005  0.276282  0.037633  0.043801  0.251127\n",
       "1500.0 nonpoor       0.261187  0.296833  0.039183  0.069123  0.275843\n",
       "       poor          0.261187  0.292703  0.038638  0.069123  0.275843"
      ]
     },
     "execution_count": 67,
     "metadata": {},
     "output_type": "execute_result"
    }
   ],
   "source": [
    "#exposure per hazard and income\n",
    "fa_hazard_cat = broadcast_simple(fa_guessed_gar,index=income_cats)\n",
    "fa_hazard_cat;\n",
    "\n",
    "#uses pe in all hazard\n",
    "fa_with_pe = concat_categories(fa_guessed_gar*(1+pe),fa_guessed_gar*(1-df.pov_head*(1+pe))/(1-df.pov_head), index=income_cats)\n",
    "fa_with_pe\n",
    "\n",
    "#selects just flood and surge\n",
    "fa_with_pe = pd.DataFrame(fa_with_pe).query(\"hazard in ['flood','surge']\").squeeze()\n",
    "\n",
    "#updates fa_guessed_gar where necessary\n",
    "fa_hazard_cat.update(fa_with_pe)\n",
    "\n",
    "fa_hazard_cat.ix[\"Philippines\"].unstack(\"hazard\")"
   ]
  },
  {
   "cell_type": "markdown",
   "metadata": {},
   "source": [
    "## gathers hazard ratios"
   ]
  },
  {
   "cell_type": "code",
   "execution_count": 68,
   "metadata": {
    "collapsed": false,
    "run_control": {
     "frozen": false,
     "read_only": false
    }
   },
   "outputs": [
    {
     "data": {
      "text/html": [
       "<div>\n",
       "<table border=\"1\" class=\"dataframe\">\n",
       "  <thead>\n",
       "    <tr style=\"text-align: right;\">\n",
       "      <th></th>\n",
       "      <th></th>\n",
       "      <th></th>\n",
       "      <th></th>\n",
       "      <th>fa</th>\n",
       "      <th>shew</th>\n",
       "    </tr>\n",
       "    <tr>\n",
       "      <th>country</th>\n",
       "      <th>hazard</th>\n",
       "      <th>rp</th>\n",
       "      <th>income_cat</th>\n",
       "      <th></th>\n",
       "      <th></th>\n",
       "    </tr>\n",
       "  </thead>\n",
       "  <tbody>\n",
       "    <tr>\n",
       "      <th>Uganda</th>\n",
       "      <th>tsunami</th>\n",
       "      <th>250.0</th>\n",
       "      <th>poor</th>\n",
       "      <td>0.000000</td>\n",
       "      <td>0.6</td>\n",
       "    </tr>\n",
       "    <tr>\n",
       "      <th>Trinidad and Tobago</th>\n",
       "      <th>wind</th>\n",
       "      <th>500.0</th>\n",
       "      <th>nonpoor</th>\n",
       "      <td>0.048702</td>\n",
       "      <td>0.6</td>\n",
       "    </tr>\n",
       "    <tr>\n",
       "      <th>Spain</th>\n",
       "      <th>wind</th>\n",
       "      <th>250.0</th>\n",
       "      <th>nonpoor</th>\n",
       "      <td>0.000000</td>\n",
       "      <td>0.8</td>\n",
       "    </tr>\n",
       "    <tr>\n",
       "      <th>Slovak Republic</th>\n",
       "      <th>wind</th>\n",
       "      <th>250.0</th>\n",
       "      <th>poor</th>\n",
       "      <td>0.000000</td>\n",
       "      <td>0.8</td>\n",
       "    </tr>\n",
       "    <tr>\n",
       "      <th>Netherlands</th>\n",
       "      <th>flood</th>\n",
       "      <th>100.0</th>\n",
       "      <th>nonpoor</th>\n",
       "      <td>0.016580</td>\n",
       "      <td>1.0</td>\n",
       "    </tr>\n",
       "  </tbody>\n",
       "</table>\n",
       "</div>"
      ],
      "text/plain": [
       "                                                    fa  shew\n",
       "country             hazard  rp    income_cat                \n",
       "Uganda              tsunami 250.0 poor        0.000000   0.6\n",
       "Trinidad and Tobago wind    500.0 nonpoor     0.048702   0.6\n",
       "Spain               wind    250.0 nonpoor     0.000000   0.8\n",
       "Slovak Republic     wind    250.0 poor        0.000000   0.8\n",
       "Netherlands         flood   100.0 nonpoor     0.016580   1.0"
      ]
     },
     "execution_count": 68,
     "metadata": {},
     "output_type": "execute_result"
    }
   ],
   "source": [
    "#fa from GAR\n",
    "hazard_ratios = pd.DataFrame(fa_hazard_cat)\n",
    "\n",
    "\n",
    "#shew at 0 for earthquake\n",
    "hazard_ratios[\"shew\"]=broadcast_simple(df.shew, index=hazard_ratios.index)\n",
    "# hazard_ratios\n",
    "hazard_ratios[\"shew\"]=hazard_ratios.shew.unstack(\"hazard\").assign(earthquake=0).stack(\"hazard\").reset_index().set_index(event_level+[ \"income_cat\"])\n",
    "\n",
    "if not no_protection:\n",
    "    #protection at 0 for earthquake and wind\n",
    "    hazard_ratios[\"protection\"]=1\n",
    "    hazard_ratios[\"protection\"]=hazard_ratios.protection.unstack(\"hazard\").assign(earthquake=1, wind=1).stack(\"hazard\").reset_index().set_index(event_level)\n",
    "\n",
    "hazard_ratios.sample(5)"
   ]
  },
  {
   "cell_type": "code",
   "execution_count": 69,
   "metadata": {
    "collapsed": false,
    "run_control": {
     "frozen": false,
     "read_only": false
    }
   },
   "outputs": [
    {
     "data": {
      "text/plain": [
       "0.0"
      ]
     },
     "execution_count": 69,
     "metadata": {},
     "output_type": "execute_result"
    }
   ],
   "source": [
    "hazard_ratios.ix[\"Finland\"].fa.max()"
   ]
  },
  {
   "cell_type": "code",
   "execution_count": 70,
   "metadata": {
    "collapsed": false,
    "run_control": {
     "frozen": false,
     "read_only": false
    }
   },
   "outputs": [],
   "source": [
    "hazard_ratios= hazard_ratios.drop(\"Finland\")"
   ]
  },
  {
   "cell_type": "code",
   "execution_count": 71,
   "metadata": {
    "collapsed": false
   },
   "outputs": [
    {
     "data": {
      "text/plain": [
       "{'Belize',\n",
       " 'Fiji',\n",
       " 'Haiti',\n",
       " 'Jamaica',\n",
       " 'Kiribati',\n",
       " 'Papua New Guinea',\n",
       " 'Solomon Islands',\n",
       " 'Tonga'}"
      ]
     },
     "execution_count": 71,
     "metadata": {},
     "output_type": "execute_result"
    }
   ],
   "source": [
    "#SIDS with macro data and hazard_ratios data\n",
    "set(macro_data_sids).intersection(list(hazard_ratios.loc[list(list_of_sids),:].dropna().reset_index().country.unique()))"
   ]
  },
  {
   "cell_type": "markdown",
   "metadata": {},
   "source": [
    "### countries with all data"
   ]
  },
  {
   "cell_type": "code",
   "execution_count": 72,
   "metadata": {
    "collapsed": false,
    "run_control": {
     "frozen": false,
     "read_only": false
    }
   },
   "outputs": [
    {
     "data": {
      "text/plain": [
       "array(['Japan', 'Papua New Guinea', 'Philippines'], dtype=object)"
      ]
     },
     "execution_count": 72,
     "metadata": {},
     "output_type": "execute_result"
    }
   ],
   "source": [
    "hazard_ratios.unstack([\"hazard\",\"rp\",])[\"fa\"].replace(0,np.nan).dropna().stack([\"hazard\",\"rp\",]).reset_index(\"country\").country.unique()"
   ]
  },
  {
   "cell_type": "code",
   "execution_count": 73,
   "metadata": {
    "collapsed": false,
    "run_control": {
     "frozen": false,
     "read_only": false
    }
   },
   "outputs": [
    {
     "data": {
      "text/plain": [
       "country\n",
       "Japan                    5.0\n",
       "Papua New Guinea         5.0\n",
       "Philippines              5.0\n",
       "Madagascar               4.0\n",
       "Indonesia                4.0\n",
       "Belize                   4.0\n",
       "Haiti                    4.0\n",
       "India                    4.0\n",
       "Mozambique               4.0\n",
       "Mexico                   4.0\n",
       "Jamaica                  4.0\n",
       "Bangladesh               4.0\n",
       "France                   4.0\n",
       "China                    4.0\n",
       "United Kingdom           4.0\n",
       "United States            4.0\n",
       "Dominican Republic       4.0\n",
       "Nicaragua                4.0\n",
       "Venezuela, RB            4.0\n",
       "Solomon Islands          4.0\n",
       "Honduras                 4.0\n",
       "Micronesia, Fed. Sts.    3.0\n",
       "Comoros                  3.0\n",
       "Lao PDR                  3.0\n",
       "Canada                   3.0\n",
       "Dominica                 3.0\n",
       "Pakistan                 3.0\n",
       "Chile                    3.0\n",
       "Fiji                     3.0\n",
       "Sri Lanka                3.0\n",
       "dtype: float64"
      ]
     },
     "execution_count": 73,
     "metadata": {},
     "output_type": "execute_result"
    }
   ],
   "source": [
    "counter = hazard_ratios.fa.unstack([\"rp\",\"country\"])[20].replace(0,np.nan).isnull()\n",
    "# counter\n",
    "(counter.shape[0]-counter.sum(axis=0)).sort_values(ascending=False).head(n=30)/2"
   ]
  },
  {
   "cell_type": "code",
   "execution_count": 74,
   "metadata": {
    "collapsed": false,
    "run_control": {
     "frozen": false,
     "read_only": false
    }
   },
   "outputs": [
    {
     "data": {
      "text/plain": [
       "hazard      income_cat\n",
       "flood       nonpoor       132\n",
       "            poor          131\n",
       "earthquake  poor          116\n",
       "            nonpoor       116\n",
       "wind        poor           37\n",
       "            nonpoor        37\n",
       "surge       poor           35\n",
       "            nonpoor        35\n",
       "tsunami     poor            7\n",
       "            nonpoor         7\n",
       "dtype: int64"
      ]
     },
     "execution_count": 74,
     "metadata": {},
     "output_type": "execute_result"
    }
   ],
   "source": [
    "(counter.shape[1]-counter.sum(axis=1)).sort_values(ascending=False)"
   ]
  },
  {
   "cell_type": "markdown",
   "metadata": {},
   "source": [
    "# Protection"
   ]
  },
  {
   "cell_type": "code",
   "execution_count": 75,
   "metadata": {
    "collapsed": false,
    "run_control": {
     "frozen": false,
     "read_only": false
    }
   },
   "outputs": [
    {
     "name": "stdout",
     "output_type": "stream",
     "text": [
      "PROTECTION IS  20.0\n"
     ]
    },
    {
     "data": {
      "text/plain": [
       "country\n",
       "Afghanistan       20.0\n",
       "Albania           20.0\n",
       "Algeria           20.0\n",
       "American Samoa    20.0\n",
       "Andorra           20.0\n",
       "Name: protection, dtype: float64"
      ]
     },
     "execution_count": 75,
     "metadata": {},
     "output_type": "execute_result"
    }
   ],
   "source": [
    "\n",
    "\n",
    "#df.protection.head()\n",
    "if protection_from_flopros:\n",
    "#protection from FLOPROS\n",
    "    minrp = 1/2 #assumes nobody is flooded more than twice a year\n",
    "    df[\"protection\"]= pd.read_csv(\"inputs/protection_national_from_flopros.csv\", index_col=\"country\", squeeze=True \n",
    "                                 ).clip(lower=minrp)\n",
    "else:\n",
    "    #assumed a function of the income group\n",
    "    protection_assumptions = pd.read_csv(\"inputs/protection_level_assumptions.csv\", index_col=\"Income group\", squeeze=True)\n",
    "    df[\"protection\"]=pd.read_csv(\"inputs/income_groups.csv\",header =4,index_col=2)[\"Income group\"].dropna().replace(protection_assumptions)\n",
    "\n",
    "if less_ratios:\n",
    "    df.protection = 2\n",
    "    \n",
    "if no_protection:\n",
    "    p=hazard_ratios.reset_index(\"rp\").rp.min()\n",
    "    df.protection=p\n",
    "    print(\"PROTECTION IS \",p)\n",
    "    \n",
    "df.protection.head()\n"
   ]
  },
  {
   "cell_type": "markdown",
   "metadata": {},
   "source": [
    "# Data by income categories"
   ]
  },
  {
   "cell_type": "markdown",
   "metadata": {},
   "source": [
    "## number, income, diversification, access to finance"
   ]
  },
  {
   "cell_type": "code",
   "execution_count": 76,
   "metadata": {
    "collapsed": false,
    "run_control": {
     "frozen": false,
     "read_only": false
    }
   },
   "outputs": [
    {
     "data": {
      "text/html": [
       "<div>\n",
       "<table border=\"1\" class=\"dataframe\">\n",
       "  <thead>\n",
       "    <tr style=\"text-align: right;\">\n",
       "      <th></th>\n",
       "      <th></th>\n",
       "      <th>n</th>\n",
       "      <th>c</th>\n",
       "      <th>social</th>\n",
       "      <th>axfin</th>\n",
       "    </tr>\n",
       "    <tr>\n",
       "      <th>country</th>\n",
       "      <th>income_cat</th>\n",
       "      <th></th>\n",
       "      <th></th>\n",
       "      <th></th>\n",
       "      <th></th>\n",
       "    </tr>\n",
       "  </thead>\n",
       "  <tbody>\n",
       "    <tr>\n",
       "      <th rowspan=\"2\" valign=\"top\">Albania</th>\n",
       "      <th>nonpoor</th>\n",
       "      <td>0.8</td>\n",
       "      <td>13016.935891</td>\n",
       "      <td>0.168006</td>\n",
       "      <td>0.096454</td>\n",
       "    </tr>\n",
       "    <tr>\n",
       "      <th>poor</th>\n",
       "      <td>0.2</td>\n",
       "      <td>5055.398031</td>\n",
       "      <td>0.243888</td>\n",
       "      <td>0.044618</td>\n",
       "    </tr>\n",
       "    <tr>\n",
       "      <th rowspan=\"2\" valign=\"top\">Angola</th>\n",
       "      <th>nonpoor</th>\n",
       "      <td>0.8</td>\n",
       "      <td>7121.979386</td>\n",
       "      <td>0.104156</td>\n",
       "      <td>0.222081</td>\n",
       "    </tr>\n",
       "    <tr>\n",
       "      <th>poor</th>\n",
       "      <td>0.2</td>\n",
       "      <td>1635.713147</td>\n",
       "      <td>0.140762</td>\n",
       "      <td>0.040259</td>\n",
       "    </tr>\n",
       "    <tr>\n",
       "      <th>Antigua and Barbuda</th>\n",
       "      <th>nonpoor</th>\n",
       "      <td>0.8</td>\n",
       "      <td>25704.504585</td>\n",
       "      <td>0.122363</td>\n",
       "      <td>0.153000</td>\n",
       "    </tr>\n",
       "  </tbody>\n",
       "</table>\n",
       "</div>"
      ],
      "text/plain": [
       "                                  n             c    social     axfin\n",
       "country             income_cat                                       \n",
       "Albania             nonpoor     0.8  13016.935891  0.168006  0.096454\n",
       "                    poor        0.2   5055.398031  0.243888  0.044618\n",
       "Angola              nonpoor     0.8   7121.979386  0.104156  0.222081\n",
       "                    poor        0.2   1635.713147  0.140762  0.040259\n",
       "Antigua and Barbuda nonpoor     0.8  25704.504585  0.122363  0.153000"
      ]
     },
     "execution_count": 76,
     "metadata": {},
     "output_type": "execute_result"
    }
   ],
   "source": [
    "cat_info =pd.DataFrame()\n",
    "\n",
    "#number\n",
    "#ph = ph=df[\\\"pov_head\\\"]\n",
    "cat_info[\"n\"]  = concat_categories(ph,(1-ph),index= income_cats)\n",
    "\n",
    "#consumption levels\n",
    "cp=   df[\"share1\"] /ph    *df[\"gdp_pc_pp\"]\n",
    "cr=(1-df[\"share1\"])/(1-ph)*df[\"gdp_pc_pp\"]\n",
    "cat_info[\"c\"]       = concat_categories(cp,cr,index= income_cats)\n",
    "\n",
    "#diversification\n",
    "cat_info[\"social\"]  = concat_categories(df.social_p,df.social_r,index= income_cats)\n",
    "\n",
    "\n",
    "cat_info[\"axfin\"] = concat_categories(df.axfin_p,df.axfin_r,index= income_cats)\n",
    "\n",
    "\n",
    "    \n",
    "#access to finance\n",
    "# cat_info[\"axfin\"]   = concat_categories(df.axfin_p,df.axfin_r)\n",
    "\n",
    "cat_info = cat_info.dropna()\n",
    "cat_info.head()"
   ]
  },
  {
   "cell_type": "code",
   "execution_count": 77,
   "metadata": {
    "collapsed": false
   },
   "outputs": [
    {
     "data": {
      "text/plain": [
       "array(['Antigua and Barbuda', 'Belize', 'Comoros', 'Dominica',\n",
       "       'Dominican Republic', 'Fiji', 'Guinea-Bissau', 'Guyana', 'Haiti',\n",
       "       'Jamaica', 'Kiribati', 'Maldives', 'Marshall Islands', 'Mauritius',\n",
       "       'Micronesia, Fed. Sts.', 'Papua New Guinea', 'Seychelles',\n",
       "       'Solomon Islands', 'St. Lucia', 'St. Vincent and the Grenadines',\n",
       "       'Timor-Leste', 'Tonga', 'Trinidad and Tobago', 'Vanuatu'], dtype=object)"
      ]
     },
     "execution_count": 77,
     "metadata": {},
     "output_type": "execute_result"
    }
   ],
   "source": [
    "#SIDS with macro data\n",
    "cat_info.loc[list(list_of_sids),:].dropna().reset_index().country.unique()"
   ]
  },
  {
   "cell_type": "markdown",
   "metadata": {},
   "source": [
    "## Taxes, redistribution, capital"
   ]
  },
  {
   "cell_type": "code",
   "execution_count": 78,
   "metadata": {
    "collapsed": false,
    "run_control": {
     "frozen": false,
     "read_only": false
    }
   },
   "outputs": [
    {
     "data": {
      "text/html": [
       "<div>\n",
       "<table border=\"1\" class=\"dataframe\">\n",
       "  <thead>\n",
       "    <tr style=\"text-align: right;\">\n",
       "      <th></th>\n",
       "      <th></th>\n",
       "      <th>n</th>\n",
       "      <th>c</th>\n",
       "      <th>social</th>\n",
       "      <th>axfin</th>\n",
       "      <th>gamma_SP</th>\n",
       "      <th>k</th>\n",
       "    </tr>\n",
       "    <tr>\n",
       "      <th>country</th>\n",
       "      <th>income_cat</th>\n",
       "      <th></th>\n",
       "      <th></th>\n",
       "      <th></th>\n",
       "      <th></th>\n",
       "      <th></th>\n",
       "      <th></th>\n",
       "    </tr>\n",
       "  </thead>\n",
       "  <tbody>\n",
       "    <tr>\n",
       "      <th rowspan=\"2\" valign=\"top\">Albania</th>\n",
       "      <th>nonpoor</th>\n",
       "      <td>0.8</td>\n",
       "      <td>13016.935891</td>\n",
       "      <td>0.168006</td>\n",
       "      <td>0.096454</td>\n",
       "      <td>1.095582</td>\n",
       "      <td>70827.184540</td>\n",
       "    </tr>\n",
       "    <tr>\n",
       "      <th>poor</th>\n",
       "      <td>0.2</td>\n",
       "      <td>5055.398031</td>\n",
       "      <td>0.243888</td>\n",
       "      <td>0.044618</td>\n",
       "      <td>0.617673</td>\n",
       "      <td>24998.396447</td>\n",
       "    </tr>\n",
       "    <tr>\n",
       "      <th rowspan=\"2\" valign=\"top\">Angola</th>\n",
       "      <th>nonpoor</th>\n",
       "      <td>0.8</td>\n",
       "      <td>7121.979386</td>\n",
       "      <td>0.104156</td>\n",
       "      <td>0.222081</td>\n",
       "      <td>1.159988</td>\n",
       "      <td>16507.539225</td>\n",
       "    </tr>\n",
       "    <tr>\n",
       "      <th>poor</th>\n",
       "      <td>0.2</td>\n",
       "      <td>1635.713147</td>\n",
       "      <td>0.140762</td>\n",
       "      <td>0.040259</td>\n",
       "      <td>0.360049</td>\n",
       "      <td>3636.384458</td>\n",
       "    </tr>\n",
       "    <tr>\n",
       "      <th>Antigua and Barbuda</th>\n",
       "      <th>nonpoor</th>\n",
       "      <td>0.8</td>\n",
       "      <td>25704.504585</td>\n",
       "      <td>0.122363</td>\n",
       "      <td>0.153000</td>\n",
       "      <td>1.223611</td>\n",
       "      <td>64278.309421</td>\n",
       "    </tr>\n",
       "  </tbody>\n",
       "</table>\n",
       "</div>"
      ],
      "text/plain": [
       "                                  n             c    social     axfin  \\\n",
       "country             income_cat                                          \n",
       "Albania             nonpoor     0.8  13016.935891  0.168006  0.096454   \n",
       "                    poor        0.2   5055.398031  0.243888  0.044618   \n",
       "Angola              nonpoor     0.8   7121.979386  0.104156  0.222081   \n",
       "                    poor        0.2   1635.713147  0.140762  0.040259   \n",
       "Antigua and Barbuda nonpoor     0.8  25704.504585  0.122363  0.153000   \n",
       "\n",
       "                                gamma_SP             k  \n",
       "country             income_cat                          \n",
       "Albania             nonpoor     1.095582  70827.184540  \n",
       "                    poor        0.617673  24998.396447  \n",
       "Angola              nonpoor     1.159988  16507.539225  \n",
       "                    poor        0.360049   3636.384458  \n",
       "Antigua and Barbuda nonpoor     1.223611  64278.309421  "
      ]
     },
     "execution_count": 78,
     "metadata": {},
     "output_type": "execute_result"
    }
   ],
   "source": [
    "#computes tau tax and gamma_sp from socail_poor and social_nonpoor\n",
    "df[\"tau_tax\"],cat_info[\"gamma_SP\"] = social_to_tx_and_gsp(cat_info)\n",
    "\n",
    "cat_info[\"k\"] = (1-cat_info[\"social\"])*cat_info[\"c\"]/((1-df[\"tau_tax\"])*df[\"avg_prod_k\"])\n",
    "\n",
    "cat_info.head()\n"
   ]
  },
  {
   "cell_type": "code",
   "execution_count": 79,
   "metadata": {
    "collapsed": false,
    "run_control": {
     "frozen": false,
     "read_only": false
    }
   },
   "outputs": [
    {
     "data": {
      "text/plain": [
       "8.233527306605797e-31"
      ]
     },
     "execution_count": 79,
     "metadata": {},
     "output_type": "execute_result"
    }
   ],
   "source": [
    "#doubles checks the round trip from social to (tx and gammasp) and back to social\n",
    "((unpack_social(df,cat_info)- cat_info.social)**2).sum()"
   ]
  },
  {
   "cell_type": "code",
   "execution_count": 80,
   "metadata": {
    "collapsed": false,
    "run_control": {
     "frozen": false,
     "read_only": false
    }
   },
   "outputs": [
    {
     "data": {
      "text/plain": [
       "array(['Antigua and Barbuda', 'Belize', 'Comoros', 'Dominica',\n",
       "       'Dominican Republic', 'Fiji', 'Guinea-Bissau', 'Guyana', 'Haiti',\n",
       "       'Jamaica', 'Kiribati', 'Maldives', 'Mauritius', 'Papua New Guinea',\n",
       "       'Seychelles', 'Solomon Islands', 'St. Lucia',\n",
       "       'St. Vincent and the Grenadines', 'Timor-Leste', 'Tonga',\n",
       "       'Trinidad and Tobago', 'Vanuatu'], dtype=object)"
      ]
     },
     "execution_count": 80,
     "metadata": {},
     "output_type": "execute_result"
    }
   ],
   "source": [
    "#SIDS with macro data\n",
    "cat_info.loc[list(list_of_sids),:].dropna().reset_index().country.unique()"
   ]
  },
  {
   "cell_type": "markdown",
   "metadata": {},
   "source": [
    "## Exposure "
   ]
  },
  {
   "cell_type": "code",
   "execution_count": 81,
   "metadata": {
    "collapsed": false,
    "run_control": {
     "frozen": false,
     "read_only": false
    }
   },
   "outputs": [
    {
     "data": {
      "text/html": [
       "<div>\n",
       "<table border=\"1\" class=\"dataframe\">\n",
       "  <thead>\n",
       "    <tr style=\"text-align: right;\">\n",
       "      <th></th>\n",
       "      <th></th>\n",
       "      <th>n</th>\n",
       "      <th>c</th>\n",
       "      <th>social</th>\n",
       "      <th>axfin</th>\n",
       "      <th>gamma_SP</th>\n",
       "      <th>k</th>\n",
       "      <th>fa</th>\n",
       "    </tr>\n",
       "    <tr>\n",
       "      <th>country</th>\n",
       "      <th>income_cat</th>\n",
       "      <th></th>\n",
       "      <th></th>\n",
       "      <th></th>\n",
       "      <th></th>\n",
       "      <th></th>\n",
       "      <th></th>\n",
       "      <th></th>\n",
       "    </tr>\n",
       "  </thead>\n",
       "  <tbody>\n",
       "    <tr>\n",
       "      <th rowspan=\"2\" valign=\"top\">Albania</th>\n",
       "      <th>nonpoor</th>\n",
       "      <td>0.8</td>\n",
       "      <td>13016.935891</td>\n",
       "      <td>0.168006</td>\n",
       "      <td>0.096454</td>\n",
       "      <td>1.095582</td>\n",
       "      <td>70827.184540</td>\n",
       "      <td>0.025179</td>\n",
       "    </tr>\n",
       "    <tr>\n",
       "      <th>poor</th>\n",
       "      <td>0.2</td>\n",
       "      <td>5055.398031</td>\n",
       "      <td>0.243888</td>\n",
       "      <td>0.044618</td>\n",
       "      <td>0.617673</td>\n",
       "      <td>24998.396447</td>\n",
       "      <td>0.024174</td>\n",
       "    </tr>\n",
       "    <tr>\n",
       "      <th rowspan=\"2\" valign=\"top\">Angola</th>\n",
       "      <th>nonpoor</th>\n",
       "      <td>0.8</td>\n",
       "      <td>7121.979386</td>\n",
       "      <td>0.104156</td>\n",
       "      <td>0.222081</td>\n",
       "      <td>1.159988</td>\n",
       "      <td>16507.539225</td>\n",
       "      <td>0.003203</td>\n",
       "    </tr>\n",
       "    <tr>\n",
       "      <th>poor</th>\n",
       "      <td>0.2</td>\n",
       "      <td>1635.713147</td>\n",
       "      <td>0.140762</td>\n",
       "      <td>0.040259</td>\n",
       "      <td>0.360049</td>\n",
       "      <td>3636.384458</td>\n",
       "      <td>0.014163</td>\n",
       "    </tr>\n",
       "    <tr>\n",
       "      <th>Antigua and Barbuda</th>\n",
       "      <th>nonpoor</th>\n",
       "      <td>0.8</td>\n",
       "      <td>25704.504585</td>\n",
       "      <td>0.122363</td>\n",
       "      <td>0.153000</td>\n",
       "      <td>1.223611</td>\n",
       "      <td>64278.309421</td>\n",
       "      <td>0.203447</td>\n",
       "    </tr>\n",
       "  </tbody>\n",
       "</table>\n",
       "</div>"
      ],
      "text/plain": [
       "                                  n             c    social     axfin  \\\n",
       "country             income_cat                                          \n",
       "Albania             nonpoor     0.8  13016.935891  0.168006  0.096454   \n",
       "                    poor        0.2   5055.398031  0.243888  0.044618   \n",
       "Angola              nonpoor     0.8   7121.979386  0.104156  0.222081   \n",
       "                    poor        0.2   1635.713147  0.140762  0.040259   \n",
       "Antigua and Barbuda nonpoor     0.8  25704.504585  0.122363  0.153000   \n",
       "\n",
       "                                gamma_SP             k        fa  \n",
       "country             income_cat                                    \n",
       "Albania             nonpoor     1.095582  70827.184540  0.025179  \n",
       "                    poor        0.617673  24998.396447  0.024174  \n",
       "Angola              nonpoor     1.159988  16507.539225  0.003203  \n",
       "                    poor        0.360049   3636.384458  0.014163  \n",
       "Antigua and Barbuda nonpoor     1.223611  64278.309421  0.203447  "
      ]
     },
     "execution_count": 81,
     "metadata": {},
     "output_type": "execute_result"
    }
   ],
   "source": [
    "#Exposure the the 100 yr river flood as \"default\" case\n",
    "cat_info[\"fa\"] =hazard_ratios.fa.mean(level=[\"country\",\"income_cat\"])\n",
    "cat_info[\"fa\"];\n",
    "# cat_info[cat_info.fa.isnull()]\n",
    "# cat_info[\"fa\"] = concat_categories((1+pe),(1-df.pov_head*(1+pe))/(1-df.pov_head), index=income_cats)\n",
    "cat_info.head()\n",
    "# cat_info[[\"fa\",\"n\"]].prod(axis=1).sum(level=\"country\")/df.fa"
   ]
  },
  {
   "cell_type": "code",
   "execution_count": 82,
   "metadata": {
    "collapsed": false
   },
   "outputs": [
    {
     "data": {
      "text/plain": [
       "array(['Antigua and Barbuda', 'Belize', 'Comoros', 'Dominica',\n",
       "       'Dominican Republic', 'Fiji', 'Guinea-Bissau', 'Guyana', 'Haiti',\n",
       "       'Jamaica', 'Kiribati', 'Maldives', 'Mauritius', 'Papua New Guinea',\n",
       "       'Seychelles', 'Solomon Islands', 'St. Lucia',\n",
       "       'St. Vincent and the Grenadines', 'Timor-Leste', 'Tonga',\n",
       "       'Trinidad and Tobago', 'Vanuatu'], dtype=object)"
      ]
     },
     "execution_count": 82,
     "metadata": {},
     "output_type": "execute_result"
    }
   ],
   "source": [
    "cat_info.loc[list(list_of_sids),:].dropna().reset_index().country.unique()"
   ]
  },
  {
   "cell_type": "markdown",
   "metadata": {},
   "source": [
    "## Vulnerability"
   ]
  },
  {
   "cell_type": "code",
   "execution_count": 83,
   "metadata": {
    "collapsed": false,
    "run_control": {
     "frozen": false,
     "read_only": false
    }
   },
   "outputs": [
    {
     "data": {
      "text/html": [
       "<div>\n",
       "<table border=\"1\" class=\"dataframe\">\n",
       "  <thead>\n",
       "    <tr style=\"text-align: right;\">\n",
       "      <th></th>\n",
       "      <th></th>\n",
       "      <th>n</th>\n",
       "      <th>c</th>\n",
       "      <th>social</th>\n",
       "      <th>axfin</th>\n",
       "      <th>gamma_SP</th>\n",
       "      <th>k</th>\n",
       "      <th>fa</th>\n",
       "      <th>v</th>\n",
       "    </tr>\n",
       "    <tr>\n",
       "      <th>country</th>\n",
       "      <th>income_cat</th>\n",
       "      <th></th>\n",
       "      <th></th>\n",
       "      <th></th>\n",
       "      <th></th>\n",
       "      <th></th>\n",
       "      <th></th>\n",
       "      <th></th>\n",
       "      <th></th>\n",
       "    </tr>\n",
       "  </thead>\n",
       "  <tbody>\n",
       "    <tr>\n",
       "      <th rowspan=\"2\" valign=\"top\">Albania</th>\n",
       "      <th>nonpoor</th>\n",
       "      <td>0.8</td>\n",
       "      <td>13016.935891</td>\n",
       "      <td>0.168006</td>\n",
       "      <td>0.096454</td>\n",
       "      <td>1.095582</td>\n",
       "      <td>70827.184540</td>\n",
       "      <td>0.025179</td>\n",
       "      <td>0.351500</td>\n",
       "    </tr>\n",
       "    <tr>\n",
       "      <th>poor</th>\n",
       "      <td>0.2</td>\n",
       "      <td>5055.398031</td>\n",
       "      <td>0.243888</td>\n",
       "      <td>0.044618</td>\n",
       "      <td>0.617673</td>\n",
       "      <td>24998.396447</td>\n",
       "      <td>0.024174</td>\n",
       "      <td>0.700000</td>\n",
       "    </tr>\n",
       "    <tr>\n",
       "      <th rowspan=\"2\" valign=\"top\">Angola</th>\n",
       "      <th>nonpoor</th>\n",
       "      <td>0.8</td>\n",
       "      <td>7121.979386</td>\n",
       "      <td>0.104156</td>\n",
       "      <td>0.222081</td>\n",
       "      <td>1.159988</td>\n",
       "      <td>16507.539225</td>\n",
       "      <td>0.003203</td>\n",
       "      <td>0.600000</td>\n",
       "    </tr>\n",
       "    <tr>\n",
       "      <th>poor</th>\n",
       "      <td>0.2</td>\n",
       "      <td>1635.713147</td>\n",
       "      <td>0.140762</td>\n",
       "      <td>0.040259</td>\n",
       "      <td>0.360049</td>\n",
       "      <td>3636.384458</td>\n",
       "      <td>0.014163</td>\n",
       "      <td>0.700000</td>\n",
       "    </tr>\n",
       "    <tr>\n",
       "      <th>Antigua and Barbuda</th>\n",
       "      <th>nonpoor</th>\n",
       "      <td>0.8</td>\n",
       "      <td>25704.504585</td>\n",
       "      <td>0.122363</td>\n",
       "      <td>0.153000</td>\n",
       "      <td>1.223611</td>\n",
       "      <td>64278.309421</td>\n",
       "      <td>0.203447</td>\n",
       "      <td>0.763987</td>\n",
       "    </tr>\n",
       "  </tbody>\n",
       "</table>\n",
       "</div>"
      ],
      "text/plain": [
       "                                  n             c    social     axfin  \\\n",
       "country             income_cat                                          \n",
       "Albania             nonpoor     0.8  13016.935891  0.168006  0.096454   \n",
       "                    poor        0.2   5055.398031  0.243888  0.044618   \n",
       "Angola              nonpoor     0.8   7121.979386  0.104156  0.222081   \n",
       "                    poor        0.2   1635.713147  0.140762  0.040259   \n",
       "Antigua and Barbuda nonpoor     0.8  25704.504585  0.122363  0.153000   \n",
       "\n",
       "                                gamma_SP             k        fa         v  \n",
       "country             income_cat                                              \n",
       "Albania             nonpoor     1.095582  70827.184540  0.025179  0.351500  \n",
       "                    poor        0.617673  24998.396447  0.024174  0.700000  \n",
       "Angola              nonpoor     1.159988  16507.539225  0.003203  0.600000  \n",
       "                    poor        0.360049   3636.384458  0.014163  0.700000  \n",
       "Antigua and Barbuda nonpoor     1.223611  64278.309421  0.203447  0.763987  "
      ]
     },
     "execution_count": 83,
     "metadata": {},
     "output_type": "execute_result"
    }
   ],
   "source": [
    "cat_info[\"v\"] = concat_categories(vp,vr, index=income_cats)\n",
    "cat_info.head()"
   ]
  },
  {
   "cell_type": "markdown",
   "metadata": {},
   "source": [
    "# access to early warnings"
   ]
  },
  {
   "cell_type": "code",
   "execution_count": 84,
   "metadata": {
    "collapsed": false,
    "run_control": {
     "frozen": false,
     "read_only": false
    }
   },
   "outputs": [],
   "source": [
    " hazard_ratios.shew.drop(\"eathrquake\", level=\"hazard\").mean(level=[\"country\",\"income_cat\"]);"
   ]
  },
  {
   "cell_type": "code",
   "execution_count": 85,
   "metadata": {
    "collapsed": false,
    "run_control": {
     "frozen": false,
     "read_only": false
    }
   },
   "outputs": [],
   "source": [
    "cat_info[\"shew\"] = hazard_ratios.shew.drop(\"eathrquake\", level=\"hazard\").mean(level=[\"country\",\"income_cat\"])"
   ]
  },
  {
   "cell_type": "code",
   "execution_count": 86,
   "metadata": {
    "collapsed": false,
    "run_control": {
     "frozen": false,
     "read_only": false
    }
   },
   "outputs": [
    {
     "data": {
      "text/html": [
       "<div>\n",
       "<table border=\"1\" class=\"dataframe\">\n",
       "  <thead>\n",
       "    <tr style=\"text-align: right;\">\n",
       "      <th></th>\n",
       "      <th></th>\n",
       "      <th>n</th>\n",
       "      <th>c</th>\n",
       "      <th>social</th>\n",
       "      <th>axfin</th>\n",
       "      <th>gamma_SP</th>\n",
       "      <th>k</th>\n",
       "      <th>fa</th>\n",
       "      <th>v</th>\n",
       "      <th>shew</th>\n",
       "    </tr>\n",
       "    <tr>\n",
       "      <th>country</th>\n",
       "      <th>income_cat</th>\n",
       "      <th></th>\n",
       "      <th></th>\n",
       "      <th></th>\n",
       "      <th></th>\n",
       "      <th></th>\n",
       "      <th></th>\n",
       "      <th></th>\n",
       "      <th></th>\n",
       "      <th></th>\n",
       "    </tr>\n",
       "  </thead>\n",
       "  <tbody>\n",
       "    <tr>\n",
       "      <th rowspan=\"2\" valign=\"top\">Albania</th>\n",
       "      <th>nonpoor</th>\n",
       "      <td>0.8</td>\n",
       "      <td>13016.935891</td>\n",
       "      <td>0.168006</td>\n",
       "      <td>0.096454</td>\n",
       "      <td>1.095582</td>\n",
       "      <td>70827.184540</td>\n",
       "      <td>0.025179</td>\n",
       "      <td>0.351500</td>\n",
       "      <td>0.0</td>\n",
       "    </tr>\n",
       "    <tr>\n",
       "      <th>poor</th>\n",
       "      <td>0.2</td>\n",
       "      <td>5055.398031</td>\n",
       "      <td>0.243888</td>\n",
       "      <td>0.044618</td>\n",
       "      <td>0.617673</td>\n",
       "      <td>24998.396447</td>\n",
       "      <td>0.024174</td>\n",
       "      <td>0.700000</td>\n",
       "      <td>0.0</td>\n",
       "    </tr>\n",
       "    <tr>\n",
       "      <th rowspan=\"2\" valign=\"top\">Angola</th>\n",
       "      <th>nonpoor</th>\n",
       "      <td>0.8</td>\n",
       "      <td>7121.979386</td>\n",
       "      <td>0.104156</td>\n",
       "      <td>0.222081</td>\n",
       "      <td>1.159988</td>\n",
       "      <td>16507.539225</td>\n",
       "      <td>0.003203</td>\n",
       "      <td>0.600000</td>\n",
       "      <td>0.0</td>\n",
       "    </tr>\n",
       "    <tr>\n",
       "      <th>poor</th>\n",
       "      <td>0.2</td>\n",
       "      <td>1635.713147</td>\n",
       "      <td>0.140762</td>\n",
       "      <td>0.040259</td>\n",
       "      <td>0.360049</td>\n",
       "      <td>3636.384458</td>\n",
       "      <td>0.014163</td>\n",
       "      <td>0.700000</td>\n",
       "      <td>0.0</td>\n",
       "    </tr>\n",
       "    <tr>\n",
       "      <th>Antigua and Barbuda</th>\n",
       "      <th>nonpoor</th>\n",
       "      <td>0.8</td>\n",
       "      <td>25704.504585</td>\n",
       "      <td>0.122363</td>\n",
       "      <td>0.153000</td>\n",
       "      <td>1.223611</td>\n",
       "      <td>64278.309421</td>\n",
       "      <td>0.203447</td>\n",
       "      <td>0.763987</td>\n",
       "      <td>0.3</td>\n",
       "    </tr>\n",
       "  </tbody>\n",
       "</table>\n",
       "</div>"
      ],
      "text/plain": [
       "                                  n             c    social     axfin  \\\n",
       "country             income_cat                                          \n",
       "Albania             nonpoor     0.8  13016.935891  0.168006  0.096454   \n",
       "                    poor        0.2   5055.398031  0.243888  0.044618   \n",
       "Angola              nonpoor     0.8   7121.979386  0.104156  0.222081   \n",
       "                    poor        0.2   1635.713147  0.140762  0.040259   \n",
       "Antigua and Barbuda nonpoor     0.8  25704.504585  0.122363  0.153000   \n",
       "\n",
       "                                gamma_SP             k        fa         v  \\\n",
       "country             income_cat                                               \n",
       "Albania             nonpoor     1.095582  70827.184540  0.025179  0.351500   \n",
       "                    poor        0.617673  24998.396447  0.024174  0.700000   \n",
       "Angola              nonpoor     1.159988  16507.539225  0.003203  0.600000   \n",
       "                    poor        0.360049   3636.384458  0.014163  0.700000   \n",
       "Antigua and Barbuda nonpoor     1.223611  64278.309421  0.203447  0.763987   \n",
       "\n",
       "                                shew  \n",
       "country             income_cat        \n",
       "Albania             nonpoor      0.0  \n",
       "                    poor         0.0  \n",
       "Angola              nonpoor      0.0  \n",
       "                    poor         0.0  \n",
       "Antigua and Barbuda nonpoor      0.3  "
      ]
     },
     "execution_count": 86,
     "metadata": {},
     "output_type": "execute_result"
    }
   ],
   "source": [
    "cat_info.head()"
   ]
  },
  {
   "cell_type": "code",
   "execution_count": 87,
   "metadata": {
    "collapsed": false
   },
   "outputs": [
    {
     "data": {
      "text/plain": [
       "array(['Antigua and Barbuda', 'Belize', 'Comoros', 'Dominica',\n",
       "       'Dominican Republic', 'Fiji', 'Guinea-Bissau', 'Guyana', 'Haiti',\n",
       "       'Jamaica', 'Kiribati', 'Maldives', 'Mauritius', 'Papua New Guinea',\n",
       "       'Seychelles', 'Solomon Islands', 'St. Lucia',\n",
       "       'St. Vincent and the Grenadines', 'Timor-Leste', 'Tonga',\n",
       "       'Trinidad and Tobago', 'Vanuatu'], dtype=object)"
      ]
     },
     "execution_count": 87,
     "metadata": {},
     "output_type": "execute_result"
    }
   ],
   "source": [
    "cat_info.loc[list(list_of_sids),:].dropna().reset_index().country.unique()"
   ]
  },
  {
   "cell_type": "markdown",
   "metadata": {},
   "source": [
    "## missing data per income category"
   ]
  },
  {
   "cell_type": "code",
   "execution_count": 88,
   "metadata": {
    "collapsed": false,
    "run_control": {
     "frozen": false,
     "read_only": false
    }
   },
   "outputs": [
    {
     "ename": "NameError",
     "evalue": "name 'report_missing_data' is not defined",
     "output_type": "error",
     "traceback": [
      "\u001b[0;31m---------------------------------------------------------------------------\u001b[0m",
      "\u001b[0;31mNameError\u001b[0m                                 Traceback (most recent call last)",
      "\u001b[0;32m<ipython-input-88-e61642f25c5a>\u001b[0m in \u001b[0;36m<module>\u001b[0;34m()\u001b[0m\n\u001b[0;32m----> 1\u001b[0;31m \u001b[0mreport_missing_data\u001b[0m\u001b[1;33m(\u001b[0m\u001b[0mcat_info\u001b[0m\u001b[1;33m)\u001b[0m\u001b[1;33m.\u001b[0m\u001b[0mreset_index\u001b[0m\u001b[1;33m(\u001b[0m\u001b[1;34m\"income_cat\"\u001b[0m\u001b[1;33m,\u001b[0m \u001b[0mdrop\u001b[0m\u001b[1;33m=\u001b[0m\u001b[1;32mTrue\u001b[0m\u001b[1;33m)\u001b[0m\u001b[1;33m.\u001b[0m\u001b[0mreset_index\u001b[0m\u001b[1;33m(\u001b[0m\u001b[1;33m)\u001b[0m\u001b[1;33m.\u001b[0m\u001b[0mdrop_duplicates\u001b[0m\u001b[1;33m(\u001b[0m\u001b[1;33m)\u001b[0m\u001b[1;33m\u001b[0m\u001b[0m\n\u001b[0m",
      "\u001b[0;31mNameError\u001b[0m: name 'report_missing_data' is not defined"
     ]
    }
   ],
   "source": [
    "report_missing_data(cat_info).reset_index(\"income_cat\", drop=True).reset_index().drop_duplicates()"
   ]
  },
  {
   "cell_type": "code",
   "execution_count": 89,
   "metadata": {
    "collapsed": false,
    "run_control": {
     "frozen": false,
     "read_only": false
    }
   },
   "outputs": [
    {
     "data": {
      "text/html": [
       "<div>\n",
       "<table border=\"1\" class=\"dataframe\">\n",
       "  <thead>\n",
       "    <tr style=\"text-align: right;\">\n",
       "      <th></th>\n",
       "      <th></th>\n",
       "      <th>n</th>\n",
       "      <th>c</th>\n",
       "      <th>axfin</th>\n",
       "      <th>gamma_SP</th>\n",
       "      <th>k</th>\n",
       "      <th>fa</th>\n",
       "      <th>v</th>\n",
       "      <th>shew</th>\n",
       "    </tr>\n",
       "    <tr>\n",
       "      <th>country</th>\n",
       "      <th>income_cat</th>\n",
       "      <th></th>\n",
       "      <th></th>\n",
       "      <th></th>\n",
       "      <th></th>\n",
       "      <th></th>\n",
       "      <th></th>\n",
       "      <th></th>\n",
       "      <th></th>\n",
       "    </tr>\n",
       "  </thead>\n",
       "  <tbody>\n",
       "    <tr>\n",
       "      <th rowspan=\"2\" valign=\"top\">Albania</th>\n",
       "      <th>nonpoor</th>\n",
       "      <td>0.8</td>\n",
       "      <td>13016.935891</td>\n",
       "      <td>0.096454</td>\n",
       "      <td>1.095582</td>\n",
       "      <td>70827.184540</td>\n",
       "      <td>0.025179</td>\n",
       "      <td>0.351500</td>\n",
       "      <td>0.0</td>\n",
       "    </tr>\n",
       "    <tr>\n",
       "      <th>poor</th>\n",
       "      <td>0.2</td>\n",
       "      <td>5055.398031</td>\n",
       "      <td>0.044618</td>\n",
       "      <td>0.617673</td>\n",
       "      <td>24998.396447</td>\n",
       "      <td>0.024174</td>\n",
       "      <td>0.700000</td>\n",
       "      <td>0.0</td>\n",
       "    </tr>\n",
       "    <tr>\n",
       "      <th rowspan=\"2\" valign=\"top\">Angola</th>\n",
       "      <th>nonpoor</th>\n",
       "      <td>0.8</td>\n",
       "      <td>7121.979386</td>\n",
       "      <td>0.222081</td>\n",
       "      <td>1.159988</td>\n",
       "      <td>16507.539225</td>\n",
       "      <td>0.003203</td>\n",
       "      <td>0.600000</td>\n",
       "      <td>0.0</td>\n",
       "    </tr>\n",
       "    <tr>\n",
       "      <th>poor</th>\n",
       "      <td>0.2</td>\n",
       "      <td>1635.713147</td>\n",
       "      <td>0.040259</td>\n",
       "      <td>0.360049</td>\n",
       "      <td>3636.384458</td>\n",
       "      <td>0.014163</td>\n",
       "      <td>0.700000</td>\n",
       "      <td>0.0</td>\n",
       "    </tr>\n",
       "    <tr>\n",
       "      <th>Antigua and Barbuda</th>\n",
       "      <th>nonpoor</th>\n",
       "      <td>0.8</td>\n",
       "      <td>25704.504585</td>\n",
       "      <td>0.153000</td>\n",
       "      <td>1.223611</td>\n",
       "      <td>64278.309421</td>\n",
       "      <td>0.203447</td>\n",
       "      <td>0.763987</td>\n",
       "      <td>0.3</td>\n",
       "    </tr>\n",
       "  </tbody>\n",
       "</table>\n",
       "</div>"
      ],
      "text/plain": [
       "                                  n             c     axfin  gamma_SP  \\\n",
       "country             income_cat                                          \n",
       "Albania             nonpoor     0.8  13016.935891  0.096454  1.095582   \n",
       "                    poor        0.2   5055.398031  0.044618  0.617673   \n",
       "Angola              nonpoor     0.8   7121.979386  0.222081  1.159988   \n",
       "                    poor        0.2   1635.713147  0.040259  0.360049   \n",
       "Antigua and Barbuda nonpoor     0.8  25704.504585  0.153000  1.223611   \n",
       "\n",
       "                                           k        fa         v  shew  \n",
       "country             income_cat                                          \n",
       "Albania             nonpoor     70827.184540  0.025179  0.351500   0.0  \n",
       "                    poor        24998.396447  0.024174  0.700000   0.0  \n",
       "Angola              nonpoor     16507.539225  0.003203  0.600000   0.0  \n",
       "                    poor         3636.384458  0.014163  0.700000   0.0  \n",
       "Antigua and Barbuda nonpoor     64278.309421  0.203447  0.763987   0.3  "
      ]
     },
     "execution_count": 89,
     "metadata": {},
     "output_type": "execute_result"
    }
   ],
   "source": [
    "if drop_unused_data:\n",
    "    cat_info= cat_info.drop([\"social\"],axis=1, errors=\"ignore\").dropna()\n",
    "cat_info.head()"
   ]
  },
  {
   "cell_type": "markdown",
   "metadata": {},
   "source": [
    "# Saves all data"
   ]
  },
  {
   "cell_type": "code",
   "execution_count": 90,
   "metadata": {
    "collapsed": false,
    "run_control": {
     "frozen": false,
     "read_only": false
    }
   },
   "outputs": [
    {
     "name": "stdout",
     "output_type": "stream",
     "text": [
      "Index(['gdp_pc_pp', 'pop', 'urbanization_rate', 'gdp_pc_cd', 'shew',\n",
      "       'prepare_scaleup', 'borrow_abi', 'avg_prod_k', 'transport_share',\n",
      "       'energy_share', 'building_share', 'water_share',\n",
      "       'building_residential_share', 'T_rebuild_K', 'pi', 'income_elast',\n",
      "       'rho', 'shareable', 'max_increased_spending', 'protection', 'tau_tax'],\n",
      "      dtype='object')\n"
     ]
    }
   ],
   "source": [
    "\n",
    "if drop_unused_data:\n",
    "#the data in these columns is now in cat_info\n",
    "\n",
    "    df_in = df.drop(\n",
    "        [\"social_p\", \"social_r\",\"share1\",\"pov_head\", \"pe\",\"vp\",\"vr\", \"axfin_p\",  \"axfin_r\",\"rating\",\"finance_pre\",\"peb1\",\"peb2\"],\n",
    "        axis=1, errors=\"ignore\")\n",
    "    if not use_GLOFRIS_flood:\n",
    "        df_in = df_in.drop([\"fa_glofris\"],axis=1, errors=\"ignore\")\n",
    "\n",
    "    df_in = df_in.dropna()\n",
    "    print(df_in.columns)\n",
    "else :\n",
    "    df_in = df.dropna()\n",
    "\n",
    "\n",
    "#also removes \"intermediate\" data\n",
    "df_in = df_in.drop([ \"shew\",\"v\"],\n",
    "                  axis=1, errors=\"ignore\").dropna()\n",
    "    "
   ]
  },
  {
   "cell_type": "code",
   "execution_count": 91,
   "metadata": {
    "collapsed": false,
    "run_control": {
     "frozen": false,
     "read_only": false
    }
   },
   "outputs": [
    {
     "data": {
      "text/plain": [
       "(8, 20)"
      ]
     },
     "execution_count": 91,
     "metadata": {},
     "output_type": "execute_result"
    }
   ],
   "source": [
    "\n",
    "df_in.to_csv(\"intermediate/macro.csv\")\n",
    "df_in.shape"
   ]
  },
  {
   "cell_type": "code",
   "execution_count": 93,
   "metadata": {
    "collapsed": false
   },
   "outputs": [
    {
     "data": {
      "text/plain": [
       "array(['Belize', 'Fiji', 'Haiti', 'Jamaica', 'Kiribati',\n",
       "       'Papua New Guinea', 'Solomon Islands', 'Tonga'], dtype=object)"
      ]
     },
     "execution_count": 93,
     "metadata": {},
     "output_type": "execute_result"
    }
   ],
   "source": [
    "df_in.loc[list(list_of_sids),:].dropna().reset_index().country.unique()"
   ]
  },
  {
   "cell_type": "code",
   "execution_count": 94,
   "metadata": {
    "collapsed": false
   },
   "outputs": [
    {
     "data": {
      "text/html": [
       "<div>\n",
       "<table border=\"1\" class=\"dataframe\">\n",
       "  <thead>\n",
       "    <tr style=\"text-align: right;\">\n",
       "      <th></th>\n",
       "      <th>gdp_pc_pp</th>\n",
       "      <th>pop</th>\n",
       "      <th>urbanization_rate</th>\n",
       "      <th>gdp_pc_cd</th>\n",
       "      <th>prepare_scaleup</th>\n",
       "      <th>borrow_abi</th>\n",
       "      <th>avg_prod_k</th>\n",
       "      <th>transport_share</th>\n",
       "      <th>energy_share</th>\n",
       "      <th>building_share</th>\n",
       "      <th>water_share</th>\n",
       "      <th>building_residential_share</th>\n",
       "      <th>T_rebuild_K</th>\n",
       "      <th>pi</th>\n",
       "      <th>income_elast</th>\n",
       "      <th>rho</th>\n",
       "      <th>shareable</th>\n",
       "      <th>max_increased_spending</th>\n",
       "      <th>protection</th>\n",
       "      <th>tau_tax</th>\n",
       "    </tr>\n",
       "    <tr>\n",
       "      <th>country</th>\n",
       "      <th></th>\n",
       "      <th></th>\n",
       "      <th></th>\n",
       "      <th></th>\n",
       "      <th></th>\n",
       "      <th></th>\n",
       "      <th></th>\n",
       "      <th></th>\n",
       "      <th></th>\n",
       "      <th></th>\n",
       "      <th></th>\n",
       "      <th></th>\n",
       "      <th></th>\n",
       "      <th></th>\n",
       "      <th></th>\n",
       "      <th></th>\n",
       "      <th></th>\n",
       "      <th></th>\n",
       "      <th></th>\n",
       "      <th></th>\n",
       "    </tr>\n",
       "  </thead>\n",
       "  <tbody>\n",
       "    <tr>\n",
       "      <th>Belize</th>\n",
       "      <td>7831.454486</td>\n",
       "      <td>366954.0</td>\n",
       "      <td>0.43845</td>\n",
       "      <td>4810.565902</td>\n",
       "      <td>0.000000</td>\n",
       "      <td>0.075000</td>\n",
       "      <td>0.961548</td>\n",
       "      <td>0.234088</td>\n",
       "      <td>0.022987</td>\n",
       "      <td>0.430413</td>\n",
       "      <td>0.040543</td>\n",
       "      <td>0.500000</td>\n",
       "      <td>3.0</td>\n",
       "      <td>0.2</td>\n",
       "      <td>1.5</td>\n",
       "      <td>0.06</td>\n",
       "      <td>0.8</td>\n",
       "      <td>0.05</td>\n",
       "      <td>20.0</td>\n",
       "      <td>0.122747</td>\n",
       "    </tr>\n",
       "    <tr>\n",
       "      <th>Fiji</th>\n",
       "      <td>8862.740443</td>\n",
       "      <td>898760.0</td>\n",
       "      <td>0.54099</td>\n",
       "      <td>5153.351544</td>\n",
       "      <td>1.000000</td>\n",
       "      <td>0.675000</td>\n",
       "      <td>0.336139</td>\n",
       "      <td>0.130303</td>\n",
       "      <td>0.021108</td>\n",
       "      <td>0.284270</td>\n",
       "      <td>0.018071</td>\n",
       "      <td>0.629309</td>\n",
       "      <td>3.0</td>\n",
       "      <td>0.2</td>\n",
       "      <td>1.5</td>\n",
       "      <td>0.06</td>\n",
       "      <td>0.8</td>\n",
       "      <td>0.05</td>\n",
       "      <td>20.0</td>\n",
       "      <td>0.130431</td>\n",
       "    </tr>\n",
       "    <tr>\n",
       "      <th>Haiti</th>\n",
       "      <td>1653.961848</td>\n",
       "      <td>10847334.0</td>\n",
       "      <td>0.59794</td>\n",
       "      <td>739.595436</td>\n",
       "      <td>0.533333</td>\n",
       "      <td>0.250000</td>\n",
       "      <td>0.133367</td>\n",
       "      <td>0.072423</td>\n",
       "      <td>0.001663</td>\n",
       "      <td>0.197469</td>\n",
       "      <td>0.009452</td>\n",
       "      <td>0.500000</td>\n",
       "      <td>3.0</td>\n",
       "      <td>0.2</td>\n",
       "      <td>1.5</td>\n",
       "      <td>0.06</td>\n",
       "      <td>0.8</td>\n",
       "      <td>0.05</td>\n",
       "      <td>20.0</td>\n",
       "      <td>0.014258</td>\n",
       "    </tr>\n",
       "    <tr>\n",
       "      <th>Jamaica</th>\n",
       "      <td>8190.000905</td>\n",
       "      <td>2881355.0</td>\n",
       "      <td>0.55030</td>\n",
       "      <td>4868.248263</td>\n",
       "      <td>0.600000</td>\n",
       "      <td>0.408333</td>\n",
       "      <td>0.381009</td>\n",
       "      <td>0.044061</td>\n",
       "      <td>0.006777</td>\n",
       "      <td>0.328970</td>\n",
       "      <td>0.036678</td>\n",
       "      <td>0.500000</td>\n",
       "      <td>3.0</td>\n",
       "      <td>0.2</td>\n",
       "      <td>1.5</td>\n",
       "      <td>0.06</td>\n",
       "      <td>0.8</td>\n",
       "      <td>0.05</td>\n",
       "      <td>20.0</td>\n",
       "      <td>0.153719</td>\n",
       "    </tr>\n",
       "    <tr>\n",
       "      <th>Kiribati</th>\n",
       "      <td>1897.812347</td>\n",
       "      <td>114395.0</td>\n",
       "      <td>0.44447</td>\n",
       "      <td>1449.058231</td>\n",
       "      <td>0.000000</td>\n",
       "      <td>0.000000</td>\n",
       "      <td>0.283950</td>\n",
       "      <td>0.502686</td>\n",
       "      <td>0.006517</td>\n",
       "      <td>0.438633</td>\n",
       "      <td>0.014161</td>\n",
       "      <td>0.500000</td>\n",
       "      <td>3.0</td>\n",
       "      <td>0.2</td>\n",
       "      <td>1.5</td>\n",
       "      <td>0.06</td>\n",
       "      <td>0.8</td>\n",
       "      <td>0.05</td>\n",
       "      <td>20.0</td>\n",
       "      <td>0.087979</td>\n",
       "    </tr>\n",
       "    <tr>\n",
       "      <th>Papua New Guinea</th>\n",
       "      <td>2620.882403</td>\n",
       "      <td>8084991.0</td>\n",
       "      <td>0.13039</td>\n",
       "      <td>2182.716565</td>\n",
       "      <td>0.400000</td>\n",
       "      <td>0.400000</td>\n",
       "      <td>0.325181</td>\n",
       "      <td>0.107056</td>\n",
       "      <td>0.013646</td>\n",
       "      <td>0.202103</td>\n",
       "      <td>0.013100</td>\n",
       "      <td>0.500000</td>\n",
       "      <td>3.0</td>\n",
       "      <td>0.2</td>\n",
       "      <td>1.5</td>\n",
       "      <td>0.06</td>\n",
       "      <td>0.8</td>\n",
       "      <td>0.05</td>\n",
       "      <td>20.0</td>\n",
       "      <td>0.001528</td>\n",
       "    </tr>\n",
       "    <tr>\n",
       "      <th>Solomon Islands</th>\n",
       "      <td>2072.710578</td>\n",
       "      <td>599419.0</td>\n",
       "      <td>0.22779</td>\n",
       "      <td>2005.483643</td>\n",
       "      <td>0.533333</td>\n",
       "      <td>0.375000</td>\n",
       "      <td>0.296886</td>\n",
       "      <td>0.000000</td>\n",
       "      <td>0.006583</td>\n",
       "      <td>0.243633</td>\n",
       "      <td>0.011991</td>\n",
       "      <td>0.500000</td>\n",
       "      <td>3.0</td>\n",
       "      <td>0.2</td>\n",
       "      <td>1.5</td>\n",
       "      <td>0.06</td>\n",
       "      <td>0.8</td>\n",
       "      <td>0.05</td>\n",
       "      <td>20.0</td>\n",
       "      <td>0.066665</td>\n",
       "    </tr>\n",
       "    <tr>\n",
       "      <th>Tonga</th>\n",
       "      <td>5332.472445</td>\n",
       "      <td>107122.0</td>\n",
       "      <td>0.23801</td>\n",
       "      <td>3688.874636</td>\n",
       "      <td>0.600000</td>\n",
       "      <td>0.333333</td>\n",
       "      <td>0.357836</td>\n",
       "      <td>0.000000</td>\n",
       "      <td>0.009787</td>\n",
       "      <td>0.527292</td>\n",
       "      <td>0.020589</td>\n",
       "      <td>0.500000</td>\n",
       "      <td>3.0</td>\n",
       "      <td>0.2</td>\n",
       "      <td>1.5</td>\n",
       "      <td>0.06</td>\n",
       "      <td>0.8</td>\n",
       "      <td>0.05</td>\n",
       "      <td>20.0</td>\n",
       "      <td>0.105780</td>\n",
       "    </tr>\n",
       "  </tbody>\n",
       "</table>\n",
       "</div>"
      ],
      "text/plain": [
       "                    gdp_pc_pp         pop  urbanization_rate    gdp_pc_cd  \\\n",
       "country                                                                     \n",
       "Belize            7831.454486    366954.0            0.43845  4810.565902   \n",
       "Fiji              8862.740443    898760.0            0.54099  5153.351544   \n",
       "Haiti             1653.961848  10847334.0            0.59794   739.595436   \n",
       "Jamaica           8190.000905   2881355.0            0.55030  4868.248263   \n",
       "Kiribati          1897.812347    114395.0            0.44447  1449.058231   \n",
       "Papua New Guinea  2620.882403   8084991.0            0.13039  2182.716565   \n",
       "Solomon Islands   2072.710578    599419.0            0.22779  2005.483643   \n",
       "Tonga             5332.472445    107122.0            0.23801  3688.874636   \n",
       "\n",
       "                  prepare_scaleup  borrow_abi  avg_prod_k  transport_share  \\\n",
       "country                                                                      \n",
       "Belize                   0.000000    0.075000    0.961548         0.234088   \n",
       "Fiji                     1.000000    0.675000    0.336139         0.130303   \n",
       "Haiti                    0.533333    0.250000    0.133367         0.072423   \n",
       "Jamaica                  0.600000    0.408333    0.381009         0.044061   \n",
       "Kiribati                 0.000000    0.000000    0.283950         0.502686   \n",
       "Papua New Guinea         0.400000    0.400000    0.325181         0.107056   \n",
       "Solomon Islands          0.533333    0.375000    0.296886         0.000000   \n",
       "Tonga                    0.600000    0.333333    0.357836         0.000000   \n",
       "\n",
       "                  energy_share  building_share  water_share  \\\n",
       "country                                                       \n",
       "Belize                0.022987        0.430413     0.040543   \n",
       "Fiji                  0.021108        0.284270     0.018071   \n",
       "Haiti                 0.001663        0.197469     0.009452   \n",
       "Jamaica               0.006777        0.328970     0.036678   \n",
       "Kiribati              0.006517        0.438633     0.014161   \n",
       "Papua New Guinea      0.013646        0.202103     0.013100   \n",
       "Solomon Islands       0.006583        0.243633     0.011991   \n",
       "Tonga                 0.009787        0.527292     0.020589   \n",
       "\n",
       "                  building_residential_share  T_rebuild_K   pi  income_elast  \\\n",
       "country                                                                        \n",
       "Belize                              0.500000          3.0  0.2           1.5   \n",
       "Fiji                                0.629309          3.0  0.2           1.5   \n",
       "Haiti                               0.500000          3.0  0.2           1.5   \n",
       "Jamaica                             0.500000          3.0  0.2           1.5   \n",
       "Kiribati                            0.500000          3.0  0.2           1.5   \n",
       "Papua New Guinea                    0.500000          3.0  0.2           1.5   \n",
       "Solomon Islands                     0.500000          3.0  0.2           1.5   \n",
       "Tonga                               0.500000          3.0  0.2           1.5   \n",
       "\n",
       "                   rho  shareable  max_increased_spending  protection  \\\n",
       "country                                                                 \n",
       "Belize            0.06        0.8                    0.05        20.0   \n",
       "Fiji              0.06        0.8                    0.05        20.0   \n",
       "Haiti             0.06        0.8                    0.05        20.0   \n",
       "Jamaica           0.06        0.8                    0.05        20.0   \n",
       "Kiribati          0.06        0.8                    0.05        20.0   \n",
       "Papua New Guinea  0.06        0.8                    0.05        20.0   \n",
       "Solomon Islands   0.06        0.8                    0.05        20.0   \n",
       "Tonga             0.06        0.8                    0.05        20.0   \n",
       "\n",
       "                   tau_tax  \n",
       "country                     \n",
       "Belize            0.122747  \n",
       "Fiji              0.130431  \n",
       "Haiti             0.014258  \n",
       "Jamaica           0.153719  \n",
       "Kiribati          0.087979  \n",
       "Papua New Guinea  0.001528  \n",
       "Solomon Islands   0.066665  \n",
       "Tonga             0.105780  "
      ]
     },
     "execution_count": 94,
     "metadata": {},
     "output_type": "execute_result"
    }
   ],
   "source": [
    "df_in.loc[list(list_of_sids),:].dropna()"
   ]
  },
  {
   "cell_type": "code",
   "execution_count": 95,
   "metadata": {
    "collapsed": false,
    "run_control": {
     "frozen": false,
     "read_only": false
    }
   },
   "outputs": [
    {
     "data": {
      "text/html": [
       "<div>\n",
       "<table border=\"1\" class=\"dataframe\">\n",
       "  <thead>\n",
       "    <tr style=\"text-align: right;\">\n",
       "      <th></th>\n",
       "      <th></th>\n",
       "      <th>n</th>\n",
       "      <th>c</th>\n",
       "      <th>axfin</th>\n",
       "      <th>gamma_SP</th>\n",
       "      <th>k</th>\n",
       "      <th>fa</th>\n",
       "      <th>v</th>\n",
       "      <th>shew</th>\n",
       "    </tr>\n",
       "    <tr>\n",
       "      <th>country</th>\n",
       "      <th>income_cat</th>\n",
       "      <th></th>\n",
       "      <th></th>\n",
       "      <th></th>\n",
       "      <th></th>\n",
       "      <th></th>\n",
       "      <th></th>\n",
       "      <th></th>\n",
       "      <th></th>\n",
       "    </tr>\n",
       "  </thead>\n",
       "  <tbody>\n",
       "    <tr>\n",
       "      <th rowspan=\"2\" valign=\"top\">Albania</th>\n",
       "      <th>nonpoor</th>\n",
       "      <td>0.8</td>\n",
       "      <td>13016.935891</td>\n",
       "      <td>0.096454</td>\n",
       "      <td>1.095582</td>\n",
       "      <td>70827.184540</td>\n",
       "      <td>0.025179</td>\n",
       "      <td>0.351500</td>\n",
       "      <td>0.0</td>\n",
       "    </tr>\n",
       "    <tr>\n",
       "      <th>poor</th>\n",
       "      <td>0.2</td>\n",
       "      <td>5055.398031</td>\n",
       "      <td>0.044618</td>\n",
       "      <td>0.617673</td>\n",
       "      <td>24998.396447</td>\n",
       "      <td>0.024174</td>\n",
       "      <td>0.700000</td>\n",
       "      <td>0.0</td>\n",
       "    </tr>\n",
       "    <tr>\n",
       "      <th rowspan=\"2\" valign=\"top\">Angola</th>\n",
       "      <th>nonpoor</th>\n",
       "      <td>0.8</td>\n",
       "      <td>7121.979386</td>\n",
       "      <td>0.222081</td>\n",
       "      <td>1.159988</td>\n",
       "      <td>16507.539225</td>\n",
       "      <td>0.003203</td>\n",
       "      <td>0.600000</td>\n",
       "      <td>0.0</td>\n",
       "    </tr>\n",
       "    <tr>\n",
       "      <th>poor</th>\n",
       "      <td>0.2</td>\n",
       "      <td>1635.713147</td>\n",
       "      <td>0.040259</td>\n",
       "      <td>0.360049</td>\n",
       "      <td>3636.384458</td>\n",
       "      <td>0.014163</td>\n",
       "      <td>0.700000</td>\n",
       "      <td>0.0</td>\n",
       "    </tr>\n",
       "    <tr>\n",
       "      <th>Antigua and Barbuda</th>\n",
       "      <th>nonpoor</th>\n",
       "      <td>0.8</td>\n",
       "      <td>25704.504585</td>\n",
       "      <td>0.153000</td>\n",
       "      <td>1.223611</td>\n",
       "      <td>64278.309421</td>\n",
       "      <td>0.203447</td>\n",
       "      <td>0.763987</td>\n",
       "      <td>0.3</td>\n",
       "    </tr>\n",
       "  </tbody>\n",
       "</table>\n",
       "</div>"
      ],
      "text/plain": [
       "                                  n             c     axfin  gamma_SP  \\\n",
       "country             income_cat                                          \n",
       "Albania             nonpoor     0.8  13016.935891  0.096454  1.095582   \n",
       "                    poor        0.2   5055.398031  0.044618  0.617673   \n",
       "Angola              nonpoor     0.8   7121.979386  0.222081  1.159988   \n",
       "                    poor        0.2   1635.713147  0.040259  0.360049   \n",
       "Antigua and Barbuda nonpoor     0.8  25704.504585  0.153000  1.223611   \n",
       "\n",
       "                                           k        fa         v  shew  \n",
       "country             income_cat                                          \n",
       "Albania             nonpoor     70827.184540  0.025179  0.351500   0.0  \n",
       "                    poor        24998.396447  0.024174  0.700000   0.0  \n",
       "Angola              nonpoor     16507.539225  0.003203  0.600000   0.0  \n",
       "                    poor         3636.384458  0.014163  0.700000   0.0  \n",
       "Antigua and Barbuda nonpoor     64278.309421  0.203447  0.763987   0.3  "
      ]
     },
     "execution_count": 95,
     "metadata": {},
     "output_type": "execute_result"
    }
   ],
   "source": [
    "cat_info.to_csv(\"intermediate/cat_info.csv\")\n",
    "cat_info.head()"
   ]
  },
  {
   "cell_type": "code",
   "execution_count": 96,
   "metadata": {
    "collapsed": false
   },
   "outputs": [
    {
     "data": {
      "text/html": [
       "<div>\n",
       "<table border=\"1\" class=\"dataframe\">\n",
       "  <thead>\n",
       "    <tr style=\"text-align: right;\">\n",
       "      <th></th>\n",
       "      <th></th>\n",
       "      <th>n</th>\n",
       "      <th>c</th>\n",
       "      <th>axfin</th>\n",
       "      <th>gamma_SP</th>\n",
       "      <th>k</th>\n",
       "      <th>fa</th>\n",
       "      <th>v</th>\n",
       "      <th>shew</th>\n",
       "    </tr>\n",
       "    <tr>\n",
       "      <th>country</th>\n",
       "      <th>income_cat</th>\n",
       "      <th></th>\n",
       "      <th></th>\n",
       "      <th></th>\n",
       "      <th></th>\n",
       "      <th></th>\n",
       "      <th></th>\n",
       "      <th></th>\n",
       "      <th></th>\n",
       "    </tr>\n",
       "  </thead>\n",
       "  <tbody>\n",
       "    <tr>\n",
       "      <th rowspan=\"2\" valign=\"top\">Antigua and Barbuda</th>\n",
       "      <th>nonpoor</th>\n",
       "      <td>0.8</td>\n",
       "      <td>25704.504585</td>\n",
       "      <td>0.153000</td>\n",
       "      <td>1.223611</td>\n",
       "      <td>64278.309421</td>\n",
       "      <td>0.203447</td>\n",
       "      <td>0.763987</td>\n",
       "      <td>0.30</td>\n",
       "    </tr>\n",
       "    <tr>\n",
       "      <th>poor</th>\n",
       "      <td>0.2</td>\n",
       "      <td>1070.047074</td>\n",
       "      <td>0.153000</td>\n",
       "      <td>0.105556</td>\n",
       "      <td>2275.788778</td>\n",
       "      <td>0.212061</td>\n",
       "      <td>0.990000</td>\n",
       "      <td>0.30</td>\n",
       "    </tr>\n",
       "    <tr>\n",
       "      <th rowspan=\"2\" valign=\"top\">Belize</th>\n",
       "      <th>nonpoor</th>\n",
       "      <td>0.8</td>\n",
       "      <td>9475.080996</td>\n",
       "      <td>0.286476</td>\n",
       "      <td>1.112585</td>\n",
       "      <td>9964.857888</td>\n",
       "      <td>0.221314</td>\n",
       "      <td>0.354967</td>\n",
       "      <td>0.00</td>\n",
       "    </tr>\n",
       "    <tr>\n",
       "      <th>poor</th>\n",
       "      <td>0.2</td>\n",
       "      <td>1256.948445</td>\n",
       "      <td>0.126765</td>\n",
       "      <td>0.549660</td>\n",
       "      <td>863.722444</td>\n",
       "      <td>0.233403</td>\n",
       "      <td>0.614924</td>\n",
       "      <td>0.00</td>\n",
       "    </tr>\n",
       "    <tr>\n",
       "      <th rowspan=\"2\" valign=\"top\">Comoros</th>\n",
       "      <th>nonpoor</th>\n",
       "      <td>0.8</td>\n",
       "      <td>1693.206412</td>\n",
       "      <td>0.147553</td>\n",
       "      <td>1.182853</td>\n",
       "      <td>8556.739528</td>\n",
       "      <td>0.014304</td>\n",
       "      <td>0.442447</td>\n",
       "      <td>0.45</td>\n",
       "    </tr>\n",
       "    <tr>\n",
       "      <th>poor</th>\n",
       "      <td>0.2</td>\n",
       "      <td>282.936044</td>\n",
       "      <td>0.035311</td>\n",
       "      <td>0.268589</td>\n",
       "      <td>1415.632090</td>\n",
       "      <td>0.014605</td>\n",
       "      <td>0.700000</td>\n",
       "      <td>0.45</td>\n",
       "    </tr>\n",
       "    <tr>\n",
       "      <th rowspan=\"2\" valign=\"top\">Dominica</th>\n",
       "      <th>nonpoor</th>\n",
       "      <td>0.8</td>\n",
       "      <td>12234.281346</td>\n",
       "      <td>0.440000</td>\n",
       "      <td>0.979121</td>\n",
       "      <td>8488.335395</td>\n",
       "      <td>0.336477</td>\n",
       "      <td>0.630551</td>\n",
       "      <td>0.00</td>\n",
       "    </tr>\n",
       "    <tr>\n",
       "      <th>poor</th>\n",
       "      <td>0.2</td>\n",
       "      <td>1933.067323</td>\n",
       "      <td>0.440000</td>\n",
       "      <td>1.083515</td>\n",
       "      <td>612.063818</td>\n",
       "      <td>0.349258</td>\n",
       "      <td>0.942311</td>\n",
       "      <td>0.00</td>\n",
       "    </tr>\n",
       "    <tr>\n",
       "      <th rowspan=\"2\" valign=\"top\">Dominican Republic</th>\n",
       "      <th>nonpoor</th>\n",
       "      <td>0.8</td>\n",
       "      <td>16754.751612</td>\n",
       "      <td>0.339857</td>\n",
       "      <td>1.141545</td>\n",
       "      <td>44670.424305</td>\n",
       "      <td>0.116973</td>\n",
       "      <td>0.300000</td>\n",
       "      <td>0.64</td>\n",
       "    </tr>\n",
       "    <tr>\n",
       "      <th>poor</th>\n",
       "      <td>0.2</td>\n",
       "      <td>3475.372902</td>\n",
       "      <td>0.160156</td>\n",
       "      <td>0.433821</td>\n",
       "      <td>8231.479910</td>\n",
       "      <td>0.115993</td>\n",
       "      <td>0.348997</td>\n",
       "      <td>0.64</td>\n",
       "    </tr>\n",
       "    <tr>\n",
       "      <th rowspan=\"2\" valign=\"top\">Fiji</th>\n",
       "      <th>nonpoor</th>\n",
       "      <td>0.8</td>\n",
       "      <td>10402.641594</td>\n",
       "      <td>0.600000</td>\n",
       "      <td>1.137003</td>\n",
       "      <td>31092.764880</td>\n",
       "      <td>0.189459</td>\n",
       "      <td>0.225500</td>\n",
       "      <td>0.75</td>\n",
       "    </tr>\n",
       "    <tr>\n",
       "      <th>poor</th>\n",
       "      <td>0.2</td>\n",
       "      <td>2703.135835</td>\n",
       "      <td>0.600000</td>\n",
       "      <td>0.451987</td>\n",
       "      <td>7460.413929</td>\n",
       "      <td>0.183996</td>\n",
       "      <td>0.518000</td>\n",
       "      <td>0.75</td>\n",
       "    </tr>\n",
       "    <tr>\n",
       "      <th rowspan=\"2\" valign=\"top\">Guinea-Bissau</th>\n",
       "      <th>nonpoor</th>\n",
       "      <td>0.8</td>\n",
       "      <td>1750.540344</td>\n",
       "      <td>0.000200</td>\n",
       "      <td>1.206104</td>\n",
       "      <td>4132.343964</td>\n",
       "      <td>0.004023</td>\n",
       "      <td>0.675500</td>\n",
       "      <td>0.16</td>\n",
       "    </tr>\n",
       "    <tr>\n",
       "      <th>poor</th>\n",
       "      <td>0.2</td>\n",
       "      <td>329.177097</td>\n",
       "      <td>0.000200</td>\n",
       "      <td>0.175585</td>\n",
       "      <td>794.662763</td>\n",
       "      <td>0.004411</td>\n",
       "      <td>0.700000</td>\n",
       "      <td>0.16</td>\n",
       "    </tr>\n",
       "    <tr>\n",
       "      <th rowspan=\"2\" valign=\"top\">Guyana</th>\n",
       "      <th>nonpoor</th>\n",
       "      <td>0.8</td>\n",
       "      <td>8652.574782</td>\n",
       "      <td>0.680000</td>\n",
       "      <td>1.141246</td>\n",
       "      <td>22864.726851</td>\n",
       "      <td>0.054056</td>\n",
       "      <td>0.284500</td>\n",
       "      <td>0.00</td>\n",
       "    </tr>\n",
       "    <tr>\n",
       "      <th>poor</th>\n",
       "      <td>0.2</td>\n",
       "      <td>1630.851791</td>\n",
       "      <td>0.680000</td>\n",
       "      <td>0.435017</td>\n",
       "      <td>3700.139329</td>\n",
       "      <td>0.085765</td>\n",
       "      <td>0.344000</td>\n",
       "      <td>0.00</td>\n",
       "    </tr>\n",
       "    <tr>\n",
       "      <th rowspan=\"2\" valign=\"top\">Haiti</th>\n",
       "      <th>nonpoor</th>\n",
       "      <td>0.8</td>\n",
       "      <td>2026.516754</td>\n",
       "      <td>0.127552</td>\n",
       "      <td>1.232124</td>\n",
       "      <td>15193.811078</td>\n",
       "      <td>0.159243</td>\n",
       "      <td>0.247719</td>\n",
       "      <td>0.48</td>\n",
       "    </tr>\n",
       "    <tr>\n",
       "      <th>poor</th>\n",
       "      <td>0.2</td>\n",
       "      <td>163.742223</td>\n",
       "      <td>0.043699</td>\n",
       "      <td>0.071503</td>\n",
       "      <td>1232.689486</td>\n",
       "      <td>0.167251</td>\n",
       "      <td>0.990000</td>\n",
       "      <td>0.48</td>\n",
       "    </tr>\n",
       "    <tr>\n",
       "      <th rowspan=\"2\" valign=\"top\">Jamaica</th>\n",
       "      <th>nonpoor</th>\n",
       "      <td>0.8</td>\n",
       "      <td>9696.961072</td>\n",
       "      <td>0.352092</td>\n",
       "      <td>1.135569</td>\n",
       "      <td>25639.829571</td>\n",
       "      <td>0.139492</td>\n",
       "      <td>0.391376</td>\n",
       "      <td>0.64</td>\n",
       "    </tr>\n",
       "    <tr>\n",
       "      <th>poor</th>\n",
       "      <td>0.2</td>\n",
       "      <td>2162.160239</td>\n",
       "      <td>0.214720</td>\n",
       "      <td>0.457723</td>\n",
       "      <td>4918.437699</td>\n",
       "      <td>0.141328</td>\n",
       "      <td>0.700000</td>\n",
       "      <td>0.64</td>\n",
       "    </tr>\n",
       "    <tr>\n",
       "      <th rowspan=\"2\" valign=\"top\">Kiribati</th>\n",
       "      <th>nonpoor</th>\n",
       "      <td>0.8</td>\n",
       "      <td>2226.133883</td>\n",
       "      <td>0.000000</td>\n",
       "      <td>1.170417</td>\n",
       "      <td>7841.556828</td>\n",
       "      <td>0.000716</td>\n",
       "      <td>0.444500</td>\n",
       "      <td>0.00</td>\n",
       "    </tr>\n",
       "    <tr>\n",
       "      <th>poor</th>\n",
       "      <td>0.2</td>\n",
       "      <td>584.526203</td>\n",
       "      <td>0.000000</td>\n",
       "      <td>0.318332</td>\n",
       "      <td>2051.894814</td>\n",
       "      <td>0.000716</td>\n",
       "      <td>0.700000</td>\n",
       "      <td>0.00</td>\n",
       "    </tr>\n",
       "    <tr>\n",
       "      <th rowspan=\"2\" valign=\"top\">Maldives</th>\n",
       "      <th>nonpoor</th>\n",
       "      <td>0.8</td>\n",
       "      <td>14321.707139</td>\n",
       "      <td>0.550000</td>\n",
       "      <td>1.107984</td>\n",
       "      <td>43925.018826</td>\n",
       "      <td>0.000213</td>\n",
       "      <td>0.444500</td>\n",
       "      <td>0.30</td>\n",
       "    </tr>\n",
       "    <tr>\n",
       "      <th>poor</th>\n",
       "      <td>0.2</td>\n",
       "      <td>3890.903776</td>\n",
       "      <td>0.550000</td>\n",
       "      <td>0.568063</td>\n",
       "      <td>11755.840095</td>\n",
       "      <td>0.000213</td>\n",
       "      <td>0.700000</td>\n",
       "      <td>0.30</td>\n",
       "    </tr>\n",
       "    <tr>\n",
       "      <th rowspan=\"2\" valign=\"top\">Mauritius</th>\n",
       "      <th>nonpoor</th>\n",
       "      <td>0.8</td>\n",
       "      <td>22622.661924</td>\n",
       "      <td>0.436775</td>\n",
       "      <td>1.138863</td>\n",
       "      <td>77345.241645</td>\n",
       "      <td>0.035887</td>\n",
       "      <td>0.300000</td>\n",
       "      <td>0.60</td>\n",
       "    </tr>\n",
       "    <tr>\n",
       "      <th>poor</th>\n",
       "      <td>0.2</td>\n",
       "      <td>7252.544890</td>\n",
       "      <td>0.231974</td>\n",
       "      <td>0.444549</td>\n",
       "      <td>22162.288455</td>\n",
       "      <td>0.036831</td>\n",
       "      <td>0.300000</td>\n",
       "      <td>0.60</td>\n",
       "    </tr>\n",
       "    <tr>\n",
       "      <th rowspan=\"2\" valign=\"top\">Papua New Guinea</th>\n",
       "      <th>nonpoor</th>\n",
       "      <td>0.8</td>\n",
       "      <td>3120.815721</td>\n",
       "      <td>0.143800</td>\n",
       "      <td>1.077461</td>\n",
       "      <td>9598.555850</td>\n",
       "      <td>0.019776</td>\n",
       "      <td>0.538600</td>\n",
       "      <td>0.48</td>\n",
       "    </tr>\n",
       "    <tr>\n",
       "      <th>poor</th>\n",
       "      <td>0.2</td>\n",
       "      <td>621.149129</td>\n",
       "      <td>0.143800</td>\n",
       "      <td>0.690154</td>\n",
       "      <td>1904.575311</td>\n",
       "      <td>0.021123</td>\n",
       "      <td>0.700000</td>\n",
       "      <td>0.48</td>\n",
       "    </tr>\n",
       "    <tr>\n",
       "      <th rowspan=\"2\" valign=\"top\">Seychelles</th>\n",
       "      <th>nonpoor</th>\n",
       "      <td>0.8</td>\n",
       "      <td>31115.825284</td>\n",
       "      <td>0.940000</td>\n",
       "      <td>1.097358</td>\n",
       "      <td>144139.733378</td>\n",
       "      <td>0.000000</td>\n",
       "      <td>0.300000</td>\n",
       "      <td>0.60</td>\n",
       "    </tr>\n",
       "    <tr>\n",
       "      <th>poor</th>\n",
       "      <td>0.2</td>\n",
       "      <td>7132.491987</td>\n",
       "      <td>0.940000</td>\n",
       "      <td>0.610568</td>\n",
       "      <td>25578.695596</td>\n",
       "      <td>0.000000</td>\n",
       "      <td>0.300000</td>\n",
       "      <td>0.60</td>\n",
       "    </tr>\n",
       "    <tr>\n",
       "      <th rowspan=\"2\" valign=\"top\">Solomon Islands</th>\n",
       "      <th>nonpoor</th>\n",
       "      <td>0.8</td>\n",
       "      <td>2462.121077</td>\n",
       "      <td>0.260000</td>\n",
       "      <td>1.196802</td>\n",
       "      <td>8288.701424</td>\n",
       "      <td>0.192770</td>\n",
       "      <td>0.374082</td>\n",
       "      <td>0.45</td>\n",
       "    </tr>\n",
       "    <tr>\n",
       "      <th>poor</th>\n",
       "      <td>0.2</td>\n",
       "      <td>515.068579</td>\n",
       "      <td>0.260000</td>\n",
       "      <td>0.212791</td>\n",
       "      <td>1752.710555</td>\n",
       "      <td>0.197759</td>\n",
       "      <td>0.700000</td>\n",
       "      <td>0.45</td>\n",
       "    </tr>\n",
       "    <tr>\n",
       "      <th rowspan=\"2\" valign=\"top\">St. Lucia</th>\n",
       "      <th>nonpoor</th>\n",
       "      <td>0.8</td>\n",
       "      <td>12679.154801</td>\n",
       "      <td>0.350000</td>\n",
       "      <td>1.126241</td>\n",
       "      <td>14316.809424</td>\n",
       "      <td>0.284678</td>\n",
       "      <td>0.434480</td>\n",
       "      <td>0.45</td>\n",
       "    </tr>\n",
       "    <tr>\n",
       "      <th>poor</th>\n",
       "      <td>0.2</td>\n",
       "      <td>2798.859538</td>\n",
       "      <td>0.350000</td>\n",
       "      <td>0.495035</td>\n",
       "      <td>2742.864120</td>\n",
       "      <td>0.296619</td>\n",
       "      <td>0.497472</td>\n",
       "      <td>0.45</td>\n",
       "    </tr>\n",
       "    <tr>\n",
       "      <th rowspan=\"2\" valign=\"top\">St. Vincent and the Grenadines</th>\n",
       "      <th>nonpoor</th>\n",
       "      <td>0.8</td>\n",
       "      <td>10718.218509</td>\n",
       "      <td>0.206000</td>\n",
       "      <td>0.791620</td>\n",
       "      <td>17576.680248</td>\n",
       "      <td>0.310020</td>\n",
       "      <td>0.231072</td>\n",
       "      <td>0.00</td>\n",
       "    </tr>\n",
       "    <tr>\n",
       "      <th>poor</th>\n",
       "      <td>0.2</td>\n",
       "      <td>10919.941568</td>\n",
       "      <td>0.206000</td>\n",
       "      <td>1.833522</td>\n",
       "      <td>14479.058440</td>\n",
       "      <td>0.326455</td>\n",
       "      <td>0.573059</td>\n",
       "      <td>0.00</td>\n",
       "    </tr>\n",
       "    <tr>\n",
       "      <th rowspan=\"2\" valign=\"top\">Timor-Leste</th>\n",
       "      <th>nonpoor</th>\n",
       "      <td>0.8</td>\n",
       "      <td>2447.153164</td>\n",
       "      <td>0.620000</td>\n",
       "      <td>1.104229</td>\n",
       "      <td>19013.274542</td>\n",
       "      <td>0.039929</td>\n",
       "      <td>0.217434</td>\n",
       "      <td>0.48</td>\n",
       "    </tr>\n",
       "    <tr>\n",
       "      <th>poor</th>\n",
       "      <td>0.2</td>\n",
       "      <td>966.922621</td>\n",
       "      <td>0.620000</td>\n",
       "      <td>0.583083</td>\n",
       "      <td>7353.913477</td>\n",
       "      <td>0.040108</td>\n",
       "      <td>0.300000</td>\n",
       "      <td>0.48</td>\n",
       "    </tr>\n",
       "    <tr>\n",
       "      <th rowspan=\"2\" valign=\"top\">Tonga</th>\n",
       "      <th>nonpoor</th>\n",
       "      <td>0.8</td>\n",
       "      <td>6226.994697</td>\n",
       "      <td>0.008000</td>\n",
       "      <td>1.224314</td>\n",
       "      <td>17302.110761</td>\n",
       "      <td>0.208686</td>\n",
       "      <td>0.507158</td>\n",
       "      <td>0.45</td>\n",
       "    </tr>\n",
       "    <tr>\n",
       "      <th>poor</th>\n",
       "      <td>0.2</td>\n",
       "      <td>1754.383434</td>\n",
       "      <td>0.008000</td>\n",
       "      <td>0.102742</td>\n",
       "      <td>5301.611381</td>\n",
       "      <td>0.208686</td>\n",
       "      <td>0.507158</td>\n",
       "      <td>0.45</td>\n",
       "    </tr>\n",
       "    <tr>\n",
       "      <th rowspan=\"2\" valign=\"top\">Trinidad and Tobago</th>\n",
       "      <th>nonpoor</th>\n",
       "      <td>0.8</td>\n",
       "      <td>35161.984406</td>\n",
       "      <td>0.454662</td>\n",
       "      <td>1.111798</td>\n",
       "      <td>32957.066180</td>\n",
       "      <td>0.113758</td>\n",
       "      <td>0.390777</td>\n",
       "      <td>0.48</td>\n",
       "    </tr>\n",
       "    <tr>\n",
       "      <th>poor</th>\n",
       "      <td>0.2</td>\n",
       "      <td>7246.844315</td>\n",
       "      <td>0.428774</td>\n",
       "      <td>0.552807</td>\n",
       "      <td>5268.058485</td>\n",
       "      <td>0.114120</td>\n",
       "      <td>0.647905</td>\n",
       "      <td>0.48</td>\n",
       "    </tr>\n",
       "    <tr>\n",
       "      <th rowspan=\"2\" valign=\"top\">Vanuatu</th>\n",
       "      <th>nonpoor</th>\n",
       "      <td>0.8</td>\n",
       "      <td>3331.364331</td>\n",
       "      <td>0.190000</td>\n",
       "      <td>1.142667</td>\n",
       "      <td>11239.146480</td>\n",
       "      <td>0.240086</td>\n",
       "      <td>0.290612</td>\n",
       "      <td>0.45</td>\n",
       "    </tr>\n",
       "    <tr>\n",
       "      <th>poor</th>\n",
       "      <td>0.2</td>\n",
       "      <td>956.919229</td>\n",
       "      <td>0.190000</td>\n",
       "      <td>0.429332</td>\n",
       "      <td>3121.278508</td>\n",
       "      <td>0.243212</td>\n",
       "      <td>0.327758</td>\n",
       "      <td>0.45</td>\n",
       "    </tr>\n",
       "  </tbody>\n",
       "</table>\n",
       "</div>"
      ],
      "text/plain": [
       "                                             n             c     axfin  \\\n",
       "country                        income_cat                                \n",
       "Antigua and Barbuda            nonpoor     0.8  25704.504585  0.153000   \n",
       "                               poor        0.2   1070.047074  0.153000   \n",
       "Belize                         nonpoor     0.8   9475.080996  0.286476   \n",
       "                               poor        0.2   1256.948445  0.126765   \n",
       "Comoros                        nonpoor     0.8   1693.206412  0.147553   \n",
       "                               poor        0.2    282.936044  0.035311   \n",
       "Dominica                       nonpoor     0.8  12234.281346  0.440000   \n",
       "                               poor        0.2   1933.067323  0.440000   \n",
       "Dominican Republic             nonpoor     0.8  16754.751612  0.339857   \n",
       "                               poor        0.2   3475.372902  0.160156   \n",
       "Fiji                           nonpoor     0.8  10402.641594  0.600000   \n",
       "                               poor        0.2   2703.135835  0.600000   \n",
       "Guinea-Bissau                  nonpoor     0.8   1750.540344  0.000200   \n",
       "                               poor        0.2    329.177097  0.000200   \n",
       "Guyana                         nonpoor     0.8   8652.574782  0.680000   \n",
       "                               poor        0.2   1630.851791  0.680000   \n",
       "Haiti                          nonpoor     0.8   2026.516754  0.127552   \n",
       "                               poor        0.2    163.742223  0.043699   \n",
       "Jamaica                        nonpoor     0.8   9696.961072  0.352092   \n",
       "                               poor        0.2   2162.160239  0.214720   \n",
       "Kiribati                       nonpoor     0.8   2226.133883  0.000000   \n",
       "                               poor        0.2    584.526203  0.000000   \n",
       "Maldives                       nonpoor     0.8  14321.707139  0.550000   \n",
       "                               poor        0.2   3890.903776  0.550000   \n",
       "Mauritius                      nonpoor     0.8  22622.661924  0.436775   \n",
       "                               poor        0.2   7252.544890  0.231974   \n",
       "Papua New Guinea               nonpoor     0.8   3120.815721  0.143800   \n",
       "                               poor        0.2    621.149129  0.143800   \n",
       "Seychelles                     nonpoor     0.8  31115.825284  0.940000   \n",
       "                               poor        0.2   7132.491987  0.940000   \n",
       "Solomon Islands                nonpoor     0.8   2462.121077  0.260000   \n",
       "                               poor        0.2    515.068579  0.260000   \n",
       "St. Lucia                      nonpoor     0.8  12679.154801  0.350000   \n",
       "                               poor        0.2   2798.859538  0.350000   \n",
       "St. Vincent and the Grenadines nonpoor     0.8  10718.218509  0.206000   \n",
       "                               poor        0.2  10919.941568  0.206000   \n",
       "Timor-Leste                    nonpoor     0.8   2447.153164  0.620000   \n",
       "                               poor        0.2    966.922621  0.620000   \n",
       "Tonga                          nonpoor     0.8   6226.994697  0.008000   \n",
       "                               poor        0.2   1754.383434  0.008000   \n",
       "Trinidad and Tobago            nonpoor     0.8  35161.984406  0.454662   \n",
       "                               poor        0.2   7246.844315  0.428774   \n",
       "Vanuatu                        nonpoor     0.8   3331.364331  0.190000   \n",
       "                               poor        0.2    956.919229  0.190000   \n",
       "\n",
       "                                           gamma_SP              k        fa  \\\n",
       "country                        income_cat                                      \n",
       "Antigua and Barbuda            nonpoor     1.223611   64278.309421  0.203447   \n",
       "                               poor        0.105556    2275.788778  0.212061   \n",
       "Belize                         nonpoor     1.112585    9964.857888  0.221314   \n",
       "                               poor        0.549660     863.722444  0.233403   \n",
       "Comoros                        nonpoor     1.182853    8556.739528  0.014304   \n",
       "                               poor        0.268589    1415.632090  0.014605   \n",
       "Dominica                       nonpoor     0.979121    8488.335395  0.336477   \n",
       "                               poor        1.083515     612.063818  0.349258   \n",
       "Dominican Republic             nonpoor     1.141545   44670.424305  0.116973   \n",
       "                               poor        0.433821    8231.479910  0.115993   \n",
       "Fiji                           nonpoor     1.137003   31092.764880  0.189459   \n",
       "                               poor        0.451987    7460.413929  0.183996   \n",
       "Guinea-Bissau                  nonpoor     1.206104    4132.343964  0.004023   \n",
       "                               poor        0.175585     794.662763  0.004411   \n",
       "Guyana                         nonpoor     1.141246   22864.726851  0.054056   \n",
       "                               poor        0.435017    3700.139329  0.085765   \n",
       "Haiti                          nonpoor     1.232124   15193.811078  0.159243   \n",
       "                               poor        0.071503    1232.689486  0.167251   \n",
       "Jamaica                        nonpoor     1.135569   25639.829571  0.139492   \n",
       "                               poor        0.457723    4918.437699  0.141328   \n",
       "Kiribati                       nonpoor     1.170417    7841.556828  0.000716   \n",
       "                               poor        0.318332    2051.894814  0.000716   \n",
       "Maldives                       nonpoor     1.107984   43925.018826  0.000213   \n",
       "                               poor        0.568063   11755.840095  0.000213   \n",
       "Mauritius                      nonpoor     1.138863   77345.241645  0.035887   \n",
       "                               poor        0.444549   22162.288455  0.036831   \n",
       "Papua New Guinea               nonpoor     1.077461    9598.555850  0.019776   \n",
       "                               poor        0.690154    1904.575311  0.021123   \n",
       "Seychelles                     nonpoor     1.097358  144139.733378  0.000000   \n",
       "                               poor        0.610568   25578.695596  0.000000   \n",
       "Solomon Islands                nonpoor     1.196802    8288.701424  0.192770   \n",
       "                               poor        0.212791    1752.710555  0.197759   \n",
       "St. Lucia                      nonpoor     1.126241   14316.809424  0.284678   \n",
       "                               poor        0.495035    2742.864120  0.296619   \n",
       "St. Vincent and the Grenadines nonpoor     0.791620   17576.680248  0.310020   \n",
       "                               poor        1.833522   14479.058440  0.326455   \n",
       "Timor-Leste                    nonpoor     1.104229   19013.274542  0.039929   \n",
       "                               poor        0.583083    7353.913477  0.040108   \n",
       "Tonga                          nonpoor     1.224314   17302.110761  0.208686   \n",
       "                               poor        0.102742    5301.611381  0.208686   \n",
       "Trinidad and Tobago            nonpoor     1.111798   32957.066180  0.113758   \n",
       "                               poor        0.552807    5268.058485  0.114120   \n",
       "Vanuatu                        nonpoor     1.142667   11239.146480  0.240086   \n",
       "                               poor        0.429332    3121.278508  0.243212   \n",
       "\n",
       "                                                  v  shew  \n",
       "country                        income_cat                  \n",
       "Antigua and Barbuda            nonpoor     0.763987  0.30  \n",
       "                               poor        0.990000  0.30  \n",
       "Belize                         nonpoor     0.354967  0.00  \n",
       "                               poor        0.614924  0.00  \n",
       "Comoros                        nonpoor     0.442447  0.45  \n",
       "                               poor        0.700000  0.45  \n",
       "Dominica                       nonpoor     0.630551  0.00  \n",
       "                               poor        0.942311  0.00  \n",
       "Dominican Republic             nonpoor     0.300000  0.64  \n",
       "                               poor        0.348997  0.64  \n",
       "Fiji                           nonpoor     0.225500  0.75  \n",
       "                               poor        0.518000  0.75  \n",
       "Guinea-Bissau                  nonpoor     0.675500  0.16  \n",
       "                               poor        0.700000  0.16  \n",
       "Guyana                         nonpoor     0.284500  0.00  \n",
       "                               poor        0.344000  0.00  \n",
       "Haiti                          nonpoor     0.247719  0.48  \n",
       "                               poor        0.990000  0.48  \n",
       "Jamaica                        nonpoor     0.391376  0.64  \n",
       "                               poor        0.700000  0.64  \n",
       "Kiribati                       nonpoor     0.444500  0.00  \n",
       "                               poor        0.700000  0.00  \n",
       "Maldives                       nonpoor     0.444500  0.30  \n",
       "                               poor        0.700000  0.30  \n",
       "Mauritius                      nonpoor     0.300000  0.60  \n",
       "                               poor        0.300000  0.60  \n",
       "Papua New Guinea               nonpoor     0.538600  0.48  \n",
       "                               poor        0.700000  0.48  \n",
       "Seychelles                     nonpoor     0.300000  0.60  \n",
       "                               poor        0.300000  0.60  \n",
       "Solomon Islands                nonpoor     0.374082  0.45  \n",
       "                               poor        0.700000  0.45  \n",
       "St. Lucia                      nonpoor     0.434480  0.45  \n",
       "                               poor        0.497472  0.45  \n",
       "St. Vincent and the Grenadines nonpoor     0.231072  0.00  \n",
       "                               poor        0.573059  0.00  \n",
       "Timor-Leste                    nonpoor     0.217434  0.48  \n",
       "                               poor        0.300000  0.48  \n",
       "Tonga                          nonpoor     0.507158  0.45  \n",
       "                               poor        0.507158  0.45  \n",
       "Trinidad and Tobago            nonpoor     0.390777  0.48  \n",
       "                               poor        0.647905  0.48  \n",
       "Vanuatu                        nonpoor     0.290612  0.45  \n",
       "                               poor        0.327758  0.45  "
      ]
     },
     "execution_count": 96,
     "metadata": {},
     "output_type": "execute_result"
    }
   ],
   "source": [
    "cat_info.loc[list(list_of_sids),:].dropna()"
   ]
  },
  {
   "cell_type": "code",
   "execution_count": 97,
   "metadata": {
    "collapsed": false
   },
   "outputs": [
    {
     "data": {
      "text/plain": [
       "array(['Antigua and Barbuda', 'Belize', 'Comoros', 'Dominica',\n",
       "       'Dominican Republic', 'Fiji', 'Guinea-Bissau', 'Guyana', 'Haiti',\n",
       "       'Jamaica', 'Kiribati', 'Maldives', 'Marshall Islands', 'Mauritius',\n",
       "       'Micronesia, Fed. Sts.', 'Papua New Guinea', 'Seychelles',\n",
       "       'Solomon Islands', 'St. Lucia', 'St. Vincent and the Grenadines',\n",
       "       'Timor-Leste', 'Tonga', 'Trinidad and Tobago', 'Tuvalu', 'Vanuatu'], dtype=object)"
      ]
     },
     "execution_count": 97,
     "metadata": {},
     "output_type": "execute_result"
    }
   ],
   "source": [
    "hazard_ratios.loc[list(list_of_sids),:].dropna().reset_index().country.unique()"
   ]
  },
  {
   "cell_type": "code",
   "execution_count": 98,
   "metadata": {
    "collapsed": false,
    "run_control": {
     "frozen": false,
     "read_only": false
    }
   },
   "outputs": [
    {
     "data": {
      "text/html": [
       "<div>\n",
       "<table border=\"1\" class=\"dataframe\">\n",
       "  <thead>\n",
       "    <tr style=\"text-align: right;\">\n",
       "      <th></th>\n",
       "      <th></th>\n",
       "      <th></th>\n",
       "      <th></th>\n",
       "      <th>fa</th>\n",
       "      <th>shew</th>\n",
       "    </tr>\n",
       "    <tr>\n",
       "      <th>country</th>\n",
       "      <th>hazard</th>\n",
       "      <th>rp</th>\n",
       "      <th>income_cat</th>\n",
       "      <th></th>\n",
       "      <th></th>\n",
       "    </tr>\n",
       "  </thead>\n",
       "  <tbody>\n",
       "    <tr>\n",
       "      <th rowspan=\"5\" valign=\"top\">Albania</th>\n",
       "      <th rowspan=\"5\" valign=\"top\">earthquake</th>\n",
       "      <th rowspan=\"2\" valign=\"top\">20.0</th>\n",
       "      <th>nonpoor</th>\n",
       "      <td>0.007294</td>\n",
       "      <td>0.0</td>\n",
       "    </tr>\n",
       "    <tr>\n",
       "      <th>poor</th>\n",
       "      <td>0.007294</td>\n",
       "      <td>0.0</td>\n",
       "    </tr>\n",
       "    <tr>\n",
       "      <th rowspan=\"2\" valign=\"top\">50.0</th>\n",
       "      <th>nonpoor</th>\n",
       "      <td>0.015454</td>\n",
       "      <td>0.0</td>\n",
       "    </tr>\n",
       "    <tr>\n",
       "      <th>poor</th>\n",
       "      <td>0.015454</td>\n",
       "      <td>0.0</td>\n",
       "    </tr>\n",
       "    <tr>\n",
       "      <th>100.0</th>\n",
       "      <th>nonpoor</th>\n",
       "      <td>0.026673</td>\n",
       "      <td>0.0</td>\n",
       "    </tr>\n",
       "  </tbody>\n",
       "</table>\n",
       "</div>"
      ],
      "text/plain": [
       "                                           fa  shew\n",
       "country hazard     rp    income_cat                \n",
       "Albania earthquake 20.0  nonpoor     0.007294   0.0\n",
       "                         poor        0.007294   0.0\n",
       "                   50.0  nonpoor     0.015454   0.0\n",
       "                         poor        0.015454   0.0\n",
       "                   100.0 nonpoor     0.026673   0.0"
      ]
     },
     "execution_count": 98,
     "metadata": {},
     "output_type": "execute_result"
    }
   ],
   "source": [
    "\n",
    "hazard_ratios.to_csv(\"intermediate/hazard_ratios.csv\")\n",
    "hazard_ratios.head()"
   ]
  },
  {
   "cell_type": "code",
   "execution_count": null,
   "metadata": {
    "collapsed": true,
    "run_control": {
     "frozen": false,
     "read_only": false
    }
   },
   "outputs": [],
   "source": []
  },
  {
   "cell_type": "markdown",
   "metadata": {},
   "source": [
    "# Set up the sensitivity anlysis"
   ]
  },
  {
   "cell_type": "code",
   "execution_count": 617,
   "metadata": {
    "collapsed": false,
    "run_control": {
     "frozen": false,
     "read_only": false
    }
   },
   "outputs": [
    {
     "ename": "KeyError",
     "evalue": "'fa'",
     "output_type": "error",
     "traceback": [
      "\u001b[0;31m---------------------------------------------------------------------------\u001b[0m",
      "\u001b[0;31mTypeError\u001b[0m                                 Traceback (most recent call last)",
      "\u001b[0;32mC:\\Anaconda3\\lib\\site-packages\\pandas\\indexes\\base.py\u001b[0m in \u001b[0;36mget_value\u001b[0;34m(self, series, key)\u001b[0m\n\u001b[1;32m   2174\u001b[0m             \u001b[1;32mtry\u001b[0m\u001b[1;33m:\u001b[0m\u001b[1;33m\u001b[0m\u001b[0m\n\u001b[0;32m-> 2175\u001b[0;31m                 \u001b[1;32mreturn\u001b[0m \u001b[0mtslib\u001b[0m\u001b[1;33m.\u001b[0m\u001b[0mget_value_box\u001b[0m\u001b[1;33m(\u001b[0m\u001b[0ms\u001b[0m\u001b[1;33m,\u001b[0m \u001b[0mkey\u001b[0m\u001b[1;33m)\u001b[0m\u001b[1;33m\u001b[0m\u001b[0m\n\u001b[0m\u001b[1;32m   2176\u001b[0m             \u001b[1;32mexcept\u001b[0m \u001b[0mIndexError\u001b[0m\u001b[1;33m:\u001b[0m\u001b[1;33m\u001b[0m\u001b[0m\n",
      "\u001b[0;32mpandas\\tslib.pyx\u001b[0m in \u001b[0;36mpandas.tslib.get_value_box (pandas\\tslib.c:19053)\u001b[0;34m()\u001b[0m\n",
      "\u001b[0;32mpandas\\tslib.pyx\u001b[0m in \u001b[0;36mpandas.tslib.get_value_box (pandas\\tslib.c:18687)\u001b[0;34m()\u001b[0m\n",
      "\u001b[0;31mTypeError\u001b[0m: 'str' object cannot be interpreted as an integer",
      "\nDuring handling of the above exception, another exception occurred:\n",
      "\u001b[0;31mKeyError\u001b[0m                                  Traceback (most recent call last)",
      "\u001b[0;32m<ipython-input-617-36824c6b9716>\u001b[0m in \u001b[0;36m<module>\u001b[0;34m()\u001b[0m\n\u001b[1;32m     15\u001b[0m         \u001b[0mnew_value\u001b[0m \u001b[1;33m=\u001b[0m \u001b[0malt_params\u001b[0m\u001b[1;33m.\u001b[0m\u001b[0mix\u001b[0m\u001b[1;33m[\u001b[0m\u001b[0mp\u001b[0m\u001b[1;33m,\u001b[0m\u001b[1;34m\"value\"\u001b[0m\u001b[1;33m]\u001b[0m\u001b[1;33m\u001b[0m\u001b[0m\n\u001b[1;32m     16\u001b[0m         \u001b[1;32mif\u001b[0m \u001b[0mnew_value\u001b[0m\u001b[1;33m[\u001b[0m\u001b[1;36m0\u001b[0m\u001b[1;33m]\u001b[0m \u001b[1;32min\u001b[0m \u001b[1;34m\"/*\"\u001b[0m\u001b[1;33m:\u001b[0m\u001b[1;33m\u001b[0m\u001b[0m\n\u001b[0;32m---> 17\u001b[0;31m             \u001b[0mnew_value\u001b[0m \u001b[1;33m=\u001b[0m \u001b[0mstr\u001b[0m\u001b[1;33m(\u001b[0m\u001b[0mdf\u001b[0m\u001b[1;33m.\u001b[0m\u001b[0mix\u001b[0m\u001b[1;33m[\u001b[0m\u001b[0mc\u001b[0m\u001b[1;33m,\u001b[0m\u001b[0mparam\u001b[0m\u001b[1;33m]\u001b[0m\u001b[1;33m)\u001b[0m\u001b[1;33m+\u001b[0m\u001b[0mnew_value\u001b[0m\u001b[1;33m\u001b[0m\u001b[0m\n\u001b[0m\u001b[1;32m     18\u001b[0m         \u001b[0mnew_value\u001b[0m \u001b[1;33m=\u001b[0m \u001b[0meval\u001b[0m\u001b[1;33m(\u001b[0m\u001b[0mnew_value\u001b[0m\u001b[1;33m)\u001b[0m\u001b[1;33m\u001b[0m\u001b[0m\n\u001b[1;32m     19\u001b[0m \u001b[1;33m\u001b[0m\u001b[0m\n",
      "\u001b[0;32mC:\\Anaconda3\\lib\\site-packages\\pandas\\core\\indexing.py\u001b[0m in \u001b[0;36m__getitem__\u001b[0;34m(self, key)\u001b[0m\n\u001b[1;32m     82\u001b[0m                 \u001b[1;32mpass\u001b[0m\u001b[1;33m\u001b[0m\u001b[0m\n\u001b[1;32m     83\u001b[0m \u001b[1;33m\u001b[0m\u001b[0m\n\u001b[0;32m---> 84\u001b[0;31m             \u001b[1;32mreturn\u001b[0m \u001b[0mself\u001b[0m\u001b[1;33m.\u001b[0m\u001b[0m_getitem_tuple\u001b[0m\u001b[1;33m(\u001b[0m\u001b[0mkey\u001b[0m\u001b[1;33m)\u001b[0m\u001b[1;33m\u001b[0m\u001b[0m\n\u001b[0m\u001b[1;32m     85\u001b[0m         \u001b[1;32melse\u001b[0m\u001b[1;33m:\u001b[0m\u001b[1;33m\u001b[0m\u001b[0m\n\u001b[1;32m     86\u001b[0m             \u001b[0mkey\u001b[0m \u001b[1;33m=\u001b[0m \u001b[0mcom\u001b[0m\u001b[1;33m.\u001b[0m\u001b[0m_apply_if_callable\u001b[0m\u001b[1;33m(\u001b[0m\u001b[0mkey\u001b[0m\u001b[1;33m,\u001b[0m \u001b[0mself\u001b[0m\u001b[1;33m.\u001b[0m\u001b[0mobj\u001b[0m\u001b[1;33m)\u001b[0m\u001b[1;33m\u001b[0m\u001b[0m\n",
      "\u001b[0;32mC:\\Anaconda3\\lib\\site-packages\\pandas\\core\\indexing.py\u001b[0m in \u001b[0;36m_getitem_tuple\u001b[0;34m(self, tup)\u001b[0m\n\u001b[1;32m    794\u001b[0m     \u001b[1;32mdef\u001b[0m \u001b[0m_getitem_tuple\u001b[0m\u001b[1;33m(\u001b[0m\u001b[0mself\u001b[0m\u001b[1;33m,\u001b[0m \u001b[0mtup\u001b[0m\u001b[1;33m)\u001b[0m\u001b[1;33m:\u001b[0m\u001b[1;33m\u001b[0m\u001b[0m\n\u001b[1;32m    795\u001b[0m         \u001b[1;32mtry\u001b[0m\u001b[1;33m:\u001b[0m\u001b[1;33m\u001b[0m\u001b[0m\n\u001b[0;32m--> 796\u001b[0;31m             \u001b[1;32mreturn\u001b[0m \u001b[0mself\u001b[0m\u001b[1;33m.\u001b[0m\u001b[0m_getitem_lowerdim\u001b[0m\u001b[1;33m(\u001b[0m\u001b[0mtup\u001b[0m\u001b[1;33m)\u001b[0m\u001b[1;33m\u001b[0m\u001b[0m\n\u001b[0m\u001b[1;32m    797\u001b[0m         \u001b[1;32mexcept\u001b[0m \u001b[0mIndexingError\u001b[0m\u001b[1;33m:\u001b[0m\u001b[1;33m\u001b[0m\u001b[0m\n\u001b[1;32m    798\u001b[0m             \u001b[1;32mpass\u001b[0m\u001b[1;33m\u001b[0m\u001b[0m\n",
      "\u001b[0;32mC:\\Anaconda3\\lib\\site-packages\\pandas\\core\\indexing.py\u001b[0m in \u001b[0;36m_getitem_lowerdim\u001b[0;34m(self, tup)\u001b[0m\n\u001b[1;32m    945\u001b[0m \u001b[1;33m\u001b[0m\u001b[0m\n\u001b[1;32m    946\u001b[0m                 \u001b[1;31m# This is an elided recursive call to iloc/loc/etc'\u001b[0m\u001b[1;33m\u001b[0m\u001b[1;33m\u001b[0m\u001b[0m\n\u001b[0;32m--> 947\u001b[0;31m                 \u001b[1;32mreturn\u001b[0m \u001b[0mgetattr\u001b[0m\u001b[1;33m(\u001b[0m\u001b[0msection\u001b[0m\u001b[1;33m,\u001b[0m \u001b[0mself\u001b[0m\u001b[1;33m.\u001b[0m\u001b[0mname\u001b[0m\u001b[1;33m)\u001b[0m\u001b[1;33m[\u001b[0m\u001b[0mnew_key\u001b[0m\u001b[1;33m]\u001b[0m\u001b[1;33m\u001b[0m\u001b[0m\n\u001b[0m\u001b[1;32m    948\u001b[0m \u001b[1;33m\u001b[0m\u001b[0m\n\u001b[1;32m    949\u001b[0m         \u001b[1;32mraise\u001b[0m \u001b[0mIndexingError\u001b[0m\u001b[1;33m(\u001b[0m\u001b[1;34m'not applicable'\u001b[0m\u001b[1;33m)\u001b[0m\u001b[1;33m\u001b[0m\u001b[0m\n",
      "\u001b[0;32mC:\\Anaconda3\\lib\\site-packages\\pandas\\core\\indexing.py\u001b[0m in \u001b[0;36m__getitem__\u001b[0;34m(self, key)\u001b[0m\n\u001b[1;32m     85\u001b[0m         \u001b[1;32melse\u001b[0m\u001b[1;33m:\u001b[0m\u001b[1;33m\u001b[0m\u001b[0m\n\u001b[1;32m     86\u001b[0m             \u001b[0mkey\u001b[0m \u001b[1;33m=\u001b[0m \u001b[0mcom\u001b[0m\u001b[1;33m.\u001b[0m\u001b[0m_apply_if_callable\u001b[0m\u001b[1;33m(\u001b[0m\u001b[0mkey\u001b[0m\u001b[1;33m,\u001b[0m \u001b[0mself\u001b[0m\u001b[1;33m.\u001b[0m\u001b[0mobj\u001b[0m\u001b[1;33m)\u001b[0m\u001b[1;33m\u001b[0m\u001b[0m\n\u001b[0;32m---> 87\u001b[0;31m             \u001b[1;32mreturn\u001b[0m \u001b[0mself\u001b[0m\u001b[1;33m.\u001b[0m\u001b[0m_getitem_axis\u001b[0m\u001b[1;33m(\u001b[0m\u001b[0mkey\u001b[0m\u001b[1;33m,\u001b[0m \u001b[0maxis\u001b[0m\u001b[1;33m=\u001b[0m\u001b[1;36m0\u001b[0m\u001b[1;33m)\u001b[0m\u001b[1;33m\u001b[0m\u001b[0m\n\u001b[0m\u001b[1;32m     88\u001b[0m \u001b[1;33m\u001b[0m\u001b[0m\n\u001b[1;32m     89\u001b[0m     \u001b[1;32mdef\u001b[0m \u001b[0m_get_label\u001b[0m\u001b[1;33m(\u001b[0m\u001b[0mself\u001b[0m\u001b[1;33m,\u001b[0m \u001b[0mlabel\u001b[0m\u001b[1;33m,\u001b[0m \u001b[0maxis\u001b[0m\u001b[1;33m=\u001b[0m\u001b[1;36m0\u001b[0m\u001b[1;33m)\u001b[0m\u001b[1;33m:\u001b[0m\u001b[1;33m\u001b[0m\u001b[0m\n",
      "\u001b[0;32mC:\\Anaconda3\\lib\\site-packages\\pandas\\core\\indexing.py\u001b[0m in \u001b[0;36m_getitem_axis\u001b[0;34m(self, key, axis)\u001b[0m\n\u001b[1;32m   1030\u001b[0m                     \u001b[1;32mreturn\u001b[0m \u001b[0mself\u001b[0m\u001b[1;33m.\u001b[0m\u001b[0m_get_loc\u001b[0m\u001b[1;33m(\u001b[0m\u001b[0mkey\u001b[0m\u001b[1;33m,\u001b[0m \u001b[0maxis\u001b[0m\u001b[1;33m=\u001b[0m\u001b[0maxis\u001b[0m\u001b[1;33m)\u001b[0m\u001b[1;33m\u001b[0m\u001b[0m\n\u001b[1;32m   1031\u001b[0m \u001b[1;33m\u001b[0m\u001b[0m\n\u001b[0;32m-> 1032\u001b[0;31m             \u001b[1;32mreturn\u001b[0m \u001b[0mself\u001b[0m\u001b[1;33m.\u001b[0m\u001b[0m_get_label\u001b[0m\u001b[1;33m(\u001b[0m\u001b[0mkey\u001b[0m\u001b[1;33m,\u001b[0m \u001b[0maxis\u001b[0m\u001b[1;33m=\u001b[0m\u001b[0maxis\u001b[0m\u001b[1;33m)\u001b[0m\u001b[1;33m\u001b[0m\u001b[0m\n\u001b[0m\u001b[1;32m   1033\u001b[0m \u001b[1;33m\u001b[0m\u001b[0m\n\u001b[1;32m   1034\u001b[0m     \u001b[1;32mdef\u001b[0m \u001b[0m_getitem_iterable\u001b[0m\u001b[1;33m(\u001b[0m\u001b[0mself\u001b[0m\u001b[1;33m,\u001b[0m \u001b[0mkey\u001b[0m\u001b[1;33m,\u001b[0m \u001b[0maxis\u001b[0m\u001b[1;33m=\u001b[0m\u001b[1;36m0\u001b[0m\u001b[1;33m)\u001b[0m\u001b[1;33m:\u001b[0m\u001b[1;33m\u001b[0m\u001b[0m\n",
      "\u001b[0;32mC:\\Anaconda3\\lib\\site-packages\\pandas\\core\\indexing.py\u001b[0m in \u001b[0;36m_get_label\u001b[0;34m(self, label, axis)\u001b[0m\n\u001b[1;32m     96\u001b[0m                 \u001b[1;32mreturn\u001b[0m \u001b[0mself\u001b[0m\u001b[1;33m.\u001b[0m\u001b[0mobj\u001b[0m\u001b[1;33m.\u001b[0m\u001b[0m_xs\u001b[0m\u001b[1;33m(\u001b[0m\u001b[0mlabel\u001b[0m\u001b[1;33m,\u001b[0m \u001b[0maxis\u001b[0m\u001b[1;33m=\u001b[0m\u001b[0maxis\u001b[0m\u001b[1;33m)\u001b[0m\u001b[1;33m\u001b[0m\u001b[0m\n\u001b[1;32m     97\u001b[0m             \u001b[1;32mexcept\u001b[0m\u001b[1;33m:\u001b[0m\u001b[1;33m\u001b[0m\u001b[0m\n\u001b[0;32m---> 98\u001b[0;31m                 \u001b[1;32mreturn\u001b[0m \u001b[0mself\u001b[0m\u001b[1;33m.\u001b[0m\u001b[0mobj\u001b[0m\u001b[1;33m[\u001b[0m\u001b[0mlabel\u001b[0m\u001b[1;33m]\u001b[0m\u001b[1;33m\u001b[0m\u001b[0m\n\u001b[0m\u001b[1;32m     99\u001b[0m         \u001b[1;32melif\u001b[0m \u001b[0misinstance\u001b[0m\u001b[1;33m(\u001b[0m\u001b[0mlabel\u001b[0m\u001b[1;33m,\u001b[0m \u001b[0mtuple\u001b[0m\u001b[1;33m)\u001b[0m \u001b[1;32mand\u001b[0m \u001b[0misinstance\u001b[0m\u001b[1;33m(\u001b[0m\u001b[0mlabel\u001b[0m\u001b[1;33m[\u001b[0m\u001b[0maxis\u001b[0m\u001b[1;33m]\u001b[0m\u001b[1;33m,\u001b[0m \u001b[0mslice\u001b[0m\u001b[1;33m)\u001b[0m\u001b[1;33m:\u001b[0m\u001b[1;33m\u001b[0m\u001b[0m\n\u001b[1;32m    100\u001b[0m             \u001b[1;32mraise\u001b[0m \u001b[0mIndexingError\u001b[0m\u001b[1;33m(\u001b[0m\u001b[1;34m'no slices here, handle elsewhere'\u001b[0m\u001b[1;33m)\u001b[0m\u001b[1;33m\u001b[0m\u001b[0m\n",
      "\u001b[0;32mC:\\Anaconda3\\lib\\site-packages\\pandas\\core\\series.py\u001b[0m in \u001b[0;36m__getitem__\u001b[0;34m(self, key)\u001b[0m\n\u001b[1;32m    601\u001b[0m         \u001b[0mkey\u001b[0m \u001b[1;33m=\u001b[0m \u001b[0mcom\u001b[0m\u001b[1;33m.\u001b[0m\u001b[0m_apply_if_callable\u001b[0m\u001b[1;33m(\u001b[0m\u001b[0mkey\u001b[0m\u001b[1;33m,\u001b[0m \u001b[0mself\u001b[0m\u001b[1;33m)\u001b[0m\u001b[1;33m\u001b[0m\u001b[0m\n\u001b[1;32m    602\u001b[0m         \u001b[1;32mtry\u001b[0m\u001b[1;33m:\u001b[0m\u001b[1;33m\u001b[0m\u001b[0m\n\u001b[0;32m--> 603\u001b[0;31m             \u001b[0mresult\u001b[0m \u001b[1;33m=\u001b[0m \u001b[0mself\u001b[0m\u001b[1;33m.\u001b[0m\u001b[0mindex\u001b[0m\u001b[1;33m.\u001b[0m\u001b[0mget_value\u001b[0m\u001b[1;33m(\u001b[0m\u001b[0mself\u001b[0m\u001b[1;33m,\u001b[0m \u001b[0mkey\u001b[0m\u001b[1;33m)\u001b[0m\u001b[1;33m\u001b[0m\u001b[0m\n\u001b[0m\u001b[1;32m    604\u001b[0m \u001b[1;33m\u001b[0m\u001b[0m\n\u001b[1;32m    605\u001b[0m             \u001b[1;32mif\u001b[0m \u001b[1;32mnot\u001b[0m \u001b[0mis_scalar\u001b[0m\u001b[1;33m(\u001b[0m\u001b[0mresult\u001b[0m\u001b[1;33m)\u001b[0m\u001b[1;33m:\u001b[0m\u001b[1;33m\u001b[0m\u001b[0m\n",
      "\u001b[0;32mC:\\Anaconda3\\lib\\site-packages\\pandas\\indexes\\base.py\u001b[0m in \u001b[0;36mget_value\u001b[0;34m(self, series, key)\u001b[0m\n\u001b[1;32m   2181\u001b[0m                     \u001b[1;32mraise\u001b[0m \u001b[0mInvalidIndexError\u001b[0m\u001b[1;33m(\u001b[0m\u001b[0mkey\u001b[0m\u001b[1;33m)\u001b[0m\u001b[1;33m\u001b[0m\u001b[0m\n\u001b[1;32m   2182\u001b[0m                 \u001b[1;32melse\u001b[0m\u001b[1;33m:\u001b[0m\u001b[1;33m\u001b[0m\u001b[0m\n\u001b[0;32m-> 2183\u001b[0;31m                     \u001b[1;32mraise\u001b[0m \u001b[0me1\u001b[0m\u001b[1;33m\u001b[0m\u001b[0m\n\u001b[0m\u001b[1;32m   2184\u001b[0m             \u001b[1;32mexcept\u001b[0m \u001b[0mException\u001b[0m\u001b[1;33m:\u001b[0m  \u001b[1;31m# pragma: no cover\u001b[0m\u001b[1;33m\u001b[0m\u001b[0m\n\u001b[1;32m   2185\u001b[0m                 \u001b[1;32mraise\u001b[0m \u001b[0me1\u001b[0m\u001b[1;33m\u001b[0m\u001b[0m\n",
      "\u001b[0;32mC:\\Anaconda3\\lib\\site-packages\\pandas\\indexes\\base.py\u001b[0m in \u001b[0;36mget_value\u001b[0;34m(self, series, key)\u001b[0m\n\u001b[1;32m   2167\u001b[0m         \u001b[1;32mtry\u001b[0m\u001b[1;33m:\u001b[0m\u001b[1;33m\u001b[0m\u001b[0m\n\u001b[1;32m   2168\u001b[0m             return self._engine.get_value(s, k,\n\u001b[0;32m-> 2169\u001b[0;31m                                           tz=getattr(series.dtype, 'tz', None))\n\u001b[0m\u001b[1;32m   2170\u001b[0m         \u001b[1;32mexcept\u001b[0m \u001b[0mKeyError\u001b[0m \u001b[1;32mas\u001b[0m \u001b[0me1\u001b[0m\u001b[1;33m:\u001b[0m\u001b[1;33m\u001b[0m\u001b[0m\n\u001b[1;32m   2171\u001b[0m             \u001b[1;32mif\u001b[0m \u001b[0mlen\u001b[0m\u001b[1;33m(\u001b[0m\u001b[0mself\u001b[0m\u001b[1;33m)\u001b[0m \u001b[1;33m>\u001b[0m \u001b[1;36m0\u001b[0m \u001b[1;32mand\u001b[0m \u001b[0mself\u001b[0m\u001b[1;33m.\u001b[0m\u001b[0minferred_type\u001b[0m \u001b[1;32min\u001b[0m \u001b[1;33m[\u001b[0m\u001b[1;34m'integer'\u001b[0m\u001b[1;33m,\u001b[0m \u001b[1;34m'boolean'\u001b[0m\u001b[1;33m]\u001b[0m\u001b[1;33m:\u001b[0m\u001b[1;33m\u001b[0m\u001b[0m\n",
      "\u001b[0;32mpandas\\index.pyx\u001b[0m in \u001b[0;36mpandas.index.IndexEngine.get_value (pandas\\index.c:3557)\u001b[0;34m()\u001b[0m\n",
      "\u001b[0;32mpandas\\index.pyx\u001b[0m in \u001b[0;36mpandas.index.IndexEngine.get_value (pandas\\index.c:3240)\u001b[0;34m()\u001b[0m\n",
      "\u001b[0;32mpandas\\index.pyx\u001b[0m in \u001b[0;36mpandas.index.IndexEngine.get_loc (pandas\\index.c:4279)\u001b[0;34m()\u001b[0m\n",
      "\u001b[0;32mpandas\\src\\hashtable_class_helper.pxi\u001b[0m in \u001b[0;36mpandas.hashtable.PyObjectHashTable.get_item (pandas\\hashtable.c:13742)\u001b[0;34m()\u001b[0m\n",
      "\u001b[0;32mpandas\\src\\hashtable_class_helper.pxi\u001b[0m in \u001b[0;36mpandas.hashtable.PyObjectHashTable.get_item (pandas\\hashtable.c:13696)\u001b[0;34m()\u001b[0m\n",
      "\u001b[0;31mKeyError\u001b[0m: 'fa'"
     ]
    }
   ],
   "source": [
    "####Sensitivity analysis following instructions in alt_params.csv\n",
    "\n",
    "country_sens_list=[\"Malawi\",\"Sweden\"]\n",
    "\n",
    "#reads paramters to be varied\n",
    "alt_params=pd.read_csv(\"inputs/alt_params.csv\")\n",
    "\n",
    "df_sensit = pd.DataFrame(columns=df.columns)\n",
    "\n",
    "for c in country_sens_list:\n",
    "\n",
    "    for p in alt_params.index.tolist():\n",
    "        param = alt_params.ix[p,\"param\"]\n",
    "        \n",
    "        new_value = alt_params.ix[p,\"value\"]\n",
    "        if new_value[0] in \"/*\":\n",
    "            new_value = str(df.ix[c,param])+new_value         \n",
    "        new_value = eval(new_value)\n",
    "        \n",
    "        if alt_params.ix[p,\"unit\"]==\"%\":\n",
    "            suffix = \" $({name}={nv:2.0f}\\%)$\".format(name=alt_params.ix[p,\"formated_name\"],nv=100*new_value) \n",
    "        else    :\n",
    "            suffix = \" $({name}={nv:2.0f}{unit})$\".format(name=alt_params.ix[p,\"formated_name\"],nv=new_value, unit =alt_params.ix[p,\"unit\"] )\n",
    "        d = c+suffix\n",
    "        df_sensit.ix[d] = df.ix[c]\n",
    "        df_sensit.ix[d,param] =new_value\n",
    "        df_sensit.ix[d,\"original_country\"]=c\n",
    "        \n",
    "        #sets reference values \n",
    "#         df_sensit =def_ref_values(df_sensit)\n",
    "        \n",
    "    \n",
    "    #special treatment for fa\n",
    "    #df_sensit.ix[d,param] =new_value\n",
    "    \n",
    "for c in df.dropna().index: #senstitivity for all countries  (actually very long)    \n",
    "    for param in [\"income_elast\"]:\n",
    "        for new_value in [1, 2]:\n",
    "            d = c+\" $(\\eta=\"+str(new_value)+\")$\"\n",
    "            df_sensit.ix[d] = df.ix[c]\n",
    "            df_sensit.ix[d,param] =new_value\n",
    "            df_sensit.ix[d,\"original_country\"]=c\n",
    "\n",
    "df_sensit=df_sensit.sort_index().sort_index(axis=1)            \n",
    "            \n",
    "df_sensit.index.name=\"country\"; #after adding indices pandas forgets their \n",
    "df_sensit.drop(\"iso3\", axis=1).to_csv(\"results/df_sensit_input.csv\")\n",
    "\n",
    "fa_ratios_sensib= df_sensit[[\"original_country\"]].merge(fa_ratios,right_index=True,left_on=\"original_country\").drop([\"original_country\"], axis=1)\n",
    "fa_ratios_sensib.to_csv(\"results/fa_ratios_sensib.csv\")\n",
    "\n",
    "compute_resiliences(df_sensit, fa_ratios=fa_ratios_sensib).to_csv(\"results/df_sensit_results.csv\")"
   ]
  },
  {
   "cell_type": "code",
   "execution_count": null,
   "metadata": {
    "collapsed": true,
    "run_control": {
     "frozen": false,
     "read_only": false
    }
   },
   "outputs": [],
   "source": []
  },
  {
   "cell_type": "code",
   "execution_count": null,
   "metadata": {
    "collapsed": true,
    "run_control": {
     "frozen": false,
     "read_only": false
    }
   },
   "outputs": [],
   "source": []
  },
  {
   "cell_type": "code",
   "execution_count": null,
   "metadata": {
    "collapsed": true,
    "run_control": {
     "frozen": false,
     "read_only": false
    }
   },
   "outputs": [],
   "source": []
  },
  {
   "cell_type": "markdown",
   "metadata": {},
   "source": [
    "# Junkyard"
   ]
  },
  {
   "cell_type": "code",
   "execution_count": null,
   "metadata": {
    "collapsed": false,
    "run_control": {
     "frozen": false,
     "read_only": false
    }
   },
   "outputs": [],
   "source": [
    "cat_info.fa.unstack().assign(bias = lambda s:s.poor/s.nonpoor).sort_values(by=\"bias\", ascending=False)"
   ]
  },
  {
   "cell_type": "code",
   "execution_count": null,
   "metadata": {
    "collapsed": true,
    "run_control": {
     "frozen": false,
     "read_only": false
    }
   },
   "outputs": [],
   "source": []
  },
  {
   "cell_type": "code",
   "execution_count": null,
   "metadata": {
    "collapsed": true,
    "run_control": {
     "frozen": false,
     "read_only": false
    }
   },
   "outputs": [],
   "source": []
  },
  {
   "cell_type": "code",
   "execution_count": null,
   "metadata": {
    "collapsed": true,
    "run_control": {
     "frozen": false,
     "read_only": false
    }
   },
   "outputs": [],
   "source": []
  },
  {
   "cell_type": "markdown",
   "metadata": {},
   "source": [
    "# Simple OLSs"
   ]
  },
  {
   "cell_type": "markdown",
   "metadata": {},
   "source": [
    "## Resilience"
   ]
  },
  {
   "cell_type": "code",
   "execution_count": null,
   "metadata": {
    "collapsed": false,
    "run_control": {
     "frozen": false,
     "read_only": false
    }
   },
   "outputs": [],
   "source": [
    "from statsmodels.formula.api import ols\n",
    "from statsmodels.stats.anova import anova_lm"
   ]
  },
  {
   "cell_type": "code",
   "execution_count": null,
   "metadata": {
    "collapsed": false,
    "run_control": {
     "frozen": false,
     "read_only": false
    }
   },
   "outputs": [],
   "source": [
    "experiments_cols=[\n",
    "'axfin_p', 'axfin_r', 'axhealth', 'bashs', 'finance_pre', 'ophe', 'avg_prod_k', \n",
    "       'pe',  'plgp',  'prepare_scaleup',  'pv', 'rating', 'share1', 'social_p', 'social_r', 'unemp']\n",
    "varin = \"resilience\"\n",
    "\n",
    "formula = varin+\" ~ \" + \"+\".join(experiments_cols)\n",
    "olsmodel=ols(formula,data=df_with_results).fit()\n",
    "olsmodel.summary()\n",
    "\n",
    "pd.DataFrame( [olsmodel.params, olsmodel.pvalues], index=[\"coeff\", \"pval\"]).T\n",
    "olsmodel.summary()\n",
    "# table=anova_lm(olsmodel)\n",
    "# table['sum_sq_pc']=table['sum_sq']/table['sum_sq'].sum()\n",
    "# b=table.sort_values(by=\"sum_sq_pc\", ascending=False)[\"sum_sq_pc\"].reset_index()\n",
    "# b[\"desc\"]=b[\"index\"].replace(pd.read_csv(\"inputs_info.csv\",usecols=[\"key\",\"descriptor\"],index_col=\"key\",squeeze=True))\n",
    "# b=b.set_index(\"desc\").drop(\"index\",axis=1)\n",
    "# b.to_csv(\"anova.csv\")\n",
    "# b.head(12)"
   ]
  },
  {
   "cell_type": "code",
   "execution_count": null,
   "metadata": {
    "collapsed": true,
    "run_control": {
     "frozen": false,
     "read_only": false
    }
   },
   "outputs": [],
   "source": []
  },
  {
   "cell_type": "code",
   "execution_count": null,
   "metadata": {
    "collapsed": true,
    "run_control": {
     "frozen": false,
     "read_only": false
    }
   },
   "outputs": [],
   "source": []
  },
  {
   "cell_type": "code",
   "execution_count": null,
   "metadata": {
    "collapsed": true,
    "run_control": {
     "frozen": false,
     "read_only": false
    }
   },
   "outputs": [],
   "source": []
  },
  {
   "cell_type": "code",
   "execution_count": null,
   "metadata": {
    "collapsed": true,
    "run_control": {
     "frozen": false,
     "read_only": false
    }
   },
   "outputs": [],
   "source": []
  },
  {
   "cell_type": "code",
   "execution_count": null,
   "metadata": {
    "collapsed": false,
    "run_control": {
     "frozen": false,
     "read_only": false
    }
   },
   "outputs": [],
   "source": []
  },
  {
   "cell_type": "code",
   "execution_count": null,
   "metadata": {
    "collapsed": true,
    "run_control": {
     "frozen": false,
     "read_only": false
    }
   },
   "outputs": [],
   "source": [
    "import matplotlib.pyplot as plt\n",
    "\n",
    "\n",
    "def plot_barh(a,color=\"#9ecae1\", xlabel=\"\"):\n",
    "    #params \n",
    "    n=len(a)\n",
    "    height=.38\n",
    "    pos=np.arange(n)\n",
    "\n",
    "    #new fig\n",
    "    fig, ax = plt.subplots(figsize=(5,n/1.75))\n",
    "    rects=plt.barh(pos-height/2,(100*a), height=height, color=color, clip_on=False);\n",
    "\n",
    "    #Department labels\n",
    "    ax.set_yticks(pos)\n",
    "    ax.set_yticklabels(a.index)\n",
    "\n",
    "    #X axis\n",
    "    ax.xaxis.set_ticklabels([])\n",
    "    ax.set_xlabel(xlabel);\n",
    "\n",
    "    #X labels\n",
    "    autolabel(ax,rects,\"gray\",2)\n",
    "\n",
    "    #no spines\n",
    "    ax.spines['right'].set_color('none')\n",
    "    ax.spines['top'].set_color('none')\n",
    "    ax.spines['bottom'].set_color('none')\n",
    "    ax.spines['left'].set_color(\"none\")\n",
    "\n",
    "    #no ticks\n",
    "    for tic in ax.xaxis.get_major_ticks() + ax.yaxis.get_major_ticks():\n",
    "        tic.tick1On = tic.tick2On = False\n",
    "    plt.tight_layout()\n",
    "    return ax    "
   ]
  },
  {
   "cell_type": "code",
   "execution_count": null,
   "metadata": {
    "collapsed": false,
    "run_control": {
     "frozen": false,
     "read_only": false
    }
   },
   "outputs": [],
   "source": [
    "def spine_and_ticks(ax):\n",
    "    ax.spines['top'].set_color('none')\n",
    "    ax.spines['right'].set_color(\"none\")\n",
    "\n",
    "    #removes ticks \n",
    "    ax.xaxis.set_ticks_position('bottom')\n",
    "    ax.yaxis.set_ticks_position('left')\n",
    "from autolabel import *    \n",
    "   \n",
    "    \n",
    "    \n",
    "def plot_barh(a,color=\"#9ecae1\", xlabel=\"\"):\n",
    "    #params \n",
    "    n=len(a)\n",
    "    height=.38\n",
    "    pos=np.arange(n)\n",
    "\n",
    "    #new fig\n",
    "    fig, ax = plt.subplots(figsize=(6,n/1.75))\n",
    "    rects=plt.barh(pos-height/2,(100*a), height=height, color=color, clip_on=False);\n",
    "\n",
    "    #Department labels\n",
    "    ax.set_yticks(pos)\n",
    "    ax.set_yticklabels(a.index)\n",
    "\n",
    "    #X axis\n",
    "    ax.xaxis.set_ticklabels([])\n",
    "#     ax.set_title(xlabel);\n",
    "\n",
    "    #X labels\n",
    "    autolabel(ax,rects,\"gray\",2)\n",
    "#     ax.set_xlabel(\"Average error (%)\")\n",
    "\n",
    "    #no spines\n",
    "    ax.spines['right'].set_color('none')\n",
    "    ax.spines['top'].set_color('none')\n",
    "    ax.spines['bottom'].set_color('none')\n",
    "    ax.spines['left'].set_color(\"none\")\n",
    "\n",
    "    #no ticks\n",
    "    for tic in ax.xaxis.get_major_ticks() + ax.yaxis.get_major_ticks():\n",
    "        tic.tick1On = tic.tick2On = False\n",
    "    plt.tight_layout()\n",
    "    return ax    \n",
    "    \n",
    "    \n"
   ]
  },
  {
   "cell_type": "code",
   "execution_count": null,
   "metadata": {
    "collapsed": true,
    "run_control": {
     "frozen": false,
     "read_only": false
    }
   },
   "outputs": [],
   "source": []
  },
  {
   "cell_type": "code",
   "execution_count": null,
   "metadata": {
    "collapsed": false,
    "run_control": {
     "frozen": false,
     "read_only": false
    }
   },
   "outputs": [],
   "source": [
    "plot_barh(info.sort_values(\"risk\", ascending=True).risk.tail(10), color=\"#756bb1\", xlabel=\"Average error (%)\")\n",
    "plt.savefig(\"img/risk_info.png\", bbox_inches=\"tight\")"
   ]
  },
  {
   "cell_type": "code",
   "execution_count": null,
   "metadata": {
    "collapsed": false,
    "run_control": {
     "frozen": false,
     "read_only": false
    }
   },
   "outputs": [],
   "source": [
    "plot_barh(info.sort_values(\"resilience\", ascending=True).resilience.tail(10), color=\"#de2d26\")\n",
    "plt.savefig(\"img/ser_info.png\", bbox_inches=\"tight\")"
   ]
  },
  {
   "cell_type": "code",
   "execution_count": null,
   "metadata": {
    "collapsed": false,
    "run_control": {
     "frozen": false,
     "read_only": false
    }
   },
   "outputs": [],
   "source": [
    "plot_barh(info.sort_values(\"risk_to_assets\", ascending=True).risk_to_assets.tail(10), color=\"#3182bd\")\n",
    "plt.savefig(\"img/risk_to_assets_info.png\", bbox_inches=\"tight\")"
   ]
  },
  {
   "cell_type": "code",
   "execution_count": null,
   "metadata": {
    "collapsed": false,
    "run_control": {
     "frozen": false,
     "read_only": false
    }
   },
   "outputs": [],
   "source": [
    "ax=df.plot.scatter(y=\"fa_glofris\",       x=\"fa_gar_guessed\", alpha=0.7, s=50,clip_on=False, color=\"#fc8d62\", figsize=(6,6))\n",
    "ax=df.plot.scatter(y=\"asset_fa\", x=\"fa_gar_guessed\", alpha=0.7, s=50,clip_on=False, ax=ax, color=\"#8da0cb\")\n",
    "plt.legend([\"People\", \"Assets\"])\n",
    "plt.xlabel(\"fa guessed from GAR and PAGER\")\n",
    "plt.ylabel(\"GLOFRIS\")\n",
    "plt.xlim(0,.5)\n",
    "plt.ylim(0,.5)\n",
    "\n",
    "plt.savefig(\"fig/GAR_vs_GLOFRIS\")\n",
    "\n",
    "\n",
    "ax=df.plot.scatter(loglog=True,y=\"fa_glofris\",       x=\"fa_gar_guessed\", alpha=0.7, s=50,clip_on=False, color=\"#fc8d62\", figsize=(6,6))\n",
    "ax=df.plot.scatter(loglog=True,y=\"asset_fa\", x=\"fa_gar_guessed\", alpha=0.7, s=50,clip_on=False, ax=ax, color=\"#8da0cb\")\n",
    "plt.legend([\"People\", \"Assets\"], loc=\"upper left\")\n",
    "plt.xlabel(\"fa guessed from GAR and PAGER\")\n",
    "plt.ylabel(\"GLOFRIS\")\n",
    "plt.xlim(0,.5)\n",
    "plt.ylim(0,.5)\n",
    "\n",
    "plt.savefig(\"fig/GAR_vs_GLOFRIS_log_log\")\n",
    "\n",
    "\n",
    "ax=df.plot.scatter(y=\"fa_glofris\", x=\"fadK_gar_flood\", alpha=0.7, s=50,clip_on=False, color=\"#fc8d62\", figsize=(6,6))\n",
    "ax=df.plot.scatter(y=\"asset_fa\", x=\"fadK_gar_flood\", alpha=0.7, s=50,clip_on=False, ax=ax, color=\"#8da0cb\")\n",
    "plt.legend([\"People\", \"Assets\"])\n",
    "plt.xlabel(\"Assets destroyed in GAR\")\n",
    "plt.ylabel(\"GLOFRIS\")\n",
    "plt.xlim(0)\n",
    "plt.ylim(0)\n",
    "\n"
   ]
  }
 ],
 "metadata": {
  "kernelspec": {
   "display_name": "Python [default]",
   "language": "python",
   "name": "python3"
  },
  "language_info": {
   "codemirror_mode": {
    "name": "ipython",
    "version": 3
   },
   "file_extension": ".py",
   "mimetype": "text/x-python",
   "name": "python",
   "nbconvert_exporter": "python",
   "pygments_lexer": "ipython3",
   "version": "3.5.2"
  },
  "nav_menu": {},
  "toc": {
   "colors": {
    "hover_highlight": "#DAA520",
    "navigate_num": "#000000",
    "navigate_text": "#333333",
    "running_highlight": "#FF0000",
    "selected_highlight": "#FFD700",
    "sidebar_border": "#EEEEEE",
    "wrapper_background": "#FFFFFF"
   },
   "moveMenuLeft": true,
   "nav_menu": {
    "height": "512px",
    "width": "252px"
   },
   "navigate_menu": true,
   "number_sections": true,
   "sideBar": true,
   "threshold": 4,
   "toc_cell": false,
   "toc_section_display": "block",
   "toc_window_display": true,
   "widenNotebook": false
  },
  "toc_position": {
   "height": "669px",
   "left": "0px",
   "right": "1205px",
   "top": "106px",
   "width": "396px"
  }
 },
 "nbformat": 4,
 "nbformat_minor": 0
}
