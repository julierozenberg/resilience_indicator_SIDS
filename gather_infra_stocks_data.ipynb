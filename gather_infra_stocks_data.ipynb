{
 "cells": [
  {
   "cell_type": "code",
   "execution_count": 1,
   "metadata": {
    "collapsed": true
   },
   "outputs": [],
   "source": [
    "import pandas as pd\n",
    "import numpy as np"
   ]
  },
  {
   "cell_type": "markdown",
   "metadata": {},
   "source": [
    "This is just for SIDS at the moment. Can be updated for all countries when we have the data"
   ]
  },
  {
   "cell_type": "code",
   "execution_count": 2,
   "metadata": {
    "collapsed": true
   },
   "outputs": [],
   "source": [
    "#Names to WB names\n",
    "any_to_wb = pd.read_csv(\"inputs/any_name_to_wb_name.csv\",index_col=\"any\",squeeze=True)\n",
    "\n",
    "#GAR names with SIDS spec\n",
    "gar_name_sids = pd.read_csv(\"inputs/gar_name_sids.csv\")\n",
    "\n",
    "#iso3 to wb country name table\n",
    "iso3_to_wb=pd.read_csv(\"inputs/iso3_to_wb_name.csv\").set_index(\"iso3\").squeeze()\n",
    "\n",
    "#iso2 to iso3 table\n",
    "iso2_iso3 = pd.read_csv(\"inputs/names_to_iso.csv\", usecols=[\"iso2\",\"iso3\"]).drop_duplicates().set_index(\"iso2\").squeeze() #the tables has more lines than countries to account for several ways of writing country names"
   ]
  },
  {
   "cell_type": "code",
   "execution_count": 3,
   "metadata": {
    "collapsed": true
   },
   "outputs": [],
   "source": [
    "path = \"sids data\\\\\""
   ]
  },
  {
   "cell_type": "markdown",
   "metadata": {},
   "source": [
    "## Roads -- km from OSM and hard coding road costs"
   ]
  },
  {
   "cell_type": "code",
   "execution_count": 4,
   "metadata": {
    "collapsed": true
   },
   "outputs": [],
   "source": [
    "roads = pd.read_csv(path+\"km_roads_sids.csv\")"
   ]
  },
  {
   "cell_type": "code",
   "execution_count": 5,
   "metadata": {
    "collapsed": false
   },
   "outputs": [],
   "source": [
    "roads[['Total Length (km)', 'Total Primary',\\\n",
    "       'Total Secondary', 'Total Tertiary', 'Residential', 'Track / service',\\\n",
    "       'Total Other']] = roads[['Total Length (km)', 'Total Primary',\\\n",
    "       'Total Secondary', 'Total Tertiary', 'Residential', 'Track / service',\\\n",
    "       'Total Other']].astype(float)"
   ]
  },
  {
   "cell_type": "code",
   "execution_count": 6,
   "metadata": {
    "collapsed": true
   },
   "outputs": [],
   "source": [
    "roads[\"country\"] = roads.Country.replace(any_to_wb)"
   ]
  },
  {
   "cell_type": "code",
   "execution_count": 7,
   "metadata": {
    "collapsed": true
   },
   "outputs": [],
   "source": [
    "#cost per km of road based on st Lucia data. \n",
    "primary_road_cost = 1200000\n",
    "secondary_road_cost = 700000\n",
    "tertiary_road_cost = 600000"
   ]
  },
  {
   "cell_type": "code",
   "execution_count": 8,
   "metadata": {
    "collapsed": true
   },
   "outputs": [],
   "source": [
    "#reduced road values because of depreciation.\n",
    "lifetime_primary = 20\n",
    "lifetime_secondary = 15\n",
    "lifetime_tertiary = 10"
   ]
  },
  {
   "cell_type": "code",
   "execution_count": 9,
   "metadata": {
    "collapsed": false
   },
   "outputs": [],
   "source": [
    "roads = roads.fillna(0)\n",
    "roads = roads.set_index(\"country\")"
   ]
  },
  {
   "cell_type": "code",
   "execution_count": 10,
   "metadata": {
    "collapsed": true
   },
   "outputs": [],
   "source": [
    "roads[\"average_age_primary\"] = 8\n",
    "roads[\"average_age_secondary\"] = 5\n",
    "roads[\"average_age_tertiary\"] = 5"
   ]
  },
  {
   "cell_type": "code",
   "execution_count": 11,
   "metadata": {
    "collapsed": true
   },
   "outputs": [],
   "source": [
    "roads.loc[\"Kiribati\",\"average_age_primary\"]=12"
   ]
  },
  {
   "cell_type": "code",
   "execution_count": 12,
   "metadata": {
    "collapsed": false
   },
   "outputs": [
    {
     "data": {
      "text/plain": [
       "country\n",
       "Antigua and Barbuda               0.6\n",
       "Bahamas, The                      0.6\n",
       "Barbados                          0.6\n",
       "Belize                            0.6\n",
       "Bermuda                           0.6\n",
       "Cuba                              0.6\n",
       "Dominica                          0.6\n",
       "Dominican Republic                0.6\n",
       "Fiji                              0.6\n",
       "Haiti                             0.6\n",
       "Jamaica                           0.6\n",
       "Kiribati                          0.4\n",
       "Maldives                          0.6\n",
       "Marshall Islands                  0.6\n",
       "Mauritius                         0.6\n",
       "Micronesia, Fed. Sts.             0.6\n",
       "Palau                             0.6\n",
       "Papua New Guinea                  0.6\n",
       "Puerto Rico                       0.6\n",
       "Samoa                             0.6\n",
       "Sao Tome and Principe             0.6\n",
       "Seychelles                        0.6\n",
       "Solomon Islands                   0.6\n",
       "St Lucia                          0.6\n",
       "St. Vincent and the Grenadines    0.6\n",
       "Timor-Leste                       0.6\n",
       "Tonga                             0.6\n",
       "Trinidad and Tobago               0.6\n",
       "Name: average_age_primary, dtype: float64"
      ]
     },
     "execution_count": 12,
     "metadata": {},
     "output_type": "execute_result"
    }
   ],
   "source": [
    "(1-1/lifetime_primary*roads.average_age_primary)"
   ]
  },
  {
   "cell_type": "code",
   "execution_count": 13,
   "metadata": {
    "collapsed": false
   },
   "outputs": [],
   "source": [
    "roads[\"total_roads_value\"] = roads[\"Total Primary\"]*primary_road_cost*(1-1/lifetime_primary*roads.average_age_primary)+\\\n",
    "                             roads[\"Total Secondary\"]*secondary_road_cost*(1-1/lifetime_secondary*roads.average_age_secondary)+\\\n",
    "                             roads[\"Total Tertiary\"]*tertiary_road_cost*(1-1/lifetime_tertiary*roads.average_age_tertiary)+\\\n",
    "                             roads[\"Residential\"]*tertiary_road_cost*(1-1/lifetime_tertiary*roads.average_age_tertiary)+\\\n",
    "                             roads[\"Track / service\"]*tertiary_road_cost*(1-1/lifetime_tertiary*roads.average_age_tertiary)+\\\n",
    "                             roads[\"Total Other\"]*tertiary_road_cost*(1-1/lifetime_tertiary*roads.average_age_tertiary)"
   ]
  },
  {
   "cell_type": "code",
   "execution_count": 14,
   "metadata": {
    "collapsed": false
   },
   "outputs": [
    {
     "data": {
      "text/html": [
       "<div>\n",
       "<table border=\"1\" class=\"dataframe\">\n",
       "  <thead>\n",
       "    <tr style=\"text-align: right;\">\n",
       "      <th></th>\n",
       "      <th>Country</th>\n",
       "      <th>Sheet</th>\n",
       "      <th>Total Length (km)</th>\n",
       "      <th>Total Primary</th>\n",
       "      <th>Total Secondary</th>\n",
       "      <th>Total Tertiary</th>\n",
       "      <th>Residential</th>\n",
       "      <th>Track / service</th>\n",
       "      <th>Total Other</th>\n",
       "      <th>average_age_primary</th>\n",
       "      <th>average_age_secondary</th>\n",
       "      <th>average_age_tertiary</th>\n",
       "      <th>total_roads_value</th>\n",
       "    </tr>\n",
       "    <tr>\n",
       "      <th>country</th>\n",
       "      <th></th>\n",
       "      <th></th>\n",
       "      <th></th>\n",
       "      <th></th>\n",
       "      <th></th>\n",
       "      <th></th>\n",
       "      <th></th>\n",
       "      <th></th>\n",
       "      <th></th>\n",
       "      <th></th>\n",
       "      <th></th>\n",
       "      <th></th>\n",
       "      <th></th>\n",
       "    </tr>\n",
       "  </thead>\n",
       "  <tbody>\n",
       "    <tr>\n",
       "      <th>Timor-Leste</th>\n",
       "      <td>Timor-Leste</td>\n",
       "      <td>0</td>\n",
       "      <td>0.000000</td>\n",
       "      <td>0.000000</td>\n",
       "      <td>0.000000</td>\n",
       "      <td>0.000000</td>\n",
       "      <td>0.000000</td>\n",
       "      <td>0.000000</td>\n",
       "      <td>0.000000</td>\n",
       "      <td>8</td>\n",
       "      <td>5</td>\n",
       "      <td>5</td>\n",
       "      <td>0.000000e+00</td>\n",
       "    </tr>\n",
       "    <tr>\n",
       "      <th>St. Vincent and the Grenadines</th>\n",
       "      <td>St. Vincent and the Grenadines</td>\n",
       "      <td>0</td>\n",
       "      <td>0.000000</td>\n",
       "      <td>0.000000</td>\n",
       "      <td>0.000000</td>\n",
       "      <td>0.000000</td>\n",
       "      <td>0.000000</td>\n",
       "      <td>0.000000</td>\n",
       "      <td>0.000000</td>\n",
       "      <td>8</td>\n",
       "      <td>5</td>\n",
       "      <td>5</td>\n",
       "      <td>0.000000e+00</td>\n",
       "    </tr>\n",
       "    <tr>\n",
       "      <th>Bermuda</th>\n",
       "      <td>Bermuda</td>\n",
       "      <td>BMU_UTM20N</td>\n",
       "      <td>669.557654</td>\n",
       "      <td>75.425085</td>\n",
       "      <td>25.210861</td>\n",
       "      <td>20.283073</td>\n",
       "      <td>365.482316</td>\n",
       "      <td>152.427432</td>\n",
       "      <td>30.728887</td>\n",
       "      <td>8</td>\n",
       "      <td>5</td>\n",
       "      <td>5</td>\n",
       "      <td>2.367476e+08</td>\n",
       "    </tr>\n",
       "    <tr>\n",
       "      <th>Bahamas, The</th>\n",
       "      <td>Bahamas</td>\n",
       "      <td>BHS_UTM18N</td>\n",
       "      <td>7033.335154</td>\n",
       "      <td>679.961233</td>\n",
       "      <td>512.171878</td>\n",
       "      <td>445.811236</td>\n",
       "      <td>2699.568179</td>\n",
       "      <td>1752.007260</td>\n",
       "      <td>943.815368</td>\n",
       "      <td>8</td>\n",
       "      <td>5</td>\n",
       "      <td>5</td>\n",
       "      <td>2.480946e+09</td>\n",
       "    </tr>\n",
       "    <tr>\n",
       "      <th>Cuba</th>\n",
       "      <td>Cuba</td>\n",
       "      <td>CUB_UTM17N</td>\n",
       "      <td>70433.607680</td>\n",
       "      <td>5152.037544</td>\n",
       "      <td>6771.522599</td>\n",
       "      <td>8274.474516</td>\n",
       "      <td>17037.820070</td>\n",
       "      <td>32689.199290</td>\n",
       "      <td>508.553664</td>\n",
       "      <td>8</td>\n",
       "      <td>5</td>\n",
       "      <td>5</td>\n",
       "      <td>2.442253e+10</td>\n",
       "    </tr>\n",
       "  </tbody>\n",
       "</table>\n",
       "</div>"
      ],
      "text/plain": [
       "                                                       Country       Sheet  \\\n",
       "country                                                                      \n",
       "Timor-Leste                                        Timor-Leste           0   \n",
       "St. Vincent and the Grenadines  St. Vincent and the Grenadines           0   \n",
       "Bermuda                                                Bermuda  BMU_UTM20N   \n",
       "Bahamas, The                                           Bahamas  BHS_UTM18N   \n",
       "Cuba                                                      Cuba  CUB_UTM17N   \n",
       "\n",
       "                                Total Length (km)  Total Primary  \\\n",
       "country                                                            \n",
       "Timor-Leste                              0.000000       0.000000   \n",
       "St. Vincent and the Grenadines           0.000000       0.000000   \n",
       "Bermuda                                669.557654      75.425085   \n",
       "Bahamas, The                          7033.335154     679.961233   \n",
       "Cuba                                 70433.607680    5152.037544   \n",
       "\n",
       "                                Total Secondary  Total Tertiary   Residential  \\\n",
       "country                                                                         \n",
       "Timor-Leste                            0.000000        0.000000      0.000000   \n",
       "St. Vincent and the Grenadines         0.000000        0.000000      0.000000   \n",
       "Bermuda                               25.210861       20.283073    365.482316   \n",
       "Bahamas, The                         512.171878      445.811236   2699.568179   \n",
       "Cuba                                6771.522599     8274.474516  17037.820070   \n",
       "\n",
       "                                Track / service  Total Other  \\\n",
       "country                                                        \n",
       "Timor-Leste                            0.000000     0.000000   \n",
       "St. Vincent and the Grenadines         0.000000     0.000000   \n",
       "Bermuda                              152.427432    30.728887   \n",
       "Bahamas, The                        1752.007260   943.815368   \n",
       "Cuba                               32689.199290   508.553664   \n",
       "\n",
       "                                average_age_primary  average_age_secondary  \\\n",
       "country                                                                      \n",
       "Timor-Leste                                       8                      5   \n",
       "St. Vincent and the Grenadines                    8                      5   \n",
       "Bermuda                                           8                      5   \n",
       "Bahamas, The                                      8                      5   \n",
       "Cuba                                              8                      5   \n",
       "\n",
       "                                average_age_tertiary  total_roads_value  \n",
       "country                                                                  \n",
       "Timor-Leste                                        5       0.000000e+00  \n",
       "St. Vincent and the Grenadines                     5       0.000000e+00  \n",
       "Bermuda                                            5       2.367476e+08  \n",
       "Bahamas, The                                       5       2.480946e+09  \n",
       "Cuba                                               5       2.442253e+10  "
      ]
     },
     "execution_count": 14,
     "metadata": {},
     "output_type": "execute_result"
    }
   ],
   "source": [
    "roads.sample(5)"
   ]
  },
  {
   "cell_type": "markdown",
   "metadata": {},
   "source": [
    "## Power (from Platts)"
   ]
  },
  {
   "cell_type": "code",
   "execution_count": 15,
   "metadata": {
    "collapsed": true
   },
   "outputs": [],
   "source": [
    "power = pd.read_csv(path+\"power_plants_sids.csv\")\n",
    "power[\"country\"] = power.COUNTRY.apply(lambda x:x.title()).replace(any_to_wb)"
   ]
  },
  {
   "cell_type": "code",
   "execution_count": 16,
   "metadata": {
    "collapsed": true
   },
   "outputs": [],
   "source": [
    "power[\"total_power_value\"] = power.CAPEX"
   ]
  },
  {
   "cell_type": "markdown",
   "metadata": {},
   "source": [
    "## Buildings data from Rashmin and PCRAFI "
   ]
  },
  {
   "cell_type": "code",
   "execution_count": 17,
   "metadata": {
    "collapsed": false
   },
   "outputs": [],
   "source": [
    "buildings_pcrafi = pd.read_csv(path+\"PCRAFI_stocks.csv\")\n",
    "#values in million USD"
   ]
  },
  {
   "cell_type": "code",
   "execution_count": 18,
   "metadata": {
    "collapsed": false
   },
   "outputs": [],
   "source": [
    "#we divide by 3 because for Fiji PCRAFI is 3 times higher than Rashmin's assessment, which is consistent with GAR\n",
    "buildings_pcrafi = 1/3*10**6*buildings_pcrafi.set_index(\"country\")"
   ]
  },
  {
   "cell_type": "code",
   "execution_count": 19,
   "metadata": {
    "collapsed": false
   },
   "outputs": [],
   "source": [
    "buildings_pcrafi.rename(columns={\"building\":\"total_building_value\"},inplace=True)"
   ]
  },
  {
   "cell_type": "code",
   "execution_count": 20,
   "metadata": {
    "collapsed": false
   },
   "outputs": [
    {
     "data": {
      "text/html": [
       "<div>\n",
       "<table border=\"1\" class=\"dataframe\">\n",
       "  <thead>\n",
       "    <tr style=\"text-align: right;\">\n",
       "      <th></th>\n",
       "      <th>total_building_value</th>\n",
       "      <th>infrastructure</th>\n",
       "    </tr>\n",
       "    <tr>\n",
       "      <th>country</th>\n",
       "      <th></th>\n",
       "      <th></th>\n",
       "    </tr>\n",
       "  </thead>\n",
       "  <tbody>\n",
       "    <tr>\n",
       "      <th>Cook Islands</th>\n",
       "      <td>4.322667e+08</td>\n",
       "      <td>3.920000e+07</td>\n",
       "    </tr>\n",
       "    <tr>\n",
       "      <th>Fiji</th>\n",
       "      <td>6.288400e+09</td>\n",
       "      <td>1.031300e+09</td>\n",
       "    </tr>\n",
       "    <tr>\n",
       "      <th>Micronesia, Fed. Sts.</th>\n",
       "      <td>5.763333e+08</td>\n",
       "      <td>1.042667e+08</td>\n",
       "    </tr>\n",
       "    <tr>\n",
       "      <th>Kiribati</th>\n",
       "      <td>3.353667e+08</td>\n",
       "      <td>5.473333e+07</td>\n",
       "    </tr>\n",
       "    <tr>\n",
       "      <th>Marshall Islands</th>\n",
       "      <td>4.680333e+08</td>\n",
       "      <td>9.530000e+07</td>\n",
       "    </tr>\n",
       "    <tr>\n",
       "      <th>Nauru</th>\n",
       "      <td>5.793333e+07</td>\n",
       "      <td>2.466667e+07</td>\n",
       "    </tr>\n",
       "    <tr>\n",
       "      <th>Niue</th>\n",
       "      <td>1.368667e+08</td>\n",
       "      <td>1.400000e+07</td>\n",
       "    </tr>\n",
       "    <tr>\n",
       "      <th>Papua New Guinea</th>\n",
       "      <td>1.316967e+10</td>\n",
       "      <td>2.213033e+09</td>\n",
       "    </tr>\n",
       "    <tr>\n",
       "      <th>Palau</th>\n",
       "      <td>4.461667e+08</td>\n",
       "      <td>5.330000e+07</td>\n",
       "    </tr>\n",
       "    <tr>\n",
       "      <th>Solomon Islands</th>\n",
       "      <td>1.019567e+09</td>\n",
       "      <td>1.401000e+08</td>\n",
       "    </tr>\n",
       "    <tr>\n",
       "      <th>Timor-Leste</th>\n",
       "      <td>5.960433e+09</td>\n",
       "      <td>7.202000e+08</td>\n",
       "    </tr>\n",
       "    <tr>\n",
       "      <th>Tonga</th>\n",
       "      <td>8.417333e+08</td>\n",
       "      <td>8.646667e+07</td>\n",
       "    </tr>\n",
       "    <tr>\n",
       "      <th>Tuvalu</th>\n",
       "      <td>7.643333e+07</td>\n",
       "      <td>1.323333e+07</td>\n",
       "    </tr>\n",
       "    <tr>\n",
       "      <th>Vanuatu</th>\n",
       "      <td>9.528000e+08</td>\n",
       "      <td>1.400000e+08</td>\n",
       "    </tr>\n",
       "    <tr>\n",
       "      <th>Samoa</th>\n",
       "      <td>7.159667e+08</td>\n",
       "      <td>1.558000e+08</td>\n",
       "    </tr>\n",
       "  </tbody>\n",
       "</table>\n",
       "</div>"
      ],
      "text/plain": [
       "                       total_building_value  infrastructure\n",
       "country                                                    \n",
       "Cook Islands                   4.322667e+08    3.920000e+07\n",
       "Fiji                           6.288400e+09    1.031300e+09\n",
       "Micronesia, Fed. Sts.          5.763333e+08    1.042667e+08\n",
       "Kiribati                       3.353667e+08    5.473333e+07\n",
       "Marshall Islands               4.680333e+08    9.530000e+07\n",
       "Nauru                          5.793333e+07    2.466667e+07\n",
       "Niue                           1.368667e+08    1.400000e+07\n",
       "Papua New Guinea               1.316967e+10    2.213033e+09\n",
       "Palau                          4.461667e+08    5.330000e+07\n",
       "Solomon Islands                1.019567e+09    1.401000e+08\n",
       "Timor-Leste                    5.960433e+09    7.202000e+08\n",
       "Tonga                          8.417333e+08    8.646667e+07\n",
       "Tuvalu                         7.643333e+07    1.323333e+07\n",
       "Vanuatu                        9.528000e+08    1.400000e+08\n",
       "Samoa                          7.159667e+08    1.558000e+08"
      ]
     },
     "execution_count": 20,
     "metadata": {},
     "output_type": "execute_result"
    }
   ],
   "source": [
    "buildings_pcrafi"
   ]
  },
  {
   "cell_type": "code",
   "execution_count": 21,
   "metadata": {
    "collapsed": true
   },
   "outputs": [],
   "source": [
    "buildings_rashmin = pd.read_csv(path+\"Gross_Capital_Summary.csv\")\n",
    "buildings_rashmin[\"country\"] = buildings_rashmin.country.replace(iso3_to_wb)"
   ]
  },
  {
   "cell_type": "code",
   "execution_count": 22,
   "metadata": {
    "collapsed": false
   },
   "outputs": [],
   "source": [
    "buildings_rashmin[\"total_building_value\"] = buildings_rashmin[\"Buildings (Residential + Non-Res)\"]"
   ]
  },
  {
   "cell_type": "code",
   "execution_count": 23,
   "metadata": {
    "collapsed": false
   },
   "outputs": [
    {
     "data": {
      "text/plain": [
       "country\n",
       "Belize                4.620789e+09\n",
       "St. Lucia             3.197446e+09\n",
       "Jamaica               3.822092e+10\n",
       "Haiti                 2.656431e+10\n",
       "Grenada               2.131954e+09\n",
       "Dominican Republic    1.530000e+11\n",
       "Fiji                  6.504790e+09\n",
       "FJI est 2                      NaN\n",
       "Name: total_building_value, dtype: float64"
      ]
     },
     "execution_count": 23,
     "metadata": {},
     "output_type": "execute_result"
    }
   ],
   "source": [
    "buildings_rashmin.set_index(\"country\").total_building_value"
   ]
  },
  {
   "cell_type": "code",
   "execution_count": 24,
   "metadata": {
    "collapsed": false
   },
   "outputs": [],
   "source": [
    "#Fiji has 2 estimates. first one is rashmin, last one is PCRAFI\n",
    "buildings = pd.concat([buildings_rashmin.set_index(\"country\"),buildings_pcrafi]).reset_index().drop_duplicates(\"country\",keep=\"first\")"
   ]
  },
  {
   "cell_type": "markdown",
   "metadata": {},
   "source": [
    "## Water from WASH infrastructure needs"
   ]
  },
  {
   "cell_type": "code",
   "execution_count": 25,
   "metadata": {
    "collapsed": true
   },
   "outputs": [],
   "source": [
    "water = pd.read_csv(path+\"water_infra_value_sids.csv\")"
   ]
  },
  {
   "cell_type": "code",
   "execution_count": 26,
   "metadata": {
    "collapsed": false
   },
   "outputs": [
    {
     "data": {
      "text/html": [
       "<div>\n",
       "<table border=\"1\" class=\"dataframe\">\n",
       "  <thead>\n",
       "    <tr style=\"text-align: right;\">\n",
       "      <th></th>\n",
       "      <th>total_water_value</th>\n",
       "    </tr>\n",
       "    <tr>\n",
       "      <th>country</th>\n",
       "      <th></th>\n",
       "    </tr>\n",
       "  </thead>\n",
       "  <tbody>\n",
       "    <tr>\n",
       "      <th>Samoa</th>\n",
       "      <td>71776207.19</td>\n",
       "    </tr>\n",
       "  </tbody>\n",
       "</table>\n",
       "</div>"
      ],
      "text/plain": [
       "         total_water_value\n",
       "country                   \n",
       "Samoa          71776207.19"
      ]
     },
     "execution_count": 26,
     "metadata": {},
     "output_type": "execute_result"
    }
   ],
   "source": [
    "water.set_index(\"country\").sample()"
   ]
  },
  {
   "cell_type": "markdown",
   "metadata": {},
   "source": [
    "## Merge all available infra "
   ]
  },
  {
   "cell_type": "code",
   "execution_count": 27,
   "metadata": {
    "collapsed": false
   },
   "outputs": [],
   "source": [
    "all_infra = pd.concat([roads.total_roads_value,power.set_index(\"country\").total_power_value,\\\n",
    "                       buildings.set_index(\"country\").total_building_value,water.set_index(\"country\")],axis=1)"
   ]
  },
  {
   "cell_type": "code",
   "execution_count": 28,
   "metadata": {
    "collapsed": false
   },
   "outputs": [
    {
     "data": {
      "text/html": [
       "<div>\n",
       "<table border=\"1\" class=\"dataframe\">\n",
       "  <thead>\n",
       "    <tr style=\"text-align: right;\">\n",
       "      <th></th>\n",
       "      <th>total_roads_value</th>\n",
       "      <th>total_power_value</th>\n",
       "      <th>total_building_value</th>\n",
       "      <th>total_water_value</th>\n",
       "    </tr>\n",
       "  </thead>\n",
       "  <tbody>\n",
       "    <tr>\n",
       "      <th>Belize</th>\n",
       "      <td>2.513105e+09</td>\n",
       "      <td>246783703.0</td>\n",
       "      <td>4.620789e+09</td>\n",
       "      <td>4.352581e+08</td>\n",
       "    </tr>\n",
       "    <tr>\n",
       "      <th>Fiji</th>\n",
       "      <td>2.981647e+09</td>\n",
       "      <td>483010130.0</td>\n",
       "      <td>6.504790e+09</td>\n",
       "      <td>4.135154e+08</td>\n",
       "    </tr>\n",
       "    <tr>\n",
       "      <th>Haiti</th>\n",
       "      <td>9.742686e+09</td>\n",
       "      <td>223696330.0</td>\n",
       "      <td>2.656431e+10</td>\n",
       "      <td>1.271568e+09</td>\n",
       "    </tr>\n",
       "    <tr>\n",
       "      <th>Jamaica</th>\n",
       "      <td>5.119131e+09</td>\n",
       "      <td>787424726.0</td>\n",
       "      <td>3.822092e+10</td>\n",
       "      <td>4.261407e+09</td>\n",
       "    </tr>\n",
       "    <tr>\n",
       "      <th>Kiribati</th>\n",
       "      <td>3.843400e+08</td>\n",
       "      <td>4982963.0</td>\n",
       "      <td>3.353667e+08</td>\n",
       "      <td>1.082715e+07</td>\n",
       "    </tr>\n",
       "    <tr>\n",
       "      <th>Marshall Islands</th>\n",
       "      <td>0.000000e+00</td>\n",
       "      <td>15285248.0</td>\n",
       "      <td>4.680333e+08</td>\n",
       "      <td>7.076137e+06</td>\n",
       "    </tr>\n",
       "    <tr>\n",
       "      <th>Papua New Guinea</th>\n",
       "      <td>6.976123e+09</td>\n",
       "      <td>889191070.0</td>\n",
       "      <td>1.316967e+10</td>\n",
       "      <td>8.536102e+08</td>\n",
       "    </tr>\n",
       "    <tr>\n",
       "      <th>Samoa</th>\n",
       "      <td>9.025303e+08</td>\n",
       "      <td>47664858.0</td>\n",
       "      <td>7.159667e+08</td>\n",
       "      <td>7.177621e+07</td>\n",
       "    </tr>\n",
       "    <tr>\n",
       "      <th>Solomon Islands</th>\n",
       "      <td>0.000000e+00</td>\n",
       "      <td>27550125.0</td>\n",
       "      <td>1.019567e+09</td>\n",
       "      <td>5.018003e+07</td>\n",
       "    </tr>\n",
       "    <tr>\n",
       "      <th>Tonga</th>\n",
       "      <td>0.000000e+00</td>\n",
       "      <td>15622726.0</td>\n",
       "      <td>8.417333e+08</td>\n",
       "      <td>3.286655e+07</td>\n",
       "    </tr>\n",
       "  </tbody>\n",
       "</table>\n",
       "</div>"
      ],
      "text/plain": [
       "                  total_roads_value  total_power_value  total_building_value  \\\n",
       "Belize                 2.513105e+09        246783703.0          4.620789e+09   \n",
       "Fiji                   2.981647e+09        483010130.0          6.504790e+09   \n",
       "Haiti                  9.742686e+09        223696330.0          2.656431e+10   \n",
       "Jamaica                5.119131e+09        787424726.0          3.822092e+10   \n",
       "Kiribati               3.843400e+08          4982963.0          3.353667e+08   \n",
       "Marshall Islands       0.000000e+00         15285248.0          4.680333e+08   \n",
       "Papua New Guinea       6.976123e+09        889191070.0          1.316967e+10   \n",
       "Samoa                  9.025303e+08         47664858.0          7.159667e+08   \n",
       "Solomon Islands        0.000000e+00         27550125.0          1.019567e+09   \n",
       "Tonga                  0.000000e+00         15622726.0          8.417333e+08   \n",
       "\n",
       "                  total_water_value  \n",
       "Belize                 4.352581e+08  \n",
       "Fiji                   4.135154e+08  \n",
       "Haiti                  1.271568e+09  \n",
       "Jamaica                4.261407e+09  \n",
       "Kiribati               1.082715e+07  \n",
       "Marshall Islands       7.076137e+06  \n",
       "Papua New Guinea       8.536102e+08  \n",
       "Samoa                  7.177621e+07  \n",
       "Solomon Islands        5.018003e+07  \n",
       "Tonga                  3.286655e+07  "
      ]
     },
     "execution_count": 28,
     "metadata": {},
     "output_type": "execute_result"
    }
   ],
   "source": [
    "all_infra.dropna()"
   ]
  },
  {
   "cell_type": "markdown",
   "metadata": {},
   "source": [
    "## Read total capital data gathered in \"gather_capital_data\" and wb data gathered in \"download_wb_data\""
   ]
  },
  {
   "cell_type": "code",
   "execution_count": 29,
   "metadata": {
    "collapsed": false
   },
   "outputs": [],
   "source": [
    "K = pd.read_csv(\"intermediate/avg_prod_k_with_gar_for_sids.csv\",index_col=\"Unnamed: 0\")\n",
    "wb = pd.read_csv(\"inputs/wb_data.csv\",index_col=\"country\")"
   ]
  },
  {
   "cell_type": "markdown",
   "metadata": {},
   "source": [
    "## recomputes Ktot from WB GDP and average capital productivity"
   ]
  },
  {
   "cell_type": "code",
   "execution_count": 30,
   "metadata": {
    "collapsed": false
   },
   "outputs": [],
   "source": [
    "wb[\"Ktot\"] = wb.gdp_pc_pp*wb['pop']/K.avg_prod_k"
   ]
  },
  {
   "cell_type": "code",
   "execution_count": 31,
   "metadata": {
    "collapsed": false
   },
   "outputs": [
    {
     "data": {
      "text/html": [
       "<div>\n",
       "<table border=\"1\" class=\"dataframe\">\n",
       "  <thead>\n",
       "    <tr style=\"text-align: right;\">\n",
       "      <th></th>\n",
       "      <th>total_roads_value</th>\n",
       "      <th>total_power_value</th>\n",
       "      <th>total_building_value</th>\n",
       "      <th>total_water_value</th>\n",
       "      <th>Ktot</th>\n",
       "    </tr>\n",
       "  </thead>\n",
       "  <tbody>\n",
       "    <tr>\n",
       "      <th>Belize</th>\n",
       "      <td>2.513105e+09</td>\n",
       "      <td>246783703.0</td>\n",
       "      <td>4.620789e+09</td>\n",
       "      <td>4.352581e+08</td>\n",
       "      <td>1.073572e+10</td>\n",
       "    </tr>\n",
       "    <tr>\n",
       "      <th>Fiji</th>\n",
       "      <td>2.981647e+09</td>\n",
       "      <td>483010130.0</td>\n",
       "      <td>6.504790e+09</td>\n",
       "      <td>4.135154e+08</td>\n",
       "      <td>2.288247e+10</td>\n",
       "    </tr>\n",
       "    <tr>\n",
       "      <th>Haiti</th>\n",
       "      <td>9.742686e+09</td>\n",
       "      <td>223696330.0</td>\n",
       "      <td>2.656431e+10</td>\n",
       "      <td>1.271568e+09</td>\n",
       "      <td>1.345242e+11</td>\n",
       "    </tr>\n",
       "    <tr>\n",
       "      <th>Jamaica</th>\n",
       "      <td>5.119131e+09</td>\n",
       "      <td>787424726.0</td>\n",
       "      <td>3.822092e+10</td>\n",
       "      <td>4.261407e+09</td>\n",
       "      <td>1.161836e+11</td>\n",
       "    </tr>\n",
       "    <tr>\n",
       "      <th>Kiribati</th>\n",
       "      <td>3.843400e+08</td>\n",
       "      <td>4982963.0</td>\n",
       "      <td>3.353667e+08</td>\n",
       "      <td>1.082715e+07</td>\n",
       "      <td>7.645732e+08</td>\n",
       "    </tr>\n",
       "    <tr>\n",
       "      <th>Papua New Guinea</th>\n",
       "      <td>6.976123e+09</td>\n",
       "      <td>889191070.0</td>\n",
       "      <td>1.316967e+10</td>\n",
       "      <td>8.536102e+08</td>\n",
       "      <td>6.516308e+10</td>\n",
       "    </tr>\n",
       "    <tr>\n",
       "      <th>Solomon Islands</th>\n",
       "      <td>0.000000e+00</td>\n",
       "      <td>27550125.0</td>\n",
       "      <td>1.019567e+09</td>\n",
       "      <td>5.018003e+07</td>\n",
       "      <td>4.184846e+09</td>\n",
       "    </tr>\n",
       "    <tr>\n",
       "      <th>Tonga</th>\n",
       "      <td>0.000000e+00</td>\n",
       "      <td>15622726.0</td>\n",
       "      <td>8.417333e+08</td>\n",
       "      <td>3.286655e+07</td>\n",
       "      <td>1.596333e+09</td>\n",
       "    </tr>\n",
       "  </tbody>\n",
       "</table>\n",
       "</div>"
      ],
      "text/plain": [
       "                  total_roads_value  total_power_value  total_building_value  \\\n",
       "Belize                 2.513105e+09        246783703.0          4.620789e+09   \n",
       "Fiji                   2.981647e+09        483010130.0          6.504790e+09   \n",
       "Haiti                  9.742686e+09        223696330.0          2.656431e+10   \n",
       "Jamaica                5.119131e+09        787424726.0          3.822092e+10   \n",
       "Kiribati               3.843400e+08          4982963.0          3.353667e+08   \n",
       "Papua New Guinea       6.976123e+09        889191070.0          1.316967e+10   \n",
       "Solomon Islands        0.000000e+00         27550125.0          1.019567e+09   \n",
       "Tonga                  0.000000e+00         15622726.0          8.417333e+08   \n",
       "\n",
       "                  total_water_value          Ktot  \n",
       "Belize                 4.352581e+08  1.073572e+10  \n",
       "Fiji                   4.135154e+08  2.288247e+10  \n",
       "Haiti                  1.271568e+09  1.345242e+11  \n",
       "Jamaica                4.261407e+09  1.161836e+11  \n",
       "Kiribati               1.082715e+07  7.645732e+08  \n",
       "Papua New Guinea       8.536102e+08  6.516308e+10  \n",
       "Solomon Islands        5.018003e+07  4.184846e+09  \n",
       "Tonga                  3.286655e+07  1.596333e+09  "
      ]
     },
     "execution_count": 31,
     "metadata": {},
     "output_type": "execute_result"
    }
   ],
   "source": [
    "sids_infra = pd.concat([all_infra,wb.Ktot],axis=1).dropna()\n",
    "sids_infra"
   ]
  },
  {
   "cell_type": "code",
   "execution_count": 32,
   "metadata": {
    "collapsed": true
   },
   "outputs": [],
   "source": [
    "sids_infra[\"transport_share\"] = sids_infra.total_roads_value/sids_infra.Ktot\n",
    "sids_infra[\"energy_share\"] = sids_infra.total_power_value/sids_infra.Ktot\n",
    "sids_infra[\"building_share\"] = sids_infra.total_building_value/sids_infra.Ktot\n",
    "sids_infra[\"water_share\"] = sids_infra.total_water_value/sids_infra.Ktot"
   ]
  },
  {
   "cell_type": "code",
   "execution_count": 33,
   "metadata": {
    "collapsed": false
   },
   "outputs": [
    {
     "data": {
      "text/html": [
       "<div>\n",
       "<table border=\"1\" class=\"dataframe\">\n",
       "  <thead>\n",
       "    <tr style=\"text-align: right;\">\n",
       "      <th></th>\n",
       "      <th>total_roads_value</th>\n",
       "      <th>total_power_value</th>\n",
       "      <th>total_building_value</th>\n",
       "      <th>total_water_value</th>\n",
       "      <th>Ktot</th>\n",
       "      <th>transport_share</th>\n",
       "      <th>energy_share</th>\n",
       "      <th>building_share</th>\n",
       "      <th>water_share</th>\n",
       "    </tr>\n",
       "  </thead>\n",
       "  <tbody>\n",
       "    <tr>\n",
       "      <th>Belize</th>\n",
       "      <td>2.513105e+09</td>\n",
       "      <td>246783703.0</td>\n",
       "      <td>4.620789e+09</td>\n",
       "      <td>4.352581e+08</td>\n",
       "      <td>1.073572e+10</td>\n",
       "      <td>0.234088</td>\n",
       "      <td>0.022987</td>\n",
       "      <td>0.430413</td>\n",
       "      <td>0.040543</td>\n",
       "    </tr>\n",
       "    <tr>\n",
       "      <th>Fiji</th>\n",
       "      <td>2.981647e+09</td>\n",
       "      <td>483010130.0</td>\n",
       "      <td>6.504790e+09</td>\n",
       "      <td>4.135154e+08</td>\n",
       "      <td>2.288247e+10</td>\n",
       "      <td>0.130303</td>\n",
       "      <td>0.021108</td>\n",
       "      <td>0.284270</td>\n",
       "      <td>0.018071</td>\n",
       "    </tr>\n",
       "    <tr>\n",
       "      <th>Haiti</th>\n",
       "      <td>9.742686e+09</td>\n",
       "      <td>223696330.0</td>\n",
       "      <td>2.656431e+10</td>\n",
       "      <td>1.271568e+09</td>\n",
       "      <td>1.345242e+11</td>\n",
       "      <td>0.072423</td>\n",
       "      <td>0.001663</td>\n",
       "      <td>0.197469</td>\n",
       "      <td>0.009452</td>\n",
       "    </tr>\n",
       "    <tr>\n",
       "      <th>Jamaica</th>\n",
       "      <td>5.119131e+09</td>\n",
       "      <td>787424726.0</td>\n",
       "      <td>3.822092e+10</td>\n",
       "      <td>4.261407e+09</td>\n",
       "      <td>1.161836e+11</td>\n",
       "      <td>0.044061</td>\n",
       "      <td>0.006777</td>\n",
       "      <td>0.328970</td>\n",
       "      <td>0.036678</td>\n",
       "    </tr>\n",
       "    <tr>\n",
       "      <th>Kiribati</th>\n",
       "      <td>3.843400e+08</td>\n",
       "      <td>4982963.0</td>\n",
       "      <td>3.353667e+08</td>\n",
       "      <td>1.082715e+07</td>\n",
       "      <td>7.645732e+08</td>\n",
       "      <td>0.502686</td>\n",
       "      <td>0.006517</td>\n",
       "      <td>0.438633</td>\n",
       "      <td>0.014161</td>\n",
       "    </tr>\n",
       "    <tr>\n",
       "      <th>Papua New Guinea</th>\n",
       "      <td>6.976123e+09</td>\n",
       "      <td>889191070.0</td>\n",
       "      <td>1.316967e+10</td>\n",
       "      <td>8.536102e+08</td>\n",
       "      <td>6.516308e+10</td>\n",
       "      <td>0.107056</td>\n",
       "      <td>0.013646</td>\n",
       "      <td>0.202103</td>\n",
       "      <td>0.013100</td>\n",
       "    </tr>\n",
       "    <tr>\n",
       "      <th>Solomon Islands</th>\n",
       "      <td>0.000000e+00</td>\n",
       "      <td>27550125.0</td>\n",
       "      <td>1.019567e+09</td>\n",
       "      <td>5.018003e+07</td>\n",
       "      <td>4.184846e+09</td>\n",
       "      <td>0.000000</td>\n",
       "      <td>0.006583</td>\n",
       "      <td>0.243633</td>\n",
       "      <td>0.011991</td>\n",
       "    </tr>\n",
       "    <tr>\n",
       "      <th>Tonga</th>\n",
       "      <td>0.000000e+00</td>\n",
       "      <td>15622726.0</td>\n",
       "      <td>8.417333e+08</td>\n",
       "      <td>3.286655e+07</td>\n",
       "      <td>1.596333e+09</td>\n",
       "      <td>0.000000</td>\n",
       "      <td>0.009787</td>\n",
       "      <td>0.527292</td>\n",
       "      <td>0.020589</td>\n",
       "    </tr>\n",
       "  </tbody>\n",
       "</table>\n",
       "</div>"
      ],
      "text/plain": [
       "                  total_roads_value  total_power_value  total_building_value  \\\n",
       "Belize                 2.513105e+09        246783703.0          4.620789e+09   \n",
       "Fiji                   2.981647e+09        483010130.0          6.504790e+09   \n",
       "Haiti                  9.742686e+09        223696330.0          2.656431e+10   \n",
       "Jamaica                5.119131e+09        787424726.0          3.822092e+10   \n",
       "Kiribati               3.843400e+08          4982963.0          3.353667e+08   \n",
       "Papua New Guinea       6.976123e+09        889191070.0          1.316967e+10   \n",
       "Solomon Islands        0.000000e+00         27550125.0          1.019567e+09   \n",
       "Tonga                  0.000000e+00         15622726.0          8.417333e+08   \n",
       "\n",
       "                  total_water_value          Ktot  transport_share  \\\n",
       "Belize                 4.352581e+08  1.073572e+10         0.234088   \n",
       "Fiji                   4.135154e+08  2.288247e+10         0.130303   \n",
       "Haiti                  1.271568e+09  1.345242e+11         0.072423   \n",
       "Jamaica                4.261407e+09  1.161836e+11         0.044061   \n",
       "Kiribati               1.082715e+07  7.645732e+08         0.502686   \n",
       "Papua New Guinea       8.536102e+08  6.516308e+10         0.107056   \n",
       "Solomon Islands        5.018003e+07  4.184846e+09         0.000000   \n",
       "Tonga                  3.286655e+07  1.596333e+09         0.000000   \n",
       "\n",
       "                  energy_share  building_share  water_share  \n",
       "Belize                0.022987        0.430413     0.040543  \n",
       "Fiji                  0.021108        0.284270     0.018071  \n",
       "Haiti                 0.001663        0.197469     0.009452  \n",
       "Jamaica               0.006777        0.328970     0.036678  \n",
       "Kiribati              0.006517        0.438633     0.014161  \n",
       "Papua New Guinea      0.013646        0.202103     0.013100  \n",
       "Solomon Islands       0.006583        0.243633     0.011991  \n",
       "Tonga                 0.009787        0.527292     0.020589  "
      ]
     },
     "execution_count": 33,
     "metadata": {},
     "output_type": "execute_result"
    }
   ],
   "source": [
    "sids_infra"
   ]
  },
  {
   "cell_type": "code",
   "execution_count": 34,
   "metadata": {
    "collapsed": false
   },
   "outputs": [
    {
     "data": {
      "text/plain": [
       "Belize              0.728031\n",
       "Fiji                0.453752\n",
       "Haiti               0.281007\n",
       "Jamaica             0.416486\n",
       "Kiribati            0.961997\n",
       "Papua New Guinea    0.335905\n",
       "Solomon Islands     0.262207\n",
       "Tonga               0.557667\n",
       "dtype: float64"
      ]
     },
     "execution_count": 34,
     "metadata": {},
     "output_type": "execute_result"
    }
   ],
   "source": [
    "sids_infra[[\"transport_share\",\"energy_share\",\"building_share\",\"water_share\"]].sum(axis=1)"
   ]
  },
  {
   "cell_type": "markdown",
   "metadata": {},
   "source": [
    "### Residential vs non residential buildings"
   ]
  },
  {
   "cell_type": "code",
   "execution_count": 35,
   "metadata": {
    "collapsed": true
   },
   "outputs": [],
   "source": [
    "## hard coding Fiji data from Rashmin's file Fiji_2015_exposure_estimation_110517.xlsx\n",
    "fiji_total = 4093521135+2411268610\n",
    "fiji_residential = 4093521135/fiji_total\n",
    "\n",
    "# for the US, according to the BEA, residential is 19,199.1 billion and non residential 21,879.4 billion. so by default we put 50/50."
   ]
  },
  {
   "cell_type": "code",
   "execution_count": 36,
   "metadata": {
    "collapsed": true
   },
   "outputs": [],
   "source": [
    "sids_infra.loc[\"Fiji\",\"building_residential_share\"] = fiji_residential\n",
    "sids_infra[\"building_residential_share\"] = sids_infra.building_residential_share.fillna(0.5)"
   ]
  },
  {
   "cell_type": "code",
   "execution_count": 39,
   "metadata": {
    "collapsed": false
   },
   "outputs": [
    {
     "data": {
      "text/plain": [
       "Index(['total_roads_value', 'total_power_value', 'total_building_value',\n",
       "       'total_water_value', 'Ktot', 'transport_share', 'energy_share',\n",
       "       'building_share', 'water_share', 'building_residential_share'],\n",
       "      dtype='object')"
      ]
     },
     "execution_count": 39,
     "metadata": {},
     "output_type": "execute_result"
    }
   ],
   "source": [
    "sids_infra.columns"
   ]
  },
  {
   "cell_type": "code",
   "execution_count": 40,
   "metadata": {
    "collapsed": true
   },
   "outputs": [],
   "source": [
    "sids_infra[['transport_share', 'energy_share','building_share', 'water_share', 'building_residential_share']].to_csv(\"inputs/sids_infra_stocks.csv\")"
   ]
  },
  {
   "cell_type": "code",
   "execution_count": null,
   "metadata": {
    "collapsed": true
   },
   "outputs": [],
   "source": []
  }
 ],
 "metadata": {
  "kernelspec": {
   "display_name": "Python [conda root]",
   "language": "python",
   "name": "conda-root-py"
  },
  "language_info": {
   "codemirror_mode": {
    "name": "ipython",
    "version": 3
   },
   "file_extension": ".py",
   "mimetype": "text/x-python",
   "name": "python",
   "nbconvert_exporter": "python",
   "pygments_lexer": "ipython3",
   "version": "3.5.2"
  },
  "toc": {
   "colors": {
    "hover_highlight": "#DAA520",
    "navigate_num": "#000000",
    "navigate_text": "#333333",
    "running_highlight": "#FF0000",
    "selected_highlight": "#FFD700",
    "sidebar_border": "#EEEEEE",
    "wrapper_background": "#FFFFFF"
   },
   "moveMenuLeft": true,
   "nav_menu": {
    "height": "30px",
    "width": "252px"
   },
   "navigate_menu": true,
   "number_sections": true,
   "sideBar": true,
   "threshold": 4,
   "toc_cell": false,
   "toc_section_display": "block",
   "toc_window_display": false,
   "widenNotebook": false
  }
 },
 "nbformat": 4,
 "nbformat_minor": 2
}
