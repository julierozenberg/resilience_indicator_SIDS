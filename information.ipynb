{
 "cells": [
  {
   "cell_type": "code",
   "execution_count": 95,
   "metadata": {
    "collapsed": false,
    "run_control": {
     "frozen": false,
     "read_only": false
    }
   },
   "outputs": [
    {
     "name": "stdout",
     "output_type": "stream",
     "text": [
      "The autoreload extension is already loaded. To reload it, use:\n",
      "  %reload_ext autoreload\n"
     ]
    }
   ],
   "source": [
    "%load_ext autoreload\n",
    "%autoreload 2\n",
    "\n",
    "import pandas as pd\n",
    "\n",
    "from res_ind_lib import *\n",
    "\n",
    "#Imports the function to plot render the policy experiments\n",
    "from policy_assessment import *\n",
    "from apply_policy import apply_policy\n",
    "\n",
    "\n",
    "from fancy_plots import *\n",
    "\n",
    "#ask jupyter to display the plots within this notebook\n",
    "%matplotlib inline"
   ]
  },
  {
   "cell_type": "markdown",
   "metadata": {},
   "source": [
    "# Data"
   ]
  },
  {
   "cell_type": "code",
   "execution_count": 5,
   "metadata": {
    "collapsed": false,
    "run_control": {
     "frozen": false,
     "read_only": false
    }
   },
   "outputs": [
    {
     "data": {
      "text/html": [
       "<div>\n",
       "<table border=\"1\" class=\"dataframe\">\n",
       "  <thead>\n",
       "    <tr style=\"text-align: right;\">\n",
       "      <th></th>\n",
       "      <th>gdp_pc_pp</th>\n",
       "      <th>pop</th>\n",
       "      <th>prepare_scaleup</th>\n",
       "      <th>borrow_abi</th>\n",
       "      <th>avg_prod_k</th>\n",
       "      <th>T_rebuild_K</th>\n",
       "      <th>pi</th>\n",
       "      <th>income_elast</th>\n",
       "      <th>rho</th>\n",
       "      <th>shareable</th>\n",
       "      <th>max_increased_spending</th>\n",
       "      <th>protection</th>\n",
       "      <th>fa_glofris</th>\n",
       "      <th>tau_tax</th>\n",
       "    </tr>\n",
       "    <tr>\n",
       "      <th>country</th>\n",
       "      <th></th>\n",
       "      <th></th>\n",
       "      <th></th>\n",
       "      <th></th>\n",
       "      <th></th>\n",
       "      <th></th>\n",
       "      <th></th>\n",
       "      <th></th>\n",
       "      <th></th>\n",
       "      <th></th>\n",
       "      <th></th>\n",
       "      <th></th>\n",
       "      <th></th>\n",
       "      <th></th>\n",
       "    </tr>\n",
       "  </thead>\n",
       "  <tbody>\n",
       "    <tr>\n",
       "      <th>Albania</th>\n",
       "      <td>9960.940726</td>\n",
       "      <td>2897366</td>\n",
       "      <td>0.000000</td>\n",
       "      <td>0.162500</td>\n",
       "      <td>0.185280</td>\n",
       "      <td>3</td>\n",
       "      <td>0.2</td>\n",
       "      <td>1.5</td>\n",
       "      <td>0.06</td>\n",
       "      <td>0.8</td>\n",
       "      <td>0.05</td>\n",
       "      <td>20</td>\n",
       "      <td>0.073680</td>\n",
       "      <td>0.186757</td>\n",
       "    </tr>\n",
       "    <tr>\n",
       "      <th>Angola</th>\n",
       "      <td>7488.011760</td>\n",
       "      <td>21471618</td>\n",
       "      <td>0.000000</td>\n",
       "      <td>0.200000</td>\n",
       "      <td>0.432397</td>\n",
       "      <td>3</td>\n",
       "      <td>0.2</td>\n",
       "      <td>1.5</td>\n",
       "      <td>0.06</td>\n",
       "      <td>0.8</td>\n",
       "      <td>0.05</td>\n",
       "      <td>20</td>\n",
       "      <td>0.017033</td>\n",
       "      <td>0.106132</td>\n",
       "    </tr>\n",
       "    <tr>\n",
       "      <th>Argentina</th>\n",
       "      <td>18087.196262</td>\n",
       "      <td>41446246</td>\n",
       "      <td>0.666667</td>\n",
       "      <td>0.283333</td>\n",
       "      <td>0.269550</td>\n",
       "      <td>3</td>\n",
       "      <td>0.2</td>\n",
       "      <td>1.5</td>\n",
       "      <td>0.06</td>\n",
       "      <td>0.8</td>\n",
       "      <td>0.05</td>\n",
       "      <td>20</td>\n",
       "      <td>0.072058</td>\n",
       "      <td>0.145281</td>\n",
       "    </tr>\n",
       "    <tr>\n",
       "      <th>Armenia</th>\n",
       "      <td>7526.836419</td>\n",
       "      <td>2976566</td>\n",
       "      <td>0.400000</td>\n",
       "      <td>0.437500</td>\n",
       "      <td>0.366696</td>\n",
       "      <td>3</td>\n",
       "      <td>0.2</td>\n",
       "      <td>1.5</td>\n",
       "      <td>0.06</td>\n",
       "      <td>0.8</td>\n",
       "      <td>0.05</td>\n",
       "      <td>20</td>\n",
       "      <td>0.038001</td>\n",
       "      <td>0.268470</td>\n",
       "    </tr>\n",
       "    <tr>\n",
       "      <th>Australia</th>\n",
       "      <td>42834.016760</td>\n",
       "      <td>23129300</td>\n",
       "      <td>0.800000</td>\n",
       "      <td>0.916667</td>\n",
       "      <td>0.273602</td>\n",
       "      <td>3</td>\n",
       "      <td>0.2</td>\n",
       "      <td>1.5</td>\n",
       "      <td>0.06</td>\n",
       "      <td>0.8</td>\n",
       "      <td>0.05</td>\n",
       "      <td>20</td>\n",
       "      <td>0.041090</td>\n",
       "      <td>0.157776</td>\n",
       "    </tr>\n",
       "  </tbody>\n",
       "</table>\n",
       "</div>"
      ],
      "text/plain": [
       "              gdp_pc_pp       pop  prepare_scaleup  borrow_abi  avg_prod_k  \\\n",
       "country                                                                      \n",
       "Albania     9960.940726   2897366         0.000000    0.162500    0.185280   \n",
       "Angola      7488.011760  21471618         0.000000    0.200000    0.432397   \n",
       "Argentina  18087.196262  41446246         0.666667    0.283333    0.269550   \n",
       "Armenia     7526.836419   2976566         0.400000    0.437500    0.366696   \n",
       "Australia  42834.016760  23129300         0.800000    0.916667    0.273602   \n",
       "\n",
       "           T_rebuild_K   pi  income_elast   rho  shareable  \\\n",
       "country                                                      \n",
       "Albania              3  0.2           1.5  0.06        0.8   \n",
       "Angola               3  0.2           1.5  0.06        0.8   \n",
       "Argentina            3  0.2           1.5  0.06        0.8   \n",
       "Armenia              3  0.2           1.5  0.06        0.8   \n",
       "Australia            3  0.2           1.5  0.06        0.8   \n",
       "\n",
       "           max_increased_spending  protection  fa_glofris   tau_tax  \n",
       "country                                                              \n",
       "Albania                      0.05          20    0.073680  0.186757  \n",
       "Angola                       0.05          20    0.017033  0.106132  \n",
       "Argentina                    0.05          20    0.072058  0.145281  \n",
       "Armenia                      0.05          20    0.038001  0.268470  \n",
       "Australia                    0.05          20    0.041090  0.157776  "
      ]
     },
     "execution_count": 5,
     "metadata": {},
     "output_type": "execute_result"
    }
   ],
   "source": [
    "#Load the excel data file into a dataframe (table)\n",
    "macro=pd.read_csv(\"intermediate/macro.csv\", \n",
    "                 index_col=economy, #tells Pandas to use the first column (Provinces) as the index of the table\n",
    "                ).dropna() \n",
    "\n",
    "# macro=def_ref_values(macro)\n",
    "\n",
    "#Displays the first rows of that dataframe\n",
    "macro.head()\n"
   ]
  },
  {
   "cell_type": "code",
   "execution_count": 6,
   "metadata": {
    "collapsed": false,
    "run_control": {
     "frozen": false,
     "read_only": false
    }
   },
   "outputs": [
    {
     "data": {
      "text/html": [
       "<div>\n",
       "<table border=\"1\" class=\"dataframe\">\n",
       "  <thead>\n",
       "    <tr style=\"text-align: right;\">\n",
       "      <th></th>\n",
       "      <th></th>\n",
       "      <th>n</th>\n",
       "      <th>c</th>\n",
       "      <th>axfin</th>\n",
       "      <th>gamma_SP</th>\n",
       "      <th>k</th>\n",
       "      <th>fa</th>\n",
       "      <th>v</th>\n",
       "      <th>shew</th>\n",
       "    </tr>\n",
       "    <tr>\n",
       "      <th>country</th>\n",
       "      <th>income_cat</th>\n",
       "      <th></th>\n",
       "      <th></th>\n",
       "      <th></th>\n",
       "      <th></th>\n",
       "      <th></th>\n",
       "      <th></th>\n",
       "      <th></th>\n",
       "      <th></th>\n",
       "    </tr>\n",
       "  </thead>\n",
       "  <tbody>\n",
       "    <tr>\n",
       "      <th rowspan=\"2\" valign=\"top\">Albania</th>\n",
       "      <th>nonpoor</th>\n",
       "      <td>0.8</td>\n",
       "      <td>11349.246839</td>\n",
       "      <td>0.092387</td>\n",
       "      <td>1.094243</td>\n",
       "      <td>61811.780436</td>\n",
       "      <td>0.041340</td>\n",
       "      <td>0.31325</td>\n",
       "      <td>0.0</td>\n",
       "    </tr>\n",
       "    <tr>\n",
       "      <th>poor</th>\n",
       "      <td>0.2</td>\n",
       "      <td>4407.716271</td>\n",
       "      <td>0.075853</td>\n",
       "      <td>0.623028</td>\n",
       "      <td>21560.668539</td>\n",
       "      <td>0.036298</td>\n",
       "      <td>0.63000</td>\n",
       "      <td>0.0</td>\n",
       "    </tr>\n",
       "    <tr>\n",
       "      <th rowspan=\"2\" valign=\"top\">Angola</th>\n",
       "      <th>nonpoor</th>\n",
       "      <td>0.8</td>\n",
       "      <td>8854.573906</td>\n",
       "      <td>0.201269</td>\n",
       "      <td>1.160476</td>\n",
       "      <td>20523.147061</td>\n",
       "      <td>0.019437</td>\n",
       "      <td>0.50500</td>\n",
       "      <td>0.0</td>\n",
       "    </tr>\n",
       "    <tr>\n",
       "      <th>poor</th>\n",
       "      <td>0.2</td>\n",
       "      <td>2021.763175</td>\n",
       "      <td>0.091791</td>\n",
       "      <td>0.358097</td>\n",
       "      <td>4494.564269</td>\n",
       "      <td>0.100576</td>\n",
       "      <td>0.63000</td>\n",
       "      <td>0.0</td>\n",
       "    </tr>\n",
       "    <tr>\n",
       "      <th>Argentina</th>\n",
       "      <th>nonpoor</th>\n",
       "      <td>0.8</td>\n",
       "      <td>21573.503341</td>\n",
       "      <td>0.060371</td>\n",
       "      <td>1.171127</td>\n",
       "      <td>80282.025353</td>\n",
       "      <td>0.018010</td>\n",
       "      <td>0.30500</td>\n",
       "      <td>0.8</td>\n",
       "    </tr>\n",
       "  </tbody>\n",
       "</table>\n",
       "</div>"
      ],
      "text/plain": [
       "                        n             c     axfin  gamma_SP             k  \\\n",
       "country   income_cat                                                        \n",
       "Albania   nonpoor     0.8  11349.246839  0.092387  1.094243  61811.780436   \n",
       "          poor        0.2   4407.716271  0.075853  0.623028  21560.668539   \n",
       "Angola    nonpoor     0.8   8854.573906  0.201269  1.160476  20523.147061   \n",
       "          poor        0.2   2021.763175  0.091791  0.358097   4494.564269   \n",
       "Argentina nonpoor     0.8  21573.503341  0.060371  1.171127  80282.025353   \n",
       "\n",
       "                            fa        v  shew  \n",
       "country   income_cat                           \n",
       "Albania   nonpoor     0.041340  0.31325   0.0  \n",
       "          poor        0.036298  0.63000   0.0  \n",
       "Angola    nonpoor     0.019437  0.50500   0.0  \n",
       "          poor        0.100576  0.63000   0.0  \n",
       "Argentina nonpoor     0.018010  0.30500   0.8  "
      ]
     },
     "execution_count": 6,
     "metadata": {},
     "output_type": "execute_result"
    }
   ],
   "source": [
    "cat_info = pd.read_csv(\"intermediate/cat_info.csv\", index_col=[economy,\"income_cat\"])\n",
    "\n",
    "cat_info.head()"
   ]
  },
  {
   "cell_type": "code",
   "execution_count": 7,
   "metadata": {
    "collapsed": false,
    "run_control": {
     "frozen": false,
     "read_only": false
    }
   },
   "outputs": [
    {
     "data": {
      "text/html": [
       "<div>\n",
       "<table border=\"1\" class=\"dataframe\">\n",
       "  <thead>\n",
       "    <tr style=\"text-align: right;\">\n",
       "      <th></th>\n",
       "      <th></th>\n",
       "      <th></th>\n",
       "      <th></th>\n",
       "      <th>fa</th>\n",
       "      <th>shew</th>\n",
       "    </tr>\n",
       "    <tr>\n",
       "      <th>country</th>\n",
       "      <th>hazard</th>\n",
       "      <th>rp</th>\n",
       "      <th>income_cat</th>\n",
       "      <th></th>\n",
       "      <th></th>\n",
       "    </tr>\n",
       "  </thead>\n",
       "  <tbody>\n",
       "    <tr>\n",
       "      <th rowspan=\"5\" valign=\"top\">Afghanistan</th>\n",
       "      <th rowspan=\"5\" valign=\"top\">earthquake</th>\n",
       "      <th rowspan=\"2\" valign=\"top\">20</th>\n",
       "      <th>nonpoor</th>\n",
       "      <td>0.015826</td>\n",
       "      <td>0</td>\n",
       "    </tr>\n",
       "    <tr>\n",
       "      <th>poor</th>\n",
       "      <td>0.015826</td>\n",
       "      <td>0</td>\n",
       "    </tr>\n",
       "    <tr>\n",
       "      <th rowspan=\"2\" valign=\"top\">50</th>\n",
       "      <th>nonpoor</th>\n",
       "      <td>0.031746</td>\n",
       "      <td>0</td>\n",
       "    </tr>\n",
       "    <tr>\n",
       "      <th>poor</th>\n",
       "      <td>0.031746</td>\n",
       "      <td>0</td>\n",
       "    </tr>\n",
       "    <tr>\n",
       "      <th>100</th>\n",
       "      <th>nonpoor</th>\n",
       "      <td>0.051516</td>\n",
       "      <td>0</td>\n",
       "    </tr>\n",
       "  </tbody>\n",
       "</table>\n",
       "</div>"
      ],
      "text/plain": [
       "                                             fa  shew\n",
       "country     hazard     rp  income_cat                \n",
       "Afghanistan earthquake 20  nonpoor     0.015826     0\n",
       "                           poor        0.015826     0\n",
       "                       50  nonpoor     0.031746     0\n",
       "                           poor        0.031746     0\n",
       "                       100 nonpoor     0.051516     0"
      ]
     },
     "execution_count": 7,
     "metadata": {},
     "output_type": "execute_result"
    }
   ],
   "source": [
    "hazard_ratios = pd.read_csv(\"intermediate/hazard_ratios.csv\", index_col=event_level+[\"income_cat\"])\n",
    "\n",
    "hazard_ratios.head()"
   ]
  },
  {
   "cell_type": "code",
   "execution_count": 8,
   "metadata": {
    "collapsed": false,
    "run_control": {
     "frozen": false,
     "read_only": false
    }
   },
   "outputs": [
    {
     "name": "stdout",
     "output_type": "stream",
     "text": [
      "macro variables are: gdp_pc_pp, pop, prepare_scaleup, borrow_abi, avg_prod_k, T_rebuild_K, pi, income_elast, rho, shareable, max_increased_spending, protection, fa_glofris, tau_tax\n",
      "micro variables are: n, c, axfin, gamma_SP, k, fa, v, shew\n",
      "hazard variables are: fa, shew\n"
     ]
    }
   ],
   "source": [
    "print(\"macro variables are: \"+\", \".join(macro.columns))\n",
    "print(\"micro variables are: \"+\", \".join(cat_info.columns))\n",
    "print(\"hazard variables are: \"+\", \".join(hazard_ratios.columns))"
   ]
  },
  {
   "cell_type": "markdown",
   "metadata": {},
   "source": [
    "# Information"
   ]
  },
  {
   "cell_type": "code",
   "execution_count": 65,
   "metadata": {
    "collapsed": false,
    "run_control": {
     "frozen": false,
     "read_only": false
    }
   },
   "outputs": [
    {
     "name": "stdout",
     "output_type": "stream",
     "text": [
      "default_rp detected, droping rp\n"
     ]
    }
   ],
   "source": [
    "outputs = [\"risk\", \"resilience\", \"risk_to_assets\"]\n",
    "\n",
    "info = pd.DataFrame( index=outputs)\n",
    "ref=compute_resilience(macro,cat_info)[outputs].dropna()\n"
   ]
  },
  {
   "cell_type": "code",
   "execution_count": 66,
   "metadata": {
    "collapsed": false,
    "run_control": {
     "frozen": false,
     "read_only": false
    }
   },
   "outputs": [],
   "source": [
    "# (compute_resilience(macro,cat_info,hazard_ratios, return_stats=True) / compute_resilience(macro,cat_info,hazard_ratios, verbose_replace=True, return_stats=True)).dropna().T"
   ]
  },
  {
   "cell_type": "markdown",
   "metadata": {},
   "source": [
    "## averages and bias in macro"
   ]
  },
  {
   "cell_type": "code",
   "execution_count": 134,
   "metadata": {
    "collapsed": true
   },
   "outputs": [],
   "source": [
    "macro[\"fap\"] = cat_info.fa.unstack().poor\n",
    "macro[\"far\"] = cat_info.fa.unstack().nonpoor\n",
    "\n",
    "macro[\"v_p\"] = cat_info.v.unstack().poor\n",
    "macro[\"v_r\"] = cat_info.v.unstack().nonpoor\n",
    "\n",
    "macro[\"cp\"] = cat_info.c.unstack().poor\n",
    "macro[\"cr\"] = cat_info.c.unstack().nonpoor\n",
    "\n",
    "\n",
    "x=cat_info[[\"c\",\"n\"]].prod(axis=1)\n",
    "macro[\"share1\"]=x.ix[:,\"poor\"]/x.sum(level=\"country\")\n"
   ]
  },
  {
   "cell_type": "code",
   "execution_count": 135,
   "metadata": {
    "collapsed": false
   },
   "outputs": [
    {
     "name": "stdout",
     "output_type": "stream",
     "text": [
      "prout\n"
     ]
    }
   ],
   "source": [
    "\n",
    "v,pv,fa,pe= compute_v_fa(macro)\n",
    "\n",
    "macro[\"v_moy\"] = v\n",
    "macro[\"fa_moy\"]= fa\n",
    "\n",
    "macro[\"v_bias\"]  = pv\n",
    "macro[\"fa_bias\"]= pe\n",
    "\n"
   ]
  },
  {
   "cell_type": "code",
   "execution_count": 136,
   "metadata": {
    "collapsed": false
   },
   "outputs": [
    {
     "data": {
      "text/plain": [
       "country\n",
       "Albania                      9960.940726\n",
       "Angola                       7488.011760\n",
       "Argentina                   18087.196262\n",
       "Armenia                              NaN\n",
       "Australia                   42834.016760\n",
       "Austria                     44056.254417\n",
       "Azerbaijan                  16593.188760\n",
       "Bangladesh                   2853.447740\n",
       "Belarus                     17054.558334\n",
       "Belgium                     40608.972009\n",
       "Benin                        1733.309399\n",
       "Bolivia                      5934.387978\n",
       "Bosnia and Herzegovina       9387.350031\n",
       "Botswana                    15246.608797\n",
       "Brazil                      14555.082195\n",
       "Bulgaria                    15695.017794\n",
       "Burkina Faso                 1630.444497\n",
       "Burundi                       746.960151\n",
       "Cambodia                     2943.524668\n",
       "Cameroon                     2739.343945\n",
       "Canada                      41898.882359\n",
       "Central African Republic      584.375944\n",
       "Chad                         2021.593471\n",
       "Chile                       21714.031556\n",
       "China                       11524.567507\n",
       "Colombia                    12025.385372\n",
       "Congo, Dem. Rep.              783.259254\n",
       "Congo, Rep.                          NaN\n",
       "Costa Rica                  13430.743207\n",
       "Croatia                     20048.987159\n",
       "                                ...     \n",
       "Romania                     18184.109733\n",
       "Russian Federation          23564.207736\n",
       "Rwanda                       1426.366288\n",
       "Senegal                      2170.077207\n",
       "Serbia                      12892.496301\n",
       "Sierra Leone                 1494.648548\n",
       "Slovak Republic             25758.862635\n",
       "Slovenia                    27368.172026\n",
       "South Africa                12454.190922\n",
       "Spain                       31682.644741\n",
       "Sri Lanka                    9425.737383\n",
       "Sudan                        3264.772978\n",
       "Swaziland                    6470.884190\n",
       "Sweden                      43540.494392\n",
       "Syrian Arab Republic         4959.392523\n",
       "Tajikistan                   2431.659069\n",
       "Tanzania                     2364.702757\n",
       "Thailand                    13931.811471\n",
       "Togo                         1345.914276\n",
       "Turkey                      18567.134710\n",
       "Uganda                       1620.576939\n",
       "Ukraine                      8508.014787\n",
       "United Kingdom              36931.474226\n",
       "United States               51340.487628\n",
       "Uruguay                     18965.816535\n",
       "Uzbekistan                   5002.149120\n",
       "Venezuela, RB               17614.598210\n",
       "Vietnam                      5124.603520\n",
       "Yemen, Rep.                  3832.284740\n",
       "Zambia                       3799.540436\n",
       "dtype: float64"
      ]
     },
     "execution_count": 136,
     "metadata": {},
     "output_type": "execute_result"
    }
   ],
   "source": [
    "v_p,v_r, far, fap, cp, cr = unpack(macro.v_moy,macro.v_bias,macro.fa_moy,macro.fa_bias,0.2,macro.share1)\n",
    "\n",
    "macro.v_p - v_p\n",
    "macro.v_r - v_r\n",
    "macro.cp / cp\n",
    "# macro.v_p - v_p\n",
    "\n"
   ]
  },
  {
   "cell_type": "markdown",
   "metadata": {},
   "source": [
    "## Compute information"
   ]
  },
  {
   "cell_type": "code",
   "execution_count": 68,
   "metadata": {
    "collapsed": false,
    "run_control": {
     "frozen": false,
     "read_only": false
    }
   },
   "outputs": [
    {
     "name": "stdout",
     "output_type": "stream",
     "text": [
      "working on  fa_bias\n",
      "default_rp detected, droping rp\n"
     ]
    }
   ],
   "source": [
    "for v in macro:\n",
    "    df_ = macro.dropna().copy()\n",
    "    try : \n",
    "        progress_reporter(v)\n",
    "        df_[v] = macro[v].mean()\n",
    "        \n",
    "        #bias and mean to poor and rich\n",
    "        \n",
    "        cat_info.v=cat_info.v.unstack().assign(nonpoor = (df_.v_moy)/(0.2* df_.v_bias+.8)).stack()\n",
    "        cat_info.v=cat_info.v.unstack().assign(poor = lambda df:df.nonpoor*df_.v_bias).stack()\n",
    "\n",
    "        cat_info.fa=cat_info.fa.unstack().assign(nonpoor = (df_.fa_moy)/(0.2* df_.fa_bias+.8)).stack()\n",
    "        cat_info.fa=cat_info.fa.unstack().assign(poor = lambda df:df.nonpoor*df_.fa_bias).stack()\n",
    "\n",
    "\n",
    "    except TypeError:\n",
    "        pass\n",
    "    \n",
    "    g=compute_resilience(df_,cat_info)[outputs]\n",
    "    info[v] = (((g - ref)/ref).abs()).median()\n",
    "\n",
    "# info = info.T.sort_values(\"resilience\", ascending=False)"
   ]
  },
  {
   "cell_type": "code",
   "execution_count": 70,
   "metadata": {
    "collapsed": false,
    "run_control": {
     "frozen": false,
     "read_only": false
    }
   },
   "outputs": [],
   "source": [
    "for v in cat_info:\n",
    "#     for i in [\"poor\", \"nonpoor\"]:\n",
    "        c_ = cat_info.dropna().copy()\n",
    "        try : \n",
    "            c_[v] = cat_info[v].mean()\n",
    "#           c_[v] = cat_info[v].unstack().assign(**{i:lambda df:df[i].mean()}).stack()\n",
    "        except TypeError:\n",
    "            pass\n",
    "\n",
    "        g=compute_resilience(macro,c_,hazard_ratios)[outputs]\n",
    "#         info[(v,i)] = (((g - ref)/ref).abs()).median()        \n",
    "        info[v] = (((g - ref)/ref).abs()).median()"
   ]
  },
  {
   "cell_type": "code",
   "execution_count": 71,
   "metadata": {
    "collapsed": true,
    "run_control": {
     "frozen": false,
     "read_only": false
    }
   },
   "outputs": [],
   "source": [
    "if False:\n",
    "    for v in hazard_ratios:\n",
    "#     for i in [\"poor\", \"nonpoor\"]:\n",
    "        h_ = hazard_ratios.copy()\n",
    "        try : \n",
    "            h_[v] = hazard_ratios[v].mean()\n",
    "        except TypeError:\n",
    "            pass\n",
    "\n",
    "        g=compute_resilience(macro,cat_info,h_)[outputs]\n",
    "        info[v] = (((g - ref)/ref).abs()).median()"
   ]
  },
  {
   "cell_type": "code",
   "execution_count": 69,
   "metadata": {
    "collapsed": true,
    "run_control": {
     "frozen": false,
     "read_only": false
    }
   },
   "outputs": [],
   "source": [
    "info=info.T"
   ]
  },
  {
   "cell_type": "code",
   "execution_count": 70,
   "metadata": {
    "collapsed": false,
    "run_control": {
     "frozen": false,
     "read_only": false
    }
   },
   "outputs": [],
   "source": [
    "info = info.rename(index=pd.read_csv(\"inputs/inputs_info.csv\", index_col=0).descriptor)"
   ]
  },
  {
   "cell_type": "markdown",
   "metadata": {},
   "source": [
    "## save info"
   ]
  },
  {
   "cell_type": "code",
   "execution_count": 71,
   "metadata": {
    "collapsed": false,
    "run_control": {
     "frozen": false,
     "read_only": false
    }
   },
   "outputs": [],
   "source": [
    "with pd.ExcelWriter(\"results/information.xlsx\", engine='xlsxwriter') as writer:\n",
    "    \n",
    "    workbook=writer.book\n",
    "    \n",
    "    info.to_excel(writer,sheet_name=\"information\")\n",
    "    worksheet=writer.sheets[\"information\"]\n",
    "    #width of the columns\n",
    "    worksheet.set_column(0, 0, 20)\n",
    "    worksheet.set_column(1, 1, 20)\n",
    "    worksheet.set_column(2, 2, 20)\n",
    "    worksheet.set_column(3, 3, 20)\n",
    "\n",
    "    #filter\n",
    "    worksheet.autofilter('A1:D1')\n",
    "\n",
    "    #freeze panes\n",
    "    writer.sheets[\"information\"].freeze_panes(1, 1)"
   ]
  },
  {
   "cell_type": "markdown",
   "metadata": {},
   "source": [
    "## barpot info"
   ]
  },
  {
   "cell_type": "code",
   "execution_count": 72,
   "metadata": {
    "collapsed": false,
    "run_control": {
     "frozen": false,
     "read_only": false
    }
   },
   "outputs": [
    {
     "data": {
      "image/png": "[encoded data removed]",
      "text/plain": [
       "<matplotlib.figure.Figure at 0xae9a470>"
      ]
     },
     "metadata": {},
     "output_type": "display_data"
    }
   ],
   "source": [
    "plot_barh(info.sort_values(\"resilience\", ascending=True).resilience.tail(10), color=\"#de2d26\")\n",
    "plt.savefig(\"img/ser_info.png\", bbox_inches=\"tight\")"
   ]
  },
  {
   "cell_type": "code",
   "execution_count": 73,
   "metadata": {
    "collapsed": false,
    "run_control": {
     "frozen": false,
     "read_only": false
    }
   },
   "outputs": [
    {
     "data": {
      "image/png": "[encoded data removed]",
      "text/plain": [
       "<matplotlib.figure.Figure at 0xae9a908>"
      ]
     },
     "metadata": {},
     "output_type": "display_data"
    }
   ],
   "source": [
    "plot_barh(info.sort_values(\"risk\", ascending=True).risk.tail(10), color=\"#756bb1\", xlabel=\"Average error (%)\")\n",
    "plt.savefig(\"img/risk_info.png\", bbox_inches=\"tight\")"
   ]
  },
  {
   "cell_type": "code",
   "execution_count": 74,
   "metadata": {
    "collapsed": false,
    "run_control": {
     "frozen": false,
     "read_only": false
    }
   },
   "outputs": [
    {
     "data": {
      "image/png": "[encoded data removed]",
      "text/plain": [
       "<matplotlib.figure.Figure at 0xb696ef0>"
      ]
     },
     "metadata": {},
     "output_type": "display_data"
    }
   ],
   "source": [
    "plot_barh(info.sort_values(\"risk_to_assets\", ascending=True).risk_to_assets.tail(10), color=\"#3182bd\")\n",
    "plt.savefig(\"img/risk_to_assets_info.png\", bbox_inches=\"tight\")"
   ]
  },
  {
   "cell_type": "code",
   "execution_count": null,
   "metadata": {
    "collapsed": true,
    "run_control": {
     "frozen": false,
     "read_only": false
    }
   },
   "outputs": [],
   "source": []
  }
 ],
 "metadata": {
  "kernelspec": {
   "display_name": "Python 3",
   "language": "python",
   "name": "python3"
  },
  "language_info": {
   "codemirror_mode": {
    "name": "ipython",
    "version": 3
   },
   "file_extension": ".py",
   "mimetype": "text/x-python",
   "name": "python",
   "nbconvert_exporter": "python",
   "pygments_lexer": "ipython3",
   "version": "3.4.4"
  },
  "nav_menu": {},
  "toc": {
   "navigate_menu": true,
   "number_sections": true,
   "sideBar": true,
   "threshold": 6,
   "toc_cell": false,
   "toc_section_display": "block",
   "toc_window_display": true
  },
  "toc_position": {
   "height": "626px",
   "left": "0px",
   "right": "1388px",
   "top": "107px",
   "width": "212px"
  }
 },
 "nbformat": 4,
 "nbformat_minor": 0
}
