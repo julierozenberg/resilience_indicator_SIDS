{
 "cells": [
  {
   "cell_type": "code",
   "execution_count": 57,
   "metadata": {
    "collapsed": false,
    "run_control": {
     "frozen": false,
     "read_only": false
    }
   },
   "outputs": [],
   "source": [
    "import pandas as pd\n",
    "from replace_with_warning import replace_with_warning\n",
    "from pandas_helper import broadcast_simple\n",
    "import numpy as np\n",
    "\n",
    "from res_ind_lib import average_over_rp"
   ]
  },
  {
   "cell_type": "code",
   "execution_count": 58,
   "metadata": {
    "collapsed": false,
    "run_control": {
     "frozen": false,
     "read_only": false
    }
   },
   "outputs": [],
   "source": [
    "iso3_to_wb = pd.read_csv(\"inputs/iso3_to_wb_name.csv\", index_col=\"iso3\", squeeze=True)\n",
    "\n",
    "\n",
    "#Names to WB names\n",
    "any_to_wb = pd.read_csv(\"inputs/any_name_to_wb_name.csv\",index_col=\"any\",squeeze=True)\n"
   ]
  },
  {
   "cell_type": "markdown",
   "metadata": {},
   "source": [
    "# AAL"
   ]
  },
  {
   "cell_type": "markdown",
   "metadata": {},
   "source": [
    "## agg data"
   ]
  },
  {
   "cell_type": "code",
   "execution_count": 59,
   "metadata": {
    "collapsed": false,
    "run_control": {
     "frozen": false,
     "read_only": false
    }
   },
   "outputs": [
    {
     "name": "stderr",
     "output_type": "stream",
     "text": [
      "C:\\Users\\Admin\\Box Sync\\PYTHON - RESILIENCE\\resilience_indicator_multihazard\\replace_with_warning.py:21: UserWarning: These entries were not found in the dictionary:\n",
      "ESH\n",
      "  warnings.warn(\"These entries were not found in the dictionary:\\n\"+joiner.join(series_in[are_missing].unique()))\n"
     ]
    },
    {
     "data": {
      "text/plain": [
       "293387.32000000007"
      ]
     },
     "execution_count": 59,
     "metadata": {},
     "output_type": "execute_result"
    }
   ],
   "source": [
    "gar_aal_data = pd.read_csv(\"inputs/GAR15 results feb 2016_AALmundo.csv\", encoding=\"latin-1\", thousands=\",\", )\n",
    "\n",
    "# .drop([\"ISO\",\"Country\"],axis=1)\n",
    "\n",
    "#these are part of france\n",
    "gar_aal_data.ISO.replace([\"GUF\", \"GLP\", \"MTQ\", \"MYT\", \"REU\"],\"FRA\", inplace=True)\n",
    "\n",
    "#these ara part of the UK\n",
    "gar_aal_data.ISO.replace([\"FLK\", \"GIB\", \"MSR\"],\"GBR\", inplace=True)\n",
    "\n",
    "#wb spellings\n",
    "gar_aal_data = gar_aal_data.set_index(replace_with_warning(gar_aal_data.ISO,iso3_to_wb)).drop([\"ISO\",\"Country\"],axis=1)\n",
    "gar_aal_data.index.name=\"country\"\n",
    "\n",
    "\n",
    "#aggregates UK and France pieces to one country\n",
    "gar_aal_data =  gar_aal_data.sum(level=\"country\") \n",
    "\n",
    "\n",
    "#takes exposed value out\n",
    "gar_exposed_value = gar_aal_data.pop(\"EXPOSED VALUE\")\n",
    "\n",
    "\n",
    "#rename hazards\n",
    "gar_aal_data = gar_aal_data.rename(columns=lambda s:(s.lower()))\n",
    "gar_aal_data= gar_aal_data.rename(columns = {\"tropical cyclones\":\"cyclones\", \"riverine floods\":\"flood\", \"storm surge\":\"surge\"})\n",
    "\n",
    "\n",
    "gar_aal_data\n",
    "\n",
    "AAL = (gar_aal_data.T/gar_exposed_value).T\n",
    "AAL.head()\n",
    "\n",
    "gar_aal_data.sum().sum()"
   ]
  },
  {
   "cell_type": "markdown",
   "metadata": {},
   "source": [
    "## wind and surge"
   ]
  },
  {
   "cell_type": "code",
   "execution_count": 60,
   "metadata": {
    "collapsed": false,
    "run_control": {
     "frozen": false,
     "read_only": false
    }
   },
   "outputs": [
    {
     "name": "stderr",
     "output_type": "stream",
     "text": [
      "C:\\Users\\Admin\\Box Sync\\PYTHON - RESILIENCE\\resilience_indicator_multihazard\\replace_with_warning.py:21: UserWarning: These entries were not found in the dictionary:\n",
      "ESH\n",
      "  warnings.warn(\"These entries were not found in the dictionary:\\n\"+joiner.join(series_in[are_missing].unique()))\n"
     ]
    },
    {
     "data": {
      "text/plain": [
       "Costa Rica                        1.000000e+00\n",
       "Tonga                             3.812629e-01\n",
       "St. Vincent and the Grenadines    2.115747e-16\n",
       "Venezuela, RB                     2.115004e-16\n",
       "United States                     2.085513e-16\n",
       "dtype: float64"
      ]
     },
     "execution_count": 60,
     "metadata": {},
     "output_type": "execute_result"
    }
   ],
   "source": [
    "\n",
    "def get_dk_over_k_from_file(path=\"inputs/GAR_data_surge.csv\"):\n",
    "    gardata_surge = pd.read_csv(path).dropna(axis=1, how=\"all\")\n",
    "\n",
    "    #these are part of france\n",
    "    gardata_surge.Country.replace([\"GUF\", \"GLP\", \"MTQ\", \"MYT\", \"REU\"],\"FRA\", inplace=True)\n",
    "\n",
    "    #these ara part of the UK\n",
    "    gardata_surge.Country.replace([\"FLK\", \"GIB\", \"MSR\"],\"GBR\", inplace=True)\n",
    "\n",
    "\n",
    "    gardata_surge = gardata_surge.set_index(replace_with_warning(gardata_surge.Country, iso3_to_wb))[[\"AAL\", \"Exposed Value (from GED)\"]] # drop([\"Country\",\"Country name\", \"Region\", \"GA\", \"Hazard\"],axis=1)\n",
    "\n",
    "    # gardata_surge.rename(columns=lambda s: float(s[4:-5]))\n",
    "\n",
    "    return gardata_surge[\"AAL\"].sum(level=0)/gardata_surge[\"Exposed Value (from GED)\"].sum(level=0)\n",
    "\n",
    "\n",
    "aal_surge = get_dk_over_k_from_file(\"inputs/GAR_data_surge.csv\")\n",
    "aal_wind = get_dk_over_k_from_file(\"inputs/GAR_data_wind.csv\")\n",
    "aal_recomputed =aal_surge +aal_wind\n",
    "\n",
    "\n",
    "((AAL.cyclones - aal_recomputed)/AAL.cyclones).abs().sort_values(ascending=False).head()\n",
    "\n",
    "\n"
   ]
  },
  {
   "cell_type": "code",
   "execution_count": 61,
   "metadata": {
    "collapsed": false,
    "run_control": {
     "frozen": false,
     "read_only": false
    }
   },
   "outputs": [],
   "source": [
    "c=\"Costa Rica\"\n",
    "f = (aal_surge/aal_recomputed).mean()\n",
    "aal_surge.ix[c] = f*AAL.cyclones[c]\n",
    "aal_wind.ix[c] = (1-f)*AAL.cyclones[c]\n"
   ]
  },
  {
   "cell_type": "markdown",
   "metadata": {},
   "source": [
    "## AAL splitted"
   ]
  },
  {
   "cell_type": "code",
   "execution_count": 62,
   "metadata": {
    "collapsed": false,
    "run_control": {
     "frozen": false,
     "read_only": false
    }
   },
   "outputs": [],
   "source": [
    "AAL_splitted = AAL.drop(\"cyclones\",axis=1).assign(wind= aal_wind, surge = aal_surge).rename(columns=dict(floods=\"flood\")).stack()\n",
    "AAL_splitted.index.names=[\"country\", \"hazard\"]"
   ]
  },
  {
   "cell_type": "markdown",
   "metadata": {},
   "source": [
    "# PMLs and Exposed value"
   ]
  },
  {
   "cell_type": "code",
   "execution_count": 63,
   "metadata": {
    "collapsed": false,
    "run_control": {
     "frozen": false,
     "read_only": false
    }
   },
   "outputs": [
    {
     "name": "stderr",
     "output_type": "stream",
     "text": [
      "C:\\Users\\Admin\\Box Sync\\PYTHON - RESILIENCE\\resilience_indicator_multihazard\\replace_with_warning.py:21: UserWarning: These entries were not found in the dictionary:\n",
      "Western Sahara\n",
      "  warnings.warn(\"These entries were not found in the dictionary:\\n\"+joiner.join(series_in[are_missing].unique()))\n"
     ]
    },
    {
     "data": {
      "text/html": [
       "<div>\n",
       "<table border=\"1\" class=\"dataframe\">\n",
       "  <thead>\n",
       "    <tr>\n",
       "      <th>hazard</th>\n",
       "      <th>EXPOSED VALUE</th>\n",
       "      <th colspan=\"9\" halign=\"left\">EARTHQUAKE</th>\n",
       "      <th>...</th>\n",
       "      <th colspan=\"10\" halign=\"left\">Riverine floods</th>\n",
       "    </tr>\n",
       "    <tr>\n",
       "      <th>rp</th>\n",
       "      <th>National</th>\n",
       "      <th colspan=\"2\" halign=\"left\">20</th>\n",
       "      <th colspan=\"2\" halign=\"left\">50</th>\n",
       "      <th colspan=\"2\" halign=\"left\">100</th>\n",
       "      <th colspan=\"2\" halign=\"left\">250</th>\n",
       "      <th>500</th>\n",
       "      <th>...</th>\n",
       "      <th colspan=\"2\" halign=\"left\">100</th>\n",
       "      <th colspan=\"2\" halign=\"left\">250</th>\n",
       "      <th colspan=\"2\" halign=\"left\">500</th>\n",
       "      <th colspan=\"2\" halign=\"left\">1000</th>\n",
       "      <th colspan=\"2\" halign=\"left\">1500</th>\n",
       "    </tr>\n",
       "    <tr>\n",
       "      <th>what</th>\n",
       "      <th>million US$</th>\n",
       "      <th>million US$</th>\n",
       "      <th>[%]</th>\n",
       "      <th>million US$</th>\n",
       "      <th>[%]</th>\n",
       "      <th>million US$</th>\n",
       "      <th>[%]</th>\n",
       "      <th>million US$</th>\n",
       "      <th>[%]</th>\n",
       "      <th>million US$</th>\n",
       "      <th>...</th>\n",
       "      <th>million US$</th>\n",
       "      <th>[%]</th>\n",
       "      <th>million US$</th>\n",
       "      <th>[%]</th>\n",
       "      <th>million US$</th>\n",
       "      <th>[%]</th>\n",
       "      <th>million US$</th>\n",
       "      <th>[%]</th>\n",
       "      <th>million US$</th>\n",
       "      <th>[%]</th>\n",
       "    </tr>\n",
       "    <tr>\n",
       "      <th>country</th>\n",
       "      <th></th>\n",
       "      <th></th>\n",
       "      <th></th>\n",
       "      <th></th>\n",
       "      <th></th>\n",
       "      <th></th>\n",
       "      <th></th>\n",
       "      <th></th>\n",
       "      <th></th>\n",
       "      <th></th>\n",
       "      <th></th>\n",
       "      <th></th>\n",
       "      <th></th>\n",
       "      <th></th>\n",
       "      <th></th>\n",
       "      <th></th>\n",
       "      <th></th>\n",
       "      <th></th>\n",
       "      <th></th>\n",
       "      <th></th>\n",
       "      <th></th>\n",
       "    </tr>\n",
       "  </thead>\n",
       "  <tbody>\n",
       "    <tr>\n",
       "      <th>Afghanistan</th>\n",
       "      <td>60187.90</td>\n",
       "      <td>317.83</td>\n",
       "      <td>0.53</td>\n",
       "      <td>637.57</td>\n",
       "      <td>1.06</td>\n",
       "      <td>1034.61</td>\n",
       "      <td>1.72</td>\n",
       "      <td>1800.74</td>\n",
       "      <td>2.99</td>\n",
       "      <td>2585.25</td>\n",
       "      <td>...</td>\n",
       "      <td>1304.836191</td>\n",
       "      <td>2.167938</td>\n",
       "      <td>1662.178063</td>\n",
       "      <td>2.761648</td>\n",
       "      <td>1749.645544</td>\n",
       "      <td>2.906972</td>\n",
       "      <td>1924.580505</td>\n",
       "      <td>3.197620</td>\n",
       "      <td>2099.515466</td>\n",
       "      <td>3.488268</td>\n",
       "    </tr>\n",
       "    <tr>\n",
       "      <th>Albania</th>\n",
       "      <td>40459.70</td>\n",
       "      <td>112.83</td>\n",
       "      <td>0.28</td>\n",
       "      <td>239.07</td>\n",
       "      <td>0.59</td>\n",
       "      <td>412.61</td>\n",
       "      <td>1.02</td>\n",
       "      <td>817.76</td>\n",
       "      <td>2.02</td>\n",
       "      <td>1308.38</td>\n",
       "      <td>...</td>\n",
       "      <td>559.456815</td>\n",
       "      <td>1.382751</td>\n",
       "      <td>985.990186</td>\n",
       "      <td>2.436969</td>\n",
       "      <td>1152.001339</td>\n",
       "      <td>2.847281</td>\n",
       "      <td>1342.639991</td>\n",
       "      <td>3.318463</td>\n",
       "      <td>1434.570014</td>\n",
       "      <td>3.545676</td>\n",
       "    </tr>\n",
       "    <tr>\n",
       "      <th>Algeria</th>\n",
       "      <td>899206.00</td>\n",
       "      <td>2965.76</td>\n",
       "      <td>0.33</td>\n",
       "      <td>5719.85</td>\n",
       "      <td>0.64</td>\n",
       "      <td>8834.51</td>\n",
       "      <td>0.98</td>\n",
       "      <td>14487.39</td>\n",
       "      <td>1.61</td>\n",
       "      <td>19624.90</td>\n",
       "      <td>...</td>\n",
       "      <td>2455.765743</td>\n",
       "      <td>0.273104</td>\n",
       "      <td>5227.693307</td>\n",
       "      <td>0.581368</td>\n",
       "      <td>6507.867777</td>\n",
       "      <td>0.723735</td>\n",
       "      <td>7652.708961</td>\n",
       "      <td>0.851052</td>\n",
       "      <td>8032.451716</td>\n",
       "      <td>0.893283</td>\n",
       "    </tr>\n",
       "    <tr>\n",
       "      <th>American Samoa</th>\n",
       "      <td>1930.49</td>\n",
       "      <td>0.39</td>\n",
       "      <td>0.02</td>\n",
       "      <td>2.46</td>\n",
       "      <td>0.13</td>\n",
       "      <td>7.18</td>\n",
       "      <td>0.37</td>\n",
       "      <td>21.09</td>\n",
       "      <td>1.09</td>\n",
       "      <td>39.03</td>\n",
       "      <td>...</td>\n",
       "      <td>NaN</td>\n",
       "      <td>NaN</td>\n",
       "      <td>NaN</td>\n",
       "      <td>NaN</td>\n",
       "      <td>NaN</td>\n",
       "      <td>NaN</td>\n",
       "      <td>NaN</td>\n",
       "      <td>NaN</td>\n",
       "      <td>NaN</td>\n",
       "      <td>NaN</td>\n",
       "    </tr>\n",
       "    <tr>\n",
       "      <th>Andorra</th>\n",
       "      <td>8381.65</td>\n",
       "      <td>0.19</td>\n",
       "      <td>0.00</td>\n",
       "      <td>0.39</td>\n",
       "      <td>0.00</td>\n",
       "      <td>0.64</td>\n",
       "      <td>0.01</td>\n",
       "      <td>1.59</td>\n",
       "      <td>0.02</td>\n",
       "      <td>3.66</td>\n",
       "      <td>...</td>\n",
       "      <td>NaN</td>\n",
       "      <td>NaN</td>\n",
       "      <td>NaN</td>\n",
       "      <td>NaN</td>\n",
       "      <td>NaN</td>\n",
       "      <td>NaN</td>\n",
       "      <td>NaN</td>\n",
       "      <td>NaN</td>\n",
       "      <td>NaN</td>\n",
       "      <td>NaN</td>\n",
       "    </tr>\n",
       "  </tbody>\n",
       "</table>\n",
       "<p>5 rows × 71 columns</p>\n",
       "</div>"
      ],
      "text/plain": [
       "hazard         EXPOSED VALUE  EARTHQUAKE                                      \\\n",
       "rp                  National          20                50               100   \n",
       "what             million US$ million US$   [%] million US$   [%] million US$   \n",
       "country                                                                        \n",
       "Afghanistan         60187.90      317.83  0.53      637.57  1.06     1034.61   \n",
       "Albania             40459.70      112.83  0.28      239.07  0.59      412.61   \n",
       "Algeria            899206.00     2965.76  0.33     5719.85  0.64     8834.51   \n",
       "American Samoa       1930.49        0.39  0.02        2.46  0.13        7.18   \n",
       "Andorra              8381.65        0.19  0.00        0.39  0.00        0.64   \n",
       "\n",
       "hazard                                                ...    Riverine floods  \\\n",
       "rp                           250               500    ...                100   \n",
       "what             [%] million US$   [%] million US$    ...        million US$   \n",
       "country                                               ...                      \n",
       "Afghanistan     1.72     1800.74  2.99     2585.25    ...        1304.836191   \n",
       "Albania         1.02      817.76  2.02     1308.38    ...         559.456815   \n",
       "Algeria         0.98    14487.39  1.61    19624.90    ...        2455.765743   \n",
       "American Samoa  0.37       21.09  1.09       39.03    ...                NaN   \n",
       "Andorra         0.01        1.59  0.02        3.66    ...                NaN   \n",
       "\n",
       "hazard                                                                  \\\n",
       "rp                                250                    500             \n",
       "what                 [%]  million US$       [%]  million US$       [%]   \n",
       "country                                                                  \n",
       "Afghanistan     2.167938  1662.178063  2.761648  1749.645544  2.906972   \n",
       "Albania         1.382751   985.990186  2.436969  1152.001339  2.847281   \n",
       "Algeria         0.273104  5227.693307  0.581368  6507.867777  0.723735   \n",
       "American Samoa       NaN          NaN       NaN          NaN       NaN   \n",
       "Andorra              NaN          NaN       NaN          NaN       NaN   \n",
       "\n",
       "hazard                                                        \n",
       "rp                     1000                   1500            \n",
       "what            million US$       [%]  million US$       [%]  \n",
       "country                                                       \n",
       "Afghanistan     1924.580505  3.197620  2099.515466  3.488268  \n",
       "Albania         1342.639991  3.318463  1434.570014  3.545676  \n",
       "Algeria         7652.708961  0.851052  8032.451716  0.893283  \n",
       "American Samoa          NaN       NaN          NaN       NaN  \n",
       "Andorra                 NaN       NaN          NaN       NaN  \n",
       "\n",
       "[5 rows x 71 columns]"
      ]
     },
     "execution_count": 63,
     "metadata": {},
     "output_type": "execute_result"
    }
   ],
   "source": [
    "gardata =pd.read_csv(\"inputs/GAR15 results feb 2016_PML mundo.csv\", encoding=\"latin-1\", header=[0,1,2], index_col=0)#.sort_index(axis=1)\n",
    "gardata.index.name = \"country\"\n",
    "\n",
    "gardata = gardata.reset_index()\n",
    "\n",
    "gardata.columns.names=[\"hazard\",\"rp\",\"what\"]\n",
    "\n",
    "#these are part of france\n",
    "gardata.country = gardata.country.replace([\"French Guiana\", \"Guadeloupe\", \"Martinique\", \"Mayotte\", \"Réunion\"],\"France\")\n",
    "\n",
    "#these ara part of the UK\n",
    "gardata.country = gardata.country.replace([\"Falkland Islands (Malvinas)\", \"Gibraltar\", \"Montserrat\"],\"United Kingdom\")\n",
    "\n",
    "gardata.country = replace_with_warning(gardata.country, any_to_wb.dropna())\n",
    "\n",
    "gardata =gardata.set_index(\"country\")\n",
    "\n",
    "#aggregates UK and France\n",
    "# gardata = gardata.sum(level=\"country\", axis=1)\n",
    "\n",
    "\n",
    "#Other format for zero\n",
    "gardata = gardata.replace(\"---\",0).astype(float)\n",
    "\n",
    "#aggregates france and uk\n",
    "gardata = gardata.sum(level=\"country\")\n",
    "\n",
    "gardata.head()\n"
   ]
  },
  {
   "cell_type": "code",
   "execution_count": 64,
   "metadata": {
    "collapsed": false,
    "run_control": {
     "frozen": false,
     "read_only": false
    }
   },
   "outputs": [
    {
     "data": {
      "text/plain": [
       "country      hazard      rp   \n",
       "Afghanistan  earthquake  20.0     0.005281\n",
       "                         50.0     0.010593\n",
       "                         100.0    0.017190\n",
       "                         250.0    0.029919\n",
       "                         500.0    0.042953\n",
       "dtype: float64"
      ]
     },
     "execution_count": 64,
     "metadata": {},
     "output_type": "execute_result"
    }
   ],
   "source": [
    "\n",
    "#Looks at the exposed value, for comparison\n",
    "exposed_value_GAR = gardata.pop(\"EXPOSED VALUE\").squeeze()\n",
    "# df[\"exposed_value_GAR\"].head()\n",
    "\n",
    "\n",
    "#rename hazards\n",
    "gardata = gardata.rename(columns=lambda s:(s.lower()))\n",
    "gardata= gardata.rename(columns = {\"wiind\":\"wind\", \"riverine floods\":\"flood\", \"storm surge\":\"surge\"})\n",
    "\n",
    "#rp to floats\n",
    "def str_to_float(s):\n",
    "    try:\n",
    "        return (float(s))\n",
    "    except ValueError:\n",
    "        return s\n",
    "gardata = gardata.rename(columns=str_to_float)\n",
    "\n",
    "gardata.head()\n",
    "\n",
    "\n",
    "\n",
    "#Asset losses per event\n",
    "dK_gar = gardata.swaplevel(\"what\",\"hazard\",axis=1)[\"million us$\"].swaplevel(\"rp\",\"hazard\",axis=1).stack(level=[\"hazard\",\"rp\"], dropna=False).sort_index()\n",
    "\n",
    "#Exposed value per event\n",
    "ev_gar=  broadcast_simple(exposed_value_GAR,dK_gar.index)\n",
    "\n",
    "#Fraction of value destroyed\n",
    "frac_value_destroyed_gar = dK_gar/ev_gar\n",
    "\n",
    "frac_value_destroyed_gar.dropna().unstack(\"country\").shape\n",
    "\n",
    "frac_value_destroyed_gar.to_csv(\"intermediate/frac_value_destroyed_gar.csv\", encoding=\"utf-8\", header=True)\n",
    "\n",
    "frac_value_destroyed_gar.head()"
   ]
  },
  {
   "cell_type": "code",
   "execution_count": 65,
   "metadata": {
    "collapsed": false,
    "run_control": {
     "frozen": false,
     "read_only": false
    }
   },
   "outputs": [
    {
     "data": {
      "text/plain": [
       "country\n",
       "Afghanistan      0.0\n",
       "New Caledonia    0.0\n",
       "New Zealand      0.0\n",
       "Nicaragua        0.0\n",
       "Niger            0.0\n",
       "dtype: float64"
      ]
     },
     "execution_count": 65,
     "metadata": {},
     "output_type": "execute_result"
    }
   ],
   "source": [
    "#Check. should be 0\n",
    "(exposed_value_GAR - gar_exposed_value).abs().sort_values(ascending=True).head(5)"
   ]
  },
  {
   "cell_type": "markdown",
   "metadata": {},
   "source": [
    "# Combines exposed value to frac destroyed from events"
   ]
  },
  {
   "cell_type": "code",
   "execution_count": 66,
   "metadata": {
    "collapsed": false
   },
   "outputs": [],
   "source": [
    "capital_losses_from_GAR_events = pd.read_csv(\"intermediate/capital_losses_from_GAR_events.csv\", index_col=[\"country\",\"hazard\",\"rp\"], squeeze=True)"
   ]
  },
  {
   "cell_type": "code",
   "execution_count": 67,
   "metadata": {
    "collapsed": false
   },
   "outputs": [],
   "source": [
    "frac_cap_distroyed_from_events = capital_losses_from_GAR_events/ev_gar.median(level=\"country\")\n",
    "frac_cap_distroyed_from_events.to_csv(\"intermediate/frac_cap_distroyed_from_events.csv\", header=True)\n",
    "\n"
   ]
  },
  {
   "cell_type": "code",
   "execution_count": 68,
   "metadata": {
    "collapsed": false
   },
   "outputs": [
    {
     "data": {
      "text/plain": [
       "country                   hazard    \n",
       "France                    tsunami       0.241588\n",
       "Cambodia                  wind          0.431152\n",
       "Trinidad and Tobago       flood         0.435898\n",
       "Micronesia, Fed. Sts.     surge         0.560576\n",
       "Palau                     wind          0.587217\n",
       "Pakistan                  wind          0.600110\n",
       "Faeroe Islands            wind          0.601643\n",
       "Oman                      wind          0.605902\n",
       "                          surge         0.611014\n",
       "Sri Lanka                 wind          0.619401\n",
       "Bangladesh                wind          0.620611\n",
       "New Zealand               wind          0.623906\n",
       "French Polynesia          wind          0.626418\n",
       "Sri Lanka                 surge         0.643248\n",
       "Comoros                   wind          0.646975\n",
       "Palau                     surge         0.647804\n",
       "Papua New Guinea          wind          0.654225\n",
       "Fiji                      wind          0.657703\n",
       "France                    earthquake    0.657711\n",
       "Comoros                   surge         0.663771\n",
       "Papua New Guinea          surge         0.679312\n",
       "Pakistan                  surge         0.680751\n",
       "Thailand                  wind          0.689247\n",
       "Solomon Islands           wind          0.701003\n",
       "Nicaragua                 wind          0.709559\n",
       "New Caledonia             wind          0.710169\n",
       "Grenada                   wind          0.725358\n",
       "India                     wind          0.725952\n",
       "Indonesia                 surge         0.730355\n",
       "Venezuela, RB             wind          0.731697\n",
       "                                          ...   \n",
       "Macedonia, FYR            flood         1.000924\n",
       "Cuba                      earthquake    1.001091\n",
       "Burundi                   flood         1.001119\n",
       "Libya                     flood         1.001153\n",
       "Timor-Leste               flood         1.001153\n",
       "Mongolia                  earthquake    1.001199\n",
       "Myanmar                   tsunami       1.001212\n",
       "Namibia                   earthquake    1.001412\n",
       "Sudan                     earthquake    1.002028\n",
       "Gambia, The               flood         1.002110\n",
       "Guinea-Bissau             flood         1.003461\n",
       "New Caledonia             tsunami       1.003996\n",
       "Mauritania                earthquake    1.004044\n",
       "Papua New Guinea          tsunami       1.004119\n",
       "Andorra                   earthquake    1.004899\n",
       "Guinea                    earthquake    1.005087\n",
       "Panama                    tsunami       1.006204\n",
       "Costa Rica                tsunami       1.006445\n",
       "Somalia                   earthquake    1.006754\n",
       "Libya                     tsunami       1.013945\n",
       "Palau                     tsunami       1.019284\n",
       "Guinea-Bissau             earthquake    1.026544\n",
       "Tonga                     tsunami       1.026681\n",
       "Micronesia, Fed. Sts.     earthquake    1.057203\n",
       "Antigua and Barbuda       tsunami       1.077927\n",
       "Vanuatu                   tsunami       1.080210\n",
       "Micronesia, Fed. Sts.     tsunami       1.106433\n",
       "Cayman Islands            wind          1.108231\n",
       "Turks and Caicos Islands  tsunami       1.264904\n",
       "Trinidad and Tobago       wind          3.319245\n",
       "dtype: float64"
      ]
     },
     "execution_count": 68,
     "metadata": {},
     "output_type": "execute_result"
    }
   ],
   "source": [
    "(average_over_rp(frac_cap_distroyed_from_events).squeeze()/ AAL_splitted ).replace(np.inf,np.nan).dropna().sort_values()\n"
   ]
  },
  {
   "cell_type": "code",
   "execution_count": null,
   "metadata": {
    "collapsed": true
   },
   "outputs": [],
   "source": []
  },
  {
   "cell_type": "code",
   "execution_count": null,
   "metadata": {
    "collapsed": true
   },
   "outputs": [],
   "source": []
  },
  {
   "cell_type": "code",
   "execution_count": null,
   "metadata": {
    "collapsed": true
   },
   "outputs": [],
   "source": []
  },
  {
   "cell_type": "code",
   "execution_count": null,
   "metadata": {
    "collapsed": true
   },
   "outputs": [],
   "source": []
  },
  {
   "cell_type": "code",
   "execution_count": null,
   "metadata": {
    "collapsed": true
   },
   "outputs": [],
   "source": []
  },
  {
   "cell_type": "code",
   "execution_count": null,
   "metadata": {
    "collapsed": true
   },
   "outputs": [],
   "source": []
  },
  {
   "cell_type": "markdown",
   "metadata": {},
   "source": [
    "# adds event to PML to complete AAL  (old bad method)"
   ]
  },
  {
   "cell_type": "code",
   "execution_count": 69,
   "metadata": {
    "collapsed": false,
    "run_control": {
     "frozen": false,
     "read_only": false
    }
   },
   "outputs": [
    {
     "data": {
      "text/plain": [
       "country      hazard      rp   \n",
       "Afghanistan  earthquake  20.0     0.005281\n",
       "                         50.0     0.010593\n",
       "                         100.0    0.017190\n",
       "                         250.0    0.029919\n",
       "                         500.0    0.042953\n",
       "dtype: float64"
      ]
     },
     "execution_count": 69,
     "metadata": {},
     "output_type": "execute_result"
    }
   ],
   "source": [
    "frac_value_destroyed_gar.head()"
   ]
  },
  {
   "cell_type": "code",
   "execution_count": 70,
   "metadata": {
    "collapsed": false,
    "run_control": {
     "frozen": false,
     "read_only": false
    }
   },
   "outputs": [
    {
     "data": {
      "text/plain": [
       "country      hazard    \n",
       "Afghanistan  earthquake    0.002439\n",
       "             tsunami       0.000000\n",
       "             flood         0.001238\n",
       "             surge         0.000000\n",
       "             wind          0.000000\n",
       "dtype: float64"
      ]
     },
     "execution_count": 70,
     "metadata": {},
     "output_type": "execute_result"
    }
   ],
   "source": [
    "AAL_splitted.head()"
   ]
  },
  {
   "cell_type": "markdown",
   "metadata": {},
   "source": [
    " how much greater AAL is than sum of PML"
   ]
  },
  {
   "cell_type": "code",
   "execution_count": 71,
   "metadata": {
    "collapsed": false,
    "run_control": {
     "frozen": false,
     "read_only": false
    }
   },
   "outputs": [
    {
     "data": {
      "text/plain": [
       "country             hazard    \n",
       "United States       earthquake    443.503685\n",
       "China               earthquake     25.102987\n",
       "Bangladesh          tsunami        19.450666\n",
       "Philippines         surge          17.402475\n",
       "Timor-Leste         tsunami        14.359563\n",
       "China               surge          10.733380\n",
       "Taiwan              surge           9.921706\n",
       "Cyprus              tsunami         9.477856\n",
       "Japan               surge           9.340137\n",
       "Vanuatu             surge           6.538196\n",
       "Qatar               earthquake      6.264938\n",
       "Bahrain             earthquake      6.113478\n",
       "Australia           surge           5.786772\n",
       "Iran, Islamic Rep.  earthquake      5.665765\n",
       "Vietnam             surge           5.532636\n",
       "India               earthquake      5.485998\n",
       "Guatemala           earthquake      5.108866\n",
       "Peru                earthquake      5.098422\n",
       "dtype: float64"
      ]
     },
     "execution_count": 71,
     "metadata": {},
     "output_type": "execute_result"
    }
   ],
   "source": [
    "paf= (AAL_splitted / average_over_rp(frac_value_destroyed_gar).squeeze()).replace(np.inf,np.nan).sort_values(ascending=False)\n",
    "paf[paf>5]"
   ]
  },
  {
   "cell_type": "code",
   "execution_count": 72,
   "metadata": {
    "collapsed": false,
    "run_control": {
     "frozen": false,
     "read_only": false
    }
   },
   "outputs": [
    {
     "data": {
      "text/plain": [
       "country           hazard \n",
       "Honduras          wind       1.543333\n",
       "Japan             tsunami    1.542144\n",
       "Timor-Leste       flood      1.537640\n",
       "Guyana            flood      1.534599\n",
       "Austria           flood      1.533728\n",
       "Netherlands       flood      1.533283\n",
       "Gambia, The       flood      1.530909\n",
       "Puerto Rico       flood      1.528734\n",
       "Denmark           flood      1.527811\n",
       "Liberia           flood      1.525606\n",
       "Jamaica           flood      1.525070\n",
       "Japan             flood      1.523710\n",
       "Georgia           flood      1.522316\n",
       "Korea, Rep.       flood      1.521544\n",
       "Grenada           wind       1.518630\n",
       "Germany           flood      1.518202\n",
       "Italy             flood      1.516215\n",
       "Aruba             wind       1.506485\n",
       "Faeroe Islands    wind       1.503113\n",
       "Papua New Guinea  surge      1.497927\n",
       "Switzerland       flood      1.494596\n",
       "Guinea-Bissau     flood      1.490993\n",
       "Albania           flood      1.481189\n",
       "Belgium           flood      1.479016\n",
       "Nicaragua         wind       1.478786\n",
       "Yemen, Rep.       flood      1.474425\n",
       "Vanuatu           tsunami    1.468908\n",
       "Solomon Islands   wind       1.449339\n",
       "Comoros           wind       1.406571\n",
       "New Zealand       wind       1.327562\n",
       "dtype: float64"
      ]
     },
     "execution_count": 72,
     "metadata": {},
     "output_type": "execute_result"
    }
   ],
   "source": [
    "paf.dropna().tail(30)"
   ]
  },
  {
   "cell_type": "code",
   "execution_count": 73,
   "metadata": {
    "collapsed": false,
    "run_control": {
     "frozen": false,
     "read_only": false
    }
   },
   "outputs": [
    {
     "data": {
      "text/plain": [
       "rp\n",
       "20.0          6.464444\n",
       "50.0        157.629328\n",
       "100.0       912.188958\n",
       "250.0      3356.835046\n",
       "500.0      8810.043890\n",
       "1000.0    15019.161836\n",
       "1500.0    19445.214904\n",
       "dtype: float64"
      ]
     },
     "execution_count": 73,
     "metadata": {},
     "output_type": "execute_result"
    }
   ],
   "source": [
    "frac_value_destroyed_gar[\"Japan\"][\"flood\"]*1e6"
   ]
  },
  {
   "cell_type": "code",
   "execution_count": null,
   "metadata": {
    "collapsed": true,
    "run_control": {
     "frozen": false,
     "read_only": false
    }
   },
   "outputs": [],
   "source": []
  },
  {
   "cell_type": "markdown",
   "metadata": {},
   "source": [
    "## add frequent events"
   ]
  },
  {
   "cell_type": "code",
   "execution_count": 74,
   "metadata": {
    "collapsed": false,
    "run_control": {
     "frozen": false,
     "read_only": false
    }
   },
   "outputs": [
    {
     "name": "stderr",
     "output_type": "stream",
     "text": [
      "C:\\Users\\Admin\\Anaconda3\\lib\\site-packages\\numpy\\lib\\function_base.py:3834: RuntimeWarning: Invalid value encountered in percentile\n",
      "  RuntimeWarning)\n"
     ]
    },
    {
     "data": {
      "text/plain": [
       "(count    976.000000\n",
       " mean       0.000480\n",
       " std        0.001673\n",
       " min        0.000000\n",
       " 25%             NaN\n",
       " 50%             NaN\n",
       " 75%             NaN\n",
       " max        0.027633\n",
       " dtype: float64, country             hazard    \n",
       " Tuvalu              earthquake    0.000000\n",
       " Germany             earthquake    0.000090\n",
       " Iran, Islamic Rep.  surge         0.000000\n",
       " Romania             flood         0.000424\n",
       " Tanzania            flood         0.000529\n",
       " Moldova             tsunami       0.000000\n",
       " Togo                wind          0.000000\n",
       " Mongolia            flood         0.000355\n",
       " Philippines         surge         0.004448\n",
       " Tuvalu              surge         0.000000\n",
       " dtype: float64)"
      ]
     },
     "execution_count": 74,
     "metadata": {},
     "output_type": "execute_result"
    }
   ],
   "source": [
    "last_rp = 20\n",
    "new_rp = 1\n",
    "\n",
    "added_proba = 1/new_rp - 1/last_rp\n",
    "\n",
    "new_frac_destroyed = (AAL_splitted - average_over_rp(frac_value_destroyed_gar).squeeze())/(added_proba)\n",
    "   \n",
    "#REMOVES 'tsunamis' and 'earthquakes' from this thing\n",
    "# new_frac_destroyed = pd.DataFrame(new_frac_destroyed).query(\"hazard not in ['tsunami', 'earthquake']\").squeeze()\n",
    "new_frac_destroyed.describe(), new_frac_destroyed.sample(10)\n"
   ]
  },
  {
   "cell_type": "code",
   "execution_count": 75,
   "metadata": {
    "collapsed": false,
    "run_control": {
     "frozen": false,
     "read_only": false
    }
   },
   "outputs": [
    {
     "data": {
      "text/plain": [
       "country      hazard      rp   \n",
       "Afghanistan  earthquake  1.0      0.002005\n",
       "                         20.0     0.005281\n",
       "                         50.0     0.010593\n",
       "                         100.0    0.017190\n",
       "                         250.0    0.029919\n",
       "dtype: float64"
      ]
     },
     "execution_count": 75,
     "metadata": {},
     "output_type": "execute_result"
    }
   ],
   "source": [
    "hop = frac_value_destroyed_gar.unstack()\n",
    "hop[new_rp]=   new_frac_destroyed\n",
    "hop= hop.sort_index(axis=1)\n",
    "hop.head()\n",
    "\n",
    "\n",
    "frac_value_destroyed_gar_completed = hop.stack()\n",
    "frac_value_destroyed_gar_completed.head()  #this shows earthaquke was not updated"
   ]
  },
  {
   "cell_type": "code",
   "execution_count": 76,
   "metadata": {
    "collapsed": false,
    "run_control": {
     "frozen": false,
     "read_only": false
    }
   },
   "outputs": [
    {
     "data": {
      "text/plain": [
       "country         hazard   rp    \n",
       "Sierra Leone    flood    20.0      0.024942\n",
       "Myanmar         surge    20.0      0.001231\n",
       "Tuvalu          tsunami  500.0     0.000000\n",
       "Iraq            flood    500.0     0.049612\n",
       "Algeria         tsunami  50.0      0.000000\n",
       "Sudan           wind     20.0      0.000000\n",
       "Mongolia        wind     1500.0    0.000000\n",
       "Uzbekistan      wind     250.0     0.000000\n",
       "Macedonia, FYR  surge    1000.0    0.000000\n",
       "Azerbaijan      tsunami  250.0     0.000000\n",
       "dtype: float64"
      ]
     },
     "execution_count": 76,
     "metadata": {},
     "output_type": "execute_result"
    }
   ],
   "source": [
    "frac_value_destroyed_gar_completed.sample(10)"
   ]
  },
  {
   "cell_type": "markdown",
   "metadata": {},
   "source": [
    "### double check. expecint zeroes expect for quakes and tsunamis"
   ]
  },
  {
   "cell_type": "code",
   "execution_count": 77,
   "metadata": {
    "collapsed": false,
    "run_control": {
     "frozen": false,
     "read_only": false
    }
   },
   "outputs": [
    {
     "data": {
      "text/plain": [
       "country          hazard    \n",
       "Grenada          earthquake    4.336809e-19\n",
       "Burundi          surge         0.000000e+00\n",
       "India            surge         0.000000e+00\n",
       "                 wind          5.421011e-20\n",
       "Burkina Faso     earthquake    0.000000e+00\n",
       "Estonia          earthquake    1.694066e-21\n",
       "Japan            earthquake    0.000000e+00\n",
       "Gambia, The      wind          0.000000e+00\n",
       "Swaziland        wind          0.000000e+00\n",
       "Solomon Islands  earthquake    0.000000e+00\n",
       "dtype: float64"
      ]
     },
     "execution_count": 77,
     "metadata": {},
     "output_type": "execute_result"
    }
   ],
   "source": [
    "(average_over_rp(frac_value_destroyed_gar_completed).squeeze() - AAL_splitted).abs().sort_values(ascending=False).sample(10)"
   ]
  },
  {
   "cell_type": "markdown",
   "metadata": {},
   "source": [
    "### places where new values are higher than values for 20"
   ]
  },
  {
   "cell_type": "code",
   "execution_count": 78,
   "metadata": {
    "collapsed": false,
    "run_control": {
     "frozen": false,
     "read_only": false
    }
   },
   "outputs": [
    {
     "name": "stdout",
     "output_type": "stream",
     "text": [
      "overflow in 16 (country, event)\n"
     ]
    },
    {
     "data": {
      "text/plain": [
       "country               hazard    \n",
       "United States         earthquake    43.952710\n",
       "Senegal               earthquake     8.185474\n",
       "Japan                 flood          3.473955\n",
       "Netherlands           flood          3.446424\n",
       "Chile                 tsunami        2.739425\n",
       "Lebanon               flood          2.568359\n",
       "China                 earthquake     2.307968\n",
       "Luxembourg            flood          1.922135\n",
       "Tonga                 tsunami        1.434211\n",
       "Egypt, Arab Rep.      flood          1.293294\n",
       "United Arab Emirates  flood          1.289766\n",
       "Solomon Islands       tsunami        1.046737\n",
       "Oman                  wind           1.019892\n",
       "Philippines           surge          1.014407\n",
       "Switzerland           flood          0.823777\n",
       "Korea, Rep.           flood          0.822222\n",
       "Name: test, dtype: float64"
      ]
     },
     "execution_count": 78,
     "metadata": {},
     "output_type": "execute_result"
    }
   ],
   "source": [
    "test = frac_value_destroyed_gar_completed.unstack().replace(0,np.nan).dropna().assign(test=lambda x:x[new_rp]/x[20]).test\n",
    "\n",
    "max_relative_exp = .8\n",
    "\n",
    "overflow_frequent_countries = test[test>max_relative_exp].index\n",
    "print(\"overflow in {n} (country, event)\".format(n=len(overflow_frequent_countries)))\n",
    "\n",
    "test[overflow_frequent_countries].sort_values(ascending=False)"
   ]
  },
  {
   "cell_type": "markdown",
   "metadata": {},
   "source": [
    "## for this places, add infrequent events\n"
   ]
  },
  {
   "cell_type": "code",
   "execution_count": 79,
   "metadata": {
    "collapsed": false,
    "run_control": {
     "frozen": false,
     "read_only": false
    }
   },
   "outputs": [],
   "source": [
    "hop=frac_value_destroyed_gar_completed.unstack()\n",
    "hop[1]=hop[1].clip(upper=max_relative_exp*hop[20])\n",
    "frac_value_destroyed_gar_completed = hop.stack()"
   ]
  },
  {
   "cell_type": "code",
   "execution_count": 80,
   "metadata": {
    "collapsed": false,
    "run_control": {
     "frozen": false,
     "read_only": false
    }
   },
   "outputs": [
    {
     "name": "stderr",
     "output_type": "stream",
     "text": [
      "C:\\Users\\Admin\\Anaconda3\\lib\\site-packages\\numpy\\lib\\function_base.py:3834: RuntimeWarning: Invalid value encountered in percentile\n",
      "  RuntimeWarning)\n"
     ]
    },
    {
     "data": {
      "text/plain": [
       "(count    9.760000e+02\n",
       " mean     4.388278e-03\n",
       " std      6.091275e-02\n",
       " min     -6.938894e-15\n",
       " 25%               NaN\n",
       " 50%               NaN\n",
       " 75%               NaN\n",
       " max      1.786165e+00\n",
       " dtype: float64, country                hazard    \n",
       " Denmark                earthquake    0.000000e+00\n",
       " United Arab Emirates   wind          0.000000e+00\n",
       " Equatorial Guinea      surge         0.000000e+00\n",
       "                        tsunami       0.000000e+00\n",
       " Morocco                flood         2.168404e-16\n",
       " Paraguay               wind          0.000000e+00\n",
       " Albania                flood         2.168404e-16\n",
       " Belize                 tsunami       0.000000e+00\n",
       " Tonga                  flood                  NaN\n",
       " Micronesia, Fed. Sts.  tsunami       1.553620e-02\n",
       " dtype: float64)"
      ]
     },
     "execution_count": 80,
     "metadata": {},
     "output_type": "execute_result"
    }
   ],
   "source": [
    "new_rp = 2000\n",
    "\n",
    "added_proba = 1/2000\n",
    "\n",
    "new_frac_destroyed = (AAL_splitted - average_over_rp(frac_value_destroyed_gar_completed).squeeze())/(added_proba)\n",
    "   \n",
    "#REMOVES 'tsunamis' and 'earthquakes' from this thing\n",
    "# new_frac_destroyed = pd.DataFrame(new_frac_destroyed).query(\"hazard in ['tsunami', 'earthquake']\").squeeze()\n",
    "new_frac_destroyed.describe(), new_frac_destroyed.sample(10)"
   ]
  },
  {
   "cell_type": "code",
   "execution_count": 81,
   "metadata": {
    "collapsed": false,
    "run_control": {
     "frozen": false,
     "read_only": false
    }
   },
   "outputs": [
    {
     "data": {
      "text/plain": [
       "country      hazard      rp    \n",
       "Afghanistan  earthquake  20.0      5.280629e-03\n",
       "                         50.0      1.059299e-02\n",
       "                         100.0     1.718967e-02\n",
       "                         250.0     2.991864e-02\n",
       "                         500.0     4.295299e-02\n",
       "                         1000.0    5.839446e-02\n",
       "                         1500.0    6.763685e-02\n",
       "                         2000.0   -8.673617e-16\n",
       "             flood       20.0      9.722385e-03\n",
       "                         50.0      1.736964e-02\n",
       "dtype: float64"
      ]
     },
     "execution_count": 81,
     "metadata": {},
     "output_type": "execute_result"
    }
   ],
   "source": [
    "hop = frac_value_destroyed_gar.unstack()\n",
    "hop[new_rp]=   new_frac_destroyed\n",
    "hop= hop.sort_index(axis=1)\n",
    "hop.head()\n",
    "\n",
    "\n",
    "frac_value_destroyed_gar_completed = hop.stack()\n",
    "frac_value_destroyed_gar_completed.head(10)  "
   ]
  },
  {
   "cell_type": "code",
   "execution_count": 82,
   "metadata": {
    "collapsed": false,
    "run_control": {
     "frozen": false,
     "read_only": false
    }
   },
   "outputs": [
    {
     "data": {
      "text/plain": [
       "country               hazard    \n",
       "United States         earthquake    8076.177552\n",
       "China                 earthquake     281.390978\n",
       "Philippines           surge          200.901584\n",
       "Oman                  wind             8.603161\n",
       "Lebanon               flood            4.892889\n",
       "Senegal               earthquake       4.277388\n",
       "Netherlands           flood            2.432692\n",
       "Chile                 tsunami          2.372989\n",
       "Luxembourg            flood            1.775911\n",
       "Japan                 flood            1.688986\n",
       "Egypt, Arab Rep.      flood            1.514697\n",
       "United Arab Emirates  flood            1.425829\n",
       "Name: test, dtype: float64"
      ]
     },
     "execution_count": 82,
     "metadata": {},
     "output_type": "execute_result"
    }
   ],
   "source": [
    "test = frac_value_destroyed_gar_completed.unstack().replace(0,np.nan).dropna().assign(test=lambda x:x[new_rp]/x[1500]).test\n",
    "test[test>1.1].sort_values(ascending=False)"
   ]
  },
  {
   "cell_type": "code",
   "execution_count": 83,
   "metadata": {
    "collapsed": false,
    "run_control": {
     "frozen": false,
     "read_only": false
    }
   },
   "outputs": [
    {
     "data": {
      "text/plain": [
       "((8,), (223,))"
      ]
     },
     "execution_count": 83,
     "metadata": {},
     "output_type": "execute_result"
    }
   ],
   "source": [
    "test[test>2].shape, test.shape"
   ]
  },
  {
   "cell_type": "code",
   "execution_count": null,
   "metadata": {
    "collapsed": true,
    "run_control": {
     "frozen": false,
     "read_only": false
    }
   },
   "outputs": [],
   "source": []
  },
  {
   "cell_type": "code",
   "execution_count": 84,
   "metadata": {
    "collapsed": false,
    "run_control": {
     "frozen": false,
     "read_only": false
    }
   },
   "outputs": [
    {
     "data": {
      "text/plain": [
       "rp\n",
       "20.0      0.000006\n",
       "50.0      0.000013\n",
       "100.0     0.000019\n",
       "250.0     0.000031\n",
       "500.0     0.000042\n",
       "1000.0    0.000054\n",
       "1500.0    0.000064\n",
       "2000.0    0.515774\n",
       "dtype: float64"
      ]
     },
     "execution_count": 84,
     "metadata": {},
     "output_type": "execute_result"
    }
   ],
   "source": [
    "frac_value_destroyed_gar_completed[\"United States\"][\"earthquake\"]"
   ]
  },
  {
   "cell_type": "code",
   "execution_count": 85,
   "metadata": {
    "collapsed": false,
    "run_control": {
     "frozen": false,
     "read_only": false
    }
   },
   "outputs": [
    {
     "data": {
      "text/plain": [
       "hazard\n",
       "earthquake    0.026326\n",
       "tsunami       0.000000\n",
       "flood         0.010903\n",
       "surge         0.015976\n",
       "wind          0.036011\n",
       "dtype: float64"
      ]
     },
     "execution_count": 85,
     "metadata": {},
     "output_type": "execute_result"
    }
   ],
   "source": [
    "AAL_splitted.ix[\"United States\"]*100"
   ]
  },
  {
   "cell_type": "code",
   "execution_count": 86,
   "metadata": {
    "collapsed": false,
    "run_control": {
     "frozen": false,
     "read_only": false
    }
   },
   "outputs": [
    {
     "data": {
      "text/html": [
       "<div>\n",
       "<table border=\"1\" class=\"dataframe\">\n",
       "  <thead>\n",
       "    <tr style=\"text-align: right;\">\n",
       "      <th></th>\n",
       "      <th></th>\n",
       "      <th>0</th>\n",
       "    </tr>\n",
       "    <tr>\n",
       "      <th>country</th>\n",
       "      <th>hazard</th>\n",
       "      <th></th>\n",
       "    </tr>\n",
       "  </thead>\n",
       "  <tbody>\n",
       "    <tr>\n",
       "      <th>United States</th>\n",
       "      <th>earthquake</th>\n",
       "      <td>0.002255</td>\n",
       "    </tr>\n",
       "    <tr>\n",
       "      <th>China</th>\n",
       "      <th>earthquake</th>\n",
       "      <td>0.039836</td>\n",
       "    </tr>\n",
       "    <tr>\n",
       "      <th>Bangladesh</th>\n",
       "      <th>tsunami</th>\n",
       "      <td>0.051412</td>\n",
       "    </tr>\n",
       "    <tr>\n",
       "      <th>Philippines</th>\n",
       "      <th>surge</th>\n",
       "      <td>0.057463</td>\n",
       "    </tr>\n",
       "    <tr>\n",
       "      <th>Timor-Leste</th>\n",
       "      <th>tsunami</th>\n",
       "      <td>0.069640</td>\n",
       "    </tr>\n",
       "    <tr>\n",
       "      <th>China</th>\n",
       "      <th>surge</th>\n",
       "      <td>0.093167</td>\n",
       "    </tr>\n",
       "    <tr>\n",
       "      <th>Taiwan</th>\n",
       "      <th>surge</th>\n",
       "      <td>0.100789</td>\n",
       "    </tr>\n",
       "    <tr>\n",
       "      <th>Cyprus</th>\n",
       "      <th>tsunami</th>\n",
       "      <td>0.105509</td>\n",
       "    </tr>\n",
       "    <tr>\n",
       "      <th>Japan</th>\n",
       "      <th>surge</th>\n",
       "      <td>0.107065</td>\n",
       "    </tr>\n",
       "    <tr>\n",
       "      <th>Vanuatu</th>\n",
       "      <th>surge</th>\n",
       "      <td>0.152947</td>\n",
       "    </tr>\n",
       "    <tr>\n",
       "      <th>Qatar</th>\n",
       "      <th>earthquake</th>\n",
       "      <td>0.159619</td>\n",
       "    </tr>\n",
       "    <tr>\n",
       "      <th>Bahrain</th>\n",
       "      <th>earthquake</th>\n",
       "      <td>0.163573</td>\n",
       "    </tr>\n",
       "    <tr>\n",
       "      <th>Australia</th>\n",
       "      <th>surge</th>\n",
       "      <td>0.172808</td>\n",
       "    </tr>\n",
       "    <tr>\n",
       "      <th>Iran, Islamic Rep.</th>\n",
       "      <th>earthquake</th>\n",
       "      <td>0.176499</td>\n",
       "    </tr>\n",
       "    <tr>\n",
       "      <th>Vietnam</th>\n",
       "      <th>surge</th>\n",
       "      <td>0.180746</td>\n",
       "    </tr>\n",
       "    <tr>\n",
       "      <th>India</th>\n",
       "      <th>earthquake</th>\n",
       "      <td>0.182282</td>\n",
       "    </tr>\n",
       "    <tr>\n",
       "      <th>Guatemala</th>\n",
       "      <th>earthquake</th>\n",
       "      <td>0.195738</td>\n",
       "    </tr>\n",
       "    <tr>\n",
       "      <th>Peru</th>\n",
       "      <th>earthquake</th>\n",
       "      <td>0.196139</td>\n",
       "    </tr>\n",
       "    <tr>\n",
       "      <th>New Caledonia</th>\n",
       "      <th>surge</th>\n",
       "      <td>0.203561</td>\n",
       "    </tr>\n",
       "    <tr>\n",
       "      <th>Philippines</th>\n",
       "      <th>wind</th>\n",
       "      <td>0.205312</td>\n",
       "    </tr>\n",
       "    <tr>\n",
       "      <th>Puerto Rico</th>\n",
       "      <th>tsunami</th>\n",
       "      <td>0.209259</td>\n",
       "    </tr>\n",
       "    <tr>\n",
       "      <th>Mexico</th>\n",
       "      <th>earthquake</th>\n",
       "      <td>0.217334</td>\n",
       "    </tr>\n",
       "    <tr>\n",
       "      <th>Madagascar</th>\n",
       "      <th>wind</th>\n",
       "      <td>0.217620</td>\n",
       "    </tr>\n",
       "    <tr>\n",
       "      <th>Oman</th>\n",
       "      <th>earthquake</th>\n",
       "      <td>0.218720</td>\n",
       "    </tr>\n",
       "    <tr>\n",
       "      <th>Afghanistan</th>\n",
       "      <th>earthquake</th>\n",
       "      <td>0.219266</td>\n",
       "    </tr>\n",
       "    <tr>\n",
       "      <th>Japan</th>\n",
       "      <th>wind</th>\n",
       "      <td>0.221237</td>\n",
       "    </tr>\n",
       "    <tr>\n",
       "      <th>Taiwan</th>\n",
       "      <th>wind</th>\n",
       "      <td>0.223226</td>\n",
       "    </tr>\n",
       "    <tr>\n",
       "      <th>Honduras</th>\n",
       "      <th>earthquake</th>\n",
       "      <td>0.224497</td>\n",
       "    </tr>\n",
       "    <tr>\n",
       "      <th>Turkey</th>\n",
       "      <th>earthquake</th>\n",
       "      <td>0.225721</td>\n",
       "    </tr>\n",
       "    <tr>\n",
       "      <th>Chile</th>\n",
       "      <th>earthquake</th>\n",
       "      <td>0.226865</td>\n",
       "    </tr>\n",
       "    <tr>\n",
       "      <th>...</th>\n",
       "      <th>...</th>\n",
       "      <td>...</td>\n",
       "    </tr>\n",
       "    <tr>\n",
       "      <th>Honduras</th>\n",
       "      <th>wind</th>\n",
       "      <td>0.647948</td>\n",
       "    </tr>\n",
       "    <tr>\n",
       "      <th>Japan</th>\n",
       "      <th>tsunami</th>\n",
       "      <td>0.648448</td>\n",
       "    </tr>\n",
       "    <tr>\n",
       "      <th>Timor-Leste</th>\n",
       "      <th>flood</th>\n",
       "      <td>0.650347</td>\n",
       "    </tr>\n",
       "    <tr>\n",
       "      <th>Guyana</th>\n",
       "      <th>flood</th>\n",
       "      <td>0.651636</td>\n",
       "    </tr>\n",
       "    <tr>\n",
       "      <th>Austria</th>\n",
       "      <th>flood</th>\n",
       "      <td>0.652006</td>\n",
       "    </tr>\n",
       "    <tr>\n",
       "      <th>Netherlands</th>\n",
       "      <th>flood</th>\n",
       "      <td>0.652195</td>\n",
       "    </tr>\n",
       "    <tr>\n",
       "      <th>Gambia, The</th>\n",
       "      <th>flood</th>\n",
       "      <td>0.653206</td>\n",
       "    </tr>\n",
       "    <tr>\n",
       "      <th>Puerto Rico</th>\n",
       "      <th>flood</th>\n",
       "      <td>0.654136</td>\n",
       "    </tr>\n",
       "    <tr>\n",
       "      <th>Denmark</th>\n",
       "      <th>flood</th>\n",
       "      <td>0.654531</td>\n",
       "    </tr>\n",
       "    <tr>\n",
       "      <th>Liberia</th>\n",
       "      <th>flood</th>\n",
       "      <td>0.655477</td>\n",
       "    </tr>\n",
       "    <tr>\n",
       "      <th>Jamaica</th>\n",
       "      <th>flood</th>\n",
       "      <td>0.655708</td>\n",
       "    </tr>\n",
       "    <tr>\n",
       "      <th>Japan</th>\n",
       "      <th>flood</th>\n",
       "      <td>0.656293</td>\n",
       "    </tr>\n",
       "    <tr>\n",
       "      <th>Georgia</th>\n",
       "      <th>flood</th>\n",
       "      <td>0.656894</td>\n",
       "    </tr>\n",
       "    <tr>\n",
       "      <th>Korea, Rep.</th>\n",
       "      <th>flood</th>\n",
       "      <td>0.657227</td>\n",
       "    </tr>\n",
       "    <tr>\n",
       "      <th>Grenada</th>\n",
       "      <th>wind</th>\n",
       "      <td>0.658488</td>\n",
       "    </tr>\n",
       "    <tr>\n",
       "      <th>Germany</th>\n",
       "      <th>flood</th>\n",
       "      <td>0.658674</td>\n",
       "    </tr>\n",
       "    <tr>\n",
       "      <th>Italy</th>\n",
       "      <th>flood</th>\n",
       "      <td>0.659537</td>\n",
       "    </tr>\n",
       "    <tr>\n",
       "      <th>Aruba</th>\n",
       "      <th>wind</th>\n",
       "      <td>0.663797</td>\n",
       "    </tr>\n",
       "    <tr>\n",
       "      <th>Faeroe Islands</th>\n",
       "      <th>wind</th>\n",
       "      <td>0.665286</td>\n",
       "    </tr>\n",
       "    <tr>\n",
       "      <th>Papua New Guinea</th>\n",
       "      <th>surge</th>\n",
       "      <td>0.667589</td>\n",
       "    </tr>\n",
       "    <tr>\n",
       "      <th>Switzerland</th>\n",
       "      <th>flood</th>\n",
       "      <td>0.669077</td>\n",
       "    </tr>\n",
       "    <tr>\n",
       "      <th>Guinea-Bissau</th>\n",
       "      <th>flood</th>\n",
       "      <td>0.670694</td>\n",
       "    </tr>\n",
       "    <tr>\n",
       "      <th>Albania</th>\n",
       "      <th>flood</th>\n",
       "      <td>0.675133</td>\n",
       "    </tr>\n",
       "    <tr>\n",
       "      <th>Belgium</th>\n",
       "      <th>flood</th>\n",
       "      <td>0.676125</td>\n",
       "    </tr>\n",
       "    <tr>\n",
       "      <th>Nicaragua</th>\n",
       "      <th>wind</th>\n",
       "      <td>0.676230</td>\n",
       "    </tr>\n",
       "    <tr>\n",
       "      <th>Yemen, Rep.</th>\n",
       "      <th>flood</th>\n",
       "      <td>0.678230</td>\n",
       "    </tr>\n",
       "    <tr>\n",
       "      <th>Vanuatu</th>\n",
       "      <th>tsunami</th>\n",
       "      <td>0.680778</td>\n",
       "    </tr>\n",
       "    <tr>\n",
       "      <th>Solomon Islands</th>\n",
       "      <th>wind</th>\n",
       "      <td>0.689970</td>\n",
       "    </tr>\n",
       "    <tr>\n",
       "      <th>Comoros</th>\n",
       "      <th>wind</th>\n",
       "      <td>0.710949</td>\n",
       "    </tr>\n",
       "    <tr>\n",
       "      <th>New Zealand</th>\n",
       "      <th>wind</th>\n",
       "      <td>0.753260</td>\n",
       "    </tr>\n",
       "  </tbody>\n",
       "</table>\n",
       "<p>474 rows × 1 columns</p>\n",
       "</div>"
      ],
      "text/plain": [
       "                                      0\n",
       "country            hazard              \n",
       "United States      earthquake  0.002255\n",
       "China              earthquake  0.039836\n",
       "Bangladesh         tsunami     0.051412\n",
       "Philippines        surge       0.057463\n",
       "Timor-Leste        tsunami     0.069640\n",
       "China              surge       0.093167\n",
       "Taiwan             surge       0.100789\n",
       "Cyprus             tsunami     0.105509\n",
       "Japan              surge       0.107065\n",
       "Vanuatu            surge       0.152947\n",
       "Qatar              earthquake  0.159619\n",
       "Bahrain            earthquake  0.163573\n",
       "Australia          surge       0.172808\n",
       "Iran, Islamic Rep. earthquake  0.176499\n",
       "Vietnam            surge       0.180746\n",
       "India              earthquake  0.182282\n",
       "Guatemala          earthquake  0.195738\n",
       "Peru               earthquake  0.196139\n",
       "New Caledonia      surge       0.203561\n",
       "Philippines        wind        0.205312\n",
       "Puerto Rico        tsunami     0.209259\n",
       "Mexico             earthquake  0.217334\n",
       "Madagascar         wind        0.217620\n",
       "Oman               earthquake  0.218720\n",
       "Afghanistan        earthquake  0.219266\n",
       "Japan              wind        0.221237\n",
       "Taiwan             wind        0.223226\n",
       "Honduras           earthquake  0.224497\n",
       "Turkey             earthquake  0.225721\n",
       "Chile              earthquake  0.226865\n",
       "...                                 ...\n",
       "Honduras           wind        0.647948\n",
       "Japan              tsunami     0.648448\n",
       "Timor-Leste        flood       0.650347\n",
       "Guyana             flood       0.651636\n",
       "Austria            flood       0.652006\n",
       "Netherlands        flood       0.652195\n",
       "Gambia, The        flood       0.653206\n",
       "Puerto Rico        flood       0.654136\n",
       "Denmark            flood       0.654531\n",
       "Liberia            flood       0.655477\n",
       "Jamaica            flood       0.655708\n",
       "Japan              flood       0.656293\n",
       "Georgia            flood       0.656894\n",
       "Korea, Rep.        flood       0.657227\n",
       "Grenada            wind        0.658488\n",
       "Germany            flood       0.658674\n",
       "Italy              flood       0.659537\n",
       "Aruba              wind        0.663797\n",
       "Faeroe Islands     wind        0.665286\n",
       "Papua New Guinea   surge       0.667589\n",
       "Switzerland        flood       0.669077\n",
       "Guinea-Bissau      flood       0.670694\n",
       "Albania            flood       0.675133\n",
       "Belgium            flood       0.676125\n",
       "Nicaragua          wind        0.676230\n",
       "Yemen, Rep.        flood       0.678230\n",
       "Vanuatu            tsunami     0.680778\n",
       "Solomon Islands    wind        0.689970\n",
       "Comoros            wind        0.710949\n",
       "New Zealand        wind        0.753260\n",
       "\n",
       "[474 rows x 1 columns]"
      ]
     },
     "execution_count": 86,
     "metadata": {},
     "output_type": "execute_result"
    }
   ],
   "source": [
    "pd.DataFrame((average_over_rp(frac_value_destroyed_gar).squeeze()/AAL_splitted).replace(0,np.nan).dropna().sort_values())"
   ]
  },
  {
   "cell_type": "code",
   "execution_count": null,
   "metadata": {
    "collapsed": true,
    "run_control": {
     "frozen": false,
     "read_only": false
    }
   },
   "outputs": [],
   "source": []
  },
  {
   "cell_type": "code",
   "execution_count": null,
   "metadata": {
    "collapsed": true,
    "run_control": {
     "frozen": false,
     "read_only": false
    }
   },
   "outputs": [],
   "source": []
  }
 ],
 "metadata": {
  "kernelspec": {
   "display_name": "Python 3",
   "language": "python",
   "name": "python3"
  },
  "language_info": {
   "codemirror_mode": {
    "name": "ipython",
    "version": 3
   },
   "file_extension": ".py",
   "mimetype": "text/x-python",
   "name": "python",
   "nbconvert_exporter": "python",
   "pygments_lexer": "ipython3",
   "version": "3.4.4"
  },
  "nav_menu": {},
  "toc": {
   "navigate_menu": true,
   "number_sections": true,
   "sideBar": false,
   "threshold": 6,
   "toc_cell": false,
   "toc_section_display": "block",
   "toc_window_display": true
  },
  "toc_position": {
   "height": "300px",
   "left": "1px",
   "right": "20px",
   "top": "105.994px",
   "width": "133px"
  }
 },
 "nbformat": 4,
 "nbformat_minor": 0
}
